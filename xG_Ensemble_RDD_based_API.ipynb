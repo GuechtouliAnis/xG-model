{
 "cells": [
  {
   "cell_type": "markdown",
   "metadata": {},
   "source": [
    "### EXPORT CSV TO RDD"
   ]
  },
  {
   "cell_type": "code",
   "execution_count": 1,
   "metadata": {},
   "outputs": [
    {
     "name": "stderr",
     "output_type": "stream",
     "text": [
      "your 131072x1 screen size is bogus. expect trouble\n",
      "Setting default log level to \"WARN\".\n",
      "To adjust logging level use sc.setLogLevel(newLevel). For SparkR, use setLogLevel(newLevel).\n",
      "24/12/27 03:26:08 WARN NativeCodeLoader: Unable to load native-hadoop library for your platform... using builtin-java classes where applicable\n"
     ]
    }
   ],
   "source": [
    "from pyspark.sql import SparkSession\n",
    "from pyspark.ml.linalg import Vectors\n",
    "from pyspark.sql.functions import col\n",
    "\n",
    "spark = SparkSession.builder.appName(\"CSVToLibSVM\").getOrCreate()\n",
    "\n",
    "\n",
    "df = spark.read.csv(\"Datas/events_shot.csv\", header=True, inferSchema=True)"
   ]
  },
  {
   "cell_type": "code",
   "execution_count": 2,
   "metadata": {},
   "outputs": [],
   "source": [
    "features = ['other_pp','from_fk','from_ti','from_corner','from_counter','from_gk','from_keeper','from_ko',\n",
    "            'header','corner_type','fk_type','pk_type',\n",
    "            'half_volley_technique','volley_technique','lob_technique','overhead_technique','backheel_technique','diving_h_technique',\n",
    "            'distance_to_goal', 'shot_angle', 'preferred_foot_shot', 'under_pressure',\n",
    "            'shot_aerial_won','shot_first_time','shot_one_on_one','shot_open_goal','shot_follows_dribble','players_inside_area']\n",
    "target = ['goal']"
   ]
  },
  {
   "cell_type": "code",
   "execution_count": 4,
   "metadata": {},
   "outputs": [],
   "source": [
    "# Convert each row into LibSVM format\n",
    "def to_libsvm(row):\n",
    "    label = row['goal']  # replace with your target column name\n",
    "    feature_values = [f\"{i + 1}:{row[feature]}\" for i, feature in enumerate(features)]\n",
    "    return f\"{label} \" + \" \".join(feature_values)\n",
    "# Apply the transformation to each row\n",
    "rdd = df.rdd.map(to_libsvm)\n",
    "# Save the RDD as a text file\n",
    "rdd.saveAsTextFile(\"Datas/libsvm_format.txt\")\n",
    "spark.stop()"
   ]
  },
  {
   "cell_type": "markdown",
   "metadata": {},
   "source": [
    "### Ensembles RDD BASED API"
   ]
  },
  {
   "cell_type": "code",
   "execution_count": null,
   "metadata": {},
   "outputs": [
    {
     "name": "stderr",
     "output_type": "stream",
     "text": [
      "your 131072x1 screen size is bogus. expect trouble\n",
      "Setting default log level to \"WARN\".\n",
      "To adjust logging level use sc.setLogLevel(newLevel). For SparkR, use setLogLevel(newLevel).\n",
      "24/12/27 03:30:04 WARN NativeCodeLoader: Unable to load native-hadoop library for your platform... using builtin-java classes where applicable\n"
     ]
    }
   ],
   "source": [
    "from pyspark.mllib.tree import GradientBoostedTrees, GradientBoostedTreesModel\n",
    "from pyspark.mllib.util import MLUtils\n",
    "from pyspark.mllib.regression import LabeledPoint\n",
    "from pyspark import SparkContext\n",
    "\n",
    "sc = SparkContext(appName=\"EnsemblesRDDbasedAPI\")"
   ]
  },
  {
   "cell_type": "code",
   "execution_count": 2,
   "metadata": {},
   "outputs": [
    {
     "name": "stderr",
     "output_type": "stream",
     "text": [
      "                                                                                \r"
     ]
    },
    {
     "data": {
      "text/plain": [
       "[LabeledPoint(0.0, (28,[0,1,2,3,4,5,6,7,8,9,10,11,12,13,14,15,16,17,18,19,20,21,22,23,24,25,26,27],[0.0,0.0,0.0,0.0,0.0,0.0,0.0,0.0,0.0,0.0,0.0,0.0,0.0,0.0,0.0,0.0,0.0,0.0,13.0231,33.69006,0.0,0.0,0.0,1.0,0.0,0.0,0.0,1.0])),\n",
       " LabeledPoint(0.0, (28,[0,1,2,3,4,5,6,7,8,9,10,11,12,13,14,15,16,17,18,19,20,21,22,23,24,25,26,27],[0.0,0.0,0.0,1.0,0.0,0.0,0.0,0.0,1.0,0.0,0.0,0.0,0.0,0.0,0.0,0.0,0.0,0.0,14.6031,29.76365,0.0,0.0,0.0,0.0,0.0,0.0,0.0,3.0])),\n",
       " LabeledPoint(0.0, (28,[0,1,2,3,4,5,6,7,8,9,10,11,12,13,14,15,16,17,18,19,20,21,22,23,24,25,26,27],[0.0,0.0,0.0,0.0,0.0,0.0,0.0,0.0,1.0,0.0,0.0,0.0,0.0,0.0,0.0,0.0,0.0,0.0,12.4904,35.318363,0.0,1.0,1.0,0.0,0.0,0.0,0.0,1.0])),\n",
       " LabeledPoint(0.0, (28,[0,1,2,3,4,5,6,7,8,9,10,11,12,13,14,15,16,17,18,19,20,21,22,23,24,25,26,27],[0.0,0.0,0.0,0.0,0.0,0.0,0.0,0.0,0.0,0.0,0.0,0.0,0.0,0.0,0.0,0.0,0.0,0.0,23.8516,17.43129,0.0,0.0,0.0,0.0,0.0,0.0,0.0,1.0])),\n",
       " LabeledPoint(0.0, (28,[0,1,2,3,4,5,6,7,8,9,10,11,12,13,14,15,16,17,18,19,20,21,22,23,24,25,26,27],[0.0,0.0,0.0,1.0,0.0,0.0,0.0,0.0,0.0,0.0,0.0,0.0,0.0,1.0,0.0,0.0,0.0,0.0,12.6384,34.178513,1.0,0.0,0.0,1.0,0.0,0.0,0.0,4.0]))]"
      ]
     },
     "execution_count": 2,
     "metadata": {},
     "output_type": "execute_result"
    }
   ],
   "source": [
    "data = MLUtils.loadLibSVMFile(sc, \"Datas/libsvm_format.txt\")\n",
    "data.take(5)"
   ]
  },
  {
   "cell_type": "code",
   "execution_count": 3,
   "metadata": {},
   "outputs": [
    {
     "name": "stderr",
     "output_type": "stream",
     "text": [
      "24/12/27 03:30:36 WARN InstanceBuilder: Failed to load implementation from:dev.ludovic.netlib.blas.JNIBLAS\n",
      "                                                                                \r"
     ]
    }
   ],
   "source": [
    "(trainingData, testData) = data.randomSplit([0.7, 0.3])\n",
    "model = GradientBoostedTrees.trainClassifier(trainingData,\n",
    "                                                 categoricalFeaturesInfo={}, numIterations=3)\n",
    "predictions = model.predict(testData.map(lambda x: x.features))\n",
    "labelsAndPredictions = testData.map(lambda lp: lp.label).zip(predictions)\n",
    "testErr = labelsAndPredictions.filter(\n",
    "        lambda lp: lp[0] != lp[1]).count() / float(testData.count())"
   ]
  },
  {
   "cell_type": "code",
   "execution_count": 5,
   "metadata": {},
   "outputs": [
    {
     "name": "stdout",
     "output_type": "stream",
     "text": [
      "Test Error = 0.09370780448285174\n",
      "Accuracy = 0.9062921955171482\n",
      "Learned classification GBT model:\n",
      "TreeEnsembleModel classifier with 3 trees\n",
      "\n",
      "  Tree 0:\n",
      "    If (feature 19 <= 36.027372)\n",
      "     If (feature 18 <= 19.387999999999998)\n",
      "      If (feature 27 <= 1.5)\n",
      "       Predict: -0.6968841857730746\n",
      "      Else (feature 27 > 1.5)\n",
      "       Predict: -0.862046313023485\n",
      "     Else (feature 18 > 19.387999999999998)\n",
      "      If (feature 19 <= 16.4827815)\n",
      "       Predict: -0.9552639898830224\n",
      "      Else (feature 19 > 16.4827815)\n",
      "       Predict: -0.8974222694658517\n",
      "    Else (feature 19 > 36.027372)\n",
      "     If (feature 8 <= 0.5)\n",
      "      If (feature 27 <= 1.5)\n",
      "       Predict: 0.022598870056497175\n",
      "      Else (feature 27 > 1.5)\n",
      "       Predict: -0.6033210332103321\n",
      "     Else (feature 8 > 0.5)\n",
      "      If (feature 18 <= 5.86815)\n",
      "       Predict: -0.32098765432098764\n",
      "      Else (feature 18 > 5.86815)\n",
      "       Predict: -0.7677979076294973\n",
      "  Tree 1:\n",
      "    If (feature 25 <= 0.5)\n",
      "     If (feature 11 <= 0.5)\n",
      "      If (feature 19 <= 20.338100500000003)\n",
      "       Predict: -0.4157246865521472\n",
      "      Else (feature 19 > 20.338100500000003)\n",
      "       Predict: -0.23675261165608136\n",
      "     Else (feature 11 > 0.5)\n",
      "      If (feature 24 <= 0.5)\n",
      "       Predict: 1.1955665350666582\n",
      "      Else (feature 24 > 0.5)\n",
      "       Predict: -1.5485238781799127\n",
      "    Else (feature 25 > 0.5)\n",
      "     If (feature 18 <= 12.71715)\n",
      "      If (feature 22 <= 0.5)\n",
      "       Predict: 1.2253570227102932\n",
      "      Else (feature 22 > 0.5)\n",
      "       Predict: 0.11811949135450764\n",
      "     Else (feature 18 > 12.71715)\n",
      "      If (feature 23 <= 0.5)\n",
      "       Predict: 3.228067740289333\n",
      "      Else (feature 23 > 0.5)\n",
      "       Predict: 1.344543225634574\n",
      "  Tree 2:\n",
      "    If (feature 27 <= 0.5)\n",
      "     If (feature 19 <= 17.0212165)\n",
      "      If (feature 4 <= 0.5)\n",
      "       Predict: -0.2798265332346561\n",
      "      Else (feature 4 > 0.5)\n",
      "       Predict: 0.673756170031653\n",
      "     Else (feature 19 > 17.0212165)\n",
      "      If (feature 4 <= 0.5)\n",
      "       Predict: 0.7925249613410658\n",
      "      Else (feature 4 > 0.5)\n",
      "       Predict: 1.5333906150554342\n",
      "    Else (feature 27 > 0.5)\n",
      "     If (feature 11 <= 0.5)\n",
      "      If (feature 19 <= 18.153737)\n",
      "       Predict: -0.39691812028072015\n",
      "      Else (feature 19 > 18.153737)\n",
      "       Predict: -0.23501063409931647\n",
      "     Else (feature 11 > 0.5)\n",
      "      If (feature 24 <= 0.5)\n",
      "       Predict: 0.9592559241449946\n",
      "      Else (feature 24 > 0.5)\n",
      "       Predict: -1.2420780725805691\n",
      "\n"
     ]
    }
   ],
   "source": [
    "print('Test Error = ' + str(testErr))\n",
    "accuracy = 1 - testErr\n",
    "print('Accuracy = ' + str(accuracy))\n",
    "print('Learned classification GBT model:')\n",
    "print(model.toDebugString())"
   ]
  },
  {
   "cell_type": "code",
   "execution_count": 11,
   "metadata": {},
   "outputs": [
    {
     "name": "stderr",
     "output_type": "stream",
     "text": [
      "                                                                                \r"
     ]
    },
    {
     "name": "stdout",
     "output_type": "stream",
     "text": [
      "Test Error = 0.09435592762624899\n",
      "Accuracy = 0.905644072373751\n",
      "Learned classification forest model:\n",
      "TreeEnsembleModel classifier with 3 trees\n",
      "\n",
      "  Tree 0:\n",
      "    If (feature 18 <= 14.2925)\n",
      "     If (feature 0 <= 0.5)\n",
      "      If (feature 27 <= 0.5)\n",
      "       If (feature 25 <= 0.5)\n",
      "        Predict: 0.0\n",
      "       Else (feature 25 > 0.5)\n",
      "        Predict: 1.0\n",
      "      Else (feature 27 > 0.5)\n",
      "       Predict: 0.0\n",
      "     Else (feature 0 > 0.5)\n",
      "      If (feature 24 <= 0.5)\n",
      "       If (feature 21 <= 0.5)\n",
      "        Predict: 1.0\n",
      "       Else (feature 21 > 0.5)\n",
      "        Predict: 0.0\n",
      "      Else (feature 24 > 0.5)\n",
      "       Predict: 0.0\n",
      "    Else (feature 18 > 14.2925)\n",
      "     If (feature 26 <= 0.5)\n",
      "      Predict: 0.0\n",
      "     Else (feature 26 > 0.5)\n",
      "      If (feature 6 <= 0.5)\n",
      "       Predict: 0.0\n",
      "      Else (feature 6 > 0.5)\n",
      "       Predict: 1.0\n",
      "  Tree 1:\n",
      "    If (feature 19 <= 35.972570000000005)\n",
      "     If (feature 11 <= 0.5)\n",
      "      If (feature 27 <= 1.5)\n",
      "       If (feature 25 <= 0.5)\n",
      "        Predict: 0.0\n",
      "       Else (feature 25 > 0.5)\n",
      "        Predict: 1.0\n",
      "      Else (feature 27 > 1.5)\n",
      "       Predict: 0.0\n",
      "     Else (feature 11 > 0.5)\n",
      "      Predict: 1.0\n",
      "    Else (feature 19 > 35.972570000000005)\n",
      "     If (feature 20 <= 0.5)\n",
      "      If (feature 22 <= 0.5)\n",
      "       If (feature 25 <= 0.5)\n",
      "        Predict: 0.0\n",
      "       Else (feature 25 > 0.5)\n",
      "        Predict: 1.0\n",
      "      Else (feature 22 > 0.5)\n",
      "       Predict: 0.0\n",
      "     Else (feature 20 > 0.5)\n",
      "      If (feature 18 <= 11.48105)\n",
      "       If (feature 19 <= 51.87293)\n",
      "        Predict: 0.0\n",
      "       Else (feature 19 > 51.87293)\n",
      "        Predict: 1.0\n",
      "      Else (feature 18 > 11.48105)\n",
      "       If (feature 24 <= 0.5)\n",
      "        Predict: 1.0\n",
      "       Else (feature 24 > 0.5)\n",
      "        Predict: 0.0\n",
      "  Tree 2:\n",
      "    If (feature 27 <= 1.5)\n",
      "     If (feature 19 <= 35.972570000000005)\n",
      "      Predict: 0.0\n",
      "     Else (feature 19 > 35.972570000000005)\n",
      "      If (feature 22 <= 0.5)\n",
      "       If (feature 19 <= 60.5796285)\n",
      "        Predict: 0.0\n",
      "       Else (feature 19 > 60.5796285)\n",
      "        Predict: 1.0\n",
      "      Else (feature 22 > 0.5)\n",
      "       Predict: 0.0\n",
      "    Else (feature 27 > 1.5)\n",
      "     If (feature 4 <= 0.5)\n",
      "      Predict: 0.0\n",
      "     Else (feature 4 > 0.5)\n",
      "      If (feature 20 <= 0.5)\n",
      "       Predict: 0.0\n",
      "      Else (feature 20 > 0.5)\n",
      "       If (feature 18 <= 9.9707)\n",
      "        Predict: 1.0\n",
      "       Else (feature 18 > 9.9707)\n",
      "        Predict: 0.0\n",
      "\n"
     ]
    }
   ],
   "source": [
    "from pyspark.mllib.tree import RandomForest, RandomForestModel\n",
    "\n",
    "model = RandomForest.trainClassifier(trainingData, numClasses=2, categoricalFeaturesInfo={},\n",
    "                                     numTrees=3, featureSubsetStrategy=\"auto\",\n",
    "                                     impurity='gini', maxDepth=4, maxBins=32)\n",
    "\n",
    "# Evaluate model on test instances and compute test error\n",
    "predictions = model.predict(testData.map(lambda x: x.features))\n",
    "labelsAndPredictions = testData.map(lambda lp: lp.label).zip(predictions)\n",
    "testErr = labelsAndPredictions.filter(\n",
    "    lambda lp: lp[0] != lp[1]).count() / float(testData.count())\n",
    "print('Test Error = ' + str(testErr))\n",
    "accuracy = 1 - testErr\n",
    "print('Accuracy = ' + str(accuracy))\n",
    "print('Learned classification forest model:')\n",
    "print(model.toDebugString())"
   ]
  },
  {
   "cell_type": "code",
   "execution_count": null,
   "metadata": {},
   "outputs": [],
   "source": []
  }
 ],
 "metadata": {
  "kernelspec": {
   "display_name": "myenv",
   "language": "python",
   "name": "python3"
  },
  "language_info": {
   "codemirror_mode": {
    "name": "ipython",
    "version": 3
   },
   "file_extension": ".py",
   "mimetype": "text/x-python",
   "name": "python",
   "nbconvert_exporter": "python",
   "pygments_lexer": "ipython3",
   "version": "3.12.3"
  }
 },
 "nbformat": 4,
 "nbformat_minor": 2
}
