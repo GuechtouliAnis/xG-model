{
 "cells": [
  {
   "cell_type": "code",
   "execution_count": null,
   "metadata": {},
   "outputs": [],
   "source": [
    "from pyspark.sql import SparkSession"
   ]
  },
  {
   "cell_type": "code",
   "execution_count": null,
   "metadata": {},
   "outputs": [],
   "source": [
    "import matplotlib.pyplot as plt"
   ]
  },
  {
   "cell_type": "code",
   "execution_count": 5,
   "metadata": {},
   "outputs": [],
   "source": [
    "features = ['header','shotType_OtherBodyPart','situation_DirectFreekick','situation_FromCorner',\n",
    "            'situation_OpenPlay','situation_Penalty','situation_SetPiece','distance_to_goal','shot_angle','preferred_foot_shot']"
   ]
  },
  {
   "cell_type": "code",
   "execution_count": null,
   "metadata": {},
   "outputs": [],
   "source": [
    "spark = SparkSession.builder.appName(\"features\").getOrCreate()"
   ]
  },
  {
   "cell_type": "code",
   "execution_count": 6,
   "metadata": {},
   "outputs": [],
   "source": [
    "# using these features train a logistic regression model\n",
    "from xG_training import ModelTrainer\n",
    "import xG_preprocessing as xG_pre"
   ]
  },
  {
   "cell_type": "code",
   "execution_count": null,
   "metadata": {},
   "outputs": [],
   "source": [
    "hdfs_path = \"hdfs://localhost:9000/big-data/shot_data.csv\"\n",
    "\n",
    "# Load the CSV file into a DataFrame\n",
    "dfs = spark.read.csv(hdfs_path, header=True, inferSchema=True)"
   ]
  },
  {
   "cell_type": "code",
   "execution_count": 7,
   "metadata": {},
   "outputs": [],
   "source": [
    "train_data, test_data = xG_pre.pre_training(dfs, features,0.7)\n",
    "log_reg = ModelTrainer(train_data,test_data,max_iter=100)"
   ]
  },
  {
   "cell_type": "code",
   "execution_count": 9,
   "metadata": {},
   "outputs": [],
   "source": [
    "from xG_evaluation import ModelEvaluation\n",
    "from pyspark.sql.functions import col, when "
   ]
  },
  {
   "cell_type": "code",
   "execution_count": 10,
   "metadata": {},
   "outputs": [
    {
     "name": "stderr",
     "output_type": "stream",
     "text": [
      "                                                                                \r"
     ]
    }
   ],
   "source": [
    "predictions = log_reg.predictions \n",
    "predictions = xG_pre.goal_proba(predictions)\n",
    "predictions = predictions.withColumn('sb_prediction', when(col('xG') >= 0.5, 1).otherwise(0))\n",
    "me = ModelEvaluation(predictions,'goal','prediction')\n",
    "me_sb = ModelEvaluation(predictions,'sb_prediction','prediction')\n",
    "me_r = ModelEvaluation(predictions,'xG','goal_probability',model_type='regression')"
   ]
  },
  {
   "cell_type": "code",
   "execution_count": null,
   "metadata": {},
   "outputs": [
    {
     "name": "stdout",
     "output_type": "stream",
     "text": [
      "0.0\n",
      "0.2\n",
      "0.4\n",
      "0.8\n"
     ]
    }
   ],
   "source": [
    "precision = []\n",
    "recall = []\n",
    "for threshold in thresholds:\n",
    "    if threshold % 0.1 == 0:\n",
    "        print(threshold)\n",
    "    df_pr = predictions.withColumn(\"predicted\",\n",
    "                                   when(col(\"goal_probability\")>=lit(threshold),\n",
    "                                        lit(1)).otherwise(lit(0)))\n",
    "    TP = df_pr.filter((col('predicted')==1)& (col(\"sb_prediction\")==1)).count()\n",
    "    FP = df_pr.filter((col('predicted')==1)& (col(\"sb_prediction\")==0)).count()\n",
    "    FN = df_pr.filter((col('predicted')==0)& (col(\"sb_prediction\")==1)).count()\n",
    "\n",
    "    prec = TP / (TP + FP) if (TP + FP) > 0 else 0\n",
    "    rec  = TP / (TP + FN) if (TP + FN) > 0 else 0\n",
    "    \n",
    "    precision.append(prec)\n",
    "    recall.append(rec)"
   ]
  },
  {
   "cell_type": "code",
   "execution_count": 99,
   "metadata": {},
   "outputs": [
    {
     "data": {
      "image/png": "[encoded data removed]",
      "text/plain": [
       "<Figure size 640x480 with 1 Axes>"
      ]
     },
     "metadata": {},
     "output_type": "display_data"
    }
   ],
   "source": [
    "plt.fill_between(recall,precision, step='post',alpha=0.4,color='blue',label='PR curve')\n",
    "plt.xlim(0,1.1)\n",
    "plt.ylim(0,1.1)\n",
    "plt.xlabel(\"Recall\")\n",
    "plt.ylabel(\"Precision\")\n",
    "plt.title(\"Precision-Recall Curve\")\n",
    "plt.legend()\n",
    "plt.show()"
   ]
  },
  {
   "cell_type": "code",
   "execution_count": 100,
   "metadata": {},
   "outputs": [
    {
     "data": {
      "text/plain": [
       "{'Accuracy': 90.11,\n",
       " 'Precision': 67.69,\n",
       " 'Recall': 19.87,\n",
       " 'Sensitivity': 19.87,\n",
       " 'Specificity': 98.82,\n",
       " 'F1': 30.72,\n",
       " 'FPR': 1.18,\n",
       " 'FNR': 80.13}"
      ]
     },
     "execution_count": 100,
     "metadata": {},
     "output_type": "execute_result"
    }
   ],
   "source": [
    "me.get_all_metrics()"
   ]
  },
  {
   "cell_type": "code",
   "execution_count": 101,
   "metadata": {},
   "outputs": [
    {
     "data": {
      "text/plain": [
       "{'Accuracy': 97.42,\n",
       " 'Precision': 92.15,\n",
       " 'Recall': 56.14,\n",
       " 'Sensitivity': 56.14,\n",
       " 'Specificity': 99.73,\n",
       " 'F1': 69.78,\n",
       " 'FPR': 0.27,\n",
       " 'FNR': 43.86}"
      ]
     },
     "execution_count": 101,
     "metadata": {},
     "output_type": "execute_result"
    }
   ],
   "source": [
    "me_sb.get_all_metrics()"
   ]
  },
  {
   "cell_type": "code",
   "execution_count": 102,
   "metadata": {},
   "outputs": [
    {
     "data": {
      "text/plain": [
       "{'MSE': 0.00771, 'RMSE': 0.0878, 'MAE': 0.04849, 'R2': 71.59}"
      ]
     },
     "execution_count": 102,
     "metadata": {},
     "output_type": "execute_result"
    }
   ],
   "source": [
    "me_r.get_all_metrics()"
   ]
  }
 ],
 "metadata": {
  "kernelspec": {
   "display_name": "myenv",
   "language": "python",
   "name": "python3"
  },
  "language_info": {
   "codemirror_mode": {
    "name": "ipython",
    "version": 3
   },
   "file_extension": ".py",
   "mimetype": "text/x-python",
   "name": "python",
   "nbconvert_exporter": "python",
   "pygments_lexer": "ipython3",
   "version": "3.12.3"
  }
 },
 "nbformat": 4,
 "nbformat_minor": 2
}
