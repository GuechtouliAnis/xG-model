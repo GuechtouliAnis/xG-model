{
 "cells": [
  {
   "cell_type": "code",
   "execution_count": 5,
   "metadata": {},
   "outputs": [],
   "source": [
    "import pandas as pd\n",
    "import ast\n",
    "from pyspark.sql import SparkSession"
   ]
  },
  {
   "cell_type": "code",
   "execution_count": 15,
   "metadata": {},
   "outputs": [],
   "source": [
    "from pyspark.sql.functions import col, regexp_extract,round, sqrt, pow, lit"
   ]
  },
  {
   "cell_type": "code",
   "execution_count": 6,
   "metadata": {},
   "outputs": [
    {
     "name": "stderr",
     "output_type": "stream",
     "text": [
      "your 131072x1 screen size is bogus. expect trouble\n",
      "Setting default log level to \"WARN\".\n",
      "To adjust logging level use sc.setLogLevel(newLevel). For SparkR, use setLogLevel(newLevel).\n",
      "24/12/21 01:43:45 WARN NativeCodeLoader: Unable to load native-hadoop library for your platform... using builtin-java classes where applicable\n"
     ]
    }
   ],
   "source": [
    "spark = SparkSession.builder.appName('export_sff').getOrCreate()"
   ]
  },
  {
   "cell_type": "code",
   "execution_count": 7,
   "metadata": {},
   "outputs": [
    {
     "name": "stderr",
     "output_type": "stream",
     "text": [
      "                                                                                \r"
     ]
    }
   ],
   "source": [
    "events = spark.read.csv('Data/events.csv',header=True,inferSchema=True,sep=';')"
   ]
  },
  {
   "cell_type": "code",
   "execution_count": 36,
   "metadata": {},
   "outputs": [],
   "source": [
    "events_df = events.filter(events.type=='Shot')"
   ]
  },
  {
   "cell_type": "code",
   "execution_count": 37,
   "metadata": {},
   "outputs": [],
   "source": [
    "def split_location(df):\n",
    "    df_l = df.withColumn(\"shot_location_x\", regexp_extract(col(\"location\"), r'\\[(.*?),', 1).cast(\"float\")) \\\n",
    "             .withColumn(\"shot_location_y\", regexp_extract(col(\"location\"), r', (.*?)\\]', 1).cast(\"float\")).drop('location')\n",
    "    return df_l"
   ]
  },
  {
   "cell_type": "code",
   "execution_count": 38,
   "metadata": {},
   "outputs": [],
   "source": [
    "events_df = split_location(events_df)"
   ]
  },
  {
   "cell_type": "code",
   "execution_count": null,
   "metadata": {},
   "outputs": [
    {
     "name": "stdout",
     "output_type": "stream",
     "text": [
      "+---------------+---------------+----------+\n",
      "|shot_location_x|shot_location_y|shot_angle|\n",
      "+---------------+---------------+----------+\n",
      "|          105.6|           44.0| 29.054602|\n",
      "|           98.6|           25.2| 14.520617|\n",
      "|          105.5|           47.3| 25.108313|\n",
      "|          113.4|           38.7| 61.014557|\n",
      "|          106.2|           36.8| 30.870586|\n",
      "|          108.3|           39.0| 37.520866|\n",
      "|           85.6|           34.4|  12.92981|\n",
      "|          112.5|           42.5| 52.224316|\n",
      "|          106.1|           32.5| 25.469059|\n",
      "|           83.5|           48.0| 11.945132|\n",
      "|          108.1|           39.3|  37.05121|\n",
      "|          105.5|           57.6| 12.961155|\n",
      "|          110.9|           25.6| 14.870527|\n",
      "|           98.9|           24.9| 14.404465|\n",
      "|          114.8|           44.1|  56.19886|\n",
      "|          107.2|           35.0| 30.644846|\n",
      "|          107.5|           24.9| 15.192171|\n",
      "|           88.5|           38.1| 14.422748|\n",
      "|          109.6|           41.5| 41.388515|\n",
      "|           94.8|           24.9| 13.387468|\n",
      "+---------------+---------------+----------+\n",
      "only showing top 20 rows\n",
      "\n"
     ]
    }
   ],
   "source": [
    "import math\n",
    "from pyspark.sql.functions import udf\n",
    "from pyspark.sql.types import FloatType\n",
    "\n",
    "# Define the goalpost coordinates\n",
    "goal_x1, goal_y1 = 120, 36  # Left post\n",
    "goal_x2, goal_y2 = 120, 44  # Right post\n",
    "\n",
    "# Function to calculate the angle\n",
    "def calculate_shot_angle(shot_x, shot_y):\n",
    "    # Vectors to the posts\n",
    "    u_x, u_y = goal_x1 - shot_x, goal_y1 - shot_y\n",
    "    v_x, v_y = goal_x2 - shot_x, goal_y2 - shot_y\n",
    "    \n",
    "    # Dot product and magnitudes\n",
    "    dot_product = u_x * v_x + u_y * v_y\n",
    "    magnitude_u = math.sqrt(u_x**2 + u_y**2)\n",
    "    magnitude_v = math.sqrt(v_x**2 + v_y**2)\n",
    "    \n",
    "    # Avoid division by zero\n",
    "    if magnitude_u == 0 or magnitude_v == 0:\n",
    "        return 0.0\n",
    "    \n",
    "    # Calculate angle in radians\n",
    "    angle_radians = math.acos(dot_product / (magnitude_u * magnitude_v))\n",
    "    \n",
    "    # Convert to degrees if needed (optional)\n",
    "    angle_degrees = math.degrees(angle_radians)\n",
    "    return angle_degrees\n",
    "\n",
    "# Register the function as a UDF\n",
    "calculate_shot_angle_udf = udf(calculate_shot_angle, FloatType())\n",
    "\n",
    "# Apply the UDF to your PySpark DataFrame\n",
    "# Assuming 'location_x' and 'location_y' are the column names for shot coordinates\n",
    "events_df = events_df.withColumn(\n",
    "    \"shot_angle\",\n",
    "    calculate_shot_angle_udf(events_df[\"shot_location_x\"], events_df[\"shot_location_y\"])\n",
    ")\n",
    "\n",
    "# Show the result\n",
    "events_df.select(\"shot_location_x\", \"shot_location_y\", \"shot_angle\").show()\n"
   ]
  },
  {
   "cell_type": "code",
   "execution_count": 33,
   "metadata": {},
   "outputs": [
    {
     "name": "stderr",
     "output_type": "stream",
     "text": [
      "                                                                                \r"
     ]
    },
    {
     "name": "stdout",
     "output_type": "stream",
     "text": [
      "+-----+--------------------+------------------------------+------------------+--------------------+------------+--------------+---------------+---------------+------------+---------+--------+------------------------+-------------------+------------------+------------------+--------------------+-----------------------+------------------+-------------------+--------------------+---------------+--------------------+-----+--------------------+--------+------+---------------+----------+---------------------+-------------+--------------+----------+-------------+--------------+-----------------+----------------+-----------+-----------+------------+--------------+-----------------+----------------+-----------+---------+------+--------------+--------------------+---------+--------------------+----------+---------------+------------------+--------------------+------+---------------+--------------+------------------+---------------+--------------------+----------------+---------------+------------+-----------------+--------------+---------+--------------------+-----------------------+------------------------+---------------------------+-------+--------------+-------+--------------------+----+--------------+--------------------+---------+---------------+------------------------+-------------------+------------------------+---------------------+--------------+-----------------+----------------+-----------------------+----------------------+----------------+--------------+-------------+------------------+----------------+--------------+---------------------+-------------------+--------------+-------------------+--------------------+----------------------+----------+----+---------------+----------------+-------------+-----------------------------+-------------+------------------+--------------------------+---------------+--------------------+--------------------------------+---------------------+--------------------+----------------+-------------------+---------------------------+-----------------------+--------------------------------+------------------------+----------------------+---------------+---------------+----------+\n",
      "|50_50|ball_receipt_outcome|ball_recovery_recovery_failure|carry_end_location|clearance_aerial_won|counterpress|dribble_nutmeg|dribble_outcome|dribble_overrun|duel_outcome|duel_type|duration|foul_committed_advantage|foul_committed_card|foul_won_advantage|foul_won_defensive|goalkeeper_body_part|goalkeeper_end_location|goalkeeper_outcome|goalkeeper_position|goalkeeper_technique|goalkeeper_type|                  id|index|interception_outcome|match_id|minute|pass_aerial_won|pass_angle|pass_assisted_shot_id|pass_backheel|pass_body_part|pass_cross|pass_cut_back|pass_deflected|pass_end_location|pass_goal_assist|pass_height|pass_length|pass_outcome|pass_recipient|pass_recipient_id|pass_shot_assist|pass_switch|pass_type|period|  play_pattern|              player|player_id|            position|possession|possession_team|possession_team_id|      related_events|second|shot_aerial_won|shot_body_part| shot_end_location|shot_first_time|   shot_freeze_frame|shot_key_pass_id|shot_one_on_one|shot_outcome|shot_statsbomb_xg|shot_technique|shot_type|substitution_outcome|substitution_outcome_id|substitution_replacement|substitution_replacement_id|tactics|          team|team_id|           timestamp|type|under_pressure|         competition|   season|block_offensive|foul_committed_offensive|foul_committed_type|injury_stoppage_in_chain|pass_miscommunication|pass_technique|pass_through_ball|block_deflection|ball_recovery_offensive|foul_committed_penalty|foul_won_penalty|shot_open_goal|shot_redirect|bad_behaviour_card|block_save_block|shot_deflected|miscontrol_aerial_won|clearance_body_part|clearance_head|clearance_left_foot|clearance_right_foot|goalkeeper_punched_out|off_camera| out|pass_inswinging|pass_outswinging|pass_straight|goalkeeper_shot_saved_to_post|pass_no_touch|shot_saved_to_post|goalkeeper_success_in_play|clearance_other|player_off_permanent|goalkeeper_shot_saved_off_target|shot_saved_off_target|shot_follows_dribble|dribble_no_touch|goalkeeper_lost_out|half_start_late_video_start|goalkeeper_lost_in_play|goalkeeper_penalty_saved_to_post|goalkeeper_saved_to_post|goalkeeper_success_out|shot_location_x|shot_location_y|shot_angle|\n",
      "+-----+--------------------+------------------------------+------------------+--------------------+------------+--------------+---------------+---------------+------------+---------+--------+------------------------+-------------------+------------------+------------------+--------------------+-----------------------+------------------+-------------------+--------------------+---------------+--------------------+-----+--------------------+--------+------+---------------+----------+---------------------+-------------+--------------+----------+-------------+--------------+-----------------+----------------+-----------+-----------+------------+--------------+-----------------+----------------+-----------+---------+------+--------------+--------------------+---------+--------------------+----------+---------------+------------------+--------------------+------+---------------+--------------+------------------+---------------+--------------------+----------------+---------------+------------+-----------------+--------------+---------+--------------------+-----------------------+------------------------+---------------------------+-------+--------------+-------+--------------------+----+--------------+--------------------+---------+---------------+------------------------+-------------------+------------------------+---------------------+--------------+-----------------+----------------+-----------------------+----------------------+----------------+--------------+-------------+------------------+----------------+--------------+---------------------+-------------------+--------------+-------------------+--------------------+----------------------+----------+----+---------------+----------------+-------------+-----------------------------+-------------+------------------+--------------------------+---------------+--------------------+--------------------------------+---------------------+--------------------+----------------+-------------------+---------------------------+-----------------------+--------------------------------+------------------------+----------------------+---------------+---------------+----------+\n",
      "| NULL|                NULL|                          NULL|              NULL|                NULL|        NULL|          NULL|           NULL|           NULL|        NULL|     NULL|0.194749|                    NULL|               NULL|              NULL|              NULL|                NULL|                   NULL|              NULL|               NULL|                NULL|           NULL|2dc995f5-b844-4cb...|  967|                NULL|  265952|    20|           NULL|      NULL|                 NULL|         NULL|          NULL|      NULL|         NULL|          NULL|             NULL|            NULL|       NULL|       NULL|        NULL|          NULL|             NULL|            NULL|       NULL|     NULL|     1| From Throw In|Carlos Castro García|  24173.0|      Center Forward|        35| Sporting Gijón|              1041|['72a3e8f6-a6c4-4...|    55|           NULL|    Right Foot|[120.0, 40.1, 0.9]|           true|[{'location': [12...|            NULL|           NULL|        Goal|        0.9419886|        Normal|Open Play|                NULL|                   NULL|                    NULL|                       NULL|   NULL|Sporting Gijón|   1041|2024-12-21 00:20:...|Shot|          NULL|     Spain - La Liga|2016/2017|           NULL|                    NULL|               NULL|                    NULL|                 NULL|          NULL|             NULL|            NULL|                   NULL|                  NULL|            NULL|          true|         NULL|              NULL|            NULL|          NULL|                 NULL|               NULL|          NULL|               NULL|                NULL|                  NULL|      NULL|NULL|           NULL|            NULL|         NULL|                         NULL|         NULL|              NULL|                      NULL|           NULL|                NULL|                            NULL|                 NULL|                NULL|            NULL|               NULL|                       NULL|                   NULL|                            NULL|                    NULL|                  NULL|          120.0|           39.6|     180.0|\n",
      "| NULL|                NULL|                          NULL|              NULL|                NULL|        NULL|          NULL|           NULL|           NULL|        NULL|     NULL|0.459405|                    NULL|               NULL|              NULL|              NULL|                NULL|                   NULL|              NULL|               NULL|                NULL|           NULL|6427ac6c-886a-486...| 2810|                NULL| 3879799|    74|           NULL|      NULL|                 NULL|         NULL|          NULL|      NULL|         NULL|          NULL|             NULL|            NULL|       NULL|       NULL|        NULL|          NULL|             NULL|            NULL|       NULL|     NULL|     2|   From Corner|        Marco Parolo|   8173.0|Left Center Midfield|       153|          Lazio|               236|['797df2a2-91f4-4...|    19|           NULL|    Right Foot|[120.0, 37.2, 0.3]|           NULL|[{'location': [11...|            NULL|           true|        Goal|        0.9545831|   Half Volley|Open Play|                NULL|                   NULL|                    NULL|                       NULL|   NULL|         Lazio|    236|2024-12-21 00:29:...|Shot|          NULL|     Italy - Serie A|2015/2016|           NULL|                    NULL|               NULL|                    NULL|                 NULL|          NULL|             NULL|            NULL|                   NULL|                  NULL|            NULL|          true|         true|              NULL|            NULL|          NULL|                 NULL|               NULL|          NULL|               NULL|                NULL|                  NULL|      NULL|NULL|           NULL|            NULL|         NULL|                         NULL|         NULL|              NULL|                      NULL|           NULL|                NULL|                            NULL|                 NULL|                NULL|            NULL|               NULL|                       NULL|                   NULL|                            NULL|                    NULL|                  NULL|          120.0|           37.8|     180.0|\n",
      "| NULL|                NULL|                          NULL|              NULL|                NULL|        NULL|          NULL|           NULL|           NULL|        NULL|     NULL|  0.3009|                    NULL|               NULL|              NULL|              NULL|                NULL|                   NULL|              NULL|               NULL|                NULL|           NULL|a3afe8cc-4926-41a...| 2996|                NULL|  266254|    74|           NULL|      NULL|                 NULL|         NULL|          NULL|      NULL|         NULL|          NULL|             NULL|            NULL|       NULL|       NULL|        NULL|          NULL|             NULL|            NULL|       NULL|     NULL|     2|From Free Kick|Luis Alberto Suár...|   5246.0|      Center Forward|       146|      Barcelona|               217|['8c067355-5afa-4...|    31|           NULL|    Right Foot|[120.0, 43.3, 0.6]|           true|[{'location': [11...|            NULL|           NULL|        Goal|        0.9135266|        Normal|Open Play|                NULL|                   NULL|                    NULL|                       NULL|   NULL|     Barcelona|    217|2024-12-21 00:29:...|Shot|          NULL|     Spain - La Liga|2015/2016|           NULL|                    NULL|               NULL|                    NULL|                 NULL|          NULL|             NULL|            NULL|                   NULL|                  NULL|            NULL|          true|         NULL|              NULL|            NULL|          NULL|                 NULL|               NULL|          NULL|               NULL|                NULL|                  NULL|      NULL|NULL|           NULL|            NULL|         NULL|                         NULL|         NULL|              NULL|                      NULL|           NULL|                NULL|                            NULL|                 NULL|                NULL|            NULL|               NULL|                       NULL|                   NULL|                            NULL|                    NULL|                  NULL|          120.0|           43.7|     180.0|\n",
      "| NULL|                NULL|                          NULL|              NULL|                NULL|        NULL|          NULL|           NULL|           NULL|        NULL|     NULL|0.208169|                    NULL|               NULL|              NULL|              NULL|                NULL|                   NULL|              NULL|               NULL|                NULL|           NULL|70f9910d-20bf-4d4...| 2160|                NULL| 3825580|    57|           NULL|      NULL|                 NULL|         NULL|          NULL|      NULL|         NULL|          NULL|             NULL|            NULL|       NULL|       NULL|        NULL|          NULL|             NULL|            NULL|       NULL|     NULL|     2|  Regular Play|Víctor Camarasa F...|   6659.0|Right Center Midf...|       135|     Levante UD|               221|['0eee64b5-1860-4...|    38|           NULL|          Head|[120.0, 41.6, 2.0]|           NULL|\"[{'location': [1...|            NULL|           true|        Goal|        0.9404422|        Normal|Open Play|                NULL|                   NULL|                    NULL|                       NULL|   NULL|    Levante UD|    221|2024-12-21 00:12:...|Shot|          NULL|     Spain - La Liga|2015/2016|           NULL|                    NULL|               NULL|                    NULL|                 NULL|          NULL|             NULL|            NULL|                   NULL|                  NULL|            NULL|          true|         NULL|              NULL|            NULL|          NULL|                 NULL|               NULL|          NULL|               NULL|                NULL|                  NULL|      NULL|NULL|           NULL|            NULL|         NULL|                         NULL|         NULL|              NULL|                      NULL|           NULL|                NULL|                            NULL|                 NULL|                NULL|            NULL|               NULL|                       NULL|                   NULL|                            NULL|                    NULL|                  NULL|          120.0|           42.0|     180.0|\n",
      "| NULL|                NULL|                          NULL|              NULL|                NULL|        NULL|          NULL|           NULL|           NULL|        NULL|     NULL|0.348792|                    NULL|               NULL|              NULL|              NULL|                NULL|                   NULL|              NULL|               NULL|                NULL|           NULL|ebddeff4-f85d-4d9...|  102|                NULL| 3825763|     2|           NULL|      NULL|                 NULL|         NULL|          NULL|      NULL|         NULL|          NULL|             NULL|            NULL|       NULL|       NULL|        NULL|          NULL|             NULL|            NULL|       NULL|     NULL|     1|  From Counter|Nicolás Ladislao ...|  26685.0|      Center Forward|         8| Rayo Vallecano|               360|['1d629d0a-c41f-4...|     6|           NULL|    Right Foot|[120.0, 42.6, 0.7]|           true|[{'location': [11...|            NULL|           NULL|        Goal|       0.80918306|        Normal|Open Play|                NULL|                   NULL|                    NULL|                       NULL|   NULL|Rayo Vallecano|    360|2024-12-21 00:02:...|Shot|          NULL|     Spain - La Liga|2015/2016|           NULL|                    NULL|               NULL|                    NULL|                 NULL|          NULL|             NULL|            NULL|                   NULL|                  NULL|            NULL|          true|         NULL|              NULL|            NULL|          NULL|                 NULL|               NULL|          NULL|               NULL|                NULL|                  NULL|      NULL|NULL|           NULL|            NULL|         NULL|                         NULL|         NULL|              NULL|                      NULL|           NULL|                NULL|                            NULL|                 NULL|                NULL|            NULL|               NULL|                       NULL|                   NULL|                            NULL|                    NULL|                  NULL|          119.7|           42.0| 168.60672|\n",
      "| NULL|                NULL|                          NULL|              NULL|                NULL|        NULL|          NULL|           NULL|           NULL|        NULL|     NULL|0.121577|                    NULL|               NULL|              NULL|              NULL|                NULL|                   NULL|              NULL|               NULL|                NULL|           NULL|76625652-66a7-4a0...| 3150|                NULL| 3890557|    87|           NULL|      NULL|                 NULL|         NULL|          NULL|      NULL|         NULL|          NULL|             NULL|            NULL|       NULL|       NULL|        NULL|          NULL|             NULL|            NULL|       NULL|     NULL|     2|From Free Kick|Papiss Mison Djil...|   3774.0|    Left Center Back|       173|  Werder Bremen|               176|['0c10b344-1913-4...|    17|           NULL|     Left Foot|[120.0, 38.6, 0.5]|           NULL|[{'location': [11...|            NULL|           true|        Goal|        0.9007284|   Half Volley|Open Play|                NULL|                   NULL|                    NULL|                       NULL|   NULL| Werder Bremen|    176|2024-12-21 00:42:...|Shot|          true|Germany - 1. Bund...|2015/2016|           NULL|                    NULL|               NULL|                    NULL|                 NULL|          NULL|             NULL|            NULL|                   NULL|                  NULL|            NULL|          true|         true|              NULL|            NULL|          NULL|                 NULL|               NULL|          NULL|               NULL|                NULL|                  NULL|      NULL|NULL|           NULL|            NULL|         NULL|                         NULL|         NULL|              NULL|                      NULL|           NULL|                NULL|                            NULL|                 NULL|                NULL|            NULL|               NULL|                       NULL|                   NULL|                            NULL|                    NULL|                  NULL|          119.5|           39.2| 165.17249|\n",
      "| NULL|                NULL|                          NULL|              NULL|                NULL|        NULL|          NULL|           NULL|           NULL|        NULL|     NULL|0.404405|                    NULL|               NULL|              NULL|              NULL|                NULL|                   NULL|              NULL|               NULL|                NULL|           NULL|2dc4e3be-cd0e-4ad...| 1054|                NULL| 3825668|    26|           NULL|      NULL|                 NULL|         NULL|          NULL|      NULL|         NULL|          NULL|             NULL|            NULL|       NULL|       NULL|        NULL|          NULL|             NULL|            NULL|       NULL|     NULL|     1|From Free Kick|      Zouhair Feddal|   6647.0|    Left Center Back|        45|     Levante UD|               221|['64519c20-75ed-4...|     7|           NULL|    Right Foot|[120.0, 40.3, 0.5]|           true|[{'location': [10...|            NULL|           NULL|        Goal|        0.9432617|   Half Volley|Open Play|                NULL|                   NULL|                    NULL|                       NULL|   NULL|    Levante UD|    221|2024-12-21 00:26:...|Shot|          NULL|     Spain - La Liga|2015/2016|           NULL|                    NULL|               NULL|                    NULL|                 NULL|          NULL|             NULL|            NULL|                   NULL|                  NULL|            NULL|          true|         NULL|              NULL|            NULL|          NULL|                 NULL|               NULL|          NULL|               NULL|                NULL|                  NULL|      NULL|NULL|           NULL|            NULL|         NULL|                         NULL|         NULL|              NULL|                      NULL|           NULL|                NULL|                            NULL|                 NULL|                NULL|            NULL|               NULL|                       NULL|                   NULL|                            NULL|                    NULL|                  NULL|          119.4|           40.2| 162.89731|\n",
      "| NULL|                NULL|                          NULL|              NULL|                NULL|        NULL|          NULL|           NULL|           NULL|        NULL|     NULL|0.398123|                    NULL|               NULL|              NULL|              NULL|                NULL|                   NULL|              NULL|               NULL|                NULL|           NULL|40f4b29b-c3ec-4fe...| 2910|                NULL| 3879838|    77|           NULL|      NULL|                 NULL|         NULL|          NULL|      NULL|         NULL|          NULL|             NULL|            NULL|       NULL|       NULL|        NULL|          NULL|             NULL|            NULL|       NULL|     NULL|     2|From Free Kick|Lorenzo De Silvestri|   7473.0|     Right Wing Back|       150|      Sampdoria|               234|['853c54c4-39fe-4...|    19|           NULL|    Right Foot|[120.0, 38.2, 0.5]|           true|[{'location': [11...|            NULL|           NULL|        Goal|        0.5440158|   Half Volley|Open Play|                NULL|                   NULL|                    NULL|                       NULL|   NULL|     Sampdoria|    234|2024-12-21 00:32:...|Shot|          true|     Italy - Serie A|2015/2016|           NULL|                    NULL|               NULL|                    NULL|                 NULL|          NULL|             NULL|            NULL|                   NULL|                  NULL|            NULL|          NULL|         NULL|              NULL|            NULL|          NULL|                 NULL|               NULL|          NULL|               NULL|                NULL|                  NULL|      NULL|NULL|           NULL|            NULL|         NULL|                         NULL|         NULL|              NULL|                      NULL|           NULL|                NULL|                            NULL|                 NULL|                NULL|            NULL|               NULL|                       NULL|                   NULL|                            NULL|                    NULL|                  NULL|          119.4|           38.7| 161.01242|\n",
      "| NULL|                NULL|                          NULL|              NULL|                NULL|        NULL|          NULL|           NULL|           NULL|        NULL|     NULL|0.218959|                    NULL|               NULL|              NULL|              NULL|                NULL|                   NULL|              NULL|               NULL|                NULL|           NULL|f79cf1f4-5834-448...| 3351|                NULL|  266406|    81|           NULL|      NULL|                 NULL|         NULL|          NULL|      NULL|         NULL|          NULL|             NULL|            NULL|       NULL|       NULL|        NULL|          NULL|             NULL|            NULL|       NULL|     NULL|     2|  Regular Play|Sandro Ramírez Ca...|   3508.0|          Right Wing|       147|      Barcelona|               217|['5405a360-005e-4...|    43|           NULL|     Left Foot|[120.0, 40.0, 0.4]|           true|[{'location': [11...|            NULL|           NULL|        Goal|       0.94022244|        Normal|Open Play|                NULL|                   NULL|                    NULL|                       NULL|   NULL|     Barcelona|    217|2024-12-21 00:36:...|Shot|          NULL|     Spain - La Liga|2014/2015|           NULL|                    NULL|               NULL|                    NULL|                 NULL|          NULL|             NULL|            NULL|                   NULL|                  NULL|            NULL|          true|         NULL|              NULL|            NULL|          NULL|                 NULL|               NULL|          NULL|               NULL|                NULL|                  NULL|      NULL|NULL|           NULL|            NULL|         NULL|                         NULL|         NULL|              NULL|                      NULL|           NULL|                NULL|                            NULL|                 NULL|                NULL|            NULL|               NULL|                       NULL|                   NULL|                            NULL|                    NULL|                  NULL|          119.3|           40.0|  160.1476|\n",
      "| NULL|                NULL|                          NULL|              NULL|                NULL|        NULL|          NULL|           NULL|           NULL|        NULL|     NULL|0.243286|                    NULL|               NULL|              NULL|              NULL|                NULL|                   NULL|              NULL|               NULL|                NULL|           NULL|b0158367-3493-449...| 2717|                NULL| 3788774|    65|           NULL|      NULL|                 NULL|         NULL|          NULL|      NULL|         NULL|          NULL|             NULL|            NULL|       NULL|       NULL|        NULL|          NULL|             NULL|            NULL|       NULL|     NULL|     2|From Free Kick|         Kai Havertz|   8966.0|          Right Wing|       133|        Germany|               770|['ba7429be-df71-4...|    44|           true|          Head|[120.0, 39.5, 0.9]|           NULL|[{'location': [11...|            NULL|           NULL|        Goal|       0.88317055|        Normal|Open Play|                NULL|                   NULL|                    NULL|                       NULL|   NULL|       Germany|    770|2024-12-21 00:20:...|Shot|          true|  Europe - UEFA Euro|     2020|           NULL|                    NULL|               NULL|                    NULL|                 NULL|          NULL|             NULL|            NULL|                   NULL|                  NULL|            NULL|          true|         true|              NULL|            NULL|          NULL|                 NULL|               NULL|          NULL|               NULL|                NULL|                  NULL|      NULL|NULL|           NULL|            NULL|         NULL|                         NULL|         NULL|              NULL|                      NULL|           NULL|                NULL|                            NULL|                 NULL|                NULL|            NULL|               NULL|                       NULL|                   NULL|                            NULL|                    NULL|                  NULL|          119.3|           39.7| 160.04085|\n",
      "+-----+--------------------+------------------------------+------------------+--------------------+------------+--------------+---------------+---------------+------------+---------+--------+------------------------+-------------------+------------------+------------------+--------------------+-----------------------+------------------+-------------------+--------------------+---------------+--------------------+-----+--------------------+--------+------+---------------+----------+---------------------+-------------+--------------+----------+-------------+--------------+-----------------+----------------+-----------+-----------+------------+--------------+-----------------+----------------+-----------+---------+------+--------------+--------------------+---------+--------------------+----------+---------------+------------------+--------------------+------+---------------+--------------+------------------+---------------+--------------------+----------------+---------------+------------+-----------------+--------------+---------+--------------------+-----------------------+------------------------+---------------------------+-------+--------------+-------+--------------------+----+--------------+--------------------+---------+---------------+------------------------+-------------------+------------------------+---------------------+--------------+-----------------+----------------+-----------------------+----------------------+----------------+--------------+-------------+------------------+----------------+--------------+---------------------+-------------------+--------------+-------------------+--------------------+----------------------+----------+----+---------------+----------------+-------------+-----------------------------+-------------+------------------+--------------------------+---------------+--------------------+--------------------------------+---------------------+--------------------+----------------+-------------------+---------------------------+-----------------------+--------------------------------+------------------------+----------------------+---------------+---------------+----------+\n",
      "only showing top 10 rows\n",
      "\n"
     ]
    }
   ],
   "source": [
    "events_df.filter(events_df.shot_angle>90).orderBy('shot_angle',ascending=False).show(10)"
   ]
  },
  {
   "cell_type": "code",
   "execution_count": 34,
   "metadata": {},
   "outputs": [],
   "source": [
    "matches = spark.read.csv('Data/matches.csv',header=True,inferSchema=True)"
   ]
  },
  {
   "cell_type": "code",
   "execution_count": 35,
   "metadata": {},
   "outputs": [
    {
     "name": "stdout",
     "output_type": "stream",
     "text": [
      "+--------+----------+-------------------+---------------+---------+---------+----------+----------+----------+----------+-----------------+----------------+-------+--------------------+--------------------+\n",
      "|match_id|match_date|           kick_off|    competition|   season|home_team| away_team|home_score|away_score|match_week|competition_stage|         stadium|referee|       home_managers|       away_managers|\n",
      "+--------+----------+-------------------+---------------+---------+---------+----------+----------+----------+----------+-----------------+----------------+-------+--------------------+--------------------+\n",
      "|  266254|2016-02-14|2024-12-21 21:30:00|Spain - La Liga|2015/2016|Barcelona|Celta Vigo|         6|         1|        24|   Regular Season|Spotify Camp Nou|   NULL|Luis Enrique Mart...|Manuel Eduardo Be...|\n",
      "+--------+----------+-------------------+---------------+---------+---------+----------+----------+----------+----------+-----------------+----------------+-------+--------------------+--------------------+\n",
      "\n"
     ]
    }
   ],
   "source": [
    "matches.filter(matches.match_id==266254).show()"
   ]
  },
  {
   "cell_type": "code",
   "execution_count": 39,
   "metadata": {},
   "outputs": [
    {
     "name": "stdout",
     "output_type": "stream",
     "text": [
      "+---------------+---------------+----------+\n",
      "|shot_location_x|shot_location_y|shot_angle|\n",
      "+---------------+---------------+----------+\n",
      "|          105.6|           44.0| 29.054602|\n",
      "|           98.6|           25.2| 14.520617|\n",
      "|          105.5|           47.3| 25.108313|\n",
      "|          113.4|           38.7| 61.014557|\n",
      "|          106.2|           36.8| 30.870586|\n",
      "|          108.3|           39.0| 37.520866|\n",
      "|           85.6|           34.4|  12.92981|\n",
      "|          112.5|           42.5| 52.224316|\n",
      "|          106.1|           32.5| 25.469059|\n",
      "|           83.5|           48.0| 11.945132|\n",
      "|          108.1|           39.3|  37.05121|\n",
      "|          105.5|           57.6| 12.961155|\n",
      "|          110.9|           25.6| 14.870527|\n",
      "|           98.9|           24.9| 14.404465|\n",
      "|          114.8|           44.1|  56.19886|\n",
      "|          107.2|           35.0| 30.644846|\n",
      "|          107.5|           24.9| 15.192171|\n",
      "|           88.5|           38.1| 14.422748|\n",
      "|          109.6|           41.5| 41.388515|\n",
      "|           94.8|           24.9| 13.387468|\n",
      "+---------------+---------------+----------+\n",
      "only showing top 20 rows\n",
      "\n"
     ]
    }
   ],
   "source": [
    "import math\n",
    "from pyspark.sql.functions import udf\n",
    "from pyspark.sql.types import FloatType\n",
    "\n",
    "# Define the goalpost coordinates\n",
    "goal_x1, goal_y1 = 120, 36  # Left post\n",
    "goal_x2, goal_y2 = 120, 44  # Right post\n",
    "\n",
    "# Function to calculate the angle\n",
    "def calculate_shot_angle(shot_x, shot_y):\n",
    "    # Vectors to the posts\n",
    "    u_x, u_y = goal_x1 - shot_x, goal_y1 - shot_y\n",
    "    v_x, v_y = goal_x2 - shot_x, goal_y2 - shot_y\n",
    "    \n",
    "    # Dot product and magnitudes\n",
    "    dot_product = u_x * v_x + u_y * v_y\n",
    "    magnitude_u = math.sqrt(u_x**2 + u_y**2)\n",
    "    magnitude_v = math.sqrt(v_x**2 + v_y**2)\n",
    "    \n",
    "    # Avoid division by zero\n",
    "    if magnitude_u == 0 or magnitude_v == 0:\n",
    "        return 0.0\n",
    "    \n",
    "    # Calculate angle in radians\n",
    "    angle_radians = math.acos(dot_product / (magnitude_u * magnitude_v))\n",
    "    \n",
    "    # Convert to degrees\n",
    "    return math.degrees(angle_radians)\n",
    "\n",
    "# Define a function to add the shot angle column to the DataFrame\n",
    "def get_shot_angle(df):\n",
    "    # Register the function as a UDF\n",
    "    calculate_shot_angle_udf = udf(calculate_shot_angle, FloatType())\n",
    "    \n",
    "    # Apply the UDF to the DataFrame\n",
    "    df = df.withColumn(\n",
    "        \"shot_angle\",\n",
    "        calculate_shot_angle_udf(df[\"shot_location_x\"], df[\"shot_location_y\"])\n",
    "    )\n",
    "    return df\n",
    "\n",
    "# Use the function\n",
    "events_df = get_shot_angle(events_df)\n",
    "\n",
    "# Show the result\n",
    "events_df.select(\"shot_location_x\", \"shot_location_y\", \"shot_angle\").show()"
   ]
  }
 ],
 "metadata": {
  "kernelspec": {
   "display_name": "myenv",
   "language": "python",
   "name": "python3"
  },
  "language_info": {
   "codemirror_mode": {
    "name": "ipython",
    "version": 3
   },
   "file_extension": ".py",
   "mimetype": "text/x-python",
   "name": "python",
   "nbconvert_exporter": "python",
   "pygments_lexer": "ipython3",
   "version": "3.12.3"
  }
 },
 "nbformat": 4,
 "nbformat_minor": 2
}
