{
 "cells": [
  {
   "cell_type": "code",
   "execution_count": 5,
   "metadata": {},
   "outputs": [],
   "source": [
    "from pyspark.sql import SparkSession\n",
    "import pp_events as pp"
   ]
  },
  {
   "cell_type": "code",
   "execution_count": 2,
   "metadata": {},
   "outputs": [
    {
     "name": "stderr",
     "output_type": "stream",
     "text": [
      "your 131072x1 screen size is bogus. expect trouble\n",
      "Setting default log level to \"WARN\".\n",
      "To adjust logging level use sc.setLogLevel(newLevel). For SparkR, use setLogLevel(newLevel).\n",
      "24/12/21 02:10:14 WARN NativeCodeLoader: Unable to load native-hadoop library for your platform... using builtin-java classes where applicable\n"
     ]
    }
   ],
   "source": [
    "spark = SparkSession.builder.appName('export_sff').getOrCreate()"
   ]
  },
  {
   "cell_type": "code",
   "execution_count": 3,
   "metadata": {},
   "outputs": [
    {
     "name": "stderr",
     "output_type": "stream",
     "text": [
      "                                                                                \r"
     ]
    }
   ],
   "source": [
    "events = spark.read.csv('Data/events.csv',header=True,inferSchema=True,sep=';')"
   ]
  },
  {
   "cell_type": "code",
   "execution_count": 11,
   "metadata": {},
   "outputs": [],
   "source": [
    "events_shot = events.filter(events.type=='Shot')"
   ]
  },
  {
   "cell_type": "code",
   "execution_count": 12,
   "metadata": {},
   "outputs": [],
   "source": [
    "events_shot = pp.split_location(events_shot)\n",
    "events_shot = pp.distance_to_goal(events_shot)\n",
    "events_shot = pp.get_shot_angle(events_shot)"
   ]
  },
  {
   "cell_type": "code",
   "execution_count": 14,
   "metadata": {},
   "outputs": [],
   "source": [
    "ev = events_shot.select('shot_location_x','shot_location_y','distance_to_goal','shot_angle','shot_statsbomb_xg')"
   ]
  },
  {
   "cell_type": "code",
   "execution_count": 15,
   "metadata": {},
   "outputs": [
    {
     "name": "stderr",
     "output_type": "stream",
     "text": [
      "[Stage 3:>                                                          (0 + 1) / 1]\r"
     ]
    },
    {
     "name": "stdout",
     "output_type": "stream",
     "text": [
      "+---------------+---------------+----------------+----------+-----------------+\n",
      "|shot_location_x|shot_location_y|distance_to_goal|shot_angle|shot_statsbomb_xg|\n",
      "+---------------+---------------+----------------+----------+-----------------+\n",
      "|          105.6|           44.0|         14.9452| 29.054602|       0.07213958|\n",
      "|           98.6|           25.2|         26.0192| 14.520617|       0.02977089|\n",
      "|          105.5|           47.3|         16.2339| 25.108313|       0.07589752|\n",
      "|          113.4|           38.7|          6.7268| 61.014557|       0.15686217|\n",
      "|          106.2|           36.8|         14.1662| 30.870586|       0.15133068|\n",
      "|          108.3|           39.0|         11.7427| 37.520866|      0.049562205|\n",
      "|           85.6|           34.4|         34.8528|  12.92981|      0.015171255|\n",
      "|          112.5|           42.5|          7.9057| 52.224316|       0.08510399|\n",
      "|          106.1|           32.5|         15.7943| 25.469059|       0.02531394|\n",
      "|           83.5|           48.0|         37.3664| 11.945132|     0.0064736516|\n",
      "|          108.1|           39.3|         11.9206|  37.05121|      0.047531724|\n",
      "|          105.5|           57.6|         22.8037| 12.961155|      0.022013947|\n",
      "|          110.9|           25.6|         17.0344| 14.870527|       0.06569337|\n",
      "|           98.9|           24.9|         25.9465| 14.404465|      0.012626733|\n",
      "|          114.8|           44.1|          6.6219|  56.19886|       0.14169177|\n",
      "|          107.2|           35.0|         13.7419| 30.644846|      0.040732585|\n",
      "|          107.5|           24.9|         19.6026| 15.192171|      0.028598836|\n",
      "|           88.5|           38.1|         31.5572| 14.422748|      0.019570593|\n",
      "|          109.6|           41.5|         10.5076| 41.388515|      0.056397837|\n",
      "|           94.8|           24.9|         29.3777| 13.387468|      0.039566465|\n",
      "+---------------+---------------+----------------+----------+-----------------+\n",
      "only showing top 20 rows\n",
      "\n"
     ]
    },
    {
     "name": "stderr",
     "output_type": "stream",
     "text": [
      "                                                                                \r"
     ]
    }
   ],
   "source": [
    "ev.show()"
   ]
  },
  {
   "cell_type": "code",
   "execution_count": 18,
   "metadata": {},
   "outputs": [],
   "source": [
    "# doing an xg model based on the features extracted using MLlib\n",
    "# shot_statsbomb_xg is the target variable, the rest are the features\n",
    "from pyspark.ml.feature import VectorAssembler\n",
    "from pyspark.ml.regression import LinearRegression, RandomForestRegressor, GBTRegressor, DecisionTreeRegressor, GeneralizedLinearRegression, IsotonicRegression\n",
    "from pyspark.ml.evaluation import RegressionEvaluator\n",
    "from pyspark.ml import Pipeline\n",
    "\n",
    "features = [\"shot_location_x\", \"shot_location_y\", \"distance_to_goal\", \"shot_angle\"]\n",
    "assembler = VectorAssembler(inputCols=features, outputCol=\"features\")\n",
    "data = assembler.transform(ev).select(\"features\", \"shot_statsbomb_xg\")\n",
    "\n",
    "# Split into training and testing sets\n",
    "train_data, test_data = data.randomSplit([0.8, 0.2], seed=42)\n",
    "\n",
    "# Initialize all models\n",
    "lr = LinearRegression(labelCol=\"shot_statsbomb_xg\", featuresCol=\"features\")\n",
    "rf = RandomForestRegressor(labelCol=\"shot_statsbomb_xg\", featuresCol=\"features\")\n",
    "gbt = GBTRegressor(labelCol=\"shot_statsbomb_xg\", featuresCol=\"features\")\n",
    "dt = DecisionTreeRegressor(labelCol=\"shot_statsbomb_xg\", featuresCol=\"features\")\n",
    "glr = GeneralizedLinearRegression(labelCol=\"shot_statsbomb_xg\", featuresCol=\"features\")\n",
    "ir = IsotonicRegression(labelCol=\"shot_statsbomb_xg\", featuresCol=\"features\")"
   ]
  },
  {
   "cell_type": "code",
   "execution_count": null,
   "metadata": {},
   "outputs": [
    {
     "name": "stderr",
     "output_type": "stream",
     "text": [
      "24/12/21 02:18:09 WARN Instrumentation: [aede7add] regParam is zero, which might cause numerical instability and overfitting.\n",
      "24/12/21 02:19:16 WARN Instrumentation: [d9643898] regParam is zero, which might cause numerical instability and overfitting.\n",
      "[Stage 508:=================================================>     (25 + 3) / 28]\r"
     ]
    },
    {
     "name": "stdout",
     "output_type": "stream",
     "text": [
      "Linear Regression RMSE: 0.11866663665176325\n",
      "Random Forest RMSE: 0.10470747475430223\n",
      "Gradient Boosted Trees RMSE: 0.10425866605680521\n",
      "Decision Tree RMSE: 0.10529429012317074\n",
      "Generalized Linear Regression RMSE: 0.11866663665176325\n",
      "Isotonic Regression RMSE: 0.15127922446191558\n"
     ]
    },
    {
     "name": "stderr",
     "output_type": "stream",
     "text": [
      "                                                                                \r"
     ]
    }
   ],
   "source": [
    "# Create a list of models\n",
    "models = [lr, rf, gbt, dt, glr, ir]\n",
    "\n",
    "# Create a list of model names\n",
    "model_names = [\"Linear Regression\", \"Random Forest\", \"Gradient Boosted Trees\", \"Decision Tree\", \"Generalized Linear Regression\", \"Isotonic Regression\"]\n",
    "\n",
    "# Create a list of model pipelines\n",
    "model_pipelines = [Pipeline(stages=[model]) for model in models]\n",
    "\n",
    "# Fit each model pipeline\n",
    "fitted_models = [pipeline.fit(train_data) for pipeline in model_pipelines]\n",
    "\n",
    "# Evaluate each model\n",
    "evaluator = RegressionEvaluator(labelCol=\"shot_statsbomb_xg\", predictionCol=\"prediction\", metricName=\"rmse\")\n",
    "predictions = [fitted_model.transform(test_data) for fitted_model in fitted_models]\n",
    "rmse = [evaluator.evaluate(prediction) for prediction in predictions]\n",
    "\n",
    "# Display the RMSE of each model\n",
    "for i in range(len(models)):\n",
    "    print(model_names[i] + \" RMSE: \" + str(rmse[i]))\n",
    "    \n",
    "# Time spent to run : 1m 54s for [\"shot_location_x\", \"shot_location_y\", \"distance_to_goal\", \"shot_angle\"] 0.09\n",
    "# Time spent to run : 1m 50s for [\"distance_to_goal\", \"shot_angle\"]                                       0.10"
   ]
  },
  {
   "cell_type": "code",
   "execution_count": 36,
   "metadata": {},
   "outputs": [
    {
     "name": "stderr",
     "output_type": "stream",
     "text": [
      "[Stage 524:=================================================>     (25 + 3) / 28]\r"
     ]
    },
    {
     "name": "stdout",
     "output_type": "stream",
     "text": [
      "+---------+---------+---------+\n",
      "|       xg|     pred|     rmse|\n",
      "+---------+---------+---------+\n",
      "|0.1047731|0.1048335|0.0000604|\n",
      "|0.1049166|0.1048335|0.0000831|\n",
      "|0.1049231|0.1048335|0.0000896|\n",
      "|0.1047084|0.1048335|0.0001251|\n",
      "|0.1049752|0.1048335|0.0001417|\n",
      "|0.1046897|0.1048335|0.0001438|\n",
      "|0.1050003|0.1048335|0.0001668|\n",
      "|0.1046235|0.1048335|0.0002100|\n",
      "|0.1046173|0.1048335|0.0002162|\n",
      "|0.1050574|0.1048335|0.0002239|\n",
      "|0.1046057|0.1048335|0.0002278|\n",
      "|0.1046037|0.1048335|0.0002298|\n",
      "|0.1045934|0.1048335|0.0002401|\n",
      "|0.1050912|0.1048335|0.0002577|\n",
      "|0.1051165|0.1048335|0.0002830|\n",
      "|0.1045499|0.1048335|0.0002836|\n",
      "|0.1051181|0.1048335|0.0002846|\n",
      "|0.1051375|0.1048335|0.0003040|\n",
      "|0.1045229|0.1048335|0.0003106|\n",
      "|0.1045203|0.1048335|0.0003132|\n",
      "|0.1045139|0.1048335|0.0003196|\n",
      "|0.1045137|0.1048335|0.0003198|\n",
      "|0.1051591|0.1048335|0.0003256|\n",
      "|0.1051899|0.1048335|0.0003564|\n",
      "|0.1051955|0.1048335|0.0003620|\n",
      "|0.1052008|0.1048335|0.0003673|\n",
      "|0.1052018|0.1048335|0.0003683|\n",
      "|0.1052027|0.1048335|0.0003692|\n",
      "|0.1052282|0.1048335|0.0003947|\n",
      "|0.1052655|0.1048335|0.0004320|\n",
      "|0.1052674|0.1048335|0.0004339|\n",
      "|0.1043979|0.1048335|0.0004356|\n",
      "|0.1043865|0.1048335|0.0004470|\n",
      "|0.1043222|0.1048335|0.0005113|\n",
      "| 0.104321|0.1048335|0.0005125|\n",
      "|0.1043143|0.1048335|0.0005192|\n",
      "|0.1053762|0.1048335|0.0005427|\n",
      "|0.1042708|0.1048335|0.0005627|\n",
      "|0.1054008|0.1048335|0.0005673|\n",
      "|0.1042597|0.1048335|0.0005738|\n",
      "|0.1054121|0.1048335|0.0005786|\n",
      "|0.1054174|0.1048335|0.0005839|\n",
      "|0.1042484|0.1048335|0.0005851|\n",
      "|0.1054193|0.1048335|0.0005858|\n",
      "|0.1054312|0.1048335|0.0005977|\n",
      "|0.1042221|0.1048335|0.0006114|\n",
      "|0.1042162|0.1048335|0.0006173|\n",
      "|0.1042112|0.1048335|0.0006223|\n",
      "|   0.1042|0.1048335|0.0006335|\n",
      "|0.1054982|0.1048335|0.0006647|\n",
      "|0.1041623|0.1048335|0.0006712|\n",
      "|0.1055051|0.1048335|0.0006716|\n",
      "|0.1041467|0.1048335|0.0006868|\n",
      "|0.1041294|0.1048335|0.0007041|\n",
      "|0.1055581|0.1048335|0.0007246|\n",
      "|0.1055753|0.1048335|0.0007418|\n",
      "|0.1040605|0.1048335|0.0007730|\n",
      "|0.1040563|0.1048335|0.0007772|\n",
      "|0.1056361|0.1048335|0.0008026|\n",
      "|0.1056386|0.1048335|0.0008051|\n",
      "|0.1040252|0.1048335|0.0008083|\n",
      "|0.1039999|0.1048335|0.0008336|\n",
      "|0.1056728|0.1048335|0.0008393|\n",
      "|0.1039902|0.1048335|0.0008433|\n",
      "|0.1039877|0.1048335|0.0008458|\n",
      "|0.1057044|0.1048335|0.0008709|\n",
      "|  0.10395|0.1048335|0.0008835|\n",
      "|0.1039378|0.1048335|0.0008957|\n",
      "|0.1039356|0.1048335|0.0008979|\n",
      "|0.1039168|0.1048335|0.0009167|\n",
      "|0.1038624|0.1048335|0.0009711|\n",
      "| 0.103835|0.1048335|0.0009985|\n",
      "|0.1038281|0.1048335|0.0010054|\n",
      "|0.1058679|0.1048335|0.0010344|\n",
      "|0.1037882|0.1048335|0.0010453|\n",
      "|0.1037629|0.1048335|0.0010706|\n",
      "| 0.103753|0.1048335|0.0010805|\n",
      "| 0.103751|0.1048335|0.0010825|\n",
      "| 0.103749|0.1048335|0.0010845|\n",
      "|0.1059191|0.1048335|0.0010856|\n",
      "|0.1059243|0.1048335|0.0010908|\n",
      "|0.1059402|0.1048335|0.0011067|\n",
      "|0.1059634|0.1048335|0.0011299|\n",
      "|0.1036997|0.1048335|0.0011338|\n",
      "|0.1036957|0.1048335|0.0011378|\n",
      "|0.1059865|0.1048335|0.0011530|\n",
      "|0.1060061|0.1048335|0.0011726|\n",
      "|0.1060126|0.1048335|0.0011791|\n",
      "|0.1036228|0.1048335|0.0012107|\n",
      "|0.1036115|0.1048335|0.0012220|\n",
      "| 0.106056|0.1048335|0.0012225|\n",
      "|0.1060604|0.1048335|0.0012269|\n",
      "|0.1035619|0.1048335|0.0012716|\n",
      "|0.1035561|0.1048335|0.0012774|\n",
      "|0.1035361|0.1048335|0.0012974|\n",
      "|0.1035072|0.1048335|0.0013263|\n",
      "| 0.103503|0.1048335|0.0013305|\n",
      "|0.1061938|0.1048335|0.0013603|\n",
      "|0.1062292|0.1048335|0.0013957|\n",
      "|0.1034184|0.1048335|0.0014151|\n",
      "+---------+---------+---------+\n",
      "only showing top 100 rows\n",
      "\n"
     ]
    },
    {
     "name": "stderr",
     "output_type": "stream",
     "text": [
      "                                                                                \r"
     ]
    }
   ],
   "source": [
    "from pyspark.sql.functions import col, round, sqrt, format_number\n",
    "\n",
    "# Calculate RMSE for each row, round it to 7 decimals, and add as a new column\n",
    "predictions[5].select(\n",
    "    col('shot_statsbomb_xg').alias('xg'),\n",
    "    col('prediction').alias('pred')) \\\n",
    "    .withColumn('xg', round('xg', 7)) \\\n",
    "    .withColumn('pred', round('pred', 7)) \\\n",
    "    .withColumn('rmse', format_number(sqrt((col('xg') - col('pred'))**2), 7)).orderBy('rmse').show(100)"
   ]
  },
  {
   "cell_type": "code",
   "execution_count": 41,
   "metadata": {},
   "outputs": [
    {
     "name": "stderr",
     "output_type": "stream",
     "text": [
      "                                                                                \r"
     ]
    },
    {
     "data": {
      "image/png": "[encoded data removed]",
      "text/plain": [
       "<Figure size 640x480 with 1 Axes>"
      ]
     },
     "metadata": {},
     "output_type": "display_data"
    }
   ],
   "source": [
    "# visualize the distribution of rmse values\n",
    "import matplotlib.pyplot as plt\n",
    "import seaborn as sns\n",
    "\n",
    "rmse_values = predictions[2].select(\n",
    "    sqrt((col('shot_statsbomb_xg') - col('prediction'))**2).alias('rmse')).toPandas()\n",
    "\n",
    "sns.histplot(rmse_values, bins=20, kde=True)\n",
    "plt.title('RMSE Distribution')\n",
    "plt.xlabel('RMSE')\n",
    "plt.ylabel('Count')\n",
    "plt.show()"
   ]
  }
 ],
 "metadata": {
  "kernelspec": {
   "display_name": "myenv",
   "language": "python",
   "name": "python3"
  },
  "language_info": {
   "codemirror_mode": {
    "name": "ipython",
    "version": 3
   },
   "file_extension": ".py",
   "mimetype": "text/x-python",
   "name": "python",
   "nbconvert_exporter": "python",
   "pygments_lexer": "ipython3",
   "version": "3.12.3"
  }
 },
 "nbformat": 4,
 "nbformat_minor": 2
}
