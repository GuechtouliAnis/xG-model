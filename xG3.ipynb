{
 "cells": [
  {
   "cell_type": "code",
   "execution_count": 1,
   "metadata": {},
   "outputs": [],
   "source": [
    "from pyspark.sql import SparkSession\n",
    "import numpy as np"
   ]
  },
  {
   "cell_type": "code",
   "execution_count": 2,
   "metadata": {},
   "outputs": [
    {
     "name": "stderr",
     "output_type": "stream",
     "text": [
      "your 131072x1 screen size is bogus. expect trouble\n",
      "Setting default log level to \"WARN\".\n",
      "To adjust logging level use sc.setLogLevel(newLevel). For SparkR, use setLogLevel(newLevel).\n",
      "24/12/23 23:47:51 WARN NativeCodeLoader: Unable to load native-hadoop library for your platform... using builtin-java classes where applicable\n"
     ]
    }
   ],
   "source": [
    "spark = SparkSession.builder.appName(\"xG3\").getOrCreate()"
   ]
  },
  {
   "cell_type": "code",
   "execution_count": 3,
   "metadata": {},
   "outputs": [
    {
     "name": "stderr",
     "output_type": "stream",
     "text": [
      "                                                                                \r"
     ]
    }
   ],
   "source": [
    "events = spark.read.csv('Data/events.csv', header=True, inferSchema=True,sep=';')"
   ]
  },
  {
   "cell_type": "code",
   "execution_count": 4,
   "metadata": {},
   "outputs": [],
   "source": [
    "import pp_events as pp"
   ]
  },
  {
   "cell_type": "code",
   "execution_count": 5,
   "metadata": {},
   "outputs": [
    {
     "name": "stdout",
     "output_type": "stream",
     "text": [
      "Data loaded\n",
      "Spatial data calculated\n",
      "Preferred foot calculated\n",
      "Goal column created\n"
     ]
    },
    {
     "name": "stderr",
     "output_type": "stream",
     "text": [
      "                                                                                \r"
     ]
    },
    {
     "name": "stdout",
     "output_type": "stream",
     "text": [
      "Number of players inside the area calculated\n",
      "Boolean data converted to integer\n"
     ]
    }
   ],
   "source": [
    "events_shot = pp.preprocessing(events,spark)"
   ]
  },
  {
   "cell_type": "code",
   "execution_count": 6,
   "metadata": {},
   "outputs": [
    {
     "data": {
      "text/plain": [
       "['id',\n",
       " 'player_id',\n",
       " 'shot_location_x',\n",
       " 'shot_location_y',\n",
       " 'distance_to_goal',\n",
       " 'shot_angle',\n",
       " 'preferred_foot_shot',\n",
       " 'shot_body_part',\n",
       " 'shot_technique',\n",
       " 'shot_type',\n",
       " 'play_pattern',\n",
       " 'under_pressure',\n",
       " 'shot_aerial_won',\n",
       " 'shot_first_time',\n",
       " 'shot_one_on_one',\n",
       " 'shot_open_goal',\n",
       " 'shot_follows_dribble',\n",
       " 'players_inside_area',\n",
       " 'shot_statsbomb_xg',\n",
       " 'shot_outcome',\n",
       " 'goal']"
      ]
     },
     "execution_count": 6,
     "metadata": {},
     "output_type": "execute_result"
    }
   ],
   "source": [
    "events_shot.columns"
   ]
  },
  {
   "cell_type": "code",
   "execution_count": 7,
   "metadata": {},
   "outputs": [
    {
     "name": "stderr",
     "output_type": "stream",
     "text": [
      "24/12/23 23:49:05 WARN TaskSetManager: Stage 5 contains a task of very large size (1681 KiB). The maximum recommended task size is 1000 KiB.\n",
      "[Stage 13:===================================================>    (12 + 1) / 13]\r"
     ]
    },
    {
     "name": "stdout",
     "output_type": "stream",
     "text": [
      "+--------------------+---------+---------------+---------------+----------------+----------+-------------------+--------------+--------------+---------+--------------+--------------+---------------+---------------+---------------+--------------+--------------------+-------------------+-----------------+------------+----+\n",
      "|                  id|player_id|shot_location_x|shot_location_y|distance_to_goal|shot_angle|preferred_foot_shot|shot_body_part|shot_technique|shot_type|  play_pattern|under_pressure|shot_aerial_won|shot_first_time|shot_one_on_one|shot_open_goal|shot_follows_dribble|players_inside_area|shot_statsbomb_xg|shot_outcome|goal|\n",
      "+--------------------+---------+---------------+---------------+----------------+----------+-------------------+--------------+--------------+---------+--------------+--------------+---------------+---------------+---------------+--------------+--------------------+-------------------+-----------------+------------+----+\n",
      "|350a49bc-6914-4b3...|  27886.0|          107.2|           35.0|         13.7419| 30.644846|                  0|          Head|        Normal|Open Play|From Free Kick|             0|              0|              0|              0|             0|                   0|                  2|      0.040732585|     Blocked|   0|\n",
      "|37ba4e86-d809-40e...|   5678.0|           85.6|           34.4|         34.8528|  12.92981|                  1|    Right Foot|        Normal|Open Play|  Regular Play|             0|              0|              0|              0|             0|                   0|                  2|      0.015171255|       Saved|   0|\n",
      "|3c3fd192-a115-47b...|  29560.0|          105.6|           44.0|         14.9452| 29.054602|                  1|    Right Foot|   Half Volley|Open Play| From Kick Off|             0|              0|              1|              0|             0|                   0|                  3|       0.07213958|       Off T|   0|\n",
      "|417a2357-d337-43c...|   8817.0|          105.5|           47.3|         16.2339| 25.108313|                  1|    Right Foot|   Half Volley|Open Play| From Throw In|             1|              0|              0|              0|             0|                   0|                  1|       0.07589752|        Post|   0|\n",
      "|618314a1-76b9-41e...|   5678.0|           88.5|           38.1|         31.5572| 14.422748|                  1|    Right Foot|        Normal|Open Play|From Free Kick|             0|              0|              0|              0|             0|                   0|                  3|      0.019570593|       Off T|   0|\n",
      "|8592fda4-3e54-46e...|   5696.0|          105.5|           57.6|         22.8037| 12.961155|                  1|    Right Foot|   Half Volley|Open Play|   From Keeper|             0|              0|              1|              0|             0|                   0|                  1|      0.022013947|       Off T|   0|\n",
      "|95ea28e2-8fe9-426...|   8817.0|          108.3|           39.0|         11.7427| 37.520866|                  0|          Head|        Normal|Open Play|  Regular Play|             1|              1|              0|              0|             0|                   0|                  2|      0.049562205|     Blocked|   0|\n",
      "|970398e3-c3cc-4d2...|   5503.0|          106.2|           36.8|         14.1662| 30.870586|                  1|     Left Foot|        Normal|Open Play| From Throw In|             0|              0|              1|              0|             0|                   0|                  4|       0.15133068|     Blocked|   0|\n",
      "|e5d66514-0a8c-446...|   2995.0|          107.5|           24.9|         19.6026| 15.192171|                  1|     Left Foot|        Normal|Open Play|  Regular Play|             1|              0|              0|              0|             0|                   0|                  1|      0.028598836|       Saved|   0|\n",
      "|f80a63b3-c4a6-4a9...|   8817.0|          112.5|           42.5|          7.9057| 52.224316|                  0|          Head|        Normal|Open Play|   From Corner|             1|              1|              0|              0|             0|                   0|                  2|       0.08510399|     Blocked|   0|\n",
      "|2593d42f-61d2-4e5...|   5695.0|           94.8|           24.9|         29.3777| 13.387468|                  1|     Left Foot|        Normal|Free Kick|From Free Kick|             0|              0|              0|              0|             0|                   0|                  3|      0.039566465|     Blocked|   0|\n",
      "|30702c96-5580-48d...|  28567.0|          113.4|           38.7|          6.7268| 61.014557|                  0|          Head|        Normal|Open Play|   From Corner|             1|              1|              0|              0|             0|                   0|                  3|       0.15686217|       Saved|   0|\n",
      "|51932a82-e803-4ba...|   2995.0|          110.9|           25.6|         17.0344| 14.870527|                  1|     Left Foot|        Normal|Open Play|From Goal Kick|             0|              0|              1|              0|             0|                   0|                  2|       0.06569337|       Saved|   0|\n",
      "|5cf2e059-1c44-409...|  27277.0|          106.1|           32.5|         15.7943| 25.469059|                  0|          Head|        Normal|Open Play|  Regular Play|             0|              0|              0|              0|             0|                   0|                  1|       0.02531394|     Wayward|   0|\n",
      "|9b52e5c5-5688-4b0...|  28567.0|          109.6|           41.5|         10.5076| 41.388515|                  0|          Head|        Normal|Open Play|From Free Kick|             1|              1|              0|              0|             0|                   0|                  1|      0.056397837|       Off T|   0|\n",
      "|a431db47-7da0-4eb...|   3494.0|          114.8|           44.1|          6.6219|  56.19886|                  0|          Head|        Normal|Open Play|   From Corner|             1|              1|              0|              0|             0|                   0|                  3|       0.14169177|       Off T|   0|\n",
      "|a8b4baa8-b879-410...|  27277.0|           98.9|           24.9|         25.9465| 14.404465|                  1|    Right Foot|        Normal|Open Play|  Regular Play|             0|              0|              0|              0|             0|                   0|                  2|      0.012626733|     Blocked|   0|\n",
      "|b164d43a-c2cd-423...|  27158.0|           98.6|           25.2|         26.0192| 14.520617|                  1|    Right Foot|        Normal|Open Play|   From Keeper|             0|              0|              0|              0|             0|                   0|                  1|       0.02977089|       Saved|   0|\n",
      "|c9353ed3-a087-4fd...|  49395.0|           83.5|           48.0|         37.3664| 11.945132|                  1|    Right Foot|        Normal|Open Play| From Throw In|             0|              0|              1|              0|             0|                   0|                  4|     0.0064736516|       Saved|   0|\n",
      "|f07b45a7-c476-4f8...|  20687.0|          111.1|           42.0|           9.122| 46.651226|                  0|    Right Foot|   Half Volley|Open Play|   From Corner|             0|              0|              1|              0|             0|                   0|                  3|       0.26291034|       Off T|   0|\n",
      "+--------------------+---------+---------------+---------------+----------------+----------+-------------------+--------------+--------------+---------+--------------+--------------+---------------+---------------+---------------+--------------+--------------------+-------------------+-----------------+------------+----+\n",
      "only showing top 20 rows\n",
      "\n"
     ]
    },
    {
     "name": "stderr",
     "output_type": "stream",
     "text": [
      "                                                                                \r"
     ]
    }
   ],
   "source": [
    "events_shot.show()"
   ]
  },
  {
   "cell_type": "code",
   "execution_count": 16,
   "metadata": {},
   "outputs": [
    {
     "name": "stderr",
     "output_type": "stream",
     "text": [
      "24/12/23 23:51:24 WARN CacheManager: Asked to cache already cached data.\n"
     ]
    }
   ],
   "source": [
    "# since the dataframe is final, we save it into a variable in memory\n",
    "events_shot = events_shot.cache()"
   ]
  },
  {
   "cell_type": "code",
   "execution_count": 19,
   "metadata": {},
   "outputs": [
    {
     "name": "stdout",
     "output_type": "stream",
     "text": [
      "root\n",
      " |-- id: string (nullable = true)\n",
      " |-- player_id: double (nullable = false)\n",
      " |-- shot_location_x: float (nullable = false)\n",
      " |-- shot_location_y: float (nullable = false)\n",
      " |-- distance_to_goal: double (nullable = false)\n",
      " |-- shot_angle: float (nullable = false)\n",
      " |-- preferred_foot_shot: integer (nullable = true)\n",
      " |-- shot_body_part: string (nullable = true)\n",
      " |-- shot_technique: string (nullable = true)\n",
      " |-- shot_type: string (nullable = true)\n",
      " |-- play_pattern: string (nullable = true)\n",
      " |-- under_pressure: integer (nullable = true)\n",
      " |-- shot_aerial_won: integer (nullable = true)\n",
      " |-- shot_first_time: integer (nullable = true)\n",
      " |-- shot_one_on_one: integer (nullable = true)\n",
      " |-- shot_open_goal: integer (nullable = true)\n",
      " |-- shot_follows_dribble: integer (nullable = true)\n",
      " |-- players_inside_area: integer (nullable = true)\n",
      " |-- shot_statsbomb_xg: double (nullable = false)\n",
      " |-- shot_outcome: string (nullable = true)\n",
      " |-- goal: integer (nullable = true)\n",
      "\n"
     ]
    }
   ],
   "source": [
    "events_shot.printSchema()"
   ]
  },
  {
   "cell_type": "code",
   "execution_count": 21,
   "metadata": {},
   "outputs": [],
   "source": [
    "#features = ['distance_to_goal', 'shot_angle', 'preferred_foot_shot', 'under_pressure']\n",
    "features = [#'shot_location_x', 'shot_location_y',\n",
    "            'distance_to_goal', 'shot_angle', 'preferred_foot_shot', 'under_pressure',\n",
    "            'shot_aerial_won','shot_first_time','shot_one_on_one','shot_open_goal','shot_follows_dribble','players_inside_area']\n",
    "target = ['goal']"
   ]
  },
  {
   "cell_type": "code",
   "execution_count": 22,
   "metadata": {},
   "outputs": [],
   "source": [
    "from pyspark.ml.feature import VectorAssembler\n",
    "\n",
    "# Define the assembler\n",
    "feature_assembler = VectorAssembler(inputCols=features, outputCol=\"features_vector\")\n",
    "\n",
    "# Transform the dataset\n",
    "assembled_data = feature_assembler.transform(events_shot)\n",
    "train_data, test_data = assembled_data.randomSplit([0.8, 0.2], seed=42)"
   ]
  },
  {
   "cell_type": "code",
   "execution_count": 24,
   "metadata": {},
   "outputs": [],
   "source": [
    "from pyspark.ml.classification import LogisticRegression\n",
    "from pyspark.ml import Pipeline\n",
    "\n",
    "\n",
    "# Define the logistic regression model\n",
    "log_reg = LogisticRegression(featuresCol=\"features_vector\", labelCol=\"goal\", maxIter=10)\n",
    "# Create the pipeline\n",
    "pipeline = Pipeline(stages=[log_reg])"
   ]
  },
  {
   "cell_type": "code",
   "execution_count": 26,
   "metadata": {},
   "outputs": [
    {
     "name": "stderr",
     "output_type": "stream",
     "text": [
      "24/12/23 23:53:48 WARN InstanceBuilder: Failed to load implementation from:dev.ludovic.netlib.blas.JNIBLAS\n",
      "                                                                                \r"
     ]
    }
   ],
   "source": [
    "xg_model = pipeline.fit(train_data)"
   ]
  },
  {
   "cell_type": "code",
   "execution_count": 27,
   "metadata": {},
   "outputs": [
    {
     "name": "stdout",
     "output_type": "stream",
     "text": [
      "ROC-AUC: 0.8008854126467988\n"
     ]
    }
   ],
   "source": [
    "# Make predictions\n",
    "predictions = xg_model.transform(test_data)\n",
    "\n",
    "# Evaluate using BinaryClassificationEvaluator\n",
    "from pyspark.ml.evaluation import BinaryClassificationEvaluator\n",
    "\n",
    "evaluator = BinaryClassificationEvaluator(labelCol=\"goal\", rawPredictionCol=\"rawPrediction\")\n",
    "roc_auc = evaluator.evaluate(predictions)\n",
    "print(f\"ROC-AUC: {roc_auc}\")"
   ]
  },
  {
   "cell_type": "code",
   "execution_count": 28,
   "metadata": {},
   "outputs": [
    {
     "name": "stdout",
     "output_type": "stream",
     "text": [
      "+-----------------+----------------+-------------+--------------+\n",
      "|shot_statsbomb_xg|goal_probability|difference   |difference_abs|\n",
      "+-----------------+----------------+-------------+--------------+\n",
      "|0.04334119       |0.0518483519    |-0.0085071619|0.0085071619  |\n",
      "|0.05638644       |0.0753202060    |-0.0189337660|0.018933766   |\n",
      "|0.044450935      |0.1425743673    |-0.0981234323|0.0981234323  |\n",
      "|0.03511139       |0.0437537090    |-0.0086423190|0.008642319   |\n",
      "|0.049519155      |0.0892330998    |-0.0397139448|0.0397139448  |\n",
      "|0.022752915      |0.0357739073    |-0.0130209923|0.0130209923  |\n",
      "|0.0752324        |0.1100162500    |-0.0347838500|0.03478385    |\n",
      "|0.11348543       |0.2707885197    |-0.1573030897|0.1573030897  |\n",
      "|0.026074365      |0.0125890938    |0.0134852712 |0.0134852712  |\n",
      "|0.026830109      |0.0401478655    |-0.0133177565|0.0133177565  |\n",
      "|0.086427316      |0.0759482464    |0.0104790696 |0.0104790696  |\n",
      "|0.05394276       |0.1220326285    |-0.0680898685|0.0680898685  |\n",
      "|0.013839425      |0.0054916650    |0.0083477600 |0.00834776    |\n",
      "|0.097535945      |0.1069055724    |-0.0093696274|0.0093696274  |\n",
      "|0.037947286      |0.0229561849    |0.0149911011 |0.0149911011  |\n",
      "|0.3327469        |0.1699495469    |0.1627973531 |0.1627973531  |\n",
      "|0.029722635      |0.0293829097    |0.0003397253 |3.397253E-4   |\n",
      "|0.20455238       |0.1666846779    |0.0378677021 |0.0378677021  |\n",
      "|0.21165605       |0.1702838604    |0.0413721896 |0.0413721896  |\n",
      "|0.32175186       |0.1886039757    |0.1331478843 |0.1331478843  |\n",
      "|0.11931052       |0.1950958573    |-0.0757853373|0.0757853373  |\n",
      "|0.052501235      |0.0691190728    |-0.0166178378|0.0166178378  |\n",
      "|0.18321046       |0.0902662288    |0.0929442312 |0.0929442312  |\n",
      "|0.06748764       |0.0761924978    |-0.0087048578|0.0087048578  |\n",
      "|0.05705399       |0.0165036830    |0.0405503070 |0.040550307   |\n",
      "|0.15204303       |0.2823354768    |-0.1302924468|0.1302924468  |\n",
      "|0.021367695      |0.0331883368    |-0.0118206418|0.0118206418  |\n",
      "|0.109354734      |0.1758491836    |-0.0664944496|0.0664944496  |\n",
      "|0.022916166      |0.0222647221    |0.0006514439 |6.514439E-4   |\n",
      "|0.0800709        |0.0647732795    |0.0152976205 |0.0152976205  |\n",
      "|0.08608417       |0.0676045502    |0.0184796198 |0.0184796198  |\n",
      "|0.14665367       |0.0724692984    |0.0741843716 |0.0741843716  |\n",
      "|0.091898784      |0.1865016388    |-0.0946028548|0.0946028548  |\n",
      "|0.056368727      |0.1011531219    |-0.0447843949|0.0447843949  |\n",
      "|0.032914147      |0.0781181073    |-0.0452039603|0.0452039603  |\n",
      "|0.11521211       |0.0825708738    |0.0326412362 |0.0326412362  |\n",
      "|0.027717026      |0.0105002140    |0.0172168120 |0.017216812   |\n",
      "|0.0076719634     |0.0215507644    |-0.0138788010|0.013878801   |\n",
      "|0.09880479       |0.0284455645    |0.0703592255 |0.0703592255  |\n",
      "|0.05654552       |0.1097331755    |-0.0531876555|0.0531876555  |\n",
      "|0.007751971      |0.0260096968    |-0.0182577258|0.0182577258  |\n",
      "|0.05012093       |0.1201186796    |-0.0699977496|0.0699977496  |\n",
      "|0.092985675      |0.2180529439    |-0.1250672689|0.1250672689  |\n",
      "|0.013472787      |0.0151433061    |-0.0016705191|0.0016705191  |\n",
      "|0.09525558       |0.2063960689    |-0.1111404889|0.1111404889  |\n",
      "|0.013968952      |0.0120389663    |0.0019299857 |0.0019299857  |\n",
      "|0.0562651        |0.0941338490    |-0.0378687490|0.037868749   |\n",
      "|0.37003344       |0.2269980143    |0.1430354257 |0.1430354257  |\n",
      "|0.18960205       |0.1285942357    |0.0610078143 |0.0610078143  |\n",
      "|0.15445817       |0.2230803306    |-0.0686221606|0.0686221606  |\n",
      "+-----------------+----------------+-------------+--------------+\n",
      "only showing top 50 rows\n",
      "\n"
     ]
    }
   ],
   "source": [
    "from pyspark.sql.functions import col, udf, format_number, abs\n",
    "from pyspark.sql.types import DoubleType\n",
    "\n",
    "# Define a function to extract the probability of the goal (class 1)\n",
    "def extract_goal_probability(probability):\n",
    "    return float(probability[1])\n",
    "\n",
    "# Register the function as a UDF\n",
    "extract_goal_probability_udf = udf(extract_goal_probability, DoubleType())\n",
    "\n",
    "# Create a new column with the goal probability\n",
    "predictions_with_goal_prob = predictions.withColumn(\"goal_probability\", extract_goal_probability_udf(col(\"probability\")))\n",
    "\n",
    "# Format the goal_probability to remove scientific notation\n",
    "predictions_with_goal_prob = predictions_with_goal_prob.withColumn(\"goal_probability\", format_number(col(\"goal_probability\"), 10))\n",
    "\n",
    "# Add a new column showing the difference between shot_statsbomb_xg and goal_probability\n",
    "predictions_with_goal_prob = predictions_with_goal_prob.\\\n",
    "    withColumn(\"difference\", format_number(col(\"shot_statsbomb_xg\") - col(\"goal_probability\"),10))\n",
    "\n",
    "predictions_with_goal_prob = predictions_with_goal_prob.\\\n",
    "    withColumn(\"difference_abs\", abs(col('difference')))\n",
    "\n",
    "# Show the results\n",
    "predictions_with_goal_prob.select(\"shot_statsbomb_xg\", \"goal_probability\", \"difference\",'difference_abs').show(50,False)"
   ]
  },
  {
   "cell_type": "code",
   "execution_count": 29,
   "metadata": {},
   "outputs": [
    {
     "name": "stderr",
     "output_type": "stream",
     "text": [
      "                                                                                \r"
     ]
    },
    {
     "name": "stdout",
     "output_type": "stream",
     "text": [
      "Average difference: -0.0031711406162004386\n"
     ]
    },
    {
     "name": "stderr",
     "output_type": "stream",
     "text": [
      "[Stage 142:===============================================>    (183 + 12) / 200]\r"
     ]
    },
    {
     "name": "stdout",
     "output_type": "stream",
     "text": [
      "Abs average difference: 0.05225033141487065\n"
     ]
    },
    {
     "name": "stderr",
     "output_type": "stream",
     "text": [
      "                                                                                \r"
     ]
    }
   ],
   "source": [
    "# average of the difference\n",
    "from pyspark.sql.functions import avg\n",
    "\n",
    "avg_diff = predictions_with_goal_prob.select(avg(col(\"difference\"))).collect()[0][0]\n",
    "print(f\"Average difference: {avg_diff}\")\n",
    "\n",
    "abs_avg_diff = predictions_with_goal_prob.select(avg(col(\"difference_abs\"))).collect()[0][0]\n",
    "print(f\"Abs average difference: {abs_avg_diff}\")"
   ]
  },
  {
   "cell_type": "code",
   "execution_count": 30,
   "metadata": {},
   "outputs": [
    {
     "name": "stdout",
     "output_type": "stream",
     "text": [
      "+----+------------------------+-------------------------+\n",
      "|goal|goal_probability_rounded|shot_statsbomb_xg_rounded|\n",
      "+----+------------------------+-------------------------+\n",
      "|   0|                     0.0|                      0.0|\n",
      "|   0|                     0.0|                      0.0|\n",
      "|   0|                     0.0|                      0.0|\n",
      "|   0|                     0.0|                      0.0|\n",
      "|   0|                     0.0|                      0.0|\n",
      "|   0|                     0.0|                      0.0|\n",
      "|   1|                     0.0|                      0.0|\n",
      "|   0|                     0.0|                      0.0|\n",
      "|   0|                     0.0|                      0.0|\n",
      "|   0|                     0.0|                      0.0|\n",
      "|   0|                     0.0|                      0.0|\n",
      "|   0|                     0.0|                      0.0|\n",
      "|   0|                     0.0|                      0.0|\n",
      "|   0|                     0.0|                      0.0|\n",
      "|   0|                     0.0|                      0.0|\n",
      "|   0|                     0.0|                      0.0|\n",
      "|   0|                     0.0|                      0.0|\n",
      "|   0|                     0.0|                      0.0|\n",
      "|   0|                     0.0|                      0.0|\n",
      "|   0|                     0.0|                      0.0|\n",
      "+----+------------------------+-------------------------+\n",
      "only showing top 20 rows\n",
      "\n"
     ]
    }
   ],
   "source": [
    "# round the goal_probability to 0 or 1, same for the shot_statsbomb_xg and compare with goal to check the accuracy of the model\n",
    "# vs the accuracy of the shot_statsbomb_xg model\n",
    "\n",
    "from pyspark.sql.functions import round\n",
    "\n",
    "predictions_with_goal_prob = predictions_with_goal_prob.withColumn(\"goal_probability_rounded\", round(col(\"goal_probability\")))\\\n",
    "    .withColumn(\"shot_statsbomb_xg_rounded\", round(col(\"shot_statsbomb_xg\")))\n",
    "\n",
    "predictions_with_goal_prob.select(\"goal\", \"goal_probability_rounded\", \"shot_statsbomb_xg_rounded\").show()"
   ]
  },
  {
   "cell_type": "code",
   "execution_count": 31,
   "metadata": {},
   "outputs": [],
   "source": [
    "from pyspark.sql.functions import col, when\n",
    "\n",
    "# Check if the rounded probability matches the actual goal for your model\n",
    "predictions_with_accuracy = predictions_with_goal_prob.withColumn(\n",
    "    \"model_correct\", when(col(\"goal\") == col(\"goal_probability_rounded\"), 1).otherwise(0)\n",
    ").withColumn(\n",
    "    \"statsbomb_correct\", when(col(\"goal\") == col(\"shot_statsbomb_xg_rounded\"), 1).otherwise(0)\n",
    ")"
   ]
  },
  {
   "cell_type": "code",
   "execution_count": 32,
   "metadata": {},
   "outputs": [
    {
     "name": "stderr",
     "output_type": "stream",
     "text": [
      "                                                                                \r"
     ]
    },
    {
     "name": "stdout",
     "output_type": "stream",
     "text": [
      "Model Accuracy: 89.87%\n",
      "StatsBomb xG Accuracy: 90.90%\n"
     ]
    }
   ],
   "source": [
    "# Calculate accuracy\n",
    "accuracy_model = predictions_with_accuracy.selectExpr(\"avg(model_correct) as model_accuracy\").first()[\"model_accuracy\"]\n",
    "accuracy_statsbomb = predictions_with_accuracy.selectExpr(\"avg(statsbomb_correct) as statsbomb_accuracy\").first()[\"statsbomb_accuracy\"]\n",
    "\n",
    "print(f\"Model Accuracy: {accuracy_model * 100:.2f}%\")\n",
    "print(f\"StatsBomb xG Accuracy: {accuracy_statsbomb * 100:.2f}%\")"
   ]
  },
  {
   "cell_type": "code",
   "execution_count": 33,
   "metadata": {},
   "outputs": [
    {
     "name": "stdout",
     "output_type": "stream",
     "text": [
      "distance_to_goal: -0.0996929612307214\n",
      "shot_angle: 0.022848632580391395\n",
      "preferred_foot_shot: 0.8673798572513546\n",
      "under_pressure: -0.20892695425070718\n",
      "shot_aerial_won: -0.95174524161054\n",
      "shot_first_time: -0.2685325219729587\n",
      "shot_one_on_one: 0.28640098073007514\n",
      "shot_open_goal: 0.8822105198942372\n",
      "shot_follows_dribble: 0.9049464738620332\n",
      "players_inside_area: -0.2899164157444605\n"
     ]
    }
   ],
   "source": [
    "# show each feature with its coefficient\n",
    "coefficients = xg_model.stages[-1].coefficients\n",
    "features_coefficients = list(zip(features, coefficients))\n",
    "\n",
    "for feature, coefficient in features_coefficients:\n",
    "    print(f\"{feature}: {coefficient}\")"
   ]
  },
  {
   "cell_type": "code",
   "execution_count": 34,
   "metadata": {},
   "outputs": [],
   "source": [
    "# Testing matching of models, is out model as good as SB_xg?\n",
    "predictions_with_accuracy = predictions_with_goal_prob.withColumn(\n",
    "    \"model_to_sbxg\", when(col(\"goal_probability_rounded\") == col(\"shot_statsbomb_xg_rounded\"), 1).otherwise(0)\n",
    ")"
   ]
  },
  {
   "cell_type": "code",
   "execution_count": 35,
   "metadata": {},
   "outputs": [
    {
     "name": "stderr",
     "output_type": "stream",
     "text": [
      "[Stage 166:=================================================>  (189 + 11) / 200]\r"
     ]
    },
    {
     "name": "stdout",
     "output_type": "stream",
     "text": [
      "Models matching percentage: 97.04%\n"
     ]
    },
    {
     "name": "stderr",
     "output_type": "stream",
     "text": [
      "                                                                                \r"
     ]
    }
   ],
   "source": [
    "xg_accuracy_model = predictions_with_accuracy.selectExpr(\"avg(model_to_sbxg) as model_accuracy\").first()[\"model_accuracy\"]\n",
    "\n",
    "print(f\"Models matching percentage: {xg_accuracy_model * 100:.2f}%\")"
   ]
  },
  {
   "cell_type": "code",
   "execution_count": 38,
   "metadata": {},
   "outputs": [
    {
     "name": "stdout",
     "output_type": "stream",
     "text": [
      "Overall Accuracy: 0.8989\n",
      "Overall Precision: 0.8776\n",
      "Overall Recall: 0.8989\n",
      "Overall F1-Score: 0.8608\n",
      "Confusion Matrix:\n"
     ]
    },
    {
     "name": "stderr",
     "output_type": "stream",
     "text": [
      "                                                                                \r"
     ]
    },
    {
     "name": "stdout",
     "output_type": "stream",
     "text": [
      "Goal: 0, Predicted: 0.0, Count: 10991\n",
      "Goal: 0, Predicted: 1.0, Count: 46\n"
     ]
    },
    {
     "name": "stderr",
     "output_type": "stream",
     "text": [
      "[Stage 6415:===============================================>   (185 + 14) / 200]\r"
     ]
    },
    {
     "name": "stdout",
     "output_type": "stream",
     "text": [
      "Goal: 1, Predicted: 0.0, Count: 1201\n",
      "Goal: 1, Predicted: 1.0, Count: 95\n"
     ]
    },
    {
     "name": "stderr",
     "output_type": "stream",
     "text": [
      "                                                                                \r"
     ]
    }
   ],
   "source": [
    "from pyspark.ml.evaluation import MulticlassClassificationEvaluator\n",
    "from pyspark.sql.functions import col\n",
    "\n",
    "# Create an evaluator for accuracy, precision, recall, and F1-score\n",
    "accuracy_evaluator = MulticlassClassificationEvaluator(labelCol=\"goal\", predictionCol=\"prediction\", metricName=\"accuracy\")\n",
    "precision_evaluator = MulticlassClassificationEvaluator(labelCol=\"goal\", predictionCol=\"prediction\", metricName=\"weightedPrecision\")\n",
    "recall_evaluator = MulticlassClassificationEvaluator(labelCol=\"goal\", predictionCol=\"prediction\", metricName=\"weightedRecall\")\n",
    "f1_evaluator = MulticlassClassificationEvaluator(labelCol=\"goal\", predictionCol=\"prediction\", metricName=\"f1\")\n",
    "\n",
    "# Get predictions\n",
    "predictions = best_model.transform(test_data)\n",
    "\n",
    "# Compute accuracy for the whole dataset\n",
    "accuracy = accuracy_evaluator.evaluate(predictions)\n",
    "print(f\"Overall Accuracy: {accuracy:.4f}\")\n",
    "\n",
    "# Compute precision, recall, and F1-score for the whole dataset\n",
    "precision = precision_evaluator.evaluate(predictions)\n",
    "recall = recall_evaluator.evaluate(predictions)\n",
    "f1_score = f1_evaluator.evaluate(predictions)\n",
    "\n",
    "print(f\"Overall Precision: {precision:.4f}\")\n",
    "print(f\"Overall Recall: {recall:.4f}\")\n",
    "print(f\"Overall F1-Score: {f1_score:.4f}\")\n",
    "\n",
    "# Generate per-class metrics (you can use confusion matrix to get counts per class)\n",
    "from pyspark.ml.linalg import DenseVector\n",
    "from pyspark.sql.functions import udf\n",
    "from pyspark.sql.types import IntegerType\n",
    "\n",
    "# Extract prediction and label columns\n",
    "pred_and_labels = predictions.select(\"prediction\", \"goal\")\n",
    "\n",
    "# Calculate confusion matrix\n",
    "confusion_matrix = pred_and_labels.groupby(\"goal\", \"prediction\").count().collect()\n",
    "\n",
    "# Convert confusion matrix into a dictionary for easy reading\n",
    "confusion_dict = {}\n",
    "for row in confusion_matrix:\n",
    "    goal_class = row[\"goal\"]\n",
    "    predicted_class = row[\"prediction\"]\n",
    "    confusion_dict[(goal_class, predicted_class)] = row[\"count\"]\n",
    "\n",
    "# Display confusion matrix for each class\n",
    "print(\"Confusion Matrix:\")\n",
    "for goal_class in set(pred_and_labels.select(\"goal\").rdd.flatMap(lambda x: x).collect()):\n",
    "    for predicted_class in set(pred_and_labels.select(\"prediction\").rdd.flatMap(lambda x: x).collect()):\n",
    "        print(f\"Goal: {goal_class}, Predicted: {predicted_class}, Count: {confusion_dict.get((goal_class, predicted_class), 0)}\")\n",
    "\n",
    "# Calculate per-class accuracy (accuracy = TP / (TP + FP + FN + TN))\n",
    "# You can compute this based on the confusion matrix for each class.\n"
   ]
  }
 ],
 "metadata": {
  "kernelspec": {
   "display_name": "myenv",
   "language": "python",
   "name": "python3"
  },
  "language_info": {
   "codemirror_mode": {
    "name": "ipython",
    "version": 3
   },
   "file_extension": ".py",
   "mimetype": "text/x-python",
   "name": "python",
   "nbconvert_exporter": "python",
   "pygments_lexer": "ipython3",
   "version": "3.12.3"
  }
 },
 "nbformat": 4,
 "nbformat_minor": 2
}
