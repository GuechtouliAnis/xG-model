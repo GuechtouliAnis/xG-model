{
 "cells": [
  {
   "cell_type": "code",
   "execution_count": 3,
   "metadata": {},
   "outputs": [],
   "source": [
    "from pyspark.sql import SparkSession\n",
    "from pyspark.sql.functions import split, regexp_replace, col, when, sum"
   ]
  },
  {
   "cell_type": "code",
   "execution_count": 4,
   "metadata": {},
   "outputs": [],
   "source": [
    "spark = SparkSession.builder.appName(\"Cleaning_events\").getOrCreate()"
   ]
  },
  {
   "cell_type": "code",
   "execution_count": null,
   "metadata": {},
   "outputs": [],
   "source": [
    "# Data is storred in \"Dummies\" way, therefore it needs to be reorganized\n",
    "# 1- Select and Keep Only necessary columns\n",
    "# 2- Remove irrelevant data\n",
    "# 3- Create new columns to store kept data (or probably new files by splitting the data by type)"
   ]
  },
  {
   "cell_type": "code",
   "execution_count": null,
   "metadata": {},
   "outputs": [],
   "source": [
    "# We also need to create\n",
    "# 'distance to goal',\n",
    "# 'Shot angle',\n",
    "# 'number of players in area of shot',\n",
    "# 'number of close teammates',\n",
    "# 'fav foot' : most passes/shots with that foot"
   ]
  },
  {
   "cell_type": "code",
   "execution_count": 5,
   "metadata": {},
   "outputs": [],
   "source": [
    "events = spark.read.csv(\"hdfs://localhost:9000/big-data/events.csv\",header=True)"
   ]
  },
  {
   "cell_type": "code",
   "execution_count": 21,
   "metadata": {},
   "outputs": [
    {
     "name": "stderr",
     "output_type": "stream",
     "text": [
      "                                                                                \r"
     ]
    },
    {
     "data": {
      "text/plain": [
       "8710714"
      ]
     },
     "execution_count": 21,
     "metadata": {},
     "output_type": "execute_result"
    }
   ],
   "source": [
    "events.count()"
   ]
  },
  {
   "cell_type": "code",
   "execution_count": 8,
   "metadata": {},
   "outputs": [
    {
     "name": "stdout",
     "output_type": "stream",
     "text": [
      "root\n",
      " |-- 50_50: string (nullable = true)\n",
      " |-- bad_behaviour_card: string (nullable = true)\n",
      " |-- ball_receipt_outcome: string (nullable = true)\n",
      " |-- ball_recovery_offensive: string (nullable = true)\n",
      " |-- ball_recovery_recovery_failure: string (nullable = true)\n",
      " |-- block_deflection: string (nullable = true)\n",
      " |-- block_offensive: string (nullable = true)\n",
      " |-- carry_end_location: string (nullable = true)\n",
      " |-- clearance_aerial_won: string (nullable = true)\n",
      " |-- clearance_body_part: string (nullable = true)\n",
      " |-- clearance_head: string (nullable = true)\n",
      " |-- clearance_left_foot: string (nullable = true)\n",
      " |-- clearance_right_foot: string (nullable = true)\n",
      " |-- counterpress: string (nullable = true)\n",
      " |-- dribble_nutmeg: string (nullable = true)\n",
      " |-- dribble_outcome: string (nullable = true)\n",
      " |-- dribble_overrun: string (nullable = true)\n",
      " |-- duel_outcome: string (nullable = true)\n",
      " |-- duel_type: string (nullable = true)\n",
      " |-- duration: string (nullable = true)\n",
      " |-- foul_committed_advantage: string (nullable = true)\n",
      " |-- foul_committed_card: string (nullable = true)\n",
      " |-- foul_committed_type: string (nullable = true)\n",
      " |-- foul_won_advantage: string (nullable = true)\n",
      " |-- foul_won_defensive: string (nullable = true)\n",
      " |-- goalkeeper_body_part: string (nullable = true)\n",
      " |-- goalkeeper_end_location: string (nullable = true)\n",
      " |-- goalkeeper_outcome: string (nullable = true)\n",
      " |-- goalkeeper_position: string (nullable = true)\n",
      " |-- goalkeeper_technique: string (nullable = true)\n",
      " |-- goalkeeper_type: string (nullable = true)\n",
      " |-- id: string (nullable = true)\n",
      " |-- index: string (nullable = true)\n",
      " |-- injury_stoppage_in_chain: string (nullable = true)\n",
      " |-- interception_outcome: string (nullable = true)\n",
      " |-- location: string (nullable = true)\n",
      " |-- match_id: string (nullable = true)\n",
      " |-- minute: string (nullable = true)\n",
      " |-- off_camera: string (nullable = true)\n",
      " |-- out: string (nullable = true)\n",
      " |-- pass_aerial_won: string (nullable = true)\n",
      " |-- pass_angle: string (nullable = true)\n",
      " |-- pass_assisted_shot_id: string (nullable = true)\n",
      " |-- pass_body_part: string (nullable = true)\n",
      " |-- pass_cross: string (nullable = true)\n",
      " |-- pass_cut_back: string (nullable = true)\n",
      " |-- pass_end_location: string (nullable = true)\n",
      " |-- pass_goal_assist: string (nullable = true)\n",
      " |-- pass_height: string (nullable = true)\n",
      " |-- pass_inswinging: string (nullable = true)\n",
      " |-- pass_length: string (nullable = true)\n",
      " |-- pass_miscommunication: string (nullable = true)\n",
      " |-- pass_outcome: string (nullable = true)\n",
      " |-- pass_outswinging: string (nullable = true)\n",
      " |-- pass_recipient: string (nullable = true)\n",
      " |-- pass_recipient_id: string (nullable = true)\n",
      " |-- pass_shot_assist: string (nullable = true)\n",
      " |-- pass_switch: string (nullable = true)\n",
      " |-- pass_technique: string (nullable = true)\n",
      " |-- pass_through_ball: string (nullable = true)\n",
      " |-- pass_type: string (nullable = true)\n",
      " |-- period: string (nullable = true)\n",
      " |-- play_pattern: string (nullable = true)\n",
      " |-- player: string (nullable = true)\n",
      " |-- player_id: string (nullable = true)\n",
      " |-- position: string (nullable = true)\n",
      " |-- possession: string (nullable = true)\n",
      " |-- possession_team: string (nullable = true)\n",
      " |-- possession_team_id: string (nullable = true)\n",
      " |-- related_events: string (nullable = true)\n",
      " |-- second: string (nullable = true)\n",
      " |-- shot_aerial_won: string (nullable = true)\n",
      " |-- shot_body_part: string (nullable = true)\n",
      " |-- shot_end_location: string (nullable = true)\n",
      " |-- shot_first_time: string (nullable = true)\n",
      " |-- shot_freeze_frame: string (nullable = true)\n",
      " |-- shot_key_pass_id: string (nullable = true)\n",
      " |-- shot_one_on_one: string (nullable = true)\n",
      " |-- shot_outcome: string (nullable = true)\n",
      " |-- shot_statsbomb_xg: string (nullable = true)\n",
      " |-- shot_technique: string (nullable = true)\n",
      " |-- shot_type: string (nullable = true)\n",
      " |-- substitution_outcome: string (nullable = true)\n",
      " |-- substitution_outcome_id: string (nullable = true)\n",
      " |-- substitution_replacement: string (nullable = true)\n",
      " |-- substitution_replacement_id: string (nullable = true)\n",
      " |-- tactics: string (nullable = true)\n",
      " |-- team: string (nullable = true)\n",
      " |-- team_id: string (nullable = true)\n",
      " |-- timestamp: string (nullable = true)\n",
      " |-- type: string (nullable = true)\n",
      " |-- under_pressure: string (nullable = true)\n",
      " |-- block_save_block: string (nullable = true)\n",
      " |-- pass_no_touch: string (nullable = true)\n",
      " |-- goalkeeper_shot_saved_to_post: string (nullable = true)\n",
      " |-- pass_deflected: string (nullable = true)\n",
      " |-- shot_deflected: string (nullable = true)\n",
      " |-- shot_saved_to_post: string (nullable = true)\n",
      " |-- miscontrol_aerial_won: string (nullable = true)\n",
      " |-- shot_redirect: string (nullable = true)\n",
      " |-- foul_committed_penalty: string (nullable = true)\n",
      " |-- foul_won_penalty: string (nullable = true)\n",
      " |-- goalkeeper_punched_out: string (nullable = true)\n",
      " |-- foul_committed_offensive: string (nullable = true)\n",
      " |-- pass_straight: string (nullable = true)\n",
      " |-- clearance_other: string (nullable = true)\n",
      " |-- dribble_no_touch: string (nullable = true)\n",
      " |-- goalkeeper_lost_in_play: string (nullable = true)\n",
      " |-- goalkeeper_penalty_saved_to_post: string (nullable = true)\n",
      " |-- shot_open_goal: string (nullable = true)\n",
      " |-- goalkeeper_success_in_play: string (nullable = true)\n",
      " |-- player_off_permanent: string (nullable = true)\n",
      " |-- goalkeeper_shot_saved_off_target: string (nullable = true)\n",
      " |-- shot_follows_dribble: string (nullable = true)\n",
      " |-- shot_saved_off_target: string (nullable = true)\n",
      " |-- goalkeeper_success_out: string (nullable = true)\n",
      " |-- half_start_late_video_start: string (nullable = true)\n",
      " |-- pass_backheel: string (nullable = true)\n",
      "\n"
     ]
    }
   ],
   "source": [
    "events.printSchema()"
   ]
  },
  {
   "cell_type": "code",
   "execution_count": null,
   "metadata": {},
   "outputs": [
    {
     "name": "stderr",
     "output_type": "stream",
     "text": [
      "[Stage 26:=====================================================>  (25 + 1) / 26]\r"
     ]
    },
    {
     "name": "stdout",
     "output_type": "stream",
     "text": [
      "+--------+\n",
      "|count(1)|\n",
      "+--------+\n",
      "|   12005|\n",
      "+--------+\n",
      "\n"
     ]
    },
    {
     "name": "stderr",
     "output_type": "stream",
     "text": [
      "                                                                                \r"
     ]
    }
   ],
   "source": [
    "events.createOrReplaceTempView(\"events\")\n",
    "\n",
    "result_df = spark.sql(\"SELECT count(*) FROM events WHERE type = 'Shot'\")\n",
    "\n",
    "result_df.show()"
   ]
  },
  {
   "cell_type": "code",
   "execution_count": 51,
   "metadata": {},
   "outputs": [
    {
     "name": "stdout",
     "output_type": "stream",
     "text": [
      "+--------------------+-----------+--------------------+-----------------------+------------------+-------------------+--------------------+---------------+\n",
      "|                  id|       type|goalkeeper_body_part|goalkeeper_end_location|goalkeeper_outcome|goalkeeper_position|goalkeeper_technique|goalkeeper_type|\n",
      "+--------------------+-----------+--------------------+-----------------------+------------------+-------------------+--------------------+---------------+\n",
      "|07d5688a-516d-4ad...|Goal Keeper|                NULL|            [1.3, 38.2]|              NULL|                Set|                NULL|     Shot Faced|\n",
      "|a0a59d50-4998-4ec...|Goal Keeper|                NULL|                   NULL|             Claim|               NULL|                NULL| Keeper Sweeper|\n",
      "|927178da-7ce7-4cc...|Goal Keeper|          Both Hands|                   NULL|           Success|                Set|            Standing|     Shot Saved|\n",
      "|c4bf223a-92ff-4ca...|Goal Keeper|                NULL|            [2.7, 38.7]|              NULL|                Set|                NULL|     Shot Faced|\n",
      "|bafe7649-b134-4d4...|Goal Keeper|          Both Hands|                   NULL|           Success|                Set|            Standing|     Shot Saved|\n",
      "|8a422ce3-a109-409...|Goal Keeper|                NULL|                   NULL|             Claim|               NULL|                NULL| Keeper Sweeper|\n",
      "|79e398b0-81db-44d...|Goal Keeper|                NULL|            [0.9, 42.5]|              NULL|                Set|                NULL|     Shot Faced|\n",
      "|fb046ad3-2f00-463...|Goal Keeper|                NULL|            [2.0, 41.0]|              NULL|                Set|                NULL|     Shot Faced|\n",
      "|27b72c57-df6c-4ef...|Goal Keeper|          Right Hand|                   NULL|       Touched Out|                Set|              Diving|     Shot Saved|\n",
      "|f9587a81-5846-47a...|Goal Keeper|                NULL|            [0.9, 40.5]|              NULL|                Set|                NULL|     Shot Faced|\n",
      "|dab6fd27-7f76-432...|Goal Keeper|                NULL|            [1.7, 41.5]|              NULL|                Set|                NULL|     Shot Faced|\n",
      "|b4bcb1a8-1db3-4bc...|Goal Keeper|          Both Hands|                   NULL|           Success|                Set|            Standing|     Shot Saved|\n",
      "|1dc1ad75-b543-42f...|Goal Keeper|                NULL|            [1.7, 40.1]|              NULL|                Set|                NULL|     Shot Faced|\n",
      "|71dc9923-1224-459...|Goal Keeper|                NULL|                   NULL|             Claim|               NULL|                NULL| Keeper Sweeper|\n",
      "|87104401-3354-4a2...|Goal Keeper|                NULL|                   NULL|             Claim|               NULL|                NULL| Keeper Sweeper|\n",
      "|6e2703fc-b727-41f...|Goal Keeper|                NULL|            [1.6, 36.9]|              NULL|                Set|                NULL|     Shot Faced|\n",
      "|12998d12-ca4b-496...|Goal Keeper|           Left Foot|                   NULL|    In Play Danger|                Set|            Standing|     Shot Saved|\n",
      "|953a384d-e719-48f...|Goal Keeper|                NULL|                   NULL|             Claim|               NULL|                NULL| Keeper Sweeper|\n",
      "|6e3f3631-c435-4cd...|Goal Keeper|                NULL|            [2.5, 40.8]|              NULL|                Set|                NULL|     Shot Faced|\n",
      "|744a9184-b22a-4cd...|Goal Keeper|                NULL|            [1.1, 40.2]|              NULL|             Moving|                NULL|     Shot Faced|\n",
      "+--------------------+-----------+--------------------+-----------------------+------------------+-------------------+--------------------+---------------+\n",
      "only showing top 20 rows\n",
      "\n"
     ]
    }
   ],
   "source": [
    "# Trying with Goalkeeper\n",
    "constant_f = ['id','type']\n",
    "\n",
    "features = ['goalkeeper_body_part','goalkeeper_end_location','goalkeeper_outcome','goalkeeper_position','goalkeeper_technique',\n",
    "          'goalkeeper_type']\n",
    "\n",
    "\n",
    "conditions = ' IS NOT NULL OR '.join(features) + ' IS NOT NULL'\n",
    "\n",
    "query = f'''\n",
    "SELECT {','.join(constant_f)},{','.join(features)} FROM events\n",
    "\n",
    "WHERE {conditions};\n",
    "'''\n",
    "\n",
    "rs = spark.sql(query)\n",
    "rs.show()"
   ]
  },
  {
   "cell_type": "code",
   "execution_count": 4,
   "metadata": {},
   "outputs": [],
   "source": [
    "spark.stop()"
   ]
  }
 ],
 "metadata": {
  "kernelspec": {
   "display_name": "myenv",
   "language": "python",
   "name": "python3"
  },
  "language_info": {
   "codemirror_mode": {
    "name": "ipython",
    "version": 3
   },
   "file_extension": ".py",
   "mimetype": "text/x-python",
   "name": "python",
   "nbconvert_exporter": "python",
   "pygments_lexer": "ipython3",
   "version": "3.12.3"
  }
 },
 "nbformat": 4,
 "nbformat_minor": 2
}
