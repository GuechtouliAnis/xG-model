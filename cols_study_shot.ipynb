{
 "cells": [
  {
   "cell_type": "code",
   "execution_count": 5,
   "metadata": {},
   "outputs": [],
   "source": [
    "from pyspark.sql import SparkSession\n",
    "import pyspark.sql.functions as F"
   ]
  },
  {
   "cell_type": "code",
   "execution_count": 3,
   "metadata": {},
   "outputs": [],
   "source": [
    "spark = SparkSession.builder.appName('Shot_columns').getOrCreate()"
   ]
  },
  {
   "cell_type": "code",
   "execution_count": 4,
   "metadata": {},
   "outputs": [
    {
     "name": "stderr",
     "output_type": "stream",
     "text": [
      "                                                                                \r"
     ]
    }
   ],
   "source": [
    "Prem = spark.read.csv('Dataset/events/England - Premier League.csv', header=True, inferSchema=True, sep=';')"
   ]
  },
  {
   "cell_type": "code",
   "execution_count": null,
   "metadata": {},
   "outputs": [],
   "source": [
    "# count null values in each column when type == 'Shot'\n",
    "shot_cols = []\n",
    "for col in Prem.columns:\n",
    "    if Prem.filter(Prem['type']=='Shot').filter(Prem[col].isNull()).count() != Prem.filter(Prem['type']=='Shot').count():\n",
    "        shot_cols.append(col)"
   ]
  },
  {
   "cell_type": "code",
   "execution_count": 7,
   "metadata": {},
   "outputs": [],
   "source": [
    "# To avoid running the previous cell everytime as it takes some time to run\n",
    "shot_cols = ['duration', 'id', 'index', 'location', 'match_id', 'minute', 'period', 'play_pattern', 'player', 'player_id', 'position',\n",
    " 'possession', 'possession_team', 'possession_team_id', 'related_events', 'second', 'shot_aerial_won', 'shot_body_part',\n",
    " 'shot_end_location', 'shot_first_time', 'shot_freeze_frame', 'shot_key_pass_id', 'shot_one_on_one', 'shot_outcome', 'shot_statsbomb_xg',\n",
    " 'shot_technique', 'shot_type', 'team', 'team_id', 'timestamp', 'type', 'under_pressure', 'competition', 'season', 'shot_open_goal',\n",
    " 'shot_redirect', 'shot_deflected', 'off_camera', 'out', 'shot_saved_to_post', 'shot_saved_off_target', 'shot_follows_dribble']"
   ]
  },
  {
   "cell_type": "code",
   "execution_count": 9,
   "metadata": {},
   "outputs": [
    {
     "name": "stdout",
     "output_type": "stream",
     "text": [
      "+--------+--------------------+-----+-------------+--------+------+------+--------------+-------------------+---------+--------------------+----------+---------------+------------------+--------------------+------+---------------+--------------+------------------+---------------+--------------------+--------------------+---------------+------------+-----------------+--------------+---------+---------------+-------+--------------------+----+--------------+--------------------+---------+--------------+-------------+--------------+----------+----+------------------+---------------------+--------------------+\n",
      "|duration|                  id|index|     location|match_id|minute|period|  play_pattern|             player|player_id|            position|possession|possession_team|possession_team_id|      related_events|second|shot_aerial_won|shot_body_part| shot_end_location|shot_first_time|   shot_freeze_frame|    shot_key_pass_id|shot_one_on_one|shot_outcome|shot_statsbomb_xg|shot_technique|shot_type|           team|team_id|           timestamp|type|under_pressure|         competition|   season|shot_open_goal|shot_redirect|shot_deflected|off_camera| out|shot_saved_to_post|shot_saved_off_target|shot_follows_dribble|\n",
      "+--------+--------------------+-----+-------------+--------+------+------+--------------+-------------------+---------+--------------------+----------+---------------+------------------+--------------------+------+---------------+--------------+------------------+---------------+--------------------+--------------------+---------------+------------+-----------------+--------------+---------+---------------+-------+--------------------+----+--------------+--------------------+---------+--------------+-------------+--------------+----------+----+------------------+---------------------+--------------------+\n",
      "|0.271905|72596ffe-393e-4a7...|   93|[107.1, 26.6]| 3754058|     1|     1|  Regular Play|   Junior Stanislas|   3463.0|       Left Midfield|         4|AFC Bournemouth|                28|['1b9c4015-67df-4...|    33|           NULL|    Right Foot|     [109.7, 30.1]|           NULL|\"[{'location': [1...|45ddfb48-fdda-40c...|           NULL|     Blocked|       0.02083787|        Normal|Open Play|AFC Bournemouth|     28|2025-02-02 00:01:...|Shot|          NULL|England - Premier...|2015/2016|          NULL|         NULL|          NULL|      NULL|NULL|              NULL|                 NULL|                NULL|\n",
      "|0.236075|b2bae775-5dd8-45b...|  224|[113.7, 54.0]| 3754058|     4|     1|  Regular Play|        Joshua King|   3346.0|      Center Forward|         9|AFC Bournemouth|                28|['a351d3d5-b02f-4...|    23|           NULL|    Right Foot|     [114.5, 52.6]|           NULL|[{'location': [11...|ab2aac8d-dcc9-48d...|           NULL|     Blocked|      0.034461774|        Normal|Open Play|AFC Bournemouth|     28|2025-02-02 00:04:...|Shot|          NULL|England - Premier...|2015/2016|          NULL|         NULL|          NULL|      NULL|NULL|              NULL|                 NULL|                NULL|\n",
      "|0.770062|7c4227e5-0759-463...|  440|[115.7, 50.5]| 3754058|     9|     1|  Regular Play|       Riyad Mahrez|   3814.0|      Right Midfield|        16| Leicester City|                22|['6a0bf226-4535-4...|    20|           NULL|     Left Foot|[120.0, 43.3, 3.6]|           true|[{'location': [96...|25c558b5-fe79-48d...|           NULL|       Off T|      0.035480928| Overhead Kick|Open Play| Leicester City|     22|2025-02-02 00:09:...|Shot|          true|England - Premier...|2015/2016|          NULL|         NULL|          NULL|      NULL|NULL|              NULL|                 NULL|                NULL|\n",
      "|0.884091|8e3a6f10-64e4-49b...|  579|[113.9, 38.6]| 3754058|    13|     1| From Throw In|        Joshua King|   3346.0|      Center Forward|        20|AFC Bournemouth|                28|['40d7f263-24e6-4...|    11|           NULL|          Head|[120.0, 46.0, 1.2]|           NULL|[{'location': [12...|880f1a79-5a60-413...|           NULL|       Off T|       0.38371146|        Normal|Open Play|AFC Bournemouth|     28|2025-02-02 00:13:...|Shot|          NULL|England - Premier...|2015/2016|          NULL|         NULL|          NULL|      NULL|NULL|              NULL|                 NULL|                NULL|\n",
      "| 0.82662|3a5364b3-0b99-427...| 1170| [96.7, 47.2]| 3754058|    25|     1|From Free Kick|José Leonardo Ulloa|   3671.0|Right Center Forward|        47| Leicester City|                22|['bb2f23ab-e882-4...|    47|           NULL|    Right Foot|     [103.9, 40.1]|           NULL|[{'location': [99...|                NULL|           NULL|     Wayward|      0.036740057|   Half Volley|Open Play| Leicester City|     22|2025-02-02 00:25:...|Shot|          NULL|England - Premier...|2015/2016|          NULL|         NULL|          NULL|      NULL|NULL|              NULL|                 NULL|                NULL|\n",
      "|0.423901|1d66ec6b-17ea-418...| 1177|[111.3, 38.7]| 3754058|    25|     1|From Free Kick|        Jamie Vardy|  10960.0| Left Center Forward|        47| Leicester City|                22|['0a7eb203-368d-4...|    49|           NULL|    Right Foot|[120.0, 36.0, 1.3]|           NULL|[{'location': [97...|                NULL|           true|        Post|        0.5754278|        Normal|Open Play| Leicester City|     22|2025-02-02 00:25:...|Shot|          NULL|England - Premier...|2015/2016|          NULL|         NULL|          NULL|      NULL|NULL|              NULL|                 NULL|                NULL|\n",
      "|0.481125|e766a3d8-8a5e-42d...| 1432|[112.6, 28.7]| 3754058|    32|     1| From Throw In|   Junior Stanislas|   3463.0|       Left Midfield|        58|AFC Bournemouth|                28|['f68e5686-23a9-4...|    14|           NULL|    Right Foot|[120.0, 48.0, 5.3]|           NULL|[{'location': [93...|87e16d06-837f-46b...|           NULL|       Off T|      0.095997825|        Normal|Open Play|AFC Bournemouth|     28|2025-02-02 00:32:...|Shot|          NULL|England - Premier...|2015/2016|          NULL|         NULL|          NULL|      NULL|NULL|              NULL|                 NULL|                NULL|\n",
      "|1.891069|373e52d0-06f0-44b...| 1491|[112.1, 32.8]| 3754058|    33|     1|From Free Kick|José Leonardo Ulloa|   3671.0|Right Center Forward|        62| Leicester City|                22|['7d08bbf9-805b-4...|    52|           true|          Head|[120.0, 48.3, 1.0]|           NULL|[{'location': [10...|e67441c6-7737-4a1...|           NULL|       Off T|       0.04725947|        Normal|Open Play| Leicester City|     22|2025-02-02 00:33:...|Shot|          true|England - Premier...|2015/2016|          NULL|         NULL|          NULL|      NULL|NULL|              NULL|                 NULL|                NULL|\n",
      "|0.718851|77d83d42-ad31-42c...| 1602|[108.4, 43.0]| 3754058|    36|     1|From Free Kick|        Dan Gosling|   3343.0|Right Center Midf...|        68|AFC Bournemouth|                28|['b01462a7-4658-4...|    57|           NULL|    Right Foot|[120.0, 41.4, 4.9]|           true|\"[{'location': [1...|56e4259e-304a-4d4...|           NULL|       Off T|       0.25644818|        Normal|Open Play|AFC Bournemouth|     28|2025-02-02 00:36:...|Shot|          NULL|England - Premier...|2015/2016|          NULL|         NULL|          NULL|      NULL|NULL|              NULL|                 NULL|                NULL|\n",
      "|1.143391|12ab3780-190a-477...| 1616|[114.2, 27.2]| 3754058|    37|     1|From Goal Kick|        Jamie Vardy|  10960.0| Left Center Forward|        69| Leicester City|                22|['9f934bea-3a38-4...|    43|           NULL|     Left Foot|     [119.2, 50.5]|           NULL|\"[{'location': [1...|1b16fa70-ea64-4ef...|           true|     Wayward|        0.1119732|        Normal|Open Play| Leicester City|     22|2025-02-02 00:37:...|Shot|          NULL|England - Premier...|2015/2016|          NULL|         NULL|          NULL|      NULL|NULL|              NULL|                 NULL|                NULL|\n",
      "+--------+--------------------+-----+-------------+--------+------+------+--------------+-------------------+---------+--------------------+----------+---------------+------------------+--------------------+------+---------------+--------------+------------------+---------------+--------------------+--------------------+---------------+------------+-----------------+--------------+---------+---------------+-------+--------------------+----+--------------+--------------------+---------+--------------+-------------+--------------+----------+----+------------------+---------------------+--------------------+\n",
      "only showing top 10 rows\n",
      "\n"
     ]
    }
   ],
   "source": [
    "Prem.filter(F.col('type') == 'Shot').select(shot_cols).show(10)"
   ]
  },
  {
   "cell_type": "markdown",
   "metadata": {},
   "source": [
    "### Splitting columns"
   ]
  },
  {
   "cell_type": "code",
   "execution_count": null,
   "metadata": {},
   "outputs": [],
   "source": [
    "identify_cols = ['id', 'index', 'match_id', 'minute', 'period', 'position', 'team_id', 'type', 'competition', 'season']\n",
    "\n",
    "features_cols = ['location','play_pattern','shot_aerial_won', 'shot_body_part', 'shot_first_time', 'shot_freeze_frame', 'shot_key_pass_id',\n",
    "                 'shot_one_on_one', 'shot_technique', 'shot_type', 'under_pressure','shot_open_goal','shot_follows_dribble']\n",
    "\n",
    "target_cols   = ['shot_outcome', 'shot_statsbomb_xg']\n",
    "\n",
    "dropped_cols  = ['player_id', 'player', 'possession_team', 'possession_team_id', 'related_events', 'second', 'shot_end_location', 'team',\n",
    "                 'timestamp', 'shot_redirect', 'shot_deflected', 'off_camera', 'out', 'shot_saved_to_post', 'shot_saved_off_target']"
   ]
  }
 ],
 "metadata": {
  "kernelspec": {
   "display_name": "myenv",
   "language": "python",
   "name": "python3"
  },
  "language_info": {
   "codemirror_mode": {
    "name": "ipython",
    "version": 3
   },
   "file_extension": ".py",
   "mimetype": "text/x-python",
   "name": "python",
   "nbconvert_exporter": "python",
   "pygments_lexer": "ipython3",
   "version": "3.12.3"
  }
 },
 "nbformat": 4,
 "nbformat_minor": 2
}
