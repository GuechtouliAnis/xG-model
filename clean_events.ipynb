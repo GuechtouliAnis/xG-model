{
 "cells": [
  {
   "cell_type": "code",
   "execution_count": 2,
   "metadata": {},
   "outputs": [],
   "source": [
    "from pyspark.sql import SparkSession"
   ]
  },
  {
   "cell_type": "code",
   "execution_count": 3,
   "metadata": {},
   "outputs": [],
   "source": [
    "from pyspark.sql.functions import regexp_extract, col, when"
   ]
  },
  {
   "cell_type": "code",
   "execution_count": 4,
   "metadata": {},
   "outputs": [
    {
     "name": "stderr",
     "output_type": "stream",
     "text": [
      "your 131072x1 screen size is bogus. expect trouble\n",
      "Setting default log level to \"WARN\".\n",
      "To adjust logging level use sc.setLogLevel(newLevel). For SparkR, use setLogLevel(newLevel).\n",
      "24/12/19 12:14:28 WARN NativeCodeLoader: Unable to load native-hadoop library for your platform... using builtin-java classes where applicable\n"
     ]
    }
   ],
   "source": [
    "spark = SparkSession.builder.appName('Clean_event_data').getOrCreate()"
   ]
  },
  {
   "cell_type": "code",
   "execution_count": 5,
   "metadata": {},
   "outputs": [
    {
     "name": "stderr",
     "output_type": "stream",
     "text": [
      "                                                                                \r"
     ]
    }
   ],
   "source": [
    "events = spark.read.csv('Data/events.csv',header=True,inferSchema=True,sep=';')"
   ]
  },
  {
   "cell_type": "code",
   "execution_count": 7,
   "metadata": {},
   "outputs": [
    {
     "name": "stderr",
     "output_type": "stream",
     "text": [
      "                                                                                \r"
     ]
    },
    {
     "data": {
      "text/plain": [
       "8710714"
      ]
     },
     "execution_count": 7,
     "metadata": {},
     "output_type": "execute_result"
    }
   ],
   "source": [
    "events.count()"
   ]
  },
  {
   "cell_type": "code",
   "execution_count": 10,
   "metadata": {},
   "outputs": [
    {
     "name": "stderr",
     "output_type": "stream",
     "text": [
      "[Stage 12:==================================================>     (25 + 3) / 28]\r"
     ]
    },
    {
     "name": "stdout",
     "output_type": "stream",
     "text": [
      "+--------------+-------+\n",
      "|          type|  count|\n",
      "+--------------+-------+\n",
      "|          Pass|2434509|\n",
      "| Ball Receipt*|2293313|\n",
      "|         Carry|1868736|\n",
      "|      Pressure| 792485|\n",
      "| Ball Recovery| 249876|\n",
      "|          Duel| 187690|\n",
      "|     Clearance| 110176|\n",
      "|         Block|  93904|\n",
      "|       Dribble|  82105|\n",
      "|   Goal Keeper|  74663|\n",
      "|Foul Committed|  73087|\n",
      "|      Foul Won|  69643|\n",
      "|    Miscontrol|  68593|\n",
      "|          Shot|  61608|\n",
      "|  Dispossessed|  60954|\n",
      "|  Interception|  57124|\n",
      "| Dribbled Past|  50262|\n",
      "|  Substitution|  15324|\n",
      "|      Half End|   9972|\n",
      "|    Half Start|   9972|\n",
      "+--------------+-------+\n",
      "only showing top 20 rows\n",
      "\n"
     ]
    },
    {
     "name": "stderr",
     "output_type": "stream",
     "text": [
      "                                                                                \r"
     ]
    }
   ],
   "source": [
    "events.groupBy('type').count().orderBy('count',ascending=False).show()"
   ]
  },
  {
   "cell_type": "code",
   "execution_count": 13,
   "metadata": {},
   "outputs": [
    {
     "name": "stderr",
     "output_type": "stream",
     "text": [
      "                                                                                \r"
     ]
    },
    {
     "data": {
      "text/plain": [
       "61608"
      ]
     },
     "execution_count": 13,
     "metadata": {},
     "output_type": "execute_result"
    }
   ],
   "source": [
    "events_shot = events.filter(events.type == 'Shot')"
   ]
  },
  {
   "cell_type": "code",
   "execution_count": 14,
   "metadata": {},
   "outputs": [],
   "source": [
    "shot_columns = ['id','match_id','index','player_id','player','position','type','play_pattern','location','under_pressure']\n",
    "remove_cols = ['goalkeeper_shot_saved_off_target', 'goalkeeper_shot_saved_to_post', 'pass_shot_assist','pass_assisted_shot_id']\n",
    "# now from events.columns add all columns that have 'shot' in them\n",
    "shot_columns += [col for col in events.columns if 'shot' in col]\n",
    "# remove the columns that are not needed\n",
    "shot_columns = [col for col in shot_columns if col not in remove_cols]"
   ]
  },
  {
   "cell_type": "code",
   "execution_count": 15,
   "metadata": {},
   "outputs": [],
   "source": [
    "columns_t = ['id','match_id','index','player_id','player','position','type','shot_body_part','play_pattern',\n",
    " 'shot_type','shot_technique','shot_outcome','shot_statsbomb_xg','location', 'shot_end_location', 'shot_freeze_frame',\n",
    " 'shot_key_pass_id', 'under_pressure','shot_one_on_one', 'shot_deflected','shot_aerial_won','shot_redirect','shot_follows_dribble',\n",
    " 'shot_saved_off_target', 'shot_first_time','pass_shot_assist','shot_open_goal',]"
   ]
  },
  {
   "cell_type": "code",
   "execution_count": 16,
   "metadata": {},
   "outputs": [
    {
     "name": "stdout",
     "output_type": "stream",
     "text": [
      "+--------------------+--------+-----+---------+--------------------+--------------------+----+-------------+-------------+--------------+---------------+--------------+------------------+---------------+--------------------+--------------------+---------------+------------+-----------------+--------------+---------+--------------+-------------+--------------+------------------+---------------------+--------------------+\n",
      "|                  id|match_id|index|player_id|              player|            position|type| play_pattern|     location|under_pressure|shot_aerial_won|shot_body_part| shot_end_location|shot_first_time|   shot_freeze_frame|    shot_key_pass_id|shot_one_on_one|shot_outcome|shot_statsbomb_xg|shot_technique|shot_type|shot_open_goal|shot_redirect|shot_deflected|shot_saved_to_post|shot_saved_off_target|shot_follows_dribble|\n",
      "+--------------------+--------+-----+---------+--------------------+--------------------+----+-------------+-------------+--------------+---------------+--------------+------------------+---------------+--------------------+--------------------+---------------+------------+-----------------+--------------+---------+--------------+-------------+--------------+------------------+---------------------+--------------------+\n",
      "|3c3fd192-a115-47b...| 3943077|   37|  29560.0|      Julián Álvarez| Left Center Forward|Shot|From Kick Off|[105.6, 44.0]|          NULL|           NULL|    Right Foot|[120.0, 31.9, 0.5]|           true|[{'location': [11...|1181dfe8-4feb-4a8...|           NULL|       Off T|       0.07213958|   Half Volley|Open Play|          NULL|         NULL|          NULL|              NULL|                 NULL|                NULL|\n",
      "|b164d43a-c2cd-423...| 3943077|  182|  27158.0|Luis Fernando Día...| Left Center Forward|Shot|  From Keeper| [98.6, 25.2]|          NULL|           NULL|    Right Foot|[117.9, 37.0, 0.3]|           NULL|[{'location': [83...|0f75d90d-d5ec-431...|           NULL|       Saved|       0.02977089|        Normal|Open Play|          NULL|         NULL|          NULL|              NULL|                 NULL|                NULL|\n",
      "|417a2357-d337-43c...| 3943077|  241|   8817.0|Jhon Andrés Córdo...|Right Center Forward|Shot|From Throw In|[105.5, 47.3]|          true|           NULL|    Right Foot|[120.0, 35.9, 1.3]|           NULL|[{'location': [87...|cbab18fe-61a7-46b...|           NULL|        Post|       0.07589752|   Half Volley|Open Play|          NULL|         NULL|          NULL|              NULL|                 NULL|                NULL|\n",
      "|30702c96-5580-48d...| 3943077|  474|  28567.0|Carlos Eccehomo C...|    Left Center Back|Shot|  From Corner|[113.4, 38.7]|          true|           true|          Head|[118.8, 38.4, 0.9]|           NULL|[{'location': [10...|53fe0ab7-a8ef-47b...|           NULL|       Saved|       0.15686217|        Normal|Open Play|          NULL|         NULL|          NULL|              NULL|                 NULL|                NULL|\n",
      "|970398e3-c3cc-4d2...| 3943077|  828|   5503.0|Lionel Andrés Mes...|Right Center Forward|Shot|From Throw In|[106.2, 36.8]|          NULL|           NULL|     Left Foot|     [112.1, 36.8]|           true|[{'location': [11...|a88be15e-8f63-466...|           NULL|     Blocked|       0.15133068|        Normal|Open Play|          NULL|         NULL|          NULL|              NULL|                 NULL|                NULL|\n",
      "+--------------------+--------+-----+---------+--------------------+--------------------+----+-------------+-------------+--------------+---------------+--------------+------------------+---------------+--------------------+--------------------+---------------+------------+-----------------+--------------+---------+--------------+-------------+--------------+------------------+---------------------+--------------------+\n",
      "only showing top 5 rows\n",
      "\n"
     ]
    }
   ],
   "source": [
    "events_shot = events.filter(events.type=='Shot').select(shot_columns)\n",
    "# show without truncating\n",
    "events_shot.show(5)"
   ]
  },
  {
   "cell_type": "code",
   "execution_count": 17,
   "metadata": {},
   "outputs": [],
   "source": [
    "cols = events_shot.columns\n",
    "temp = 'SUM(CASE WHEN {} IS NULL THEN 1 ELSE 0 END) as {}_nulls'\n",
    "nulls = [temp.format(col,col) for col in cols]\n",
    "nulls = ','.join(nulls)"
   ]
  },
  {
   "cell_type": "code",
   "execution_count": 18,
   "metadata": {},
   "outputs": [
    {
     "name": "stderr",
     "output_type": "stream",
     "text": [
      "[Stage 23:==================================================>     (25 + 3) / 28]\r"
     ]
    },
    {
     "name": "stdout",
     "output_type": "stream",
     "text": [
      "+--------+--------------+-----------+---------------+------------+--------------+----------+------------------+--------------+--------------------+---------------------+--------------------+-----------------------+---------------------+-----------------------+----------------------+---------------------+------------------+-----------------------+--------------------+---------------+--------------------+-------------------+--------------------+------------------------+---------------------------+--------------------------+\n",
      "|id_nulls|match_id_nulls|index_nulls|player_id_nulls|player_nulls|position_nulls|type_nulls|play_pattern_nulls|location_nulls|under_pressure_nulls|shot_aerial_won_nulls|shot_body_part_nulls|shot_end_location_nulls|shot_first_time_nulls|shot_freeze_frame_nulls|shot_key_pass_id_nulls|shot_one_on_one_nulls|shot_outcome_nulls|shot_statsbomb_xg_nulls|shot_technique_nulls|shot_type_nulls|shot_open_goal_nulls|shot_redirect_nulls|shot_deflected_nulls|shot_saved_to_post_nulls|shot_saved_off_target_nulls|shot_follows_dribble_nulls|\n",
      "+--------+--------------+-----------+---------------+------------+--------------+----------+------------------+--------------+--------------------+---------------------+--------------------+-----------------------+---------------------+-----------------------+----------------------+---------------------+------------------+-----------------------+--------------------+---------------+--------------------+-------------------+--------------------+------------------------+---------------------------+--------------------------+\n",
      "|       0|             0|          0|              0|           0|             0|         0|                 0|             0|               46059|                56262|                   0|                      0|                42507|                    834|                 17664|                58411|                 0|                      0|                   0|              0|               60958|              61477|               60731|                   61410|                      61401|                     61561|\n",
      "+--------+--------------+-----------+---------------+------------+--------------+----------+------------------+--------------+--------------------+---------------------+--------------------+-----------------------+---------------------+-----------------------+----------------------+---------------------+------------------+-----------------------+--------------------+---------------+--------------------+-------------------+--------------------+------------------------+---------------------------+--------------------------+\n",
      "\n"
     ]
    },
    {
     "name": "stderr",
     "output_type": "stream",
     "text": [
      "                                                                                \r"
     ]
    }
   ],
   "source": [
    "events_shot.createOrReplaceTempView('events_shot')\n",
    "\n",
    "query = f'''\n",
    "SELECT {nulls}\n",
    "FROM events_shot\n",
    "'''\n",
    "\n",
    "spark.sql(query).show()"
   ]
  },
  {
   "cell_type": "code",
   "execution_count": null,
   "metadata": {},
   "outputs": [],
   "source": [
    "events_shot = events_shot.withColumn(\"shot_location_x\", regexp_extract(col(\"location\"), r'\\[(.*?),', 1).cast(\"float\")) \\\n",
    "             .withColumn(\"shot_location_y\", regexp_extract(col(\"location\"), r', (.*?)\\]', 1).cast(\"float\"))\n",
    "\n",
    "events_shot.select('location','shot_location_x','shot_location_y').show(5)"
   ]
  },
  {
   "cell_type": "code",
   "execution_count": null,
   "metadata": {},
   "outputs": [],
   "source": [
    "# Split location\n",
    "# split shot end location # consider ground shots\n",
    "# solution for shot_freeze_frame\n",
    "# distribution of xg based on shot type etc\n",
    "# function to plot all shots\n",
    "# % of the shot outcome"
   ]
  }
 ],
 "metadata": {
  "kernelspec": {
   "display_name": "myenv",
   "language": "python",
   "name": "python3"
  },
  "language_info": {
   "codemirror_mode": {
    "name": "ipython",
    "version": 3
   },
   "file_extension": ".py",
   "mimetype": "text/x-python",
   "name": "python",
   "nbconvert_exporter": "python",
   "pygments_lexer": "ipython3",
   "version": "3.12.3"
  }
 },
 "nbformat": 4,
 "nbformat_minor": 2
}
