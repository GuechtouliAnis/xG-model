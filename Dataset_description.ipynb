{
 "cells": [
  {
   "cell_type": "code",
   "execution_count": 45,
   "metadata": {},
   "outputs": [],
   "source": [
    "from pyspark.sql import SparkSession\n",
    "from pyspark.sql.functions import col,round"
   ]
  },
  {
   "cell_type": "code",
   "execution_count": 2,
   "metadata": {},
   "outputs": [
    {
     "name": "stderr",
     "output_type": "stream",
     "text": [
      "your 131072x1 screen size is bogus. expect trouble\n",
      "Setting default log level to \"WARN\".\n",
      "To adjust logging level use sc.setLogLevel(newLevel). For SparkR, use setLogLevel(newLevel).\n",
      "24/12/25 14:54:12 WARN NativeCodeLoader: Unable to load native-hadoop library for your platform... using builtin-java classes where applicable\n"
     ]
    }
   ],
   "source": [
    "spark = SparkSession.builder.appName(\"Dataset_Description\").getOrCreate()"
   ]
  },
  {
   "cell_type": "markdown",
   "metadata": {},
   "source": [
    "### Competitions"
   ]
  },
  {
   "cell_type": "code",
   "execution_count": 5,
   "metadata": {},
   "outputs": [],
   "source": [
    "competitions = spark.read.csv('Data/competitions.csv', header=True, inferSchema=True)"
   ]
  },
  {
   "cell_type": "code",
   "execution_count": null,
   "metadata": {},
   "outputs": [
    {
     "name": "stdout",
     "output_type": "stream",
     "text": [
      "+------------------------+----------------------+-----+\n",
      "|country_name            |competition_name      |count|\n",
      "+------------------------+----------------------+-----+\n",
      "|Africa                  |African Cup of Nations|1    |\n",
      "|England                 |Premier League        |1    |\n",
      "|Europe                  |Champions League      |5    |\n",
      "|Europe                  |UEFA Euro             |2    |\n",
      "|France                  |Ligue 1               |3    |\n",
      "|Germany                 |1. Bundesliga         |2    |\n",
      "|International           |FIFA World Cup        |2    |\n",
      "|Italy                   |Serie A               |1    |\n",
      "|South America           |Copa America          |1    |\n",
      "|Spain                   |La Liga               |7    |\n",
      "|United States of America|Major League Soccer   |1    |\n",
      "+------------------------+----------------------+-----+\n",
      "\n"
     ]
    }
   ],
   "source": [
    "competitions.groupBy('country_name','competition_name').count().orderBy('country_name').show(20,False)"
   ]
  },
  {
   "cell_type": "markdown",
   "metadata": {},
   "source": [
    "Dataset issues\n",
    "- Not many leagues\n",
    "- No continuous data (Limited)"
   ]
  },
  {
   "cell_type": "code",
   "execution_count": 20,
   "metadata": {},
   "outputs": [],
   "source": [
    "matches = spark.read.csv('Data/matches.csv', header=True, inferSchema=True)"
   ]
  },
  {
   "cell_type": "code",
   "execution_count": 31,
   "metadata": {},
   "outputs": [
    {
     "name": "stdout",
     "output_type": "stream",
     "text": [
      "+----------------------------------------------+---------+-----+\n",
      "|competition                                   |season   |count|\n",
      "+----------------------------------------------+---------+-----+\n",
      "|Africa - African Cup of Nations               |2023     |52   |\n",
      "|England - Premier League                      |2015/2016|380  |\n",
      "|Europe - Champions League                     |2014/2015|1    |\n",
      "|Europe - Champions League                     |2015/2016|1    |\n",
      "|Europe - Champions League                     |2016/2017|1    |\n",
      "|Europe - Champions League                     |2017/2018|1    |\n",
      "|Europe - Champions League                     |2018/2019|1    |\n",
      "|Europe - UEFA Euro                            |2020     |51   |\n",
      "|Europe - UEFA Euro                            |2024     |51   |\n",
      "|France - Ligue 1                              |2015/2016|377  |\n",
      "|France - Ligue 1                              |2021/2022|26   |\n",
      "|France - Ligue 1                              |2022/2023|32   |\n",
      "|Germany - 1. Bundesliga                       |2015/2016|306  |\n",
      "|Germany - 1. Bundesliga                       |2023/2024|34   |\n",
      "|International - FIFA World Cup                |2018     |64   |\n",
      "|International - FIFA World Cup                |2022     |64   |\n",
      "|Italy - Serie A                               |2015/2016|380  |\n",
      "|South America - Copa America                  |2024     |32   |\n",
      "|Spain - La Liga                               |2014/2015|38   |\n",
      "|Spain - La Liga                               |2015/2016|380  |\n",
      "|Spain - La Liga                               |2016/2017|34   |\n",
      "|Spain - La Liga                               |2017/2018|36   |\n",
      "|Spain - La Liga                               |2018/2019|34   |\n",
      "|Spain - La Liga                               |2019/2020|33   |\n",
      "|Spain - La Liga                               |2020/2021|35   |\n",
      "|United States of America - Major League Soccer|2023     |6    |\n",
      "+----------------------------------------------+---------+-----+\n",
      "\n"
     ]
    }
   ],
   "source": [
    "matches.groupBy('competition','season').count().orderBy('competition','season').show(28,False)"
   ]
  },
  {
   "cell_type": "code",
   "execution_count": 55,
   "metadata": {},
   "outputs": [
    {
     "name": "stdout",
     "output_type": "stream",
     "text": [
      "+----------+----------+\n",
      "|home_score|away_score|\n",
      "+----------+----------+\n",
      "|     1.539|     1.198|\n",
      "+----------+----------+\n",
      "\n"
     ]
    }
   ],
   "source": [
    "matches.groupBy().avg('home_score','away_score') \\\n",
    "    .withColumn('home_score',round(col('avg(home_score)'),3)) \\\n",
    "    .withColumn('away_score',round(col('avg(away_score)'),3)) \\\n",
    "    .drop('avg(home_score)','avg(away_score)') \\\n",
    ".show()"
   ]
  }
 ],
 "metadata": {
  "kernelspec": {
   "display_name": "myenv",
   "language": "python",
   "name": "python3"
  },
  "language_info": {
   "codemirror_mode": {
    "name": "ipython",
    "version": 3
   },
   "file_extension": ".py",
   "mimetype": "text/x-python",
   "name": "python",
   "nbconvert_exporter": "python",
   "pygments_lexer": "ipython3",
   "version": "3.12.3"
  }
 },
 "nbformat": 4,
 "nbformat_minor": 2
}
