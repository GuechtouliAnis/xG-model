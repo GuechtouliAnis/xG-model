{
 "cells": [
  {
   "cell_type": "code",
   "execution_count": 2,
   "metadata": {},
   "outputs": [],
   "source": [
    "from pyspark.sql import SparkSession\n",
    "from pyspark.sql.functions import col,round"
   ]
  },
  {
   "cell_type": "code",
   "execution_count": 3,
   "metadata": {},
   "outputs": [
    {
     "name": "stderr",
     "output_type": "stream",
     "text": [
      "your 131072x1 screen size is bogus. expect trouble\n",
      "Setting default log level to \"WARN\".\n",
      "To adjust logging level use sc.setLogLevel(newLevel). For SparkR, use setLogLevel(newLevel).\n",
      "25/01/26 09:38:11 WARN NativeCodeLoader: Unable to load native-hadoop library for your platform... using builtin-java classes where applicable\n"
     ]
    }
   ],
   "source": [
    "spark = SparkSession.builder.appName(\"Dataset_Description\").getOrCreate()"
   ]
  },
  {
   "cell_type": "markdown",
   "metadata": {},
   "source": [
    "### Competitions"
   ]
  },
  {
   "cell_type": "code",
   "execution_count": 5,
   "metadata": {},
   "outputs": [],
   "source": [
    "competitions = spark.read.csv('/home/aniss/xG-model/Data/competitions.csv', header=True, inferSchema=True)"
   ]
  },
  {
   "cell_type": "code",
   "execution_count": 6,
   "metadata": {},
   "outputs": [
    {
     "name": "stdout",
     "output_type": "stream",
     "text": [
      "root\n",
      " |-- competition_id: integer (nullable = true)\n",
      " |-- season_id: integer (nullable = true)\n",
      " |-- country_name: string (nullable = true)\n",
      " |-- competition_name: string (nullable = true)\n",
      " |-- competition_international: boolean (nullable = true)\n",
      " |-- season_name: string (nullable = true)\n",
      "\n"
     ]
    }
   ],
   "source": [
    "competitions.printSchema()"
   ]
  },
  {
   "cell_type": "code",
   "execution_count": 26,
   "metadata": {},
   "outputs": [
    {
     "data": {
      "text/plain": [
       "(6, 26)"
      ]
     },
     "execution_count": 26,
     "metadata": {},
     "output_type": "execute_result"
    }
   ],
   "source": [
    "# Number of features and rows\n",
    "len(competitions.columns), competitions.count()"
   ]
  },
  {
   "cell_type": "code",
   "execution_count": 58,
   "metadata": {},
   "outputs": [
    {
     "name": "stdout",
     "output_type": "stream",
     "text": [
      "+--------------+---------+------------------------+----------------------+-------------------------+-----------+\n",
      "|competition_id|season_id|country_name            |competition_name      |competition_international|season_name|\n",
      "+--------------+---------+------------------------+----------------------+-------------------------+-----------+\n",
      "|223           |282      |South America           |Copa America          |true                     |2024       |\n",
      "|55            |282      |Europe                  |UEFA Euro             |true                     |2024       |\n",
      "|9             |281      |Germany                 |1. Bundesliga         |false                    |2023/2024  |\n",
      "|44            |107      |United States of America|Major League Soccer   |false                    |2023       |\n",
      "|1267          |107      |Africa                  |African Cup of Nations|true                     |2023       |\n",
      "+--------------+---------+------------------------+----------------------+-------------------------+-----------+\n",
      "only showing top 5 rows\n",
      "\n"
     ]
    }
   ],
   "source": [
    "competitions.show(5,False)"
   ]
  },
  {
   "cell_type": "code",
   "execution_count": 60,
   "metadata": {},
   "outputs": [
    {
     "name": "stdout",
     "output_type": "stream",
     "text": [
      "+------------------------+----------------------+-----+\n",
      "|country_name            |competition_name      |count|\n",
      "+------------------------+----------------------+-----+\n",
      "|Africa                  |African Cup of Nations|1    |\n",
      "|England                 |Premier League        |1    |\n",
      "|Europe                  |Champions League      |5    |\n",
      "|Europe                  |UEFA Euro             |2    |\n",
      "|France                  |Ligue 1               |3    |\n",
      "|Germany                 |1. Bundesliga         |2    |\n",
      "|International           |FIFA World Cup        |2    |\n",
      "|Italy                   |Serie A               |1    |\n",
      "|South America           |Copa America          |1    |\n",
      "|Spain                   |La Liga               |7    |\n",
      "|United States of America|Major League Soccer   |1    |\n",
      "+------------------------+----------------------+-----+\n",
      "\n"
     ]
    }
   ],
   "source": [
    "competitions.groupBy('country_name','competition_name').count().orderBy('country_name').show(20,False)"
   ]
  },
  {
   "cell_type": "markdown",
   "metadata": {},
   "source": [
    "### Matches"
   ]
  },
  {
   "cell_type": "code",
   "execution_count": 28,
   "metadata": {},
   "outputs": [],
   "source": [
    "matches = spark.read.csv('/home/aniss/xG-model/Data/matches.csv', header=True, inferSchema=True)"
   ]
  },
  {
   "cell_type": "code",
   "execution_count": 29,
   "metadata": {},
   "outputs": [
    {
     "name": "stdout",
     "output_type": "stream",
     "text": [
      "root\n",
      " |-- match_id: integer (nullable = true)\n",
      " |-- match_date: date (nullable = true)\n",
      " |-- competition: string (nullable = true)\n",
      " |-- season: string (nullable = true)\n",
      " |-- home_team: string (nullable = true)\n",
      " |-- away_team: string (nullable = true)\n",
      " |-- home_score: integer (nullable = true)\n",
      " |-- away_score: integer (nullable = true)\n",
      " |-- match_week: integer (nullable = true)\n",
      " |-- competition_stage: string (nullable = true)\n",
      " |-- stadium: string (nullable = true)\n",
      " |-- referee: string (nullable = true)\n",
      " |-- home_managers: string (nullable = true)\n",
      " |-- away_managers: string (nullable = true)\n",
      "\n"
     ]
    }
   ],
   "source": [
    "matches.printSchema()"
   ]
  },
  {
   "cell_type": "code",
   "execution_count": 30,
   "metadata": {},
   "outputs": [
    {
     "data": {
      "text/plain": [
       "(14, 2450)"
      ]
     },
     "execution_count": 30,
     "metadata": {},
     "output_type": "execute_result"
    }
   ],
   "source": [
    "# Number of features and rows\n",
    "len(matches.columns), matches.count()"
   ]
  },
  {
   "cell_type": "code",
   "execution_count": 31,
   "metadata": {},
   "outputs": [
    {
     "name": "stdout",
     "output_type": "stream",
     "text": [
      "+--------+----------+----------------------------+------+---------+---------+----------+----------+----------+-----------------+-----------------------+-----------------------------+------------------------------+------------------------------+\n",
      "|match_id|match_date|competition                 |season|home_team|away_team|home_score|away_score|match_week|competition_stage|stadium                |referee                      |home_managers                 |away_managers                 |\n",
      "+--------+----------+----------------------------+------+---------+---------+----------+----------+----------+-----------------+-----------------------+-----------------------------+------------------------------+------------------------------+\n",
      "|3943077 |2024-07-15|South America - Copa America|2024  |Argentina|Colombia |1         |0         |6         |Final            |Hard Rock Stadium      |Raphael Claus                |Lionel Sebastián Scaloni      |Néstor Gabriel Lorenzo        |\n",
      "|3943076 |2024-07-14|South America - Copa America|2024  |Canada   |Uruguay  |2         |2         |6         |3rd Place Final  |Bank of America Stadium|Alexis Herrera               |Jesse Marsch                  |Marcelo Alberto Bielsa Caldera|\n",
      "|3942852 |2024-07-11|South America - Copa America|2024  |Uruguay  |Colombia |0         |1         |5         |Semi-finals      |Bank of America Stadium|César Arturo Ramos Palazuelos|Marcelo Alberto Bielsa Caldera|Néstor Gabriel Lorenzo        |\n",
      "|3942785 |2024-07-10|South America - Copa America|2024  |Argentina|Canada   |2         |0         |5         |Semi-finals      |MetLife Stadium        |Piero Maza Gomez             |Lionel Sebastián Scaloni      |Jesse Marsch                  |\n",
      "|3942416 |2024-07-07|South America - Copa America|2024  |Colombia |Panama   |5         |0         |4         |Quarter-finals   |State Farm Stadium     |Maurizio Mariani             |Néstor Gabriel Lorenzo        |Thomas Christiansen Tarín     |\n",
      "+--------+----------+----------------------------+------+---------+---------+----------+----------+----------+-----------------+-----------------------+-----------------------------+------------------------------+------------------------------+\n",
      "only showing top 5 rows\n",
      "\n"
     ]
    }
   ],
   "source": [
    "matches.show(5,truncate=False)"
   ]
  },
  {
   "cell_type": "code",
   "execution_count": 61,
   "metadata": {},
   "outputs": [
    {
     "name": "stdout",
     "output_type": "stream",
     "text": [
      "+----------------------------------------------+-----+\n",
      "|competition                                   |count|\n",
      "+----------------------------------------------+-----+\n",
      "|Spain - La Liga                               |590  |\n",
      "|France - Ligue 1                              |435  |\n",
      "|Italy - Serie A                               |380  |\n",
      "|England - Premier League                      |380  |\n",
      "|Germany - 1. Bundesliga                       |340  |\n",
      "|International - FIFA World Cup                |128  |\n",
      "|Europe - UEFA Euro                            |102  |\n",
      "|Africa - African Cup of Nations               |52   |\n",
      "|South America - Copa America                  |32   |\n",
      "|United States of America - Major League Soccer|6    |\n",
      "|Europe - Champions League                     |5    |\n",
      "+----------------------------------------------+-----+\n",
      "\n"
     ]
    }
   ],
   "source": [
    "# Number of matches per competition\n",
    "matches.groupBy('competition').count().orderBy('count',ascending=False).show(28,False)"
   ]
  },
  {
   "cell_type": "code",
   "execution_count": 33,
   "metadata": {},
   "outputs": [
    {
     "name": "stdout",
     "output_type": "stream",
     "text": [
      "+----------+----------+\n",
      "|home_score|away_score|\n",
      "+----------+----------+\n",
      "|     1.539|     1.198|\n",
      "+----------+----------+\n",
      "\n"
     ]
    }
   ],
   "source": [
    "matches.groupBy().avg('home_score','away_score') \\\n",
    "    .withColumn('home_score',round(col('avg(home_score)'),3)) \\\n",
    "    .withColumn('away_score',round(col('avg(away_score)'),3)) \\\n",
    "    .drop('avg(home_score)','avg(away_score)') \\\n",
    ".show()"
   ]
  },
  {
   "cell_type": "markdown",
   "metadata": {},
   "source": [
    "### Lineups"
   ]
  },
  {
   "cell_type": "code",
   "execution_count": 34,
   "metadata": {},
   "outputs": [],
   "source": [
    "lineups = spark.read.csv('/home/aniss/xG-model/Data/lineups.csv', header=True, inferSchema=True)"
   ]
  },
  {
   "cell_type": "code",
   "execution_count": 35,
   "metadata": {},
   "outputs": [
    {
     "name": "stdout",
     "output_type": "stream",
     "text": [
      "root\n",
      " |-- player_id: integer (nullable = true)\n",
      " |-- player_name: string (nullable = true)\n",
      " |-- player_nickname: string (nullable = true)\n",
      " |-- jersey_number: integer (nullable = true)\n",
      " |-- country: string (nullable = true)\n",
      " |-- cards: string (nullable = true)\n",
      " |-- positions: string (nullable = true)\n",
      "\n"
     ]
    }
   ],
   "source": [
    "lineups.printSchema()"
   ]
  },
  {
   "cell_type": "code",
   "execution_count": 36,
   "metadata": {},
   "outputs": [
    {
     "data": {
      "text/plain": [
       "(7, 95630)"
      ]
     },
     "execution_count": 36,
     "metadata": {},
     "output_type": "execute_result"
    }
   ],
   "source": [
    "# Number of features and rows\n",
    "len(lineups.columns), lineups.count()"
   ]
  },
  {
   "cell_type": "code",
   "execution_count": 37,
   "metadata": {},
   "outputs": [
    {
     "name": "stdout",
     "output_type": "stream",
     "text": [
      "+---------+-------------------------------+------------------+-------------+---------+----------------------------------------------------------------------------------------+---------------------------------------------------------------------------------------------------------------------------------------------------------------------------------------------------------------------------------------------------------------------------------------------------------------------------------------------------------------------------------------------------------------------------------------------------------------------------------------------------------------------------------------------------------------------------------------------------------------------------+\n",
      "|player_id|player_name                    |player_nickname   |jersey_number|country  |cards                                                                                   |positions                                                                                                                                                                                                                                                                                                                                                                                                                                                                                                                                                                                                                  |\n",
      "+---------+-------------------------------+------------------+-------------+---------+----------------------------------------------------------------------------------------+---------------------------------------------------------------------------------------------------------------------------------------------------------------------------------------------------------------------------------------------------------------------------------------------------------------------------------------------------------------------------------------------------------------------------------------------------------------------------------------------------------------------------------------------------------------------------------------------------------------------------+\n",
      "|2995     |Ángel Fabián Di María Hernández|Ángel Di María    |11           |Argentina|[]                                                                                      |[{'position_id': 12, 'position': 'Right Midfield', 'from': '00:00', 'to': '116:15', 'from_period': 1, 'to_period': 4, 'start_reason': 'Starting XI', 'end_reason': 'Substitution - Off (Tactical)'}, {'position_id': 16, 'position': 'Left Midfield', 'from': '16:08', 'to': '66:26', 'from_period': 1, 'to_period': 2, 'start_reason': 'Tactical Shift', 'end_reason': 'Tactical Shift'}, {'position_id': 12, 'position': 'Right Midfield', 'from': '66:26', 'to': None, 'from_period': 2, 'to_period': None, 'start_reason': 'Tactical Shift', 'end_reason': 'Final Whistle'}]                                           |\n",
      "|3090     |Nicolás Hernán Otamendi        |Nicolás Otamendi  |19           |Argentina|[]                                                                                      |[{'position_id': 12, 'position': 'Right Midfield', 'from': '116:15', 'to': '116:37', 'from_period': 4, 'to_period': 4, 'start_reason': 'Substitution - On (Tactical)', 'end_reason': 'Tactical Shift'}, {'position_id': 4, 'position': 'Center Back', 'from': '116:37', 'to': None, 'from_period': 4, 'to_period': None, 'start_reason': 'Tactical Shift', 'end_reason': 'Final Whistle'}]                                                                                                                                                                                                                                 |\n",
      "|3313     |Giovani Lo Celso               |NULL              |16           |Argentina|[{'time': '11:26', 'card_type': 'Yellow Card', 'reason': 'Foul Committed', 'period': 4}]|[{'position_id': 11, 'position': 'Left Defensive Midfield', 'from': '116:37', 'to': '96:47', 'from_period': 4, 'to_period': 3, 'start_reason': 'Tactical Shift', 'end_reason': 'Tactical Shift'}, {'position_id': 15, 'position': 'Left Center Midfield', 'from': '96:47', 'to': '96:47', 'from_period': 3, 'to_period': 3, 'start_reason': 'Tactical Shift', 'end_reason': 'Substitution - On (Tactical)'}, {'position_id': 10, 'position': 'Center Defensive Midfield', 'from': '96:47', 'to': None, 'from_period': 3, 'to_period': None, 'start_reason': 'Substitution - On (Tactical)', 'end_reason': 'Final Whistle'}]|\n",
      "|5503     |Lionel Andrés Messi Cuccittini |Lionel Messi      |10           |Argentina|[]                                                                                      |[{'position_id': 22, 'position': 'Right Center Forward', 'from': '00:00', 'to': '37:29', 'from_period': 1, 'to_period': 1, 'start_reason': 'Starting XI', 'end_reason': 'Player Off'}, {'position_id': 22, 'position': 'Right Center Forward', 'from': '38:01', 'to': '65:49', 'from_period': 1, 'to_period': 2, 'start_reason': 'Player On', 'end_reason': 'Substitution - Off (Injury)'}]                                                                                                                                                                                                                                |\n",
      "|5507     |Nicolás Alejandro Tagliafico   |Nicolás Tagliafico|3            |Argentina|[]                                                                                      |[{'position_id': 6, 'position': 'Left Back', 'from': '00:00', 'to': '116:37', 'from_period': 1, 'to_period': 4, 'start_reason': 'Starting XI', 'end_reason': 'Tactical Shift'}, {'position_id': 8, 'position': 'Left Wing Back', 'from': '116:37', 'to': '16:08', 'from_period': 4, 'to_period': 1, 'start_reason': 'Tactical Shift', 'end_reason': 'Tactical Shift'}, {'position_id': 6, 'position': 'Left Back', 'from': '16:08', 'to': None, 'from_period': 1, 'to_period': None, 'start_reason': 'Tactical Shift', 'end_reason': 'Final Whistle'}]                                                                     |\n",
      "+---------+-------------------------------+------------------+-------------+---------+----------------------------------------------------------------------------------------+---------------------------------------------------------------------------------------------------------------------------------------------------------------------------------------------------------------------------------------------------------------------------------------------------------------------------------------------------------------------------------------------------------------------------------------------------------------------------------------------------------------------------------------------------------------------------------------------------------------------------+\n",
      "only showing top 5 rows\n",
      "\n"
     ]
    }
   ],
   "source": [
    "lineups.show(5,truncate=False)"
   ]
  },
  {
   "cell_type": "markdown",
   "metadata": {},
   "source": [
    "### Events\n"
   ]
  },
  {
   "cell_type": "code",
   "execution_count": 40,
   "metadata": {},
   "outputs": [
    {
     "name": "stderr",
     "output_type": "stream",
     "text": [
      "                                                                                \r"
     ]
    }
   ],
   "source": [
    "events = spark.read.csv('/home/aniss/xG-model/Data/events.csv', header=True, inferSchema=True, sep=';')"
   ]
  },
  {
   "cell_type": "code",
   "execution_count": 41,
   "metadata": {},
   "outputs": [
    {
     "name": "stdout",
     "output_type": "stream",
     "text": [
      "root\n",
      " |-- 50_50: string (nullable = true)\n",
      " |-- ball_receipt_outcome: string (nullable = true)\n",
      " |-- ball_recovery_recovery_failure: boolean (nullable = true)\n",
      " |-- carry_end_location: string (nullable = true)\n",
      " |-- clearance_aerial_won: boolean (nullable = true)\n",
      " |-- counterpress: boolean (nullable = true)\n",
      " |-- dribble_nutmeg: boolean (nullable = true)\n",
      " |-- dribble_outcome: string (nullable = true)\n",
      " |-- dribble_overrun: boolean (nullable = true)\n",
      " |-- duel_outcome: string (nullable = true)\n",
      " |-- duel_type: string (nullable = true)\n",
      " |-- duration: double (nullable = true)\n",
      " |-- foul_committed_advantage: boolean (nullable = true)\n",
      " |-- foul_committed_card: string (nullable = true)\n",
      " |-- foul_won_advantage: boolean (nullable = true)\n",
      " |-- foul_won_defensive: boolean (nullable = true)\n",
      " |-- goalkeeper_body_part: string (nullable = true)\n",
      " |-- goalkeeper_end_location: string (nullable = true)\n",
      " |-- goalkeeper_outcome: string (nullable = true)\n",
      " |-- goalkeeper_position: string (nullable = true)\n",
      " |-- goalkeeper_technique: string (nullable = true)\n",
      " |-- goalkeeper_type: string (nullable = true)\n",
      " |-- id: string (nullable = true)\n",
      " |-- index: integer (nullable = true)\n",
      " |-- interception_outcome: string (nullable = true)\n",
      " |-- location: string (nullable = true)\n",
      " |-- match_id: integer (nullable = true)\n",
      " |-- minute: integer (nullable = true)\n",
      " |-- pass_aerial_won: boolean (nullable = true)\n",
      " |-- pass_angle: double (nullable = true)\n",
      " |-- pass_assisted_shot_id: string (nullable = true)\n",
      " |-- pass_backheel: boolean (nullable = true)\n",
      " |-- pass_body_part: string (nullable = true)\n",
      " |-- pass_cross: boolean (nullable = true)\n",
      " |-- pass_cut_back: boolean (nullable = true)\n",
      " |-- pass_deflected: boolean (nullable = true)\n",
      " |-- pass_end_location: string (nullable = true)\n",
      " |-- pass_goal_assist: boolean (nullable = true)\n",
      " |-- pass_height: string (nullable = true)\n",
      " |-- pass_length: double (nullable = true)\n",
      " |-- pass_outcome: string (nullable = true)\n",
      " |-- pass_recipient: string (nullable = true)\n",
      " |-- pass_recipient_id: double (nullable = true)\n",
      " |-- pass_shot_assist: boolean (nullable = true)\n",
      " |-- pass_switch: boolean (nullable = true)\n",
      " |-- pass_type: string (nullable = true)\n",
      " |-- period: integer (nullable = true)\n",
      " |-- play_pattern: string (nullable = true)\n",
      " |-- player: string (nullable = true)\n",
      " |-- player_id: double (nullable = true)\n",
      " |-- position: string (nullable = true)\n",
      " |-- possession: integer (nullable = true)\n",
      " |-- possession_team: string (nullable = true)\n",
      " |-- possession_team_id: integer (nullable = true)\n",
      " |-- related_events: string (nullable = true)\n",
      " |-- second: integer (nullable = true)\n",
      " |-- shot_aerial_won: boolean (nullable = true)\n",
      " |-- shot_body_part: string (nullable = true)\n",
      " |-- shot_end_location: string (nullable = true)\n",
      " |-- shot_first_time: boolean (nullable = true)\n",
      " |-- shot_freeze_frame: string (nullable = true)\n",
      " |-- shot_key_pass_id: string (nullable = true)\n",
      " |-- shot_one_on_one: boolean (nullable = true)\n",
      " |-- shot_outcome: string (nullable = true)\n",
      " |-- shot_statsbomb_xg: double (nullable = true)\n",
      " |-- shot_technique: string (nullable = true)\n",
      " |-- shot_type: string (nullable = true)\n",
      " |-- substitution_outcome: string (nullable = true)\n",
      " |-- substitution_outcome_id: double (nullable = true)\n",
      " |-- substitution_replacement: string (nullable = true)\n",
      " |-- substitution_replacement_id: double (nullable = true)\n",
      " |-- tactics: string (nullable = true)\n",
      " |-- team: string (nullable = true)\n",
      " |-- team_id: integer (nullable = true)\n",
      " |-- timestamp: timestamp (nullable = true)\n",
      " |-- type: string (nullable = true)\n",
      " |-- under_pressure: boolean (nullable = true)\n",
      " |-- competition: string (nullable = true)\n",
      " |-- season: string (nullable = true)\n",
      " |-- block_offensive: boolean (nullable = true)\n",
      " |-- foul_committed_offensive: boolean (nullable = true)\n",
      " |-- foul_committed_type: string (nullable = true)\n",
      " |-- injury_stoppage_in_chain: boolean (nullable = true)\n",
      " |-- pass_miscommunication: boolean (nullable = true)\n",
      " |-- pass_technique: string (nullable = true)\n",
      " |-- pass_through_ball: boolean (nullable = true)\n",
      " |-- block_deflection: boolean (nullable = true)\n",
      " |-- ball_recovery_offensive: boolean (nullable = true)\n",
      " |-- foul_committed_penalty: boolean (nullable = true)\n",
      " |-- foul_won_penalty: boolean (nullable = true)\n",
      " |-- shot_open_goal: boolean (nullable = true)\n",
      " |-- shot_redirect: boolean (nullable = true)\n",
      " |-- bad_behaviour_card: string (nullable = true)\n",
      " |-- block_save_block: boolean (nullable = true)\n",
      " |-- shot_deflected: boolean (nullable = true)\n",
      " |-- miscontrol_aerial_won: boolean (nullable = true)\n",
      " |-- clearance_body_part: string (nullable = true)\n",
      " |-- clearance_head: boolean (nullable = true)\n",
      " |-- clearance_left_foot: boolean (nullable = true)\n",
      " |-- clearance_right_foot: boolean (nullable = true)\n",
      " |-- goalkeeper_punched_out: boolean (nullable = true)\n",
      " |-- off_camera: boolean (nullable = true)\n",
      " |-- out: boolean (nullable = true)\n",
      " |-- pass_inswinging: boolean (nullable = true)\n",
      " |-- pass_outswinging: boolean (nullable = true)\n",
      " |-- pass_straight: boolean (nullable = true)\n",
      " |-- goalkeeper_shot_saved_to_post: boolean (nullable = true)\n",
      " |-- pass_no_touch: boolean (nullable = true)\n",
      " |-- shot_saved_to_post: boolean (nullable = true)\n",
      " |-- goalkeeper_success_in_play: boolean (nullable = true)\n",
      " |-- clearance_other: boolean (nullable = true)\n",
      " |-- player_off_permanent: boolean (nullable = true)\n",
      " |-- goalkeeper_shot_saved_off_target: boolean (nullable = true)\n",
      " |-- shot_saved_off_target: boolean (nullable = true)\n",
      " |-- shot_follows_dribble: boolean (nullable = true)\n",
      " |-- dribble_no_touch: boolean (nullable = true)\n",
      " |-- goalkeeper_lost_out: boolean (nullable = true)\n",
      " |-- half_start_late_video_start: boolean (nullable = true)\n",
      " |-- goalkeeper_lost_in_play: boolean (nullable = true)\n",
      " |-- goalkeeper_penalty_saved_to_post: boolean (nullable = true)\n",
      " |-- goalkeeper_saved_to_post: boolean (nullable = true)\n",
      " |-- goalkeeper_success_out: boolean (nullable = true)\n",
      "\n"
     ]
    }
   ],
   "source": [
    "events.printSchema()"
   ]
  },
  {
   "cell_type": "code",
   "execution_count": 42,
   "metadata": {},
   "outputs": [
    {
     "name": "stderr",
     "output_type": "stream",
     "text": [
      "                                                                                \r"
     ]
    },
    {
     "data": {
      "text/plain": [
       "(122, 8710714)"
      ]
     },
     "execution_count": 42,
     "metadata": {},
     "output_type": "execute_result"
    }
   ],
   "source": [
    "# Number of features and rows\n",
    "len(events.columns), events.count()"
   ]
  },
  {
   "cell_type": "code",
   "execution_count": 66,
   "metadata": {},
   "outputs": [
    {
     "name": "stdout",
     "output_type": "stream",
     "text": [
      "+------------------------------------+-----+--------+------+------+------+-------------+----------+---------------+------------------+--------------------------------------------------------------------------------+---------+-------+-----------------------+----+----------------------------+------+\n",
      "|id                                  |index|match_id|minute|second|period|play_pattern |possession|possession_team|possession_team_id|related_events                                                                  |team     |team_id|timestamp              |type|competition                 |season|\n",
      "+------------------------------------+-----+--------+------+------+------+-------------+----------+---------------+------------------+--------------------------------------------------------------------------------+---------+-------+-----------------------+----+----------------------------+------+\n",
      "|3c3fd192-a115-47bc-9224-b5011bb17885|37   |3943077 |0     |36    |1     |From Kick Off|2         |Argentina      |779               |['07d5688a-516d-4ad9-95cf-e9c42dc3f8c6']                                        |Argentina|779    |2025-01-26 00:00:36.286|Shot|South America - Copa America|2024  |\n",
      "|b164d43a-c2cd-423e-b81d-0f461bc8c4e4|182  |3943077 |4     |56    |1     |From Keeper  |11        |Colombia       |769               |['927178da-7ce7-4cc7-83cc-1f6bf4b70891']                                        |Colombia |769    |2025-01-26 00:04:56.364|Shot|South America - Copa America|2024  |\n",
      "|417a2357-d337-43c5-89c4-1ce3cf009e6f|241  |3943077 |6     |12    |1     |From Throw In|14        |Colombia       |769               |['c38acf65-9e8a-4fb8-ac49-06f5303bc86c', 'c4bf223a-92ff-4ca3-9036-198c08b66035']|Colombia |769    |2025-01-26 00:06:12.191|Shot|South America - Copa America|2024  |\n",
      "|30702c96-5580-48d9-8116-08f6d19be5e7|474  |3943077 |12    |7     |1     |From Corner  |23        |Colombia       |769               |['bafe7649-b134-4d46-bb02-72775177a368', 'e5061cfe-def3-4dd6-adf0-b8a59b63d094']|Colombia |769    |2025-01-26 00:12:07.618|Shot|South America - Copa America|2024  |\n",
      "|970398e3-c3cc-4d21-b0fc-4f113a555755|828  |3943077 |19    |43    |1     |From Throw In|34        |Argentina      |779               |['72b0f49f-cd54-483a-86b2-fe69af510ae7', '79e398b0-81db-44d6-a72b-66277eb04f89']|Argentina|779    |2025-01-26 00:19:43.733|Shot|South America - Copa America|2024  |\n",
      "+------------------------------------+-----+--------+------+------+------+-------------+----------+---------------+------------------+--------------------------------------------------------------------------------+---------+-------+-----------------------+----+----------------------------+------+\n",
      "only showing top 5 rows\n",
      "\n"
     ]
    }
   ],
   "source": [
    "ex = ['id','index','match_id','minute','second','period','play_pattern','possession',\n",
    "      'possession_team','possession_team_id','related_events','team','team_id','timestamp','type','competition','season']\n",
    "# select random rows\n",
    "events.filter(events.type=='Shot').select(ex).show(5,truncate=False)"
   ]
  },
  {
   "cell_type": "markdown",
   "metadata": {},
   "source": [
    "### frames"
   ]
  },
  {
   "cell_type": "code",
   "execution_count": 54,
   "metadata": {},
   "outputs": [
    {
     "name": "stderr",
     "output_type": "stream",
     "text": [
      "                                                                                \r"
     ]
    }
   ],
   "source": [
    "frames = spark.read.csv('/home/aniss/xG-model/Data/frames.csv', header=True, inferSchema=True)"
   ]
  },
  {
   "cell_type": "code",
   "execution_count": 55,
   "metadata": {},
   "outputs": [
    {
     "name": "stdout",
     "output_type": "stream",
     "text": [
      "root\n",
      " |-- id: string (nullable = true)\n",
      " |-- visible_area: string (nullable = true)\n",
      " |-- match_id: integer (nullable = true)\n",
      " |-- teammate: boolean (nullable = true)\n",
      " |-- actor: boolean (nullable = true)\n",
      " |-- keeper: boolean (nullable = true)\n",
      " |-- location: string (nullable = true)\n",
      "\n"
     ]
    }
   ],
   "source": [
    "frames.printSchema()"
   ]
  },
  {
   "cell_type": "code",
   "execution_count": 56,
   "metadata": {},
   "outputs": [
    {
     "name": "stderr",
     "output_type": "stream",
     "text": [
      "                                                                                \r"
     ]
    },
    {
     "data": {
      "text/plain": [
       "(7, 10259434)"
      ]
     },
     "execution_count": 56,
     "metadata": {},
     "output_type": "execute_result"
    }
   ],
   "source": [
    "# Number of features and rows\n",
    "len(frames.columns), frames.count()"
   ]
  },
  {
   "cell_type": "code",
   "execution_count": 57,
   "metadata": {},
   "outputs": [
    {
     "name": "stdout",
     "output_type": "stream",
     "text": [
      "+------------------------------------+----------------------------------------------------------------------------------------------------------------------------+--------+--------+-----+------+---------------------------------------+\n",
      "|id                                  |visible_area                                                                                                                |match_id|teammate|actor|keeper|location                               |\n",
      "+------------------------------------+----------------------------------------------------------------------------------------------------------------------------+--------+--------+-----+------+---------------------------------------+\n",
      "|25dfc952-7a85-464f-b884-982064d46cc9|[82.05880352279489, 80.0, 37.469993200629204, 80.0, 3.833501476649669, 0.0, 115.5840010749895, 0.0, 82.05880352279489, 80.0]|3942819 |true    |false|true  |[22.697541663925428, 41.01277368603656]|\n",
      "|25dfc952-7a85-464f-b884-982064d46cc9|[82.05880352279489, 80.0, 37.469993200629204, 80.0, 3.833501476649669, 0.0, 115.5840010749895, 0.0, 82.05880352279489, 80.0]|3942819 |true    |false|false |[46.54665402564941, 46.65992069066397] |\n",
      "|25dfc952-7a85-464f-b884-982064d46cc9|[82.05880352279489, 80.0, 37.469993200629204, 80.0, 3.833501476649669, 0.0, 115.5840010749895, 0.0, 82.05880352279489, 80.0]|3942819 |true    |false|false |[47.44522057974756, 64.52929870627902] |\n",
      "|25dfc952-7a85-464f-b884-982064d46cc9|[82.05880352279489, 80.0, 37.469993200629204, 80.0, 3.833501476649669, 0.0, 115.5840010749895, 0.0, 82.05880352279489, 80.0]|3942819 |true    |false|false |[48.81954571089864, 35.810976155696935]|\n",
      "|25dfc952-7a85-464f-b884-982064d46cc9|[82.05880352279489, 80.0, 37.469993200629204, 80.0, 3.833501476649669, 0.0, 115.5840010749895, 0.0, 82.05880352279489, 80.0]|3942819 |true    |false|false |[49.74595437091587, 27.859841158806844]|\n",
      "+------------------------------------+----------------------------------------------------------------------------------------------------------------------------+--------+--------+-----+------+---------------------------------------+\n",
      "only showing top 5 rows\n",
      "\n"
     ]
    }
   ],
   "source": [
    "frames.show(5,truncate=False)"
   ]
  },
  {
   "cell_type": "code",
   "execution_count": 62,
   "metadata": {},
   "outputs": [
    {
     "name": "stderr",
     "output_type": "stream",
     "text": [
      "[Stage 81:==================================>                     (13 + 8) / 21]\r"
     ]
    },
    {
     "name": "stdout",
     "output_type": "stream",
     "text": [
      "+----------+\n",
      "|avg(count)|\n",
      "+----------+\n",
      "|  51297.17|\n",
      "+----------+\n",
      "\n"
     ]
    },
    {
     "name": "stderr",
     "output_type": "stream",
     "text": [
      "                                                                                \r"
     ]
    }
   ],
   "source": [
    "# Average number of frames per match_id\n",
    "frames.groupBy('match_id').count().agg({'count':'avg'}).show()"
   ]
  },
  {
   "cell_type": "code",
   "execution_count": 70,
   "metadata": {},
   "outputs": [
    {
     "name": "stdout",
     "output_type": "stream",
     "text": [
      "+--------+--------+-----+----------------------------------------+\n",
      "|match_id|teammate|actor|location                                |\n",
      "+--------+--------+-----+----------------------------------------+\n",
      "|3942819 |true    |false|[22.697541663925428, 41.01277368603656] |\n",
      "|3942819 |true    |false|[46.54665402564941, 46.65992069066397]  |\n",
      "|3942819 |true    |false|[47.44522057974756, 64.52929870627902]  |\n",
      "|3942819 |true    |false|[48.81954571089864, 35.810976155696935] |\n",
      "|3942819 |true    |false|[49.74595437091587, 27.859841158806844] |\n",
      "|3942819 |true    |false|[53.468934094140124, 48.359720135671516]|\n",
      "|3942819 |true    |false|[59.39295936892726, 65.20967497250402]  |\n",
      "|3942819 |false   |false|[59.51839890069241, 50.247564716443506] |\n",
      "|3942819 |true    |false|[59.63379273609168, 72.56790108034444]  |\n",
      "|3942819 |true    |false|[59.77039159452952, 29.092900233218515] |\n",
      "|3942819 |true    |true |[60.0, 40.0]                            |\n",
      "|3942819 |true    |false|[60.64836725515984, 60.46506018214295]  |\n",
      "|3942819 |false   |false|[62.47982335505628, 31.31161890960427]  |\n",
      "|3942819 |false   |false|[63.207597666142966, 24.356636033507463]|\n",
      "|3942819 |false   |false|[69.99886923000167, 64.86387854756343]  |\n",
      "|3942819 |false   |false|[70.01047899768881, 55.64578321537585]  |\n",
      "|3942819 |false   |false|[71.75573688651266, 41.187922078866826] |\n",
      "|3942819 |false   |false|[80.42839638240781, 30.689008801064666] |\n",
      "|3942819 |false   |false|[81.8877767305595, 67.96424237463056]   |\n",
      "|3942819 |false   |false|[84.60116104595426, 44.00241508876877]  |\n",
      "+--------+--------+-----+----------------------------------------+\n",
      "only showing top 20 rows\n",
      "\n"
     ]
    }
   ],
   "source": [
    "frames.select('match_id','teammate','actor','location').show(20,truncate=False)"
   ]
  },
  {
   "cell_type": "code",
   "execution_count": null,
   "metadata": {},
   "outputs": [],
   "source": []
  }
 ],
 "metadata": {
  "kernelspec": {
   "display_name": "myenv",
   "language": "python",
   "name": "python3"
  },
  "language_info": {
   "codemirror_mode": {
    "name": "ipython",
    "version": 3
   },
   "file_extension": ".py",
   "mimetype": "text/x-python",
   "name": "python",
   "nbconvert_exporter": "python",
   "pygments_lexer": "ipython3",
   "version": "3.12.3"
  }
 },
 "nbformat": 4,
 "nbformat_minor": 2
}
