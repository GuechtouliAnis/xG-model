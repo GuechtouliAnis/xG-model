{
 "cells": [
  {
   "cell_type": "code",
   "execution_count": 1,
   "metadata": {},
   "outputs": [],
   "source": [
    "import pandas as pd"
   ]
  },
  {
   "cell_type": "code",
   "execution_count": 2,
   "metadata": {},
   "outputs": [],
   "source": [
    "pd.set_option('display.max_columns', None)"
   ]
  },
  {
   "cell_type": "code",
   "execution_count": 3,
   "metadata": {},
   "outputs": [],
   "source": [
    "dfs = pd.read_csv('Data/us/shot_logs.csv')"
   ]
  },
  {
   "cell_type": "code",
   "execution_count": 15,
   "metadata": {},
   "outputs": [],
   "source": [
    "ML_READY_DATA_DUMMIES = [\n",
    "    'id','player_id',\n",
    "    'shot_location_x','shot_location_y','distance_to_goal','shot_angle', # Spatial data\n",
    "    'preferred_foot_shot', # Boolean\n",
    "    'other_pp','from_fk','from_ti','from_corner','from_counter','from_gk','from_keeper','from_ko', # Play pattern\n",
    "    'header','corner_type','fk_type','pk_type', # Shot type\n",
    "    'half_volley_technique','volley_technique','lob_technique','overhead_technique','backheel_technique', # Shot technique\n",
    "    'diving_h_technique',\n",
    "    'under_pressure','shot_aerial_won','shot_first_time','shot_one_on_one','shot_open_goal','shot_follows_dribble', # Boolean\n",
    "    'players_inside_area', # Spatial data\n",
    "    'shot_statsbomb_xg','shot_outcome','goal']"
   ]
  },
  {
   "cell_type": "code",
   "execution_count": 6,
   "metadata": {},
   "outputs": [],
   "source": [
    "df = dfs[['id','player_id','X','Y','lastAction','shotType_Head','shotType_LeftFoot','shotType_OtherBodyPart',\n",
    "         'shotType_RightFoot','situation_DirectFreekick','situation_FromCorner','situation_OpenPlay','situation_Penalty',\n",
    "         'situation_SetPiece','result','xG']]"
   ]
  },
  {
   "cell_type": "code",
   "execution_count": 7,
   "metadata": {},
   "outputs": [
    {
     "data": {
      "text/html": [
       "<div>\n",
       "<style scoped>\n",
       "    .dataframe tbody tr th:only-of-type {\n",
       "        vertical-align: middle;\n",
       "    }\n",
       "\n",
       "    .dataframe tbody tr th {\n",
       "        vertical-align: top;\n",
       "    }\n",
       "\n",
       "    .dataframe thead th {\n",
       "        text-align: right;\n",
       "    }\n",
       "</style>\n",
       "<table border=\"1\" class=\"dataframe\">\n",
       "  <thead>\n",
       "    <tr style=\"text-align: right;\">\n",
       "      <th></th>\n",
       "      <th>id</th>\n",
       "      <th>player_id</th>\n",
       "      <th>shot_location_x</th>\n",
       "      <th>shot_location_y</th>\n",
       "      <th>lastAction</th>\n",
       "      <th>header</th>\n",
       "      <th>shotType_LeftFoot</th>\n",
       "      <th>shotType_OtherBodyPart</th>\n",
       "      <th>shotType_RightFoot</th>\n",
       "      <th>situation_DirectFreekick</th>\n",
       "      <th>situation_FromCorner</th>\n",
       "      <th>situation_OpenPlay</th>\n",
       "      <th>situation_Penalty</th>\n",
       "      <th>situation_SetPiece</th>\n",
       "      <th>goal</th>\n",
       "      <th>xG</th>\n",
       "    </tr>\n",
       "  </thead>\n",
       "  <tbody>\n",
       "    <tr>\n",
       "      <th>0</th>\n",
       "      <td>24501</td>\n",
       "      <td>356</td>\n",
       "      <td>104.160004</td>\n",
       "      <td>36.879999</td>\n",
       "      <td>Aerial</td>\n",
       "      <td>1</td>\n",
       "      <td>0</td>\n",
       "      <td>0</td>\n",
       "      <td>0</td>\n",
       "      <td>0</td>\n",
       "      <td>0</td>\n",
       "      <td>1</td>\n",
       "      <td>0</td>\n",
       "      <td>0</td>\n",
       "      <td>SavedShot</td>\n",
       "      <td>0.026551</td>\n",
       "    </tr>\n",
       "    <tr>\n",
       "      <th>1</th>\n",
       "      <td>25008</td>\n",
       "      <td>356</td>\n",
       "      <td>105.600000</td>\n",
       "      <td>30.879999</td>\n",
       "      <td>Pass</td>\n",
       "      <td>0</td>\n",
       "      <td>0</td>\n",
       "      <td>0</td>\n",
       "      <td>1</td>\n",
       "      <td>0</td>\n",
       "      <td>0</td>\n",
       "      <td>1</td>\n",
       "      <td>0</td>\n",
       "      <td>0</td>\n",
       "      <td>BlockedShot</td>\n",
       "      <td>0.072646</td>\n",
       "    </tr>\n",
       "    <tr>\n",
       "      <th>2</th>\n",
       "      <td>25026</td>\n",
       "      <td>356</td>\n",
       "      <td>113.639996</td>\n",
       "      <td>49.839999</td>\n",
       "      <td>Cross</td>\n",
       "      <td>1</td>\n",
       "      <td>0</td>\n",
       "      <td>0</td>\n",
       "      <td>0</td>\n",
       "      <td>0</td>\n",
       "      <td>0</td>\n",
       "      <td>1</td>\n",
       "      <td>0</td>\n",
       "      <td>0</td>\n",
       "      <td>MissedShots</td>\n",
       "      <td>0.033752</td>\n",
       "    </tr>\n",
       "    <tr>\n",
       "      <th>3</th>\n",
       "      <td>25028</td>\n",
       "      <td>356</td>\n",
       "      <td>116.400000</td>\n",
       "      <td>30.720001</td>\n",
       "      <td>NaN</td>\n",
       "      <td>0</td>\n",
       "      <td>0</td>\n",
       "      <td>0</td>\n",
       "      <td>1</td>\n",
       "      <td>0</td>\n",
       "      <td>1</td>\n",
       "      <td>0</td>\n",
       "      <td>0</td>\n",
       "      <td>0</td>\n",
       "      <td>Goal</td>\n",
       "      <td>0.073383</td>\n",
       "    </tr>\n",
       "    <tr>\n",
       "      <th>4</th>\n",
       "      <td>25041</td>\n",
       "      <td>356</td>\n",
       "      <td>112.560004</td>\n",
       "      <td>41.279999</td>\n",
       "      <td>Cross</td>\n",
       "      <td>1</td>\n",
       "      <td>0</td>\n",
       "      <td>0</td>\n",
       "      <td>0</td>\n",
       "      <td>0</td>\n",
       "      <td>1</td>\n",
       "      <td>0</td>\n",
       "      <td>0</td>\n",
       "      <td>0</td>\n",
       "      <td>MissedShots</td>\n",
       "      <td>0.127458</td>\n",
       "    </tr>\n",
       "  </tbody>\n",
       "</table>\n",
       "</div>"
      ],
      "text/plain": [
       "      id  player_id  shot_location_x  shot_location_y lastAction  header  \\\n",
       "0  24501        356       104.160004        36.879999     Aerial       1   \n",
       "1  25008        356       105.600000        30.879999       Pass       0   \n",
       "2  25026        356       113.639996        49.839999      Cross       1   \n",
       "3  25028        356       116.400000        30.720001        NaN       0   \n",
       "4  25041        356       112.560004        41.279999      Cross       1   \n",
       "\n",
       "   shotType_LeftFoot  shotType_OtherBodyPart  shotType_RightFoot  \\\n",
       "0                  0                       0                   0   \n",
       "1                  0                       0                   1   \n",
       "2                  0                       0                   0   \n",
       "3                  0                       0                   1   \n",
       "4                  0                       0                   0   \n",
       "\n",
       "   situation_DirectFreekick  situation_FromCorner  situation_OpenPlay  \\\n",
       "0                         0                     0                   1   \n",
       "1                         0                     0                   1   \n",
       "2                         0                     0                   1   \n",
       "3                         0                     1                   0   \n",
       "4                         0                     1                   0   \n",
       "\n",
       "   situation_Penalty  situation_SetPiece         goal        xG  \n",
       "0                  0                   0    SavedShot  0.026551  \n",
       "1                  0                   0  BlockedShot  0.072646  \n",
       "2                  0                   0  MissedShots  0.033752  \n",
       "3                  0                   0         Goal  0.073383  \n",
       "4                  0                   0  MissedShots  0.127458  "
      ]
     },
     "execution_count": 7,
     "metadata": {},
     "output_type": "execute_result"
    }
   ],
   "source": [
    "# rename columns\n",
    "cols = {\n",
    "    'X': 'shot_location_x',\n",
    "    'Y': 'shot_location_y',\n",
    "    'shotType_Head' : 'header',\n",
    "    'result': 'goal'\n",
    "}\n",
    "\n",
    "df = df.rename(columns=cols)\n",
    "df.head()"
   ]
  },
  {
   "cell_type": "code",
   "execution_count": 8,
   "metadata": {},
   "outputs": [],
   "source": [
    "# convert goal to boolean\n",
    "df['goal'] = df['goal'].apply(lambda x: 1 if x == 'Goal' else 0)"
   ]
  },
  {
   "cell_type": "code",
   "execution_count": 10,
   "metadata": {},
   "outputs": [],
   "source": [
    "import numpy as np\n",
    "import pandas as pd\n",
    "\n",
    "# Function to calculate the distance to the goal\n",
    "def distance_to_goal(df):\n",
    "    \"\"\"\n",
    "    Calculates the distance from the shot location to the goal.\n",
    "\n",
    "    :param df: pandas DataFrame with 'shot_location_x' and 'shot_location_y' columns.\n",
    "    :return: Updated DataFrame with an additional 'distance_to_goal' column, rounded to 4 decimal places.\n",
    "    \"\"\"\n",
    "    goal_x, goal_y = 120, 40\n",
    "    df['distance_to_goal'] = np.sqrt((df['shot_location_x'] - goal_x) ** 2 + (df['shot_location_y'] - goal_y) ** 2).round(4)\n",
    "    return df\n",
    "\n",
    "# Function to calculate the angle to the goal\n",
    "def calculate_shot_angle(shot_x, shot_y):\n",
    "    \"\"\"\n",
    "    Calculates the angle between two vectors pointing to the left and right goalposts from a shot location.\n",
    "\n",
    "    :param shot_x: Float representing the x-coordinate of the shot location.\n",
    "    :param shot_y: Float representing the y-coordinate of the shot location.\n",
    "    :return: Angle in degrees between the shot location and the two goalposts.\n",
    "    \"\"\"\n",
    "    goal_x1, goal_y1 = 120, 36  # Left post\n",
    "    goal_x2, goal_y2 = 120, 44  # Right post\n",
    "\n",
    "    # Vectors to the posts\n",
    "    u_x, u_y = goal_x1 - shot_x, goal_y1 - shot_y\n",
    "    v_x, v_y = goal_x2 - shot_x, goal_y2 - shot_y\n",
    "\n",
    "    # Dot product and magnitudes\n",
    "    dot_product = u_x * v_x + u_y * v_y\n",
    "    magnitude_u = np.sqrt(u_x**2 + u_y**2)\n",
    "    magnitude_v = np.sqrt(v_x**2 + v_y**2)\n",
    "\n",
    "    # Avoid division by zero\n",
    "    if magnitude_u == 0 or magnitude_v == 0:\n",
    "        return 0.0\n",
    "\n",
    "    # Calculate angle in radians\n",
    "    angle_radians = np.arccos(dot_product / (magnitude_u * magnitude_v))\n",
    "\n",
    "    # Convert to degrees\n",
    "    return np.degrees(angle_radians)\n",
    "\n",
    "# Function to calculate and add the shot angle column\n",
    "def get_shot_angle(df):\n",
    "    \"\"\"\n",
    "    Calculates the shot angle relative to the goalposts and adds it to the DataFrame.\n",
    "\n",
    "    :param df: pandas DataFrame with 'shot_location_x' and 'shot_location_y' columns.\n",
    "    :return: Updated DataFrame with an additional 'shot_angle' column containing the angle in degrees.\n",
    "    \"\"\"\n",
    "    df['shot_angle'] = df.apply(lambda row: calculate_shot_angle(row['shot_location_x'], row['shot_location_y']), axis=1)\n",
    "    return df\n"
   ]
  },
  {
   "cell_type": "code",
   "execution_count": 11,
   "metadata": {},
   "outputs": [],
   "source": [
    "df = distance_to_goal(df)\n",
    "df = get_shot_angle(df)"
   ]
  },
  {
   "cell_type": "code",
   "execution_count": 12,
   "metadata": {},
   "outputs": [],
   "source": [
    "# preferred foot shot\n",
    "# players take penalties and free kicks with their preferred foot\n",
    "# so we take the foot that was used for the penalty or free kick\n",
    "# and for that player we assume its his preferred foot\n",
    "# for the rest of the shooters, we calculate the foot that was used the most\n",
    "\n",
    "c = ['player_id','shotType_LeftFoot','shotType_RightFoot','situation_Penalty','situation_DirectFreekick']\n",
    "pf_df = df[(df['situation_Penalty']==1) | (df['situation_DirectFreekick']==1)][c]"
   ]
  },
  {
   "cell_type": "code",
   "execution_count": 13,
   "metadata": {},
   "outputs": [
    {
     "data": {
      "text/plain": [
       "0"
      ]
     },
     "execution_count": 13,
     "metadata": {},
     "output_type": "execute_result"
    }
   ],
   "source": [
    "# where both are not 0\n",
    "len(pf_df[(pf_df['shotType_LeftFoot']!=0) & (pf_df['shotType_RightFoot']!=0)])"
   ]
  },
  {
   "cell_type": "code",
   "execution_count": 14,
   "metadata": {},
   "outputs": [
    {
     "data": {
      "text/html": [
       "<div>\n",
       "<style scoped>\n",
       "    .dataframe tbody tr th:only-of-type {\n",
       "        vertical-align: middle;\n",
       "    }\n",
       "\n",
       "    .dataframe tbody tr th {\n",
       "        vertical-align: top;\n",
       "    }\n",
       "\n",
       "    .dataframe thead th {\n",
       "        text-align: right;\n",
       "    }\n",
       "</style>\n",
       "<table border=\"1\" class=\"dataframe\">\n",
       "  <thead>\n",
       "    <tr style=\"text-align: right;\">\n",
       "      <th></th>\n",
       "      <th>player_id</th>\n",
       "      <th>shotType_LeftFoot</th>\n",
       "      <th>shotType_RightFoot</th>\n",
       "    </tr>\n",
       "  </thead>\n",
       "  <tbody>\n",
       "    <tr>\n",
       "      <th>0</th>\n",
       "      <td>5</td>\n",
       "      <td>3</td>\n",
       "      <td>0</td>\n",
       "    </tr>\n",
       "    <tr>\n",
       "      <th>1</th>\n",
       "      <td>8</td>\n",
       "      <td>0</td>\n",
       "      <td>65</td>\n",
       "    </tr>\n",
       "    <tr>\n",
       "      <th>2</th>\n",
       "      <td>9</td>\n",
       "      <td>0</td>\n",
       "      <td>26</td>\n",
       "    </tr>\n",
       "    <tr>\n",
       "      <th>3</th>\n",
       "      <td>11</td>\n",
       "      <td>0</td>\n",
       "      <td>35</td>\n",
       "    </tr>\n",
       "    <tr>\n",
       "      <th>4</th>\n",
       "      <td>12</td>\n",
       "      <td>52</td>\n",
       "      <td>0</td>\n",
       "    </tr>\n",
       "    <tr>\n",
       "      <th>...</th>\n",
       "      <td>...</td>\n",
       "      <td>...</td>\n",
       "      <td>...</td>\n",
       "    </tr>\n",
       "    <tr>\n",
       "      <th>2973</th>\n",
       "      <td>12986</td>\n",
       "      <td>0</td>\n",
       "      <td>2</td>\n",
       "    </tr>\n",
       "    <tr>\n",
       "      <th>2974</th>\n",
       "      <td>13005</td>\n",
       "      <td>1</td>\n",
       "      <td>0</td>\n",
       "    </tr>\n",
       "    <tr>\n",
       "      <th>2975</th>\n",
       "      <td>13037</td>\n",
       "      <td>0</td>\n",
       "      <td>1</td>\n",
       "    </tr>\n",
       "    <tr>\n",
       "      <th>2976</th>\n",
       "      <td>13038</td>\n",
       "      <td>1</td>\n",
       "      <td>0</td>\n",
       "    </tr>\n",
       "    <tr>\n",
       "      <th>2977</th>\n",
       "      <td>13079</td>\n",
       "      <td>0</td>\n",
       "      <td>1</td>\n",
       "    </tr>\n",
       "  </tbody>\n",
       "</table>\n",
       "<p>2978 rows × 3 columns</p>\n",
       "</div>"
      ],
      "text/plain": [
       "      player_id  shotType_LeftFoot  shotType_RightFoot\n",
       "0             5                  3                   0\n",
       "1             8                  0                  65\n",
       "2             9                  0                  26\n",
       "3            11                  0                  35\n",
       "4            12                 52                   0\n",
       "...         ...                ...                 ...\n",
       "2973      12986                  0                   2\n",
       "2974      13005                  1                   0\n",
       "2975      13037                  0                   1\n",
       "2976      13038                  1                   0\n",
       "2977      13079                  0                   1\n",
       "\n",
       "[2978 rows x 3 columns]"
      ]
     },
     "execution_count": 14,
     "metadata": {},
     "output_type": "execute_result"
    }
   ],
   "source": [
    "# sum of shotType_LeftFoot and shotType_RightFoot by player_id\n",
    "pf_df.groupby('player_id').agg({'shotType_LeftFoot':'sum', 'shotType_RightFoot':'sum'}).reset_index()"
   ]
  },
  {
   "cell_type": "code",
   "execution_count": 15,
   "metadata": {},
   "outputs": [
    {
     "data": {
      "text/html": [
       "<div>\n",
       "<style scoped>\n",
       "    .dataframe tbody tr th:only-of-type {\n",
       "        vertical-align: middle;\n",
       "    }\n",
       "\n",
       "    .dataframe tbody tr th {\n",
       "        vertical-align: top;\n",
       "    }\n",
       "\n",
       "    .dataframe thead th {\n",
       "        text-align: right;\n",
       "    }\n",
       "</style>\n",
       "<table border=\"1\" class=\"dataframe\">\n",
       "  <thead>\n",
       "    <tr style=\"text-align: right;\">\n",
       "      <th></th>\n",
       "      <th>player_id</th>\n",
       "      <th>shotType_LeftFoot</th>\n",
       "      <th>shotType_RightFoot</th>\n",
       "      <th>situation_Penalty</th>\n",
       "      <th>situation_DirectFreekick</th>\n",
       "      <th>preferred_foot_shot</th>\n",
       "    </tr>\n",
       "  </thead>\n",
       "  <tbody>\n",
       "    <tr>\n",
       "      <th>5</th>\n",
       "      <td>356</td>\n",
       "      <td>0</td>\n",
       "      <td>1</td>\n",
       "      <td>0</td>\n",
       "      <td>1</td>\n",
       "      <td>Right</td>\n",
       "    </tr>\n",
       "    <tr>\n",
       "      <th>16</th>\n",
       "      <td>356</td>\n",
       "      <td>0</td>\n",
       "      <td>1</td>\n",
       "      <td>0</td>\n",
       "      <td>1</td>\n",
       "      <td>Right</td>\n",
       "    </tr>\n",
       "    <tr>\n",
       "      <th>29</th>\n",
       "      <td>356</td>\n",
       "      <td>0</td>\n",
       "      <td>1</td>\n",
       "      <td>0</td>\n",
       "      <td>1</td>\n",
       "      <td>Right</td>\n",
       "    </tr>\n",
       "    <tr>\n",
       "      <th>35</th>\n",
       "      <td>356</td>\n",
       "      <td>0</td>\n",
       "      <td>1</td>\n",
       "      <td>0</td>\n",
       "      <td>1</td>\n",
       "      <td>Right</td>\n",
       "    </tr>\n",
       "    <tr>\n",
       "      <th>49</th>\n",
       "      <td>356</td>\n",
       "      <td>0</td>\n",
       "      <td>1</td>\n",
       "      <td>1</td>\n",
       "      <td>0</td>\n",
       "      <td>Right</td>\n",
       "    </tr>\n",
       "    <tr>\n",
       "      <th>...</th>\n",
       "      <td>...</td>\n",
       "      <td>...</td>\n",
       "      <td>...</td>\n",
       "      <td>...</td>\n",
       "      <td>...</td>\n",
       "      <td>...</td>\n",
       "    </tr>\n",
       "    <tr>\n",
       "      <th>3704164</th>\n",
       "      <td>11696</td>\n",
       "      <td>1</td>\n",
       "      <td>0</td>\n",
       "      <td>0</td>\n",
       "      <td>1</td>\n",
       "      <td>Left</td>\n",
       "    </tr>\n",
       "    <tr>\n",
       "      <th>3704188</th>\n",
       "      <td>11881</td>\n",
       "      <td>0</td>\n",
       "      <td>1</td>\n",
       "      <td>0</td>\n",
       "      <td>1</td>\n",
       "      <td>Right</td>\n",
       "    </tr>\n",
       "    <tr>\n",
       "      <th>3704195</th>\n",
       "      <td>11934</td>\n",
       "      <td>0</td>\n",
       "      <td>1</td>\n",
       "      <td>1</td>\n",
       "      <td>0</td>\n",
       "      <td>Right</td>\n",
       "    </tr>\n",
       "    <tr>\n",
       "      <th>3704443</th>\n",
       "      <td>12676</td>\n",
       "      <td>1</td>\n",
       "      <td>0</td>\n",
       "      <td>0</td>\n",
       "      <td>1</td>\n",
       "      <td>Left</td>\n",
       "    </tr>\n",
       "    <tr>\n",
       "      <th>3704450</th>\n",
       "      <td>12676</td>\n",
       "      <td>1</td>\n",
       "      <td>0</td>\n",
       "      <td>0</td>\n",
       "      <td>1</td>\n",
       "      <td>Left</td>\n",
       "    </tr>\n",
       "  </tbody>\n",
       "</table>\n",
       "<p>210113 rows × 6 columns</p>\n",
       "</div>"
      ],
      "text/plain": [
       "         player_id  shotType_LeftFoot  shotType_RightFoot  situation_Penalty  \\\n",
       "5              356                  0                   1                  0   \n",
       "16             356                  0                   1                  0   \n",
       "29             356                  0                   1                  0   \n",
       "35             356                  0                   1                  0   \n",
       "49             356                  0                   1                  1   \n",
       "...            ...                ...                 ...                ...   \n",
       "3704164      11696                  1                   0                  0   \n",
       "3704188      11881                  0                   1                  0   \n",
       "3704195      11934                  0                   1                  1   \n",
       "3704443      12676                  1                   0                  0   \n",
       "3704450      12676                  1                   0                  0   \n",
       "\n",
       "         situation_DirectFreekick preferred_foot_shot  \n",
       "5                               1               Right  \n",
       "16                              1               Right  \n",
       "29                              1               Right  \n",
       "35                              1               Right  \n",
       "49                              0               Right  \n",
       "...                           ...                 ...  \n",
       "3704164                         1                Left  \n",
       "3704188                         1               Right  \n",
       "3704195                         0               Right  \n",
       "3704443                         1                Left  \n",
       "3704450                         1                Left  \n",
       "\n",
       "[210113 rows x 6 columns]"
      ]
     },
     "execution_count": 15,
     "metadata": {},
     "output_type": "execute_result"
    }
   ],
   "source": [
    "# compare the sum of shotType_LeftFoot and shotType_RightFoot and take the name of the column with the highest sum\n",
    "pf_df['preferred_foot_shot'] = np.where(pf_df['shotType_LeftFoot']>pf_df['shotType_RightFoot'], 'Left', 'Right')\n",
    "pf_df"
   ]
  },
  {
   "cell_type": "code",
   "execution_count": 17,
   "metadata": {},
   "outputs": [],
   "source": [
    "df.to_csv('df.csv', index=False)\n",
    "pf_df.to_csv('pf_df.csv', index=False)"
   ]
  },
  {
   "cell_type": "code",
   "execution_count": 18,
   "metadata": {},
   "outputs": [
    {
     "name": "stderr",
     "output_type": "stream",
     "text": [
      "your 131072x1 screen size is bogus. expect trouble\n",
      "Setting default log level to \"WARN\".\n",
      "To adjust logging level use sc.setLogLevel(newLevel). For SparkR, use setLogLevel(newLevel).\n",
      "25/01/28 00:54:12 WARN NativeCodeLoader: Unable to load native-hadoop library for your platform... using builtin-java classes where applicable\n",
      "                                                                                \r"
     ]
    }
   ],
   "source": [
    "from pyspark.sql import SparkSession\n",
    "\n",
    "spark = SparkSession.builder.appName('ml-ready-data').getOrCreate()\n",
    "\n",
    "df = spark.read.csv('df.csv', header=True, inferSchema=True)\n",
    "pf_df = spark.read.csv('pf_df.csv', header=True, inferSchema=True)"
   ]
  },
  {
   "cell_type": "code",
   "execution_count": 19,
   "metadata": {},
   "outputs": [
    {
     "data": {
      "text/plain": [
       "(3704546, 210113)"
      ]
     },
     "execution_count": 19,
     "metadata": {},
     "output_type": "execute_result"
    }
   ],
   "source": [
    "df.count(), pf_df.count()"
   ]
  },
  {
   "cell_type": "code",
   "execution_count": 20,
   "metadata": {},
   "outputs": [
    {
     "name": "stderr",
     "output_type": "stream",
     "text": [
      "[Stage 11:=========>                                              (2 + 10) / 12]\r"
     ]
    },
    {
     "name": "stdout",
     "output_type": "stream",
     "text": [
      "+--------------+-------+\n",
      "|preferred_foot|  count|\n",
      "+--------------+-------+\n",
      "|          Left| 775689|\n",
      "|         Other| 786362|\n",
      "|         Right|2142495|\n",
      "+--------------+-------+\n",
      "\n"
     ]
    },
    {
     "name": "stderr",
     "output_type": "stream",
     "text": [
      "                                                                                \r"
     ]
    }
   ],
   "source": [
    "# Collect pf_df as a dictionary\n",
    "pf_dict = {row['player_id']: row['preferred_foot_shot'] for row in pf_df.collect()}\n",
    "\n",
    "# Define a UDF to map player_id to preferred_foot\n",
    "from pyspark.sql.functions import udf\n",
    "from pyspark.sql.types import StringType\n",
    "from pyspark.sql.functions import when, col\n",
    "\n",
    "def map_preferred_foot(player_id):\n",
    "    return pf_dict.get(player_id, 'Other')  # Default to 'Other' if not found\n",
    "\n",
    "map_preferred_foot_udf = udf(map_preferred_foot, StringType())\n",
    "\n",
    "# Apply the UDF to create the preferred_foot_shot column\n",
    "df = df.withColumn('preferred_foot', map_preferred_foot_udf(df['player_id']))\n",
    "\n",
    "# Count the occurrences of each value\n",
    "value_counts = df.groupBy('preferred_foot').count()\n",
    "\n",
    "# Show the counts\n",
    "value_counts.show()"
   ]
  },
  {
   "cell_type": "code",
   "execution_count": 21,
   "metadata": {},
   "outputs": [
    {
     "name": "stdout",
     "output_type": "stream",
     "text": [
      "+-----+---------+------------------+------------------+-----------+------+-----------------+----------------------+------------------+------------------------+--------------------+------------------+-----------------+------------------+----+------------------+----------------+------------------+--------------+\n",
      "|   id|player_id|   shot_location_x|   shot_location_y| lastAction|header|shotType_LeftFoot|shotType_OtherBodyPart|shotType_RightFoot|situation_DirectFreekick|situation_FromCorner|situation_OpenPlay|situation_Penalty|situation_SetPiece|goal|                xG|distance_to_goal|        shot_angle|preferred_foot|\n",
      "+-----+---------+------------------+------------------+-----------+------+-----------------+----------------------+------------------+------------------------+--------------------+------------------+-----------------+------------------+----+------------------+----------------+------------------+--------------+\n",
      "|24501|      356|104.16000366210938| 36.87999877929687|     Aerial|     1|                0|                     0|                 0|                       0|                   0|                 1|                0|                 0|   0|0.0265513993799686|         16.1443|27.383511597217687|         Right|\n",
      "|25008|      356|             105.6| 30.87999877929687|       Pass|     0|                0|                     0|                 1|                       0|                   0|                 1|                0|                 0|   0|0.0726460963487625|         17.0451|22.763871745542257|         Right|\n",
      "|25026|      356|113.63999633789062| 49.83999938964843|      Cross|     1|                0|                     0|                 0|                       0|                   0|                 1|                0|                 0|   0|0.0337520986795425|         11.7165| 22.76008538847112|         Right|\n",
      "|25028|      356|             116.4|30.720001220703125|       NULL|     0|                0|                     0|                 1|                       0|                   1|                 0|                0|                 0|   1|0.0733828023076057|          9.9538|19.119415942109956|         Right|\n",
      "|25041|      356|112.56000366210937| 41.27999877929688|      Cross|     1|                0|                     0|                 0|                       0|                   1|                 0|                0|                 0|   0|0.1274580061435699|          7.5493|55.444463817111796|         Right|\n",
      "|25043|      356| 96.96000366210936| 37.12000122070313|   Standard|     0|                0|                     0|                 1|                       1|                   0|                 0|                0|                 0|   0|0.1451690047979354|         23.2193|19.409233434099416|         Right|\n",
      "|25479|      356|106.68000183105468| 36.47999877929687|     Aerial|     1|                0|                     0|                 0|                       0|                   0|                 0|                0|                 1|   0|0.0210091993212699|         13.7773| 31.51135530233164|         Right|\n",
      "|25482|      356|106.56000366210938|31.679998779296877|Throughball|     0|                0|                     0|                 1|                       0|                   0|                 1|                0|                 0|   1|0.3113310039043426|         15.8068|  24.6915595029177|         Right|\n",
      "|25490|      356| 109.9199981689453| 42.23999938964844|     Aerial|     1|                0|                     0|                 0|                       0|                   1|                 0|                0|                 0|   0|0.0403547994792461|         10.3259| 41.66365773486095|         Right|\n",
      "|25491|      356|108.36000366210938| 47.83999938964843|       Pass|     0|                0|                     0|                 1|                       0|                   0|                 1|                0|                 0|   0|0.3693700134754181|         14.0341| 27.23046901131461|         Right|\n",
      "|25940|      356|105.11999816894532|26.720001220703125|    Chipped|     0|                0|                     0|                 1|                       0|                   0|                 1|                0|                 0|   0|0.0509268008172512|         19.9442| 17.31792291628912|         Right|\n",
      "|25946|      356|109.08000183105467| 34.32000122070312|       Pass|     0|                1|                     0|                 0|                       0|                   0|                 1|                0|                 0|   0|0.4398120045661926|         12.3089| 32.80912801278376|         Right|\n",
      "|25948|      356|104.51999816894532| 36.87999877929687|    Chipped|     1|                0|                     0|                 0|                       0|                   0|                 0|                0|                 1|   0|0.0475342012941837|         15.7913|27.953605137078757|         Right|\n",
      "|25955|      356| 112.3199981689453| 42.23999938964844|     Aerial|     1|                0|                     0|                 0|                       0|                   0|                 1|                0|                 0|   1|0.3646970093250274|             8.0|52.001259481111354|         Right|\n",
      "|25957|      356|             110.4| 39.76000061035156|      Cross|     1|                0|                     0|                 0|                       0|                   0|                 1|                0|                 0|   1|0.3602040112018585|           9.603| 45.21807241589844|         Right|\n",
      "|25962|      356|             107.4|              39.2|      Cross|     1|                0|                     0|                 0|                       0|                   0|                 1|                0|                 0|   0|0.0903720036149025|         12.6254|35.104490737381965|         Right|\n",
      "|26169|      356| 90.36000366210938| 61.52000122070312|   Standard|     0|                0|                     0|                 1|                       1|                   0|                 0|                0|                 0|   0|0.0370512008666992|         36.6284|10.141365189060265|         Right|\n",
      "|26173|      356|             102.0| 47.83999938964843|       Pass|     0|                0|                     0|                 1|                       0|                   0|                 1|                0|                 0|   1|0.0734333992004394|         19.6333|21.293455499275915|         Right|\n",
      "|26419|      356|110.03999633789064| 43.12000122070312|     Aerial|     1|                0|                     0|                 0|                       0|                   0|                 1|                0|                 0|   0|0.0562398992478847|         10.4372| 40.60859077006896|         Right|\n",
      "|26431|      356|108.36000366210938|44.400000000000006|      Cross|     1|                0|                     0|                 0|                       0|                   0|                 0|                0|                 1|   0|0.0879653021693229|         12.4439| 33.84793604151994|         Right|\n",
      "+-----+---------+------------------+------------------+-----------+------+-----------------+----------------------+------------------+------------------------+--------------------+------------------+-----------------+------------------+----+------------------+----------------+------------------+--------------+\n",
      "only showing top 20 rows\n",
      "\n"
     ]
    }
   ],
   "source": [
    "df.show()"
   ]
  },
  {
   "cell_type": "code",
   "execution_count": 22,
   "metadata": {},
   "outputs": [],
   "source": [
    "df_calc = df.filter(df.preferred_foot=='Other').select('player_id','shotType_LeftFoot','shotType_RightFoot')"
   ]
  },
  {
   "cell_type": "code",
   "execution_count": 23,
   "metadata": {},
   "outputs": [
    {
     "name": "stderr",
     "output_type": "stream",
     "text": [
      "                                                                                \r"
     ]
    },
    {
     "data": {
      "text/plain": [
       "786362"
      ]
     },
     "execution_count": 23,
     "metadata": {},
     "output_type": "execute_result"
    }
   ],
   "source": [
    "df_calc.count()"
   ]
  },
  {
   "cell_type": "code",
   "execution_count": 24,
   "metadata": {},
   "outputs": [
    {
     "name": "stderr",
     "output_type": "stream",
     "text": [
      "                                                                                \r"
     ]
    },
    {
     "data": {
      "text/plain": [
       "566639"
      ]
     },
     "execution_count": 24,
     "metadata": {},
     "output_type": "execute_result"
    }
   ],
   "source": [
    "# if both are 0, we remove the row\n",
    "df_calc = df_calc.filter((df_calc.shotType_LeftFoot!=0) | (df_calc.shotType_RightFoot!=0))\n",
    "df_calc.count()"
   ]
  },
  {
   "cell_type": "code",
   "execution_count": 25,
   "metadata": {},
   "outputs": [
    {
     "name": "stderr",
     "output_type": "stream",
     "text": [
      "[Stage 21:>                                                       (0 + 12) / 12]\r"
     ]
    },
    {
     "name": "stdout",
     "output_type": "stream",
     "text": [
      "+---------+-----------------+------------------+\n",
      "|player_id|shotType_LeftFoot|shotType_RightFoot|\n",
      "+---------+-----------------+------------------+\n",
      "|     2659|               49|               140|\n",
      "|     5300|               16|                 0|\n",
      "|      858|               10|                 5|\n",
      "|      243|               14|                44|\n",
      "|     1084|               32|               200|\n",
      "|       31|                4|                 2|\n",
      "|     4239|                7|                 0|\n",
      "|      251|               84|                30|\n",
      "|     5308|                3|                 1|\n",
      "|     5223|                0|                 6|\n",
      "|     6597|                0|                15|\n",
      "|     4294|                3|                 3|\n",
      "|     2656|                0|                 1|\n",
      "|       53|                0|                 2|\n",
      "|     7109|              276|               456|\n",
      "|     6557|               15|                35|\n",
      "|       78|               24|                30|\n",
      "|      322|               30|                 3|\n",
      "|     6678|                0|                 2|\n",
      "|      321|              225|               310|\n",
      "+---------+-----------------+------------------+\n",
      "only showing top 20 rows\n",
      "\n"
     ]
    },
    {
     "name": "stderr",
     "output_type": "stream",
     "text": [
      "                                                                                \r"
     ]
    }
   ],
   "source": [
    "# sum of shotType_LeftFoot and shotType_RightFoot by player_id\n",
    "df_calc = df_calc.groupby('player_id').agg({'shotType_LeftFoot':'sum', 'shotType_RightFoot':'sum'})\n",
    "# rename columns\n",
    "df_calc = df_calc.withColumnRenamed('sum(shotType_LeftFoot)', 'shotType_LeftFoot').withColumnRenamed('sum(shotType_RightFoot)', 'shotType_RightFoot')\n",
    "df_calc.show()"
   ]
  },
  {
   "cell_type": "code",
   "execution_count": 26,
   "metadata": {},
   "outputs": [
    {
     "name": "stderr",
     "output_type": "stream",
     "text": [
      "[Stage 24:>                                                       (0 + 12) / 12]\r"
     ]
    },
    {
     "name": "stdout",
     "output_type": "stream",
     "text": [
      "+---------+-----------------+------------------+--------------+\n",
      "|player_id|shotType_LeftFoot|shotType_RightFoot|preferred_foot|\n",
      "+---------+-----------------+------------------+--------------+\n",
      "|     2659|               49|               140|         Right|\n",
      "|     5300|               16|                 0|          Left|\n",
      "|      858|               10|                 5|          Left|\n",
      "|      243|               14|                44|         Right|\n",
      "|     1084|               32|               200|         Right|\n",
      "|       31|                4|                 2|          Left|\n",
      "|     4239|                7|                 0|          Left|\n",
      "|      251|               84|                30|          Left|\n",
      "|     5308|                3|                 1|          Left|\n",
      "|     5223|                0|                 6|         Right|\n",
      "|     6597|                0|                15|         Right|\n",
      "|     4294|                3|                 3|     TwoFooted|\n",
      "|     2656|                0|                 1|         Right|\n",
      "|       53|                0|                 2|         Right|\n",
      "|     7109|              276|               456|         Right|\n",
      "|     6557|               15|                35|         Right|\n",
      "|       78|               24|                30|         Right|\n",
      "|      322|               30|                 3|          Left|\n",
      "|     6678|                0|                 2|         Right|\n",
      "|      321|              225|               310|         Right|\n",
      "+---------+-----------------+------------------+--------------+\n",
      "only showing top 20 rows\n",
      "\n"
     ]
    },
    {
     "name": "stderr",
     "output_type": "stream",
     "text": [
      "                                                                                \r"
     ]
    }
   ],
   "source": [
    "# compare the sum of shotType_LeftFoot and shotType_RightFoot and take the name of the column with more than 60% of the sum\n",
    "df_calc = df_calc.withColumn('preferred_foot', when(col('shotType_LeftFoot')>col('shotType_RightFoot'), 'Left') \\\n",
    "                             .when(col('shotType_RightFoot')>col('shotType_LeftFoot'), 'Right') \\\n",
    "                             .otherwise('TwoFooted'))\n",
    "df_calc.show()"
   ]
  },
  {
   "cell_type": "code",
   "execution_count": 27,
   "metadata": {},
   "outputs": [
    {
     "name": "stderr",
     "output_type": "stream",
     "text": [
      "[Stage 27:>                                                       (0 + 12) / 12]\r"
     ]
    },
    {
     "name": "stdout",
     "output_type": "stream",
     "text": [
      "+--------------+-----+\n",
      "|preferred_foot|count|\n",
      "+--------------+-----+\n",
      "|          Left| 1374|\n",
      "|     TwoFooted|  245|\n",
      "|         Right| 3550|\n",
      "+--------------+-----+\n",
      "\n"
     ]
    },
    {
     "name": "stderr",
     "output_type": "stream",
     "text": [
      "                                                                                \r"
     ]
    }
   ],
   "source": [
    "df_calc.groupBy('preferred_foot').count().show()"
   ]
  },
  {
   "cell_type": "code",
   "execution_count": 28,
   "metadata": {},
   "outputs": [],
   "source": [
    "df_o = df.filter(df.preferred_foot=='Other')\n",
    "df_f = df.filter(df.preferred_foot!='Other')"
   ]
  },
  {
   "cell_type": "code",
   "execution_count": 29,
   "metadata": {},
   "outputs": [
    {
     "name": "stderr",
     "output_type": "stream",
     "text": [
      "                                                                                \r"
     ]
    },
    {
     "data": {
      "text/plain": [
       "(786362, 2918184)"
      ]
     },
     "execution_count": 29,
     "metadata": {},
     "output_type": "execute_result"
    }
   ],
   "source": [
    "df_o.count(), df_f.count()"
   ]
  },
  {
   "cell_type": "code",
   "execution_count": 30,
   "metadata": {},
   "outputs": [
    {
     "name": "stderr",
     "output_type": "stream",
     "text": [
      "[Stage 42:===================>                                     (4 + 8) / 12]\r"
     ]
    },
    {
     "name": "stdout",
     "output_type": "stream",
     "text": [
      "+--------------+------+\n",
      "|preferred_foot| count|\n",
      "+--------------+------+\n",
      "|          Left|160282|\n",
      "|         Other|  1322|\n",
      "|     TwoFooted|  5299|\n",
      "|         Right|619459|\n",
      "+--------------+------+\n",
      "\n"
     ]
    },
    {
     "name": "stderr",
     "output_type": "stream",
     "text": [
      "                                                                                \r"
     ]
    }
   ],
   "source": [
    "# Collect df_calc as a dictionary (player_id -> preferred_foot)\n",
    "calc_dict = {row['player_id']: row['preferred_foot'] for row in df_calc.collect()}\n",
    "\n",
    "# Define a UDF to map player_id to preferred_foot_shot using df_calc\n",
    "def map_preferred_foot_from_calc(player_id):\n",
    "    return calc_dict.get(player_id, 'Other')  # Default to 'Other' if not found\n",
    "\n",
    "map_preferred_foot_from_calc_udf = udf(map_preferred_foot_from_calc, StringType())\n",
    "\n",
    "# Apply the UDF to create the preferred_foot_shot column in df\n",
    "df_o = df_o.withColumn('preferred_foot', map_preferred_foot_from_calc_udf(df['player_id']))\n",
    "\n",
    "# Count the occurrences of each value in the new preferred_foot_shot column\n",
    "value_counts = df_o.groupBy('preferred_foot').count()\n",
    "\n",
    "# Show the counts\n",
    "value_counts.show()"
   ]
  },
  {
   "cell_type": "code",
   "execution_count": 31,
   "metadata": {},
   "outputs": [
    {
     "name": "stderr",
     "output_type": "stream",
     "text": [
      "[Stage 45:=========>                                              (2 + 10) / 12]\r"
     ]
    },
    {
     "name": "stdout",
     "output_type": "stream",
     "text": [
      "+--------------+------+\n",
      "|preferred_foot| count|\n",
      "+--------------+------+\n",
      "|          Left|160282|\n",
      "|     TwoFooted|  6621|\n",
      "|         Right|619459|\n",
      "+--------------+------+\n",
      "\n"
     ]
    },
    {
     "name": "stderr",
     "output_type": "stream",
     "text": [
      "                                                                                \r"
     ]
    }
   ],
   "source": [
    "# replace Other with TwoFooted in df_o\n",
    "df_o = df_o.withColumn('preferred_foot', when(col('preferred_foot')=='Other', 'TwoFooted').otherwise(col('preferred_foot')))\n",
    "df_o.groupBy('preferred_foot').count().show()"
   ]
  },
  {
   "cell_type": "code",
   "execution_count": 32,
   "metadata": {},
   "outputs": [],
   "source": [
    "# Combine the two DataFrames\n",
    "df = df_f.union(df_o)"
   ]
  },
  {
   "cell_type": "code",
   "execution_count": 33,
   "metadata": {},
   "outputs": [
    {
     "name": "stdout",
     "output_type": "stream",
     "text": [
      "+-----+---------+------------------+------------------+-----------+------+-----------------+----------------------+------------------+------------------------+--------------------+------------------+-----------------+------------------+----+------------------+----------------+------------------+--------------+\n",
      "|   id|player_id|   shot_location_x|   shot_location_y| lastAction|header|shotType_LeftFoot|shotType_OtherBodyPart|shotType_RightFoot|situation_DirectFreekick|situation_FromCorner|situation_OpenPlay|situation_Penalty|situation_SetPiece|goal|                xG|distance_to_goal|        shot_angle|preferred_foot|\n",
      "+-----+---------+------------------+------------------+-----------+------+-----------------+----------------------+------------------+------------------------+--------------------+------------------+-----------------+------------------+----+------------------+----------------+------------------+--------------+\n",
      "|24501|      356|104.16000366210938| 36.87999877929687|     Aerial|     1|                0|                     0|                 0|                       0|                   0|                 1|                0|                 0|   0|0.0265513993799686|         16.1443|27.383511597217687|         Right|\n",
      "|25008|      356|             105.6| 30.87999877929687|       Pass|     0|                0|                     0|                 1|                       0|                   0|                 1|                0|                 0|   0|0.0726460963487625|         17.0451|22.763871745542257|         Right|\n",
      "|25026|      356|113.63999633789062| 49.83999938964843|      Cross|     1|                0|                     0|                 0|                       0|                   0|                 1|                0|                 0|   0|0.0337520986795425|         11.7165| 22.76008538847112|         Right|\n",
      "|25028|      356|             116.4|30.720001220703125|       NULL|     0|                0|                     0|                 1|                       0|                   1|                 0|                0|                 0|   1|0.0733828023076057|          9.9538|19.119415942109956|         Right|\n",
      "|25041|      356|112.56000366210937| 41.27999877929688|      Cross|     1|                0|                     0|                 0|                       0|                   1|                 0|                0|                 0|   0|0.1274580061435699|          7.5493|55.444463817111796|         Right|\n",
      "|25043|      356| 96.96000366210936| 37.12000122070313|   Standard|     0|                0|                     0|                 1|                       1|                   0|                 0|                0|                 0|   0|0.1451690047979354|         23.2193|19.409233434099416|         Right|\n",
      "|25479|      356|106.68000183105468| 36.47999877929687|     Aerial|     1|                0|                     0|                 0|                       0|                   0|                 0|                0|                 1|   0|0.0210091993212699|         13.7773| 31.51135530233164|         Right|\n",
      "|25482|      356|106.56000366210938|31.679998779296877|Throughball|     0|                0|                     0|                 1|                       0|                   0|                 1|                0|                 0|   1|0.3113310039043426|         15.8068|  24.6915595029177|         Right|\n",
      "|25490|      356| 109.9199981689453| 42.23999938964844|     Aerial|     1|                0|                     0|                 0|                       0|                   1|                 0|                0|                 0|   0|0.0403547994792461|         10.3259| 41.66365773486095|         Right|\n",
      "|25491|      356|108.36000366210938| 47.83999938964843|       Pass|     0|                0|                     0|                 1|                       0|                   0|                 1|                0|                 0|   0|0.3693700134754181|         14.0341| 27.23046901131461|         Right|\n",
      "|25940|      356|105.11999816894532|26.720001220703125|    Chipped|     0|                0|                     0|                 1|                       0|                   0|                 1|                0|                 0|   0|0.0509268008172512|         19.9442| 17.31792291628912|         Right|\n",
      "|25946|      356|109.08000183105467| 34.32000122070312|       Pass|     0|                1|                     0|                 0|                       0|                   0|                 1|                0|                 0|   0|0.4398120045661926|         12.3089| 32.80912801278376|         Right|\n",
      "|25948|      356|104.51999816894532| 36.87999877929687|    Chipped|     1|                0|                     0|                 0|                       0|                   0|                 0|                0|                 1|   0|0.0475342012941837|         15.7913|27.953605137078757|         Right|\n",
      "|25955|      356| 112.3199981689453| 42.23999938964844|     Aerial|     1|                0|                     0|                 0|                       0|                   0|                 1|                0|                 0|   1|0.3646970093250274|             8.0|52.001259481111354|         Right|\n",
      "|25957|      356|             110.4| 39.76000061035156|      Cross|     1|                0|                     0|                 0|                       0|                   0|                 1|                0|                 0|   1|0.3602040112018585|           9.603| 45.21807241589844|         Right|\n",
      "|25962|      356|             107.4|              39.2|      Cross|     1|                0|                     0|                 0|                       0|                   0|                 1|                0|                 0|   0|0.0903720036149025|         12.6254|35.104490737381965|         Right|\n",
      "|26169|      356| 90.36000366210938| 61.52000122070312|   Standard|     0|                0|                     0|                 1|                       1|                   0|                 0|                0|                 0|   0|0.0370512008666992|         36.6284|10.141365189060265|         Right|\n",
      "|26173|      356|             102.0| 47.83999938964843|       Pass|     0|                0|                     0|                 1|                       0|                   0|                 1|                0|                 0|   1|0.0734333992004394|         19.6333|21.293455499275915|         Right|\n",
      "|26419|      356|110.03999633789064| 43.12000122070312|     Aerial|     1|                0|                     0|                 0|                       0|                   0|                 1|                0|                 0|   0|0.0562398992478847|         10.4372| 40.60859077006896|         Right|\n",
      "|26431|      356|108.36000366210938|44.400000000000006|      Cross|     1|                0|                     0|                 0|                       0|                   0|                 0|                0|                 1|   0|0.0879653021693229|         12.4439| 33.84793604151994|         Right|\n",
      "+-----+---------+------------------+------------------+-----------+------+-----------------+----------------------+------------------+------------------------+--------------------+------------------+-----------------+------------------+----+------------------+----------------+------------------+--------------+\n",
      "only showing top 20 rows\n",
      "\n"
     ]
    }
   ],
   "source": [
    "df.show()"
   ]
  },
  {
   "cell_type": "code",
   "execution_count": 34,
   "metadata": {},
   "outputs": [],
   "source": [
    "# create preferred_foot_shot column with 1 when shotType_LeftFoot is 1 and preferred_foot is Left or\n",
    "# when shotType_RightFoot is 1 and preferred_foot is Right or\n",
    "# when any of the shotType_LeftFoot or shotType_RightFoot is 1 and preferred_foot is TwoFooted\n",
    "df = df.withColumn('preferred_foot_shot', when((col('shotType_LeftFoot')==1) & (col('preferred_foot')=='Left'), 1) \\\n",
    "                   .when((col('shotType_RightFoot')==1) & (col('preferred_foot')=='Right'), 1) \\\n",
    "                   .when(((col('shotType_LeftFoot')==1) | (col('shotType_RightFoot')==1)) & (col('preferred_foot')=='TwoFooted'), 1) \\\n",
    "                   .otherwise(0))"
   ]
  },
  {
   "cell_type": "code",
   "execution_count": 36,
   "metadata": {},
   "outputs": [
    {
     "name": "stderr",
     "output_type": "stream",
     "text": [
      "                                                                                \r"
     ]
    }
   ],
   "source": [
    "# Save the DataFrame as a CSV\n",
    "df.write.option(\"header\", \"true\").csv(\"understat/understat.csv\")"
   ]
  },
  {
   "cell_type": "code",
   "execution_count": 1,
   "metadata": {},
   "outputs": [],
   "source": [
    "# lastAction = Cross + situation_SetPiece -> from_fk\n",
    "# lastAction = TakeOn/GoodSkill -> shot_follows_dribble\n",
    "# lastAction = BallTouch -> shot_first_time\n",
    "# lastAction = Aerial/Chipped + shotType_LeftFoot / shotType_RightFoot -> volley_technique / half_volley_technique\n",
    "# lastAction = throughball -> shot_one_on_one\n",
    "# lastAction = Rebound -> shot_first_time / shot_one_on_one / shot_open_goal"
   ]
  }
 ],
 "metadata": {
  "kernelspec": {
   "display_name": "myenv",
   "language": "python",
   "name": "python3"
  },
  "language_info": {
   "codemirror_mode": {
    "name": "ipython",
    "version": 3
   },
   "file_extension": ".py",
   "mimetype": "text/x-python",
   "name": "python",
   "nbconvert_exporter": "python",
   "pygments_lexer": "ipython3",
   "version": "3.12.3"
  }
 },
 "nbformat": 4,
 "nbformat_minor": 2
}
