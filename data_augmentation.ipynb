{
 "cells": [
  {
   "cell_type": "code",
   "execution_count": null,
   "metadata": {},
   "outputs": [],
   "source": [
    "# extract probabilities of dummies\n",
    "# X*120 -> shot_location_x\n",
    "# Y*80 -> shot_location_y\n",
    "# + Calculate distance to goal\n",
    "# + Calculate angle to goal\n",
    "# shotType -> preferred_foot_shot , header , \n",
    "# situation -> fk_type , pk_type , \n",
    "# lastAction ->\n",
    "# result -> BlockedShot = pressure + players inside area"
   ]
  },
  {
   "cell_type": "code",
   "execution_count": 1,
   "metadata": {},
   "outputs": [],
   "source": [
    "from pyspark.sql import SparkSession"
   ]
  },
  {
   "cell_type": "code",
   "execution_count": 2,
   "metadata": {},
   "outputs": [
    {
     "name": "stderr",
     "output_type": "stream",
     "text": [
      "your 131072x1 screen size is bogus. expect trouble\n",
      "Setting default log level to \"WARN\".\n",
      "To adjust logging level use sc.setLogLevel(newLevel). For SparkR, use setLogLevel(newLevel).\n",
      "25/01/15 14:23:22 WARN NativeCodeLoader: Unable to load native-hadoop library for your platform... using builtin-java classes where applicable\n",
      "25/01/15 14:23:23 WARN Utils: Service 'SparkUI' could not bind on port 4040. Attempting port 4041.\n"
     ]
    }
   ],
   "source": [
    "spark = SparkSession.builder.appName(\"Data_Aug\").getOrCreate()"
   ]
  },
  {
   "cell_type": "code",
   "execution_count": 3,
   "metadata": {},
   "outputs": [
    {
     "name": "stderr",
     "output_type": "stream",
     "text": [
      "                                                                                \r"
     ]
    }
   ],
   "source": [
    "data = spark.read.csv(\"Datas/events_shot.csv\",header=True,inferSchema=True)"
   ]
  },
  {
   "cell_type": "code",
   "execution_count": 21,
   "metadata": {},
   "outputs": [
    {
     "name": "stdout",
     "output_type": "stream",
     "text": [
      "+--------------------+---------+---------------+---------------+----------------+----------+-------------------+--------+-------+-------+-----------+------------+-------+-----------+-------+------+-----------+-------+-------+---------------------+----------------+-------------+------------------+------------------+------------------+--------------+---------------+---------------+---------------+--------------+--------------------+-------------------+-----------------+------------+----+-------------+\n",
      "|                  id|player_id|shot_location_x|shot_location_y|distance_to_goal|shot_angle|preferred_foot_shot|other_pp|from_fk|from_ti|from_corner|from_counter|from_gk|from_keeper|from_ko|header|corner_type|fk_type|pk_type|half_volley_technique|volley_technique|lob_technique|overhead_technique|backheel_technique|diving_h_technique|under_pressure|shot_aerial_won|shot_first_time|shot_one_on_one|shot_open_goal|shot_follows_dribble|players_inside_area|shot_statsbomb_xg|shot_outcome|goal|sb_prediction|\n",
      "+--------------------+---------+---------------+---------------+----------------+----------+-------------------+--------+-------+-------+-----------+------------+-------+-----------+-------+------+-----------+-------+-------+---------------------+----------------+-------------+------------------+------------------+------------------+--------------+---------------+---------------+---------------+--------------+--------------------+-------------------+-----------------+------------+----+-------------+\n",
      "|1088c144-e602-48d...|  23650.0|          101.9|           39.2|         18.1177| 24.878618|                  1|       0|      0|      0|          0|           0|      0|          0|      0|     0|          0|      0|      0|                    0|               0|            0|                 0|                 0|                 0|             0|              0|              0|              0|             0|                   0|                  3|      0.049519155|     Blocked|   0|          0.0|\n",
      "|301a8b09-7a76-4eb...|   8966.0|           93.1|           21.7|         32.5346|  11.66356|                  1|       0|      0|      0|          0|           0|      1|          0|      0|     0|          0|      0|      0|                    0|               0|            1|                 0|                 0|                 0|             0|              0|              1|              0|             0|                   0|                  1|      0.037947286|       Off T|   0|          0.0|\n",
      "|f9f44f2c-4121-4ce...|   8966.0|          106.6|           29.6|         16.9623| 21.530413|                  1|       0|      0|      0|          0|           1|      0|          0|      0|     0|          0|      0|      0|                    0|               0|            0|                 0|                 0|                 0|             1|              0|              0|              0|             0|                   0|                  1|       0.18960205|       Saved|   0|          0.0|\n",
      "|2a3774f3-18b0-4c7...|   9466.0|          116.8|           47.4|          8.0623| 27.584747|                  1|       0|      0|      0|          1|           0|      0|          0|      0|     0|          0|      0|      0|                    0|               1|            0|                 0|                 0|                 0|             0|              0|              1|              0|             0|                   0|                  1|       0.10378359|       Saved|   0|          0.0|\n",
      "|b8dcea15-8f02-445...|  27896.0|          101.7|           34.0|         19.2585|  22.41723|                  1|       0|      0|      0|          0|           0|      0|          0|      0|     0|          0|      0|      0|                    0|               0|            0|                 0|                 0|                 0|             0|              0|              1|              0|             0|                   0|                  2|       0.07661064|        Goal|   1|          0.0|\n",
      "+--------------------+---------+---------------+---------------+----------------+----------+-------------------+--------+-------+-------+-----------+------------+-------+-----------+-------+------+-----------+-------+-------+---------------------+----------------+-------------+------------------+------------------+------------------+--------------+---------------+---------------+---------------+--------------+--------------------+-------------------+-----------------+------------+----+-------------+\n",
      "only showing top 5 rows\n",
      "\n"
     ]
    }
   ],
   "source": [
    "data.show(5)"
   ]
  },
  {
   "cell_type": "code",
   "execution_count": 13,
   "metadata": {},
   "outputs": [
    {
     "name": "stderr",
     "output_type": "stream",
     "text": [
      "                                                                                \r"
     ]
    }
   ],
   "source": [
    "understat = spark.read.csv(\"Data/understat.csv\",header=True,inferSchema=True)"
   ]
  },
  {
   "cell_type": "code",
   "execution_count": null,
   "metadata": {},
   "outputs": [
    {
     "name": "stdout",
     "output_type": "stream",
     "text": [
      "+------------------+------------------+---------+----------+---------------+-----------+------------------+-----------+\n",
      "|                 X|                 Y| shotType| situation|player_assisted| lastAction|                xG|     result|\n",
      "+------------------+------------------+---------+----------+---------------+-----------+------------------+-----------+\n",
      "|0.9259999847412108|0.6809999847412109| LeftFoot|  OpenPlay|    Fernandinho|       Pass| 0.079154796898365|  SavedShot|\n",
      "| 0.953000030517578|             0.655|RightFoot|  OpenPlay|           NULL|    Rebound|0.2991560101509094|       Goal|\n",
      "| 0.899000015258789|0.3240000152587891|RightFoot|  OpenPlay|    Jesús Navas|Throughball|0.3595860004425049|       Goal|\n",
      "| 0.975999984741211|0.2920000076293945|RightFoot|  OpenPlay|    Fernandinho|       Pass| 0.064260296523571|MissedShots|\n",
      "|              0.86| 0.649000015258789|RightFoot|  OpenPlay|     Edin Dzeko|       Pass|0.0434487015008926|BlockedShot|\n",
      "|0.9059999847412108|0.6630000305175782| LeftFoot|  OpenPlay|     Yaya Touré|       Pass|0.0643718987703323|BlockedShot|\n",
      "|0.9009999847412108|0.7140000152587891|RightFoot|  OpenPlay|    Jesús Navas|      Cross|0.0268350001424551|MissedShots|\n",
      "|0.9159999847412108|0.4540000152587891|RightFoot|  OpenPlay|    Jesús Navas|       Pass|0.6079729795455933|       Goal|\n",
      "|              0.92|0.3340000152587891| LeftFoot|  OpenPlay|           NULL|       NULL|0.0797372981905937|  SavedShot|\n",
      "|0.7909999847412109|0.3379999923706054| LeftFoot|  OpenPlay|    Samir Nasri|       Pass|0.0295751001685857|MissedShots|\n",
      "|0.7919999694824219|0.5459999847412109|RightFoot|  OpenPlay|    Gaël Clichy|       Pass|0.0402279011905193|  SavedShot|\n",
      "|0.8969999694824219|             0.575|     Head|  OpenPlay| Pablo Zabaleta|     Aerial|0.0320615991950035|MissedShots|\n",
      "|0.8780000305175781|0.5979999923706054|RightFoot|FromCorner|           NULL|     Aerial|0.0280780997127294|MissedShots|\n",
      "|0.8019999694824219|0.3240000152587891| LeftFoot|  OpenPlay| Pablo Zabaleta|       Pass|0.0262020006775856|  SavedShot|\n",
      "|             0.855|              0.46| LeftFoot|  OpenPlay|   James Milner|       Pass|0.1003559976816177|  SavedShot|\n",
      "|0.9690000152587892|0.2829999923706054|RightFoot|  OpenPlay|   James Milner|     TakeOn|0.0440303012728691|  SavedShot|\n",
      "|0.9230000305175782|0.3829999923706054|RightFoot|  OpenPlay| Pablo Zabaleta|   HeadPass|0.3078359961509704|       Goal|\n",
      "|0.8859999847412109|0.3509999847412109|RightFoot|  OpenPlay|   James Milner|       Pass|0.0919276997447013|MissedShots|\n",
      "|             0.895|0.3979999923706054|     Head|FromCorner|   James Milner|      Cross|0.0204010996967554|BlockedShot|\n",
      "|0.8190000152587891|             0.515| LeftFoot|  OpenPlay|           NULL|     TakeOn|0.0819322019815445|BlockedShot|\n",
      "+------------------+------------------+---------+----------+---------------+-----------+------------------+-----------+\n",
      "only showing top 20 rows\n",
      "\n"
     ]
    }
   ],
   "source": [
    "# filter relevnt columns\n",
    "rel_columns = ['X','Y','shotType','situation','player_assisted','lastAction','xG','result']\n",
    "understat = understat.select(rel_columns)\n",
    "understat.show()"
   ]
  },
  {
   "cell_type": "code",
   "execution_count": null,
   "metadata": {},
   "outputs": [
    {
     "data": {
      "text/plain": [
       "485257"
      ]
     },
     "execution_count": 7,
     "metadata": {},
     "output_type": "execute_result"
    }
   ],
   "source": [
    "understat.count()"
   ]
  }
 ],
 "metadata": {
  "kernelspec": {
   "display_name": "myenv",
   "language": "python",
   "name": "python3"
  },
  "language_info": {
   "codemirror_mode": {
    "name": "ipython",
    "version": 3
   },
   "file_extension": ".py",
   "mimetype": "text/x-python",
   "name": "python",
   "nbconvert_exporter": "python",
   "pygments_lexer": "ipython3",
   "version": "3.12.3"
  }
 },
 "nbformat": 4,
 "nbformat_minor": 2
}
