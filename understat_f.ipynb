{
 "cells": [
  {
   "cell_type": "code",
   "execution_count": 1,
   "metadata": {},
   "outputs": [],
   "source": [
    "from pyspark.sql import SparkSession"
   ]
  },
  {
   "cell_type": "code",
   "execution_count": 2,
   "metadata": {},
   "outputs": [
    {
     "name": "stderr",
     "output_type": "stream",
     "text": [
      "your 131072x1 screen size is bogus. expect trouble\n",
      "Setting default log level to \"WARN\".\n",
      "To adjust logging level use sc.setLogLevel(newLevel). For SparkR, use setLogLevel(newLevel).\n",
      "25/01/28 12:15:49 WARN NativeCodeLoader: Unable to load native-hadoop library for your platform... using builtin-java classes where applicable\n"
     ]
    }
   ],
   "source": [
    "spark = SparkSession.builder.appName(\"example\").getOrCreate()"
   ]
  },
  {
   "cell_type": "code",
   "execution_count": 3,
   "metadata": {},
   "outputs": [
    {
     "name": "stderr",
     "output_type": "stream",
     "text": [
      "                                                                                \r"
     ]
    }
   ],
   "source": [
    "us = spark.read.csv('Data/understat.csv',inferSchema=True,header=True)"
   ]
  },
  {
   "cell_type": "code",
   "execution_count": null,
   "metadata": {},
   "outputs": [
    {
     "name": "stderr",
     "output_type": "stream",
     "text": [
      "[Stage 12:===================>                                     (4 + 8) / 12]\r"
     ]
    },
    {
     "name": "stdout",
     "output_type": "stream",
     "text": [
      "+------+------+-----------+------------------+------------------+------------------+--------------+---+---------+----------+------+---------+--------+-------------+--------------------+-------+-------+-------------------+--------------------+------------+\n",
      "|    id|minute|     result|                 X|                 Y|                xG|        player|h_a|player_id| situation|season| shotType|match_id|       h_team|              a_team|h_goals|a_goals|               date|     player_assisted|  lastAction|\n",
      "+------+------+-----------+------------------+------------------+------------------+--------------+---+---------+----------+------+---------+--------+-------------+--------------------+-------+-------+-------------------+--------------------+------------+\n",
      "| 22144|    80|MissedShots|0.9259999847412108|0.5590000152587891| 0.250467985868454| Sergio Agüero|  a|      619|  OpenPlay|  2014|     Head|    4498|      Burnley|     Manchester City|      1|      0|2015-03-14 17:30:00|          Yaya Touré|       Cross|\n",
      "| 17774|    45|MissedShots|0.9440000152587892|0.4929999923706055|0.5500500202178955|    Harry Kane|  a|      647|  SetPiece|  2014|     Head|    4637|    Leicester|           Tottenham|      1|      2|2014-12-26 15:00:00|         Erik Lamela|       Cross|\n",
      "|198892|    16|  SavedShot| 0.950999984741211|0.5570000076293945|0.1215450018644332|    Harry Kane|  h|      647|  OpenPlay|  2017|RightFoot|    7407|    Tottenham|        Huddersfield|      2|      0|2018-03-03 15:00:00|       Son Heung-Min|       Cross|\n",
      "|212800|     5|BlockedShot|              0.92|0.5320000076293945|0.0411114990711212|    Harry Kane|  h|      647|FromCorner|  2017|     Head|    7477|    Tottenham|             Watford|      2|      0|2018-04-30 19:00:00|     Kieran Trippier|      Aerial|\n",
      "|390931|    45|       Goal| 0.943000030517578|0.6559999847412109|0.1239669993519783|    Harry Kane|  h|      647|  OpenPlay|  2020| LeftFoot|   14542|    Tottenham|             Arsenal|      2|      0|2020-12-06 16:30:00|       Son Heung-Min|        Pass|\n",
      "|555058|    80|BlockedShot|0.8280000305175781|0.3290000152587891|0.0988794192671775|    Harry Kane|  h|      647|  OpenPlay|  2023|RightFoot|   23191|Bayern Munich|       VfB Stuttgart|      3|      0|2023-12-17 18:30:00|          Leroy Sané|        Pass|\n",
      "| 20658|    83|MissedShots|0.9159999847412108|0.6790000152587891|0.0769983008503913|   Diego Costa|  a|      802|  OpenPlay|  2014| LeftFoot|    4485|     West Ham|             Chelsea|      0|      1|2015-03-04 19:45:00|             Willian|    HeadPass|\n",
      "| 54201|    67|MissedShots|0.9280000305175782|             0.555|0.1410589963197708|   Diego Costa|  h|      802|  OpenPlay|  2015|RightFoot|     256|      Chelsea|             Watford|      2|      2|2015-12-26 19:00:00|               Oscar|        Pass|\n",
      "|407326|    90|  SavedShot|0.8680000305175781|0.5570000076293945|0.3282969892024994|Alexis Sánchez|  h|      498|  OpenPlay|  2020| LeftFoot|   15660|        Inter|               Genoa|      3|      0|2021-02-28 14:00:00|       Romelu Lukaku|        Pass|\n",
      "|448643|    84| ShotOnPost|0.8680000305175781|0.4179999923706055|0.1235919967293739|Alexis Sánchez|  h|      498|  OpenPlay|  2021|RightFoot|   16919|        Inter|            Cagliari|      4|      0|2021-12-12 19:45:00|      Mattia Zanotti|        Pass|\n",
      "| 54868|    36|MissedShots|               0.9|0.5129999923706055|0.0215492993593215|Olivier Giroud|  h|      502|FromCorner|  2015|     Head|     273|      Arsenal|    Newcastle United|      1|      0|2016-01-02 19:00:00|          Mesut Özil|      Aerial|\n",
      "|116101|    11|MissedShots|0.7530000305175781| 0.509000015258789|0.0226009991019964|Olivier Giroud|  h|      502|  OpenPlay|  2016| LeftFoot|    3149|      Arsenal|West Bromwich Albion|      1|      0|2016-12-26 19:00:00|        Kieran Gibbs|        Pass|\n",
      "|119477|    47|  SavedShot| 0.919000015258789|0.5070000076293946| 0.138614997267723|Olivier Giroud|  a|      502|  OpenPlay|  2016|     Head|    3401|    Liverpool|             Arsenal|      3|      1|2017-03-04 17:30:00|       Nacho Monreal|       Cross|\n",
      "|480538|    80|BlockedShot|              0.85|0.4959999847412109|0.1208340004086494|Olivier Giroud|  h|      502|  OpenPlay|  2022| LeftFoot|   18582|     AC Milan|             Udinese|      4|      2|2022-08-13 16:30:00|Charles De Ketelaere|        Pass|\n",
      "|517251|    49|MissedShots|              0.93|0.6619999694824219|0.2928769886493683|Olivier Giroud|  a|      502|  OpenPlay|  2022| LeftFoot|   18859|       Napoli|            AC Milan|      0|      4|2023-04-02 18:45:00|     Ismael Bennacer|        Pass|\n",
      "|554612|    89|BlockedShot|0.9230000305175782|             0.615|0.1336095929145813|Olivier Giroud|  h|      502|  OpenPlay|  2023| LeftFoot|   22459|     AC Milan|               Monza|      3|      0|2023-12-17 11:30:00|    Samuel Chukwueze|        Pass|\n",
      "|579116|    74|       Goal| 0.953000030517578| 0.585999984741211|0.3398280143737793|Olivier Giroud|  h|      502|  OpenPlay|  2023| LeftFoot|   22650|     AC Milan|               Genoa|      3|      3|2024-05-05 16:00:00|   Christian Pulisic|       Cross|\n",
      "| 53297|    81|BlockedShot|0.8369999694824218|0.7369999694824219|0.0405029989778995|   Eden Hazard|  h|      701|  OpenPlay|  2015|RightFoot|     207|      Chelsea|             Norwich|      1|      0|2015-11-21 19:00:00|       Nemanja Matic|BallRecovery|\n",
      "| 61054|    22|  SavedShot|             0.765| 0.595999984741211|0.0229145996272563|   Eden Hazard|  a|      701|  OpenPlay|  2015|RightFoot|     450|    Liverpool|             Chelsea|      1|      1|2016-05-11 23:00:00|       Cesc Fàbregas|        Pass|\n",
      "|211840|    79|MissedShots|0.8109999847412109|0.5120000076293946|0.0406309999525547|   Eden Hazard|  a|      701|  OpenPlay|  2017| LeftFoot|    7476|      Swansea|             Chelsea|      0|      1|2018-04-28 16:30:00|      Olivier Giroud|    HeadPass|\n",
      "+------+------+-----------+------------------+------------------+------------------+--------------+---+---------+----------+------+---------+--------+-------------+--------------------+-------+-------+-------------------+--------------------+------------+\n",
      "only showing top 20 rows\n",
      "\n"
     ]
    },
    {
     "name": "stderr",
     "output_type": "stream",
     "text": [
      "                                                                                \r"
     ]
    }
   ],
   "source": [
    "us.dropDuplicates().groupBy('')"
   ]
  },
  {
   "cell_type": "code",
   "execution_count": null,
   "metadata": {},
   "outputs": [],
   "source": []
  }
 ],
 "metadata": {
  "kernelspec": {
   "display_name": "myenv",
   "language": "python",
   "name": "python3"
  },
  "language_info": {
   "codemirror_mode": {
    "name": "ipython",
    "version": 3
   },
   "file_extension": ".py",
   "mimetype": "text/x-python",
   "name": "python",
   "nbconvert_exporter": "python",
   "pygments_lexer": "ipython3",
   "version": "3.12.3"
  }
 },
 "nbformat": 4,
 "nbformat_minor": 2
}
