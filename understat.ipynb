{
 "cells": [
  {
   "cell_type": "code",
   "execution_count": 21,
   "metadata": {},
   "outputs": [],
   "source": [
    "import pandas as pd"
   ]
  },
  {
   "cell_type": "code",
   "execution_count": 22,
   "metadata": {},
   "outputs": [],
   "source": [
    "df_b = pd.read_csv('Data/us/Bundesliga.csv')\n",
    "df_e = pd.read_csv('Data/us/EPL.csv')\n",
    "df_l = pd.read_csv('Data/us/La_Liga.csv')\n",
    "df_s = pd.read_csv('Data/us/Serie_A.csv')\n",
    "df_1 = pd.read_csv('Data/us/Ligue_1.csv')\n",
    "df_r = pd.read_csv('Data/us/RFPL.csv')"
   ]
  },
  {
   "cell_type": "code",
   "execution_count": 23,
   "metadata": {},
   "outputs": [],
   "source": [
    "# concatenate all the dataframes\n",
    "df = pd.concat([df_b, df_e, df_l, df_s, df_1, df_r])"
   ]
  },
  {
   "cell_type": "code",
   "execution_count": 24,
   "metadata": {},
   "outputs": [],
   "source": [
    "dfs = df[['id','player_id','match_id','season','X','Y','xG','shotType','situation','lastAction','result']]"
   ]
  },
  {
   "cell_type": "code",
   "execution_count": 25,
   "metadata": {},
   "outputs": [
    {
     "data": {
      "text/plain": [
       "situation\n",
       "DirectFreekick     159335\n",
       "FromCorner         539932\n",
       "OpenPlay          2729945\n",
       "Penalty             50778\n",
       "SetPiece           224556\n",
       "dtype: int64"
      ]
     },
     "execution_count": 25,
     "metadata": {},
     "output_type": "execute_result"
    }
   ],
   "source": [
    "df.groupby('situation').size()"
   ]
  },
  {
   "cell_type": "code",
   "execution_count": 26,
   "metadata": {},
   "outputs": [
    {
     "data": {
      "text/plain": [
       "shotType\n",
       "Head              610491\n",
       "LeftFoot         1169672\n",
       "OtherBodyPart      14238\n",
       "RightFoot        1910145\n",
       "dtype: int64"
      ]
     },
     "execution_count": 26,
     "metadata": {},
     "output_type": "execute_result"
    }
   ],
   "source": [
    "df.groupby('shotType').size()"
   ]
  },
  {
   "cell_type": "code",
   "execution_count": 27,
   "metadata": {},
   "outputs": [
    {
     "data": {
      "text/plain": [
       "lastAction\n",
       "Aerial              268784\n",
       "BallRecovery         85929\n",
       "BallTouch            65900\n",
       "BlockedPass           4752\n",
       "Card                   916\n",
       "Challenge             1536\n",
       "ChanceMissed            21\n",
       "Chipped             186642\n",
       "Claim                   10\n",
       "Clearance             1465\n",
       "CornerAwarded         6018\n",
       "Cross               505710\n",
       "CrossNotClaimed         21\n",
       "Dispossessed         20223\n",
       "End                   2697\n",
       "Error                  103\n",
       "FormationChange        146\n",
       "Foul                  6461\n",
       "Goal                  2571\n",
       "GoodSkill              621\n",
       "HeadPass             85507\n",
       "Interception          3892\n",
       "KeeperPickup           204\n",
       "KeeperSweeper           29\n",
       "LayOff               28893\n",
       "OffsidePass            963\n",
       "OffsideProvoked        191\n",
       "Pass               1351554\n",
       "PenaltyFaced            12\n",
       "Punch                   61\n",
       "Rebound             162046\n",
       "Save                   725\n",
       "ShieldBallOpp           42\n",
       "Smother                  5\n",
       "Standard            210113\n",
       "Start                  145\n",
       "SubstitutionOff          9\n",
       "SubstitutionOn         560\n",
       "Tackle                8097\n",
       "TakeOn              188253\n",
       "Throughball          75141\n",
       "dtype: int64"
      ]
     },
     "execution_count": 27,
     "metadata": {},
     "output_type": "execute_result"
    }
   ],
   "source": [
    "df.groupby('lastAction').size()"
   ]
  },
  {
   "cell_type": "code",
   "execution_count": 28,
   "metadata": {},
   "outputs": [
    {
     "data": {
      "text/html": [
       "<div>\n",
       "<style scoped>\n",
       "    .dataframe tbody tr th:only-of-type {\n",
       "        vertical-align: middle;\n",
       "    }\n",
       "\n",
       "    .dataframe tbody tr th {\n",
       "        vertical-align: top;\n",
       "    }\n",
       "\n",
       "    .dataframe thead th {\n",
       "        text-align: right;\n",
       "    }\n",
       "</style>\n",
       "<table border=\"1\" class=\"dataframe\">\n",
       "  <thead>\n",
       "    <tr style=\"text-align: right;\">\n",
       "      <th></th>\n",
       "      <th>id</th>\n",
       "      <th>minute</th>\n",
       "      <th>result</th>\n",
       "      <th>X</th>\n",
       "      <th>Y</th>\n",
       "      <th>xG</th>\n",
       "      <th>player</th>\n",
       "      <th>h_a</th>\n",
       "      <th>player_id</th>\n",
       "      <th>season</th>\n",
       "      <th>...</th>\n",
       "      <th>lastAction</th>\n",
       "      <th>shotType_Head</th>\n",
       "      <th>shotType_LeftFoot</th>\n",
       "      <th>shotType_OtherBodyPart</th>\n",
       "      <th>shotType_RightFoot</th>\n",
       "      <th>situation_DirectFreekick</th>\n",
       "      <th>situation_FromCorner</th>\n",
       "      <th>situation_OpenPlay</th>\n",
       "      <th>situation_Penalty</th>\n",
       "      <th>situation_SetPiece</th>\n",
       "    </tr>\n",
       "  </thead>\n",
       "  <tbody>\n",
       "    <tr>\n",
       "      <th>0</th>\n",
       "      <td>24501</td>\n",
       "      <td>71</td>\n",
       "      <td>SavedShot</td>\n",
       "      <td>0.868</td>\n",
       "      <td>0.461</td>\n",
       "      <td>0.026551</td>\n",
       "      <td>Alexander Meier</td>\n",
       "      <td>h</td>\n",
       "      <td>356</td>\n",
       "      <td>2014</td>\n",
       "      <td>...</td>\n",
       "      <td>Aerial</td>\n",
       "      <td>True</td>\n",
       "      <td>False</td>\n",
       "      <td>False</td>\n",
       "      <td>False</td>\n",
       "      <td>False</td>\n",
       "      <td>False</td>\n",
       "      <td>True</td>\n",
       "      <td>False</td>\n",
       "      <td>False</td>\n",
       "    </tr>\n",
       "    <tr>\n",
       "      <th>1</th>\n",
       "      <td>25008</td>\n",
       "      <td>82</td>\n",
       "      <td>BlockedShot</td>\n",
       "      <td>0.880</td>\n",
       "      <td>0.386</td>\n",
       "      <td>0.072646</td>\n",
       "      <td>Alexander Meier</td>\n",
       "      <td>h</td>\n",
       "      <td>356</td>\n",
       "      <td>2014</td>\n",
       "      <td>...</td>\n",
       "      <td>Pass</td>\n",
       "      <td>False</td>\n",
       "      <td>False</td>\n",
       "      <td>False</td>\n",
       "      <td>True</td>\n",
       "      <td>False</td>\n",
       "      <td>False</td>\n",
       "      <td>True</td>\n",
       "      <td>False</td>\n",
       "      <td>False</td>\n",
       "    </tr>\n",
       "    <tr>\n",
       "      <th>2</th>\n",
       "      <td>25026</td>\n",
       "      <td>3</td>\n",
       "      <td>MissedShots</td>\n",
       "      <td>0.947</td>\n",
       "      <td>0.623</td>\n",
       "      <td>0.033752</td>\n",
       "      <td>Alexander Meier</td>\n",
       "      <td>a</td>\n",
       "      <td>356</td>\n",
       "      <td>2014</td>\n",
       "      <td>...</td>\n",
       "      <td>Cross</td>\n",
       "      <td>True</td>\n",
       "      <td>False</td>\n",
       "      <td>False</td>\n",
       "      <td>False</td>\n",
       "      <td>False</td>\n",
       "      <td>False</td>\n",
       "      <td>True</td>\n",
       "      <td>False</td>\n",
       "      <td>False</td>\n",
       "    </tr>\n",
       "    <tr>\n",
       "      <th>3</th>\n",
       "      <td>25028</td>\n",
       "      <td>14</td>\n",
       "      <td>Goal</td>\n",
       "      <td>0.970</td>\n",
       "      <td>0.384</td>\n",
       "      <td>0.073383</td>\n",
       "      <td>Alexander Meier</td>\n",
       "      <td>a</td>\n",
       "      <td>356</td>\n",
       "      <td>2014</td>\n",
       "      <td>...</td>\n",
       "      <td>NaN</td>\n",
       "      <td>False</td>\n",
       "      <td>False</td>\n",
       "      <td>False</td>\n",
       "      <td>True</td>\n",
       "      <td>False</td>\n",
       "      <td>True</td>\n",
       "      <td>False</td>\n",
       "      <td>False</td>\n",
       "      <td>False</td>\n",
       "    </tr>\n",
       "    <tr>\n",
       "      <th>4</th>\n",
       "      <td>25041</td>\n",
       "      <td>75</td>\n",
       "      <td>MissedShots</td>\n",
       "      <td>0.938</td>\n",
       "      <td>0.516</td>\n",
       "      <td>0.127458</td>\n",
       "      <td>Alexander Meier</td>\n",
       "      <td>a</td>\n",
       "      <td>356</td>\n",
       "      <td>2014</td>\n",
       "      <td>...</td>\n",
       "      <td>Cross</td>\n",
       "      <td>True</td>\n",
       "      <td>False</td>\n",
       "      <td>False</td>\n",
       "      <td>False</td>\n",
       "      <td>False</td>\n",
       "      <td>True</td>\n",
       "      <td>False</td>\n",
       "      <td>False</td>\n",
       "      <td>False</td>\n",
       "    </tr>\n",
       "  </tbody>\n",
       "</table>\n",
       "<p>5 rows × 27 columns</p>\n",
       "</div>"
      ],
      "text/plain": [
       "      id  minute       result      X      Y        xG           player h_a  \\\n",
       "0  24501      71    SavedShot  0.868  0.461  0.026551  Alexander Meier   h   \n",
       "1  25008      82  BlockedShot  0.880  0.386  0.072646  Alexander Meier   h   \n",
       "2  25026       3  MissedShots  0.947  0.623  0.033752  Alexander Meier   a   \n",
       "3  25028      14         Goal  0.970  0.384  0.073383  Alexander Meier   a   \n",
       "4  25041      75  MissedShots  0.938  0.516  0.127458  Alexander Meier   a   \n",
       "\n",
       "   player_id  season  ...  lastAction shotType_Head shotType_LeftFoot  \\\n",
       "0        356    2014  ...      Aerial          True             False   \n",
       "1        356    2014  ...        Pass         False             False   \n",
       "2        356    2014  ...       Cross          True             False   \n",
       "3        356    2014  ...         NaN         False             False   \n",
       "4        356    2014  ...       Cross          True             False   \n",
       "\n",
       "   shotType_OtherBodyPart  shotType_RightFoot situation_DirectFreekick  \\\n",
       "0                   False               False                    False   \n",
       "1                   False                True                    False   \n",
       "2                   False               False                    False   \n",
       "3                   False                True                    False   \n",
       "4                   False               False                    False   \n",
       "\n",
       "  situation_FromCorner situation_OpenPlay  situation_Penalty  \\\n",
       "0                False               True              False   \n",
       "1                False               True              False   \n",
       "2                False               True              False   \n",
       "3                 True              False              False   \n",
       "4                 True              False              False   \n",
       "\n",
       "   situation_SetPiece  \n",
       "0               False  \n",
       "1               False  \n",
       "2               False  \n",
       "3               False  \n",
       "4               False  \n",
       "\n",
       "[5 rows x 27 columns]"
      ]
     },
     "execution_count": 28,
     "metadata": {},
     "output_type": "execute_result"
    }
   ],
   "source": [
    "# convert columns to dummy variables\n",
    "cols = ['shotType','situation']\n",
    "dfs = pd.get_dummies(df, columns=cols)\n",
    "dfs.head()"
   ]
  },
  {
   "cell_type": "code",
   "execution_count": 29,
   "metadata": {},
   "outputs": [],
   "source": [
    "# Convert the result column to a binary outcome\n",
    "dfs['result'] = dfs['result'].apply(lambda x: 1 if x == 'Goal' else 0)"
   ]
  },
  {
   "cell_type": "code",
   "execution_count": 30,
   "metadata": {},
   "outputs": [],
   "source": [
    "X = ['X','Y','shotType_Head','shotType_LeftFoot','shotType_OtherBodyPart','shotType_RightFoot','situation_DirectFreekick',\n",
    "     'situation_FromCorner','situation_OpenPlay','situation_Penalty','situation_SetPiece']"
   ]
  },
  {
   "cell_type": "code",
   "execution_count": 31,
   "metadata": {},
   "outputs": [],
   "source": [
    "# convert boolean columns to integers\n",
    "dfs[X[2:]] = dfs[X[2:]].astype(int)"
   ]
  },
  {
   "cell_type": "code",
   "execution_count": 32,
   "metadata": {},
   "outputs": [],
   "source": [
    "dfs = dfs[dfs['match_id']!=22854]"
   ]
  },
  {
   "cell_type": "code",
   "execution_count": 33,
   "metadata": {},
   "outputs": [],
   "source": [
    "dfs.reset_index(drop=True, inplace=True)"
   ]
  },
  {
   "cell_type": "code",
   "execution_count": 34,
   "metadata": {},
   "outputs": [],
   "source": [
    "# split the data into training and testing sets\n",
    "from sklearn.model_selection import train_test_split\n",
    "\n",
    "X_data = dfs[X]\n",
    "y_data = dfs['result']\n",
    "\n",
    "X_train, X_test, y_train, y_test = train_test_split(X_data, y_data, test_size=0.2, random_state=42,stratify=y_data)"
   ]
  },
  {
   "cell_type": "code",
   "execution_count": 35,
   "metadata": {},
   "outputs": [
    {
     "data": {
      "text/plain": [
       "0.8971377821928643"
      ]
     },
     "execution_count": 35,
     "metadata": {},
     "output_type": "execute_result"
    }
   ],
   "source": [
    "# train a logistic regression model\n",
    "from sklearn.linear_model import LogisticRegression\n",
    "\n",
    "model = LogisticRegression()\n",
    "model.fit(X_train, y_train)\n",
    "\n",
    "# evaluate the model\n",
    "from sklearn.metrics import accuracy_score\n",
    "\n",
    "y_pred = model.predict(X_test)\n",
    "accuracy_score(y_test, y_pred)\n",
    "# 0.8973019665006546"
   ]
  },
  {
   "cell_type": "code",
   "execution_count": 40,
   "metadata": {},
   "outputs": [],
   "source": [
    "# round xG to 0 or 1\n",
    "dfs['xGoal'] = dfs['xG'].apply(lambda x: 1 if x >= 0.5 else 0)"
   ]
  },
  {
   "cell_type": "code",
   "execution_count": 43,
   "metadata": {},
   "outputs": [
    {
     "name": "stdout",
     "output_type": "stream",
     "text": [
      "Matching accuracy with xGoal: 0.9604315867047108\n"
     ]
    }
   ],
   "source": [
    "from sklearn.metrics import accuracy_score\n",
    "\n",
    "# Ensure the xGoal column matches the indices of X_test\n",
    "xGoal_test = dfs.loc[X_test.index, 'xGoal']\n",
    "\n",
    "# Calculate the accuracy of your predictions against xGoal\n",
    "matching_accuracy = accuracy_score(xGoal_test, y_pred)\n",
    "\n",
    "print(f\"Matching accuracy with xGoal: {matching_accuracy}\")\n"
   ]
  },
  {
   "cell_type": "code",
   "execution_count": 44,
   "metadata": {},
   "outputs": [
    {
     "name": "stdout",
     "output_type": "stream",
     "text": [
      "Matching Rate: 0.9604315867047108\n"
     ]
    }
   ],
   "source": [
    "# Add the test indices to the original DataFrame\n",
    "dfs_test = dfs.iloc[X_test.index]\n",
    "\n",
    "# Calculate the matching rate\n",
    "from sklearn.metrics import accuracy_score\n",
    "\n",
    "matching_rate = accuracy_score(dfs_test['xGoal'], y_pred)\n",
    "print(\"Matching Rate:\", matching_rate)"
   ]
  },
  {
   "cell_type": "code",
   "execution_count": 42,
   "metadata": {},
   "outputs": [
    {
     "data": {
      "text/plain": [
       "0.9034962124095619"
      ]
     },
     "execution_count": 42,
     "metadata": {},
     "output_type": "execute_result"
    }
   ],
   "source": [
    "# calculate accuracy of our model against xGoal\n",
    "accuracy_score(dfs['result'], dfs['xGoal'])"
   ]
  },
  {
   "cell_type": "code",
   "execution_count": 16,
   "metadata": {},
   "outputs": [
    {
     "name": "stderr",
     "output_type": "stream",
     "text": [
      "/tmp/ipykernel_33200/891525737.py:2: SettingWithCopyWarning: \n",
      "A value is trying to be set on a copy of a slice from a DataFrame.\n",
      "Try using .loc[row_indexer,col_indexer] = value instead\n",
      "\n",
      "See the caveats in the documentation: https://pandas.pydata.org/pandas-docs/stable/user_guide/indexing.html#returning-a-view-versus-a-copy\n",
      "  dfs['xG_pred'] = model.predict_proba(X_data)[:,1]\n"
     ]
    },
    {
     "data": {
      "text/html": [
       "<div>\n",
       "<style scoped>\n",
       "    .dataframe tbody tr th:only-of-type {\n",
       "        vertical-align: middle;\n",
       "    }\n",
       "\n",
       "    .dataframe tbody tr th {\n",
       "        vertical-align: top;\n",
       "    }\n",
       "\n",
       "    .dataframe thead th {\n",
       "        text-align: right;\n",
       "    }\n",
       "</style>\n",
       "<table border=\"1\" class=\"dataframe\">\n",
       "  <thead>\n",
       "    <tr style=\"text-align: right;\">\n",
       "      <th></th>\n",
       "      <th>xG</th>\n",
       "      <th>xG_pred</th>\n",
       "    </tr>\n",
       "  </thead>\n",
       "  <tbody>\n",
       "    <tr>\n",
       "      <th>0</th>\n",
       "      <td>0.026551</td>\n",
       "      <td>0.069881</td>\n",
       "    </tr>\n",
       "    <tr>\n",
       "      <th>1</th>\n",
       "      <td>0.072646</td>\n",
       "      <td>0.131470</td>\n",
       "    </tr>\n",
       "    <tr>\n",
       "      <th>2</th>\n",
       "      <td>0.033752</td>\n",
       "      <td>0.177678</td>\n",
       "    </tr>\n",
       "    <tr>\n",
       "      <th>3</th>\n",
       "      <td>0.073383</td>\n",
       "      <td>0.235895</td>\n",
       "    </tr>\n",
       "    <tr>\n",
       "      <th>4</th>\n",
       "      <td>0.127458</td>\n",
       "      <td>0.105017</td>\n",
       "    </tr>\n",
       "    <tr>\n",
       "      <th>...</th>\n",
       "      <td>...</td>\n",
       "      <td>...</td>\n",
       "    </tr>\n",
       "    <tr>\n",
       "      <th>3704461</th>\n",
       "      <td>0.015292</td>\n",
       "      <td>0.013022</td>\n",
       "    </tr>\n",
       "    <tr>\n",
       "      <th>3704462</th>\n",
       "      <td>0.010113</td>\n",
       "      <td>0.010513</td>\n",
       "    </tr>\n",
       "    <tr>\n",
       "      <th>3704463</th>\n",
       "      <td>0.009143</td>\n",
       "      <td>0.006772</td>\n",
       "    </tr>\n",
       "    <tr>\n",
       "      <th>3704464</th>\n",
       "      <td>0.012087</td>\n",
       "      <td>0.039857</td>\n",
       "    </tr>\n",
       "    <tr>\n",
       "      <th>3704465</th>\n",
       "      <td>0.066074</td>\n",
       "      <td>0.120136</td>\n",
       "    </tr>\n",
       "  </tbody>\n",
       "</table>\n",
       "<p>3704466 rows × 2 columns</p>\n",
       "</div>"
      ],
      "text/plain": [
       "               xG   xG_pred\n",
       "0        0.026551  0.069881\n",
       "1        0.072646  0.131470\n",
       "2        0.033752  0.177678\n",
       "3        0.073383  0.235895\n",
       "4        0.127458  0.105017\n",
       "...           ...       ...\n",
       "3704461  0.015292  0.013022\n",
       "3704462  0.010113  0.010513\n",
       "3704463  0.009143  0.006772\n",
       "3704464  0.012087  0.039857\n",
       "3704465  0.066074  0.120136\n",
       "\n",
       "[3704466 rows x 2 columns]"
      ]
     },
     "execution_count": 16,
     "metadata": {},
     "output_type": "execute_result"
    }
   ],
   "source": [
    "# compare the probability of the model with xg in dfs\n",
    "dfs['xG_pred'] = model.predict_proba(X_data)[:,1]\n",
    "dfs[['xG','xG_pred']]"
   ]
  },
  {
   "cell_type": "code",
   "execution_count": 17,
   "metadata": {},
   "outputs": [
    {
     "data": {
      "text/plain": [
       "0.8970856790386736"
      ]
     },
     "execution_count": 17,
     "metadata": {},
     "output_type": "execute_result"
    }
   ],
   "source": [
    "# confirm the model is not overfitting\n",
    "y_pred_train = model.predict(X_train)\n",
    "accuracy_score(y_train, y_pred_train)\n",
    "# 0.8970800826067004"
   ]
  },
  {
   "cell_type": "code",
   "execution_count": 19,
   "metadata": {},
   "outputs": [
    {
     "name": "stdout",
     "output_type": "stream",
     "text": [
      "              precision    recall  f1-score   support\n",
      "\n",
      "           0       0.90      1.00      0.95    658912\n",
      "           1       0.78      0.10      0.17     81982\n",
      "\n",
      "    accuracy                           0.90    740894\n",
      "   macro avg       0.84      0.55      0.56    740894\n",
      "weighted avg       0.89      0.90      0.86    740894\n",
      "\n"
     ]
    }
   ],
   "source": [
    "# classification report\n",
    "from sklearn.metrics import classification_report\n",
    "\n",
    "print(classification_report(y_test, y_pred))"
   ]
  },
  {
   "cell_type": "code",
   "execution_count": 20,
   "metadata": {},
   "outputs": [
    {
     "data": {
      "image/png": "[encoded data removed]",
      "text/plain": [
       "<Figure size 640x480 with 2 Axes>"
      ]
     },
     "metadata": {},
     "output_type": "display_data"
    }
   ],
   "source": [
    "# confusion matrix with seaborn\n",
    "import seaborn as sns\n",
    "import matplotlib.pyplot as plt\n",
    "\n",
    "from sklearn.metrics import confusion_matrix\n",
    "\n",
    "cm = confusion_matrix(y_test, y_pred)\n",
    "sns.heatmap(cm, annot=True, fmt='d')\n",
    "plt.xlabel('Predicted')\n",
    "plt.ylabel('Actual')\n",
    "plt.show()"
   ]
  },
  {
   "cell_type": "code",
   "execution_count": null,
   "metadata": {},
   "outputs": [],
   "source": [
    "# 89% accuracy on the training set and 89% accuracy on the testing set\n",
    "# the model is not overfitting"
   ]
  },
  {
   "cell_type": "code",
   "execution_count": 42,
   "metadata": {},
   "outputs": [
    {
     "data": {
      "text/html": [
       "<div>\n",
       "<style scoped>\n",
       "    .dataframe tbody tr th:only-of-type {\n",
       "        vertical-align: middle;\n",
       "    }\n",
       "\n",
       "    .dataframe tbody tr th {\n",
       "        vertical-align: top;\n",
       "    }\n",
       "\n",
       "    .dataframe thead th {\n",
       "        text-align: right;\n",
       "    }\n",
       "</style>\n",
       "<table border=\"1\" class=\"dataframe\">\n",
       "  <thead>\n",
       "    <tr style=\"text-align: right;\">\n",
       "      <th></th>\n",
       "      <th>id</th>\n",
       "      <th>player_id</th>\n",
       "      <th>match_id</th>\n",
       "      <th>season</th>\n",
       "      <th>X</th>\n",
       "      <th>Y</th>\n",
       "      <th>xG</th>\n",
       "      <th>lastAction</th>\n",
       "      <th>result</th>\n",
       "      <th>shotType_Head</th>\n",
       "      <th>shotType_LeftFoot</th>\n",
       "      <th>shotType_OtherBodyPart</th>\n",
       "      <th>shotType_RightFoot</th>\n",
       "      <th>situation_DirectFreekick</th>\n",
       "      <th>situation_FromCorner</th>\n",
       "      <th>situation_OpenPlay</th>\n",
       "      <th>situation_Penalty</th>\n",
       "      <th>situation_SetPiece</th>\n",
       "    </tr>\n",
       "  </thead>\n",
       "  <tbody>\n",
       "    <tr>\n",
       "      <th>0</th>\n",
       "      <td>24501</td>\n",
       "      <td>356</td>\n",
       "      <td>5451</td>\n",
       "      <td>2014</td>\n",
       "      <td>0.868</td>\n",
       "      <td>0.461</td>\n",
       "      <td>0.026551</td>\n",
       "      <td>Aerial</td>\n",
       "      <td>0</td>\n",
       "      <td>1</td>\n",
       "      <td>0</td>\n",
       "      <td>0</td>\n",
       "      <td>0</td>\n",
       "      <td>0</td>\n",
       "      <td>0</td>\n",
       "      <td>1</td>\n",
       "      <td>0</td>\n",
       "      <td>0</td>\n",
       "    </tr>\n",
       "    <tr>\n",
       "      <th>1</th>\n",
       "      <td>25008</td>\n",
       "      <td>356</td>\n",
       "      <td>5418</td>\n",
       "      <td>2014</td>\n",
       "      <td>0.880</td>\n",
       "      <td>0.386</td>\n",
       "      <td>0.072646</td>\n",
       "      <td>Pass</td>\n",
       "      <td>0</td>\n",
       "      <td>0</td>\n",
       "      <td>0</td>\n",
       "      <td>0</td>\n",
       "      <td>1</td>\n",
       "      <td>0</td>\n",
       "      <td>0</td>\n",
       "      <td>1</td>\n",
       "      <td>0</td>\n",
       "      <td>0</td>\n",
       "    </tr>\n",
       "    <tr>\n",
       "      <th>2</th>\n",
       "      <td>25026</td>\n",
       "      <td>356</td>\n",
       "      <td>5423</td>\n",
       "      <td>2014</td>\n",
       "      <td>0.947</td>\n",
       "      <td>0.623</td>\n",
       "      <td>0.033752</td>\n",
       "      <td>Cross</td>\n",
       "      <td>0</td>\n",
       "      <td>1</td>\n",
       "      <td>0</td>\n",
       "      <td>0</td>\n",
       "      <td>0</td>\n",
       "      <td>0</td>\n",
       "      <td>0</td>\n",
       "      <td>1</td>\n",
       "      <td>0</td>\n",
       "      <td>0</td>\n",
       "    </tr>\n",
       "    <tr>\n",
       "      <th>3</th>\n",
       "      <td>25028</td>\n",
       "      <td>356</td>\n",
       "      <td>5423</td>\n",
       "      <td>2014</td>\n",
       "      <td>0.970</td>\n",
       "      <td>0.384</td>\n",
       "      <td>0.073383</td>\n",
       "      <td>NaN</td>\n",
       "      <td>1</td>\n",
       "      <td>0</td>\n",
       "      <td>0</td>\n",
       "      <td>0</td>\n",
       "      <td>1</td>\n",
       "      <td>0</td>\n",
       "      <td>1</td>\n",
       "      <td>0</td>\n",
       "      <td>0</td>\n",
       "      <td>0</td>\n",
       "    </tr>\n",
       "    <tr>\n",
       "      <th>4</th>\n",
       "      <td>25041</td>\n",
       "      <td>356</td>\n",
       "      <td>5423</td>\n",
       "      <td>2014</td>\n",
       "      <td>0.938</td>\n",
       "      <td>0.516</td>\n",
       "      <td>0.127458</td>\n",
       "      <td>Cross</td>\n",
       "      <td>0</td>\n",
       "      <td>1</td>\n",
       "      <td>0</td>\n",
       "      <td>0</td>\n",
       "      <td>0</td>\n",
       "      <td>0</td>\n",
       "      <td>1</td>\n",
       "      <td>0</td>\n",
       "      <td>0</td>\n",
       "      <td>0</td>\n",
       "    </tr>\n",
       "    <tr>\n",
       "      <th>...</th>\n",
       "      <td>...</td>\n",
       "      <td>...</td>\n",
       "      <td>...</td>\n",
       "      <td>...</td>\n",
       "      <td>...</td>\n",
       "      <td>...</td>\n",
       "      <td>...</td>\n",
       "      <td>...</td>\n",
       "      <td>...</td>\n",
       "      <td>...</td>\n",
       "      <td>...</td>\n",
       "      <td>...</td>\n",
       "      <td>...</td>\n",
       "      <td>...</td>\n",
       "      <td>...</td>\n",
       "      <td>...</td>\n",
       "      <td>...</td>\n",
       "      <td>...</td>\n",
       "    </tr>\n",
       "    <tr>\n",
       "      <th>364352</th>\n",
       "      <td>596376</td>\n",
       "      <td>13121</td>\n",
       "      <td>26447</td>\n",
       "      <td>2024</td>\n",
       "      <td>0.734</td>\n",
       "      <td>0.431</td>\n",
       "      <td>0.015292</td>\n",
       "      <td>Pass</td>\n",
       "      <td>0</td>\n",
       "      <td>0</td>\n",
       "      <td>0</td>\n",
       "      <td>0</td>\n",
       "      <td>1</td>\n",
       "      <td>0</td>\n",
       "      <td>1</td>\n",
       "      <td>0</td>\n",
       "      <td>0</td>\n",
       "      <td>0</td>\n",
       "    </tr>\n",
       "    <tr>\n",
       "      <th>364353</th>\n",
       "      <td>598940</td>\n",
       "      <td>13121</td>\n",
       "      <td>26458</td>\n",
       "      <td>2024</td>\n",
       "      <td>0.681</td>\n",
       "      <td>0.750</td>\n",
       "      <td>0.010113</td>\n",
       "      <td>Pass</td>\n",
       "      <td>0</td>\n",
       "      <td>0</td>\n",
       "      <td>0</td>\n",
       "      <td>0</td>\n",
       "      <td>1</td>\n",
       "      <td>0</td>\n",
       "      <td>0</td>\n",
       "      <td>1</td>\n",
       "      <td>0</td>\n",
       "      <td>0</td>\n",
       "    </tr>\n",
       "    <tr>\n",
       "      <th>364354</th>\n",
       "      <td>597767</td>\n",
       "      <td>13163</td>\n",
       "      <td>26450</td>\n",
       "      <td>2024</td>\n",
       "      <td>0.648</td>\n",
       "      <td>0.288</td>\n",
       "      <td>0.009143</td>\n",
       "      <td>Pass</td>\n",
       "      <td>0</td>\n",
       "      <td>0</td>\n",
       "      <td>0</td>\n",
       "      <td>0</td>\n",
       "      <td>1</td>\n",
       "      <td>0</td>\n",
       "      <td>0</td>\n",
       "      <td>1</td>\n",
       "      <td>0</td>\n",
       "      <td>0</td>\n",
       "    </tr>\n",
       "    <tr>\n",
       "      <th>364355</th>\n",
       "      <td>603365</td>\n",
       "      <td>13230</td>\n",
       "      <td>26489</td>\n",
       "      <td>2024</td>\n",
       "      <td>0.789</td>\n",
       "      <td>0.226</td>\n",
       "      <td>0.012087</td>\n",
       "      <td>Challenge</td>\n",
       "      <td>0</td>\n",
       "      <td>0</td>\n",
       "      <td>1</td>\n",
       "      <td>0</td>\n",
       "      <td>0</td>\n",
       "      <td>0</td>\n",
       "      <td>0</td>\n",
       "      <td>1</td>\n",
       "      <td>0</td>\n",
       "      <td>0</td>\n",
       "    </tr>\n",
       "    <tr>\n",
       "      <th>364356</th>\n",
       "      <td>603366</td>\n",
       "      <td>13230</td>\n",
       "      <td>26489</td>\n",
       "      <td>2024</td>\n",
       "      <td>0.878</td>\n",
       "      <td>0.504</td>\n",
       "      <td>0.066074</td>\n",
       "      <td>BallTouch</td>\n",
       "      <td>0</td>\n",
       "      <td>0</td>\n",
       "      <td>1</td>\n",
       "      <td>0</td>\n",
       "      <td>0</td>\n",
       "      <td>0</td>\n",
       "      <td>0</td>\n",
       "      <td>1</td>\n",
       "      <td>0</td>\n",
       "      <td>0</td>\n",
       "    </tr>\n",
       "  </tbody>\n",
       "</table>\n",
       "<p>3704546 rows × 18 columns</p>\n",
       "</div>"
      ],
      "text/plain": [
       "            id  player_id  match_id  season      X      Y        xG  \\\n",
       "0        24501        356      5451    2014  0.868  0.461  0.026551   \n",
       "1        25008        356      5418    2014  0.880  0.386  0.072646   \n",
       "2        25026        356      5423    2014  0.947  0.623  0.033752   \n",
       "3        25028        356      5423    2014  0.970  0.384  0.073383   \n",
       "4        25041        356      5423    2014  0.938  0.516  0.127458   \n",
       "...        ...        ...       ...     ...    ...    ...       ...   \n",
       "364352  596376      13121     26447    2024  0.734  0.431  0.015292   \n",
       "364353  598940      13121     26458    2024  0.681  0.750  0.010113   \n",
       "364354  597767      13163     26450    2024  0.648  0.288  0.009143   \n",
       "364355  603365      13230     26489    2024  0.789  0.226  0.012087   \n",
       "364356  603366      13230     26489    2024  0.878  0.504  0.066074   \n",
       "\n",
       "       lastAction  result  shotType_Head  shotType_LeftFoot  \\\n",
       "0          Aerial       0              1                  0   \n",
       "1            Pass       0              0                  0   \n",
       "2           Cross       0              1                  0   \n",
       "3             NaN       1              0                  0   \n",
       "4           Cross       0              1                  0   \n",
       "...           ...     ...            ...                ...   \n",
       "364352       Pass       0              0                  0   \n",
       "364353       Pass       0              0                  0   \n",
       "364354       Pass       0              0                  0   \n",
       "364355  Challenge       0              0                  1   \n",
       "364356  BallTouch       0              0                  1   \n",
       "\n",
       "        shotType_OtherBodyPart  shotType_RightFoot  situation_DirectFreekick  \\\n",
       "0                            0                   0                         0   \n",
       "1                            0                   1                         0   \n",
       "2                            0                   0                         0   \n",
       "3                            0                   1                         0   \n",
       "4                            0                   0                         0   \n",
       "...                        ...                 ...                       ...   \n",
       "364352                       0                   1                         0   \n",
       "364353                       0                   1                         0   \n",
       "364354                       0                   1                         0   \n",
       "364355                       0                   0                         0   \n",
       "364356                       0                   0                         0   \n",
       "\n",
       "        situation_FromCorner  situation_OpenPlay  situation_Penalty  \\\n",
       "0                          0                   1                  0   \n",
       "1                          0                   1                  0   \n",
       "2                          0                   1                  0   \n",
       "3                          1                   0                  0   \n",
       "4                          1                   0                  0   \n",
       "...                      ...                 ...                ...   \n",
       "364352                     1                   0                  0   \n",
       "364353                     0                   1                  0   \n",
       "364354                     0                   1                  0   \n",
       "364355                     0                   1                  0   \n",
       "364356                     0                   1                  0   \n",
       "\n",
       "        situation_SetPiece  \n",
       "0                        0  \n",
       "1                        0  \n",
       "2                        0  \n",
       "3                        0  \n",
       "4                        0  \n",
       "...                    ...  \n",
       "364352                   0  \n",
       "364353                   0  \n",
       "364354                   0  \n",
       "364355                   0  \n",
       "364356                   0  \n",
       "\n",
       "[3704546 rows x 18 columns]"
      ]
     },
     "execution_count": 42,
     "metadata": {},
     "output_type": "execute_result"
    }
   ],
   "source": [
    "dfs.drop(columns=['xG_pred','rmse'], inplace=True)\n",
    "dfs"
   ]
  },
  {
   "cell_type": "code",
   "execution_count": 52,
   "metadata": {},
   "outputs": [],
   "source": [
    "dfs.to_csv('Data/us/shot_logs.csv', index=False)"
   ]
  },
  {
   "cell_type": "code",
   "execution_count": 59,
   "metadata": {},
   "outputs": [],
   "source": [
    "from pyspark.sql import SparkSession"
   ]
  },
  {
   "cell_type": "code",
   "execution_count": 46,
   "metadata": {},
   "outputs": [
    {
     "name": "stderr",
     "output_type": "stream",
     "text": [
      "your 131072x1 screen size is bogus. expect trouble\n",
      "Setting default log level to \"WARN\".\n",
      "To adjust logging level use sc.setLogLevel(newLevel). For SparkR, use setLogLevel(newLevel).\n",
      "25/01/28 00:44:50 WARN NativeCodeLoader: Unable to load native-hadoop library for your platform... using builtin-java classes where applicable\n",
      "25/01/28 00:44:50 WARN Utils: Service 'SparkUI' could not bind on port 4040. Attempting port 4041.\n"
     ]
    }
   ],
   "source": [
    "spark = SparkSession.builder.appName('soccer').getOrCreate()"
   ]
  },
  {
   "cell_type": "code",
   "execution_count": 60,
   "metadata": {},
   "outputs": [
    {
     "name": "stderr",
     "output_type": "stream",
     "text": [
      "                                                                                \r"
     ]
    }
   ],
   "source": [
    "r = spark.read.csv('understat/understat.csv', header=True, inferSchema=True)"
   ]
  },
  {
   "cell_type": "code",
   "execution_count": 61,
   "metadata": {},
   "outputs": [
    {
     "name": "stdout",
     "output_type": "stream",
     "text": [
      "+------+---------+------------------+------------------+-----------+------+-----------------+----------------------+------------------+------------------------+--------------------+------------------+-----------------+------------------+----+------------------+----------------+------------------+--------------+-------------------+\n",
      "|    id|player_id|   shot_location_x|   shot_location_y| lastAction|header|shotType_LeftFoot|shotType_OtherBodyPart|shotType_RightFoot|situation_DirectFreekick|situation_FromCorner|situation_OpenPlay|situation_Penalty|situation_SetPiece|goal|                xG|distance_to_goal|        shot_angle|preferred_foot|preferred_foot_shot|\n",
      "+------+---------+------------------+------------------+-----------+------+-----------------+----------------------+------------------+------------------------+--------------------+------------------+-----------------+------------------+----+------------------+----------------+------------------+--------------+-------------------+\n",
      "| 23566|     4404|              84.6| 40.07999877929688|       NULL|     0|                0|                     0|                 1|                       0|                   1|                 0|                0|                 0|   0|0.0131716001778841|         35.4001| 12.89344628968697|         Right|                  1|\n",
      "| 22783|     4404|  95.5199981689453| 59.35999755859375|   Standard|     0|                0|                     0|                 1|                       1|                   0|                 0|                0|                 0|   0| 0.053159199655056|         31.2103|11.552617163341136|         Right|                  1|\n",
      "| 22022|     4404| 93.48000183105468| 24.16000061035156|   Standard|     0|                0|                     0|                 1|                       1|                   0|                 0|                0|                 0|   0|0.0562738999724388|         30.8904|12.742064371072779|         Right|                  1|\n",
      "| 22938|     4404|102.96000366210936|12.080000305175776|       Pass|     0|                0|                     0|                 1|                       0|                   1|                 0|                0|                 0|   0|0.0266712997108697|         32.7091| 7.370263108975526|         Right|                  1|\n",
      "| 22944|     4404| 93.36000366210938|54.720001220703125|   Standard|     0|                0|                     0|                 1|                       1|                   0|                 0|                0|                 0|   0| 0.059061799198389|         30.4363|13.175844511241198|         Right|                  1|\n",
      "| 22806|     4404| 92.88000183105468|              58.0|   Standard|     0|                0|                     0|                 1|                       1|                   0|                 0|                0|                 0|   0|0.0481856986880302|         32.5499|11.745413623481417|         Right|                  1|\n",
      "| 21159|     4404| 89.88000183105468|              36.8|       Pass|     0|                0|                     0|                 1|                       0|                   0|                 1|                0|                 0|   0|  0.01924280077219|         30.2895|14.965364414550326|         Right|                  1|\n",
      "| 21710|     4404| 81.83999633789062| 39.67999877929687|   Standard|     0|                0|                     0|                 1|                       1|                   0|                 0|                0|                 0|   0|0.0325764007866382|         38.1613|11.967160818821393|         Right|                  1|\n",
      "| 20401|     4404| 95.76000366210938|              24.8|   Standard|     0|                0|                     0|                 1|                       1|                   0|                 0|                0|                 0|   0|0.0692543983459472|         28.6115| 13.58289491591423|         Right|                  1|\n",
      "| 20403|     4404| 88.31999816894532| 45.76000061035156|       NULL|     0|                1|                     0|                 0|                       0|                   0|                 1|                0|                 0|   0|0.0230966005474329|         32.1994|13.943230079870531|         Right|                  0|\n",
      "| 20416|     4404| 91.43999633789062| 55.27999877929688|       Pass|     0|                0|                     0|                 1|                       0|                   0|                 1|                0|                 0|   0|0.0161965992301702|         32.3906|12.470168434600573|         Right|                  1|\n",
      "| 19079|     4419|114.71999816894532|              51.6|      Cross|     0|                1|                     0|                 0|                       0|                   0|                 1|                0|                 0|   0|0.0561123006045818|         12.7451| 16.09015278126441|         Right|                  0|\n",
      "| 19080|     4419|107.63999633789062| 23.43999938964844|Throughball|     0|                0|                     0|                 1|                       0|                   0|                 1|                0|                 0|   0|0.1167389973998069|         20.6641|13.527263186412123|         Right|                  1|\n",
      "| 19083|     4419|             107.4| 50.87999877929687|       NULL|     1|                0|                     0|                 0|                       0|                   0|                 1|                0|                 0|   0|0.0210964009165763|         16.6474|21.106995383453604|         Right|                  0|\n",
      "| 17901|     4419|101.51999816894532|54.720001220703125|     TakeOn|     0|                0|                     0|                 1|                       0|                   0|                 1|                0|                 0|   0| 0.061176098883152|          23.626|15.252198744588744|         Right|                  1|\n",
      "| 17908|     4419| 99.96000366210936| 49.43999938964844|     Aerial|     0|                1|                     0|                 0|                       0|                   0|                 0|                0|                 1|   0|0.0177331008017063|         22.1521|18.660768164962185|         Right|                  0|\n",
      "| 19760|     4419| 113.5199981689453| 46.47999877929688|       Pass|     0|                0|                     0|                 1|                       0|                   0|                 1|                0|                 0|   0| 0.469637006521225|          9.1641| 37.32799791829071|         Right|                  1|\n",
      "| 22816|     4419|103.91999816894533| 38.96000061035156|     Aerial|     1|                0|                     0|                 0|                       0|                   0|                 0|                0|                 1|   0|0.0118651995435357|         16.1136|27.832921196585193|         Right|                  0|\n",
      "|425841|     4419| 107.5199981689453| 53.12000122070312|      Cross|     1|                0|                     0|                 0|                       0|                   0|                 0|                0|                 1|   0|0.0143681997433304|         18.1076|17.750812866525955|         Right|                  0|\n",
      "|425843|     4419|102.83999633789062| 43.76000061035156|Throughball|     0|                0|                     0|                 1|                       0|                   0|                 1|                0|                 0|   1|0.3611649870872497|         17.5671| 25.13445254394481|         Right|                  1|\n",
      "+------+---------+------------------+------------------+-----------+------+-----------------+----------------------+------------------+------------------------+--------------------+------------------+-----------------+------------------+----+------------------+----------------+------------------+--------------+-------------------+\n",
      "only showing top 20 rows\n",
      "\n"
     ]
    }
   ],
   "source": [
    "r.show()"
   ]
  },
  {
   "cell_type": "code",
   "execution_count": 62,
   "metadata": {},
   "outputs": [],
   "source": [
    "features = ['header','shotType_OtherBodyPart','situation_DirectFreekick','situation_FromCorner',\n",
    "            'situation_OpenPlay','situation_Penalty','situation_SetPiece','distance_to_goal','shot_angle','preferred_foot_shot']"
   ]
  },
  {
   "cell_type": "code",
   "execution_count": 63,
   "metadata": {},
   "outputs": [],
   "source": [
    "# using these features train a logistic regression model\n",
    "from xG_training import ModelTrainer\n",
    "import xG_preprocessing as xG_pre"
   ]
  },
  {
   "cell_type": "code",
   "execution_count": 64,
   "metadata": {},
   "outputs": [],
   "source": [
    "train_data, test_data = xG_pre.pre_training(r, features,0.7)"
   ]
  },
  {
   "cell_type": "code",
   "execution_count": 65,
   "metadata": {},
   "outputs": [
    {
     "name": "stderr",
     "output_type": "stream",
     "text": [
      "25/01/28 00:57:08 WARN InstanceBuilder: Failed to load implementation from:dev.ludovic.netlib.blas.JNIBLAS\n",
      "                                                                                \r"
     ]
    }
   ],
   "source": [
    "log_reg = ModelTrainer(train_data,test_data,max_iter=100)"
   ]
  },
  {
   "cell_type": "code",
   "execution_count": 73,
   "metadata": {},
   "outputs": [],
   "source": [
    "from xG_evaluation import ModelEvaluation\n",
    "from pyspark.sql.functions import col, when"
   ]
  },
  {
   "cell_type": "code",
   "execution_count": 75,
   "metadata": {},
   "outputs": [
    {
     "name": "stderr",
     "output_type": "stream",
     "text": [
      "                                                                                \r"
     ]
    }
   ],
   "source": [
    "predictions = log_reg.predictions\n",
    "predictions = xG_pre.goal_proba(predictions)\n",
    "predictions = predictions.withColumn('sb_prediction', when(col('xG') >= 0.5, 1).otherwise(0))\n",
    "me = ModelEvaluation(predictions,'goal','prediction')\n",
    "me_sb = ModelEvaluation(predictions,'sb_prediction','prediction')\n",
    "me_r = ModelEvaluation(predictions,'xG','goal_probability',model_type='regression')"
   ]
  },
  {
   "cell_type": "code",
   "execution_count": 76,
   "metadata": {},
   "outputs": [
    {
     "data": {
      "text/plain": [
       "{'Accuracy': 90.11,\n",
       " 'Precision': 67.69,\n",
       " 'Recall': 19.87,\n",
       " 'Sensitivity': 19.87,\n",
       " 'Specificity': 98.82,\n",
       " 'F1': 30.72,\n",
       " 'FPR': 1.18,\n",
       " 'FNR': 80.13}"
      ]
     },
     "execution_count": 76,
     "metadata": {},
     "output_type": "execute_result"
    }
   ],
   "source": [
    "me.get_all_metrics()"
   ]
  },
  {
   "cell_type": "code",
   "execution_count": 77,
   "metadata": {},
   "outputs": [
    {
     "data": {
      "text/plain": [
       "{'Accuracy': 97.42,\n",
       " 'Precision': 92.15,\n",
       " 'Recall': 56.14,\n",
       " 'Sensitivity': 56.14,\n",
       " 'Specificity': 99.73,\n",
       " 'F1': 69.78,\n",
       " 'FPR': 0.27,\n",
       " 'FNR': 43.86}"
      ]
     },
     "execution_count": 77,
     "metadata": {},
     "output_type": "execute_result"
    }
   ],
   "source": [
    "me_sb.get_all_metrics()"
   ]
  },
  {
   "cell_type": "code",
   "execution_count": 78,
   "metadata": {},
   "outputs": [
    {
     "data": {
      "text/plain": [
       "{'MSE': 0.00771, 'RMSE': 0.0878, 'MAE': 0.04849, 'R2': 71.59}"
      ]
     },
     "execution_count": 78,
     "metadata": {},
     "output_type": "execute_result"
    }
   ],
   "source": [
    "me_r.get_all_metrics()"
   ]
  }
 ],
 "metadata": {
  "kernelspec": {
   "display_name": "myenv",
   "language": "python",
   "name": "python3"
  },
  "language_info": {
   "codemirror_mode": {
    "name": "ipython",
    "version": 3
   },
   "file_extension": ".py",
   "mimetype": "text/x-python",
   "name": "python",
   "nbconvert_exporter": "python",
   "pygments_lexer": "ipython3",
   "version": "3.12.3"
  }
 },
 "nbformat": 4,
 "nbformat_minor": 2
}
