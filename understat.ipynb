{
 "cells": [
  {
   "cell_type": "code",
   "execution_count": 1,
   "metadata": {},
   "outputs": [],
   "source": [
    "import pandas as pd"
   ]
  },
  {
   "cell_type": "code",
   "execution_count": 2,
   "metadata": {},
   "outputs": [],
   "source": [
    "df_b = pd.read_csv('Data/us/Bundesliga.csv')\n",
    "df_e = pd.read_csv('Data/us/EPL.csv')\n",
    "df_l = pd.read_csv('Data/us/La_Liga.csv')\n",
    "df_s = pd.read_csv('Data/us/Serie_A.csv')\n",
    "df_1 = pd.read_csv('Data/us/Ligue_1.csv')\n",
    "df_r = pd.read_csv('Data/us/RPFL.csv')"
   ]
  },
  {
   "cell_type": "code",
   "execution_count": 4,
   "metadata": {},
   "outputs": [
    {
     "data": {
      "text/plain": [
       "2776379"
      ]
     },
     "execution_count": 4,
     "metadata": {},
     "output_type": "execute_result"
    }
   ],
   "source": [
    "len(df_b) + len(df_e) + len(df_l) + len(df_s) + len(df_1) + len(df_r)"
   ]
  },
  {
   "cell_type": "code",
   "execution_count": null,
   "metadata": {},
   "outputs": [],
   "source": [
    "# concatenate all the dataframes\n",
    "df = pd.concat([df_b, df_e, df_l, df_s, df_1, df_r])\n",
    "df"
   ]
  },
  {
   "cell_type": "code",
   "execution_count": 5,
   "metadata": {},
   "outputs": [],
   "source": [
    "df = pd.read_csv('Data/understat.csv')"
   ]
  },
  {
   "cell_type": "code",
   "execution_count": 9,
   "metadata": {},
   "outputs": [
    {
     "data": {
      "text/html": [
       "<div>\n",
       "<style scoped>\n",
       "    .dataframe tbody tr th:only-of-type {\n",
       "        vertical-align: middle;\n",
       "    }\n",
       "\n",
       "    .dataframe tbody tr th {\n",
       "        vertical-align: top;\n",
       "    }\n",
       "\n",
       "    .dataframe thead th {\n",
       "        text-align: right;\n",
       "    }\n",
       "</style>\n",
       "<table border=\"1\" class=\"dataframe\">\n",
       "  <thead>\n",
       "    <tr style=\"text-align: right;\">\n",
       "      <th></th>\n",
       "      <th>id</th>\n",
       "      <th>player_id</th>\n",
       "      <th>match_id</th>\n",
       "      <th>season</th>\n",
       "      <th>X</th>\n",
       "      <th>Y</th>\n",
       "      <th>xG</th>\n",
       "      <th>shotType</th>\n",
       "      <th>situation</th>\n",
       "      <th>lastAction</th>\n",
       "      <th>result</th>\n",
       "    </tr>\n",
       "  </thead>\n",
       "  <tbody>\n",
       "    <tr>\n",
       "      <th>0</th>\n",
       "      <td>14552</td>\n",
       "      <td>619</td>\n",
       "      <td>4757</td>\n",
       "      <td>2014</td>\n",
       "      <td>0.926</td>\n",
       "      <td>0.681</td>\n",
       "      <td>0.079155</td>\n",
       "      <td>LeftFoot</td>\n",
       "      <td>OpenPlay</td>\n",
       "      <td>Pass</td>\n",
       "      <td>SavedShot</td>\n",
       "    </tr>\n",
       "    <tr>\n",
       "      <th>1</th>\n",
       "      <td>14553</td>\n",
       "      <td>619</td>\n",
       "      <td>4757</td>\n",
       "      <td>2014</td>\n",
       "      <td>0.953</td>\n",
       "      <td>0.655</td>\n",
       "      <td>0.299156</td>\n",
       "      <td>RightFoot</td>\n",
       "      <td>OpenPlay</td>\n",
       "      <td>Rebound</td>\n",
       "      <td>Goal</td>\n",
       "    </tr>\n",
       "    <tr>\n",
       "      <th>2</th>\n",
       "      <td>14792</td>\n",
       "      <td>619</td>\n",
       "      <td>4768</td>\n",
       "      <td>2014</td>\n",
       "      <td>0.899</td>\n",
       "      <td>0.324</td>\n",
       "      <td>0.359586</td>\n",
       "      <td>RightFoot</td>\n",
       "      <td>OpenPlay</td>\n",
       "      <td>Throughball</td>\n",
       "      <td>Goal</td>\n",
       "    </tr>\n",
       "    <tr>\n",
       "      <th>3</th>\n",
       "      <td>14797</td>\n",
       "      <td>619</td>\n",
       "      <td>4768</td>\n",
       "      <td>2014</td>\n",
       "      <td>0.976</td>\n",
       "      <td>0.292</td>\n",
       "      <td>0.064260</td>\n",
       "      <td>RightFoot</td>\n",
       "      <td>OpenPlay</td>\n",
       "      <td>Pass</td>\n",
       "      <td>MissedShots</td>\n",
       "    </tr>\n",
       "    <tr>\n",
       "      <th>4</th>\n",
       "      <td>14996</td>\n",
       "      <td>619</td>\n",
       "      <td>4770</td>\n",
       "      <td>2014</td>\n",
       "      <td>0.860</td>\n",
       "      <td>0.649</td>\n",
       "      <td>0.043449</td>\n",
       "      <td>RightFoot</td>\n",
       "      <td>OpenPlay</td>\n",
       "      <td>Pass</td>\n",
       "      <td>BlockedShot</td>\n",
       "    </tr>\n",
       "    <tr>\n",
       "      <th>...</th>\n",
       "      <td>...</td>\n",
       "      <td>...</td>\n",
       "      <td>...</td>\n",
       "      <td>...</td>\n",
       "      <td>...</td>\n",
       "      <td>...</td>\n",
       "      <td>...</td>\n",
       "      <td>...</td>\n",
       "      <td>...</td>\n",
       "      <td>...</td>\n",
       "      <td>...</td>\n",
       "    </tr>\n",
       "    <tr>\n",
       "      <th>485252</th>\n",
       "      <td>602568</td>\n",
       "      <td>13033</td>\n",
       "      <td>28147</td>\n",
       "      <td>2024</td>\n",
       "      <td>0.733</td>\n",
       "      <td>0.763</td>\n",
       "      <td>0.012760</td>\n",
       "      <td>LeftFoot</td>\n",
       "      <td>OpenPlay</td>\n",
       "      <td>Pass</td>\n",
       "      <td>MissedShots</td>\n",
       "    </tr>\n",
       "    <tr>\n",
       "      <th>485253</th>\n",
       "      <td>593305</td>\n",
       "      <td>13069</td>\n",
       "      <td>28084</td>\n",
       "      <td>2024</td>\n",
       "      <td>0.713</td>\n",
       "      <td>0.558</td>\n",
       "      <td>0.014173</td>\n",
       "      <td>RightFoot</td>\n",
       "      <td>OpenPlay</td>\n",
       "      <td>Pass</td>\n",
       "      <td>BlockedShot</td>\n",
       "    </tr>\n",
       "    <tr>\n",
       "      <th>485254</th>\n",
       "      <td>593306</td>\n",
       "      <td>13069</td>\n",
       "      <td>28084</td>\n",
       "      <td>2024</td>\n",
       "      <td>0.934</td>\n",
       "      <td>0.466</td>\n",
       "      <td>0.106809</td>\n",
       "      <td>RightFoot</td>\n",
       "      <td>FromCorner</td>\n",
       "      <td>BallTouch</td>\n",
       "      <td>BlockedShot</td>\n",
       "    </tr>\n",
       "    <tr>\n",
       "      <th>485255</th>\n",
       "      <td>601107</td>\n",
       "      <td>13069</td>\n",
       "      <td>28146</td>\n",
       "      <td>2024</td>\n",
       "      <td>0.745</td>\n",
       "      <td>0.646</td>\n",
       "      <td>0.014649</td>\n",
       "      <td>RightFoot</td>\n",
       "      <td>OpenPlay</td>\n",
       "      <td>Pass</td>\n",
       "      <td>BlockedShot</td>\n",
       "    </tr>\n",
       "    <tr>\n",
       "      <th>485256</th>\n",
       "      <td>597660</td>\n",
       "      <td>13126</td>\n",
       "      <td>28113</td>\n",
       "      <td>2024</td>\n",
       "      <td>0.882</td>\n",
       "      <td>0.386</td>\n",
       "      <td>0.082147</td>\n",
       "      <td>RightFoot</td>\n",
       "      <td>OpenPlay</td>\n",
       "      <td>Pass</td>\n",
       "      <td>BlockedShot</td>\n",
       "    </tr>\n",
       "  </tbody>\n",
       "</table>\n",
       "<p>485257 rows × 11 columns</p>\n",
       "</div>"
      ],
      "text/plain": [
       "            id  player_id  match_id  season      X      Y        xG  \\\n",
       "0        14552        619      4757    2014  0.926  0.681  0.079155   \n",
       "1        14553        619      4757    2014  0.953  0.655  0.299156   \n",
       "2        14792        619      4768    2014  0.899  0.324  0.359586   \n",
       "3        14797        619      4768    2014  0.976  0.292  0.064260   \n",
       "4        14996        619      4770    2014  0.860  0.649  0.043449   \n",
       "...        ...        ...       ...     ...    ...    ...       ...   \n",
       "485252  602568      13033     28147    2024  0.733  0.763  0.012760   \n",
       "485253  593305      13069     28084    2024  0.713  0.558  0.014173   \n",
       "485254  593306      13069     28084    2024  0.934  0.466  0.106809   \n",
       "485255  601107      13069     28146    2024  0.745  0.646  0.014649   \n",
       "485256  597660      13126     28113    2024  0.882  0.386  0.082147   \n",
       "\n",
       "         shotType   situation   lastAction       result  \n",
       "0        LeftFoot    OpenPlay         Pass    SavedShot  \n",
       "1       RightFoot    OpenPlay      Rebound         Goal  \n",
       "2       RightFoot    OpenPlay  Throughball         Goal  \n",
       "3       RightFoot    OpenPlay         Pass  MissedShots  \n",
       "4       RightFoot    OpenPlay         Pass  BlockedShot  \n",
       "...           ...         ...          ...          ...  \n",
       "485252   LeftFoot    OpenPlay         Pass  MissedShots  \n",
       "485253  RightFoot    OpenPlay         Pass  BlockedShot  \n",
       "485254  RightFoot  FromCorner    BallTouch  BlockedShot  \n",
       "485255  RightFoot    OpenPlay         Pass  BlockedShot  \n",
       "485256  RightFoot    OpenPlay         Pass  BlockedShot  \n",
       "\n",
       "[485257 rows x 11 columns]"
      ]
     },
     "execution_count": 9,
     "metadata": {},
     "output_type": "execute_result"
    }
   ],
   "source": [
    "df[['id','player_id','match_id','season','X','Y','xG','shotType','situation','lastAction','result']]"
   ]
  },
  {
   "cell_type": "code",
   "execution_count": 7,
   "metadata": {},
   "outputs": [
    {
     "data": {
      "text/plain": [
       "situation\n",
       "DirectFreekick     20069\n",
       "FromCorner         73029\n",
       "OpenPlay          354928\n",
       "Penalty             6118\n",
       "SetPiece           31113\n",
       "dtype: int64"
      ]
     },
     "execution_count": 7,
     "metadata": {},
     "output_type": "execute_result"
    }
   ],
   "source": [
    "df.groupby('situation').size()"
   ]
  },
  {
   "cell_type": "code",
   "execution_count": 8,
   "metadata": {},
   "outputs": [
    {
     "data": {
      "text/plain": [
       "shotType\n",
       "Head              82900\n",
       "LeftFoot         153661\n",
       "OtherBodyPart      1999\n",
       "RightFoot        246697\n",
       "dtype: int64"
      ]
     },
     "execution_count": 8,
     "metadata": {},
     "output_type": "execute_result"
    }
   ],
   "source": [
    "df.groupby('shotType').size()"
   ]
  },
  {
   "cell_type": "code",
   "execution_count": 11,
   "metadata": {},
   "outputs": [
    {
     "data": {
      "text/plain": [
       "lastAction\n",
       "Aerial              36825\n",
       "BallRecovery        11539\n",
       "BallTouch            8778\n",
       "BlockedPass           636\n",
       "Card                  124\n",
       "Challenge             216\n",
       "ChanceMissed            3\n",
       "Chipped             24301\n",
       "Claim                   1\n",
       "Clearance             196\n",
       "CornerAwarded         832\n",
       "Cross               68426\n",
       "CrossNotClaimed         2\n",
       "Dispossessed         2621\n",
       "End                   340\n",
       "Error                  14\n",
       "FormationChange        19\n",
       "Foul                  891\n",
       "Goal                  331\n",
       "GoodSkill              82\n",
       "HeadPass            11449\n",
       "Interception          510\n",
       "KeeperPickup           27\n",
       "KeeperSweeper           4\n",
       "LayOff               3898\n",
       "OffsidePass           132\n",
       "OffsideProvoked        26\n",
       "Pass               172857\n",
       "PenaltyFaced            3\n",
       "Punch                   7\n",
       "Rebound             21393\n",
       "Save                   97\n",
       "ShieldBallOpp           6\n",
       "Smother                 1\n",
       "Standard            26187\n",
       "Start                  16\n",
       "SubstitutionOff         1\n",
       "SubstitutionOn         71\n",
       "Tackle               1109\n",
       "TakeOn              24579\n",
       "Throughball          9740\n",
       "dtype: int64"
      ]
     },
     "execution_count": 11,
     "metadata": {},
     "output_type": "execute_result"
    }
   ],
   "source": [
    "df.groupby('lastAction').size()"
   ]
  }
 ],
 "metadata": {
  "kernelspec": {
   "display_name": "myenv",
   "language": "python",
   "name": "python3"
  },
  "language_info": {
   "codemirror_mode": {
    "name": "ipython",
    "version": 3
   },
   "file_extension": ".py",
   "mimetype": "text/x-python",
   "name": "python",
   "nbconvert_exporter": "python",
   "pygments_lexer": "ipython3",
   "version": "3.12.3"
  }
 },
 "nbformat": 4,
 "nbformat_minor": 2
}
