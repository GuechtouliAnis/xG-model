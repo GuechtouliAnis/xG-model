{
 "cells": [
  {
   "cell_type": "code",
   "execution_count": 1,
   "metadata": {},
   "outputs": [],
   "source": [
    "from pyspark.sql import SparkSession\n",
    "import numpy as np"
   ]
  },
  {
   "cell_type": "code",
   "execution_count": 2,
   "metadata": {},
   "outputs": [
    {
     "name": "stderr",
     "output_type": "stream",
     "text": [
      "your 131072x1 screen size is bogus. expect trouble\n",
      "Setting default log level to \"WARN\".\n",
      "To adjust logging level use sc.setLogLevel(newLevel). For SparkR, use setLogLevel(newLevel).\n",
      "24/12/23 22:45:58 WARN NativeCodeLoader: Unable to load native-hadoop library for your platform... using builtin-java classes where applicable\n"
     ]
    }
   ],
   "source": [
    "spark = SparkSession.builder.appName(\"frames\").getOrCreate()"
   ]
  },
  {
   "cell_type": "code",
   "execution_count": 3,
   "metadata": {},
   "outputs": [
    {
     "name": "stderr",
     "output_type": "stream",
     "text": [
      "                                                                                \r"
     ]
    }
   ],
   "source": [
    "events = spark.read.csv('Data/events.csv', header=True, inferSchema=True,sep=';')"
   ]
  },
  {
   "cell_type": "code",
   "execution_count": 4,
   "metadata": {},
   "outputs": [],
   "source": [
    "import pp_events as pp"
   ]
  },
  {
   "cell_type": "code",
   "execution_count": 5,
   "metadata": {},
   "outputs": [],
   "source": [
    "events_shot = pp.preprocessing(events)"
   ]
  },
  {
   "cell_type": "code",
   "execution_count": 6,
   "metadata": {},
   "outputs": [
    {
     "data": {
      "text/plain": [
       "['id',\n",
       " 'player_id',\n",
       " 'shot_location_x',\n",
       " 'shot_location_y',\n",
       " 'distance_to_goal',\n",
       " 'shot_angle',\n",
       " 'preferred_foot_shot',\n",
       " 'under_pressure',\n",
       " 'shot_aerial_won',\n",
       " 'shot_first_time',\n",
       " 'shot_one_on_one',\n",
       " 'shot_open_goal',\n",
       " 'shot_follows_dribble',\n",
       " 'shot_statsbomb_xg',\n",
       " 'shot_outcome',\n",
       " 'goal']"
      ]
     },
     "execution_count": 6,
     "metadata": {},
     "output_type": "execute_result"
    }
   ],
   "source": [
    "events_shot.columns"
   ]
  },
  {
   "cell_type": "code",
   "execution_count": 7,
   "metadata": {},
   "outputs": [
    {
     "name": "stderr",
     "output_type": "stream",
     "text": [
      "                                                                                \r"
     ]
    }
   ],
   "source": [
    "df = pp.shot_frame_to_df(events,spark)"
   ]
  },
  {
   "cell_type": "code",
   "execution_count": 8,
   "metadata": {},
   "outputs": [
    {
     "data": {
      "text/plain": [
       "Index(['Shot_id', 'x', 'y', 'position', 'teammate'], dtype='object')"
      ]
     },
     "execution_count": 8,
     "metadata": {},
     "output_type": "execute_result"
    }
   ],
   "source": [
    "df.columns"
   ]
  },
  {
   "cell_type": "code",
   "execution_count": 9,
   "metadata": {},
   "outputs": [
    {
     "name": "stderr",
     "output_type": "stream",
     "text": [
      "/tmp/ipykernel_22123/3126286815.py:7: DeprecationWarning: DataFrameGroupBy.apply operated on the grouping columns. This behavior is deprecated, and in a future version of pandas the grouping columns will be excluded from the operation. Either pass `include_groups=False` to exclude the groupings or explicitly select the grouping columns after groupby to silence this warning.\n",
      "  .apply(lambda group: group[['x', 'y']].values.tolist())\n"
     ]
    },
    {
     "data": {
      "text/html": [
       "<div>\n",
       "<style scoped>\n",
       "    .dataframe tbody tr th:only-of-type {\n",
       "        vertical-align: middle;\n",
       "    }\n",
       "\n",
       "    .dataframe tbody tr th {\n",
       "        vertical-align: top;\n",
       "    }\n",
       "\n",
       "    .dataframe thead th {\n",
       "        text-align: right;\n",
       "    }\n",
       "</style>\n",
       "<table border=\"1\" class=\"dataframe\">\n",
       "  <thead>\n",
       "    <tr style=\"text-align: right;\">\n",
       "      <th></th>\n",
       "      <th>Shot_id</th>\n",
       "      <th>coordinates</th>\n",
       "    </tr>\n",
       "  </thead>\n",
       "  <tbody>\n",
       "    <tr>\n",
       "      <th>0</th>\n",
       "      <td>00018844-2ac3-441c-b751-8ed47ad26daf</td>\n",
       "      <td>[[107.4, 43.0], [101.2, 44.9], [103.6, 39.5], ...</td>\n",
       "    </tr>\n",
       "    <tr>\n",
       "      <th>1</th>\n",
       "      <td>00019fe2-3293-4936-9af6-ee6809f64abf</td>\n",
       "      <td>[[94.9, 53.1], [117.6, 39.7], [95.0, 48.3], [9...</td>\n",
       "    </tr>\n",
       "    <tr>\n",
       "      <th>2</th>\n",
       "      <td>0002e561-40cf-401a-a298-61f1cce6a57c</td>\n",
       "      <td>[[103.8, 36.3], [110.1, 33.7], [103.3, 38.2], ...</td>\n",
       "    </tr>\n",
       "    <tr>\n",
       "      <th>3</th>\n",
       "      <td>0003898b-7b6e-4165-ad8a-d9f64e6c8213</td>\n",
       "      <td>[[118.5, 25.4], [120.0, 23.3], [109.7, 32.5], ...</td>\n",
       "    </tr>\n",
       "    <tr>\n",
       "      <th>4</th>\n",
       "      <td>0003d15d-08d9-4b69-87c7-bd835c75f9c0</td>\n",
       "      <td>[[106.4, 31.2], [107.2, 41.1], [116.3, 37.8], ...</td>\n",
       "    </tr>\n",
       "    <tr>\n",
       "      <th>...</th>\n",
       "      <td>...</td>\n",
       "      <td>...</td>\n",
       "    </tr>\n",
       "    <tr>\n",
       "      <th>60665</th>\n",
       "      <td>fffbcf63-e773-4f52-947c-c90b7db5d4df</td>\n",
       "      <td>[[101.7, 58.5], [80.8, 16.7], [100.1, 7.9], [1...</td>\n",
       "    </tr>\n",
       "    <tr>\n",
       "      <th>60666</th>\n",
       "      <td>fffbda66-f7f4-4552-86be-d02dbb05c8d4</td>\n",
       "      <td>[[93.2, 56.0], [118.3, 44.2], [113.3, 48.8], [...</td>\n",
       "    </tr>\n",
       "    <tr>\n",
       "      <th>60667</th>\n",
       "      <td>fffc3716-8b14-4231-8d05-71f902d57dc4</td>\n",
       "      <td>[[98.2, 56.7], [99.5, 39.7], [86.0, 19.8], [93...</td>\n",
       "    </tr>\n",
       "    <tr>\n",
       "      <th>60668</th>\n",
       "      <td>fffd40df-4fd8-4f18-a97b-98db237d949f</td>\n",
       "      <td>[[98.1, 59.6], [105.9, 41.9], [104.2, 35.4], [...</td>\n",
       "    </tr>\n",
       "    <tr>\n",
       "      <th>60669</th>\n",
       "      <td>fffd9039-256b-4a7e-895d-8c071f2ca0ed</td>\n",
       "      <td>[[109.4, 40.6], [102.2, 53.9], [102.5, 52.8], ...</td>\n",
       "    </tr>\n",
       "  </tbody>\n",
       "</table>\n",
       "<p>60670 rows × 2 columns</p>\n",
       "</div>"
      ],
      "text/plain": [
       "                                    Shot_id  \\\n",
       "0      00018844-2ac3-441c-b751-8ed47ad26daf   \n",
       "1      00019fe2-3293-4936-9af6-ee6809f64abf   \n",
       "2      0002e561-40cf-401a-a298-61f1cce6a57c   \n",
       "3      0003898b-7b6e-4165-ad8a-d9f64e6c8213   \n",
       "4      0003d15d-08d9-4b69-87c7-bd835c75f9c0   \n",
       "...                                     ...   \n",
       "60665  fffbcf63-e773-4f52-947c-c90b7db5d4df   \n",
       "60666  fffbda66-f7f4-4552-86be-d02dbb05c8d4   \n",
       "60667  fffc3716-8b14-4231-8d05-71f902d57dc4   \n",
       "60668  fffd40df-4fd8-4f18-a97b-98db237d949f   \n",
       "60669  fffd9039-256b-4a7e-895d-8c071f2ca0ed   \n",
       "\n",
       "                                             coordinates  \n",
       "0      [[107.4, 43.0], [101.2, 44.9], [103.6, 39.5], ...  \n",
       "1      [[94.9, 53.1], [117.6, 39.7], [95.0, 48.3], [9...  \n",
       "2      [[103.8, 36.3], [110.1, 33.7], [103.3, 38.2], ...  \n",
       "3      [[118.5, 25.4], [120.0, 23.3], [109.7, 32.5], ...  \n",
       "4      [[106.4, 31.2], [107.2, 41.1], [116.3, 37.8], ...  \n",
       "...                                                  ...  \n",
       "60665  [[101.7, 58.5], [80.8, 16.7], [100.1, 7.9], [1...  \n",
       "60666  [[93.2, 56.0], [118.3, 44.2], [113.3, 48.8], [...  \n",
       "60667  [[98.2, 56.7], [99.5, 39.7], [86.0, 19.8], [93...  \n",
       "60668  [[98.1, 59.6], [105.9, 41.9], [104.2, 35.4], [...  \n",
       "60669  [[109.4, 40.6], [102.2, 53.9], [102.5, 52.8], ...  \n",
       "\n",
       "[60670 rows x 2 columns]"
      ]
     },
     "execution_count": 9,
     "metadata": {},
     "output_type": "execute_result"
    }
   ],
   "source": [
    "import pandas as pd\n",
    "\n",
    "# Assuming your DataFrame is called `df`\n",
    "# Group by `Shot_id` and aggregate the x and y values as pairs\n",
    "result = (\n",
    "    df.groupby('Shot_id')\n",
    "    .apply(lambda group: group[['x', 'y']].values.tolist())\n",
    "    .reset_index(name='coordinates'))\n",
    "\n",
    "result"
   ]
  },
  {
   "cell_type": "code",
   "execution_count": 10,
   "metadata": {},
   "outputs": [],
   "source": [
    "frames = spark.createDataFrame(result)"
   ]
  },
  {
   "cell_type": "code",
   "execution_count": 11,
   "metadata": {},
   "outputs": [],
   "source": [
    "# join events_shot with frames\n",
    "frames = frames.join(events_shot.select('id','shot_location_x','shot_location_y'),frames.Shot_id == events_shot.id).drop('id')"
   ]
  },
  {
   "cell_type": "code",
   "execution_count": 12,
   "metadata": {},
   "outputs": [
    {
     "name": "stderr",
     "output_type": "stream",
     "text": [
      "24/12/23 22:46:58 WARN TaskSetManager: Stage 3 contains a task of very large size (1681 KiB). The maximum recommended task size is 1000 KiB.\n",
      "[Stage 4:==================================================>      (25 + 3) / 28]\r"
     ]
    },
    {
     "name": "stdout",
     "output_type": "stream",
     "text": [
      "+--------------------+--------------------+---------------+---------------+\n",
      "|             Shot_id|         coordinates|shot_location_x|shot_location_y|\n",
      "+--------------------+--------------------+---------------+---------------+\n",
      "|00d83f31-e271-4a1...|[[96.6, 30.5], [1...|          114.0|           40.9|\n",
      "|03370f68-42e1-4b7...|[[100.7, 39.8], [...|           90.1|           42.2|\n",
      "|047d84cd-d7a4-42c...|[[102.8, 45.7], [...|           95.8|           33.1|\n",
      "|04a2e3f4-76d7-473...|[[114.2, 40.3], [...|          113.5|           42.1|\n",
      "|0578985c-8d29-45c...|[[78.4, 20.8], [1...|          100.5|           48.1|\n",
      "|0609f8a7-afb0-4ea...|[[113.2, 33.1], [...|          110.9|           46.0|\n",
      "|067e382d-f2eb-4fe...|[[96.3, 42.1], [9...|           96.0|           43.9|\n",
      "|071e138d-34b1-44b...|[[103.0, 16.4], [...|          114.1|           41.6|\n",
      "|0751ce86-9d8f-48c...|[[110.3, 38.9], [...|          112.1|           48.0|\n",
      "|07f9d02a-9add-427...|[[103.5, 62.0], [...|           96.0|           45.7|\n",
      "|086a8d94-d80b-4f5...|[[111.8, 32.2], [...|          110.6|           45.4|\n",
      "|0b56a148-1426-4ec...|[[110.4, 42.5], [...|          111.7|           42.2|\n",
      "|0b980b7d-484c-43b...|[[105.5, 61.5], [...|           98.7|           51.3|\n",
      "|0c7eb3ca-b2ef-4a5...|[[98.7, 38.7], [1...|          109.0|           32.7|\n",
      "|0cb26786-927c-49d...|[[103.3, 35.4], [...|          113.3|           44.3|\n",
      "|0e4b6104-adff-4fb...|[[95.6, 41.6], [8...|          103.9|           61.6|\n",
      "|0f0c6a0b-d45e-49a...|[[116.0, 19.1], [...|          113.6|           42.4|\n",
      "|0ffd8705-a40e-406...|[[102.9, 32.8], [...|          108.5|           25.8|\n",
      "|1088c144-e602-48d...|[[111.0, 41.8], [...|          101.9|           39.2|\n",
      "|118026b9-efa7-4b7...|[[105.8, 41.8], [...|          102.7|           46.2|\n",
      "+--------------------+--------------------+---------------+---------------+\n",
      "only showing top 20 rows\n",
      "\n"
     ]
    },
    {
     "name": "stderr",
     "output_type": "stream",
     "text": [
      "                                                                                \r"
     ]
    }
   ],
   "source": [
    "frames.show()"
   ]
  },
  {
   "cell_type": "code",
   "execution_count": 13,
   "metadata": {},
   "outputs": [
    {
     "name": "stderr",
     "output_type": "stream",
     "text": [
      "24/12/23 22:47:10 WARN TaskSetManager: Stage 9 contains a task of very large size (1681 KiB). The maximum recommended task size is 1000 KiB.\n",
      "                                                                                \r"
     ]
    },
    {
     "name": "stdout",
     "output_type": "stream",
     "text": [
      "+--------------------+--------------------+---------------+---------------+------------------+\n",
      "|             Shot_id|         coordinates|shot_location_x|shot_location_y|points_inside_area|\n",
      "+--------------------+--------------------+---------------+---------------+------------------+\n",
      "|00d83f31-e271-4a1...|[[96.6, 30.5], [1...|          114.0|           40.9|                 1|\n",
      "|03370f68-42e1-4b7...|[[100.7, 39.8], [...|           90.1|           42.2|                 4|\n",
      "|047d84cd-d7a4-42c...|[[102.8, 45.7], [...|           95.8|           33.1|                 2|\n",
      "|04a2e3f4-76d7-473...|[[114.2, 40.3], [...|          113.5|           42.1|                 1|\n",
      "|0578985c-8d29-45c...|[[78.4, 20.8], [1...|          100.5|           48.1|                 2|\n",
      "|0609f8a7-afb0-4ea...|[[113.2, 33.1], [...|          110.9|           46.0|                 2|\n",
      "|067e382d-f2eb-4fe...|[[96.3, 42.1], [9...|           96.0|           43.9|                 1|\n",
      "|071e138d-34b1-44b...|[[103.0, 16.4], [...|          114.1|           41.6|                 1|\n",
      "|0751ce86-9d8f-48c...|[[110.3, 38.9], [...|          112.1|           48.0|                 3|\n",
      "|07f9d02a-9add-427...|[[103.5, 62.0], [...|           96.0|           45.7|                 3|\n",
      "|086a8d94-d80b-4f5...|[[111.8, 32.2], [...|          110.6|           45.4|                 2|\n",
      "|0b56a148-1426-4ec...|[[110.4, 42.5], [...|          111.7|           42.2|                 1|\n",
      "|0b980b7d-484c-43b...|[[105.5, 61.5], [...|           98.7|           51.3|                 2|\n",
      "|0c7eb3ca-b2ef-4a5...|[[98.7, 38.7], [1...|          109.0|           32.7|                 1|\n",
      "|0cb26786-927c-49d...|[[103.3, 35.4], [...|          113.3|           44.3|                 1|\n",
      "|0e4b6104-adff-4fb...|[[95.6, 41.6], [8...|          103.9|           61.6|                 1|\n",
      "|0f0c6a0b-d45e-49a...|[[116.0, 19.1], [...|          113.6|           42.4|                 0|\n",
      "|0ffd8705-a40e-406...|[[102.9, 32.8], [...|          108.5|           25.8|                 1|\n",
      "|1088c144-e602-48d...|[[111.0, 41.8], [...|          101.9|           39.2|                 3|\n",
      "|118026b9-efa7-4b7...|[[105.8, 41.8], [...|          102.7|           46.2|                 1|\n",
      "+--------------------+--------------------+---------------+---------------+------------------+\n",
      "only showing top 20 rows\n",
      "\n"
     ]
    }
   ],
   "source": [
    "from pyspark.sql import functions as F\n",
    "from pyspark.sql.types import IntegerType  # Correct import for IntegerType\n",
    "\n",
    "goal_X = 120\n",
    "goal_Y1, goal_Y2 = 36, 44\n",
    "\n",
    "def calculate_area(x1, y1, x2, y2, x3, y3):\n",
    "    return abs(x1 * (y2 - y3) + x2 * (y3 - y1) + x3 * (y1 - y2)) / 2.0\n",
    "\n",
    "def is_point_inside_triangle(player_x,player_y,shot_x,shot_y):\n",
    "    # Total area of the triangle ABC\n",
    "    area_abc = calculate_area(shot_x,shot_y,goal_X,goal_Y1,goal_X,goal_Y2)\n",
    "\n",
    "    # Area of sub-triangles ABP, BCP, CAP\n",
    "    area_abp = calculate_area(shot_x,shot_y,goal_X,goal_Y1,player_x,player_y)\n",
    "    area_bcp = calculate_area(shot_x,shot_y,goal_X,goal_Y2,player_x,player_y)\n",
    "    area_cap = calculate_area(goal_X,goal_Y2,goal_X,goal_Y1,player_x,player_y)\n",
    "\n",
    "    return np.isclose(area_abc, (area_abp + area_bcp + area_cap))\n",
    "\n",
    "# Define a PySpark UDF to check if a point is inside the triangle\n",
    "def check_point_inside(coordinates, shot_x, shot_y):\n",
    "    count = 0\n",
    "    for coord in coordinates:\n",
    "        player_x, player_y = coord\n",
    "        if is_point_inside_triangle(player_x, player_y, shot_x, shot_y):\n",
    "            count += 1\n",
    "    return count\n",
    "\n",
    "# Register the UDF\n",
    "check_point_udf = F.udf(check_point_inside, returnType=IntegerType())  # Use IntegerType from pyspark.sql.types\n",
    "\n",
    "# Add a column with the count of points inside the area for each row in the DataFrame\n",
    "frames = frames.withColumn(\"points_inside_area\", check_point_udf(F.col(\"coordinates\"), F.col(\"shot_location_x\"), F.col(\"shot_location_y\")))\n",
    "\n",
    "# Show the resulting DataFrame\n",
    "frames.show()"
   ]
  },
  {
   "cell_type": "code",
   "execution_count": 15,
   "metadata": {},
   "outputs": [
    {
     "name": "stderr",
     "output_type": "stream",
     "text": [
      "24/12/23 22:48:03 WARN TaskSetManager: Stage 21 contains a task of very large size (1681 KiB). The maximum recommended task size is 1000 KiB.\n",
      "[Stage 26:>                                                       (0 + 12) / 12]\r"
     ]
    },
    {
     "name": "stdout",
     "output_type": "stream",
     "text": [
      "+------------------------------------+---------------+---------------+------------------+\n",
      "|Shot_id                             |shot_location_x|shot_location_y|points_inside_area|\n",
      "+------------------------------------+---------------+---------------+------------------+\n",
      "|cbac1a62-8213-4f63-a123-f5ff268d4905|90.4           |56.1           |13                |\n",
      "|aa569f84-10b2-4fa3-9e13-8efed921fe79|98.6           |42.3           |13                |\n",
      "|02677ab3-4102-4223-9845-b0e9e1b29d5d|98.6           |41.0           |12                |\n",
      "|df6b62f2-83a9-4891-9e60-a0640d0ec1e3|94.1           |31.9           |11                |\n",
      "|2043dfb1-d2c9-4789-907f-028313c484b6|103.5          |39.0           |11                |\n",
      "|c89fc6af-b522-483d-b046-3f89810c6be5|100.7          |40.4           |11                |\n",
      "|034b3443-2699-427a-b4d7-df552855c1fb|110.4          |48.7           |11                |\n",
      "|5ec1d57c-bf9f-4433-9666-b290929a88db|104.0          |36.0           |10                |\n",
      "|6d3f823d-ed99-4920-86fc-58a4c894e29f|107.9          |42.2           |10                |\n",
      "|95300e09-42d4-4a35-bc96-d04d652d929b|92.1           |26.8           |10                |\n",
      "|7eb2e09d-740d-4aa2-b8e8-040c8007420a|98.5           |41.6           |10                |\n",
      "|9fb6f750-83ec-48b0-89c1-9506568c21ef|101.2          |35.1           |10                |\n",
      "|7e477923-cb7b-44d8-86ef-584a9f98f01a|101.3          |24.4           |10                |\n",
      "|837de272-d77d-4741-8ac0-1995ac26dc37|109.1          |16.4           |10                |\n",
      "|29688070-f233-4c56-862a-0f643dfdbd9f|102.0          |39.2           |10                |\n",
      "|8f09a027-6216-4877-b3ff-907ca023cf64|100.1          |40.5           |10                |\n",
      "|ff14a432-f635-49e1-b34b-8a990085f46f|97.7           |38.2           |10                |\n",
      "|1d72f439-2ca0-4593-9138-8603ea42692f|97.7           |51.3           |10                |\n",
      "|0c8dc490-eca7-40e1-8cc3-b9a139f3e286|98.2           |34.3           |10                |\n",
      "|c9408e5c-9524-4cd1-bc55-25a57e94c353|110.2          |35.1           |10                |\n",
      "+------------------------------------+---------------+---------------+------------------+\n",
      "only showing top 20 rows\n",
      "\n"
     ]
    },
    {
     "name": "stderr",
     "output_type": "stream",
     "text": [
      "                                                                                \r"
     ]
    }
   ],
   "source": [
    "frames.orderBy('points_inside_area',ascending=False).select('Shot_id','shot_location_x','shot_location_y','points_inside_area').show(truncate=False)"
   ]
  },
  {
   "cell_type": "code",
   "execution_count": 16,
   "metadata": {},
   "outputs": [],
   "source": [
    "events_shot = events_shot.join(frames.select('Shot_id','points_inside_area'),events_shot.id == frames.Shot_id).drop('Shot_id')"
   ]
  },
  {
   "cell_type": "code",
   "execution_count": 24,
   "metadata": {},
   "outputs": [
    {
     "name": "stderr",
     "output_type": "stream",
     "text": [
      "24/12/23 23:03:16 WARN TaskSetManager: Stage 61 contains a task of very large size (1681 KiB). The maximum recommended task size is 1000 KiB.\n",
      "[Stage 70:>                                                       (0 + 12) / 12]\r"
     ]
    },
    {
     "name": "stdout",
     "output_type": "stream",
     "text": [
      "+------------------------------------+---------+---------------+---------------+----------------+----------+-------------------+--------------+---------------+---------------+---------------+--------------+--------------------+-----------------+------------+----+------------------+\n",
      "|id                                  |player_id|shot_location_x|shot_location_y|distance_to_goal|shot_angle|preferred_foot_shot|under_pressure|shot_aerial_won|shot_first_time|shot_one_on_one|shot_open_goal|shot_follows_dribble|shot_statsbomb_xg|shot_outcome|goal|points_inside_area|\n",
      "+------------------------------------+---------+---------------+---------------+----------------+----------+-------------------+--------------+---------------+---------------+---------------+--------------+--------------------+-----------------+------------+----+------------------+\n",
      "|cbac1a62-8213-4f63-a123-f5ff268d4905|13126.0  |90.4           |56.1           |33.6952         |11.944677 |1                  |0             |0              |0              |0              |0             |0                   |0.00824218       |Saved       |0   |13                |\n",
      "|aa569f84-10b2-4fa3-9e13-8efed921fe79|5503.0   |98.6           |42.3           |21.5232         |20.94603  |1                  |0             |0              |0              |0              |0             |0                   |0.077162206      |Post        |0   |13                |\n",
      "|02677ab3-4102-4223-9845-b0e9e1b29d5d|5503.0   |98.6           |41.0           |21.4234         |21.131062 |1                  |0             |0              |0              |0              |0             |0                   |0.08801245       |Blocked     |0   |12                |\n",
      "|034b3443-2699-427a-b4d7-df552855c1fb|3122.0   |110.4          |48.7           |12.9557         |26.828564 |1                  |0             |0              |1              |0              |0             |0                   |0.09188719       |Blocked     |0   |11                |\n",
      "|df6b62f2-83a9-4891-9e60-a0640d0ec1e3|5503.0   |94.1           |31.9           |27.1371         |16.045763 |1                  |0             |0              |0              |0              |0             |0                   |0.05700268       |Blocked     |0   |11                |\n",
      "|c89fc6af-b522-483d-b046-3f89810c6be5|5503.0   |100.7          |40.4           |19.3041         |23.408623 |1                  |0             |0              |0              |0              |0             |0                   |0.08846703       |Blocked     |0   |11                |\n",
      "|2043dfb1-d2c9-4789-907f-028313c484b6|3514.0   |103.5          |39.0           |16.5303         |27.163246 |0                  |0             |0              |1              |0              |0             |0                   |0.06073981       |Off T       |0   |11                |\n",
      "|837de272-d77d-4741-8ac0-1995ac26dc37|6595.0   |109.1          |16.4           |25.9956         |7.5289903 |1                  |0             |0              |0              |0              |0             |0                   |0.007484328      |Saved       |0   |10                |\n",
      "|7eb2e09d-740d-4aa2-b8e8-040c8007420a|5503.0   |98.5           |41.6           |21.5595         |20.968615 |1                  |0             |0              |0              |0              |0             |0                   |0.082741         |Off T       |0   |10                |\n",
      "|95300e09-42d4-4a35-bc96-d04d652d929b|8191.0   |92.1           |26.8           |30.865          |13.403385 |1                  |0             |0              |1              |0              |0             |0                   |0.011924878      |Blocked     |0   |10                |\n",
      "|0b766590-dff1-4670-baae-b960fab33f6d|40724.0  |101.5          |44.6           |19.0633         |23.074472 |1                  |0             |0              |1              |0              |0             |0                   |0.058214318      |Blocked     |0   |10                |\n",
      "|ff14a432-f635-49e1-b34b-8a990085f46f|5110.0   |97.7           |38.2           |22.3725         |20.213293 |1                  |0             |0              |0              |0              |0             |0                   |0.07932036       |Goal        |1   |10                |\n",
      "|1d72f439-2ca0-4593-9138-8603ea42692f|5503.0   |97.7           |51.3           |24.9996         |16.327885 |1                  |0             |0              |0              |0              |0             |0                   |0.071187966      |Goal        |1   |10                |\n",
      "|c9408e5c-9524-4cd1-bc55-25a57e94c353|8215.0   |110.2          |35.1           |10.9567         |36.997425 |1                  |0             |0              |1              |0              |0             |0                   |0.22237912       |Goal        |1   |10                |\n",
      "|0c8dc490-eca7-40e1-8cc3-b9a139f3e286|5503.0   |98.2           |34.3           |22.5329         |19.527872 |1                  |0             |0              |0              |0              |0             |0                   |0.08718545       |Blocked     |0   |10                |\n",
      "|bbf434b7-18bf-4e6d-8747-449f2cde8796|5554.0   |95.0           |37.4           |25.1348         |17.993895 |0                  |0             |0              |1              |0              |0             |0                   |0.024840336      |Wayward     |0   |10                |\n",
      "|6d3f823d-ed99-4920-86fc-58a4c894e29f|3454.0   |107.9          |42.2           |12.2984         |35.591743 |1                  |0             |0              |1              |0              |0             |0                   |0.11143181       |Blocked     |0   |10                |\n",
      "|b355178e-7cde-4a85-934e-06035159e530|9723.0   |89.6           |30.0           |32.0025         |13.562433 |1                  |0             |0              |0              |0              |0             |0                   |0.023662014      |Blocked     |0   |10                |\n",
      "|5ec1d57c-bf9f-4433-9666-b290929a88db|5509.0   |104.0          |36.0           |16.4924         |26.565052 |1                  |0             |0              |1              |0              |0             |0                   |0.06737653       |Blocked     |0   |10                |\n",
      "|05619ba1-d5c6-491c-ae81-ba7ab9399623|5503.0   |98.3           |33.7           |22.596          |19.341326 |1                  |0             |0              |0              |0              |0             |0                   |0.08316459       |Blocked     |0   |10                |\n",
      "+------------------------------------+---------+---------------+---------------+----------------+----------+-------------------+--------------+---------------+---------------+---------------+--------------+--------------------+-----------------+------------+----+------------------+\n",
      "only showing top 20 rows\n",
      "\n"
     ]
    },
    {
     "name": "stderr",
     "output_type": "stream",
     "text": [
      "                                                                                \r"
     ]
    }
   ],
   "source": [
    "events_shot.orderBy('points_inside_area',ascending=False).show(truncate=False)"
   ]
  },
  {
   "cell_type": "code",
   "execution_count": null,
   "metadata": {},
   "outputs": [],
   "source": []
  }
 ],
 "metadata": {
  "kernelspec": {
   "display_name": "myenv",
   "language": "python",
   "name": "python3"
  },
  "language_info": {
   "codemirror_mode": {
    "name": "ipython",
    "version": 3
   },
   "file_extension": ".py",
   "mimetype": "text/x-python",
   "name": "python",
   "nbconvert_exporter": "python",
   "pygments_lexer": "ipython3",
   "version": "3.12.3"
  }
 },
 "nbformat": 4,
 "nbformat_minor": 2
}
