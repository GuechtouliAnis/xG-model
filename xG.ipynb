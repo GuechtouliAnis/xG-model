{
 "cells": [
  {
   "cell_type": "code",
   "execution_count": 1,
   "metadata": {},
   "outputs": [],
   "source": [
    "from pyspark.sql import SparkSession"
   ]
  },
  {
   "cell_type": "code",
   "execution_count": 2,
   "metadata": {},
   "outputs": [
    {
     "name": "stderr",
     "output_type": "stream",
     "text": [
      "your 131072x1 screen size is bogus. expect trouble\n",
      "Setting default log level to \"WARN\".\n",
      "To adjust logging level use sc.setLogLevel(newLevel). For SparkR, use setLogLevel(newLevel).\n",
      "24/12/23 11:12:44 WARN NativeCodeLoader: Unable to load native-hadoop library for your platform... using builtin-java classes where applicable\n"
     ]
    }
   ],
   "source": [
    "spark = SparkSession.builder.appName(\"trying\").getOrCreate()"
   ]
  },
  {
   "cell_type": "code",
   "execution_count": 3,
   "metadata": {},
   "outputs": [
    {
     "name": "stderr",
     "output_type": "stream",
     "text": [
      "                                                                                \r"
     ]
    }
   ],
   "source": [
    "events = spark.read.csv('Data/events.csv', header=True, inferSchema=True,sep=';')"
   ]
  },
  {
   "cell_type": "code",
   "execution_count": 7,
   "metadata": {},
   "outputs": [],
   "source": [
    "import pp_events as pp"
   ]
  },
  {
   "cell_type": "code",
   "execution_count": 8,
   "metadata": {},
   "outputs": [],
   "source": [
    "events_shot = pp.preprocessing(events)"
   ]
  },
  {
   "cell_type": "code",
   "execution_count": 9,
   "metadata": {},
   "outputs": [
    {
     "name": "stderr",
     "output_type": "stream",
     "text": [
      "                                                                                \r"
     ]
    },
    {
     "name": "stdout",
     "output_type": "stream",
     "text": [
      "+--------------------+---------------+---------------+---------+----------------+----------+-------------------+--------------+---------------+---------------+---------------+--------------+--------------------+-----------------+------------+----+\n",
      "|                  id|shot_location_x|shot_location_y|player_id|distance_to_goal|shot_angle|preferred_foot_shot|under_pressure|shot_aerial_won|shot_first_time|shot_one_on_one|shot_open_goal|shot_follows_dribble|shot_statsbomb_xg|shot_outcome|goal|\n",
      "+--------------------+---------------+---------------+---------+----------------+----------+-------------------+--------------+---------------+---------------+---------------+--------------+--------------------+-----------------+------------+----+\n",
      "|c7168289-8ba6-427...|          111.6|           34.7|  30111.0|          9.9323| 39.113426|                  0|             1|              1|              0|              0|             0|                   0|       0.05332383|       Off T|   0|\n",
      "|aa63a139-1d8c-4dd...|          115.6|           43.0|  30111.0|          5.3254| 70.651955|                  0|             1|              1|              0|              0|             0|                   0|       0.15510525|     Wayward|   0|\n",
      "|b1474d8b-c03e-4d0...|           94.3|           46.3|   9923.0|         26.4609| 16.725826|                  1|             0|              0|              0|              0|             0|                   0|      0.041628048|       Saved|   0|\n",
      "|8a18e540-326f-4b9...|          107.9|           33.1|  30111.0|         13.9291|  28.53554|                  0|             0|              0|              0|              0|             0|                   0|      0.033826087|       Off T|   0|\n",
      "|7f86d2d6-2bc3-4a1...|          107.5|           44.2|  30111.0|         13.1867|  32.34822|                  0|             0|              0|              0|              0|             0|                   0|       0.02513541|     Blocked|   0|\n",
      "|ff7f0e8d-85a2-45a...|          113.4|           38.6|  30111.0|          6.7468| 60.790848|                  0|             1|              1|              0|              0|             0|                   0|        0.1949902|       Off T|   0|\n",
      "|c94defec-ca55-46b...|          100.5|           49.1|   9923.0|         21.5188| 19.236254|                  1|             0|              0|              1|              0|             0|                   0|      0.035685007|     Blocked|   0|\n",
      "|b5f2c98d-3977-4b8...|           87.6|           30.5|   6765.0|          33.764| 12.985569|                  1|             0|              0|              0|              0|             0|                   0|      0.016834991|     Blocked|   0|\n",
      "|c232da62-d73c-42a...|          102.1|           36.2|   6765.0|         18.2989| 24.185514|                  0|             0|              0|              0|              0|             0|                   0|       0.06652527|        Goal|   1|\n",
      "|1d97705a-c416-42e...|          106.0|           40.5|   6765.0|         14.0089| 31.855133|                  0|             0|              0|              0|              0|             0|                   0|      0.033381354|       Off T|   0|\n",
      "|d0c1d3ff-46c0-4ce...|           96.6|           62.0|  41186.0|         32.1179| 10.444196|                  1|             1|              0|              0|              0|             0|                   0|      0.008626999|       Saved|   0|\n",
      "|e54c553b-cd57-4ac...|           83.3|           37.9|   6765.0|           36.76| 12.400625|                  1|             0|              0|              0|              0|             0|                   0|     0.0063212407|       Off T|   0|\n",
      "|162e7e2d-d0fb-4b3...|           99.7|           38.8|   6765.0|         20.3354| 22.221123|                  1|             0|              0|              1|              0|             0|                   0|       0.06796482|     Blocked|   0|\n",
      "|d928cc41-eaf8-499...|           92.7|           55.5|  41186.0|         31.3933| 12.694641|                  1|             0|              0|              0|              0|             0|                   0|      0.013309195|     Blocked|   0|\n",
      "|31d37a3c-feec-440...|          106.8|           57.6|  41186.0|            22.0| 12.715338|                  1|             0|              0|              0|              0|             0|                   0|      0.014936902|     Blocked|   0|\n",
      "|3797f9c4-5da2-4db...|           93.3|           50.5|  41186.0|         28.6904| 14.822852|                  1|             1|              0|              0|              0|             0|                   0|      0.023186801|       Off T|   0|\n",
      "|9fdb917e-438e-486...|          113.8|           41.6|  12493.0|          6.4031|  63.25045|                  1|             0|              0|              0|              0|             0|                   0|        0.4451365|        Goal|   1|\n",
      "|e83e3269-f256-412...|           95.3|           42.6|  12493.0|         24.8365| 18.204353|                  1|             0|              0|              0|              0|             0|                   0|       0.04481905|       Off T|   0|\n",
      "|93bdd195-7955-49c...|          105.5|           33.8| 154895.0|         15.7699|  26.49705|                  1|             0|              0|              1|              0|             0|                   0|       0.06438721|       Off T|   0|\n",
      "|c42d2458-1584-478...|           94.4|           42.5|   6983.0|         25.7218| 17.600037|                  1|             0|              0|              0|              0|             0|                   0|      0.029872663|     Blocked|   0|\n",
      "+--------------------+---------------+---------------+---------+----------------+----------+-------------------+--------------+---------------+---------------+---------------+--------------+--------------------+-----------------+------------+----+\n",
      "only showing top 20 rows\n",
      "\n"
     ]
    }
   ],
   "source": [
    "events_shot.show()"
   ]
  },
  {
   "cell_type": "code",
   "execution_count": 6,
   "metadata": {},
   "outputs": [],
   "source": [
    "columns_t = [\"shot_location_x\", \"shot_location_y\",\n",
    "             'distance_to_goal','shot_angle','preferred_foot_shot',\n",
    "             'under_pressure','shot_statsbomb_xg','goal']"
   ]
  },
  {
   "cell_type": "code",
   "execution_count": 7,
   "metadata": {},
   "outputs": [],
   "source": [
    "events_shot = events_shot.select(columns_t)"
   ]
  },
  {
   "cell_type": "code",
   "execution_count": 8,
   "metadata": {},
   "outputs": [
    {
     "name": "stderr",
     "output_type": "stream",
     "text": [
      "[Stage 3:===================================================>     (51 + 5) / 56]\r"
     ]
    },
    {
     "name": "stdout",
     "output_type": "stream",
     "text": [
      "+---------------+---------------+----------------+----------+-------------------+--------------+-----------------+-----+\n",
      "|shot_location_x|shot_location_y|distance_to_goal|shot_angle|preferred_foot_shot|under_pressure|shot_statsbomb_xg| goal|\n",
      "+---------------+---------------+----------------+----------+-------------------+--------------+-----------------+-----+\n",
      "|          106.2|           36.8|         14.1662| 30.870586|               true|          NULL|       0.15133068|false|\n",
      "|          114.8|           44.1|          6.6219|  56.19886|              false|          true|       0.14169177|false|\n",
      "|           94.8|           24.9|         29.3777| 13.387468|               true|          NULL|      0.039566465|false|\n",
      "|          111.1|           42.0|           9.122| 46.651226|              false|          NULL|       0.26291034|false|\n",
      "|           98.6|           25.2|         26.0192| 14.520617|               true|          NULL|       0.02977089|false|\n",
      "|          106.1|           32.5|         15.7943| 25.469059|              false|          NULL|       0.02531394|false|\n",
      "|           98.9|           24.9|         25.9465| 14.404465|               true|          NULL|      0.012626733|false|\n",
      "|           85.6|           34.4|         34.8528|  12.92981|               true|          NULL|      0.015171255|false|\n",
      "|           88.5|           38.1|         31.5572| 14.422748|               true|          NULL|      0.019570593|false|\n",
      "|          110.9|           25.6|         17.0344| 14.870527|               true|          NULL|       0.06569337|false|\n",
      "|          107.5|           24.9|         19.6026| 15.192171|               true|          true|      0.028598836|false|\n",
      "|          113.4|           38.7|          6.7268| 61.014557|              false|          true|       0.15686217|false|\n",
      "|          109.6|           41.5|         10.5076| 41.388515|              false|          true|      0.056397837|false|\n",
      "|          108.1|           39.3|         11.9206|  37.05121|              false|          true|      0.047531724|false|\n",
      "|          105.5|           57.6|         22.8037| 12.961155|               true|          NULL|      0.022013947|false|\n",
      "|           83.5|           48.0|         37.3664| 11.945132|               true|          NULL|     0.0064736516|false|\n",
      "|          105.6|           44.0|         14.9452| 29.054602|               true|          NULL|       0.07213958|false|\n",
      "|          107.2|           35.0|         13.7419| 30.644846|              false|          NULL|      0.040732585|false|\n",
      "|          105.5|           47.3|         16.2339| 25.108313|               true|          true|       0.07589752|false|\n",
      "|          108.3|           39.0|         11.7427| 37.520866|              false|          true|      0.049562205|false|\n",
      "+---------------+---------------+----------------+----------+-------------------+--------------+-----------------+-----+\n",
      "only showing top 20 rows\n",
      "\n"
     ]
    },
    {
     "name": "stderr",
     "output_type": "stream",
     "text": [
      "                                                                                \r"
     ]
    }
   ],
   "source": [
    "events_shot.show()"
   ]
  },
  {
   "cell_type": "code",
   "execution_count": 9,
   "metadata": {},
   "outputs": [],
   "source": [
    "# Columns to convert to int\n",
    "cols = ['preferred_foot_shot','under_pressure','goal']\n",
    "events_shot = pp.bool_to_int(events_shot,cols)"
   ]
  },
  {
   "cell_type": "code",
   "execution_count": 10,
   "metadata": {},
   "outputs": [
    {
     "name": "stderr",
     "output_type": "stream",
     "text": [
      "[Stage 9:================================================>        (48 + 8) / 56]\r"
     ]
    },
    {
     "name": "stdout",
     "output_type": "stream",
     "text": [
      "+---------------+---------------+----------------+----------+-------------------+--------------+-----------------+----+\n",
      "|shot_location_x|shot_location_y|distance_to_goal|shot_angle|preferred_foot_shot|under_pressure|shot_statsbomb_xg|goal|\n",
      "+---------------+---------------+----------------+----------+-------------------+--------------+-----------------+----+\n",
      "|          111.6|           34.7|          9.9323| 39.113426|                  0|             1|       0.05332383|   0|\n",
      "|          115.6|           43.0|          5.3254| 70.651955|                  0|             1|       0.15510525|   0|\n",
      "|           94.3|           46.3|         26.4609| 16.725826|                  1|             0|      0.041628048|   0|\n",
      "|          107.9|           33.1|         13.9291|  28.53554|                  0|             0|      0.033826087|   0|\n",
      "|          107.5|           44.2|         13.1867|  32.34822|                  0|             0|       0.02513541|   0|\n",
      "|          113.4|           38.6|          6.7468| 60.790848|                  0|             1|        0.1949902|   0|\n",
      "|          100.5|           49.1|         21.5188| 19.236254|                  1|             0|      0.035685007|   0|\n",
      "|           87.6|           30.5|          33.764| 12.985569|                  1|             0|      0.016834991|   0|\n",
      "|          102.1|           36.2|         18.2989| 24.185514|                  0|             0|       0.06652527|   1|\n",
      "|          106.0|           40.5|         14.0089| 31.855133|                  0|             0|      0.033381354|   0|\n",
      "|           96.6|           62.0|         32.1179| 10.444196|                  1|             1|      0.008626999|   0|\n",
      "|           83.3|           37.9|           36.76| 12.400625|                  1|             0|     0.0063212407|   0|\n",
      "|           99.7|           38.8|         20.3354| 22.221123|                  1|             0|       0.06796482|   0|\n",
      "|           92.7|           55.5|         31.3933| 12.694641|                  1|             0|      0.013309195|   0|\n",
      "|          106.8|           57.6|            22.0| 12.715338|                  1|             0|      0.014936902|   0|\n",
      "|           93.3|           50.5|         28.6904| 14.822852|                  1|             1|      0.023186801|   0|\n",
      "|          113.8|           41.6|          6.4031|  63.25045|                  1|             0|        0.4451365|   1|\n",
      "|           95.3|           42.6|         24.8365| 18.204353|                  1|             0|       0.04481905|   0|\n",
      "|          105.5|           33.8|         15.7699|  26.49705|                  1|             0|       0.06438721|   0|\n",
      "|           94.4|           42.5|         25.7218| 17.600037|                  1|             0|      0.029872663|   0|\n",
      "+---------------+---------------+----------------+----------+-------------------+--------------+-----------------+----+\n",
      "only showing top 20 rows\n",
      "\n"
     ]
    },
    {
     "name": "stderr",
     "output_type": "stream",
     "text": [
      "                                                                                \r"
     ]
    }
   ],
   "source": [
    "events_shot.show()"
   ]
  },
  {
   "cell_type": "code",
   "execution_count": 11,
   "metadata": {},
   "outputs": [],
   "source": [
    "# our goal is to come up with a measure of the quality of the chance to score a goal, an xG model\n",
    "# therefore we will use the goal column as a target value in the training, and the shot_statsbomb_xg as the y to evaluate the model"
   ]
  },
  {
   "cell_type": "code",
   "execution_count": 12,
   "metadata": {},
   "outputs": [],
   "source": [
    "#features = ['distance_to_goal', 'shot_angle', 'preferred_foot_shot', 'under_pressure']\n",
    "features = ['shot_location_x', 'shot_location_y','distance_to_goal', 'shot_angle', 'preferred_foot_shot', 'under_pressure']\n",
    "target = ['goal']"
   ]
  },
  {
   "cell_type": "code",
   "execution_count": 13,
   "metadata": {},
   "outputs": [],
   "source": [
    "from pyspark.ml.feature import VectorAssembler\n",
    "\n",
    "# Define the assembler\n",
    "feature_assembler = VectorAssembler(inputCols=features, outputCol=\"features_vector\")\n",
    "\n",
    "# Transform the dataset\n",
    "assembled_data = feature_assembler.transform(events_shot)"
   ]
  },
  {
   "cell_type": "code",
   "execution_count": 14,
   "metadata": {},
   "outputs": [],
   "source": [
    "train_data, test_data = assembled_data.randomSplit([0.8, 0.2], seed=42)"
   ]
  },
  {
   "cell_type": "code",
   "execution_count": 15,
   "metadata": {},
   "outputs": [],
   "source": [
    "from pyspark.ml.classification import LogisticRegression\n",
    "\n",
    "# Define the logistic regression model\n",
    "log_reg = LogisticRegression(featuresCol=\"features_vector\", labelCol=\"goal\", maxIter=10)"
   ]
  },
  {
   "cell_type": "code",
   "execution_count": 16,
   "metadata": {},
   "outputs": [],
   "source": [
    "from pyspark.ml import Pipeline\n",
    "\n",
    "# Create the pipeline\n",
    "pipeline = Pipeline(stages=[log_reg])"
   ]
  },
  {
   "cell_type": "code",
   "execution_count": 17,
   "metadata": {},
   "outputs": [
    {
     "name": "stderr",
     "output_type": "stream",
     "text": [
      "24/12/22 00:52:56 WARN InstanceBuilder: Failed to load implementation from:dev.ludovic.netlib.blas.JNIBLAS\n",
      "                                                                                \r"
     ]
    }
   ],
   "source": [
    "xg_model = pipeline.fit(train_data)"
   ]
  },
  {
   "cell_type": "code",
   "execution_count": 18,
   "metadata": {},
   "outputs": [
    {
     "name": "stderr",
     "output_type": "stream",
     "text": [
      "                                                                                \r"
     ]
    },
    {
     "name": "stdout",
     "output_type": "stream",
     "text": [
      "ROC-AUC: 0.7734948322466917\n"
     ]
    }
   ],
   "source": [
    "# Make predictions\n",
    "predictions = xg_model.transform(test_data)\n",
    "\n",
    "# Evaluate using BinaryClassificationEvaluator\n",
    "from pyspark.ml.evaluation import BinaryClassificationEvaluator\n",
    "\n",
    "evaluator = BinaryClassificationEvaluator(labelCol=\"goal\", rawPredictionCol=\"rawPrediction\")\n",
    "roc_auc = evaluator.evaluate(predictions)\n",
    "print(f\"ROC-AUC: {roc_auc}\")"
   ]
  },
  {
   "cell_type": "code",
   "execution_count": 19,
   "metadata": {},
   "outputs": [
    {
     "name": "stderr",
     "output_type": "stream",
     "text": [
      "[Stage 76:================================================>       (48 + 8) / 56]\r"
     ]
    },
    {
     "name": "stdout",
     "output_type": "stream",
     "text": [
      "+---------------+---------------+----------------+----------+-------------------+--------------+-----------------+----+------------------------------------+----------------------------------------+------------------------------------------+----------+\n",
      "|shot_location_x|shot_location_y|distance_to_goal|shot_angle|preferred_foot_shot|under_pressure|shot_statsbomb_xg|goal|features_vector                     |rawPrediction                           |probability                               |prediction|\n",
      "+---------------+---------------+----------------+----------+-------------------+--------------+-----------------+----+------------------------------------+----------------------------------------+------------------------------------------+----------+\n",
      "|40.3           |44.4           |79.8214         |5.7289352 |1                  |0             |0.005853886      |0   |[79.8214,5.728935241699219,1.0,0.0] |[9.226487592666686,-9.226487592666686]  |[0.9999016114365803,9.838856341970459E-5] |0.0       |\n",
      "|47.6           |77.3           |81.4435         |5.002433  |1                  |0             |0.01531066       |0   |[81.4435,5.002432823181152,1.0,0.0] |[9.421246270648803,-9.421246270648803]  |[0.9999190215309154,8.097846908461381E-5] |0.0       |\n",
      "|50.2           |49.9           |70.4986         |6.4309998 |1                  |0             |0.0033393882     |0   |[70.4986,6.430999755859375,1.0,0.0] |[8.18205432007998,-8.18205432007998]    |[0.9997204512628382,2.795487371618499E-4] |0.0       |\n",
      "|51.6           |51.0           |69.2789         |6.525801  |1                  |0             |0.0044208374     |0   |[69.2789,6.525801181793213,1.0,0.0] |[8.045347693685237,-8.045347693685237]  |[0.9996795128039259,3.2048719607413734E-4]|0.0       |\n",
      "|55.8           |65.8           |69.1902         |6.1438932 |1                  |1             |0.010609539      |0   |[69.1902,6.143893241882324,1.0,1.0] |[8.59289615366122,-8.59289615366122]    |[0.9998146160642047,1.8538393579525803E-4]|0.0       |\n",
      "|56.5           |37.6           |63.5453         |7.1986256 |1                  |0             |0.0038471406     |0   |[63.5453,7.198625564575195,1.0,0.0] |[7.397813458214723,-7.397813458214723]  |[0.9993877842845983,6.122157154017094E-4] |0.0       |\n",
      "|58.3           |16.9           |65.8825         |6.511581  |0                  |0             |0.0047861827     |0   |[65.8825,6.511580944061279,0.0,0.0] |[8.564890346627795,-8.564890346627795]  |[0.999809351857167,1.9064814283298315E-4] |0.0       |\n",
      "|59.5           |47.9           |61.0136         |7.439351  |1                  |0             |0.0069873757     |0   |[61.0136,7.4393510818481445,1.0,0.0]|[7.1131071198130975,-7.1131071198130975]|[0.9991863019031447,8.136980968552754E-4] |0.0       |\n",
      "|61.3           |40.1           |58.7001         |7.796549  |1                  |0             |0.0036706391     |0   |[58.7001,7.796548843383789,1.0,0.0] |[6.849979201081896,-6.849979201081896]  |[0.9989416435763908,0.0010583564236091858]|0.0       |\n",
      "|61.4           |54.8           |60.4401         |7.3447814 |1                  |0             |0.0076118503     |0   |[60.4401,7.344781398773193,1.0,0.0] |[7.051829128635795,-7.051829128635795]  |[0.9991349251974471,8.650748025529342E-4] |0.0       |\n",
      "|61.6           |9.9            |65.7006         |6.200113  |1                  |0             |0.0042117466     |0   |[65.7006,6.200112819671631,1.0,0.0] |[7.657307314492669,-7.657307314492669]  |[0.9995276450210824,4.723549789176218E-4] |0.0       |\n",
      "|62.3           |70.1           |65.0792         |6.243445  |1                  |0             |0.003187881      |0   |[65.0792,6.243444919586182,1.0,0.0] |[7.587766568120715,-7.587766568120715]  |[0.9994936452518951,5.06354748104898E-4]  |0.0       |\n",
      "|62.8           |31.9           |57.7707         |7.8443236 |1                  |0             |0.00458611       |0   |[57.7707,7.844323635101318,1.0,0.0] |[6.746337657144368,-6.746337657144368]  |[0.9988262037713797,0.0011737962286203496]|0.0       |\n",
      "|63.1           |47.8           |57.4321         |7.895246  |1                  |0             |0.003606883      |0   |[57.4321,7.8952460289001465,1.0,0.0]|[6.707855950948461,-6.707855950948461]  |[0.9987802099016794,0.0012197900983206278]|0.0       |\n",
      "|68.7           |24.3           |53.6487         |8.1598625 |1                  |0             |0.0053315936     |0   |[53.6487,8.159862518310547,1.0,0.0] |[6.284439425750201,-6.284439425750201]  |[0.9981383699253029,0.0018616300746970849]|0.0       |\n",
      "|71.0           |33.7           |49.4033         |9.183557  |1                  |0             |0.019038264      |1   |[49.4033,9.18355655670166,1.0,0.0]  |[5.793643358469496,-5.793643358469496]  |[0.9969623940410456,0.0030376059589544147]|0.0       |\n",
      "|73.6           |49.2           |47.3033         |9.485741  |1                  |0             |0.0075572664     |0   |[47.3033,9.485740661621094,1.0,0.0] |[5.55527362657067,-5.55527362657067]    |[0.9961478859562627,0.003852114043737309] |0.0       |\n",
      "|78.7           |31.3           |42.2064         |10.600567 |1                  |0             |0.0063351686     |0   |[42.2064,10.600566864013672,1.0,0.0]|[4.968501475927919,-4.968501475927919]  |[0.9930944577953992,0.006905542204600823] |0.0       |\n",
      "|79.8           |40.3           |40.2011         |11.364116 |1                  |0             |0.0061508114     |0   |[40.2011,11.364115715026855,1.0,0.0]|[4.73063627669699,-4.73063627669699]    |[0.9912562704377155,0.00874372956228453]  |0.0       |\n",
      "|80.0           |37.4           |40.0844         |11.3739195|1                  |0             |0.0073160706     |0   |[40.0844,11.373919486999512,1.0,0.0]|[4.717540472279671,-4.717540472279671]  |[0.9911420321691202,0.008857967830879776] |0.0       |\n",
      "+---------------+---------------+----------------+----------+-------------------+--------------+-----------------+----+------------------------------------+----------------------------------------+------------------------------------------+----------+\n",
      "only showing top 20 rows\n",
      "\n"
     ]
    },
    {
     "name": "stderr",
     "output_type": "stream",
     "text": [
      "                                                                                \r"
     ]
    }
   ],
   "source": [
    "predictions.show(truncate=False)"
   ]
  },
  {
   "cell_type": "code",
   "execution_count": 20,
   "metadata": {},
   "outputs": [
    {
     "name": "stderr",
     "output_type": "stream",
     "text": [
      "                                                                                \r"
     ]
    },
    {
     "name": "stdout",
     "output_type": "stream",
     "text": [
      "+-----------------+----------------+-------------+\n",
      "|shot_statsbomb_xg|goal_probability|difference   |\n",
      "+-----------------+----------------+-------------+\n",
      "|0.005853886      |0.0000983886    |0.0057554974 |\n",
      "|0.01531066       |0.0000809785    |0.0152296815 |\n",
      "|0.0033393882     |0.0002795487    |0.0030598395 |\n",
      "|0.0044208374     |0.0003204872    |0.0041003502 |\n",
      "|0.010609539      |0.0001853839    |0.0104241551 |\n",
      "|0.0038471406     |0.0006122157    |0.0032349249 |\n",
      "|0.0047861827     |0.0001906481    |0.0045955346 |\n",
      "|0.0069873757     |0.0008136981    |0.0061736776 |\n",
      "|0.0036706391     |0.0010583564    |0.0026122827 |\n",
      "|0.0076118503     |0.0008650748    |0.0067467755 |\n",
      "|0.0042117466     |0.0004723550    |0.0037393916 |\n",
      "|0.003187881      |0.0005063547    |0.0026815263 |\n",
      "|0.00458611       |0.0011737962    |0.0034123138 |\n",
      "|0.003606883      |0.0012197901    |0.0023870929 |\n",
      "|0.0053315936     |0.0018616301    |0.0034699635 |\n",
      "|0.019038264      |0.0030376060    |0.0160006580 |\n",
      "|0.0075572664     |0.0038521140    |0.0037051524 |\n",
      "|0.0063351686     |0.0069055422    |-0.0005703736|\n",
      "|0.0061508114     |0.0087437296    |-0.0025929182|\n",
      "|0.0073160706     |0.0088579678    |-0.0015418972|\n",
      "|0.0073081446     |0.0051458612    |0.0021622834 |\n",
      "|0.006299751      |0.0088950342    |-0.0025952832|\n",
      "|0.0053072693     |0.0096313719    |-0.0043241026|\n",
      "|0.0051343036     |0.0098744680    |-0.0047401644|\n",
      "|0.007607532      |0.0105239921    |-0.0029164601|\n",
      "|0.0068994747     |0.0112060841    |-0.0043066094|\n",
      "|0.00689204       |0.0113567870    |-0.0044647470|\n",
      "|0.006564868      |0.0082579962    |-0.0016931282|\n",
      "|0.0065385555     |0.0101338656    |-0.0035953101|\n",
      "|0.0058702338     |0.0041323486    |0.0017378852 |\n",
      "|0.0072868695     |0.0087771875    |-0.0014903180|\n",
      "|0.007355192      |0.0100896479    |-0.0027344559|\n",
      "|0.005342478      |0.0117709649    |-0.0064284869|\n",
      "|0.008025739      |0.0032180823    |0.0048076567 |\n",
      "|0.005961724      |0.0102933389    |-0.0043316149|\n",
      "|0.012173542      |0.0140076091    |-0.0018340671|\n",
      "|0.0083693415     |0.0106689065    |-0.0022995650|\n",
      "|0.012776371      |0.0147410565    |-0.0019646855|\n",
      "|0.0061713485     |0.0127178338    |-0.0065464853|\n",
      "|0.006518632      |0.0113606836    |-0.0048420516|\n",
      "|0.0066389865     |0.0131943565    |-0.0065553700|\n",
      "|0.005890725      |0.0074188854    |-0.0015281604|\n",
      "|0.01457494       |0.0152431712    |-0.0006682312|\n",
      "|0.006322466      |0.0097473540    |-0.0034248880|\n",
      "|0.0064546093     |0.0125902183    |-0.0061356090|\n",
      "|0.01874754       |0.0159667670    |0.0027807730 |\n",
      "|0.006573843      |0.0058944721    |0.0006793709 |\n",
      "|0.01917294       |0.0160433838    |0.0031295562 |\n",
      "|0.004527082      |0.0047344878    |-0.0002074058|\n",
      "|0.007878168      |0.0123536032    |-0.0044754352|\n",
      "+-----------------+----------------+-------------+\n",
      "only showing top 50 rows\n",
      "\n"
     ]
    }
   ],
   "source": [
    "from pyspark.sql.functions import col, udf, format_number, expr\n",
    "from pyspark.sql.types import DoubleType\n",
    "\n",
    "# Define a function to extract the probability of the goal (class 1)\n",
    "def extract_goal_probability(probability):\n",
    "    return float(probability[1])\n",
    "\n",
    "# Register the function as a UDF\n",
    "extract_goal_probability_udf = udf(extract_goal_probability, DoubleType())\n",
    "\n",
    "# Create a new column with the goal probability\n",
    "predictions_with_goal_prob = predictions.withColumn(\"goal_probability\", extract_goal_probability_udf(col(\"probability\")))\n",
    "\n",
    "# Format the goal_probability to remove scientific notation\n",
    "predictions_with_goal_prob = predictions_with_goal_prob.withColumn(\"goal_probability\", format_number(col(\"goal_probability\"), 10))\n",
    "\n",
    "# Add a new column showing the difference between shot_statsbomb_xg and goal_probability\n",
    "predictions_with_goal_prob = predictions_with_goal_prob.\\\n",
    "    withColumn(\"difference\", format_number(col(\"shot_statsbomb_xg\") - col(\"goal_probability\"),10))\n",
    "\n",
    "# Show the results\n",
    "predictions_with_goal_prob.select(\"shot_statsbomb_xg\", \"goal_probability\", \"difference\").show(50,False)"
   ]
  },
  {
   "cell_type": "code",
   "execution_count": 21,
   "metadata": {},
   "outputs": [
    {
     "name": "stderr",
     "output_type": "stream",
     "text": [
      "                                                                                \r"
     ]
    },
    {
     "name": "stdout",
     "output_type": "stream",
     "text": [
      "Average difference: -0.0017414274527208613\n"
     ]
    },
    {
     "name": "stderr",
     "output_type": "stream",
     "text": [
      "                                                                                \r"
     ]
    }
   ],
   "source": [
    "# average of the difference\n",
    "from pyspark.sql.functions import avg\n",
    "\n",
    "avg_diff = predictions_with_goal_prob.select(avg(col(\"shot_statsbomb_xg\") - col(\"goal_probability\"))).collect()[0][0]\n",
    "print(f\"Average difference: {avg_diff}\")"
   ]
  },
  {
   "cell_type": "code",
   "execution_count": 22,
   "metadata": {},
   "outputs": [],
   "source": [
    "# since the average difference is -0.0017309433278151149 which is very close to 0, we can say that the model is good"
   ]
  },
  {
   "cell_type": "code",
   "execution_count": 23,
   "metadata": {},
   "outputs": [
    {
     "name": "stderr",
     "output_type": "stream",
     "text": [
      "                                                                                \r"
     ]
    },
    {
     "name": "stdout",
     "output_type": "stream",
     "text": [
      "+----+------------------------+-------------------------+\n",
      "|goal|goal_probability_rounded|shot_statsbomb_xg_rounded|\n",
      "+----+------------------------+-------------------------+\n",
      "|0   |0.0                     |0.0                      |\n",
      "|0   |0.0                     |0.0                      |\n",
      "|0   |0.0                     |0.0                      |\n",
      "|0   |0.0                     |0.0                      |\n",
      "|0   |0.0                     |0.0                      |\n",
      "|0   |0.0                     |0.0                      |\n",
      "|0   |0.0                     |0.0                      |\n",
      "|0   |0.0                     |0.0                      |\n",
      "|0   |0.0                     |0.0                      |\n",
      "|0   |0.0                     |0.0                      |\n",
      "|0   |0.0                     |0.0                      |\n",
      "|0   |0.0                     |0.0                      |\n",
      "|0   |0.0                     |0.0                      |\n",
      "|0   |0.0                     |0.0                      |\n",
      "|0   |0.0                     |0.0                      |\n",
      "|1   |0.0                     |0.0                      |\n",
      "|0   |0.0                     |0.0                      |\n",
      "|0   |0.0                     |0.0                      |\n",
      "|0   |0.0                     |0.0                      |\n",
      "|0   |0.0                     |0.0                      |\n",
      "|0   |0.0                     |0.0                      |\n",
      "|0   |0.0                     |0.0                      |\n",
      "|0   |0.0                     |0.0                      |\n",
      "|0   |0.0                     |0.0                      |\n",
      "|0   |0.0                     |0.0                      |\n",
      "|0   |0.0                     |0.0                      |\n",
      "|0   |0.0                     |0.0                      |\n",
      "|0   |0.0                     |0.0                      |\n",
      "|0   |0.0                     |0.0                      |\n",
      "|0   |0.0                     |0.0                      |\n",
      "|0   |0.0                     |0.0                      |\n",
      "|0   |0.0                     |0.0                      |\n",
      "|0   |0.0                     |0.0                      |\n",
      "|0   |0.0                     |0.0                      |\n",
      "|0   |0.0                     |0.0                      |\n",
      "|0   |0.0                     |0.0                      |\n",
      "|0   |0.0                     |0.0                      |\n",
      "|0   |0.0                     |0.0                      |\n",
      "|0   |0.0                     |0.0                      |\n",
      "|0   |0.0                     |0.0                      |\n",
      "|0   |0.0                     |0.0                      |\n",
      "|0   |0.0                     |0.0                      |\n",
      "|0   |0.0                     |0.0                      |\n",
      "|0   |0.0                     |0.0                      |\n",
      "|0   |0.0                     |0.0                      |\n",
      "|0   |0.0                     |0.0                      |\n",
      "|0   |0.0                     |0.0                      |\n",
      "|0   |0.0                     |0.0                      |\n",
      "|0   |0.0                     |0.0                      |\n",
      "|0   |0.0                     |0.0                      |\n",
      "+----+------------------------+-------------------------+\n",
      "only showing top 50 rows\n",
      "\n"
     ]
    }
   ],
   "source": [
    "# round the goal_probability to 0 or 1, same for the shot_statsbomb_xg and compare with goal to check the accuracy of the model\n",
    "# vs the accuracy of the shot_statsbomb_xg model\n",
    "\n",
    "from pyspark.sql.functions import round\n",
    "\n",
    "predictions_with_goal_prob = predictions_with_goal_prob.withColumn(\"goal_probability_rounded\", round(col(\"goal_probability\")))\\\n",
    "    .withColumn(\"shot_statsbomb_xg_rounded\", round(col(\"shot_statsbomb_xg\")))\n",
    "\n",
    "predictions_with_goal_prob.select(\"goal\", \"goal_probability_rounded\", \"shot_statsbomb_xg_rounded\").show(50,False)"
   ]
  },
  {
   "cell_type": "code",
   "execution_count": 24,
   "metadata": {},
   "outputs": [
    {
     "name": "stderr",
     "output_type": "stream",
     "text": [
      "                                                                                \r"
     ]
    },
    {
     "data": {
      "text/plain": [
       "12202"
      ]
     },
     "execution_count": 24,
     "metadata": {},
     "output_type": "execute_result"
    }
   ],
   "source": [
    "predictions_with_goal_prob.count()"
   ]
  },
  {
   "cell_type": "code",
   "execution_count": 25,
   "metadata": {},
   "outputs": [
    {
     "name": "stderr",
     "output_type": "stream",
     "text": [
      "                                                                                \r"
     ]
    },
    {
     "name": "stdout",
     "output_type": "stream",
     "text": [
      "+----+-----+\n",
      "|goal|count|\n",
      "+----+-----+\n",
      "|   1| 1318|\n",
      "|   0|10884|\n",
      "+----+-----+\n",
      "\n"
     ]
    }
   ],
   "source": [
    "predictions_with_goal_prob.groupBy(\"goal\").count().show()"
   ]
  },
  {
   "cell_type": "code",
   "execution_count": 26,
   "metadata": {},
   "outputs": [],
   "source": [
    "from pyspark.sql.functions import col, when\n",
    "\n",
    "# Check if the rounded probability matches the actual goal for your model\n",
    "predictions_with_accuracy = predictions_with_goal_prob.withColumn(\n",
    "    \"model_correct\", when(col(\"goal\") == col(\"goal_probability_rounded\"), 1).otherwise(0)\n",
    ").withColumn(\n",
    "    \"statsbomb_correct\", when(col(\"goal\") == col(\"shot_statsbomb_xg_rounded\"), 1).otherwise(0)\n",
    ")\n"
   ]
  },
  {
   "cell_type": "code",
   "execution_count": 27,
   "metadata": {},
   "outputs": [
    {
     "name": "stderr",
     "output_type": "stream",
     "text": [
      "                                                                                \r"
     ]
    },
    {
     "name": "stdout",
     "output_type": "stream",
     "text": [
      "Model Accuracy: 89.61%\n",
      "StatsBomb xG Accuracy: 90.72%\n"
     ]
    }
   ],
   "source": [
    "# Calculate accuracy\n",
    "accuracy_model = predictions_with_accuracy.selectExpr(\"avg(model_correct) as model_accuracy\").first()[\"model_accuracy\"]\n",
    "accuracy_statsbomb = predictions_with_accuracy.selectExpr(\"avg(statsbomb_correct) as statsbomb_accuracy\").first()[\"statsbomb_accuracy\"]\n",
    "\n",
    "print(f\"Model Accuracy: {accuracy_model * 100:.2f}%\")\n",
    "print(f\"StatsBomb xG Accuracy: {accuracy_statsbomb * 100:.2f}%\")\n"
   ]
  },
  {
   "cell_type": "code",
   "execution_count": 28,
   "metadata": {},
   "outputs": [
    {
     "name": "stdout",
     "output_type": "stream",
     "text": [
      "distance_to_goal: -0.11040576581106461\n",
      "shot_angle: 0.021568386918724706\n",
      "preferred_foot_shot: 0.8942180883537789\n",
      "under_pressure: -0.5491043131880943\n"
     ]
    }
   ],
   "source": [
    "# show each feature with its coefficient\n",
    "coefficients = xg_model.stages[-1].coefficients\n",
    "features_coefficients = list(zip(features, coefficients))\n",
    "\n",
    "for feature, coefficient in features_coefficients:\n",
    "    print(f\"{feature}: {coefficient}\")"
   ]
  },
  {
   "cell_type": "code",
   "execution_count": null,
   "metadata": {},
   "outputs": [],
   "source": []
  }
 ],
 "metadata": {
  "kernelspec": {
   "display_name": "myenv",
   "language": "python",
   "name": "python3"
  },
  "language_info": {
   "codemirror_mode": {
    "name": "ipython",
    "version": 3
   },
   "file_extension": ".py",
   "mimetype": "text/x-python",
   "name": "python",
   "nbconvert_exporter": "python",
   "pygments_lexer": "ipython3",
   "version": "3.12.3"
  }
 },
 "nbformat": 4,
 "nbformat_minor": 2
}
