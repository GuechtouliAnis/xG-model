{
 "cells": [
  {
   "cell_type": "code",
   "execution_count": 2,
   "metadata": {},
   "outputs": [],
   "source": [
    "from pyspark.sql import SparkSession"
   ]
  },
  {
   "cell_type": "code",
   "execution_count": 3,
   "metadata": {},
   "outputs": [
    {
     "name": "stderr",
     "output_type": "stream",
     "text": [
      "your 131072x1 screen size is bogus. expect trouble\n",
      "Setting default log level to \"WARN\".\n",
      "To adjust logging level use sc.setLogLevel(newLevel). For SparkR, use setLogLevel(newLevel).\n",
      "24/12/22 00:45:02 WARN NativeCodeLoader: Unable to load native-hadoop library for your platform... using builtin-java classes where applicable\n"
     ]
    }
   ],
   "source": [
    "spark = SparkSession.builder.appName(\"trying\").getOrCreate()"
   ]
  },
  {
   "cell_type": "code",
   "execution_count": 4,
   "metadata": {},
   "outputs": [
    {
     "name": "stderr",
     "output_type": "stream",
     "text": [
      "                                                                                \r"
     ]
    }
   ],
   "source": [
    "events = spark.read.csv('Data/events.csv', header=True, inferSchema=True,sep=';')"
   ]
  },
  {
   "cell_type": "code",
   "execution_count": 5,
   "metadata": {},
   "outputs": [],
   "source": [
    "import pp_events as pp"
   ]
  },
  {
   "cell_type": "code",
   "execution_count": 6,
   "metadata": {},
   "outputs": [],
   "source": [
    "events_shot = events.filter((events.type == 'Shot') & (events.period <5))\n",
    "events_shot = pp.preprocessing(events_shot,events)"
   ]
  },
  {
   "cell_type": "code",
   "execution_count": 7,
   "metadata": {},
   "outputs": [],
   "source": [
    "columns_t = [\"shot_location_x\", \"shot_location_y\",\n",
    "             'distance_to_goal','shot_angle','preferred_foot_shot', \n",
    "             'under_pressure','shot_statsbomb_xg','goal']"
   ]
  },
  {
   "cell_type": "code",
   "execution_count": 8,
   "metadata": {},
   "outputs": [],
   "source": [
    "events_shot = events_shot.select(columns_t)"
   ]
  },
  {
   "cell_type": "code",
   "execution_count": 9,
   "metadata": {},
   "outputs": [
    {
     "name": "stderr",
     "output_type": "stream",
     "text": [
      "[Stage 3:==================================================>      (50 + 6) / 56]\r"
     ]
    },
    {
     "name": "stdout",
     "output_type": "stream",
     "text": [
      "+---------------+---------------+----------------+----------+-------------------+--------------+-----------------+-----+\n",
      "|shot_location_x|shot_location_y|distance_to_goal|shot_angle|preferred_foot_shot|under_pressure|shot_statsbomb_xg| goal|\n",
      "+---------------+---------------+----------------+----------+-------------------+--------------+-----------------+-----+\n",
      "|          106.2|           36.8|         14.1662| 30.870586|               true|          NULL|       0.15133068|false|\n",
      "|          114.8|           44.1|          6.6219|  56.19886|              false|          true|       0.14169177|false|\n",
      "|           94.8|           24.9|         29.3777| 13.387468|               true|          NULL|      0.039566465|false|\n",
      "|          111.1|           42.0|           9.122| 46.651226|              false|          NULL|       0.26291034|false|\n",
      "|           98.6|           25.2|         26.0192| 14.520617|               true|          NULL|       0.02977089|false|\n",
      "|          106.1|           32.5|         15.7943| 25.469059|              false|          NULL|       0.02531394|false|\n",
      "|           98.9|           24.9|         25.9465| 14.404465|               true|          NULL|      0.012626733|false|\n",
      "|           85.6|           34.4|         34.8528|  12.92981|               true|          NULL|      0.015171255|false|\n",
      "|           88.5|           38.1|         31.5572| 14.422748|               true|          NULL|      0.019570593|false|\n",
      "|          110.9|           25.6|         17.0344| 14.870527|               true|          NULL|       0.06569337|false|\n",
      "|          107.5|           24.9|         19.6026| 15.192171|               true|          true|      0.028598836|false|\n",
      "|          113.4|           38.7|          6.7268| 61.014557|              false|          true|       0.15686217|false|\n",
      "|          109.6|           41.5|         10.5076| 41.388515|              false|          true|      0.056397837|false|\n",
      "|          108.1|           39.3|         11.9206|  37.05121|              false|          true|      0.047531724|false|\n",
      "|          105.5|           57.6|         22.8037| 12.961155|               true|          NULL|      0.022013947|false|\n",
      "|           83.5|           48.0|         37.3664| 11.945132|               true|          NULL|     0.0064736516|false|\n",
      "|          105.6|           44.0|         14.9452| 29.054602|               true|          NULL|       0.07213958|false|\n",
      "|          107.2|           35.0|         13.7419| 30.644846|              false|          NULL|      0.040732585|false|\n",
      "|          105.5|           47.3|         16.2339| 25.108313|               true|          true|       0.07589752|false|\n",
      "|          108.3|           39.0|         11.7427| 37.520866|              false|          true|      0.049562205|false|\n",
      "+---------------+---------------+----------------+----------+-------------------+--------------+-----------------+-----+\n",
      "only showing top 20 rows\n",
      "\n"
     ]
    },
    {
     "name": "stderr",
     "output_type": "stream",
     "text": [
      "                                                                                \r"
     ]
    }
   ],
   "source": [
    "events_shot.show()"
   ]
  },
  {
   "cell_type": "code",
   "execution_count": 10,
   "metadata": {},
   "outputs": [],
   "source": [
    "# Columns to convert to int\n",
    "cols = ['preferred_foot_shot','under_pressure','goal']\n",
    "events_shot = pp.bool_to_int(events_shot,cols)"
   ]
  },
  {
   "cell_type": "code",
   "execution_count": 11,
   "metadata": {},
   "outputs": [
    {
     "name": "stderr",
     "output_type": "stream",
     "text": [
      "[Stage 9:======================================================>  (54 + 2) / 56]\r"
     ]
    },
    {
     "name": "stdout",
     "output_type": "stream",
     "text": [
      "+---------------+---------------+----------------+----------+-------------------+--------------+-----------------+----+\n",
      "|shot_location_x|shot_location_y|distance_to_goal|shot_angle|preferred_foot_shot|under_pressure|shot_statsbomb_xg|goal|\n",
      "+---------------+---------------+----------------+----------+-------------------+--------------+-----------------+----+\n",
      "|          111.6|           34.7|          9.9323| 39.113426|                  0|             1|       0.05332383|   0|\n",
      "|          115.6|           43.0|          5.3254| 70.651955|                  0|             1|       0.15510525|   0|\n",
      "|           94.3|           46.3|         26.4609| 16.725826|                  1|             0|      0.041628048|   0|\n",
      "|          107.9|           33.1|         13.9291|  28.53554|                  0|             0|      0.033826087|   0|\n",
      "|          107.5|           44.2|         13.1867|  32.34822|                  0|             0|       0.02513541|   0|\n",
      "|          113.4|           38.6|          6.7468| 60.790848|                  0|             1|        0.1949902|   0|\n",
      "|          100.5|           49.1|         21.5188| 19.236254|                  1|             0|      0.035685007|   0|\n",
      "|           87.6|           30.5|          33.764| 12.985569|                  1|             0|      0.016834991|   0|\n",
      "|          102.1|           36.2|         18.2989| 24.185514|                  0|             0|       0.06652527|   1|\n",
      "|          106.0|           40.5|         14.0089| 31.855133|                  0|             0|      0.033381354|   0|\n",
      "|           96.6|           62.0|         32.1179| 10.444196|                  1|             1|      0.008626999|   0|\n",
      "|           83.3|           37.9|           36.76| 12.400625|                  1|             0|     0.0063212407|   0|\n",
      "|           99.7|           38.8|         20.3354| 22.221123|                  1|             0|       0.06796482|   0|\n",
      "|           92.7|           55.5|         31.3933| 12.694641|                  1|             0|      0.013309195|   0|\n",
      "|          106.8|           57.6|            22.0| 12.715338|                  1|             0|      0.014936902|   0|\n",
      "|           93.3|           50.5|         28.6904| 14.822852|                  1|             1|      0.023186801|   0|\n",
      "|          113.8|           41.6|          6.4031|  63.25045|                  1|             0|        0.4451365|   1|\n",
      "|           95.3|           42.6|         24.8365| 18.204353|                  1|             0|       0.04481905|   0|\n",
      "|          105.5|           33.8|         15.7699|  26.49705|                  1|             0|       0.06438721|   0|\n",
      "|           94.4|           42.5|         25.7218| 17.600037|                  1|             0|      0.029872663|   0|\n",
      "+---------------+---------------+----------------+----------+-------------------+--------------+-----------------+----+\n",
      "only showing top 20 rows\n",
      "\n"
     ]
    },
    {
     "name": "stderr",
     "output_type": "stream",
     "text": [
      "                                                                                \r"
     ]
    }
   ],
   "source": [
    "events_shot.show()"
   ]
  },
  {
   "cell_type": "code",
   "execution_count": 12,
   "metadata": {},
   "outputs": [],
   "source": [
    "# our goal is to come up with a measure of the quality of the chance to score a goal, an xG model\n",
    "# therefore we will use the goal column as a target value in the training, and the shot_statsbomb_xg as the y to evaluate the model"
   ]
  },
  {
   "cell_type": "code",
   "execution_count": 13,
   "metadata": {},
   "outputs": [],
   "source": [
    "features = ['shot_location_x', 'shot_location_y', 'distance_to_goal', 'shot_angle', 'preferred_foot_shot', 'under_pressure']\n",
    "target = ['goal']"
   ]
  },
  {
   "cell_type": "code",
   "execution_count": 14,
   "metadata": {},
   "outputs": [],
   "source": [
    "from pyspark.ml.feature import VectorAssembler\n",
    "\n",
    "# Define the assembler\n",
    "feature_assembler = VectorAssembler(inputCols=features, outputCol=\"features_vector\")\n",
    "\n",
    "# Transform the dataset\n",
    "assembled_data = feature_assembler.transform(events_shot)"
   ]
  },
  {
   "cell_type": "code",
   "execution_count": 15,
   "metadata": {},
   "outputs": [],
   "source": [
    "train_data, test_data = assembled_data.randomSplit([0.8, 0.2], seed=42)"
   ]
  },
  {
   "cell_type": "code",
   "execution_count": 16,
   "metadata": {},
   "outputs": [],
   "source": [
    "from pyspark.ml.classification import LogisticRegression\n",
    "\n",
    "# Define the logistic regression model\n",
    "log_reg = LogisticRegression(featuresCol=\"features_vector\", labelCol=\"goal\", maxIter=10)"
   ]
  },
  {
   "cell_type": "code",
   "execution_count": 17,
   "metadata": {},
   "outputs": [],
   "source": [
    "from pyspark.ml import Pipeline\n",
    "\n",
    "# Create the pipeline\n",
    "pipeline = Pipeline(stages=[log_reg])"
   ]
  },
  {
   "cell_type": "code",
   "execution_count": 18,
   "metadata": {},
   "outputs": [
    {
     "name": "stderr",
     "output_type": "stream",
     "text": [
      "24/12/22 00:46:16 WARN InstanceBuilder: Failed to load implementation from:dev.ludovic.netlib.blas.JNIBLAS\n",
      "                                                                                \r"
     ]
    }
   ],
   "source": [
    "xg_model = pipeline.fit(train_data)"
   ]
  },
  {
   "cell_type": "code",
   "execution_count": 19,
   "metadata": {},
   "outputs": [
    {
     "name": "stderr",
     "output_type": "stream",
     "text": [
      "                                                                                \r"
     ]
    },
    {
     "name": "stdout",
     "output_type": "stream",
     "text": [
      "ROC-AUC: 0.7765548292686731\n"
     ]
    }
   ],
   "source": [
    "# Make predictions\n",
    "predictions = xg_model.transform(test_data)\n",
    "\n",
    "# Evaluate using BinaryClassificationEvaluator\n",
    "from pyspark.ml.evaluation import BinaryClassificationEvaluator\n",
    "\n",
    "evaluator = BinaryClassificationEvaluator(labelCol=\"goal\", rawPredictionCol=\"rawPrediction\")\n",
    "roc_auc = evaluator.evaluate(predictions)\n",
    "print(f\"ROC-AUC: {roc_auc}\")"
   ]
  },
  {
   "cell_type": "code",
   "execution_count": 20,
   "metadata": {},
   "outputs": [
    {
     "name": "stderr",
     "output_type": "stream",
     "text": [
      "                                                                                \r"
     ]
    },
    {
     "name": "stdout",
     "output_type": "stream",
     "text": [
      "+---------------+---------------+----------------+----------+-------------------+--------------+-----------------+----+-------------------------------------------------------------------------+----------------------------------------+------------------------------------------+----------+\n",
      "|shot_location_x|shot_location_y|distance_to_goal|shot_angle|preferred_foot_shot|under_pressure|shot_statsbomb_xg|goal|features_vector                                                          |rawPrediction                           |probability                               |prediction|\n",
      "+---------------+---------------+----------------+----------+-------------------+--------------+-----------------+----+-------------------------------------------------------------------------+----------------------------------------+------------------------------------------+----------+\n",
      "|40.3           |44.4           |79.8214         |5.7289352 |1                  |0             |0.005853886      |0   |[40.29999923706055,44.400001525878906,79.8214,5.728935241699219,1.0,0.0] |[9.611374415062148,-9.611374415062148]  |[0.9999330417572594,6.695824274061124E-5] |0.0       |\n",
      "|47.6           |77.3           |81.4435         |5.002433  |1                  |0             |0.01531066       |0   |[47.599998474121094,77.30000305175781,81.4435,5.002432823181152,1.0,0.0] |[10.463363576796407,-10.463363576796407]|[0.9999714368216632,2.8563178336771244E-5]|0.0       |\n",
      "|50.2           |49.9           |70.4986         |6.4309998 |1                  |0             |0.0033393882     |0   |[50.20000076293945,49.900001525878906,70.4986,6.430999755859375,1.0,0.0] |[8.5136472208712,-8.5136472208712]      |[0.9997993298236147,2.0067017638525364E-4]|0.0       |\n",
      "|51.6           |51.0           |69.2789         |6.525801  |1                  |0             |0.0044208374     |0   |[51.599998474121094,51.0,69.2789,6.525801181793213,1.0,0.0]              |[8.3775517015866,-8.3775517015866]      |[0.9997700805775149,2.299194224850698E-4] |0.0       |\n",
      "|55.8           |65.8           |69.1902         |6.1438932 |1                  |1             |0.010609539      |0   |[55.79999923706055,65.80000305175781,69.1902,6.143893241882324,1.0,1.0]  |[9.23423202930454,-9.23423202930454]    |[0.9999023703835838,9.762961641623935E-5] |0.0       |\n",
      "|56.5           |37.6           |63.5453         |7.1986256 |1                  |0             |0.0038471406     |0   |[56.5,37.599998474121094,63.5453,7.198625564575195,1.0,0.0]              |[7.597801617832498,-7.597801617832498]  |[0.9994986986019873,5.013013980127434E-4] |0.0       |\n",
      "|58.3           |16.9           |65.8825         |6.511581  |0                  |0             |0.0047861827     |0   |[58.29999923706055,16.899999618530273,65.8825,6.511580944061279,0.0,0.0] |[9.048949365696632,-9.048949365696632]  |[0.999882499371238,1.1750062876203504E-4] |0.0       |\n",
      "|59.5           |47.9           |61.0136         |7.439351  |1                  |0             |0.0069873757     |0   |[59.5,47.900001525878906,61.0136,7.4393510818481445,1.0,0.0]             |[7.33099990844812,-7.33099990844812]    |[0.9993455102362147,6.544897637853486E-4] |0.0       |\n",
      "|61.3           |40.1           |58.7001         |7.796549  |1                  |0             |0.0036706391     |0   |[61.29999923706055,40.099998474121094,58.7001,7.796548843383789,1.0,0.0] |[7.000208175719275,-7.000208175719275]  |[0.9990891382718623,9.108617281377018E-4] |0.0       |\n",
      "|61.4           |54.8           |60.4401         |7.3447814 |1                  |0             |0.0076118503     |0   |[61.400001525878906,54.79999923706055,60.4401,7.344781398773193,1.0,0.0] |[7.3609045375365545,-7.3609045375365545]|[0.9993647805059444,6.352194940556499E-4] |0.0       |\n",
      "|61.6           |9.9            |65.7006         |6.200113  |1                  |0             |0.0042117466     |0   |[61.599998474121094,9.899999618530273,65.7006,6.200112819671631,1.0,0.0] |[8.33052227709711,-8.33052227709711]    |[0.9997590119700993,2.4098802990069057E-4]|0.0       |\n",
      "|62.3           |70.1           |65.0792         |6.243445  |1                  |0             |0.003187881      |0   |[62.29999923706055,70.0999984741211,65.0792,6.243444919586182,1.0,0.0]   |[8.334337400252199,-8.334337400252199]  |[0.99975992939723,2.400706027699817E-4]   |0.0       |\n",
      "|62.8           |31.9           |57.7707         |7.8443236 |1                  |0             |0.00458611       |0   |[62.79999923706055,31.899999618530273,57.7707,7.844323635101318,1.0,0.0] |[6.914950143395175,-6.914950143395175]  |[0.999008153778972,9.918462210279921E-4]  |0.0       |\n",
      "|63.1           |47.8           |57.4321         |7.895246  |1                  |0             |0.003606883      |0   |[63.099998474121094,47.79999923706055,57.4321,7.8952460289001465,1.0,0.0]|[6.890167263435832,-6.890167263435832]  |[0.9989832911534497,0.0010167088465502516]|0.0       |\n",
      "|68.7           |24.3           |53.6487         |8.1598625 |1                  |0             |0.0053315936     |0   |[68.69999694824219,24.299999237060547,53.6487,8.159862518310547,1.0,0.0] |[6.5201158265099854,-6.5201158265099854]|[0.9985286695807617,0.0014713304192383037]|0.0       |\n",
      "|71.0           |33.7           |49.4033         |9.183557  |1                  |0             |0.019038264      |1   |[71.0,33.70000076293945,49.4033,9.18355655670166,1.0,0.0]                |[5.869444163843739,-5.869444163843739]  |[0.997183512183577,0.0028164878164229634] |0.0       |\n",
      "|73.6           |49.2           |47.3033         |9.485741  |1                  |0             |0.0075572664     |0   |[73.5999984741211,49.20000076293945,47.3033,9.485740661621094,1.0,0.0]   |[5.662867004037108,-5.662867004037108]  |[0.996539470045066,0.003460529954933955]  |0.0       |\n",
      "|78.7           |31.3           |42.2064         |10.600567 |1                  |0             |0.0063351686     |0   |[78.69999694824219,31.299999237060547,42.2064,10.600566864013672,1.0,0.0]|[5.005335431350528,-5.005335431350528]  |[0.9933425261291419,0.006657473870858133] |0.0       |\n",
      "|79.8           |40.3           |40.2011         |11.364116 |1                  |0             |0.0061508114     |0   |[79.80000305175781,40.29999923706055,40.2011,11.364115715026855,1.0,0.0] |[4.700618950912154,-4.700618950912154]  |[0.9909922281735192,0.009007771826480826] |0.0       |\n",
      "|80.0           |37.4           |40.0844         |11.3739195|1                  |0             |0.0073160706     |0   |[80.0,37.400001525878906,40.0844,11.373919486999512,1.0,0.0]             |[4.6883280188534515,-4.6883280188534515]|[0.9908818468130822,0.009118153186917777] |0.0       |\n",
      "+---------------+---------------+----------------+----------+-------------------+--------------+-----------------+----+-------------------------------------------------------------------------+----------------------------------------+------------------------------------------+----------+\n",
      "only showing top 20 rows\n",
      "\n"
     ]
    }
   ],
   "source": [
    "predictions.show(truncate=False)"
   ]
  },
  {
   "cell_type": "code",
   "execution_count": 21,
   "metadata": {},
   "outputs": [
    {
     "name": "stderr",
     "output_type": "stream",
     "text": [
      "                                                                                \r"
     ]
    },
    {
     "name": "stdout",
     "output_type": "stream",
     "text": [
      "+-----------------+----------------+-------------+\n",
      "|shot_statsbomb_xg|goal_probability|difference   |\n",
      "+-----------------+----------------+-------------+\n",
      "|0.005853886      |0.0000669582    |0.0057869278 |\n",
      "|0.01531066       |0.0000285632    |0.0152820968 |\n",
      "|0.0033393882     |0.0002006702    |0.0031387180 |\n",
      "|0.0044208374     |0.0002299194    |0.0041909180 |\n",
      "|0.010609539      |0.0000976296    |0.0105119094 |\n",
      "|0.0038471406     |0.0005013014    |0.0033458392 |\n",
      "|0.0047861827     |0.0001175006    |0.0046686821 |\n",
      "|0.0069873757     |0.0006544898    |0.0063328859 |\n",
      "|0.0036706391     |0.0009108617    |0.0027597774 |\n",
      "|0.0076118503     |0.0006352195    |0.0069766308 |\n",
      "|0.0042117466     |0.0002409880    |0.0039707586 |\n",
      "|0.003187881      |0.0002400706    |0.0029478104 |\n",
      "|0.00458611       |0.0009918462    |0.0035942638 |\n",
      "|0.003606883      |0.0010167088    |0.0025901742 |\n",
      "|0.0053315936     |0.0014713304    |0.0038602632 |\n",
      "|0.019038264      |0.0028164878    |0.0162217762 |\n",
      "|0.0075572664     |0.0034605300    |0.0040967364 |\n",
      "|0.0063351686     |0.0066574739    |-0.0003223053|\n",
      "|0.0061508114     |0.0090077718    |-0.0028569604|\n",
      "|0.0073160706     |0.0091181532    |-0.0018020826|\n",
      "|0.0073081446     |0.0052168069    |0.0020913377 |\n",
      "|0.006299751      |0.0091278837    |-0.0028281327|\n",
      "|0.0053072693     |0.0098587472    |-0.0045514779|\n",
      "|0.0051343036     |0.0102666585    |-0.0051323549|\n",
      "|0.007607532      |0.0108198329    |-0.0032123009|\n",
      "|0.0068994747     |0.0117025426    |-0.0048030679|\n",
      "|0.00689204       |0.0118872359    |-0.0049951959|\n",
      "|0.006564868      |0.0069619283    |-0.0003970603|\n",
      "|0.0065385555     |0.0098620601    |-0.0033235046|\n",
      "|0.0058702338     |0.0038760864    |0.0019941474 |\n",
      "|0.0072868695     |0.0073578435    |-0.0000709740|\n",
      "|0.007355192      |0.0092497193    |-0.0018945273|\n",
      "|0.005342478      |0.0117156122    |-0.0063731342|\n",
      "|0.008025739      |0.0033240229    |0.0047017161 |\n",
      "|0.005961724      |0.0090808374    |-0.0031191134|\n",
      "|0.012173542      |0.0147845641    |-0.0026110221|\n",
      "|0.0083693415     |0.0095356807    |-0.0011663392|\n",
      "|0.012776371      |0.0156851258    |-0.0029087548|\n",
      "|0.0061713485     |0.0121955704    |-0.0060242219|\n",
      "|0.006518632      |0.0101410030    |-0.0036223710|\n",
      "|0.0066389865     |0.0128682701    |-0.0062292836|\n",
      "|0.005890725      |0.0052417359    |0.0006489891 |\n",
      "|0.01457494       |0.0161678246    |-0.0015928846|\n",
      "|0.006322466      |0.0079765644    |-0.0016540984|\n",
      "|0.0064546093     |0.0119594367    |-0.0055048274|\n",
      "|0.01874754       |0.0171861213    |0.0015614187 |\n",
      "|0.006573843      |0.0058424001    |0.0007314429 |\n",
      "|0.01917294       |0.0170579341    |0.0021150059 |\n",
      "|0.004527082      |0.0022841521    |0.0022429299 |\n",
      "|0.007878168      |0.0113458287    |-0.0034676607|\n",
      "+-----------------+----------------+-------------+\n",
      "only showing top 50 rows\n",
      "\n"
     ]
    },
    {
     "name": "stderr",
     "output_type": "stream",
     "text": [
      "                                                                                \r"
     ]
    }
   ],
   "source": [
    "from pyspark.sql.functions import col, udf, format_number, expr\n",
    "from pyspark.sql.types import DoubleType\n",
    "\n",
    "# Define a function to extract the probability of the goal (class 1)\n",
    "def extract_goal_probability(probability):\n",
    "    return float(probability[1])\n",
    "\n",
    "# Register the function as a UDF\n",
    "extract_goal_probability_udf = udf(extract_goal_probability, DoubleType())\n",
    "\n",
    "# Create a new column with the goal probability\n",
    "predictions_with_goal_prob = predictions.withColumn(\"goal_probability\", extract_goal_probability_udf(col(\"probability\")))\n",
    "\n",
    "# Format the goal_probability to remove scientific notation\n",
    "predictions_with_goal_prob = predictions_with_goal_prob.withColumn(\"goal_probability\", format_number(col(\"goal_probability\"), 10))\n",
    "\n",
    "# Add a new column showing the difference between shot_statsbomb_xg and goal_probability\n",
    "predictions_with_goal_prob = predictions_with_goal_prob.\\\n",
    "    withColumn(\"difference\", format_number(col(\"shot_statsbomb_xg\") - col(\"goal_probability\"),10))\n",
    "\n",
    "# Show the results\n",
    "predictions_with_goal_prob.select(\"shot_statsbomb_xg\", \"goal_probability\", \"difference\").show(50,False)"
   ]
  },
  {
   "cell_type": "code",
   "execution_count": 22,
   "metadata": {},
   "outputs": [
    {
     "name": "stderr",
     "output_type": "stream",
     "text": [
      "                                                                                \r"
     ]
    },
    {
     "name": "stdout",
     "output_type": "stream",
     "text": [
      "Average difference: -0.0017309433278151149\n"
     ]
    }
   ],
   "source": [
    "# average of the difference\n",
    "from pyspark.sql.functions import avg\n",
    "\n",
    "avg_diff = predictions_with_goal_prob.select(avg(col(\"shot_statsbomb_xg\") - col(\"goal_probability\"))).collect()[0][0]\n",
    "print(f\"Average difference: {avg_diff}\")"
   ]
  },
  {
   "cell_type": "code",
   "execution_count": 23,
   "metadata": {},
   "outputs": [],
   "source": [
    "# since the average difference is -0.0017309433278151149 which is very close to 0, we can say that the model is good"
   ]
  },
  {
   "cell_type": "code",
   "execution_count": 24,
   "metadata": {},
   "outputs": [
    {
     "name": "stderr",
     "output_type": "stream",
     "text": [
      "[Stage 97:===============================================>        (47 + 9) / 56]\r"
     ]
    },
    {
     "name": "stdout",
     "output_type": "stream",
     "text": [
      "+----+------------------------+-------------------------+\n",
      "|goal|goal_probability_rounded|shot_statsbomb_xg_rounded|\n",
      "+----+------------------------+-------------------------+\n",
      "|0   |0.0                     |0.0                      |\n",
      "|0   |0.0                     |0.0                      |\n",
      "|0   |0.0                     |0.0                      |\n",
      "|0   |0.0                     |0.0                      |\n",
      "|0   |0.0                     |0.0                      |\n",
      "|0   |0.0                     |0.0                      |\n",
      "|0   |0.0                     |0.0                      |\n",
      "|0   |0.0                     |0.0                      |\n",
      "|0   |0.0                     |0.0                      |\n",
      "|0   |0.0                     |0.0                      |\n",
      "|0   |0.0                     |0.0                      |\n",
      "|0   |0.0                     |0.0                      |\n",
      "|0   |0.0                     |0.0                      |\n",
      "|0   |0.0                     |0.0                      |\n",
      "|0   |0.0                     |0.0                      |\n",
      "|1   |0.0                     |0.0                      |\n",
      "|0   |0.0                     |0.0                      |\n",
      "|0   |0.0                     |0.0                      |\n",
      "|0   |0.0                     |0.0                      |\n",
      "|0   |0.0                     |0.0                      |\n",
      "|0   |0.0                     |0.0                      |\n",
      "|0   |0.0                     |0.0                      |\n",
      "|0   |0.0                     |0.0                      |\n",
      "|0   |0.0                     |0.0                      |\n",
      "|0   |0.0                     |0.0                      |\n",
      "|0   |0.0                     |0.0                      |\n",
      "|0   |0.0                     |0.0                      |\n",
      "|0   |0.0                     |0.0                      |\n",
      "|0   |0.0                     |0.0                      |\n",
      "|0   |0.0                     |0.0                      |\n",
      "|0   |0.0                     |0.0                      |\n",
      "|0   |0.0                     |0.0                      |\n",
      "|0   |0.0                     |0.0                      |\n",
      "|0   |0.0                     |0.0                      |\n",
      "|0   |0.0                     |0.0                      |\n",
      "|0   |0.0                     |0.0                      |\n",
      "|0   |0.0                     |0.0                      |\n",
      "|0   |0.0                     |0.0                      |\n",
      "|0   |0.0                     |0.0                      |\n",
      "|0   |0.0                     |0.0                      |\n",
      "|0   |0.0                     |0.0                      |\n",
      "|0   |0.0                     |0.0                      |\n",
      "|0   |0.0                     |0.0                      |\n",
      "|0   |0.0                     |0.0                      |\n",
      "|0   |0.0                     |0.0                      |\n",
      "|0   |0.0                     |0.0                      |\n",
      "|0   |0.0                     |0.0                      |\n",
      "|0   |0.0                     |0.0                      |\n",
      "|0   |0.0                     |0.0                      |\n",
      "|0   |0.0                     |0.0                      |\n",
      "+----+------------------------+-------------------------+\n",
      "only showing top 50 rows\n",
      "\n"
     ]
    },
    {
     "name": "stderr",
     "output_type": "stream",
     "text": [
      "                                                                                \r"
     ]
    }
   ],
   "source": [
    "# round the goal_probability to 0 or 1, same for the shot_statsbomb_xg and compare with goal to check the accuracy of the model\n",
    "# vs the accuracy of the shot_statsbomb_xg model\n",
    "\n",
    "from pyspark.sql.functions import round\n",
    "\n",
    "predictions_with_goal_prob = predictions_with_goal_prob.withColumn(\"goal_probability_rounded\", round(col(\"goal_probability\")))\\\n",
    "    .withColumn(\"shot_statsbomb_xg_rounded\", round(col(\"shot_statsbomb_xg\")))\n",
    "\n",
    "predictions_with_goal_prob.select(\"goal\", \"goal_probability_rounded\", \"shot_statsbomb_xg_rounded\").show(50,False)"
   ]
  },
  {
   "cell_type": "code",
   "execution_count": 25,
   "metadata": {},
   "outputs": [
    {
     "name": "stderr",
     "output_type": "stream",
     "text": [
      "                                                                                \r"
     ]
    },
    {
     "data": {
      "text/plain": [
       "12202"
      ]
     },
     "execution_count": 25,
     "metadata": {},
     "output_type": "execute_result"
    }
   ],
   "source": [
    "predictions_with_goal_prob.count()"
   ]
  },
  {
   "cell_type": "code",
   "execution_count": 26,
   "metadata": {},
   "outputs": [
    {
     "name": "stderr",
     "output_type": "stream",
     "text": [
      "                                                                                \r"
     ]
    },
    {
     "name": "stdout",
     "output_type": "stream",
     "text": [
      "+----+-----+\n",
      "|goal|count|\n",
      "+----+-----+\n",
      "|   1| 1318|\n",
      "|   0|10884|\n",
      "+----+-----+\n",
      "\n"
     ]
    }
   ],
   "source": [
    "predictions_with_goal_prob.groupBy(\"goal\").count().show()"
   ]
  },
  {
   "cell_type": "code",
   "execution_count": 27,
   "metadata": {},
   "outputs": [],
   "source": [
    "from pyspark.sql.functions import col, when\n",
    "\n",
    "# Check if the rounded probability matches the actual goal for your model\n",
    "predictions_with_accuracy = predictions_with_goal_prob.withColumn(\n",
    "    \"model_correct\", when(col(\"goal\") == col(\"goal_probability_rounded\"), 1).otherwise(0)\n",
    ").withColumn(\n",
    "    \"statsbomb_correct\", when(col(\"goal\") == col(\"shot_statsbomb_xg_rounded\"), 1).otherwise(0)\n",
    ")\n"
   ]
  },
  {
   "cell_type": "code",
   "execution_count": 28,
   "metadata": {},
   "outputs": [
    {
     "name": "stderr",
     "output_type": "stream",
     "text": [
      "                                                                                \r"
     ]
    },
    {
     "name": "stdout",
     "output_type": "stream",
     "text": [
      "Model Accuracy: 89.62%\n",
      "StatsBomb xG Accuracy: 90.72%\n"
     ]
    }
   ],
   "source": [
    "# Calculate accuracy\n",
    "accuracy_model = predictions_with_accuracy.selectExpr(\"avg(model_correct) as model_accuracy\").first()[\"model_accuracy\"]\n",
    "accuracy_statsbomb = predictions_with_accuracy.selectExpr(\"avg(statsbomb_correct) as statsbomb_accuracy\").first()[\"statsbomb_accuracy\"]\n",
    "\n",
    "print(f\"Model Accuracy: {accuracy_model * 100:.2f}%\")\n",
    "print(f\"StatsBomb xG Accuracy: {accuracy_statsbomb * 100:.2f}%\")\n"
   ]
  },
  {
   "cell_type": "code",
   "execution_count": 29,
   "metadata": {},
   "outputs": [
    {
     "name": "stdout",
     "output_type": "stream",
     "text": [
      "shot_location_x: -0.06766043606988799\n",
      "shot_location_y: -0.001240425140539186\n",
      "distance_to_goal: -0.18926522647607666\n",
      "shot_angle: 0.014109956003286293\n",
      "preferred_foot_shot: 0.9029909568611281\n",
      "under_pressure: -0.565547270097111\n"
     ]
    }
   ],
   "source": [
    "# show each feature with its coefficient\n",
    "coefficients = xg_model.stages[-1].coefficients\n",
    "features_coefficients = list(zip(features, coefficients))\n",
    "\n",
    "for feature, coefficient in features_coefficients:\n",
    "    print(f\"{feature}: {coefficient}\")"
   ]
  },
  {
   "cell_type": "code",
   "execution_count": null,
   "metadata": {},
   "outputs": [],
   "source": []
  }
 ],
 "metadata": {
  "kernelspec": {
   "display_name": "myenv",
   "language": "python",
   "name": "python3"
  },
  "language_info": {
   "codemirror_mode": {
    "name": "ipython",
    "version": 3
   },
   "file_extension": ".py",
   "mimetype": "text/x-python",
   "name": "python",
   "nbconvert_exporter": "python",
   "pygments_lexer": "ipython3",
   "version": "3.12.3"
  }
 },
 "nbformat": 4,
 "nbformat_minor": 2
}
