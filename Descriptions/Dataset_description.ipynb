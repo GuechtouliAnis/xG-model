{
 "cells": [
  {
   "cell_type": "code",
   "execution_count": 2,
   "metadata": {},
   "outputs": [],
   "source": [
    "from pyspark.sql import SparkSession\n",
    "from pyspark.sql.functions import col,round"
   ]
  },
  {
   "cell_type": "code",
   "execution_count": 3,
   "metadata": {},
   "outputs": [
    {
     "name": "stderr",
     "output_type": "stream",
     "text": [
      "your 131072x1 screen size is bogus. expect trouble\n",
      "Setting default log level to \"WARN\".\n",
      "To adjust logging level use sc.setLogLevel(newLevel). For SparkR, use setLogLevel(newLevel).\n",
      "25/01/26 09:38:11 WARN NativeCodeLoader: Unable to load native-hadoop library for your platform... using builtin-java classes where applicable\n"
     ]
    }
   ],
   "source": [
    "spark = SparkSession.builder.appName(\"Dataset_Description\").getOrCreate()"
   ]
  },
  {
   "cell_type": "markdown",
   "metadata": {},
   "source": [
    "### Competitions"
   ]
  },
  {
   "cell_type": "code",
   "execution_count": 5,
   "metadata": {},
   "outputs": [],
   "source": [
    "competitions = spark.read.csv('/home/aniss/xG-model/Data/competitions.csv', header=True, inferSchema=True)"
   ]
  },
  {
   "cell_type": "code",
   "execution_count": 6,
   "metadata": {},
   "outputs": [
    {
     "name": "stdout",
     "output_type": "stream",
     "text": [
      "root\n",
      " |-- competition_id: integer (nullable = true)\n",
      " |-- season_id: integer (nullable = true)\n",
      " |-- country_name: string (nullable = true)\n",
      " |-- competition_name: string (nullable = true)\n",
      " |-- competition_international: boolean (nullable = true)\n",
      " |-- season_name: string (nullable = true)\n",
      "\n"
     ]
    }
   ],
   "source": [
    "competitions.printSchema()"
   ]
  },
  {
   "cell_type": "code",
   "execution_count": 26,
   "metadata": {},
   "outputs": [
    {
     "data": {
      "text/plain": [
       "(6, 26)"
      ]
     },
     "execution_count": 26,
     "metadata": {},
     "output_type": "execute_result"
    }
   ],
   "source": [
    "# Number of features and rows\n",
    "len(competitions.columns), competitions.count()"
   ]
  },
  {
   "cell_type": "code",
   "execution_count": 8,
   "metadata": {},
   "outputs": [
    {
     "name": "stdout",
     "output_type": "stream",
     "text": [
      "+--------------+---------+--------------------+--------------------+-------------------------+-----------+\n",
      "|competition_id|season_id|        country_name|    competition_name|competition_international|season_name|\n",
      "+--------------+---------+--------------------+--------------------+-------------------------+-----------+\n",
      "|           223|      282|       South America|        Copa America|                     true|       2024|\n",
      "|            55|      282|              Europe|           UEFA Euro|                     true|       2024|\n",
      "|             9|      281|             Germany|       1. Bundesliga|                    false|  2023/2024|\n",
      "|            44|      107|United States of ...| Major League Soccer|                    false|       2023|\n",
      "|          1267|      107|              Africa|African Cup of Na...|                     true|       2023|\n",
      "+--------------+---------+--------------------+--------------------+-------------------------+-----------+\n",
      "only showing top 5 rows\n",
      "\n"
     ]
    }
   ],
   "source": [
    "competitions.show(5)"
   ]
  },
  {
   "cell_type": "code",
   "execution_count": null,
   "metadata": {},
   "outputs": [
    {
     "name": "stdout",
     "output_type": "stream",
     "text": [
      "+------------------------+----------------------+-----+\n",
      "|country_name            |competition_name      |count|\n",
      "+------------------------+----------------------+-----+\n",
      "|Africa                  |African Cup of Nations|1    |\n",
      "|England                 |Premier League        |1    |\n",
      "|Europe                  |Champions League      |5    |\n",
      "|Europe                  |UEFA Euro             |2    |\n",
      "|France                  |Ligue 1               |3    |\n",
      "|Germany                 |1. Bundesliga         |2    |\n",
      "|International           |FIFA World Cup        |2    |\n",
      "|Italy                   |Serie A               |1    |\n",
      "|South America           |Copa America          |1    |\n",
      "|Spain                   |La Liga               |7    |\n",
      "|United States of America|Major League Soccer   |1    |\n",
      "+------------------------+----------------------+-----+\n",
      "\n"
     ]
    }
   ],
   "source": [
    "competitions.groupBy('country_name','competition_name').count().orderBy('country_name').show(20,False)"
   ]
  },
  {
   "cell_type": "markdown",
   "metadata": {},
   "source": [
    "### Matches"
   ]
  },
  {
   "cell_type": "code",
   "execution_count": 28,
   "metadata": {},
   "outputs": [],
   "source": [
    "matches = spark.read.csv('/home/aniss/xG-model/Data/matches.csv', header=True, inferSchema=True)"
   ]
  },
  {
   "cell_type": "code",
   "execution_count": 29,
   "metadata": {},
   "outputs": [
    {
     "name": "stdout",
     "output_type": "stream",
     "text": [
      "root\n",
      " |-- match_id: integer (nullable = true)\n",
      " |-- match_date: date (nullable = true)\n",
      " |-- competition: string (nullable = true)\n",
      " |-- season: string (nullable = true)\n",
      " |-- home_team: string (nullable = true)\n",
      " |-- away_team: string (nullable = true)\n",
      " |-- home_score: integer (nullable = true)\n",
      " |-- away_score: integer (nullable = true)\n",
      " |-- match_week: integer (nullable = true)\n",
      " |-- competition_stage: string (nullable = true)\n",
      " |-- stadium: string (nullable = true)\n",
      " |-- referee: string (nullable = true)\n",
      " |-- home_managers: string (nullable = true)\n",
      " |-- away_managers: string (nullable = true)\n",
      "\n"
     ]
    }
   ],
   "source": [
    "matches.printSchema()"
   ]
  },
  {
   "cell_type": "code",
   "execution_count": 30,
   "metadata": {},
   "outputs": [
    {
     "data": {
      "text/plain": [
       "(14, 2450)"
      ]
     },
     "execution_count": 30,
     "metadata": {},
     "output_type": "execute_result"
    }
   ],
   "source": [
    "# Number of features and rows\n",
    "len(matches.columns), matches.count()"
   ]
  },
  {
   "cell_type": "code",
   "execution_count": 31,
   "metadata": {},
   "outputs": [
    {
     "name": "stdout",
     "output_type": "stream",
     "text": [
      "+--------+----------+----------------------------+------+---------+---------+----------+----------+----------+-----------------+-----------------------+-----------------------------+------------------------------+------------------------------+\n",
      "|match_id|match_date|competition                 |season|home_team|away_team|home_score|away_score|match_week|competition_stage|stadium                |referee                      |home_managers                 |away_managers                 |\n",
      "+--------+----------+----------------------------+------+---------+---------+----------+----------+----------+-----------------+-----------------------+-----------------------------+------------------------------+------------------------------+\n",
      "|3943077 |2024-07-15|South America - Copa America|2024  |Argentina|Colombia |1         |0         |6         |Final            |Hard Rock Stadium      |Raphael Claus                |Lionel Sebastián Scaloni      |Néstor Gabriel Lorenzo        |\n",
      "|3943076 |2024-07-14|South America - Copa America|2024  |Canada   |Uruguay  |2         |2         |6         |3rd Place Final  |Bank of America Stadium|Alexis Herrera               |Jesse Marsch                  |Marcelo Alberto Bielsa Caldera|\n",
      "|3942852 |2024-07-11|South America - Copa America|2024  |Uruguay  |Colombia |0         |1         |5         |Semi-finals      |Bank of America Stadium|César Arturo Ramos Palazuelos|Marcelo Alberto Bielsa Caldera|Néstor Gabriel Lorenzo        |\n",
      "|3942785 |2024-07-10|South America - Copa America|2024  |Argentina|Canada   |2         |0         |5         |Semi-finals      |MetLife Stadium        |Piero Maza Gomez             |Lionel Sebastián Scaloni      |Jesse Marsch                  |\n",
      "|3942416 |2024-07-07|South America - Copa America|2024  |Colombia |Panama   |5         |0         |4         |Quarter-finals   |State Farm Stadium     |Maurizio Mariani             |Néstor Gabriel Lorenzo        |Thomas Christiansen Tarín     |\n",
      "+--------+----------+----------------------------+------+---------+---------+----------+----------+----------+-----------------+-----------------------+-----------------------------+------------------------------+------------------------------+\n",
      "only showing top 5 rows\n",
      "\n"
     ]
    }
   ],
   "source": [
    "matches.show(5,truncate=False)"
   ]
  },
  {
   "cell_type": "code",
   "execution_count": 32,
   "metadata": {},
   "outputs": [
    {
     "name": "stdout",
     "output_type": "stream",
     "text": [
      "+----------------------------------------------+-----+\n",
      "|competition                                   |count|\n",
      "+----------------------------------------------+-----+\n",
      "|Europe - Champions League                     |5    |\n",
      "|United States of America - Major League Soccer|6    |\n",
      "|South America - Copa America                  |32   |\n",
      "|Africa - African Cup of Nations               |52   |\n",
      "|Europe - UEFA Euro                            |102  |\n",
      "|International - FIFA World Cup                |128  |\n",
      "|Germany - 1. Bundesliga                       |340  |\n",
      "|Italy - Serie A                               |380  |\n",
      "|England - Premier League                      |380  |\n",
      "|France - Ligue 1                              |435  |\n",
      "|Spain - La Liga                               |590  |\n",
      "+----------------------------------------------+-----+\n",
      "\n"
     ]
    }
   ],
   "source": [
    "# Number of matches per competition\n",
    "matches.groupBy('competition').count().orderBy('count').show(28,False)"
   ]
  },
  {
   "cell_type": "code",
   "execution_count": 33,
   "metadata": {},
   "outputs": [
    {
     "name": "stdout",
     "output_type": "stream",
     "text": [
      "+----------+----------+\n",
      "|home_score|away_score|\n",
      "+----------+----------+\n",
      "|     1.539|     1.198|\n",
      "+----------+----------+\n",
      "\n"
     ]
    }
   ],
   "source": [
    "matches.groupBy().avg('home_score','away_score') \\\n",
    "    .withColumn('home_score',round(col('avg(home_score)'),3)) \\\n",
    "    .withColumn('away_score',round(col('avg(away_score)'),3)) \\\n",
    "    .drop('avg(home_score)','avg(away_score)') \\\n",
    ".show()"
   ]
  },
  {
   "cell_type": "markdown",
   "metadata": {},
   "source": [
    "### Lineups"
   ]
  },
  {
   "cell_type": "code",
   "execution_count": 34,
   "metadata": {},
   "outputs": [],
   "source": [
    "lineups = spark.read.csv('/home/aniss/xG-model/Data/lineups.csv', header=True, inferSchema=True)"
   ]
  },
  {
   "cell_type": "code",
   "execution_count": 35,
   "metadata": {},
   "outputs": [
    {
     "name": "stdout",
     "output_type": "stream",
     "text": [
      "root\n",
      " |-- player_id: integer (nullable = true)\n",
      " |-- player_name: string (nullable = true)\n",
      " |-- player_nickname: string (nullable = true)\n",
      " |-- jersey_number: integer (nullable = true)\n",
      " |-- country: string (nullable = true)\n",
      " |-- cards: string (nullable = true)\n",
      " |-- positions: string (nullable = true)\n",
      "\n"
     ]
    }
   ],
   "source": [
    "lineups.printSchema()"
   ]
  },
  {
   "cell_type": "code",
   "execution_count": 36,
   "metadata": {},
   "outputs": [
    {
     "data": {
      "text/plain": [
       "(7, 95630)"
      ]
     },
     "execution_count": 36,
     "metadata": {},
     "output_type": "execute_result"
    }
   ],
   "source": [
    "# Number of features and rows\n",
    "len(lineups.columns), lineups.count()"
   ]
  },
  {
   "cell_type": "code",
   "execution_count": 37,
   "metadata": {},
   "outputs": [
    {
     "name": "stdout",
     "output_type": "stream",
     "text": [
      "+---------+-------------------------------+------------------+-------------+---------+----------------------------------------------------------------------------------------+---------------------------------------------------------------------------------------------------------------------------------------------------------------------------------------------------------------------------------------------------------------------------------------------------------------------------------------------------------------------------------------------------------------------------------------------------------------------------------------------------------------------------------------------------------------------------------------------------------------------------+\n",
      "|player_id|player_name                    |player_nickname   |jersey_number|country  |cards                                                                                   |positions                                                                                                                                                                                                                                                                                                                                                                                                                                                                                                                                                                                                                  |\n",
      "+---------+-------------------------------+------------------+-------------+---------+----------------------------------------------------------------------------------------+---------------------------------------------------------------------------------------------------------------------------------------------------------------------------------------------------------------------------------------------------------------------------------------------------------------------------------------------------------------------------------------------------------------------------------------------------------------------------------------------------------------------------------------------------------------------------------------------------------------------------+\n",
      "|2995     |Ángel Fabián Di María Hernández|Ángel Di María    |11           |Argentina|[]                                                                                      |[{'position_id': 12, 'position': 'Right Midfield', 'from': '00:00', 'to': '116:15', 'from_period': 1, 'to_period': 4, 'start_reason': 'Starting XI', 'end_reason': 'Substitution - Off (Tactical)'}, {'position_id': 16, 'position': 'Left Midfield', 'from': '16:08', 'to': '66:26', 'from_period': 1, 'to_period': 2, 'start_reason': 'Tactical Shift', 'end_reason': 'Tactical Shift'}, {'position_id': 12, 'position': 'Right Midfield', 'from': '66:26', 'to': None, 'from_period': 2, 'to_period': None, 'start_reason': 'Tactical Shift', 'end_reason': 'Final Whistle'}]                                           |\n",
      "|3090     |Nicolás Hernán Otamendi        |Nicolás Otamendi  |19           |Argentina|[]                                                                                      |[{'position_id': 12, 'position': 'Right Midfield', 'from': '116:15', 'to': '116:37', 'from_period': 4, 'to_period': 4, 'start_reason': 'Substitution - On (Tactical)', 'end_reason': 'Tactical Shift'}, {'position_id': 4, 'position': 'Center Back', 'from': '116:37', 'to': None, 'from_period': 4, 'to_period': None, 'start_reason': 'Tactical Shift', 'end_reason': 'Final Whistle'}]                                                                                                                                                                                                                                 |\n",
      "|3313     |Giovani Lo Celso               |NULL              |16           |Argentina|[{'time': '11:26', 'card_type': 'Yellow Card', 'reason': 'Foul Committed', 'period': 4}]|[{'position_id': 11, 'position': 'Left Defensive Midfield', 'from': '116:37', 'to': '96:47', 'from_period': 4, 'to_period': 3, 'start_reason': 'Tactical Shift', 'end_reason': 'Tactical Shift'}, {'position_id': 15, 'position': 'Left Center Midfield', 'from': '96:47', 'to': '96:47', 'from_period': 3, 'to_period': 3, 'start_reason': 'Tactical Shift', 'end_reason': 'Substitution - On (Tactical)'}, {'position_id': 10, 'position': 'Center Defensive Midfield', 'from': '96:47', 'to': None, 'from_period': 3, 'to_period': None, 'start_reason': 'Substitution - On (Tactical)', 'end_reason': 'Final Whistle'}]|\n",
      "|5503     |Lionel Andrés Messi Cuccittini |Lionel Messi      |10           |Argentina|[]                                                                                      |[{'position_id': 22, 'position': 'Right Center Forward', 'from': '00:00', 'to': '37:29', 'from_period': 1, 'to_period': 1, 'start_reason': 'Starting XI', 'end_reason': 'Player Off'}, {'position_id': 22, 'position': 'Right Center Forward', 'from': '38:01', 'to': '65:49', 'from_period': 1, 'to_period': 2, 'start_reason': 'Player On', 'end_reason': 'Substitution - Off (Injury)'}]                                                                                                                                                                                                                                |\n",
      "|5507     |Nicolás Alejandro Tagliafico   |Nicolás Tagliafico|3            |Argentina|[]                                                                                      |[{'position_id': 6, 'position': 'Left Back', 'from': '00:00', 'to': '116:37', 'from_period': 1, 'to_period': 4, 'start_reason': 'Starting XI', 'end_reason': 'Tactical Shift'}, {'position_id': 8, 'position': 'Left Wing Back', 'from': '116:37', 'to': '16:08', 'from_period': 4, 'to_period': 1, 'start_reason': 'Tactical Shift', 'end_reason': 'Tactical Shift'}, {'position_id': 6, 'position': 'Left Back', 'from': '16:08', 'to': None, 'from_period': 1, 'to_period': None, 'start_reason': 'Tactical Shift', 'end_reason': 'Final Whistle'}]                                                                     |\n",
      "+---------+-------------------------------+------------------+-------------+---------+----------------------------------------------------------------------------------------+---------------------------------------------------------------------------------------------------------------------------------------------------------------------------------------------------------------------------------------------------------------------------------------------------------------------------------------------------------------------------------------------------------------------------------------------------------------------------------------------------------------------------------------------------------------------------------------------------------------------------+\n",
      "only showing top 5 rows\n",
      "\n"
     ]
    }
   ],
   "source": [
    "lineups.show(5,truncate=False)"
   ]
  }
 ],
 "metadata": {
  "kernelspec": {
   "display_name": "myenv",
   "language": "python",
   "name": "python3"
  },
  "language_info": {
   "codemirror_mode": {
    "name": "ipython",
    "version": 3
   },
   "file_extension": ".py",
   "mimetype": "text/x-python",
   "name": "python",
   "nbconvert_exporter": "python",
   "pygments_lexer": "ipython3",
   "version": "3.12.3"
  }
 },
 "nbformat": 4,
 "nbformat_minor": 2
}
