{
 "cells": [
  {
   "cell_type": "code",
   "execution_count": 1,
   "metadata": {},
   "outputs": [],
   "source": [
    "from pyspark.sql import SparkSession"
   ]
  },
  {
   "cell_type": "code",
   "execution_count": 3,
   "metadata": {},
   "outputs": [
    {
     "name": "stderr",
     "output_type": "stream",
     "text": [
      "your 131072x1 screen size is bogus. expect trouble\n",
      "Setting default log level to \"WARN\".\n",
      "To adjust logging level use sc.setLogLevel(newLevel). For SparkR, use setLogLevel(newLevel).\n",
      "24/12/23 11:17:22 WARN NativeCodeLoader: Unable to load native-hadoop library for your platform... using builtin-java classes where applicable\n"
     ]
    }
   ],
   "source": [
    "spark = SparkSession.builder.appName(\"trying\").getOrCreate()"
   ]
  },
  {
   "cell_type": "code",
   "execution_count": 4,
   "metadata": {},
   "outputs": [
    {
     "name": "stderr",
     "output_type": "stream",
     "text": [
      "                                                                                \r"
     ]
    }
   ],
   "source": [
    "events = spark.read.csv('Data/events.csv', header=True, inferSchema=True,sep=';')"
   ]
  },
  {
   "cell_type": "code",
   "execution_count": 5,
   "metadata": {},
   "outputs": [],
   "source": [
    "import pp_events as pp"
   ]
  },
  {
   "cell_type": "code",
   "execution_count": 6,
   "metadata": {},
   "outputs": [],
   "source": [
    "events_shot = pp.preprocessing(events)"
   ]
  },
  {
   "cell_type": "code",
   "execution_count": 7,
   "metadata": {},
   "outputs": [
    {
     "name": "stderr",
     "output_type": "stream",
     "text": [
      "[Stage 3:======================================================>  (54 + 2) / 56]\r"
     ]
    },
    {
     "name": "stdout",
     "output_type": "stream",
     "text": [
      "+--------------------+---------+---------------+---------------+----------------+----------+-------------------+--------------+---------------+---------------+---------------+--------------+--------------------+-----------------+------------+----+\n",
      "|                  id|player_id|shot_location_x|shot_location_y|distance_to_goal|shot_angle|preferred_foot_shot|under_pressure|shot_aerial_won|shot_first_time|shot_one_on_one|shot_open_goal|shot_follows_dribble|shot_statsbomb_xg|shot_outcome|goal|\n",
      "+--------------------+---------+---------------+---------------+----------------+----------+-------------------+--------------+---------------+---------------+---------------+--------------+--------------------+-----------------+------------+----+\n",
      "|c7168289-8ba6-427...|  30111.0|          111.6|           34.7|          9.9323| 39.113426|                  0|             1|              1|              0|              0|             0|                   0|       0.05332383|       Off T|   0|\n",
      "|aa63a139-1d8c-4dd...|  30111.0|          115.6|           43.0|          5.3254| 70.651955|                  0|             1|              1|              0|              0|             0|                   0|       0.15510525|     Wayward|   0|\n",
      "|b1474d8b-c03e-4d0...|   9923.0|           94.3|           46.3|         26.4609| 16.725826|                  1|             0|              0|              0|              0|             0|                   0|      0.041628048|       Saved|   0|\n",
      "|8a18e540-326f-4b9...|  30111.0|          107.9|           33.1|         13.9291|  28.53554|                  0|             0|              0|              0|              0|             0|                   0|      0.033826087|       Off T|   0|\n",
      "|7f86d2d6-2bc3-4a1...|  30111.0|          107.5|           44.2|         13.1867|  32.34822|                  0|             0|              0|              0|              0|             0|                   0|       0.02513541|     Blocked|   0|\n",
      "|ff7f0e8d-85a2-45a...|  30111.0|          113.4|           38.6|          6.7468| 60.790848|                  0|             1|              1|              0|              0|             0|                   0|        0.1949902|       Off T|   0|\n",
      "|c94defec-ca55-46b...|   9923.0|          100.5|           49.1|         21.5188| 19.236254|                  1|             0|              0|              1|              0|             0|                   0|      0.035685007|     Blocked|   0|\n",
      "|b5f2c98d-3977-4b8...|   6765.0|           87.6|           30.5|          33.764| 12.985569|                  1|             0|              0|              0|              0|             0|                   0|      0.016834991|     Blocked|   0|\n",
      "|c232da62-d73c-42a...|   6765.0|          102.1|           36.2|         18.2989| 24.185514|                  0|             0|              0|              0|              0|             0|                   0|       0.06652527|        Goal|   1|\n",
      "|1d97705a-c416-42e...|   6765.0|          106.0|           40.5|         14.0089| 31.855133|                  0|             0|              0|              0|              0|             0|                   0|      0.033381354|       Off T|   0|\n",
      "|d0c1d3ff-46c0-4ce...|  41186.0|           96.6|           62.0|         32.1179| 10.444196|                  1|             1|              0|              0|              0|             0|                   0|      0.008626999|       Saved|   0|\n",
      "|e54c553b-cd57-4ac...|   6765.0|           83.3|           37.9|           36.76| 12.400625|                  1|             0|              0|              0|              0|             0|                   0|     0.0063212407|       Off T|   0|\n",
      "|162e7e2d-d0fb-4b3...|   6765.0|           99.7|           38.8|         20.3354| 22.221123|                  1|             0|              0|              1|              0|             0|                   0|       0.06796482|     Blocked|   0|\n",
      "|d928cc41-eaf8-499...|  41186.0|           92.7|           55.5|         31.3933| 12.694641|                  1|             0|              0|              0|              0|             0|                   0|      0.013309195|     Blocked|   0|\n",
      "|31d37a3c-feec-440...|  41186.0|          106.8|           57.6|            22.0| 12.715338|                  1|             0|              0|              0|              0|             0|                   0|      0.014936902|     Blocked|   0|\n",
      "|3797f9c4-5da2-4db...|  41186.0|           93.3|           50.5|         28.6904| 14.822852|                  1|             1|              0|              0|              0|             0|                   0|      0.023186801|       Off T|   0|\n",
      "|9fdb917e-438e-486...|  12493.0|          113.8|           41.6|          6.4031|  63.25045|                  1|             0|              0|              0|              0|             0|                   0|        0.4451365|        Goal|   1|\n",
      "|e83e3269-f256-412...|  12493.0|           95.3|           42.6|         24.8365| 18.204353|                  1|             0|              0|              0|              0|             0|                   0|       0.04481905|       Off T|   0|\n",
      "|93bdd195-7955-49c...| 154895.0|          105.5|           33.8|         15.7699|  26.49705|                  1|             0|              0|              1|              0|             0|                   0|       0.06438721|       Off T|   0|\n",
      "|c42d2458-1584-478...|   6983.0|           94.4|           42.5|         25.7218| 17.600037|                  1|             0|              0|              0|              0|             0|                   0|      0.029872663|     Blocked|   0|\n",
      "+--------------------+---------+---------------+---------------+----------------+----------+-------------------+--------------+---------------+---------------+---------------+--------------+--------------------+-----------------+------------+----+\n",
      "only showing top 20 rows\n",
      "\n"
     ]
    },
    {
     "name": "stderr",
     "output_type": "stream",
     "text": [
      "                                                                                \r"
     ]
    }
   ],
   "source": [
    "events_shot.show()"
   ]
  },
  {
   "cell_type": "code",
   "execution_count": 8,
   "metadata": {},
   "outputs": [],
   "source": [
    "#features = ['distance_to_goal', 'shot_angle', 'preferred_foot_shot', 'under_pressure']\n",
    "features = ['shot_location_x', 'shot_location_y','distance_to_goal', 'shot_angle', 'preferred_foot_shot', 'under_pressure',\n",
    "            'shot_aerial_won','shot_first_time','shot_one_on_one','shot_open_goal','shot_follows_dribble']\n",
    "target = ['goal']"
   ]
  },
  {
   "cell_type": "code",
   "execution_count": 9,
   "metadata": {},
   "outputs": [],
   "source": [
    "from pyspark.ml.feature import VectorAssembler\n",
    "\n",
    "# Define the assembler\n",
    "feature_assembler = VectorAssembler(inputCols=features, outputCol=\"features_vector\")\n",
    "\n",
    "# Transform the dataset\n",
    "assembled_data = feature_assembler.transform(events_shot)"
   ]
  },
  {
   "cell_type": "code",
   "execution_count": 10,
   "metadata": {},
   "outputs": [],
   "source": [
    "train_data, test_data = assembled_data.randomSplit([0.8, 0.2], seed=42)"
   ]
  },
  {
   "cell_type": "code",
   "execution_count": 11,
   "metadata": {},
   "outputs": [],
   "source": [
    "from pyspark.ml.classification import LogisticRegression\n",
    "\n",
    "# Define the logistic regression model\n",
    "log_reg = LogisticRegression(featuresCol=\"features_vector\", labelCol=\"goal\", maxIter=10)"
   ]
  },
  {
   "cell_type": "code",
   "execution_count": 12,
   "metadata": {},
   "outputs": [],
   "source": [
    "from pyspark.ml import Pipeline\n",
    "\n",
    "# Create the pipeline\n",
    "pipeline = Pipeline(stages=[log_reg])"
   ]
  },
  {
   "cell_type": "code",
   "execution_count": 13,
   "metadata": {},
   "outputs": [
    {
     "name": "stderr",
     "output_type": "stream",
     "text": [
      "24/12/23 11:19:48 WARN InstanceBuilder: Failed to load implementation from:dev.ludovic.netlib.blas.JNIBLAS\n",
      "                                                                                \r"
     ]
    }
   ],
   "source": [
    "xg_model = pipeline.fit(train_data)"
   ]
  },
  {
   "cell_type": "code",
   "execution_count": 14,
   "metadata": {},
   "outputs": [
    {
     "name": "stderr",
     "output_type": "stream",
     "text": [
      "                                                                                \r"
     ]
    },
    {
     "name": "stdout",
     "output_type": "stream",
     "text": [
      "ROC-AUC: 0.7839940271104228\n"
     ]
    }
   ],
   "source": [
    "# Make predictions\n",
    "predictions = xg_model.transform(test_data)\n",
    "\n",
    "# Evaluate using BinaryClassificationEvaluator\n",
    "from pyspark.ml.evaluation import BinaryClassificationEvaluator\n",
    "\n",
    "evaluator = BinaryClassificationEvaluator(labelCol=\"goal\", rawPredictionCol=\"rawPrediction\")\n",
    "roc_auc = evaluator.evaluate(predictions)\n",
    "print(f\"ROC-AUC: {roc_auc}\")"
   ]
  },
  {
   "cell_type": "code",
   "execution_count": 15,
   "metadata": {},
   "outputs": [
    {
     "name": "stderr",
     "output_type": "stream",
     "text": [
      "[Stage 80:====================================================>   (52 + 4) / 56]\r"
     ]
    },
    {
     "name": "stdout",
     "output_type": "stream",
     "text": [
      "+------------------------------------+---------+---------------+---------------+----------------+----------+-------------------+--------------+---------------+---------------+---------------+--------------+--------------------+-----------------+------------+----+--------------------------------------------------------------------------------------------+----------------------------------------+-----------------------------------------+----------+\n",
      "|id                                  |player_id|shot_location_x|shot_location_y|distance_to_goal|shot_angle|preferred_foot_shot|under_pressure|shot_aerial_won|shot_first_time|shot_one_on_one|shot_open_goal|shot_follows_dribble|shot_statsbomb_xg|shot_outcome|goal|features_vector                                                                             |rawPrediction                           |probability                              |prediction|\n",
      "+------------------------------------+---------+---------------+---------------+----------------+----------+-------------------+--------------+---------------+---------------+---------------+--------------+--------------------+-----------------+------------+----+--------------------------------------------------------------------------------------------+----------------------------------------+-----------------------------------------+----------+\n",
      "|0003d15d-08d9-4b69-87c7-bd835c75f9c0|31955.0  |113.4          |48.8           |11.0            |26.695866 |1                  |0             |0              |1              |0              |0             |0                   |0.10166888       |Blocked     |0   |(11,[0,1,2,3,4,7],[113.4000015258789,48.79999923706055,11.0,26.695865631103516,1.0,1.0])    |[1.4621776506320465,-1.4621776506320465]|[0.8118655148388887,0.1881344851611113]  |0.0       |\n",
      "|0034dfb1-6265-41df-92a1-bb0ba058776a|7044.0   |108.1          |45.9           |13.2823         |30.686678 |1                  |0             |0              |1              |0              |0             |0                   |0.064399794      |Goal        |1   |(11,[0,1,2,3,4,7],[108.0999984741211,45.900001525878906,13.2823,30.686677932739258,1.0,1.0])|[1.5117665089598091,-1.5117665089598091]|[0.8193228558409947,0.18067714415900527] |0.0       |\n",
      "|00422045-1c94-4e27-a6eb-fd77a38e3389|7713.0   |112.9          |50.6           |12.7581         |21.156445 |0                  |0             |0              |0              |0              |0             |0                   |0.033228997      |Off T       |0   |(11,[0,1,2,3],[112.9000015258789,50.599998474121094,12.7581,21.156444549560547])            |[2.5033247809943884,-2.5033247809943884]|[0.9243745710481641,0.07562542895183588] |0.0       |\n",
      "|005f46c3-b528-4a6e-9126-43bad82e9fa7|5668.0   |102.3          |39.2           |17.7181         |25.420784 |1                  |0             |0              |0              |0              |0             |0                   |0.0447311        |Blocked     |0   |(11,[0,1,2,3,4],[102.30000305175781,39.20000076293945,17.7181,25.42078399658203,1.0])       |[1.7195138425583405,-1.7195138425583405]|[0.8480662055968604,0.1519337944031396]  |0.0       |\n",
      "|00884bad-476f-4c63-a7d7-db5029772bde|31866.0  |111.1          |39.6           |8.909           |48.330013 |0                  |1             |0              |1              |0              |0             |0                   |0.10890295       |Off T       |0   |(11,[0,1,2,3,5,7],[111.0999984741211,39.599998474121094,8.909,48.330013275146484,1.0,1.0])  |[1.6248256248575164,-1.6248256248575164]|[0.8354595676990928,0.1645404323009072]  |0.0       |\n",
      "|00a1a5ee-157c-4457-9f4b-ed3f5289823c|2988.0   |111.2          |25.1           |17.3046         |13.948223 |1                  |0             |0              |0              |0              |0             |0                   |0.03492738       |Blocked     |0   |(11,[0,1,2,3,4],[111.19999694824219,25.100000381469727,17.3046,13.948223114013672,1.0])     |[2.333515336256662,-2.333515336256662]  |[0.9116149884315574,0.08838501156844258] |0.0       |\n",
      "|00be925a-26d1-4191-841d-bb319ca74efd|5177.0   |98.9           |41.7           |21.1684         |21.33812  |1                  |0             |0              |0              |0              |0             |0                   |0.0638635        |Off T       |0   |(11,[0,1,2,3,4],[98.9000015258789,41.70000076293945,21.1684,21.338119506835938,1.0])        |[2.274172020085862,-2.274172020085862]  |[0.9067152677286868,0.09328473227131318] |0.0       |\n",
      "|00d112f2-f780-403c-8fe8-2324a91632cf|3009.0   |113.0          |30.9           |11.4809         |25.806118 |0                  |0             |0              |1              |0              |0             |0                   |0.24384445       |Wayward     |0   |(11,[0,1,2,3,7],[113.0,30.899999618530273,11.4809,25.80611801147461,1.0])                   |[2.4490691224854046,-2.4490691224854046]|[0.9204933508880101,0.0795066491119899]  |0.0       |\n",
      "|00f53aeb-19e1-4a97-8826-45cf676596bd|3500.0   |100.2          |31.8           |21.4308         |19.663647 |1                  |0             |0              |0              |0              |0             |0                   |0.033889998      |Blocked     |0   |(11,[0,1,2,3,4],[100.19999694824219,31.799999237060547,21.4308,19.663646697998047,1.0])     |[2.39612878713514,-2.39612878713514]    |[0.9165316274310324,0.08346837256896755] |0.0       |\n",
      "|00fab7fe-5cc3-4e04-a09c-4e1d3218e6cc|3009.0   |101.0          |36.2           |19.3763         |22.922531 |1                  |0             |0              |0              |1              |0             |0                   |0.30627033       |Goal        |1   |(11,[0,1,2,3,4,8],[101.0,36.20000076293945,19.3763,22.922531127929688,1.0,1.0])             |[1.5808254548757787,-1.5808254548757787]|[0.8293213907509865,0.17067860924901346] |0.0       |\n",
      "|01080aff-5051-419a-9a54-f6d4611986be|16554.0  |103.5          |26.4           |21.3825         |16.655987 |1                  |0             |0              |0              |0              |0             |0                   |0.038757622      |Blocked     |0   |(11,[0,1,2,3,4],[103.5,26.399999618530273,21.3825,16.655986785888672,1.0])                  |[2.6305168428312484,-2.6305168428312484]|[0.932799954539184,0.06720004546081604]  |0.0       |\n",
      "|012e1021-c62e-4692-b9e2-ccedd99f2084|5503.0   |88.9           |46.7           |31.8135         |14.024062 |1                  |0             |0              |0              |0              |0             |0                   |0.030633146      |Blocked     |0   |(11,[0,1,2,3,4],[88.9000015258789,46.70000076293945,31.8135,14.024062156677246,1.0])        |[3.944559976716219,-3.944559976716219]  |[0.9810079478342812,0.018992052165718754]|0.0       |\n",
      "|0138d3f2-c27f-4645-bd8d-a417bb4498f6|6840.0   |109.1          |50.5           |15.1347         |22.258028 |1                  |0             |0              |1              |0              |0             |0                   |0.14917432       |Blocked     |0   |(11,[0,1,2,3,4,7],[109.0999984741211,50.5,15.1347,22.258028030395508,1.0,1.0])              |[2.0994077111129616,-2.0994077111129616]|[0.8908455981310224,0.10915440186897762] |0.0       |\n",
      "|01625d8c-0bc2-4f58-85e1-26de796cc9f1|7131.0   |100.2          |53.6           |24.0208         |15.767182 |1                  |0             |0              |0              |0              |0             |0                   |0.020045038      |Blocked     |0   |(11,[0,1,2,3,4],[100.19999694824219,53.599998474121094,24.0208,15.767182350158691,1.0])     |[3.096145948351877,-3.096145948351877]  |[0.9567334889722371,0.04326651102776291] |0.0       |\n",
      "|019e5bc7-ba5c-4df0-82e1-cc75e4afc92f|28239.0  |111.4          |36.5           |9.2849          |44.418865 |1                  |0             |0              |1              |0              |0             |0                   |0.6657846        |Goal        |1   |(11,[0,1,2,3,4,7],[111.4000015258789,36.5,9.2849,44.41886520385742,1.0,1.0])                |[0.6862196036388344,-0.6862196036388344]|[0.6651254317886002,0.3348745682113998]  |0.0       |\n",
      "|01e6b09a-3f9a-444c-adef-db7e2b19b1ab|10592.0  |86.8           |56.4           |37.0297         |11.088614 |1                  |0             |0              |0              |0              |0             |0                   |0.0058683082     |Blocked     |0   |(11,[0,1,2,3,4],[86.80000305175781,56.400001525878906,37.0297,11.088614463806152,1.0])      |[4.987624167143844,-4.987624167143844]  |[0.9932243695176991,0.006775630482300898]|0.0       |\n",
      "|02093e93-bce9-450f-83db-a17cf7a19b0a|16532.0  |108.0          |41.3           |12.0702         |36.509834 |1                  |0             |0              |1              |0              |0             |0                   |0.23812428       |Saved       |0   |(11,[0,1,2,3,4,7],[108.0,41.29999923706055,12.0702,36.50983428955078,1.0,1.0])              |[1.1554750092090131,-1.1554750092090131]|[0.7605095283947135,0.23949047160528647] |0.0       |\n",
      "|02a8440e-273a-4be1-b1db-b2dbaea46d1d|50429.0  |105.7          |34.1           |15.4693         |27.12675  |0                  |0             |0              |0              |1              |0             |0                   |0.05916012       |Off T       |0   |(11,[0,1,2,3,8],[105.69999694824219,34.099998474121094,15.4693,27.126750946044922,1.0])     |[2.006916709243548,-2.006916709243548]  |[0.8815213774875256,0.11847862251247443] |0.0       |\n",
      "|02fe4aff-e62f-4ce8-95e5-30bb9d395865|3289.0   |109.4          |38.9           |10.6569         |40.994553 |1                  |1             |0              |0              |0              |0             |0                   |0.1279859        |Blocked     |0   |(11,[0,1,2,3,4,5],[109.4000015258789,38.900001525878906,10.6569,40.99455261230469,1.0,1.0]) |[0.6174766544530836,-0.6174766544530836]|[0.6496444357097474,0.3503555642902526]  |0.0       |\n",
      "|03109422-9d23-4d8a-94bf-482e8d7d30d7|7753.0   |100.4          |19.8           |28.146          |11.420612 |1                  |0             |0              |0              |0              |0             |0                   |0.012813172      |Blocked     |0   |(11,[0,1,2,3,4],[100.4000015258789,19.799999237060547,28.146,11.420612335205078,1.0])       |[3.883983118122858,-3.883983118122858]  |[0.9798458120299832,0.02015418797001678] |0.0       |\n",
      "+------------------------------------+---------+---------------+---------------+----------------+----------+-------------------+--------------+---------------+---------------+---------------+--------------+--------------------+-----------------+------------+----+--------------------------------------------------------------------------------------------+----------------------------------------+-----------------------------------------+----------+\n",
      "only showing top 20 rows\n",
      "\n"
     ]
    },
    {
     "name": "stderr",
     "output_type": "stream",
     "text": [
      "                                                                                \r"
     ]
    }
   ],
   "source": [
    "predictions.show(truncate=False)"
   ]
  },
  {
   "cell_type": "code",
   "execution_count": 16,
   "metadata": {},
   "outputs": [
    {
     "name": "stderr",
     "output_type": "stream",
     "text": [
      "                                                                                \r"
     ]
    },
    {
     "name": "stdout",
     "output_type": "stream",
     "text": [
      "+-----------------+----------------+-------------+--------------+\n",
      "|shot_statsbomb_xg|goal_probability|difference   |difference_abs|\n",
      "+-----------------+----------------+-------------+--------------+\n",
      "|0.10166888       |0.1881344852    |-0.0864656052|0.0864656052  |\n",
      "|0.064399794      |0.1806771442    |-0.1162773502|0.1162773502  |\n",
      "|0.033228997      |0.0756254290    |-0.0423964320|0.042396432   |\n",
      "|0.0447311        |0.1519337944    |-0.1072026944|0.1072026944  |\n",
      "|0.10890295       |0.1645404323    |-0.0556374823|0.0556374823  |\n",
      "|0.03492738       |0.0883850116    |-0.0534576316|0.0534576316  |\n",
      "|0.0638635        |0.0932847323    |-0.0294212323|0.0294212323  |\n",
      "|0.24384445       |0.0795066491    |0.1643378009 |0.1643378009  |\n",
      "|0.033889998      |0.0834683726    |-0.0495783746|0.0495783746  |\n",
      "|0.30627033       |0.1706786092    |0.1355917208 |0.1355917208  |\n",
      "|0.038757622      |0.0672000455    |-0.0284424235|0.0284424235  |\n",
      "|0.030633146      |0.0189920522    |0.0116410938 |0.0116410938  |\n",
      "|0.14917432       |0.1091544019    |0.0400199181 |0.0400199181  |\n",
      "|0.020045038      |0.0432665110    |-0.0232214730|0.023221473   |\n",
      "|0.6657846        |0.3348745682    |0.3309100318 |0.3309100318  |\n",
      "|0.0058683082     |0.0067756305    |-0.0009073223|9.073223E-4   |\n",
      "|0.23812428       |0.2394904716    |-0.0013661916|0.0013661916  |\n",
      "|0.05916012       |0.1184786225    |-0.0593185025|0.0593185025  |\n",
      "|0.1279859        |0.3503555643    |-0.2223696643|0.2223696643  |\n",
      "|0.012813172      |0.0201541880    |-0.0073410160|0.007341016   |\n",
      "|0.02151223       |0.0430992843    |-0.0215870543|0.0215870543  |\n",
      "|0.06724297       |0.0521920338    |0.0150509362 |0.0150509362  |\n",
      "|0.029731669      |0.0544166539    |-0.0246849849|0.0246849849  |\n",
      "|0.051667962      |0.2127567115    |-0.1610887495|0.1610887495  |\n",
      "|0.09601528       |0.0390678072    |0.0569474728 |0.0569474728  |\n",
      "|0.1017027        |0.0868832613    |0.0148194387 |0.0148194387  |\n",
      "|0.10089645       |0.2495813223    |-0.1486848723|0.1486848723  |\n",
      "|0.40624824       |0.3252551355    |0.0809931045 |0.0809931045  |\n",
      "|0.9197092        |0.8405638578    |0.0791453422 |0.0791453422  |\n",
      "|0.037127987      |0.0788593902    |-0.0417314032|0.0417314032  |\n",
      "|0.042003106      |0.0685722889    |-0.0265691829|0.0265691829  |\n",
      "|0.005797327      |0.0108507542    |-0.0050534272|0.0050534272  |\n",
      "|0.038893897      |0.0163369557    |0.0225569413 |0.0225569413  |\n",
      "|0.039883997      |0.0360658841    |0.0038181129 |0.0038181129  |\n",
      "|0.07904518       |0.1397249044    |-0.0606797244|0.0606797244  |\n",
      "|0.17775308       |0.3573678008    |-0.1796147208|0.1796147208  |\n",
      "|0.0057201087     |0.0142093167    |-0.0084892080|0.008489208   |\n",
      "|0.032908905      |0.1670977142    |-0.1341888092|0.1341888092  |\n",
      "|0.05367552       |0.0269250877    |0.0267504323 |0.0267504323  |\n",
      "|0.1552586        |0.2560202578    |-0.1007616578|0.1007616578  |\n",
      "|0.04749857       |0.2459925072    |-0.1984939372|0.1984939372  |\n",
      "|0.15561853       |0.2314776635    |-0.0758591335|0.0758591335  |\n",
      "|0.0223961        |0.0261199061    |-0.0037238061|0.0037238061  |\n",
      "|0.046085708      |0.0143629248    |0.0317227832 |0.0317227832  |\n",
      "|0.064310625      |0.1227405624    |-0.0584299374|0.0584299374  |\n",
      "|0.05727623       |0.1613040868    |-0.1040278568|0.1040278568  |\n",
      "|0.0481728        |0.0924997554    |-0.0443269554|0.0443269554  |\n",
      "|0.17660448       |0.2864992223    |-0.1098947423|0.1098947423  |\n",
      "|0.068262264      |0.0727409816    |-0.0044787176|0.0044787176  |\n",
      "|0.029703999      |0.0345380154    |-0.0048340164|0.0048340164  |\n",
      "+-----------------+----------------+-------------+--------------+\n",
      "only showing top 50 rows\n",
      "\n"
     ]
    }
   ],
   "source": [
    "from pyspark.sql.functions import col, udf, format_number, abs\n",
    "from pyspark.sql.types import DoubleType\n",
    "\n",
    "# Define a function to extract the probability of the goal (class 1)\n",
    "def extract_goal_probability(probability):\n",
    "    return float(probability[1])\n",
    "\n",
    "# Register the function as a UDF\n",
    "extract_goal_probability_udf = udf(extract_goal_probability, DoubleType())\n",
    "\n",
    "# Create a new column with the goal probability\n",
    "predictions_with_goal_prob = predictions.withColumn(\"goal_probability\", extract_goal_probability_udf(col(\"probability\")))\n",
    "\n",
    "# Format the goal_probability to remove scientific notation\n",
    "predictions_with_goal_prob = predictions_with_goal_prob.withColumn(\"goal_probability\", format_number(col(\"goal_probability\"), 10))\n",
    "\n",
    "# Add a new column showing the difference between shot_statsbomb_xg and goal_probability\n",
    "predictions_with_goal_prob = predictions_with_goal_prob.\\\n",
    "    withColumn(\"difference\", format_number(col(\"shot_statsbomb_xg\") - col(\"goal_probability\"),10))\n",
    "\n",
    "predictions_with_goal_prob = predictions_with_goal_prob.\\\n",
    "    withColumn(\"difference_abs\", abs(col('difference')))\n",
    "\n",
    "# Show the results\n",
    "predictions_with_goal_prob.select(\"shot_statsbomb_xg\", \"goal_probability\", \"difference\",'difference_abs').show(50,False)"
   ]
  },
  {
   "cell_type": "code",
   "execution_count": 18,
   "metadata": {},
   "outputs": [
    {
     "name": "stderr",
     "output_type": "stream",
     "text": [
      "                                                                                \r"
     ]
    },
    {
     "name": "stdout",
     "output_type": "stream",
     "text": [
      "Average difference: -0.005542601315472378\n"
     ]
    },
    {
     "name": "stderr",
     "output_type": "stream",
     "text": [
      "                                                                                \r"
     ]
    },
    {
     "name": "stdout",
     "output_type": "stream",
     "text": [
      "Abs average difference: 0.05229424852629077\n"
     ]
    }
   ],
   "source": [
    "# average of the difference\n",
    "from pyspark.sql.functions import avg\n",
    "\n",
    "avg_diff = predictions_with_goal_prob.select(avg(col(\"difference\"))).collect()[0][0]\n",
    "print(f\"Average difference: {avg_diff}\")\n",
    "\n",
    "abs_avg_diff = predictions_with_goal_prob.select(avg(col(\"difference_abs\"))).collect()[0][0]\n",
    "print(f\"Abs average difference: {abs_avg_diff}\")"
   ]
  },
  {
   "cell_type": "code",
   "execution_count": 22,
   "metadata": {},
   "outputs": [],
   "source": [
    "# Average difference    : -0.005542601315472378\n",
    "# Abs average difference:  0.05229424852629077"
   ]
  },
  {
   "cell_type": "code",
   "execution_count": 19,
   "metadata": {},
   "outputs": [
    {
     "name": "stderr",
     "output_type": "stream",
     "text": [
      "                                                                                \r"
     ]
    },
    {
     "name": "stdout",
     "output_type": "stream",
     "text": [
      "+----+------------------------+-------------------------+\n",
      "|goal|goal_probability_rounded|shot_statsbomb_xg_rounded|\n",
      "+----+------------------------+-------------------------+\n",
      "|   0|                     0.0|                      0.0|\n",
      "|   1|                     0.0|                      0.0|\n",
      "|   0|                     0.0|                      0.0|\n",
      "|   0|                     0.0|                      0.0|\n",
      "|   0|                     0.0|                      0.0|\n",
      "|   0|                     0.0|                      0.0|\n",
      "|   0|                     0.0|                      0.0|\n",
      "|   0|                     0.0|                      0.0|\n",
      "|   0|                     0.0|                      0.0|\n",
      "|   1|                     0.0|                      0.0|\n",
      "|   0|                     0.0|                      0.0|\n",
      "|   0|                     0.0|                      0.0|\n",
      "|   0|                     0.0|                      0.0|\n",
      "|   0|                     0.0|                      0.0|\n",
      "|   1|                     0.0|                      1.0|\n",
      "|   0|                     0.0|                      0.0|\n",
      "|   0|                     0.0|                      0.0|\n",
      "|   0|                     0.0|                      0.0|\n",
      "|   0|                     0.0|                      0.0|\n",
      "|   0|                     0.0|                      0.0|\n",
      "+----+------------------------+-------------------------+\n",
      "only showing top 20 rows\n",
      "\n"
     ]
    }
   ],
   "source": [
    "# round the goal_probability to 0 or 1, same for the shot_statsbomb_xg and compare with goal to check the accuracy of the model\n",
    "# vs the accuracy of the shot_statsbomb_xg model\n",
    "\n",
    "from pyspark.sql.functions import round\n",
    "\n",
    "predictions_with_goal_prob = predictions_with_goal_prob.withColumn(\"goal_probability_rounded\", round(col(\"goal_probability\")))\\\n",
    "    .withColumn(\"shot_statsbomb_xg_rounded\", round(col(\"shot_statsbomb_xg\")))\n",
    "\n",
    "predictions_with_goal_prob.select(\"goal\", \"goal_probability_rounded\", \"shot_statsbomb_xg_rounded\").show()"
   ]
  },
  {
   "cell_type": "code",
   "execution_count": 20,
   "metadata": {},
   "outputs": [
    {
     "name": "stderr",
     "output_type": "stream",
     "text": [
      "                                                                                \r"
     ]
    },
    {
     "name": "stdout",
     "output_type": "stream",
     "text": [
      "+----+-----+\n",
      "|goal|count|\n",
      "+----+-----+\n",
      "|   1| 1326|\n",
      "|   0|10857|\n",
      "+----+-----+\n",
      "\n"
     ]
    }
   ],
   "source": [
    "predictions_with_goal_prob.groupBy(\"goal\").count().show()"
   ]
  },
  {
   "cell_type": "code",
   "execution_count": 21,
   "metadata": {},
   "outputs": [],
   "source": [
    "from pyspark.sql.functions import col, when\n",
    "\n",
    "# Check if the rounded probability matches the actual goal for your model\n",
    "predictions_with_accuracy = predictions_with_goal_prob.withColumn(\n",
    "    \"model_correct\", when(col(\"goal\") == col(\"goal_probability_rounded\"), 1).otherwise(0)\n",
    ").withColumn(\n",
    "    \"statsbomb_correct\", when(col(\"goal\") == col(\"shot_statsbomb_xg_rounded\"), 1).otherwise(0)\n",
    ")"
   ]
  },
  {
   "cell_type": "code",
   "execution_count": 22,
   "metadata": {},
   "outputs": [
    {
     "name": "stderr",
     "output_type": "stream",
     "text": [
      "[Stage 152:====================================================>  (53 + 3) / 56]\r"
     ]
    },
    {
     "name": "stdout",
     "output_type": "stream",
     "text": [
      "Model Accuracy: 89.40%\n",
      "StatsBomb xG Accuracy: 90.42%\n"
     ]
    },
    {
     "name": "stderr",
     "output_type": "stream",
     "text": [
      "                                                                                \r"
     ]
    }
   ],
   "source": [
    "# Calculate accuracy\n",
    "accuracy_model = predictions_with_accuracy.selectExpr(\"avg(model_correct) as model_accuracy\").first()[\"model_accuracy\"]\n",
    "accuracy_statsbomb = predictions_with_accuracy.selectExpr(\"avg(statsbomb_correct) as statsbomb_accuracy\").first()[\"statsbomb_accuracy\"]\n",
    "\n",
    "print(f\"Model Accuracy: {accuracy_model * 100:.2f}%\")\n",
    "print(f\"StatsBomb xG Accuracy: {accuracy_statsbomb * 100:.2f}%\")"
   ]
  },
  {
   "cell_type": "code",
   "execution_count": 23,
   "metadata": {},
   "outputs": [
    {
     "name": "stdout",
     "output_type": "stream",
     "text": [
      "shot_location_x: -0.07089985223630016\n",
      "shot_location_y: -0.004657175090242295\n",
      "distance_to_goal: -0.2131395419906175\n",
      "shot_angle: 0.0119234592952614\n",
      "preferred_foot_shot: 0.9855072780022439\n",
      "under_pressure: -0.08668524824306786\n",
      "shot_aerial_won: -1.1647390169920981\n",
      "shot_first_time: -0.3580628236898425\n",
      "shot_one_on_one: 0.41576264305295624\n",
      "shot_open_goal: 1.4443852791674474\n",
      "shot_follows_dribble: 1.5189010520536304\n"
     ]
    }
   ],
   "source": [
    "# show each feature with its coefficient\n",
    "coefficients = xg_model.stages[-1].coefficients\n",
    "features_coefficients = list(zip(features, coefficients))\n",
    "\n",
    "for feature, coefficient in features_coefficients:\n",
    "    print(f\"{feature}: {coefficient}\")"
   ]
  },
  {
   "cell_type": "code",
   "execution_count": null,
   "metadata": {},
   "outputs": [],
   "source": []
  }
 ],
 "metadata": {
  "kernelspec": {
   "display_name": "myenv",
   "language": "python",
   "name": "python3"
  },
  "language_info": {
   "codemirror_mode": {
    "name": "ipython",
    "version": 3
   },
   "file_extension": ".py",
   "mimetype": "text/x-python",
   "name": "python",
   "nbconvert_exporter": "python",
   "pygments_lexer": "ipython3",
   "version": "3.12.3"
  }
 },
 "nbformat": 4,
 "nbformat_minor": 2
}
