{
 "cells": [
  {
   "cell_type": "code",
   "execution_count": 24,
   "metadata": {},
   "outputs": [],
   "source": [
    "from pyspark.sql import SparkSession"
   ]
  },
  {
   "cell_type": "code",
   "execution_count": 25,
   "metadata": {},
   "outputs": [],
   "source": [
    "spark = SparkSession.builder.appName(\"CompetitionsDesc\").getOrCreate()"
   ]
  },
  {
   "cell_type": "code",
   "execution_count": 26,
   "metadata": {},
   "outputs": [],
   "source": [
    "comps = spark.read.csv(\"/home/aniss/xG-model/Data/competitions.csv\", header=True, inferSchema=True)"
   ]
  },
  {
   "cell_type": "code",
   "execution_count": 27,
   "metadata": {},
   "outputs": [
    {
     "data": {
      "text/plain": [
       "26"
      ]
     },
     "execution_count": 27,
     "metadata": {},
     "output_type": "execute_result"
    }
   ],
   "source": [
    "comps.count()"
   ]
  },
  {
   "cell_type": "code",
   "execution_count": 28,
   "metadata": {},
   "outputs": [
    {
     "name": "stdout",
     "output_type": "stream",
     "text": [
      "+--------------+---------+------------------------+----------------------+-------------------------+-----------+\n",
      "|competition_id|season_id|country_name            |competition_name      |competition_international|season_name|\n",
      "+--------------+---------+------------------------+----------------------+-------------------------+-----------+\n",
      "|1267          |107      |Africa                  |African Cup of Nations|true                     |2023       |\n",
      "|2             |27       |England                 |Premier League        |false                    |2015/2016  |\n",
      "|16            |26       |Europe                  |Champions League      |false                    |2014/2015  |\n",
      "|16            |27       |Europe                  |Champions League      |false                    |2015/2016  |\n",
      "|16            |2        |Europe                  |Champions League      |false                    |2016/2017  |\n",
      "|16            |1        |Europe                  |Champions League      |false                    |2017/2018  |\n",
      "|16            |4        |Europe                  |Champions League      |false                    |2018/2019  |\n",
      "|55            |43       |Europe                  |UEFA Euro             |true                     |2020       |\n",
      "|55            |282      |Europe                  |UEFA Euro             |true                     |2024       |\n",
      "|7             |27       |France                  |Ligue 1               |false                    |2015/2016  |\n",
      "|7             |108      |France                  |Ligue 1               |false                    |2021/2022  |\n",
      "|7             |235      |France                  |Ligue 1               |false                    |2022/2023  |\n",
      "|9             |27       |Germany                 |1. Bundesliga         |false                    |2015/2016  |\n",
      "|9             |281      |Germany                 |1. Bundesliga         |false                    |2023/2024  |\n",
      "|43            |3        |International           |FIFA World Cup        |true                     |2018       |\n",
      "|43            |106      |International           |FIFA World Cup        |true                     |2022       |\n",
      "|12            |27       |Italy                   |Serie A               |false                    |2015/2016  |\n",
      "|223           |282      |South America           |Copa America          |true                     |2024       |\n",
      "|11            |26       |Spain                   |La Liga               |false                    |2014/2015  |\n",
      "|11            |27       |Spain                   |La Liga               |false                    |2015/2016  |\n",
      "|11            |2        |Spain                   |La Liga               |false                    |2016/2017  |\n",
      "|11            |1        |Spain                   |La Liga               |false                    |2017/2018  |\n",
      "|11            |4        |Spain                   |La Liga               |false                    |2018/2019  |\n",
      "|11            |42       |Spain                   |La Liga               |false                    |2019/2020  |\n",
      "|11            |90       |Spain                   |La Liga               |false                    |2020/2021  |\n",
      "|44            |107      |United States of America|Major League Soccer   |false                    |2023       |\n",
      "+--------------+---------+------------------------+----------------------+-------------------------+-----------+\n",
      "\n"
     ]
    }
   ],
   "source": [
    "comps.orderBy(\"country_name\",\"season_name\").show(26, False)"
   ]
  },
  {
   "cell_type": "code",
   "execution_count": 29,
   "metadata": {},
   "outputs": [
    {
     "name": "stderr",
     "output_type": "stream",
     "text": [
      "                                                                                \r"
     ]
    }
   ],
   "source": [
    "understat = spark.read.csv(\"/home/aniss/xG-model/Data/understat.csv\", header=True, inferSchema=True)"
   ]
  }
 ],
 "metadata": {
  "kernelspec": {
   "display_name": "myenv",
   "language": "python",
   "name": "python3"
  },
  "language_info": {
   "codemirror_mode": {
    "name": "ipython",
    "version": 3
   },
   "file_extension": ".py",
   "mimetype": "text/x-python",
   "name": "python",
   "nbconvert_exporter": "python",
   "pygments_lexer": "ipython3",
   "version": "3.12.3"
  }
 },
 "nbformat": 4,
 "nbformat_minor": 2
}
