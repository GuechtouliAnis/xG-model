{
 "cells": [
  {
   "cell_type": "code",
   "execution_count": 1,
   "metadata": {},
   "outputs": [],
   "source": [
    "from pyspark.sql import SparkSession\n",
    "import xG_preprocessing as pp\n",
    "from xG_training import ModelTrainer\n",
    "from xG_evaluation import ModelEvaluation\n",
    "import time"
   ]
  },
  {
   "cell_type": "code",
   "execution_count": 2,
   "metadata": {},
   "outputs": [
    {
     "name": "stderr",
     "output_type": "stream",
     "text": [
      "your 131072x1 screen size is bogus. expect trouble\n",
      "Setting default log level to \"WARN\".\n",
      "To adjust logging level use sc.setLogLevel(newLevel). For SparkR, use setLogLevel(newLevel).\n",
      "24/12/27 17:06:02 WARN NativeCodeLoader: Unable to load native-hadoop library for your platform... using builtin-java classes where applicable\n",
      "24/12/27 17:06:03 WARN Utils: Service 'SparkUI' could not bind on port 4040. Attempting port 4041.\n"
     ]
    }
   ],
   "source": [
    "spark = SparkSession.builder.appName(\"xG6\").getOrCreate()\n",
    "spark.conf.set(\"spark.sql.debug.maxToStringFields\", 1000)"
   ]
  },
  {
   "cell_type": "markdown",
   "metadata": {},
   "source": [
    "### Preprocessing"
   ]
  },
  {
   "cell_type": "code",
   "execution_count": 3,
   "metadata": {},
   "outputs": [
    {
     "name": "stderr",
     "output_type": "stream",
     "text": [
      "                                                                                \r"
     ]
    }
   ],
   "source": [
    "events = spark.read.csv('hdfs://localhost:9000/big-data/events.csv',header=True,inferSchema=True,sep=';')"
   ]
  },
  {
   "cell_type": "code",
   "execution_count": 2,
   "metadata": {},
   "outputs": [
    {
     "name": "stdout",
     "output_type": "stream",
     "text": [
      "Preprocessing took 10310 seconds.\n"
     ]
    }
   ],
   "source": [
    "start_time = time.time()\n",
    "shots = pp.preprocessing(events, spark)\n",
    "end_time = time.time()\n",
    "\n",
    "elapsed_time = end_time - start_time\n",
    "print(f\"Preprocessing took {elapsed_time:.2f} seconds.\")"
   ]
  },
  {
   "cell_type": "markdown",
   "metadata": {},
   "source": [
    "### Reading Data"
   ]
  },
  {
   "cell_type": "code",
   "execution_count": 4,
   "metadata": {},
   "outputs": [
    {
     "name": "stdout",
     "output_type": "stream",
     "text": [
      "+--------------------+---------+---------------+---------------+----------------+----------+-------------------+--------+-------+-------+-----------+------------+-------+-----------+-------+------+-----------+-------+-------+---------------------+----------------+-------------+------------------+------------------+------------------+--------------+---------------+---------------+---------------+--------------+--------------------+-------------------+-----------------+------------+----+-------------+\n",
      "|                  id|player_id|shot_location_x|shot_location_y|distance_to_goal|shot_angle|preferred_foot_shot|other_pp|from_fk|from_ti|from_corner|from_counter|from_gk|from_keeper|from_ko|header|corner_type|fk_type|pk_type|half_volley_technique|volley_technique|lob_technique|overhead_technique|backheel_technique|diving_h_technique|under_pressure|shot_aerial_won|shot_first_time|shot_one_on_one|shot_open_goal|shot_follows_dribble|players_inside_area|shot_statsbomb_xg|shot_outcome|goal|sb_prediction|\n",
      "+--------------------+---------+---------------+---------------+----------------+----------+-------------------+--------+-------+-------+-----------+------------+-------+-----------+-------+------+-----------+-------+-------+---------------------+----------------+-------------+------------------+------------------+------------------+--------------+---------------+---------------+---------------+--------------+--------------------+-------------------+-----------------+------------+----+-------------+\n",
      "|1088c144-e602-48d...|  23650.0|          101.9|           39.2|         18.1177| 24.878618|                  1|       0|      0|      0|          0|           0|      0|          0|      0|     0|          0|      0|      0|                    0|               0|            0|                 0|                 0|                 0|             0|              0|              0|              0|             0|                   0|                  3|      0.049519155|     Blocked|   0|          0.0|\n",
      "|301a8b09-7a76-4eb...|   8966.0|           93.1|           21.7|         32.5346|  11.66356|                  1|       0|      0|      0|          0|           0|      1|          0|      0|     0|          0|      0|      0|                    0|               0|            1|                 0|                 0|                 0|             0|              0|              1|              0|             0|                   0|                  1|      0.037947286|       Off T|   0|          0.0|\n",
      "|f9f44f2c-4121-4ce...|   8966.0|          106.6|           29.6|         16.9623| 21.530413|                  1|       0|      0|      0|          0|           1|      0|          0|      0|     0|          0|      0|      0|                    0|               0|            0|                 0|                 0|                 0|             1|              0|              0|              0|             0|                   0|                  1|       0.18960205|       Saved|   0|          0.0|\n",
      "|2a3774f3-18b0-4c7...|   9466.0|          116.8|           47.4|          8.0623| 27.584747|                  1|       0|      0|      0|          1|           0|      0|          0|      0|     0|          0|      0|      0|                    0|               1|            0|                 0|                 0|                 0|             0|              0|              1|              0|             0|                   0|                  1|       0.10378359|       Saved|   0|          0.0|\n",
      "|b8dcea15-8f02-445...|  27896.0|          101.7|           34.0|         19.2585|  22.41723|                  1|       0|      0|      0|          0|           0|      0|          0|      0|     0|          0|      0|      0|                    0|               0|            0|                 0|                 0|                 0|             0|              0|              1|              0|             0|                   0|                  2|       0.07661064|        Goal|   1|          0.0|\n",
      "|3dfc8c26-826e-467...|  27277.0|           92.7|           34.4|         27.8684| 16.019981|                  1|       0|      0|      0|          0|           0|      0|          0|      0|     0|          0|      0|      0|                    0|               0|            0|                 0|                 0|                 0|             0|              0|              0|              0|             0|                   0|                  3|      0.029722635|     Blocked|   0|          0.0|\n",
      "|de2e15e0-2367-415...| 151813.0|           99.6|           29.5|         22.9436|  17.73131|                  1|       0|      0|      0|          1|           0|      0|          0|      0|     0|          0|      0|      0|                    1|               0|            0|                 0|                 0|                 0|             0|              0|              1|              0|             0|                   0|                  2|      0.039678648|       Off T|   0|          0.0|\n",
      "|4560aa24-a39b-4da...|  23649.0|          112.4|           55.2|         16.9941| 12.564382|                  1|       0|      0|      1|          0|           0|      0|          0|      0|     0|          0|      0|      0|                    1|               0|            0|                 0|                 0|                 0|             1|              0|              1|              0|             0|                   0|                  1|      0.027714925|        Post|   0|          0.0|\n",
      "|6d54ba6a-93fa-4bc...|  30606.0|          101.2|           32.9|          20.096| 21.195234|                  1|       0|      1|      0|          0|           0|      0|          0|      0|     0|          0|      0|      0|                    0|               0|            0|                 0|                 0|                 0|             0|              0|              0|              0|             0|                   0|                  2|      0.043493688|     Blocked|   0|          0.0|\n",
      "|a3386550-e312-45b...|  30486.0|          109.5|           47.0|         12.6194| 30.386824|                  0|       0|      0|      0|          0|           0|      0|          0|      0|     0|          0|      0|      0|                    0|               0|            0|                 0|                 0|                 0|             0|              0|              1|              0|             0|                   0|                  1|        0.2088165|       Saved|   0|          0.0|\n",
      "|a4617a26-cff7-47d...|  16249.0|          103.1|           43.0|         17.1642| 25.885727|                  1|       0|      0|      0|          0|           0|      0|          0|      0|     0|          0|      0|      0|                    0|               0|            0|                 0|                 0|                 0|             0|              0|              0|              0|             0|                   0|                  2|       0.07951934|     Blocked|   0|          0.0|\n",
      "|7373e8da-62d6-48a...|   3620.0|          107.3|           44.8|         13.5768| 31.114193|                  1|       0|      0|      0|          0|           0|      0|          0|      0|     0|          0|      0|      0|                    0|               1|            0|                 0|                 0|                 0|             1|              0|              1|              0|             0|                   0|                  4|       0.06748764|     Blocked|   0|          0.0|\n",
      "|7378e441-a5d2-4cc...|   7791.0|           79.8|           34.3|         40.6021| 11.144278|                  1|       0|      0|      1|          0|           0|      0|          0|      0|     0|          0|      0|      0|                    0|               0|            0|                 0|                 0|                 0|             0|              0|              0|              0|             0|                   0|                  2|     0.0062144627|     Blocked|   0|          0.0|\n",
      "|f483a064-58af-4ec...|  28268.0|          108.1|           29.2|         16.0702| 21.453957|                  0|       0|      1|      0|          0|           0|      0|          0|      0|     0|          0|      0|      0|                    0|               0|            0|                 0|                 0|                 0|             0|              0|              0|              0|             0|                   0|                  2|       0.05474969|       Off T|   0|          0.0|\n",
      "|ec5ced0a-9fad-48a...|  29595.0|          110.6|           38.8|          9.4763| 45.538326|                  0|       0|      0|      0|          1|           0|      0|          0|      0|     1|          0|      0|      0|                    0|               0|            0|                 0|                 0|                 0|             0|              0|              0|              0|             0|                   0|                  1|      0.092985675|       Saved|   0|          0.0|\n",
      "|be893b28-be5e-4c2...| 416907.0|           93.0|           47.4|         27.9957| 15.713305|                  0|       0|      0|      0|          0|           0|      0|          0|      0|     0|          0|      0|      0|                    0|               0|            0|                 0|                 0|                 0|             1|              0|              0|              0|             0|                   0|                  2|      0.022865457|       Off T|   0|          0.0|\n",
      "|541890a9-808d-4d0...|  10336.0|           95.5|           44.2|         24.8574| 18.037369|                  1|       0|      1|      0|          0|           0|      0|          0|      0|     0|          0|      1|      0|                    0|               0|            0|                 0|                 0|                 0|             0|              0|              0|              0|             0|                   0|                  5|       0.07529922|        Post|   0|          0.0|\n",
      "|db44dcba-6ceb-417...|  10336.0|          106.3|           65.9|         29.3002| 7.4119263|                  1|       0|      0|      0|          1|           0|      0|          0|      0|     0|          0|      0|      0|                    0|               0|            0|                 0|                 0|                 0|             0|              0|              1|              0|             0|                   0|                  2|     0.0076719634|       Saved|   0|          0.0|\n",
      "|dda50942-aff8-4fa...|   2956.0|          103.0|           46.8|         18.3096| 23.074577|                  1|       0|      0|      0|          0|           0|      0|          1|      0|     0|          0|      0|      0|                    0|               0|            0|                 0|                 0|                 0|             0|              0|              0|              0|             0|                   0|                  2|       0.05654552|     Blocked|   0|          0.0|\n",
      "|47548962-cb46-43f...|  38004.0|          105.9|           25.3|         20.3691| 15.789716|                  1|       0|      0|      0|          1|           0|      0|          0|      0|     0|          0|      0|      0|                    0|               0|            0|                 0|                 0|                 0|             0|              0|              1|              0|             0|                   0|                  3|       0.03944763|       Saved|   0|          0.0|\n",
      "+--------------------+---------+---------------+---------------+----------------+----------+-------------------+--------+-------+-------+-----------+------------+-------+-----------+-------+------+-----------+-------+-------+---------------------+----------------+-------------+------------------+------------------+------------------+--------------+---------------+---------------+---------------+--------------+--------------------+-------------------+-----------------+------------+----+-------------+\n",
      "only showing top 20 rows\n",
      "\n"
     ]
    }
   ],
   "source": [
    "shots.show()"
   ]
  },
  {
   "cell_type": "markdown",
   "metadata": {},
   "source": [
    "## Model Training"
   ]
  },
  {
   "cell_type": "code",
   "execution_count": 5,
   "metadata": {},
   "outputs": [],
   "source": [
    "train_data, test_data = pp.pre_training(shots)"
   ]
  },
  {
   "cell_type": "markdown",
   "metadata": {},
   "source": [
    "## Regression Logistique"
   ]
  },
  {
   "cell_type": "markdown",
   "metadata": {},
   "source": [
    "### Training"
   ]
  },
  {
   "cell_type": "code",
   "execution_count": 7,
   "metadata": {},
   "outputs": [
    {
     "name": "stdout",
     "output_type": "stream",
     "text": [
      "ROC-AUC for max_iter=10: 80.31%\n",
      "ROC-AUC for max_iter=20: 80.41%\n",
      "ROC-AUC for max_iter=30: 80.41%\n",
      "ROC-AUC for max_iter=40: 80.41%\n",
      "ROC-AUC for max_iter=50: 80.41%\n",
      "ROC-AUC for max_iter=60: 80.41%\n",
      "ROC-AUC for max_iter=70: 80.41%\n",
      "ROC-AUC for max_iter=80: 80.41%\n",
      "ROC-AUC for max_iter=90: 80.41%\n",
      "ROC-AUC for max_iter=100: 80.41%\n"
     ]
    },
    {
     "data": {
      "image/png": "[encoded data removed]",
      "text/plain": [
       "<Figure size 640x480 with 1 Axes>"
      ]
     },
     "metadata": {},
     "output_type": "display_data"
    }
   ],
   "source": [
    "log_reg = ModelTrainer('logistic',train_data,test_data,max_iter=100)\n",
    "log_reg.plot_learning_curve(max_iter_range=[10,20,30,40,50,60,70,80,90,100])"
   ]
  },
  {
   "cell_type": "markdown",
   "metadata": {},
   "source": [
    "### Evaluation"
   ]
  },
  {
   "cell_type": "code",
   "execution_count": 8,
   "metadata": {},
   "outputs": [
    {
     "name": "stderr",
     "output_type": "stream",
     "text": [
      "                                                                                \r"
     ]
    }
   ],
   "source": [
    "predictions = log_reg.predictions\n",
    "predictions = pp.goal_proba(predictions)\n",
    "me = ModelEvaluation(predictions,'goal','prediction')\n",
    "me_sb = ModelEvaluation(predictions,'sb_prediction','prediction')\n",
    "me_r = ModelEvaluation(predictions,'shot_statsbomb_xg','goal_probability',model_type='regression')"
   ]
  },
  {
   "cell_type": "code",
   "execution_count": 9,
   "metadata": {},
   "outputs": [
    {
     "name": "stdout",
     "output_type": "stream",
     "text": [
      "Real World Classification results\n"
     ]
    },
    {
     "data": {
      "text/plain": [
       "{'Accuracy': 90.05,\n",
       " 'Precision': 69.13,\n",
       " 'Recall': 19.93,\n",
       " 'Sensitivity': 19.93,\n",
       " 'Specificity': 98.88,\n",
       " 'F1': 30.94,\n",
       " 'FPR': 1.12,\n",
       " 'FNR': 80.07}"
      ]
     },
     "execution_count": 9,
     "metadata": {},
     "output_type": "execute_result"
    }
   ],
   "source": [
    "print('Real World Classification results')\n",
    "me.get_all_metrics()"
   ]
  },
  {
   "cell_type": "code",
   "execution_count": 10,
   "metadata": {},
   "outputs": [
    {
     "name": "stdout",
     "output_type": "stream",
     "text": [
      "Classification results compared to StatsBomb Model\n"
     ]
    },
    {
     "data": {
      "text/plain": [
       "{'Accuracy': 98.64,\n",
       " 'Precision': 82.91,\n",
       " 'Recall': 76.83,\n",
       " 'Sensitivity': 76.83,\n",
       " 'Specificity': 99.43,\n",
       " 'F1': 79.75,\n",
       " 'FPR': 0.57,\n",
       " 'FNR': 23.17}"
      ]
     },
     "execution_count": 10,
     "metadata": {},
     "output_type": "execute_result"
    }
   ],
   "source": [
    "print('Classification results compared to StatsBomb Model')\n",
    "me_sb.get_all_metrics()"
   ]
  },
  {
   "cell_type": "code",
   "execution_count": 11,
   "metadata": {},
   "outputs": [
    {
     "name": "stdout",
     "output_type": "stream",
     "text": [
      "Regression results\n"
     ]
    },
    {
     "data": {
      "text/plain": [
       "{'MSE': 0.00367, 'RMSE': 0.06054, 'MAE': 0.03412, 'R2': 83.02}"
      ]
     },
     "execution_count": 11,
     "metadata": {},
     "output_type": "execute_result"
    }
   ],
   "source": [
    "print('Regression results')\n",
    "me_r.get_all_metrics()"
   ]
  },
  {
   "cell_type": "code",
   "execution_count": null,
   "metadata": {},
   "outputs": [],
   "source": [
    "log_reg = ModelTrainer('logistic',train_data,train_data,max_iter=100)"
   ]
  },
  {
   "cell_type": "code",
   "execution_count": 18,
   "metadata": {},
   "outputs": [],
   "source": [
    "predictions = log_reg.predictions\n",
    "predictions = pp.goal_proba(predictions)\n",
    "me = ModelEvaluation(predictions,'goal','prediction')\n",
    "me_sb = ModelEvaluation(predictions,'sb_prediction','prediction')\n",
    "me_r = ModelEvaluation(predictions,'shot_statsbomb_xg','goal_probability',model_type='regression')"
   ]
  },
  {
   "cell_type": "code",
   "execution_count": 20,
   "metadata": {},
   "outputs": [
    {
     "name": "stdout",
     "output_type": "stream",
     "text": [
      "Real World Classification results\n"
     ]
    },
    {
     "data": {
      "text/plain": [
       "{'Accuracy': 90.56,\n",
       " 'Precision': 68.14,\n",
       " 'Recall': 22.15,\n",
       " 'Sensitivity': 22.15,\n",
       " 'Specificity': 98.76,\n",
       " 'F1': 33.43,\n",
       " 'FPR': 1.24,\n",
       " 'FNR': 77.85}"
      ]
     },
     "execution_count": 20,
     "metadata": {},
     "output_type": "execute_result"
    }
   ],
   "source": [
    "print('Real World Classification results')\n",
    "me.get_all_metrics()"
   ]
  },
  {
   "cell_type": "code",
   "execution_count": 21,
   "metadata": {},
   "outputs": [
    {
     "name": "stdout",
     "output_type": "stream",
     "text": [
      "Classification results compared to StatsBomb Model\n"
     ]
    },
    {
     "data": {
      "text/plain": [
       "{'Accuracy': 98.67,\n",
       " 'Precision': 84.01,\n",
       " 'Recall': 79.05,\n",
       " 'Sensitivity': 79.05,\n",
       " 'Specificity': 99.42,\n",
       " 'F1': 81.45,\n",
       " 'FPR': 0.58,\n",
       " 'FNR': 20.95}"
      ]
     },
     "execution_count": 21,
     "metadata": {},
     "output_type": "execute_result"
    }
   ],
   "source": [
    "print('Classification results compared to StatsBomb Model')\n",
    "me_sb.get_all_metrics()"
   ]
  },
  {
   "cell_type": "code",
   "execution_count": 22,
   "metadata": {},
   "outputs": [
    {
     "name": "stdout",
     "output_type": "stream",
     "text": [
      "Regression results\n"
     ]
    },
    {
     "data": {
      "text/plain": [
       "{'MSE': 0.00385, 'RMSE': 0.06203, 'MAE': 0.03482, 'R2': 82.89}"
      ]
     },
     "execution_count": 22,
     "metadata": {},
     "output_type": "execute_result"
    }
   ],
   "source": [
    "print('Regression results')\n",
    "me_r.get_all_metrics()"
   ]
  },
  {
   "cell_type": "markdown",
   "metadata": {},
   "source": [
    "## Random Forest"
   ]
  },
  {
   "cell_type": "code",
   "execution_count": null,
   "metadata": {},
   "outputs": [],
   "source": [
    "rf = ModelTrainer('rf',train_data,test_data,max_iter=100)"
   ]
  },
  {
   "cell_type": "code",
   "execution_count": 13,
   "metadata": {},
   "outputs": [
    {
     "name": "stdout",
     "output_type": "stream",
     "text": [
      "ROC-AUC for max_iter=10: 78.27%\n",
      "ROC-AUC for max_iter=20: 78.27%\n",
      "ROC-AUC for max_iter=30: 78.30%\n",
      "ROC-AUC for max_iter=40: 78.27%\n",
      "ROC-AUC for max_iter=50: 78.30%\n",
      "ROC-AUC for max_iter=60: 78.27%\n",
      "ROC-AUC for max_iter=70: 78.30%\n",
      "ROC-AUC for max_iter=80: 78.27%\n",
      "ROC-AUC for max_iter=90: 78.30%\n",
      "ROC-AUC for max_iter=100: 78.27%\n"
     ]
    },
    {
     "data": {
      "image/png": "[encoded data removed]",
      "text/plain": [
       "<Figure size 640x480 with 1 Axes>"
      ]
     },
     "metadata": {},
     "output_type": "display_data"
    }
   ],
   "source": [
    "rf.plot_learning_curve(max_iter_range=[10,20,30,40,50,60,70,80,90,100])"
   ]
  },
  {
   "cell_type": "code",
   "execution_count": 23,
   "metadata": {},
   "outputs": [
    {
     "name": "stdout",
     "output_type": "stream",
     "text": [
      "Real World Classification results\n"
     ]
    },
    {
     "data": {
      "text/plain": [
       "{'Accuracy': 90.05,\n",
       " 'Precision': 79.76,\n",
       " 'Recall': 14.78,\n",
       " 'Sensitivity': 14.78,\n",
       " 'Specificity': 99.53,\n",
       " 'F1': 24.94,\n",
       " 'FPR': 0.47,\n",
       " 'FNR': 85.22}"
      ]
     },
     "execution_count": 23,
     "metadata": {},
     "output_type": "execute_result"
    }
   ],
   "source": [
    "predictions = rf.predictions\n",
    "predictions = pp.goal_proba(predictions)\n",
    "me = ModelEvaluation(predictions,'goal','prediction')\n",
    "me_sb = ModelEvaluation(predictions,'sb_prediction','prediction')\n",
    "me_r = ModelEvaluation(predictions,'shot_statsbomb_xg','goal_probability',model_type='regression')\n",
    "print('Real World Classification results')\n",
    "me.get_all_metrics()"
   ]
  },
  {
   "cell_type": "code",
   "execution_count": 24,
   "metadata": {},
   "outputs": [
    {
     "name": "stdout",
     "output_type": "stream",
     "text": [
      "Classification results compared to StatsBomb Model\n"
     ]
    },
    {
     "data": {
      "text/plain": [
       "{'Accuracy': 98.4,\n",
       " 'Precision': 95.24,\n",
       " 'Recall': 56.74,\n",
       " 'Sensitivity': 56.74,\n",
       " 'Specificity': 99.9,\n",
       " 'F1': 71.11,\n",
       " 'FPR': 0.1,\n",
       " 'FNR': 43.26}"
      ]
     },
     "execution_count": 24,
     "metadata": {},
     "output_type": "execute_result"
    }
   ],
   "source": [
    "print('Classification results compared to StatsBomb Model')\n",
    "me_sb.get_all_metrics()"
   ]
  },
  {
   "cell_type": "code",
   "execution_count": 25,
   "metadata": {},
   "outputs": [
    {
     "name": "stdout",
     "output_type": "stream",
     "text": [
      "Regression results\n"
     ]
    },
    {
     "data": {
      "text/plain": [
       "{'MSE': 0.00681, 'RMSE': 0.08253, 'MAE': 0.05332, 'R2': 68.46}"
      ]
     },
     "execution_count": 25,
     "metadata": {},
     "output_type": "execute_result"
    }
   ],
   "source": [
    "print('Regression results')\n",
    "me_r.get_all_metrics()"
   ]
  },
  {
   "cell_type": "code",
   "execution_count": null,
   "metadata": {},
   "outputs": [],
   "source": [
    "rf = ModelTrainer('rf',train_data,train_data,max_iter=100)"
   ]
  },
  {
   "cell_type": "code",
   "execution_count": 27,
   "metadata": {},
   "outputs": [
    {
     "name": "stdout",
     "output_type": "stream",
     "text": [
      "Real World Classification results\n"
     ]
    },
    {
     "name": "stderr",
     "output_type": "stream",
     "text": [
      "                                                                                \r"
     ]
    },
    {
     "data": {
      "text/plain": [
       "{'Accuracy': 90.68,\n",
       " 'Precision': 80.92,\n",
       " 'Recall': 16.92,\n",
       " 'Sensitivity': 16.92,\n",
       " 'Specificity': 99.52,\n",
       " 'F1': 27.98,\n",
       " 'FPR': 0.48,\n",
       " 'FNR': 83.08}"
      ]
     },
     "execution_count": 27,
     "metadata": {},
     "output_type": "execute_result"
    }
   ],
   "source": [
    "predictions = rf.predictions\n",
    "predictions = pp.goal_proba(predictions)\n",
    "me = ModelEvaluation(predictions,'goal','prediction')\n",
    "me_sb = ModelEvaluation(predictions,'sb_prediction','prediction')\n",
    "me_r = ModelEvaluation(predictions,'shot_statsbomb_xg','goal_probability',model_type='regression')\n",
    "print('Real World Classification results')\n",
    "me.get_all_metrics()"
   ]
  },
  {
   "cell_type": "code",
   "execution_count": 28,
   "metadata": {},
   "outputs": [
    {
     "name": "stdout",
     "output_type": "stream",
     "text": [
      "Classification results compared to StatsBomb Model\n"
     ]
    },
    {
     "data": {
      "text/plain": [
       "{'Accuracy': 98.36,\n",
       " 'Precision': 96.02,\n",
       " 'Recall': 58.1,\n",
       " 'Sensitivity': 58.1,\n",
       " 'Specificity': 99.91,\n",
       " 'F1': 72.39,\n",
       " 'FPR': 0.09,\n",
       " 'FNR': 41.9}"
      ]
     },
     "execution_count": 28,
     "metadata": {},
     "output_type": "execute_result"
    }
   ],
   "source": [
    "print('Classification results compared to StatsBomb Model')\n",
    "me_sb.get_all_metrics()"
   ]
  },
  {
   "cell_type": "code",
   "execution_count": 29,
   "metadata": {},
   "outputs": [
    {
     "name": "stdout",
     "output_type": "stream",
     "text": [
      "Regression results\n"
     ]
    },
    {
     "data": {
      "text/plain": [
       "{'MSE': 0.00698, 'RMSE': 0.08352, 'MAE': 0.05373, 'R2': 68.98}"
      ]
     },
     "execution_count": 29,
     "metadata": {},
     "output_type": "execute_result"
    }
   ],
   "source": [
    "print('Regression results')\n",
    "me_r.get_all_metrics()"
   ]
  },
  {
   "cell_type": "markdown",
   "metadata": {},
   "source": [
    "## Gradient Boosted Trees"
   ]
  },
  {
   "cell_type": "code",
   "execution_count": null,
   "metadata": {},
   "outputs": [],
   "source": [
    "gbt = ModelTrainer('gbt',train_data,test_data,max_iter=60)"
   ]
  },
  {
   "cell_type": "code",
   "execution_count": 31,
   "metadata": {},
   "outputs": [
    {
     "name": "stdout",
     "output_type": "stream",
     "text": [
      "ROC-AUC for max_iter=10: 80.73%\n",
      "ROC-AUC for max_iter=20: 81.01%\n",
      "ROC-AUC for max_iter=30: 81.15%\n",
      "ROC-AUC for max_iter=40: 81.25%\n",
      "ROC-AUC for max_iter=50: 81.25%\n",
      "ROC-AUC for max_iter=60: 81.29%\n",
      "ROC-AUC for max_iter=70: 81.29%\n",
      "ROC-AUC for max_iter=80: 81.27%\n",
      "ROC-AUC for max_iter=90: 81.22%\n",
      "ROC-AUC for max_iter=100: 81.21%\n"
     ]
    },
    {
     "data": {
      "image/png": "[encoded data removed]",
      "text/plain": [
       "<Figure size 640x480 with 1 Axes>"
      ]
     },
     "metadata": {},
     "output_type": "display_data"
    }
   ],
   "source": [
    "gbt.plot_learning_curve(max_iter_range=[10,20,30,40,50,60,70,80,90,100])"
   ]
  },
  {
   "cell_type": "code",
   "execution_count": 32,
   "metadata": {},
   "outputs": [
    {
     "name": "stderr",
     "output_type": "stream",
     "text": [
      "                                                                                \r"
     ]
    }
   ],
   "source": [
    "predictions = gbt.predictions\n",
    "predictions = pp.goal_proba(predictions)\n",
    "me = ModelEvaluation(predictions,'goal','prediction')\n",
    "me_sb = ModelEvaluation(predictions,'sb_prediction','prediction')\n",
    "me_r = ModelEvaluation(predictions,'shot_statsbomb_xg','goal_probability',model_type='regression')"
   ]
  },
  {
   "cell_type": "code",
   "execution_count": 33,
   "metadata": {},
   "outputs": [
    {
     "name": "stdout",
     "output_type": "stream",
     "text": [
      "Real World Classification results\n"
     ]
    },
    {
     "data": {
      "text/plain": [
       "{'Accuracy': 90.15,\n",
       " 'Precision': 70.74,\n",
       " 'Recall': 20.44,\n",
       " 'Sensitivity': 20.44,\n",
       " 'Specificity': 98.93,\n",
       " 'F1': 31.72,\n",
       " 'FPR': 1.07,\n",
       " 'FNR': 79.56}"
      ]
     },
     "execution_count": 33,
     "metadata": {},
     "output_type": "execute_result"
    }
   ],
   "source": [
    "print('Real World Classification results')\n",
    "me.get_all_metrics()"
   ]
  },
  {
   "cell_type": "code",
   "execution_count": 34,
   "metadata": {},
   "outputs": [
    {
     "name": "stdout",
     "output_type": "stream",
     "text": [
      "Classification results compared to StatsBomb Model\n"
     ]
    },
    {
     "data": {
      "text/plain": [
       "{'Accuracy': 98.42,\n",
       " 'Precision': 79.39,\n",
       " 'Recall': 73.76,\n",
       " 'Sensitivity': 73.76,\n",
       " 'Specificity': 99.31,\n",
       " 'F1': 76.47,\n",
       " 'FPR': 0.69,\n",
       " 'FNR': 26.24}"
      ]
     },
     "execution_count": 34,
     "metadata": {},
     "output_type": "execute_result"
    }
   ],
   "source": [
    "print('Classification results compared to StatsBomb Model')\n",
    "me_sb.get_all_metrics()"
   ]
  },
  {
   "cell_type": "code",
   "execution_count": 35,
   "metadata": {},
   "outputs": [
    {
     "name": "stdout",
     "output_type": "stream",
     "text": [
      "Regression results\n"
     ]
    },
    {
     "data": {
      "text/plain": [
       "{'MSE': 0.00376, 'RMSE': 0.06134, 'MAE': 0.03133, 'R2': 82.58}"
      ]
     },
     "execution_count": 35,
     "metadata": {},
     "output_type": "execute_result"
    }
   ],
   "source": [
    "print('Regression results')\n",
    "me_r.get_all_metrics()"
   ]
  },
  {
   "cell_type": "code",
   "execution_count": null,
   "metadata": {},
   "outputs": [],
   "source": [
    "gbt = ModelTrainer('logistic',train_data,train_data,max_iter=60)"
   ]
  },
  {
   "cell_type": "code",
   "execution_count": 38,
   "metadata": {},
   "outputs": [
    {
     "name": "stdout",
     "output_type": "stream",
     "text": [
      "Real World Classification results\n"
     ]
    },
    {
     "data": {
      "text/plain": [
       "{'Accuracy': 90.56,\n",
       " 'Precision': 68.14,\n",
       " 'Recall': 22.15,\n",
       " 'Sensitivity': 22.15,\n",
       " 'Specificity': 98.76,\n",
       " 'F1': 33.43,\n",
       " 'FPR': 1.24,\n",
       " 'FNR': 77.85}"
      ]
     },
     "execution_count": 38,
     "metadata": {},
     "output_type": "execute_result"
    }
   ],
   "source": [
    "predictions = gbt.predictions\n",
    "predictions = pp.goal_proba(predictions)\n",
    "me = ModelEvaluation(predictions,'goal','prediction')\n",
    "me_sb = ModelEvaluation(predictions,'sb_prediction','prediction')\n",
    "me_r = ModelEvaluation(predictions,'shot_statsbomb_xg','goal_probability',model_type='regression')\n",
    "print('Real World Classification results')\n",
    "me.get_all_metrics()"
   ]
  },
  {
   "cell_type": "code",
   "execution_count": 40,
   "metadata": {},
   "outputs": [
    {
     "name": "stdout",
     "output_type": "stream",
     "text": [
      "Classification results compared to StatsBomb Model\n"
     ]
    },
    {
     "data": {
      "text/plain": [
       "{'Accuracy': 98.67,\n",
       " 'Precision': 84.01,\n",
       " 'Recall': 79.05,\n",
       " 'Sensitivity': 79.05,\n",
       " 'Specificity': 99.42,\n",
       " 'F1': 81.45,\n",
       " 'FPR': 0.58,\n",
       " 'FNR': 20.95}"
      ]
     },
     "execution_count": 40,
     "metadata": {},
     "output_type": "execute_result"
    }
   ],
   "source": [
    "print('Classification results compared to StatsBomb Model')\n",
    "me_sb.get_all_metrics()"
   ]
  },
  {
   "cell_type": "code",
   "execution_count": 41,
   "metadata": {},
   "outputs": [
    {
     "name": "stdout",
     "output_type": "stream",
     "text": [
      "Regression results\n"
     ]
    },
    {
     "data": {
      "text/plain": [
       "{'MSE': 0.00385, 'RMSE': 0.06203, 'MAE': 0.03482, 'R2': 82.89}"
      ]
     },
     "execution_count": 41,
     "metadata": {},
     "output_type": "execute_result"
    }
   ],
   "source": [
    "print('Regression results')\n",
    "me_r.get_all_metrics()"
   ]
  },
  {
   "cell_type": "code",
   "execution_count": 19,
   "metadata": {},
   "outputs": [],
   "source": [
    "spark.stop()"
   ]
  }
 ],
 "metadata": {
  "kernelspec": {
   "display_name": "myenv",
   "language": "python",
   "name": "python3"
  },
  "language_info": {
   "codemirror_mode": {
    "name": "ipython",
    "version": 3
   },
   "file_extension": ".py",
   "mimetype": "text/x-python",
   "name": "python",
   "nbconvert_exporter": "python",
   "pygments_lexer": "ipython3",
   "version": "3.12.3"
  }
 },
 "nbformat": 4,
 "nbformat_minor": 2
}
