{
 "cells": [
  {
   "cell_type": "markdown",
   "metadata": {},
   "source": [
    "## Expected Goals (xG) Model - Data Splitting Pipeline\n",
    "\n",
    "This notebook is used to split the imported data into competition-specific csv files.<br>\n",
    "Feel free to work with the events file directly if you want, this step isn't mandatory.<br>\n",
    "<i>**Note**</i> : MLS appears in this notebooks because this is an older version."
   ]
  },
  {
   "cell_type": "code",
   "execution_count": 2,
   "metadata": {},
   "outputs": [],
   "source": [
    "from pyspark.sql import SparkSession"
   ]
  },
  {
   "cell_type": "code",
   "execution_count": 4,
   "metadata": {},
   "outputs": [],
   "source": [
    "spark = SparkSession.builder.appName(\"Splitting_Data\").getOrCreate()"
   ]
  },
  {
   "cell_type": "markdown",
   "metadata": {},
   "source": [
    "### 1. Splitting matches data"
   ]
  },
  {
   "cell_type": "code",
   "execution_count": null,
   "metadata": {},
   "outputs": [],
   "source": [
    "matches_df = spark.read.csv(\"../data/raw/matches.csv\", header=True, inferSchema=True)"
   ]
  },
  {
   "cell_type": "code",
   "execution_count": null,
   "metadata": {},
   "outputs": [],
   "source": [
    "dataframes = {}\n",
    "for competition in matches_df.groupBy('competition').count().orderBy('count', ascending=False).distinct().collect():\n",
    "    dataframes[competition[0]] = matches_df.filter(matches_df.competition == competition[0])"
   ]
  },
  {
   "cell_type": "code",
   "execution_count": 9,
   "metadata": {},
   "outputs": [
    {
     "name": "stdout",
     "output_type": "stream",
     "text": [
      "Spain - La Liga : 590\n",
      "France - Ligue 1 : 435\n",
      "Italy - Serie A : 380\n",
      "England - Premier League : 380\n",
      "Germany - 1. Bundesliga : 340\n",
      "International - FIFA World Cup : 128\n",
      "Europe - UEFA Euro : 102\n",
      "Africa - African Cup of Nations : 52\n",
      "South America - Copa America : 32\n",
      "United States of America - Major League Soccer : 6\n",
      "Europe - Champions League : 5\n"
     ]
    }
   ],
   "source": [
    "for competition, df in dataframes.items():\n",
    "    print(competition, ':', df.count())"
   ]
  },
  {
   "cell_type": "code",
   "execution_count": null,
   "metadata": {},
   "outputs": [
    {
     "name": "stdout",
     "output_type": "stream",
     "text": [
      "Spain - La Liga has been written to CSV.\n",
      "France - Ligue 1 has been written to CSV.\n",
      "Italy - Serie A has been written to CSV.\n",
      "England - Premier League has been written to CSV.\n",
      "Germany - 1. Bundesliga has been written to CSV.\n",
      "International - FIFA World Cup has been written to CSV.\n",
      "Europe - UEFA Euro has been written to CSV.\n",
      "Africa - African Cup of Nations has been written to CSV.\n",
      "South America - Copa America has been written to CSV.\n",
      "United States of America - Major League Soccer has been written to CSV.\n",
      "Europe - Champions League has been written to CSV.\n"
     ]
    }
   ],
   "source": [
    "for competition, df in dataframes.items():\n",
    "    df.toPandas().to_csv(f\"../data/split_data/matches/{competition}.csv\", index=False)\n",
    "    print(f\"{competition} has been written to CSV.\")"
   ]
  },
  {
   "cell_type": "markdown",
   "metadata": {},
   "source": [
    "### 2. Splitting events data"
   ]
  },
  {
   "cell_type": "code",
   "execution_count": null,
   "metadata": {},
   "outputs": [
    {
     "name": "stderr",
     "output_type": "stream",
     "text": [
      "                                                                                \r"
     ]
    }
   ],
   "source": [
    "events_df = spark.read.csv(\"../data/raw/events.csv\", header=True, inferSchema=True, sep=\";\")"
   ]
  },
  {
   "cell_type": "code",
   "execution_count": null,
   "metadata": {},
   "outputs": [
    {
     "name": "stderr",
     "output_type": "stream",
     "text": [
      "[Stage 100:=================================================>     (25 + 3) / 28]\r"
     ]
    },
    {
     "name": "stdout",
     "output_type": "stream",
     "text": [
      "+----------------------------------------------+-------+\n",
      "|competition                                   |count  |\n",
      "+----------------------------------------------+-------+\n",
      "|Spain - La Liga                               |2099452|\n",
      "|France - Ligue 1                              |1589854|\n",
      "|Italy - Serie A                               |1353739|\n",
      "|England - Premier League                      |1313783|\n",
      "|Germany - 1. Bundesliga                       |1207631|\n",
      "|International - FIFA World Cup                |462501 |\n",
      "|Europe - UEFA Euro                            |380550 |\n",
      "|Africa - African Cup of Nations               |162910 |\n",
      "|South America - Copa America                  |100305 |\n",
      "|United States of America - Major League Soccer|21786  |\n",
      "|Europe - Champions League                     |18203  |\n",
      "+----------------------------------------------+-------+\n",
      "\n"
     ]
    },
    {
     "name": "stderr",
     "output_type": "stream",
     "text": [
      "                                                                                \r"
     ]
    }
   ],
   "source": [
    "events_df.groupBy('competition').count().orderBy('count', ascending=False).show(truncate=False)"
   ]
  },
  {
   "cell_type": "code",
   "execution_count": null,
   "metadata": {},
   "outputs": [
    {
     "name": "stderr",
     "output_type": "stream",
     "text": [
      "                                                                                \r"
     ]
    }
   ],
   "source": [
    "dataframes = {}\n",
    "for competition in events_df.groupBy('competition').count().orderBy('count', ascending=False).distinct().collect():\n",
    "    dataframes[competition[0]] = events_df.filter(events_df.competition == competition[0])"
   ]
  },
  {
   "cell_type": "code",
   "execution_count": null,
   "metadata": {},
   "outputs": [
    {
     "name": "stderr",
     "output_type": "stream",
     "text": [
      "                                                                                \r"
     ]
    },
    {
     "name": "stdout",
     "output_type": "stream",
     "text": [
      "Spain - La Liga events have been written to CSV.\n"
     ]
    },
    {
     "name": "stderr",
     "output_type": "stream",
     "text": [
      "                                                                                \r"
     ]
    },
    {
     "name": "stdout",
     "output_type": "stream",
     "text": [
      "France - Ligue 1 events have been written to CSV.\n"
     ]
    },
    {
     "name": "stderr",
     "output_type": "stream",
     "text": [
      "                                                                                \r"
     ]
    },
    {
     "name": "stdout",
     "output_type": "stream",
     "text": [
      "Italy - Serie A events have been written to CSV.\n"
     ]
    },
    {
     "name": "stderr",
     "output_type": "stream",
     "text": [
      "                                                                                \r"
     ]
    },
    {
     "name": "stdout",
     "output_type": "stream",
     "text": [
      "England - Premier League events have been written to CSV.\n"
     ]
    },
    {
     "name": "stderr",
     "output_type": "stream",
     "text": [
      "                                                                                \r"
     ]
    },
    {
     "name": "stdout",
     "output_type": "stream",
     "text": [
      "Germany - 1. Bundesliga events have been written to CSV.\n"
     ]
    },
    {
     "name": "stderr",
     "output_type": "stream",
     "text": [
      "                                                                                \r"
     ]
    },
    {
     "name": "stdout",
     "output_type": "stream",
     "text": [
      "International - FIFA World Cup events have been written to CSV.\n"
     ]
    },
    {
     "name": "stderr",
     "output_type": "stream",
     "text": [
      "                                                                                \r"
     ]
    },
    {
     "name": "stdout",
     "output_type": "stream",
     "text": [
      "Europe - UEFA Euro events have been written to CSV.\n"
     ]
    },
    {
     "name": "stderr",
     "output_type": "stream",
     "text": [
      "                                                                                \r"
     ]
    },
    {
     "name": "stdout",
     "output_type": "stream",
     "text": [
      "Africa - African Cup of Nations events have been written to CSV.\n"
     ]
    },
    {
     "name": "stderr",
     "output_type": "stream",
     "text": [
      "                                                                                \r"
     ]
    },
    {
     "name": "stdout",
     "output_type": "stream",
     "text": [
      "South America - Copa America events have been written to CSV.\n"
     ]
    },
    {
     "name": "stderr",
     "output_type": "stream",
     "text": [
      "                                                                                \r"
     ]
    },
    {
     "name": "stdout",
     "output_type": "stream",
     "text": [
      "United States of America - Major League Soccer events have been written to CSV.\n"
     ]
    },
    {
     "name": "stderr",
     "output_type": "stream",
     "text": [
      "[Stage 127:>                                                        (0 + 1) / 1]\r"
     ]
    },
    {
     "name": "stdout",
     "output_type": "stream",
     "text": [
      "Europe - Champions League events have been written to CSV.\n"
     ]
    },
    {
     "name": "stderr",
     "output_type": "stream",
     "text": [
      "                                                                                \r"
     ]
    }
   ],
   "source": [
    "for competition, df in dataframes.items():\n",
    "    df.coalesce(1).write.csv(f\"../data/split_data/events/{competition}.csv\", header=True, sep=\";\")\n",
    "    print(f\"{competition} events have been written to CSV.\")"
   ]
  },
  {
   "cell_type": "markdown",
   "metadata": {},
   "source": [
    "### 3. Splitting frames data"
   ]
  },
  {
   "cell_type": "code",
   "execution_count": null,
   "metadata": {},
   "outputs": [],
   "source": [
    "matches_df = spark.read.csv(\"../data/raw/matches.csv\", header=True, inferSchema=True)"
   ]
  },
  {
   "cell_type": "code",
   "execution_count": null,
   "metadata": {},
   "outputs": [
    {
     "name": "stderr",
     "output_type": "stream",
     "text": [
      "                                                                                \r"
     ]
    }
   ],
   "source": [
    "frames_df = spark.read.csv(\"../data/raw/frames.csv\",header=True, inferSchema=True)"
   ]
  },
  {
   "cell_type": "code",
   "execution_count": null,
   "metadata": {},
   "outputs": [
    {
     "name": "stdout",
     "output_type": "stream",
     "text": [
      "South America - Copa America\n",
      "France - Ligue 1\n",
      "Italy - Serie A\n",
      "Europe - Champions League\n",
      "International - FIFA World Cup\n",
      "Spain - La Liga\n",
      "Africa - African Cup of Nations\n",
      "United States of America - Major League Soccer\n",
      "Europe - UEFA Euro\n",
      "England - Premier League\n",
      "Germany - 1. Bundesliga\n"
     ]
    }
   ],
   "source": [
    "df_frames = {}\n",
    "for comp in matches_df.groupBy('competition').count().distinct().collect():\n",
    "    print(comp[0])\n",
    "    df_ids = []\n",
    "    for matchId in matches_df.filter(matches_df.competition == comp[0]).select('match_id').collect():\n",
    "        df_ids.append(matchId[0])\n",
    "    df_frames[comp[0]] = frames_df.filter(frames_df.match_id.isin(df_ids))"
   ]
  },
  {
   "cell_type": "code",
   "execution_count": 86,
   "metadata": {},
   "outputs": [
    {
     "name": "stderr",
     "output_type": "stream",
     "text": [
      "                                                                                \r"
     ]
    },
    {
     "name": "stdout",
     "output_type": "stream",
     "text": [
      "South America - Copa America : 0\n"
     ]
    },
    {
     "name": "stderr",
     "output_type": "stream",
     "text": [
      "                                                                                \r"
     ]
    },
    {
     "name": "stdout",
     "output_type": "stream",
     "text": [
      "France - Ligue 1 : 0\n"
     ]
    },
    {
     "name": "stderr",
     "output_type": "stream",
     "text": [
      "                                                                                \r"
     ]
    },
    {
     "name": "stdout",
     "output_type": "stream",
     "text": [
      "Italy - Serie A : 0\n"
     ]
    },
    {
     "name": "stderr",
     "output_type": "stream",
     "text": [
      "                                                                                \r"
     ]
    },
    {
     "name": "stdout",
     "output_type": "stream",
     "text": [
      "Europe - Champions League : 0\n"
     ]
    },
    {
     "name": "stderr",
     "output_type": "stream",
     "text": [
      "                                                                                \r"
     ]
    },
    {
     "name": "stdout",
     "output_type": "stream",
     "text": [
      "International - FIFA World Cup : 3084876\n"
     ]
    },
    {
     "name": "stderr",
     "output_type": "stream",
     "text": [
      "                                                                                \r"
     ]
    },
    {
     "name": "stdout",
     "output_type": "stream",
     "text": [
      "Spain - La Liga : 0\n"
     ]
    },
    {
     "name": "stderr",
     "output_type": "stream",
     "text": [
      "                                                                                \r"
     ]
    },
    {
     "name": "stdout",
     "output_type": "stream",
     "text": [
      "Africa - African Cup of Nations : 0\n"
     ]
    },
    {
     "name": "stderr",
     "output_type": "stream",
     "text": [
      "                                                                                \r"
     ]
    },
    {
     "name": "stdout",
     "output_type": "stream",
     "text": [
      "United States of America - Major League Soccer : 0\n"
     ]
    },
    {
     "name": "stderr",
     "output_type": "stream",
     "text": [
      "                                                                                \r"
     ]
    },
    {
     "name": "stdout",
     "output_type": "stream",
     "text": [
      "Europe - UEFA Euro : 5221376\n"
     ]
    },
    {
     "name": "stderr",
     "output_type": "stream",
     "text": [
      "                                                                                \r"
     ]
    },
    {
     "name": "stdout",
     "output_type": "stream",
     "text": [
      "England - Premier League : 0\n"
     ]
    },
    {
     "name": "stderr",
     "output_type": "stream",
     "text": [
      "[Stage 529:==================================>                    (13 + 8) / 21]\r"
     ]
    },
    {
     "name": "stdout",
     "output_type": "stream",
     "text": [
      "Germany - 1. Bundesliga : 1953182\n"
     ]
    },
    {
     "name": "stderr",
     "output_type": "stream",
     "text": [
      "                                                                                \r"
     ]
    }
   ],
   "source": [
    "for comp,df in df_frames.items():\n",
    "    print(comp, ':', df.count())"
   ]
  },
  {
   "cell_type": "code",
   "execution_count": null,
   "metadata": {},
   "outputs": [
    {
     "name": "stderr",
     "output_type": "stream",
     "text": [
      "                                                                                \r"
     ]
    },
    {
     "name": "stdout",
     "output_type": "stream",
     "text": [
      "International - FIFA World Cup frames have been written to CSV.\n"
     ]
    },
    {
     "name": "stderr",
     "output_type": "stream",
     "text": [
      "                                                                                \r"
     ]
    },
    {
     "name": "stdout",
     "output_type": "stream",
     "text": [
      "Europe - UEFA Euro frames have been written to CSV.\n"
     ]
    },
    {
     "name": "stderr",
     "output_type": "stream",
     "text": [
      "[Stage 567:>                                                        (0 + 1) / 1]\r"
     ]
    },
    {
     "name": "stdout",
     "output_type": "stream",
     "text": [
      "Germany - 1. Bundesliga frames have been written to CSV.\n"
     ]
    },
    {
     "name": "stderr",
     "output_type": "stream",
     "text": [
      "                                                                                \r"
     ]
    }
   ],
   "source": [
    "for comp, df in df_frames.items():\n",
    "    if df.count() > 0:\n",
    "        df.coalesce(1).write.csv(f\"../data/split_data/frames/{comp}.csv\", header=True)\n",
    "        print(f\"{comp} frames have been written to CSV.\")"
   ]
  },
  {
   "cell_type": "markdown",
   "metadata": {},
   "source": [
    "### 4. Splitting lineups"
   ]
  },
  {
   "cell_type": "code",
   "execution_count": null,
   "metadata": {},
   "outputs": [],
   "source": [
    "matches_df = spark.read.csv(\"../data/raw/matches.csv\", header=True, inferSchema=True)"
   ]
  },
  {
   "cell_type": "code",
   "execution_count": null,
   "metadata": {},
   "outputs": [],
   "source": [
    "lineups_df = spark.read.csv(\"../data/raw/lineups.csv\", header=True, inferSchema=True)"
   ]
  },
  {
   "cell_type": "code",
   "execution_count": null,
   "metadata": {},
   "outputs": [
    {
     "name": "stdout",
     "output_type": "stream",
     "text": [
      "South America - Copa America\n",
      "France - Ligue 1\n",
      "Italy - Serie A\n",
      "Europe - Champions League\n",
      "International - FIFA World Cup\n",
      "Spain - La Liga\n",
      "Africa - African Cup of Nations\n",
      "United States of America - Major League Soccer\n",
      "Europe - UEFA Euro\n",
      "England - Premier League\n",
      "Germany - 1. Bundesliga\n"
     ]
    }
   ],
   "source": [
    "df_lineups = {}\n",
    "for comp in matches_df.groupBy('competition').count().distinct().collect():\n",
    "    print(comp[0])\n",
    "    df_ids = []\n",
    "    for matchId in matches_df.filter(matches_df.competition == comp[0]).select('match_id').collect():\n",
    "        df_ids.append(matchId[0])\n",
    "    df_lineups[comp[0]] = lineups_df.filter(lineups_df.match_id.isin(df_ids))"
   ]
  },
  {
   "cell_type": "code",
   "execution_count": 100,
   "metadata": {},
   "outputs": [
    {
     "name": "stdout",
     "output_type": "stream",
     "text": [
      "South America - Copa America : 1618\n",
      "France - Ligue 1 : 15866\n",
      "Italy - Serie A : 16750\n",
      "Europe - Champions League : 190\n",
      "International - FIFA World Cup : 6130\n",
      "Spain - La Liga : 21512\n",
      "Africa - African Cup of Nations : 2374\n",
      "United States of America - Major League Soccer : 240\n",
      "Europe - UEFA Euro : 4932\n",
      "England - Premier League : 13678\n",
      "Germany - 1. Bundesliga : 12340\n"
     ]
    }
   ],
   "source": [
    "for comp, df in df_lineups.items():\n",
    "    print(comp, ':', df.count())"
   ]
  },
  {
   "cell_type": "code",
   "execution_count": null,
   "metadata": {},
   "outputs": [
    {
     "name": "stdout",
     "output_type": "stream",
     "text": [
      "South America - Copa America lineups have been written to CSV.\n",
      "France - Ligue 1 lineups have been written to CSV.\n",
      "Italy - Serie A lineups have been written to CSV.\n",
      "Europe - Champions League lineups have been written to CSV.\n",
      "International - FIFA World Cup lineups have been written to CSV.\n",
      "Spain - La Liga lineups have been written to CSV.\n",
      "Africa - African Cup of Nations lineups have been written to CSV.\n",
      "United States of America - Major League Soccer lineups have been written to CSV.\n",
      "Europe - UEFA Euro lineups have been written to CSV.\n",
      "England - Premier League lineups have been written to CSV.\n",
      "Germany - 1. Bundesliga lineups have been written to CSV.\n"
     ]
    }
   ],
   "source": [
    "for comp, df in df_lineups.items():\n",
    "    df.coalesce(1).write.csv(f\"../data/split_data/lineups/{comp}.csv\", header=True)\n",
    "    print(f\"{comp} lineups have been written to CSV.\")"
   ]
  }
 ],
 "metadata": {
  "kernelspec": {
   "display_name": "myenv",
   "language": "python",
   "name": "python3"
  },
  "language_info": {
   "codemirror_mode": {
    "name": "ipython",
    "version": 3
   },
   "file_extension": ".py",
   "mimetype": "text/x-python",
   "name": "python",
   "nbconvert_exporter": "python",
   "pygments_lexer": "ipython3",
   "version": "3.12.3"
  }
 },
 "nbformat": 4,
 "nbformat_minor": 2
}
