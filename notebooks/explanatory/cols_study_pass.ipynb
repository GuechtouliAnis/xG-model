{
 "cells": [
  {
   "cell_type": "code",
   "execution_count": 2,
   "metadata": {},
   "outputs": [],
   "source": [
    "from pyspark.sql import SparkSession\n",
    "import pyspark.sql.functions as F"
   ]
  },
  {
   "cell_type": "code",
   "execution_count": null,
   "metadata": {},
   "outputs": [
    {
     "name": "stderr",
     "output_type": "stream",
     "text": [
      "25/02/08 15:40:24 WARN GarbageCollectionMetrics: To enable non-built-in garbage collector(s) List(G1 Concurrent GC), users should configure it(them) to spark.eventLog.gcMetrics.youngGenerationGarbageCollectors or spark.eventLog.gcMetrics.oldGenerationGarbageCollectors\n"
     ]
    }
   ],
   "source": [
    "spark = SparkSession.builder.appName('Pass_columns').getOrCreate()"
   ]
  },
  {
   "cell_type": "code",
   "execution_count": 5,
   "metadata": {},
   "outputs": [
    {
     "name": "stderr",
     "output_type": "stream",
     "text": [
      "                                                                                \r"
     ]
    }
   ],
   "source": [
    "Shot = spark.read.csv('Dataset/events/Spain - La Liga.csv', header=True, inferSchema=True, sep=';')"
   ]
  },
  {
   "cell_type": "code",
   "execution_count": 6,
   "metadata": {},
   "outputs": [],
   "source": [
    "Shot_assist = Shot.filter(Shot.pass_assisted_shot_id.isNotNull())"
   ]
  },
  {
   "cell_type": "code",
   "execution_count": null,
   "metadata": {},
   "outputs": [
    {
     "name": "stderr",
     "output_type": "stream",
     "text": [
      "                                                                                \r"
     ]
    }
   ],
   "source": [
    "# get only the columns that are not null when the pass is an assist\n",
    "pass_cols = []\n",
    "for cols in Shot_assist.columns:\n",
    "    if Shot_assist.filter(F.col(cols).isNull()).count() != Shot_assist.count():\n",
    "        pass_cols.append(cols)"
   ]
  },
  {
   "cell_type": "code",
   "execution_count": 6,
   "metadata": {},
   "outputs": [],
   "source": [
    "pass_cols = ['counterpress', 'duration', 'id', 'index', 'location', 'match_id', 'minute', 'pass_aerial_won', 'pass_angle',\n",
    "             'pass_assisted_shot_id', 'pass_body_part', 'pass_cross', 'pass_cut_back', 'pass_deflected', 'pass_end_location',\n",
    "             'pass_goal_assist', 'pass_height', 'pass_length', 'pass_recipient', 'pass_recipient_id', 'pass_shot_assist',\n",
    "             'pass_switch', 'pass_type', 'period', 'play_pattern', 'player', 'player_id', 'position', 'possession', 'possession_team',\n",
    "             'possession_team_id', 'related_events', 'second', 'team', 'team_id', 'timestamp', 'type', 'under_pressure', 'competition',\n",
    "             'season', 'pass_technique', 'pass_through_ball', 'off_camera', 'pass_inswinging', 'pass_outswinging', 'pass_straight',\n",
    "             'pass_no_touch']"
   ]
  },
  {
   "cell_type": "markdown",
   "metadata": {},
   "source": [
    "### Splitting Columns"
   ]
  },
  {
   "cell_type": "code",
   "execution_count": null,
   "metadata": {},
   "outputs": [],
   "source": [
    "identify_cols = ['id', 'player_id', 'type', 'pass_assisted_shot_id']\n",
    "\n",
    "features_cols = ['counterpress', 'pass_aerial_won', 'pass_angle', 'pass_body_part', 'pass_cross', 'pass_cut_back',\n",
    "                 'pass_deflected', 'pass_height', 'pass_length', 'pass_shot_assist', 'pass_switch', 'pass_type',\n",
    "                 'play_pattern', 'under_pressure', 'pass_technique', 'pass_through_ball', 'pass_inswinging', 'pass_outswinging',\n",
    "                 'pass_straight', 'pass_no_touch']\n",
    "\n",
    "dropped_cols  = ['duration', 'match_id', 'period', 'position', 'team_id', 'index', 'minute', 'pass_end_location', 'pass_goal_assist',\n",
    "                 'pass_recipient', 'pass_recipient_id', 'player_id', 'player', 'possession', 'possession_team', 'possession_team_id',\n",
    "                 'related_events', 'second', 'team', 'timestamp', 'location', 'off_camera', 'competition', 'season']"
   ]
  },
  {
   "cell_type": "code",
   "execution_count": null,
   "metadata": {},
   "outputs": [
    {
     "name": "stdout",
     "output_type": "stream",
     "text": [
      "+--------------------+---------+----+------------+---------------+-----------+---------------------+--------------+----------+-------------+--------------+-----------+-----------+----------------+-----------+---------+--------------+--------------+--------------+-----------------+---------------+----------------+-------------+-------------+\n",
      "|                  id|player_id|type|counterpress|pass_aerial_won| pass_angle|pass_assisted_shot_id|pass_body_part|pass_cross|pass_cut_back|pass_deflected|pass_height|pass_length|pass_shot_assist|pass_switch|pass_type|  play_pattern|under_pressure|pass_technique|pass_through_ball|pass_inswinging|pass_outswinging|pass_straight|pass_no_touch|\n",
      "+--------------------+---------+----+------------+---------------+-----------+---------------------+--------------+----------+-------------+--------------+-----------+-----------+----------------+-----------+---------+--------------+--------------+--------------+-----------------+---------------+----------------+-------------+-------------+\n",
      "|92f50ac4-2f1c-422...|   6826.0|Pass|        NULL|           NULL| 0.06490869| c5341577-e1ca-474...|     Left Foot|      NULL|         NULL|          NULL|Ground Pass|   40.08441|            true|       NULL|     NULL| From Throw In|          NULL|  Through Ball|             true|           NULL|            NULL|         NULL|         NULL|\n",
      "|af98e1f8-eaab-461...|  24049.0|Pass|        NULL|           NULL|  1.3372719| 1aedaf9e-bc12-4d0...|     Left Foot|      true|         NULL|          NULL|Ground Pass|    42.3495|            true|       true|     NULL|  Regular Play|          NULL|          NULL|             NULL|           NULL|            NULL|         NULL|         NULL|\n",
      "|858fd5af-4ea6-427...|  30756.0|Pass|        NULL|           NULL|  1.7662871| 96b28bfc-d174-4b3...|     Left Foot|      NULL|         NULL|          NULL|Ground Pass|  10.296116|            true|       NULL|     NULL| From Throw In|          NULL|          NULL|             NULL|           NULL|            NULL|         NULL|         NULL|\n",
      "|6cccfc2b-30f9-459...|   6379.0|Pass|        NULL|           NULL|-0.83823353| 5eeab880-4efe-4bc...|    Right Foot|      NULL|         NULL|          NULL|  High Pass|  29.456747|            true|       NULL|     NULL|From Free Kick|          NULL|          NULL|             NULL|           NULL|            NULL|         NULL|         NULL|\n",
      "|6841ceac-83e1-4fa...|  30756.0|Pass|        NULL|           NULL|  1.7126933| 510062b4-1210-46e...|    Right Foot|      NULL|         NULL|          NULL|Ground Pass|  12.020815|            true|       NULL|     NULL|From Goal Kick|          NULL|          NULL|             NULL|           NULL|            NULL|         NULL|         NULL|\n",
      "|b4337709-ce1d-400...|  30756.0|Pass|        NULL|           NULL|-0.32175055| ce93dbcd-25d3-4a2...|      No Touch|      NULL|         NULL|          NULL|Ground Pass|   5.375872|            true|       NULL|     NULL|  Regular Play|          NULL|          NULL|             NULL|           NULL|            NULL|         NULL|         true|\n",
      "|ece42874-634f-4d2...|  30486.0|Pass|        NULL|           NULL| 0.79457223| 759f002e-906d-4e6...|    Right Foot|      NULL|         NULL|          NULL|Ground Pass|  7.7077885|            true|       NULL|     NULL| From Throw In|          NULL|          NULL|             NULL|           NULL|            NULL|         NULL|         NULL|\n",
      "|5644a791-2f1a-4b3...|   6379.0|Pass|        NULL|           NULL| -0.8519663| 992051dc-65fe-47e...|    Right Foot|      NULL|         NULL|          NULL|  High Pass|  29.764408|            true|       NULL|     NULL| From Throw In|          NULL|          NULL|             NULL|           NULL|            NULL|         NULL|         NULL|\n",
      "|660dd019-74f0-462...|   6379.0|Pass|        NULL|           NULL|-0.47145995| e8bf334b-5fec-46e...|    Right Foot|      NULL|         NULL|          NULL|Ground Pass|   5.724509|            true|       NULL|     NULL| From Throw In|          NULL|          NULL|             NULL|           NULL|            NULL|         NULL|         NULL|\n",
      "|38f751f3-9054-40e...|   5503.0|Pass|        NULL|           NULL| -1.5798051| ba5ab9ce-69e0-496...|     Left Foot|      NULL|         NULL|          NULL|Ground Pass|   33.30135|            true|       NULL|Free Kick|From Free Kick|          NULL|          NULL|             NULL|           NULL|            NULL|         NULL|         NULL|\n",
      "+--------------------+---------+----+------------+---------------+-----------+---------------------+--------------+----------+-------------+--------------+-----------+-----------+----------------+-----------+---------+--------------+--------------+--------------+-----------------+---------------+----------------+-------------+-------------+\n",
      "only showing top 10 rows\n",
      "\n"
     ]
    }
   ],
   "source": [
    "Shot_assist.select(identify_cols + features_cols).show(10)"
   ]
  },
  {
   "cell_type": "code",
   "execution_count": 11,
   "metadata": {},
   "outputs": [
    {
     "name": "stdout",
     "output_type": "stream",
     "text": [
      "root\n",
      " |-- id: string (nullable = true)\n",
      " |-- player_id: double (nullable = true)\n",
      " |-- type: string (nullable = true)\n",
      " |-- counterpress: boolean (nullable = true)\n",
      " |-- pass_aerial_won: boolean (nullable = true)\n",
      " |-- pass_angle: double (nullable = true)\n",
      " |-- pass_assisted_shot_id: string (nullable = true)\n",
      " |-- pass_body_part: string (nullable = true)\n",
      " |-- pass_cross: boolean (nullable = true)\n",
      " |-- pass_cut_back: boolean (nullable = true)\n",
      " |-- pass_deflected: boolean (nullable = true)\n",
      " |-- pass_height: string (nullable = true)\n",
      " |-- pass_length: double (nullable = true)\n",
      " |-- pass_shot_assist: boolean (nullable = true)\n",
      " |-- pass_switch: boolean (nullable = true)\n",
      " |-- pass_type: string (nullable = true)\n",
      " |-- play_pattern: string (nullable = true)\n",
      " |-- under_pressure: boolean (nullable = true)\n",
      " |-- pass_technique: string (nullable = true)\n",
      " |-- pass_through_ball: boolean (nullable = true)\n",
      " |-- pass_inswinging: boolean (nullable = true)\n",
      " |-- pass_outswinging: boolean (nullable = true)\n",
      " |-- pass_straight: boolean (nullable = true)\n",
      " |-- pass_no_touch: boolean (nullable = true)\n",
      "\n"
     ]
    }
   ],
   "source": [
    "Shot_assist.select(identify_cols + features_cols).printSchema()"
   ]
  },
  {
   "cell_type": "markdown",
   "metadata": {},
   "source": [
    "### Selecting Features"
   ]
  },
  {
   "cell_type": "markdown",
   "metadata": {},
   "source": [
    "#### Boolean variables"
   ]
  },
  {
   "cell_type": "code",
   "execution_count": null,
   "metadata": {},
   "outputs": [
    {
     "name": "stderr",
     "output_type": "stream",
     "text": [
      "                                                                                \r"
     ]
    },
    {
     "name": "stdout",
     "output_type": "stream",
     "text": [
      "+------------+-----+\n",
      "|counterpress|count|\n",
      "+------------+-----+\n",
      "|        NULL|10267|\n",
      "|        true|   17|\n",
      "+------------+-----+\n",
      "\n"
     ]
    },
    {
     "name": "stderr",
     "output_type": "stream",
     "text": [
      "                                                                                \r"
     ]
    },
    {
     "name": "stdout",
     "output_type": "stream",
     "text": [
      "+---------------+-----+\n",
      "|pass_aerial_won|count|\n",
      "+---------------+-----+\n",
      "|           NULL|10088|\n",
      "|           true|  196|\n",
      "+---------------+-----+\n",
      "\n"
     ]
    },
    {
     "name": "stderr",
     "output_type": "stream",
     "text": [
      "                                                                                \r"
     ]
    },
    {
     "name": "stdout",
     "output_type": "stream",
     "text": [
      "+----------+-----+\n",
      "|pass_cross|count|\n",
      "+----------+-----+\n",
      "|      NULL| 8144|\n",
      "|      true| 2140|\n",
      "+----------+-----+\n",
      "\n"
     ]
    },
    {
     "name": "stderr",
     "output_type": "stream",
     "text": [
      "                                                                                \r"
     ]
    },
    {
     "name": "stdout",
     "output_type": "stream",
     "text": [
      "+-------------+-----+\n",
      "|pass_cut_back|count|\n",
      "+-------------+-----+\n",
      "|         NULL| 9977|\n",
      "|         true|  307|\n",
      "+-------------+-----+\n",
      "\n"
     ]
    },
    {
     "name": "stderr",
     "output_type": "stream",
     "text": [
      "                                                                                \r"
     ]
    },
    {
     "name": "stdout",
     "output_type": "stream",
     "text": [
      "+--------------+-----+\n",
      "|pass_deflected|count|\n",
      "+--------------+-----+\n",
      "|          NULL|10270|\n",
      "|          true|   14|\n",
      "+--------------+-----+\n",
      "\n"
     ]
    },
    {
     "name": "stderr",
     "output_type": "stream",
     "text": [
      "                                                                                \r"
     ]
    },
    {
     "name": "stdout",
     "output_type": "stream",
     "text": [
      "+----------------+-----+\n",
      "|pass_shot_assist|count|\n",
      "+----------------+-----+\n",
      "|            NULL| 1182|\n",
      "|            true| 9102|\n",
      "+----------------+-----+\n",
      "\n"
     ]
    },
    {
     "name": "stderr",
     "output_type": "stream",
     "text": [
      "                                                                                \r"
     ]
    },
    {
     "name": "stdout",
     "output_type": "stream",
     "text": [
      "+-----------+-----+\n",
      "|pass_switch|count|\n",
      "+-----------+-----+\n",
      "|       NULL| 9619|\n",
      "|       true|  665|\n",
      "+-----------+-----+\n",
      "\n"
     ]
    },
    {
     "name": "stderr",
     "output_type": "stream",
     "text": [
      "                                                                                \r"
     ]
    },
    {
     "name": "stdout",
     "output_type": "stream",
     "text": [
      "+--------------+-----+\n",
      "|under_pressure|count|\n",
      "+--------------+-----+\n",
      "|          NULL| 8880|\n",
      "|          true| 1404|\n",
      "+--------------+-----+\n",
      "\n"
     ]
    },
    {
     "name": "stderr",
     "output_type": "stream",
     "text": [
      "                                                                                \r"
     ]
    },
    {
     "name": "stdout",
     "output_type": "stream",
     "text": [
      "+-----------------+-----+\n",
      "|pass_through_ball|count|\n",
      "+-----------------+-----+\n",
      "|             NULL| 9581|\n",
      "|             true|  703|\n",
      "+-----------------+-----+\n",
      "\n"
     ]
    },
    {
     "name": "stderr",
     "output_type": "stream",
     "text": [
      "                                                                                \r"
     ]
    },
    {
     "name": "stdout",
     "output_type": "stream",
     "text": [
      "+---------------+-----+\n",
      "|pass_inswinging|count|\n",
      "+---------------+-----+\n",
      "|           NULL|10015|\n",
      "|           true|  269|\n",
      "+---------------+-----+\n",
      "\n"
     ]
    },
    {
     "name": "stderr",
     "output_type": "stream",
     "text": [
      "                                                                                \r"
     ]
    },
    {
     "name": "stdout",
     "output_type": "stream",
     "text": [
      "+----------------+-----+\n",
      "|pass_outswinging|count|\n",
      "+----------------+-----+\n",
      "|            NULL| 9770|\n",
      "|            true|  514|\n",
      "+----------------+-----+\n",
      "\n"
     ]
    },
    {
     "name": "stderr",
     "output_type": "stream",
     "text": [
      "                                                                                \r"
     ]
    },
    {
     "name": "stdout",
     "output_type": "stream",
     "text": [
      "+-------------+-----+\n",
      "|pass_straight|count|\n",
      "+-------------+-----+\n",
      "|         NULL|10223|\n",
      "|         true|   61|\n",
      "+-------------+-----+\n",
      "\n"
     ]
    },
    {
     "name": "stderr",
     "output_type": "stream",
     "text": [
      "[Stage 42:>                                                       (0 + 12) / 12]\r"
     ]
    },
    {
     "name": "stdout",
     "output_type": "stream",
     "text": [
      "+-------------+-----+\n",
      "|pass_no_touch|count|\n",
      "+-------------+-----+\n",
      "|         NULL|10231|\n",
      "|         true|   53|\n",
      "+-------------+-----+\n",
      "\n"
     ]
    },
    {
     "name": "stderr",
     "output_type": "stream",
     "text": [
      "                                                                                \r"
     ]
    }
   ],
   "source": [
    "bool_vars = ['counterpress','pass_aerial_won','pass_cross','pass_cut_back','pass_deflected','pass_shot_assist','pass_switch',\n",
    "             'under_pressure','pass_through_ball','pass_inswinging','pass_outswinging','pass_straight','pass_no_touch']\n",
    "for va in bool_vars:\n",
    "    Shot_assist.groupBy(va).count().show()"
   ]
  },
  {
   "cell_type": "markdown",
   "metadata": {},
   "source": [
    "Since `counterpress` and `pass_deflected` have very few `true` values, we will drop them."
   ]
  },
  {
   "cell_type": "markdown",
   "metadata": {},
   "source": [
    "#### Categorical variables"
   ]
  },
  {
   "cell_type": "code",
   "execution_count": 19,
   "metadata": {},
   "outputs": [
    {
     "name": "stderr",
     "output_type": "stream",
     "text": [
      "                                                                                \r"
     ]
    },
    {
     "name": "stdout",
     "output_type": "stream",
     "text": [
      "+--------------+-----+\n",
      "|pass_body_part|count|\n",
      "+--------------+-----+\n",
      "|     Drop Kick|   10|\n",
      "|    Right Foot| 6162|\n",
      "|          NULL|  268|\n",
      "|     Left Foot| 3527|\n",
      "|          Head|  196|\n",
      "|      No Touch|   53|\n",
      "|         Other|   62|\n",
      "|    Keeper Arm|    6|\n",
      "+--------------+-----+\n",
      "\n"
     ]
    },
    {
     "name": "stderr",
     "output_type": "stream",
     "text": [
      "                                                                                \r"
     ]
    },
    {
     "name": "stdout",
     "output_type": "stream",
     "text": [
      "+-----------+-----+\n",
      "|pass_height|count|\n",
      "+-----------+-----+\n",
      "|Ground Pass| 5437|\n",
      "|   Low Pass| 1248|\n",
      "|  High Pass| 3599|\n",
      "+-----------+-----+\n",
      "\n"
     ]
    },
    {
     "name": "stderr",
     "output_type": "stream",
     "text": [
      "                                                                                \r"
     ]
    },
    {
     "name": "stdout",
     "output_type": "stream",
     "text": [
      "+------------+-----+\n",
      "|   pass_type|count|\n",
      "+------------+-----+\n",
      "|    Throw-in|   72|\n",
      "|        NULL| 8391|\n",
      "|   Goal Kick|    6|\n",
      "|      Corner|  883|\n",
      "|Interception|   28|\n",
      "|   Free Kick|  434|\n",
      "|    Recovery|  470|\n",
      "+------------+-----+\n",
      "\n"
     ]
    },
    {
     "name": "stderr",
     "output_type": "stream",
     "text": [
      "                                                                                \r"
     ]
    },
    {
     "name": "stdout",
     "output_type": "stream",
     "text": [
      "+--------------+-----+\n",
      "|  play_pattern|count|\n",
      "+--------------+-----+\n",
      "|  Regular Play| 3945|\n",
      "|   From Keeper|  163|\n",
      "|From Goal Kick|  419|\n",
      "| From Throw In| 1816|\n",
      "|         Other|    6|\n",
      "|   From Corner| 1588|\n",
      "| From Kick Off|  127|\n",
      "|  From Counter|  558|\n",
      "|From Free Kick| 1662|\n",
      "+--------------+-----+\n",
      "\n"
     ]
    },
    {
     "name": "stderr",
     "output_type": "stream",
     "text": [
      "[Stage 57:=========>                                              (2 + 10) / 12]\r"
     ]
    },
    {
     "name": "stdout",
     "output_type": "stream",
     "text": [
      "+--------------+-----+\n",
      "|pass_technique|count|\n",
      "+--------------+-----+\n",
      "|    Inswinging|  269|\n",
      "|          NULL| 8737|\n",
      "|   Outswinging|  514|\n",
      "|      Straight|   61|\n",
      "|  Through Ball|  703|\n",
      "+--------------+-----+\n",
      "\n"
     ]
    },
    {
     "name": "stderr",
     "output_type": "stream",
     "text": [
      "                                                                                \r"
     ]
    }
   ],
   "source": [
    "categorical_variables = ['pass_body_part','pass_height','pass_type','play_pattern','pass_technique']\n",
    "for j in categorical_variables:\n",
    "    Shot_assist.groupBy(j).count().show()"
   ]
  },
  {
   "cell_type": "markdown",
   "metadata": {},
   "source": [
    "`pass_body_part` will be kept for now.</br>\n",
    "`pass_height` will be encoded (0: Ground Pass, 1: Low Pass, 2: High Pass)</br>\n",
    "`pass_type` will be kept and compared with `play_pattern`</br>\n",
    "`play_pattern` beside being compared with `pass_type` it will also be compared with `play_pattern` of the shot</br>\n",
    "`pass_technique` apparantly it holds same information as the boolean variables, therefore this theory will be tested\n",
    "if found to be true, it will be dropped."
   ]
  },
  {
   "cell_type": "markdown",
   "metadata": {},
   "source": [
    "#### Selected features"
   ]
  },
  {
   "cell_type": "code",
   "execution_count": 61,
   "metadata": {},
   "outputs": [
    {
     "name": "stdout",
     "output_type": "stream",
     "text": [
      "+--------------------+---------------------+---------+--------------+--------------+-----------+---------+--------------+--------------+-----------+-----------+---------------+----------+-------------+-----------+-----------------+---------------+----------------+-------------+-------------+\n",
      "|                  id|pass_assisted_shot_id|player_id|under_pressure|pass_body_part|pass_height|pass_type|  play_pattern|pass_technique|pass_length| pass_angle|pass_aerial_won|pass_cross|pass_cut_back|pass_switch|pass_through_ball|pass_inswinging|pass_outswinging|pass_straight|pass_no_touch|\n",
      "+--------------------+---------------------+---------+--------------+--------------+-----------+---------+--------------+--------------+-----------+-----------+---------------+----------+-------------+-----------+-----------------+---------------+----------------+-------------+-------------+\n",
      "|92f50ac4-2f1c-422...| c5341577-e1ca-474...|   6826.0|          NULL|     Left Foot|Ground Pass|     NULL| From Throw In|  Through Ball|   40.08441| 0.06490869|           NULL|      NULL|         NULL|       NULL|             true|           NULL|            NULL|         NULL|         NULL|\n",
      "|af98e1f8-eaab-461...| 1aedaf9e-bc12-4d0...|  24049.0|          NULL|     Left Foot|Ground Pass|     NULL|  Regular Play|          NULL|    42.3495|  1.3372719|           NULL|      true|         NULL|       true|             NULL|           NULL|            NULL|         NULL|         NULL|\n",
      "|858fd5af-4ea6-427...| 96b28bfc-d174-4b3...|  30756.0|          NULL|     Left Foot|Ground Pass|     NULL| From Throw In|          NULL|  10.296116|  1.7662871|           NULL|      NULL|         NULL|       NULL|             NULL|           NULL|            NULL|         NULL|         NULL|\n",
      "|6cccfc2b-30f9-459...| 5eeab880-4efe-4bc...|   6379.0|          NULL|    Right Foot|  High Pass|     NULL|From Free Kick|          NULL|  29.456747|-0.83823353|           NULL|      NULL|         NULL|       NULL|             NULL|           NULL|            NULL|         NULL|         NULL|\n",
      "|6841ceac-83e1-4fa...| 510062b4-1210-46e...|  30756.0|          NULL|    Right Foot|Ground Pass|     NULL|From Goal Kick|          NULL|  12.020815|  1.7126933|           NULL|      NULL|         NULL|       NULL|             NULL|           NULL|            NULL|         NULL|         NULL|\n",
      "|b4337709-ce1d-400...| ce93dbcd-25d3-4a2...|  30756.0|          NULL|      No Touch|Ground Pass|     NULL|  Regular Play|          NULL|   5.375872|-0.32175055|           NULL|      NULL|         NULL|       NULL|             NULL|           NULL|            NULL|         NULL|         true|\n",
      "|ece42874-634f-4d2...| 759f002e-906d-4e6...|  30486.0|          NULL|    Right Foot|Ground Pass|     NULL| From Throw In|          NULL|  7.7077885| 0.79457223|           NULL|      NULL|         NULL|       NULL|             NULL|           NULL|            NULL|         NULL|         NULL|\n",
      "|5644a791-2f1a-4b3...| 992051dc-65fe-47e...|   6379.0|          NULL|    Right Foot|  High Pass|     NULL| From Throw In|          NULL|  29.764408| -0.8519663|           NULL|      NULL|         NULL|       NULL|             NULL|           NULL|            NULL|         NULL|         NULL|\n",
      "|660dd019-74f0-462...| e8bf334b-5fec-46e...|   6379.0|          NULL|    Right Foot|Ground Pass|     NULL| From Throw In|          NULL|   5.724509|-0.47145995|           NULL|      NULL|         NULL|       NULL|             NULL|           NULL|            NULL|         NULL|         NULL|\n",
      "|38f751f3-9054-40e...| ba5ab9ce-69e0-496...|   5503.0|          NULL|     Left Foot|Ground Pass|Free Kick|From Free Kick|          NULL|   33.30135| -1.5798051|           NULL|      NULL|         NULL|       NULL|             NULL|           NULL|            NULL|         NULL|         NULL|\n",
      "|35ff15ae-1335-4be...| feff0ad0-9d59-46c...|   6612.0|          NULL|     Left Foot|  High Pass|     NULL|From Goal Kick|          NULL|  32.626675|  1.1908591|           NULL|      true|         NULL|       NULL|             NULL|           NULL|            NULL|         NULL|         NULL|\n",
      "|29fecae2-c3af-434...| e092fe66-4fd7-40e...|  30486.0|          NULL|    Right Foot|Ground Pass|     NULL| From Throw In|          NULL|  11.607756|-0.39810455|           NULL|      NULL|         NULL|       NULL|             NULL|           NULL|            NULL|         NULL|         NULL|\n",
      "|b07d4bc4-b41a-43b...| 9474126e-22fa-4d5...|   5503.0|          NULL|     Left Foot|Ground Pass|     NULL|  Regular Play|          NULL|  19.911053| -1.0329608|           NULL|      NULL|         NULL|       NULL|             NULL|           NULL|            NULL|         NULL|         NULL|\n",
      "|9a0a0b4d-47f7-4bb...| d1eacbf8-fed7-434...|   8118.0|          NULL|    Right Foot|  High Pass|     NULL|  Regular Play|          NULL|   33.41751|  1.1647258|           NULL|      NULL|         NULL|       NULL|             NULL|           NULL|            NULL|         NULL|         NULL|\n",
      "|f9ae5cb8-4753-477...| 47204227-418b-4fd...|   6947.0|          NULL|    Right Foot|Ground Pass|     NULL|   From Corner|          NULL|  19.467152|  2.3089569|           NULL|      NULL|         NULL|       NULL|             NULL|           NULL|            NULL|         NULL|         NULL|\n",
      "|e0c064af-09ac-4a6...| 6c09c06a-9942-44d...|   5503.0|          NULL|     Left Foot|Ground Pass|Free Kick|From Free Kick|          NULL|   17.92038| -1.9419765|           NULL|      true|         NULL|       NULL|             NULL|           NULL|            NULL|         NULL|         NULL|\n",
      "|8a06ecc4-8807-42b...| 103e6d5f-c10d-4d2...|  30486.0|          NULL|    Right Foot|Ground Pass|     NULL|From Free Kick|          NULL|  21.418917| -1.9235561|           NULL|      NULL|         NULL|       NULL|             NULL|           NULL|            NULL|         NULL|         NULL|\n",
      "|4797b849-feba-453...| 232a77b0-107d-4bb...|   5503.0|          NULL|     Left Foot|  High Pass|     NULL|   From Corner|          NULL|  23.131147|  1.7402093|           NULL|      true|         NULL|       NULL|             NULL|           NULL|            NULL|         NULL|         NULL|\n",
      "|d379d79a-59bb-4bd...| 717dd9c4-5ec7-44d...|   6379.0|          NULL|    Right Foot|Ground Pass|     NULL| From Throw In|          NULL|   9.265528| -1.6897966|           NULL|      NULL|         NULL|       NULL|             NULL|           NULL|            NULL|         NULL|         NULL|\n",
      "|e87aabea-780c-493...| 18b170d0-3001-4e7...|   6379.0|          NULL|    Right Foot|Ground Pass|     NULL|   From Corner|          NULL|  23.681215| -2.2244322|           NULL|      NULL|         NULL|       NULL|             NULL|           NULL|            NULL|         NULL|         NULL|\n",
      "+--------------------+---------------------+---------+--------------+--------------+-----------+---------+--------------+--------------+-----------+-----------+---------------+----------+-------------+-----------+-----------------+---------------+----------------+-------------+-------------+\n",
      "only showing top 20 rows\n",
      "\n"
     ]
    }
   ],
   "source": [
    "PASS_FEATURES = ['id', 'pass_assisted_shot_id', 'player_id', 'under_pressure', 'pass_body_part', 'pass_height',\n",
    "                 'pass_type', 'play_pattern','pass_technique', 'pass_length', 'pass_angle', \n",
    "                 'pass_aerial_won', 'pass_cross', 'pass_cut_back', 'pass_switch', 'pass_through_ball', 'pass_inswinging',\n",
    "                 'pass_outswinging', 'pass_straight', 'pass_no_touch']\n",
    "Passes = Shot_assist.select(PASS_FEATURES)\n",
    "Passes.show()"
   ]
  },
  {
   "cell_type": "markdown",
   "metadata": {},
   "source": [
    "### Preprocessing"
   ]
  },
  {
   "cell_type": "code",
   "execution_count": 62,
   "metadata": {},
   "outputs": [],
   "source": [
    "# Pass height\n",
    "Passes = Passes.withColumn('pass_height',F.when(F.col('pass_height')=='Ground Pass', 0)\\\n",
    "    .when(F.col('pass_height')=='Low Pass', 1).otherwise(2))"
   ]
  },
  {
   "cell_type": "code",
   "execution_count": 63,
   "metadata": {},
   "outputs": [
    {
     "name": "stderr",
     "output_type": "stream",
     "text": [
      "[Stage 121:=====================================>                  (8 + 4) / 12]\r"
     ]
    },
    {
     "name": "stdout",
     "output_type": "stream",
     "text": [
      "+------------+--------------+-----+\n",
      "|   pass_type|  play_pattern|count|\n",
      "+------------+--------------+-----+\n",
      "|        NULL|  Regular Play| 3771|\n",
      "|        NULL|   From Keeper|  160|\n",
      "|        NULL|From Goal Kick|  387|\n",
      "|        NULL| From Throw In| 1657|\n",
      "|        NULL|         Other|    6|\n",
      "|        NULL|   From Corner|  639|\n",
      "|        NULL| From Kick Off|  120|\n",
      "|        NULL|  From Counter|  490|\n",
      "|        NULL|From Free Kick| 1161|\n",
      "|      Corner|   From Corner|  883|\n",
      "|   Free Kick|From Free Kick|  434|\n",
      "|   Goal Kick|From Goal Kick|    6|\n",
      "|Interception|  Regular Play|   14|\n",
      "|Interception|  From Counter|    8|\n",
      "|Interception| From Throw In|    2|\n",
      "|Interception|From Free Kick|    3|\n",
      "|Interception|   From Corner|    1|\n",
      "|    Recovery|From Free Kick|   64|\n",
      "|    Recovery|   From Corner|   65|\n",
      "|    Recovery|  Regular Play|  160|\n",
      "|    Recovery| From Throw In|   85|\n",
      "|    Recovery|From Goal Kick|   26|\n",
      "|    Recovery|  From Counter|   60|\n",
      "|    Recovery| From Kick Off|    7|\n",
      "|    Recovery|   From Keeper|    3|\n",
      "|    Throw-in| From Throw In|   72|\n",
      "+------------+--------------+-----+\n",
      "\n"
     ]
    },
    {
     "name": "stderr",
     "output_type": "stream",
     "text": [
      "                                                                                \r"
     ]
    }
   ],
   "source": [
    "# Pass type\n",
    "Passes.groupBy('pass_type','play_pattern').count().orderBy('pass_type').show(26)"
   ]
  },
  {
   "cell_type": "markdown",
   "metadata": {},
   "source": [
    "`pass_type` overlaps with `play_pattern`, only `play_pattern` will be kept."
   ]
  },
  {
   "cell_type": "code",
   "execution_count": 64,
   "metadata": {},
   "outputs": [
    {
     "name": "stderr",
     "output_type": "stream",
     "text": [
      "[Stage 124:>                                                      (0 + 12) / 12]\r"
     ]
    },
    {
     "name": "stdout",
     "output_type": "stream",
     "text": [
      "+--------------+-------------+----------------+---------------+-----------------+-----+\n",
      "|pass_technique|pass_straight|pass_outswinging|pass_inswinging|pass_through_ball|count|\n",
      "+--------------+-------------+----------------+---------------+-----------------+-----+\n",
      "|      Straight|         true|            NULL|           NULL|             NULL|   61|\n",
      "|   Outswinging|         NULL|            true|           NULL|             NULL|  514|\n",
      "|          NULL|         NULL|            NULL|           NULL|             NULL| 8737|\n",
      "|    Inswinging|         NULL|            NULL|           true|             NULL|  269|\n",
      "|  Through Ball|         NULL|            NULL|           NULL|             true|  703|\n",
      "+--------------+-------------+----------------+---------------+-----------------+-----+\n",
      "\n"
     ]
    },
    {
     "name": "stderr",
     "output_type": "stream",
     "text": [
      "                                                                                \r"
     ]
    }
   ],
   "source": [
    "# Pass technique\n",
    "Passes.groupBy('pass_technique','pass_straight','pass_outswinging','pass_inswinging','pass_through_ball').count().show()"
   ]
  },
  {
   "cell_type": "markdown",
   "metadata": {},
   "source": [
    "The information stored in `pass_technique` is the same stored in the boolean variables, therefore it will be dropped. "
   ]
  },
  {
   "cell_type": "code",
   "execution_count": 65,
   "metadata": {},
   "outputs": [],
   "source": [
    "# rename columns to avoid confusion when joining with shots dataframe\n",
    "Passes = Passes.withColumnsRenamed({'id':'pass_id',\n",
    "                                    'player_id':'pass_player_id',\n",
    "                                    'play_pattern':'pass_play_pattern',\n",
    "                                    'under_pressure':'pass_under_pressure'})"
   ]
  },
  {
   "cell_type": "code",
   "execution_count": 66,
   "metadata": {},
   "outputs": [
    {
     "name": "stdout",
     "output_type": "stream",
     "text": [
      "+--------------------+---------------------+--------------+-------------------+--------------+-----------+-----------------+-----------+-----------+---------------+----------+-------------+-----------+-----------------+---------------+----------------+-------------+-------------+\n",
      "|             pass_id|pass_assisted_shot_id|pass_player_id|pass_under_pressure|pass_body_part|pass_height|pass_play_pattern|pass_length| pass_angle|pass_aerial_won|pass_cross|pass_cut_back|pass_switch|pass_through_ball|pass_inswinging|pass_outswinging|pass_straight|pass_no_touch|\n",
      "+--------------------+---------------------+--------------+-------------------+--------------+-----------+-----------------+-----------+-----------+---------------+----------+-------------+-----------+-----------------+---------------+----------------+-------------+-------------+\n",
      "|92f50ac4-2f1c-422...| c5341577-e1ca-474...|        6826.0|               NULL|     Left Foot|          0|    From Throw In|   40.08441| 0.06490869|           NULL|      NULL|         NULL|       NULL|             true|           NULL|            NULL|         NULL|         NULL|\n",
      "|af98e1f8-eaab-461...| 1aedaf9e-bc12-4d0...|       24049.0|               NULL|     Left Foot|          0|     Regular Play|    42.3495|  1.3372719|           NULL|      true|         NULL|       true|             NULL|           NULL|            NULL|         NULL|         NULL|\n",
      "|858fd5af-4ea6-427...| 96b28bfc-d174-4b3...|       30756.0|               NULL|     Left Foot|          0|    From Throw In|  10.296116|  1.7662871|           NULL|      NULL|         NULL|       NULL|             NULL|           NULL|            NULL|         NULL|         NULL|\n",
      "|6cccfc2b-30f9-459...| 5eeab880-4efe-4bc...|        6379.0|               NULL|    Right Foot|          2|   From Free Kick|  29.456747|-0.83823353|           NULL|      NULL|         NULL|       NULL|             NULL|           NULL|            NULL|         NULL|         NULL|\n",
      "|6841ceac-83e1-4fa...| 510062b4-1210-46e...|       30756.0|               NULL|    Right Foot|          0|   From Goal Kick|  12.020815|  1.7126933|           NULL|      NULL|         NULL|       NULL|             NULL|           NULL|            NULL|         NULL|         NULL|\n",
      "|b4337709-ce1d-400...| ce93dbcd-25d3-4a2...|       30756.0|               NULL|      No Touch|          0|     Regular Play|   5.375872|-0.32175055|           NULL|      NULL|         NULL|       NULL|             NULL|           NULL|            NULL|         NULL|         true|\n",
      "|ece42874-634f-4d2...| 759f002e-906d-4e6...|       30486.0|               NULL|    Right Foot|          0|    From Throw In|  7.7077885| 0.79457223|           NULL|      NULL|         NULL|       NULL|             NULL|           NULL|            NULL|         NULL|         NULL|\n",
      "|5644a791-2f1a-4b3...| 992051dc-65fe-47e...|        6379.0|               NULL|    Right Foot|          2|    From Throw In|  29.764408| -0.8519663|           NULL|      NULL|         NULL|       NULL|             NULL|           NULL|            NULL|         NULL|         NULL|\n",
      "|660dd019-74f0-462...| e8bf334b-5fec-46e...|        6379.0|               NULL|    Right Foot|          0|    From Throw In|   5.724509|-0.47145995|           NULL|      NULL|         NULL|       NULL|             NULL|           NULL|            NULL|         NULL|         NULL|\n",
      "|38f751f3-9054-40e...| ba5ab9ce-69e0-496...|        5503.0|               NULL|     Left Foot|          0|   From Free Kick|   33.30135| -1.5798051|           NULL|      NULL|         NULL|       NULL|             NULL|           NULL|            NULL|         NULL|         NULL|\n",
      "+--------------------+---------------------+--------------+-------------------+--------------+-----------+-----------------+-----------+-----------+---------------+----------+-------------+-----------+-----------------+---------------+----------------+-------------+-------------+\n",
      "only showing top 10 rows\n",
      "\n"
     ]
    }
   ],
   "source": [
    "Passes.drop('pass_type','pass_technique').show(10)"
   ]
  },
  {
   "cell_type": "code",
   "execution_count": 7,
   "metadata": {},
   "outputs": [],
   "source": [
    "pass_c = ['pass_assisted_shot_id', 'pass_height',\n",
    "          'pass_length', 'pass_angle', 'pass_aerial_won', 'under_pressure', 'pass_cross', 'pass_cut_back',\n",
    "          'pass_switch', 'pass_through_ball', 'pass_inswinging', 'pass_outswinging', 'pass_straight', 'pass_no_touch']\n",
    "\n",
    "def Pass_cols(df, pass_c):\n",
    "    df = df.select(pass_c)\n",
    "    df = df.withColumn('pass_height',F.when(F.col('pass_height')=='Ground Pass', 0)\\\n",
    "        .when(F.col('pass_height')=='Low Pass', 1).otherwise(2))\n",
    "    df = df.withColumnsRenamed({'id':'pass_id',\n",
    "                                    'player_id':'pass_player_id',\n",
    "                                    'play_pattern':'pass_play_pattern',\n",
    "                                    'under_pressure':'pass_under_pressure'})\n",
    "    return df"
   ]
  },
  {
   "cell_type": "code",
   "execution_count": 8,
   "metadata": {},
   "outputs": [],
   "source": [
    "df = Pass_cols(Shot_assist,pass_c)"
   ]
  },
  {
   "cell_type": "code",
   "execution_count": 9,
   "metadata": {},
   "outputs": [
    {
     "name": "stdout",
     "output_type": "stream",
     "text": [
      "+---------------------+-----------+-----------+-----------+---------------+-------------------+----------+-------------+-----------+-----------------+---------------+----------------+-------------+-------------+\n",
      "|pass_assisted_shot_id|pass_height|pass_length| pass_angle|pass_aerial_won|pass_under_pressure|pass_cross|pass_cut_back|pass_switch|pass_through_ball|pass_inswinging|pass_outswinging|pass_straight|pass_no_touch|\n",
      "+---------------------+-----------+-----------+-----------+---------------+-------------------+----------+-------------+-----------+-----------------+---------------+----------------+-------------+-------------+\n",
      "| c5341577-e1ca-474...|          0|   40.08441| 0.06490869|           NULL|               NULL|      NULL|         NULL|       NULL|             true|           NULL|            NULL|         NULL|         NULL|\n",
      "| 1aedaf9e-bc12-4d0...|          0|    42.3495|  1.3372719|           NULL|               NULL|      true|         NULL|       true|             NULL|           NULL|            NULL|         NULL|         NULL|\n",
      "| 96b28bfc-d174-4b3...|          0|  10.296116|  1.7662871|           NULL|               NULL|      NULL|         NULL|       NULL|             NULL|           NULL|            NULL|         NULL|         NULL|\n",
      "| 5eeab880-4efe-4bc...|          2|  29.456747|-0.83823353|           NULL|               NULL|      NULL|         NULL|       NULL|             NULL|           NULL|            NULL|         NULL|         NULL|\n",
      "| 510062b4-1210-46e...|          0|  12.020815|  1.7126933|           NULL|               NULL|      NULL|         NULL|       NULL|             NULL|           NULL|            NULL|         NULL|         NULL|\n",
      "| ce93dbcd-25d3-4a2...|          0|   5.375872|-0.32175055|           NULL|               NULL|      NULL|         NULL|       NULL|             NULL|           NULL|            NULL|         NULL|         true|\n",
      "| 759f002e-906d-4e6...|          0|  7.7077885| 0.79457223|           NULL|               NULL|      NULL|         NULL|       NULL|             NULL|           NULL|            NULL|         NULL|         NULL|\n",
      "| 992051dc-65fe-47e...|          2|  29.764408| -0.8519663|           NULL|               NULL|      NULL|         NULL|       NULL|             NULL|           NULL|            NULL|         NULL|         NULL|\n",
      "| e8bf334b-5fec-46e...|          0|   5.724509|-0.47145995|           NULL|               NULL|      NULL|         NULL|       NULL|             NULL|           NULL|            NULL|         NULL|         NULL|\n",
      "| ba5ab9ce-69e0-496...|          0|   33.30135| -1.5798051|           NULL|               NULL|      NULL|         NULL|       NULL|             NULL|           NULL|            NULL|         NULL|         NULL|\n",
      "| feff0ad0-9d59-46c...|          2|  32.626675|  1.1908591|           NULL|               NULL|      true|         NULL|       NULL|             NULL|           NULL|            NULL|         NULL|         NULL|\n",
      "| e092fe66-4fd7-40e...|          0|  11.607756|-0.39810455|           NULL|               NULL|      NULL|         NULL|       NULL|             NULL|           NULL|            NULL|         NULL|         NULL|\n",
      "| 9474126e-22fa-4d5...|          0|  19.911053| -1.0329608|           NULL|               NULL|      NULL|         NULL|       NULL|             NULL|           NULL|            NULL|         NULL|         NULL|\n",
      "| d1eacbf8-fed7-434...|          2|   33.41751|  1.1647258|           NULL|               NULL|      NULL|         NULL|       NULL|             NULL|           NULL|            NULL|         NULL|         NULL|\n",
      "| 47204227-418b-4fd...|          0|  19.467152|  2.3089569|           NULL|               NULL|      NULL|         NULL|       NULL|             NULL|           NULL|            NULL|         NULL|         NULL|\n",
      "| 6c09c06a-9942-44d...|          0|   17.92038| -1.9419765|           NULL|               NULL|      true|         NULL|       NULL|             NULL|           NULL|            NULL|         NULL|         NULL|\n",
      "| 103e6d5f-c10d-4d2...|          0|  21.418917| -1.9235561|           NULL|               NULL|      NULL|         NULL|       NULL|             NULL|           NULL|            NULL|         NULL|         NULL|\n",
      "| 232a77b0-107d-4bb...|          2|  23.131147|  1.7402093|           NULL|               NULL|      true|         NULL|       NULL|             NULL|           NULL|            NULL|         NULL|         NULL|\n",
      "| 717dd9c4-5ec7-44d...|          0|   9.265528| -1.6897966|           NULL|               NULL|      NULL|         NULL|       NULL|             NULL|           NULL|            NULL|         NULL|         NULL|\n",
      "| 18b170d0-3001-4e7...|          0|  23.681215| -2.2244322|           NULL|               NULL|      NULL|         NULL|       NULL|             NULL|           NULL|            NULL|         NULL|         NULL|\n",
      "+---------------------+-----------+-----------+-----------+---------------+-------------------+----------+-------------+-----------+-----------------+---------------+----------------+-------------+-------------+\n",
      "only showing top 20 rows\n",
      "\n"
     ]
    }
   ],
   "source": [
    "df.show()"
   ]
  },
  {
   "cell_type": "code",
   "execution_count": 10,
   "metadata": {},
   "outputs": [],
   "source": [
    "from modules.alt_preprocessing import Preprocessing"
   ]
  },
  {
   "cell_type": "code",
   "execution_count": 11,
   "metadata": {},
   "outputs": [
    {
     "name": "stderr",
     "output_type": "stream",
     "text": [
      "                                                                                \r"
     ]
    }
   ],
   "source": [
    "Shots = Preprocessing(spark, Shot)"
   ]
  },
  {
   "cell_type": "code",
   "execution_count": 12,
   "metadata": {},
   "outputs": [
    {
     "name": "stderr",
     "output_type": "stream",
     "text": [
      "25/02/08 15:41:20 WARN SparkStringUtils: Truncated the string representation of a plan since it was too large. This behavior can be adjusted by setting 'spark.sql.debug.maxToStringFields'.\n",
      "                                                                                \r"
     ]
    },
    {
     "name": "stdout",
     "output_type": "stream",
     "text": [
      "+--------------------+---------+---------------+---------------+----------------+----------+-------------------+-------+-------+-------+-----------+------------+-------+-----------+-------+------+-----------+-------+-------+---------------------+----------------+-------------+------------------+------------------+------------------+--------------+---------------+---------------+---------------+--------------+--------------------+-------------------+-----------------+----+\n",
      "|                  id|player_id|shot_location_x|shot_location_y|distance_to_goal|shot_angle|preferred_foot_shot|from_rp|from_fk|from_ti|from_corner|from_counter|from_gk|from_keeper|from_ko|header|corner_type|fk_type|pk_type|half_volley_technique|volley_technique|lob_technique|overhead_technique|backheel_technique|diving_h_technique|under_pressure|shot_aerial_won|shot_first_time|shot_one_on_one|shot_open_goal|shot_follows_dribble|players_inside_area|shot_statsbomb_xg|goal|\n",
      "+--------------------+---------+---------------+---------------+----------------+----------+-------------------+-------+-------+-------+-----------+------------+-------+-----------+-------+------+-----------+-------+-------+---------------------+----------------+-------------+------------------+------------------+------------------+--------------+---------------+---------------+---------------+--------------+--------------------+-------------------+-----------------+----+\n",
      "|6214e231-4d6d-496...|   5503.0|           96.9|           48.1|           24.48|  17.58141|                  1|      0|      0|      0|          0|           0|      1|          0|      0|     0|          0|      0|      0|                    0|               0|            0|                 0|                 0|                 0|             0|              0|              1|              0|             0|                   0|                  2|      0.047353737|   0|\n",
      "|0cb26786-927c-49d...|   4447.0|          113.3|           44.3|            7.96| 48.524773|                  1|      1|      0|      0|          0|           0|      0|          0|      0|     0|          0|      0|      0|                    0|               0|            0|                 0|                 1|                 0|             1|              0|              1|              0|             0|                   0|                  1|       0.18661515|   0|\n",
      "|7cba015f-d876-4ae...|   5574.0|           94.8|           39.8|            25.2| 18.037558|                  0|      0|      0|      1|          0|           0|      0|          0|      0|     0|          0|      0|      0|                    0|               0|            0|                 0|                 0|                 0|             0|              0|              1|              0|             0|                   0|                  3|      0.034362283|   0|\n",
      "|508c011f-8126-4b6...|   6998.0|           98.4|           37.1|           21.79| 20.631115|                  1|      1|      0|      0|          0|           0|      0|          0|      0|     0|          0|      0|      0|                    0|               0|            0|                 0|                 0|                 0|             0|              0|              0|              0|             0|                   0|                  2|      0.052320223|   0|\n",
      "|2e94ece6-3d9c-449...|   5477.0|          110.3|           44.9|           10.87|  37.23626|                  1|      1|      0|      0|          0|           0|      0|          0|      0|     0|          0|      0|      0|                    0|               0|            0|                 0|                 1|                 0|             0|              0|              1|              0|             0|                   0|                  2|       0.09100202|   0|\n",
      "|7a4a8331-dad9-45b...|   5211.0|           57.9|           20.6|           65.06| 6.7193446|                  1|      1|      0|      0|          0|           0|      0|          0|      0|     0|          0|      0|      0|                    0|               0|            0|                 0|                 0|                 0|             0|              0|              0|              0|             0|                   0|                  1|      0.004744799|   0|\n",
      "|f0840747-cf06-4db...|  30756.0|          103.4|           30.0|           19.38| 20.271221|                  1|      0|      1|      0|          0|           0|      0|          0|      0|     0|          0|      0|      0|                    0|               0|            0|                 0|                 0|                 0|             0|              0|              0|              0|             0|                   0|                  2|        0.0562651|   1|\n",
      "|11c39101-fb12-437...|  30486.0|          105.2|           39.5|           14.81| 30.217337|                  1|      1|      0|      0|          0|           0|      0|          0|      0|     0|          0|      0|      0|                    0|               0|            0|                 0|                 0|                 0|             0|              0|              1|              0|             0|                   0|                  1|        0.2808055|   0|\n",
      "|f5226fa1-ebc4-4b1...|   3501.0|           97.5|           22.1|           28.75|12.5189295|                  1|      0|      1|      0|          0|           0|      0|          0|      0|     0|          0|      0|      0|                    0|               0|            0|                 0|                 0|                 0|             1|              0|              0|              0|             0|                   0|                  2|     0.0122884065|   0|\n",
      "|f96397fc-0e5d-4d0...|   5213.0|          114.4|           35.3|            7.31| 50.106483|                  0|      0|      0|      0|          1|           0|      0|          0|      0|     0|          0|      0|      0|                    0|               0|            0|                 0|                 0|                 0|             0|              0|              1|              0|             0|                   0|                  1|       0.37003344|   0|\n",
      "+--------------------+---------+---------------+---------------+----------------+----------+-------------------+-------+-------+-------+-----------+------------+-------+-----------+-------+------+-----------+-------+-------+---------------------+----------------+-------------+------------------+------------------+------------------+--------------+---------------+---------------+---------------+--------------+--------------------+-------------------+-----------------+----+\n",
      "only showing top 10 rows\n",
      "\n"
     ]
    }
   ],
   "source": [
    "Shots.show(10)"
   ]
  },
  {
   "cell_type": "code",
   "execution_count": 15,
   "metadata": {},
   "outputs": [],
   "source": [
    "final_df = Shots.join(df, Shots.id == df.pass_assisted_shot_id, how='left')"
   ]
  },
  {
   "cell_type": "code",
   "execution_count": 16,
   "metadata": {},
   "outputs": [
    {
     "name": "stderr",
     "output_type": "stream",
     "text": [
      "                                                                                \r"
     ]
    },
    {
     "name": "stdout",
     "output_type": "stream",
     "text": [
      "+--------------------+---------+---------------+---------------+----------------+----------+-------------------+-------+-------+-------+-----------+------------+-------+-----------+-------+------+-----------+-------+-------+---------------------+----------------+-------------+------------------+------------------+------------------+--------------+---------------+---------------+---------------+--------------+--------------------+-------------------+-----------------+----+---------------------+-----------+-----------+-------------+---------------+-------------------+----------+-------------+-----------+-----------------+---------------+----------------+-------------+-------------+\n",
      "|                  id|player_id|shot_location_x|shot_location_y|distance_to_goal|shot_angle|preferred_foot_shot|from_rp|from_fk|from_ti|from_corner|from_counter|from_gk|from_keeper|from_ko|header|corner_type|fk_type|pk_type|half_volley_technique|volley_technique|lob_technique|overhead_technique|backheel_technique|diving_h_technique|under_pressure|shot_aerial_won|shot_first_time|shot_one_on_one|shot_open_goal|shot_follows_dribble|players_inside_area|shot_statsbomb_xg|goal|pass_assisted_shot_id|pass_height|pass_length|   pass_angle|pass_aerial_won|pass_under_pressure|pass_cross|pass_cut_back|pass_switch|pass_through_ball|pass_inswinging|pass_outswinging|pass_straight|pass_no_touch|\n",
      "+--------------------+---------+---------------+---------------+----------------+----------+-------------------+-------+-------+-------+-----------+------------+-------+-----------+-------+------+-----------+-------+-------+---------------------+----------------+-------------+------------------+------------------+------------------+--------------+---------------+---------------+---------------+--------------+--------------------+-------------------+-----------------+----+---------------------+-----------+-----------+-------------+---------------+-------------------+----------+-------------+-----------+-----------------+---------------+----------------+-------------+-------------+\n",
      "|6214e231-4d6d-496...|   5503.0|           96.9|           48.1|           24.48|  17.58141|                  1|      0|      0|      0|          0|           0|      1|          0|      0|     0|          0|      0|      0|                    0|               0|            0|                 0|                 0|                 0|             0|              0|              1|              0|             0|                   0|                  2|      0.047353737|   0| 6214e231-4d6d-496...|          0|    4.90408|      1.61159|           NULL|               true|      NULL|         NULL|       NULL|             NULL|           NULL|            NULL|         NULL|         NULL|\n",
      "|0cb26786-927c-49d...|   4447.0|          113.3|           44.3|            7.96| 48.524773|                  1|      1|      0|      0|          0|           0|      0|          0|      0|     0|          0|      0|      0|                    0|               0|            0|                 0|                 1|                 0|             1|              0|              1|              0|             0|                   0|                  1|       0.18661515|   0| 0cb26786-927c-49d...|          0|       16.6|   -1.5707964|           NULL|               NULL|      true|         NULL|       NULL|             NULL|           NULL|            NULL|         NULL|         NULL|\n",
      "|7cba015f-d876-4ae...|   5574.0|           94.8|           39.8|            25.2| 18.037558|                  0|      0|      0|      1|          0|           0|      0|          0|      0|     0|          0|      0|      0|                    0|               0|            0|                 0|                 0|                 0|             0|              0|              1|              0|             0|                   0|                  3|      0.034362283|   0| 7cba015f-d876-4ae...|          0|  12.253979|     2.027145|           NULL|               NULL|      NULL|         NULL|       NULL|             NULL|           NULL|            NULL|         NULL|         NULL|\n",
      "|508c011f-8126-4b6...|   6998.0|           98.4|           37.1|           21.79| 20.631115|                  1|      1|      0|      0|          0|           0|      0|          0|      0|     0|          0|      0|      0|                    0|               0|            0|                 0|                 0|                 0|             0|              0|              0|              0|             0|                   0|                  2|      0.052320223|   0| 508c011f-8126-4b6...|          0|   8.159657|  -0.33725318|           NULL|               NULL|      NULL|         NULL|       NULL|             NULL|           NULL|            NULL|         NULL|         NULL|\n",
      "|2e94ece6-3d9c-449...|   5477.0|          110.3|           44.9|           10.87|  37.23626|                  1|      1|      0|      0|          0|           0|      0|          0|      0|     0|          0|      0|      0|                    0|               0|            0|                 0|                 1|                 0|             0|              0|              1|              0|             0|                   0|                  2|       0.09100202|   0| 2e94ece6-3d9c-449...|          1|  16.685923|   -1.1312727|           NULL|               NULL|      true|         NULL|       NULL|             NULL|           NULL|            NULL|         NULL|         NULL|\n",
      "|7a4a8331-dad9-45b...|   5211.0|           57.9|           20.6|           65.06| 6.7193446|                  1|      1|      0|      0|          0|           0|      0|          0|      0|     0|          0|      0|      0|                    0|               0|            0|                 0|                 0|                 0|             0|              0|              0|              0|             0|                   0|                  1|      0.004744799|   0|                 NULL|       NULL|       NULL|         NULL|           NULL|               NULL|      NULL|         NULL|       NULL|             NULL|           NULL|            NULL|         NULL|         NULL|\n",
      "|f0840747-cf06-4db...|  30756.0|          103.4|           30.0|           19.38| 20.271221|                  1|      0|      1|      0|          0|           0|      0|          0|      0|     0|          0|      0|      0|                    0|               0|            0|                 0|                 0|                 0|             0|              0|              0|              0|             0|                   0|                  2|        0.0562651|   1| f0840747-cf06-4db...|          2|  52.000866|-0.0057691666|           NULL|               true|      NULL|         NULL|       NULL|             NULL|           NULL|            NULL|         NULL|         NULL|\n",
      "|11c39101-fb12-437...|  30486.0|          105.2|           39.5|           14.81| 30.217337|                  1|      1|      0|      0|          0|           0|      0|          0|      0|     0|          0|      0|      0|                    0|               0|            0|                 0|                 0|                 0|             0|              0|              1|              0|             0|                   0|                  1|        0.2808055|   0| 11c39101-fb12-437...|          0|  10.855874|   -2.5995934|           NULL|               true|      NULL|         NULL|       NULL|             NULL|           NULL|            NULL|         NULL|         NULL|\n",
      "|f5226fa1-ebc4-4b1...|   3501.0|           97.5|           22.1|           28.75|12.5189295|                  1|      0|      1|      0|          0|           0|      0|          0|      0|     0|          0|      0|      0|                    0|               0|            0|                 0|                 0|                 0|             1|              0|              0|              0|             0|                   0|                  2|     0.0122884065|   0| f5226fa1-ebc4-4b1...|          0|   17.84881|   -0.3607379|           NULL|               NULL|      NULL|         NULL|       NULL|             NULL|           NULL|            NULL|         NULL|         NULL|\n",
      "|f96397fc-0e5d-4d0...|   5213.0|          114.4|           35.3|            7.31| 50.106483|                  0|      0|      0|      0|          1|           0|      0|          0|      0|     0|          0|      0|      0|                    0|               0|            0|                 0|                 0|                 0|             0|              0|              1|              0|             0|                   0|                  1|       0.37003344|   0| f96397fc-0e5d-4d0...|          0|  15.231546|    1.9756881|           NULL|               NULL|      true|         true|       NULL|             NULL|           NULL|            NULL|         NULL|         NULL|\n",
      "|95a6ba5b-3a98-4fc...|  22321.0|          105.7|           23.5|           21.83|  13.94433|                  1|      0|      0|      0|          0|           0|      0|          0|      1|     0|          0|      0|      0|                    0|               0|            0|                 0|                 0|                 0|             0|              0|              0|              0|             0|                   0|                  1|       0.03803163|   0| 95a6ba5b-3a98-4fc...|          1|  10.660675|   -0.9385518|           NULL|               NULL|      NULL|         NULL|       NULL|             NULL|           NULL|            NULL|         NULL|         NULL|\n",
      "|dbe29b1d-218b-4f7...|   3058.0|          113.1|           36.4|            7.78|  51.08164|                  1|      0|      0|      1|          0|           0|      0|          0|      0|     0|          0|      0|      0|                    0|               0|            0|                 0|                 0|                 0|             0|              0|              1|              0|             0|                   0|                  1|       0.35264602|   0| dbe29b1d-218b-4f7...|          0|   15.34438|    1.4335076|           NULL|               NULL|      true|         NULL|       NULL|             NULL|           NULL|            NULL|         NULL|         NULL|\n",
      "|2565eb34-0223-4a4...|   8206.0|           89.5|           40.4|            30.5|  14.94062|                  0|      1|      0|      0|          0|           0|      0|          0|      0|     0|          0|      0|      0|                    0|               0|            0|                 0|                 0|                 0|             0|              0|              0|              0|             0|                   0|                  2|      0.026074365|   0| 2565eb34-0223-4a4...|          0|  11.045361|   -1.6614562|           NULL|               NULL|      NULL|         NULL|       NULL|             NULL|           NULL|            NULL|         NULL|         NULL|\n",
      "|625f6f19-e90b-474...|   6401.0|          111.7|           39.8|             8.3| 51.440285|                  0|      0|      0|      0|          0|           0|      1|          0|      0|     0|          0|      0|      0|                    0|               1|            0|                 0|                 0|                 0|             0|              0|              1|              0|             0|                   0|                  2|       0.21165605|   0| 625f6f19-e90b-474...|          1|  4.9517674|    2.3847582|           NULL|               NULL|      NULL|         NULL|       NULL|             NULL|           NULL|            NULL|         NULL|         NULL|\n",
      "|1b00a7e5-3679-46c...|   8252.0|          105.3|           40.5|           14.71| 30.413029|                  1|      1|      0|      0|          0|           0|      0|          0|      0|     0|          0|      0|      0|                    0|               0|            0|                 0|                 0|                 0|             0|              0|              0|              0|             0|                   0|                  1|      0.090227194|   0| 1b00a7e5-3679-46c...|          0|  15.924824|   -2.0119758|           NULL|               NULL|      NULL|         NULL|       NULL|             NULL|           NULL|            NULL|         NULL|         NULL|\n",
      "|701c8e1f-d337-4aa...|   5503.0|          111.3|           25.6|           16.82| 14.607771|                  1|      1|      0|      0|          0|           0|      0|          0|      0|     0|          0|      0|      0|                    0|               0|            0|                 0|                 0|                 0|             1|              0|              0|              0|             0|                   0|                  1|      0.046763822|   0| 701c8e1f-d337-4aa...|          0|  6.4381676|   -2.3232393|           NULL|               NULL|      NULL|         NULL|       NULL|             NULL|           NULL|            NULL|         NULL|         NULL|\n",
      "|1918c154-f5ea-465...|   5503.0|          109.7|           28.4|           15.51| 20.142673|                  1|      0|      0|      1|          0|           0|      0|          0|      0|     0|          0|      0|      0|                    0|               0|            0|                 0|                 0|                 0|             1|              0|              0|              0|             0|                   0|                  2|        0.0752324|   1| 1918c154-f5ea-465...|          0|  17.353962|    2.0499067|           NULL|               true|      true|         true|       NULL|             NULL|           NULL|            NULL|         NULL|         NULL|\n",
      "|3fab5d32-a0c5-4f5...|   6619.0|           97.9|           53.9|           26.11| 14.875255|                  1|      0|      1|      0|          0|           0|      0|          0|      0|     0|          0|      0|      0|                    1|               0|            0|                 0|                 0|                 0|             0|              0|              1|              0|             0|                   0|                  5|      0.017210316|   0|                 NULL|       NULL|       NULL|         NULL|           NULL|               NULL|      NULL|         NULL|       NULL|             NULL|           NULL|            NULL|         NULL|         NULL|\n",
      "|4aed1d3f-94b2-4d2...|   6563.0|          110.2|           39.1|            9.84| 44.118584|                  0|      0|      1|      0|          0|           0|      0|          0|      0|     1|          0|      0|      0|                    0|               0|            0|                 0|                 0|                 0|             0|              0|              0|              0|             0|                   0|                  1|       0.10214706|   0| 4aed1d3f-94b2-4d2...|          2|   39.64669|    1.1963788|           NULL|               NULL|      true|         NULL|       NULL|             NULL|           NULL|            NULL|         NULL|         NULL|\n",
      "|ec0134b1-e01e-497...|   6332.0|          113.9|           42.2|            6.48| 61.906197|                  0|      0|      0|      0|          1|           0|      0|          0|      0|     1|          0|      0|      0|                    0|               0|            0|                 0|                 0|                 0|             1|              1|              0|              0|             0|                   0|                  1|       0.18030825|   0| ec0134b1-e01e-497...|          2|  35.481968|   -1.7521623|           NULL|               NULL|      NULL|         NULL|       NULL|             NULL|           NULL|            true|         NULL|         NULL|\n",
      "+--------------------+---------+---------------+---------------+----------------+----------+-------------------+-------+-------+-------+-----------+------------+-------+-----------+-------+------+-----------+-------+-------+---------------------+----------------+-------------+------------------+------------------+------------------+--------------+---------------+---------------+---------------+--------------+--------------------+-------------------+-----------------+----+---------------------+-----------+-----------+-------------+---------------+-------------------+----------+-------------+-----------+-----------------+---------------+----------------+-------------+-------------+\n",
      "only showing top 20 rows\n",
      "\n"
     ]
    }
   ],
   "source": [
    "final_df.show()"
   ]
  },
  {
   "cell_type": "code",
   "execution_count": null,
   "metadata": {},
   "outputs": [
    {
     "name": "stderr",
     "output_type": "stream",
     "text": [
      "[Stage 45:======================================>                  (8 + 4) / 12]\r"
     ]
    },
    {
     "name": "stdout",
     "output_type": "stream",
     "text": [
      "+--------------------+---------------------+--------------+-------------------+--------------+-----------+-----------------+-----------+----------+---------------+----------+-------------+-----------+-----------------+---------------+----------------+-------------+-------------+\n",
      "|             pass_id|pass_assisted_shot_id|pass_player_id|pass_under_pressure|pass_body_part|pass_height|pass_play_pattern|pass_length|pass_angle|pass_aerial_won|pass_cross|pass_cut_back|pass_switch|pass_through_ball|pass_inswinging|pass_outswinging|pass_straight|pass_no_touch|\n",
      "+--------------------+---------------------+--------------+-------------------+--------------+-----------+-----------------+-----------+----------+---------------+----------+-------------+-----------+-----------------+---------------+----------------+-------------+-------------+\n",
      "|628a547d-873b-48c...| 35db9fba-2fe6-463...|        5246.0|               NULL|    Right Foot|          0|    From Throw In|        5.5| 3.1415927|           NULL|      NULL|         NULL|       NULL|             NULL|           NULL|            NULL|         NULL|         NULL|\n",
      "|d7c0693f-1aba-4c0...| 2bf1ac4e-f91e-4b6...|       26607.0|               NULL|    Right Foot|          0|    From Throw In|        4.9| 3.1415927|           NULL|      NULL|         NULL|       NULL|             NULL|           NULL|            NULL|         NULL|         NULL|\n",
      "|4117f340-e901-477...| e9eee0c2-98d0-4c3...|        6655.0|               true|    Right Foot|          0|    From Throw In|        5.8| 3.1415927|           NULL|      NULL|         NULL|       NULL|             NULL|           NULL|            NULL|         NULL|         NULL|\n",
      "|e71b0180-2e6b-40e...| 34157925-7e1e-40a...|        6659.0|               NULL|    Right Foot|          2|     Regular Play|       17.6| 3.1415927|           NULL|      NULL|         NULL|       NULL|             NULL|           NULL|            NULL|         NULL|         NULL|\n",
      "|9bf10389-a017-488...| 0a60b4d0-19ee-4d5...|        6832.0|               NULL|    Right Foot|          0|   From Free Kick|        0.2| 3.1415927|           NULL|      NULL|         NULL|       NULL|             NULL|           NULL|            NULL|         NULL|         NULL|\n",
      "|bfb3fbc5-3e6e-4e1...| 92cd6f21-fcf6-432...|       17304.0|               true|     Left Foot|          0|   From Free Kick|        3.0| 3.1415927|           NULL|      NULL|         NULL|       NULL|             NULL|           NULL|            NULL|         NULL|         NULL|\n",
      "|90bb5117-c67d-468...| b72b6e70-a072-496...|        7022.0|               NULL|     Left Foot|          2|      From Corner|       19.1| 3.1415927|           NULL|      NULL|         NULL|       NULL|             NULL|           NULL|            NULL|         NULL|         NULL|\n",
      "|7742d06e-17a0-439...| fc36400c-1828-40e...|        3990.0|               NULL|    Right Foot|          0|   From Free Kick|        8.0| 3.1415927|           NULL|      NULL|         NULL|       NULL|             NULL|           NULL|            NULL|         NULL|         NULL|\n",
      "|044971c4-d2d0-4be...| e38c5aa3-ba30-43c...|        6929.0|               NULL|     Left Foot|          0|    From Throw In|        4.9| 3.1415927|           NULL|      NULL|         NULL|       NULL|             NULL|           NULL|            NULL|         NULL|         NULL|\n",
      "|fe740b5e-46f9-41a...| bceea70b-6290-4ae...|        6842.0|               NULL|    Right Foot|          0|    From Throw In|       11.0| 3.1415927|           NULL|      NULL|         NULL|       NULL|             NULL|           NULL|            NULL|         NULL|         NULL|\n",
      "|c1fbc3bb-7592-487...| bdd9c28d-a28b-4b7...|       27148.0|               NULL|    Right Foot|          0|     Regular Play|        4.1| 3.1415927|           NULL|      NULL|         NULL|       NULL|             NULL|           NULL|            NULL|         NULL|         NULL|\n",
      "|e1420ca9-cba2-458...| dd74f6da-c7b6-4fc...|        5246.0|               NULL|    Right Foot|          0|     Regular Play|   17.90028|  3.136006|           NULL|      NULL|         NULL|       NULL|             NULL|           NULL|            NULL|         NULL|         NULL|\n",
      "|825b8123-5064-411...| 2f3348f7-feaf-434...|       24234.0|               NULL|     Left Foot|          0|     Regular Play|  15.301307| 3.1285214|           NULL|      NULL|         NULL|       NULL|             NULL|           NULL|            NULL|         NULL|         NULL|\n",
      "|d0c3f629-4dbf-442...| 45a87eb5-c30b-4f2...|        6320.0|               NULL|     Left Foot|          1|    From Throw In|  15.001333| 3.1282601|           NULL|      NULL|         NULL|       NULL|             NULL|           NULL|            NULL|         NULL|         NULL|\n",
      "|19719560-07c0-471...| ef225bc0-6b0c-4db...|       23416.0|               NULL|    Right Foot|          0|     Regular Play|   6.400781|  3.125969|           NULL|      NULL|         NULL|       NULL|             NULL|           NULL|            NULL|         NULL|         NULL|\n",
      "|2a0e046a-a778-464...| 73a8d508-9d9a-4a4...|        5246.0|               NULL|    Right Foot|          0|   From Free Kick|  12.303658| 3.1172073|           NULL|      NULL|         NULL|       NULL|             NULL|           NULL|            NULL|         NULL|         NULL|\n",
      "|b7e52850-be90-4eb...| 40357d1e-d63b-43f...|       16073.0|               true|    Right Foot|          0|    From Throw In| 11.1040535| 3.1145723|           NULL|      NULL|         NULL|       NULL|             NULL|           NULL|            NULL|         NULL|         NULL|\n",
      "|7ddaa83d-a92c-4e4...| 0eb5b128-7881-4d3...|        6784.0|               NULL|     Left Foot|          0|     Regular Play|  7.4027023| 3.1145723|           NULL|      NULL|         NULL|       NULL|             NULL|           NULL|            NULL|         NULL|         NULL|\n",
      "|9be1c7b7-f270-4f2...| 3362d852-319f-4bd...|       26532.0|               NULL|     Left Foot|          0|     Regular Play|   9.304837| 3.1093457|           NULL|      NULL|         NULL|       NULL|             NULL|           NULL|            NULL|         NULL|         NULL|\n",
      "|90a32d2b-a09b-4f3...| d96971d1-91bb-4a0...|       24841.0|               NULL|    Right Foot|          0|      From Corner|   9.004998| 3.1082716|           NULL|      NULL|         NULL|       NULL|             NULL|           NULL|            NULL|         NULL|         NULL|\n",
      "+--------------------+---------------------+--------------+-------------------+--------------+-----------+-----------------+-----------+----------+---------------+----------+-------------+-----------+-----------------+---------------+----------------+-------------+-------------+\n",
      "only showing top 20 rows\n",
      "\n"
     ]
    },
    {
     "name": "stderr",
     "output_type": "stream",
     "text": [
      "                                                                                \r"
     ]
    }
   ],
   "source": [
    "df.orderBy('pass_angle',ascending=False).show()"
   ]
  },
  {
   "cell_type": "code",
   "execution_count": 1,
   "metadata": {},
   "outputs": [],
   "source": [
    "# Pass angle is between -pi and pi\n",
    "# if shot has no assist, Pass angle will be 4.\n",
    "# pass_id will be use to identify if pass exists, if notNull then 1, else 0\n",
    "# pass_height will be -1 if no pass \n",
    "# play_pattern is same in pass and shot, drop the pass column"
   ]
  }
 ],
 "metadata": {
  "kernelspec": {
   "display_name": "myenv",
   "language": "python",
   "name": "python3"
  },
  "language_info": {
   "codemirror_mode": {
    "name": "ipython",
    "version": 3
   },
   "file_extension": ".py",
   "mimetype": "text/x-python",
   "name": "python",
   "nbconvert_exporter": "python",
   "pygments_lexer": "ipython3",
   "version": "3.12.3"
  }
 },
 "nbformat": 4,
 "nbformat_minor": 2
}
