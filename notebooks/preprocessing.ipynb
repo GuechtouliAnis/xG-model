{
 "cells": [
  {
   "cell_type": "markdown",
   "id": "0869435c",
   "metadata": {},
   "source": [
    "## Expected Goals (xG) Model - Preprocessing\n",
    "\n",
    "This notebook showcases the starting point for the xg model project after importing the data. <br>\n",
    "For a detailed description of the features selected you can consult <a href=\"Features selected.md\">Features selected.md</a> file"
   ]
  },
  {
   "cell_type": "code",
   "execution_count": 1,
   "id": "83c7a2fe",
   "metadata": {},
   "outputs": [],
   "source": [
    "import numpy as np\n",
    "import pandas as pd\n",
    "import math\n",
    "import ast\n",
    "import pyspark\n",
    "import pyspark.sql.functions as F\n",
    "import pyspark.sql.types as T\n",
    "from pyspark.sql import DataFrame, SparkSession\n",
    "from pyspark.ml.feature import VectorAssembler"
   ]
  },
  {
   "cell_type": "code",
   "execution_count": 2,
   "id": "45c88e77",
   "metadata": {},
   "outputs": [],
   "source": [
    "import sys\n",
    "import os\n",
    "\n",
    "# Add project root to path for custom modules\n",
    "project_root = os.path.abspath(os.path.join(os.getcwd(), '..'))\n",
    "if project_root not in sys.path:\n",
    "    sys.path.append(project_root)\n",
    "\n",
    "# file holding all the constants used in this project\n",
    "from src.constants import *"
   ]
  },
  {
   "cell_type": "code",
   "execution_count": 4,
   "id": "15a88122",
   "metadata": {},
   "outputs": [
    {
     "name": "stdout",
     "output_type": "stream",
     "text": [
      "✅ Spark Session initialized successfully!\n",
      "Spark Version: 4.0.0\n"
     ]
    }
   ],
   "source": [
    "# Initialize Spark Session\n",
    "spark = SparkSession.builder \\\n",
    "    .appName(\"PreprocessingDemo\") \\\n",
    "    .config(\"spark.sql.adaptive.enabled\", \"true\") \\\n",
    "    .config(\"spark.sql.adaptive.coalescePartitions.enabled\", \"true\") \\\n",
    "    .getOrCreate()\n",
    "\n",
    "print(\"✅ Spark Session initialized successfully!\")\n",
    "print(f\"Spark Version: {spark.version}\")"
   ]
  },
  {
   "cell_type": "code",
   "execution_count": 14,
   "id": "18be866d",
   "metadata": {},
   "outputs": [
    {
     "name": "stdout",
     "output_type": "stream",
     "text": [
      "+-----+--------------------+------------------------------+------------------+--------------------+------------+--------------+---------------+---------------+------------+---------+--------+------------------------+-------------------+------------------+------------------+--------------------+-----------------------+------------------+-------------------+--------------------+---------------+------------------------------------+-----+--------------------+------------+--------+------+---------------+----------+---------------------+-------------+--------------+----------+-------------+--------------+-----------------+----------------+-----------+-----------+------------+-----------------------------------+-----------------+----------------+-----------+---------+------+-------------+----------------------+---------+-------------------------+----------+-----------------+------------------+------------------------------------------------------------------------------------------------------------------------+------+---------------+--------------+-----------------+---------------+-----------------+----------------+---------------+------------+-----------------+--------------+---------+--------------------+-----------------------+------------------------+---------------------------+--------------------------------------------------------------------------------------------------------------------------------------------------------------------------------------------------------------------------------------------------------------------------------------------------------------------------------------------------------------------------------------------------------------------------------------------------------------------------------------------------------------------------------------------------------------------------------------------------------------------------------------------------------------------------------------------------------------------------------------------------------------------------------------------------------------------------------------------------------------------------------------------------------------------------------------------------------------------------------------------------------------------------------------------------------------------------------------------------------------------------------------------------------------------------------------------------------------------------------------------------------------------------------------------------------------------------------------------------------------------------------------------------------------------------------------------------------------------------------------------------+-----------------+-------+-----------------------+-----------+--------------+-------------------------+---------+---------------+------------------------+-------------------+------------------------+---------------------+--------------+-----------------+----------------+-----------------------+----------------------+----------------+--------------+-------------+------------------+----------------+--------------+---------------------+-------------------+--------------+-------------------+--------------------+----------------------+----------+----+---------------+----------------+-------------+-----------------------------+-------------+------------------+--------------------------+---------------+--------------------+--------------------------------+---------------------+--------------------+----------------+-------------------+---------------------------+-----------------------+--------------------------------+------------------------+----------------------+\n",
      "|50_50|ball_receipt_outcome|ball_recovery_recovery_failure|carry_end_location|clearance_aerial_won|counterpress|dribble_nutmeg|dribble_outcome|dribble_overrun|duel_outcome|duel_type|duration|foul_committed_advantage|foul_committed_card|foul_won_advantage|foul_won_defensive|goalkeeper_body_part|goalkeeper_end_location|goalkeeper_outcome|goalkeeper_position|goalkeeper_technique|goalkeeper_type|id                                  |index|interception_outcome|location    |match_id|minute|pass_aerial_won|pass_angle|pass_assisted_shot_id|pass_backheel|pass_body_part|pass_cross|pass_cut_back|pass_deflected|pass_end_location|pass_goal_assist|pass_height|pass_length|pass_outcome|pass_recipient                     |pass_recipient_id|pass_shot_assist|pass_switch|pass_type|period|play_pattern |player                |player_id|position                 |possession|possession_team  |possession_team_id|related_events                                                                                                          |second|shot_aerial_won|shot_body_part|shot_end_location|shot_first_time|shot_freeze_frame|shot_key_pass_id|shot_one_on_one|shot_outcome|shot_statsbomb_xg|shot_technique|shot_type|substitution_outcome|substitution_outcome_id|substitution_replacement|substitution_replacement_id|tactics                                                                                                                                                                                                                                                                                                                                                                                                                                                                                                                                                                                                                                                                                                                                                                                                                                                                                                                                                                                                                                                                                                                                                                                                                                                                                                                                                                                                                                                                                           |team             |team_id|timestamp              |type       |under_pressure|competition              |season   |block_offensive|foul_committed_offensive|foul_committed_type|injury_stoppage_in_chain|pass_miscommunication|pass_technique|pass_through_ball|block_deflection|ball_recovery_offensive|foul_committed_penalty|foul_won_penalty|shot_open_goal|shot_redirect|bad_behaviour_card|block_save_block|shot_deflected|miscontrol_aerial_won|clearance_body_part|clearance_head|clearance_left_foot|clearance_right_foot|goalkeeper_punched_out|off_camera|out |pass_inswinging|pass_outswinging|pass_straight|goalkeeper_shot_saved_to_post|pass_no_touch|shot_saved_to_post|goalkeeper_success_in_play|clearance_other|player_off_permanent|goalkeeper_shot_saved_off_target|shot_saved_off_target|shot_follows_dribble|dribble_no_touch|goalkeeper_lost_out|half_start_late_video_start|goalkeeper_lost_in_play|goalkeeper_penalty_saved_to_post|goalkeeper_saved_to_post|goalkeeper_success_out|\n",
      "+-----+--------------------+------------------------------+------------------+--------------------+------------+--------------+---------------+---------------+------------+---------+--------+------------------------+-------------------+------------------+------------------+--------------------+-----------------------+------------------+-------------------+--------------------+---------------+------------------------------------+-----+--------------------+------------+--------+------+---------------+----------+---------------------+-------------+--------------+----------+-------------+--------------+-----------------+----------------+-----------+-----------+------------+-----------------------------------+-----------------+----------------+-----------+---------+------+-------------+----------------------+---------+-------------------------+----------+-----------------+------------------+------------------------------------------------------------------------------------------------------------------------+------+---------------+--------------+-----------------+---------------+-----------------+----------------+---------------+------------+-----------------+--------------+---------+--------------------+-----------------------+------------------------+---------------------------+--------------------------------------------------------------------------------------------------------------------------------------------------------------------------------------------------------------------------------------------------------------------------------------------------------------------------------------------------------------------------------------------------------------------------------------------------------------------------------------------------------------------------------------------------------------------------------------------------------------------------------------------------------------------------------------------------------------------------------------------------------------------------------------------------------------------------------------------------------------------------------------------------------------------------------------------------------------------------------------------------------------------------------------------------------------------------------------------------------------------------------------------------------------------------------------------------------------------------------------------------------------------------------------------------------------------------------------------------------------------------------------------------------------------------------------------------------------------------------------------------+-----------------+-------+-----------------------+-----------+--------------+-------------------------+---------+---------------+------------------------+-------------------+------------------------+---------------------+--------------+-----------------+----------------+-----------------------+----------------------+----------------+--------------+-------------+------------------+----------------+--------------+---------------------+-------------------+--------------+-------------------+--------------------+----------------------+----------+----+---------------+----------------+-------------+-----------------------------+-------------+------------------+--------------------------+---------------+--------------------+--------------------------------+---------------------+--------------------+----------------+-------------------+---------------------------+-----------------------+--------------------------------+------------------------+----------------------+\n",
      "|NULL |NULL                |NULL                          |NULL              |NULL                |NULL        |NULL          |NULL           |NULL           |NULL        |NULL     |0.0     |NULL                    |NULL               |NULL              |NULL              |NULL                |NULL                   |NULL              |NULL               |NULL                |NULL           |9ec3d009-c15b-4a8d-be80-57a07f40755a|1    |NULL                |NULL        |22912   |0     |NULL           |NULL      |NULL                 |NULL         |NULL          |NULL      |NULL         |NULL          |NULL             |NULL            |NULL       |NULL       |NULL        |NULL                               |NULL             |NULL            |NULL       |NULL     |1     |Regular Play |NULL                  |NULL     |NULL                     |1         |Tottenham Hotspur|38                |NULL                                                                                                                    |0     |NULL           |NULL          |NULL             |NULL           |NULL             |NULL            |NULL           |NULL        |NULL             |NULL          |NULL     |NULL                |NULL                   |NULL                    |NULL                       |{'formation': 4231, 'lineup': [{'player': {'id': 3099, 'name': 'Hugo Lloris'}, 'position': {'id': 1, 'name': 'Goalkeeper'}, 'jersey_number': 1}, {'player': {'id': 3308, 'name': 'Kieran Trippier'}, 'position': {'id': 2, 'name': 'Right Back'}, 'jersey_number': 2}, {'player': {'id': 20005, 'name': 'Toby Alderweireld'}, 'position': {'id': 3, 'name': 'Right Center Back'}, 'jersey_number': 4}, {'player': {'id': 3077, 'name': 'Jan Vertonghen'}, 'position': {'id': 5, 'name': 'Left Center Back'}, 'jersey_number': 5}, {'player': {'id': 3594, 'name': 'Danny Rose'}, 'position': {'id': 6, 'name': 'Left Back'}, 'jersey_number': 3}, {'player': {'id': 3091, 'name': 'Moussa Sissoko'}, 'position': {'id': 9, 'name': 'Right Defensive Midfield'}, 'jersey_number': 17}, {'player': {'id': 3082, 'name': 'Harry Winks'}, 'position': {'id': 15, 'name': 'Left Center Midfield'}, 'jersey_number': 8}, {'player': {'id': 3043, 'name': 'Christian Dannemann Eriksen'}, 'position': {'id': 17, 'name': 'Right Wing'}, 'jersey_number': 23}, {'player': {'id': 3094, 'name': 'Bamidele Alli'}, 'position': {'id': 19, 'name': 'Center Attacking Midfield'}, 'jersey_number': 20}, {'player': {'id': 3083, 'name': 'Heung-Min Son'}, 'position': {'id': 21, 'name': 'Left Wing'}, 'jersey_number': 7}, {'player': {'id': 10955, 'name': 'Harry Kane'}, 'position': {'id': 23, 'name': 'Center Forward'}, 'jersey_number': 10}]}                                                          |Tottenham Hotspur|38     |2025-02-02 00:00:00    |Starting XI|NULL          |Europe - Champions League|2018/2019|NULL           |NULL                    |NULL               |NULL                    |NULL                 |NULL          |NULL             |NULL            |NULL                   |NULL                  |NULL            |NULL          |NULL         |NULL              |NULL            |NULL          |NULL                 |NULL               |NULL          |NULL               |NULL                |NULL                  |NULL      |NULL|NULL           |NULL            |NULL         |NULL                         |NULL         |NULL              |NULL                      |NULL           |NULL                |NULL                            |NULL                 |NULL                |NULL            |NULL               |NULL                       |NULL                   |NULL                            |NULL                    |NULL                  |\n",
      "|NULL |NULL                |NULL                          |NULL              |NULL                |NULL        |NULL          |NULL           |NULL           |NULL        |NULL     |0.0     |NULL                    |NULL               |NULL              |NULL              |NULL                |NULL                   |NULL              |NULL               |NULL                |NULL           |e8bdb5d1-8bcb-4a0d-bfd2-68c18c7f54d0|2    |NULL                |NULL        |22912   |0     |NULL           |NULL      |NULL                 |NULL         |NULL          |NULL      |NULL         |NULL          |NULL             |NULL            |NULL       |NULL       |NULL        |NULL                               |NULL             |NULL            |NULL       |NULL     |1     |Regular Play |NULL                  |NULL     |NULL                     |1         |Tottenham Hotspur|38                |NULL                                                                                                                    |0     |NULL           |NULL          |NULL             |NULL           |NULL             |NULL            |NULL           |NULL        |NULL             |NULL          |NULL     |NULL                |NULL                   |NULL                    |NULL                       |{'formation': 433, 'lineup': [{'player': {'id': 5547, 'name': 'Alisson Ramsés Becker'}, 'position': {'id': 1, 'name': 'Goalkeeper'}, 'jersey_number': 13}, {'player': {'id': 3664, 'name': 'Trent Alexander-Arnold'}, 'position': {'id': 2, 'name': 'Right Back'}, 'jersey_number': 66}, {'player': {'id': 3502, 'name': 'Joël Andre Job Matip'}, 'position': {'id': 3, 'name': 'Right Center Back'}, 'jersey_number': 32}, {'player': {'id': 3669, 'name': 'Virgil van Dijk'}, 'position': {'id': 5, 'name': 'Left Center Back'}, 'jersey_number': 4}, {'player': {'id': 3655, 'name': 'Andrew Robertson'}, 'position': {'id': 6, 'name': 'Left Back'}, 'jersey_number': 26}, {'player': {'id': 3247, 'name': 'Fábio Henrique Tavares'}, 'position': {'id': 10, 'name': 'Center Defensive Midfield'}, 'jersey_number': 3}, {'player': {'id': 3532, 'name': 'Jordan Brian Henderson'}, 'position': {'id': 13, 'name': 'Right Center Midfield'}, 'jersey_number': 14}, {'player': {'id': 3567, 'name': 'Georginio Wijnaldum'}, 'position': {'id': 15, 'name': 'Left Center Midfield'}, 'jersey_number': 5}, {'player': {'id': 3531, 'name': 'Mohamed Salah'}, 'position': {'id': 17, 'name': 'Right Wing'}, 'jersey_number': 11}, {'player': {'id': 3629, 'name': 'Sadio Mané'}, 'position': {'id': 21, 'name': 'Left Wing'}, 'jersey_number': 10}, {'player': {'id': 3535, 'name': 'Roberto Firmino Barbosa de Oliveira'}, 'position': {'id': 23, 'name': 'Center Forward'}, 'jersey_number': 9}]}|Liverpool        |24     |2025-02-02 00:00:00    |Starting XI|NULL          |Europe - Champions League|2018/2019|NULL           |NULL                    |NULL               |NULL                    |NULL                 |NULL          |NULL             |NULL            |NULL                   |NULL                  |NULL            |NULL          |NULL         |NULL              |NULL            |NULL          |NULL                 |NULL               |NULL          |NULL               |NULL                |NULL                  |NULL      |NULL|NULL           |NULL            |NULL         |NULL                         |NULL         |NULL              |NULL                      |NULL           |NULL                |NULL                            |NULL                 |NULL                |NULL            |NULL               |NULL                       |NULL                   |NULL                            |NULL                    |NULL                  |\n",
      "|NULL |NULL                |NULL                          |NULL              |NULL                |NULL        |NULL          |NULL           |NULL           |NULL        |NULL     |0.0     |NULL                    |NULL               |NULL              |NULL              |NULL                |NULL                   |NULL              |NULL               |NULL                |NULL           |00b678a4-3767-4d0b-92e6-9cb4c959d94d|3    |NULL                |NULL        |22912   |0     |NULL           |NULL      |NULL                 |NULL         |NULL          |NULL      |NULL         |NULL          |NULL             |NULL            |NULL       |NULL       |NULL        |NULL                               |NULL             |NULL            |NULL       |NULL     |1     |Regular Play |NULL                  |NULL     |NULL                     |1         |Tottenham Hotspur|38                |['05840f64-0fb7-4f2d-885a-49790d6bd4df']                                                                                |0     |NULL           |NULL          |NULL             |NULL           |NULL             |NULL            |NULL           |NULL        |NULL             |NULL          |NULL     |NULL                |NULL                   |NULL                    |NULL                       |NULL                                                                                                                                                                                                                                                                                                                                                                                                                                                                                                                                                                                                                                                                                                                                                                                                                                                                                                                                                                                                                                                                                                                                                                                                                                                                                                                                                                                                                                                                                              |Liverpool        |24     |2025-02-02 00:00:00    |Half Start |NULL          |Europe - Champions League|2018/2019|NULL           |NULL                    |NULL               |NULL                    |NULL                 |NULL          |NULL             |NULL            |NULL                   |NULL                  |NULL            |NULL          |NULL         |NULL              |NULL            |NULL          |NULL                 |NULL               |NULL          |NULL               |NULL                |NULL                  |NULL      |NULL|NULL           |NULL            |NULL         |NULL                         |NULL         |NULL              |NULL                      |NULL           |NULL                |NULL                            |NULL                 |NULL                |NULL            |NULL               |NULL                       |NULL                   |NULL                            |NULL                    |NULL                  |\n",
      "|NULL |NULL                |NULL                          |NULL              |NULL                |NULL        |NULL          |NULL           |NULL           |NULL        |NULL     |0.0     |NULL                    |NULL               |NULL              |NULL              |NULL                |NULL                   |NULL              |NULL               |NULL                |NULL           |05840f64-0fb7-4f2d-885a-49790d6bd4df|4    |NULL                |NULL        |22912   |0     |NULL           |NULL      |NULL                 |NULL         |NULL          |NULL      |NULL         |NULL          |NULL             |NULL            |NULL       |NULL       |NULL        |NULL                               |NULL             |NULL            |NULL       |NULL     |1     |Regular Play |NULL                  |NULL     |NULL                     |1         |Tottenham Hotspur|38                |['00b678a4-3767-4d0b-92e6-9cb4c959d94d']                                                                                |0     |NULL           |NULL          |NULL             |NULL           |NULL             |NULL            |NULL           |NULL        |NULL             |NULL          |NULL     |NULL                |NULL                   |NULL                    |NULL                       |NULL                                                                                                                                                                                                                                                                                                                                                                                                                                                                                                                                                                                                                                                                                                                                                                                                                                                                                                                                                                                                                                                                                                                                                                                                                                                                                                                                                                                                                                                                                              |Tottenham Hotspur|38     |2025-02-02 00:00:00    |Half Start |NULL          |Europe - Champions League|2018/2019|NULL           |NULL                    |NULL               |NULL                    |NULL                 |NULL          |NULL             |NULL            |NULL                   |NULL                  |NULL            |NULL          |NULL         |NULL              |NULL            |NULL          |NULL                 |NULL               |NULL          |NULL               |NULL                |NULL                  |NULL      |NULL|NULL           |NULL            |NULL         |NULL                         |NULL         |NULL              |NULL                      |NULL           |NULL                |NULL                            |NULL                 |NULL                |NULL            |NULL               |NULL                       |NULL                   |NULL                            |NULL                    |NULL                  |\n",
      "|NULL |NULL                |NULL                          |NULL              |NULL                |NULL        |NULL          |NULL           |NULL           |NULL        |NULL     |0.0     |NULL                    |NULL               |NULL              |NULL              |NULL                |NULL                   |NULL              |NULL               |NULL                |NULL           |5bf22eb8-1257-4e6f-beca-2a3652936b18|1637 |NULL                |NULL        |22912   |45    |NULL           |NULL      |NULL                 |NULL         |NULL          |NULL      |NULL         |NULL          |NULL             |NULL            |NULL       |NULL       |NULL        |NULL                               |NULL             |NULL            |NULL       |NULL     |2     |From Throw In|NULL                  |NULL     |NULL                     |81        |Tottenham Hotspur|38                |['64501101-8a8c-48b0-8184-bd2ac7dad41d']                                                                                |0     |NULL           |NULL          |NULL             |NULL           |NULL             |NULL            |NULL           |NULL        |NULL             |NULL          |NULL     |NULL                |NULL                   |NULL                    |NULL                       |NULL                                                                                                                                                                                                                                                                                                                                                                                                                                                                                                                                                                                                                                                                                                                                                                                                                                                                                                                                                                                                                                                                                                                                                                                                                                                                                                                                                                                                                                                                                              |Liverpool        |24     |2025-02-02 00:00:00    |Half Start |NULL          |Europe - Champions League|2018/2019|NULL           |NULL                    |NULL               |NULL                    |NULL                 |NULL          |NULL             |NULL            |NULL                   |NULL                  |NULL            |NULL          |NULL         |NULL              |NULL            |NULL          |NULL                 |NULL               |NULL          |NULL               |NULL                |NULL                  |NULL      |NULL|NULL           |NULL            |NULL         |NULL                         |NULL         |NULL              |NULL                      |NULL           |NULL                |NULL                            |NULL                 |NULL                |NULL            |NULL               |NULL                       |NULL                   |NULL                            |NULL                    |NULL                  |\n",
      "|NULL |NULL                |NULL                          |NULL              |NULL                |NULL        |NULL          |NULL           |NULL           |NULL        |NULL     |0.0     |NULL                    |NULL               |NULL              |NULL              |NULL                |NULL                   |NULL              |NULL               |NULL                |NULL           |64501101-8a8c-48b0-8184-bd2ac7dad41d|1638 |NULL                |NULL        |22912   |45    |NULL           |NULL      |NULL                 |NULL         |NULL          |NULL      |NULL         |NULL          |NULL             |NULL            |NULL       |NULL       |NULL        |NULL                               |NULL             |NULL            |NULL       |NULL     |2     |From Throw In|NULL                  |NULL     |NULL                     |81        |Tottenham Hotspur|38                |['5bf22eb8-1257-4e6f-beca-2a3652936b18']                                                                                |0     |NULL           |NULL          |NULL             |NULL           |NULL             |NULL            |NULL           |NULL        |NULL             |NULL          |NULL     |NULL                |NULL                   |NULL                    |NULL                       |NULL                                                                                                                                                                                                                                                                                                                                                                                                                                                                                                                                                                                                                                                                                                                                                                                                                                                                                                                                                                                                                                                                                                                                                                                                                                                                                                                                                                                                                                                                                              |Tottenham Hotspur|38     |2025-02-02 00:00:00    |Half Start |NULL          |Europe - Champions League|2018/2019|NULL           |NULL                    |NULL               |NULL                    |NULL                 |NULL          |NULL             |NULL            |NULL                   |NULL                  |NULL            |NULL          |NULL         |NULL              |NULL            |NULL          |NULL                 |NULL               |NULL          |NULL               |NULL                |NULL                  |NULL      |NULL|NULL           |NULL            |NULL         |NULL                         |NULL         |NULL              |NULL                      |NULL           |NULL                |NULL                            |NULL                 |NULL                |NULL            |NULL               |NULL                       |NULL                   |NULL                            |NULL                    |NULL                  |\n",
      "|NULL |NULL                |NULL                          |NULL              |NULL                |NULL        |NULL          |NULL           |NULL           |NULL        |NULL     |1.666205|NULL                    |NULL               |NULL              |NULL              |NULL                |NULL                   |NULL              |NULL               |NULL                |NULL           |b67ef6a9-e877-4dbe-bb03-edcc9d8c7711|5    |NULL                |[61.0, 40.1]|22912   |0     |NULL           |3.005404  |NULL                 |NULL         |Right Foot    |NULL      |NULL         |NULL          |[34.0, 43.8]     |NULL            |Ground Pass|27.252338  |NULL        |Joël Andre Job Matip               |3502.0           |NULL            |NULL       |Kick Off |1     |From Kick Off|Jordan Brian Henderson|3532.0   |Right Center Midfield    |2         |Liverpool        |24                |['c7297515-ae92-4fb4-93a8-59745b8dfa90']                                                                                |0     |NULL           |NULL          |NULL             |NULL           |NULL             |NULL            |NULL           |NULL        |NULL             |NULL          |NULL     |NULL                |NULL                   |NULL                    |NULL                       |NULL                                                                                                                                                                                                                                                                                                                                                                                                                                                                                                                                                                                                                                                                                                                                                                                                                                                                                                                                                                                                                                                                                                                                                                                                                                                                                                                                                                                                                                                                                              |Liverpool        |24     |2025-02-02 00:00:00.208|Pass       |NULL          |Europe - Champions League|2018/2019|NULL           |NULL                    |NULL               |NULL                    |NULL                 |NULL          |NULL             |NULL            |NULL                   |NULL                  |NULL            |NULL          |NULL         |NULL              |NULL            |NULL          |NULL                 |NULL               |NULL          |NULL               |NULL                |NULL                  |NULL      |NULL|NULL           |NULL            |NULL         |NULL                         |NULL         |NULL              |NULL                      |NULL           |NULL                |NULL                            |NULL                 |NULL                |NULL            |NULL               |NULL                       |NULL                   |NULL                            |NULL                    |NULL                  |\n",
      "|NULL |NULL                |NULL                          |NULL              |NULL                |NULL        |NULL          |NULL           |NULL           |NULL        |NULL     |2.040173|NULL                    |NULL               |NULL              |NULL              |NULL                |NULL                   |NULL              |NULL               |NULL                |NULL           |10f8eed9-fa49-4170-9057-d9418e9546ae|8    |NULL                |[36.1, 44.0]|22912   |0     |NULL           |-0.6759472|NULL                 |NULL         |Right Foot    |NULL      |NULL         |NULL          |[86.6, 3.5]      |NULL            |High Pass  |64.73407   |Incomplete  |Sadio Mané                         |3629.0           |NULL            |true       |NULL     |1     |From Kick Off|Joël Andre Job Matip  |3502.0   |Right Center Back        |2         |Liverpool        |24                |['07a666b8-c9d8-4370-bdb7-9075b42be143', '3cb70cbe-9267-43eb-8937-b1f8d00cc902']                                        |3     |NULL           |NULL          |NULL             |NULL           |NULL             |NULL            |NULL           |NULL        |NULL             |NULL          |NULL     |NULL                |NULL                   |NULL                    |NULL                       |NULL                                                                                                                                                                                                                                                                                                                                                                                                                                                                                                                                                                                                                                                                                                                                                                                                                                                                                                                                                                                                                                                                                                                                                                                                                                                                                                                                                                                                                                                                                              |Liverpool        |24     |2025-02-02 00:00:03.358|Pass       |NULL          |Europe - Champions League|2018/2019|NULL           |NULL                    |NULL               |NULL                    |NULL                 |NULL          |NULL             |NULL            |NULL                   |NULL                  |NULL            |NULL          |NULL         |NULL              |NULL            |NULL          |NULL                 |NULL               |NULL          |NULL               |NULL                |NULL                  |NULL      |NULL|NULL           |NULL            |NULL         |NULL                         |NULL         |NULL              |NULL                      |NULL           |NULL                |NULL                            |NULL                 |NULL                |NULL            |NULL               |NULL                       |NULL                   |NULL                            |NULL                    |NULL                  |\n",
      "|NULL |NULL                |NULL                          |NULL              |NULL                |NULL        |NULL          |NULL           |NULL           |NULL        |NULL     |2.305768|NULL                    |NULL               |NULL              |NULL              |NULL                |NULL                   |NULL              |NULL               |NULL                |NULL           |3cb70cbe-9267-43eb-8937-b1f8d00cc902|10   |NULL                |[33.5, 76.6]|22912   |0     |NULL           |-0.4712376|NULL                 |NULL         |Head          |NULL      |NULL         |NULL          |[54.5, 65.9]     |NULL            |High Pass  |23.568836  |Incomplete  |Harry Kane                         |10955.0          |NULL            |NULL       |Recovery |1     |From Kick Off|Kieran Trippier       |3308.0   |Right Back               |2         |Liverpool        |24                |['0c45c33c-2e7b-482a-9bda-4d38f0348d3a', '10f8eed9-fa49-4170-9057-d9418e9546ae', '9babcee7-0db0-4cf5-bbd3-b6ca2c0ff6e2']|5     |NULL           |NULL          |NULL             |NULL           |NULL             |NULL            |NULL           |NULL        |NULL             |NULL          |NULL     |NULL                |NULL                   |NULL                    |NULL                       |NULL                                                                                                                                                                                                                                                                                                                                                                                                                                                                                                                                                                                                                                                                                                                                                                                                                                                                                                                                                                                                                                                                                                                                                                                                                                                                                                                                                                                                                                                                                              |Tottenham Hotspur|38     |2025-02-02 00:00:05.398|Pass       |NULL          |Europe - Champions League|2018/2019|NULL           |NULL                    |NULL               |NULL                    |NULL                 |NULL          |NULL             |NULL            |NULL                   |NULL                  |NULL            |NULL          |NULL         |NULL              |NULL            |NULL          |NULL                 |NULL               |NULL          |NULL               |NULL                |NULL                  |NULL      |NULL|NULL           |NULL            |NULL         |NULL                         |NULL         |NULL              |NULL                      |NULL           |NULL                |NULL                            |NULL                 |NULL                |NULL            |NULL               |NULL                       |NULL                   |NULL                            |NULL                    |NULL                  |\n",
      "|NULL |NULL                |NULL                          |NULL              |NULL                |NULL        |NULL          |NULL           |NULL           |NULL        |NULL     |1.150397|NULL                    |NULL               |NULL              |NULL              |NULL                |NULL                   |NULL              |NULL               |NULL                |NULL           |9babcee7-0db0-4cf5-bbd3-b6ca2c0ff6e2|12   |NULL                |[65.6, 14.2]|22912   |0     |NULL           |0.16703369|NULL                 |NULL         |Head          |NULL      |NULL         |NULL          |[82.8, 17.1]     |NULL            |High Pass  |17.442764  |Incomplete  |Roberto Firmino Barbosa de Oliveira|3535.0           |NULL            |NULL       |Recovery |1     |From Kick Off|Fábio Henrique Tavares|3247.0   |Center Defensive Midfield|2         |Liverpool        |24                |['3cb70cbe-9267-43eb-8937-b1f8d00cc902', 'c1eae3aa-6fd0-459d-9172-1b4ab353a022', 'ed845f12-5ed4-40e7-b296-a2e55d7482d7']|7     |NULL           |NULL          |NULL             |NULL           |NULL             |NULL            |NULL           |NULL        |NULL             |NULL          |NULL     |NULL                |NULL                   |NULL                    |NULL                       |NULL                                                                                                                                                                                                                                                                                                                                                                                                                                                                                                                                                                                                                                                                                                                                                                                                                                                                                                                                                                                                                                                                                                                                                                                                                                                                                                                                                                                                                                                                                              |Liverpool        |24     |2025-02-02 00:00:07.704|Pass       |NULL          |Europe - Champions League|2018/2019|NULL           |NULL                    |NULL               |NULL                    |NULL                 |NULL          |NULL             |NULL            |NULL                   |NULL                  |NULL            |NULL          |NULL         |NULL              |NULL            |NULL          |NULL                 |NULL               |NULL          |NULL               |NULL                |NULL                  |NULL      |NULL|NULL           |NULL            |NULL         |NULL                         |NULL         |NULL              |NULL                      |NULL           |NULL                |NULL                            |NULL                 |NULL                |NULL            |NULL               |NULL                       |NULL                   |NULL                            |NULL                    |NULL                  |\n",
      "+-----+--------------------+------------------------------+------------------+--------------------+------------+--------------+---------------+---------------+------------+---------+--------+------------------------+-------------------+------------------+------------------+--------------------+-----------------------+------------------+-------------------+--------------------+---------------+------------------------------------+-----+--------------------+------------+--------+------+---------------+----------+---------------------+-------------+--------------+----------+-------------+--------------+-----------------+----------------+-----------+-----------+------------+-----------------------------------+-----------------+----------------+-----------+---------+------+-------------+----------------------+---------+-------------------------+----------+-----------------+------------------+------------------------------------------------------------------------------------------------------------------------+------+---------------+--------------+-----------------+---------------+-----------------+----------------+---------------+------------+-----------------+--------------+---------+--------------------+-----------------------+------------------------+---------------------------+--------------------------------------------------------------------------------------------------------------------------------------------------------------------------------------------------------------------------------------------------------------------------------------------------------------------------------------------------------------------------------------------------------------------------------------------------------------------------------------------------------------------------------------------------------------------------------------------------------------------------------------------------------------------------------------------------------------------------------------------------------------------------------------------------------------------------------------------------------------------------------------------------------------------------------------------------------------------------------------------------------------------------------------------------------------------------------------------------------------------------------------------------------------------------------------------------------------------------------------------------------------------------------------------------------------------------------------------------------------------------------------------------------------------------------------------------------------------------------------------------+-----------------+-------+-----------------------+-----------+--------------+-------------------------+---------+---------------+------------------------+-------------------+------------------------+---------------------+--------------+-----------------+----------------+-----------------------+----------------------+----------------+--------------+-------------+------------------+----------------+--------------+---------------------+-------------------+--------------+-------------------+--------------------+----------------------+----------+----+---------------+----------------+-------------+-----------------------------+-------------+------------------+--------------------------+---------------+--------------------+--------------------------------+---------------------+--------------------+----------------+-------------------+---------------------------+-----------------------+--------------------------------+------------------------+----------------------+\n",
      "only showing top 10 rows\n"
     ]
    }
   ],
   "source": [
    "# Reading data\n",
    "df = spark.read.csv('../data/split_data/events/Europe - Champions League.csv',  # Load the CSV file containing Champions League events data\n",
    "                    sep=';', # Specify semicolon as separator (common in European CSVs)\n",
    "                    inferSchema=True, # Automatically infer column data types (e.g., int, string, double)\n",
    "                    header=True) # Use the first row as column headers\n",
    "df.show(n=10,truncate=False)"
   ]
  },
  {
   "cell_type": "markdown",
   "id": "d55671a3",
   "metadata": {},
   "source": [
    "### Preprocessing global schema\n",
    "The preprocessing starts with `__init__` which\n",
    "- Initialize parameters (`spark`, `df`, `season`, `events`, etc.)\n",
    "- Filter by season if specified\n",
    "- Filter for shots and passes leading to shots\n",
    "- Create UDFs for shot angle and player counting\n",
    "- If `full_pp=True`, call `preprocess()` immediately to execute the full preprocessing pipeline"
   ]
  },
  {
   "cell_type": "code",
   "execution_count": 15,
   "id": "d857d22a",
   "metadata": {},
   "outputs": [
    {
     "name": "stdout",
     "output_type": "stream",
     "text": [
      "+------------------------------------+--------+------+------+----+------+-------------+---------------+---------+--------------------+---------------------+--------------+--------------+--------------+---------+-----------------+--------------+---------------+---------------+---------------+--------------+--------------------+-----------------+------------+--------------+-----------------+------------------------------------+-----------+-----------+----------+---------------+----------+-------------+-----------+-----------------+---------------+----------------+-------------+-------------+\n",
      "|id                                  |match_id|minute|second|type|period|location     |team           |player_id|player              |position             |play_pattern  |shot_body_part|shot_technique|shot_type|shot_freeze_frame|under_pressure|shot_aerial_won|shot_first_time|shot_one_on_one|shot_open_goal|shot_follows_dribble|shot_statsbomb_xg|shot_outcome|pass_body_part|shot_end_location|pass_assisted_shot_id               |pass_height|pass_length|pass_angle|pass_aerial_won|pass_cross|pass_cut_back|pass_switch|pass_through_ball|pass_inswinging|pass_outswinging|pass_straight|pass_no_touch|\n",
      "+------------------------------------+--------+------+------+----+------+-------------+---------------+---------+--------------------+---------------------+--------------+--------------+--------------+---------+-----------------+--------------+---------------+---------------+---------------+--------------+--------------------+-----------------+------------+--------------+-----------------+------------------------------------+-----------+-----------+----------+---------------+----------+-------------+-----------+-----------------+---------------+----------------+-------------+-------------+\n",
      "|ae487d2d-c72a-422c-b257-cf1b1a8a9752|18243   |4     |21    |Pass|1     |[120.0, 79.0]|Atlético Madrid|6381.0   |Saúl Ñíguez Esclapez|Right Midfield       |From Throw In |NULL          |NULL          |NULL     |NULL             |NULL          |NULL           |NULL           |NULL           |NULL          |NULL                |NULL             |NULL        |Right Foot    |NULL             |129d6ccd-ef7d-44e2-87e1-b55d018f5e24|High Pass  |28.231188  |-1.971037 |NULL           |NULL      |NULL         |NULL       |NULL             |NULL           |NULL            |NULL         |NULL         |\n",
      "|572f93c1-e160-4405-b6f5-35b005ce86ee|18243   |5     |28    |Pass|1     |[100.0, 63.0]|Real Madrid    |6399.0   |Gareth Frank Bale   |Right Wing           |From Free Kick|NULL          |NULL          |NULL     |NULL             |NULL          |NULL           |NULL           |NULL           |NULL          |NULL                |NULL             |NULL        |Left Foot     |NULL             |855d5fee-a32c-4818-b5c8-9c98bb17bac5|Low Pass   |27.45906   |-0.9928944|NULL           |true      |NULL         |NULL       |NULL             |NULL           |NULL            |NULL         |NULL         |\n",
      "|080b5b50-dbcc-4fbd-8f9f-7c9c1e2e67a8|18243   |8     |52    |Pass|1     |[90.0, 29.0] |Real Madrid    |6399.0   |Gareth Frank Bale   |Right Wing           |Regular Play  |NULL          |NULL          |NULL     |NULL             |NULL          |NULL           |NULL           |NULL           |NULL          |NULL                |NULL             |NULL        |Left Foot     |NULL             |158ca4ad-9fd2-4f86-94f9-c711e4b2993f|Ground Pass|6.0827627  |-2.976444 |NULL           |NULL      |NULL         |NULL       |NULL             |NULL           |NULL            |NULL         |NULL         |\n",
      "|6fa1c5be-0b71-4a4d-8e89-55ef6e75e4dc|18243   |14    |26    |Pass|1     |[106.0, 36.0]|Real Madrid    |6399.0   |Gareth Frank Bale   |Right Wing           |From Free Kick|NULL          |NULL          |NULL     |NULL             |NULL          |NULL           |NULL           |NULL           |NULL          |NULL                |NULL             |NULL        |Head          |NULL             |2bf5883e-1d85-4412-b1e9-9f03ff8dafa0|High Pass  |11.7046995 |0.348771  |NULL           |NULL      |NULL         |NULL       |NULL             |NULL           |NULL            |NULL         |NULL         |\n",
      "|26e6fb35-605e-4ade-9975-42698778faec|18243   |22    |20    |Pass|1     |[51.0, 58.0] |Real Madrid    |5463.0   |Luka Modrić         |Right Center Midfield|Regular Play  |NULL          |NULL          |NULL     |NULL             |NULL          |NULL           |NULL           |NULL           |NULL          |NULL                |NULL             |NULL        |Right Foot    |NULL             |793a58d0-0e35-4987-9197-bee42d84a10c|Ground Pass|26.57066   |-1.2252407|NULL           |NULL      |NULL         |NULL       |NULL             |NULL           |NULL            |NULL         |NULL         |\n",
      "+------------------------------------+--------+------+------+----+------+-------------+---------------+---------+--------------------+---------------------+--------------+--------------+--------------+---------+-----------------+--------------+---------------+---------------+---------------+--------------+--------------------+-----------------+------------+--------------+-----------------+------------------------------------+-----------+-----------+----------+---------------+----------+-------------+-----------+-----------------+---------------+----------------+-------------+-------------+\n",
      "only showing top 5 rows\n"
     ]
    }
   ],
   "source": [
    "# 1. initializing\n",
    "df = df.filter(df.season == SEASON)\n",
    "df = df.filter((df.type == 'Shot') | (df.pass_assisted_shot_id.isNotNull()))\\\n",
    "                         .select(EVENTS)\n",
    "df.show(n=5, truncate=False)"
   ]
  },
  {
   "cell_type": "markdown",
   "id": "2dd5a83e",
   "metadata": {},
   "source": [
    "`preprocess` function is responsible for holding the global process calling the methods sequentially.<br>\n",
    "First method to be called is `spatial_data` which works as follows"
   ]
  },
  {
   "cell_type": "code",
   "execution_count": null,
   "id": "9b8bdef8",
   "metadata": {},
   "outputs": [
    {
     "name": "stdout",
     "output_type": "stream",
     "text": [
      "📍 LOCATION SPLITTING DEMONSTRATION\n",
      "==================================================\n",
      "🔍 Original location format:\n",
      "+------------------------------------+-------------+\n",
      "|id                                  |location     |\n",
      "+------------------------------------+-------------+\n",
      "|ae487d2d-c72a-422c-b257-cf1b1a8a9752|[120.0, 79.0]|\n",
      "|572f93c1-e160-4405-b6f5-35b005ce86ee|[100.0, 63.0]|\n",
      "|080b5b50-dbcc-4fbd-8f9f-7c9c1e2e67a8|[90.0, 29.0] |\n",
      "|6fa1c5be-0b71-4a4d-8e89-55ef6e75e4dc|[106.0, 36.0]|\n",
      "|26e6fb35-605e-4ade-9975-42698778faec|[51.0, 58.0] |\n",
      "+------------------------------------+-------------+\n",
      "\n",
      "\n",
      "🔧 Extracting X coordinates...\n",
      "🔧 Extracting Y coordinates...\n",
      "\n",
      "✅ Result:\n",
      "+--------------------+-------------+---------------+---------------+\n",
      "|                  id|     location|shot_location_x|shot_location_y|\n",
      "+--------------------+-------------+---------------+---------------+\n",
      "|ae487d2d-c72a-422...|[120.0, 79.0]|          120.0|           79.0|\n",
      "|572f93c1-e160-440...|[100.0, 63.0]|          100.0|           63.0|\n",
      "|080b5b50-dbcc-4fb...| [90.0, 29.0]|           90.0|           29.0|\n",
      "|6fa1c5be-0b71-4a4...|[106.0, 36.0]|          106.0|           36.0|\n",
      "|26e6fb35-605e-4ad...| [51.0, 58.0]|           51.0|           58.0|\n",
      "+--------------------+-------------+---------------+---------------+\n",
      "\n"
     ]
    }
   ],
   "source": [
    "# 2. Location Splitting Demonstration\n",
    "def demonstrate_split_location(df):\n",
    "    \"\"\"Show how location strings are split into X,Y coordinates\"\"\"\n",
    "    print(\"📍 LOCATION SPLITTING DEMONSTRATION\")\n",
    "    print(\"=\" * 50)\n",
    "    \n",
    "    print(\"🔍 Original location format:\")\n",
    "    df.select(\"id\", \"location\").show(truncate=False)\n",
    "    \n",
    "    print(\"\\n🔧 Extracting X coordinates...\")\n",
    "    df_with_x = df.withColumn(\"shot_location_x\",\n",
    "                             F.regexp_extract(F.col(\"location\"), r'\\[(.*?),', 1).cast(\"float\"))\n",
    "    \n",
    "    print(\"🔧 Extracting Y coordinates...\")\n",
    "    df_with_xy = df_with_x.withColumn(\"shot_location_y\",\n",
    "                                     F.regexp_extract(F.col(\"location\"), r', (.*?)\\]', 1).cast(\"float\"))\n",
    "    \n",
    "    print(\"\\n✅ Result:\")\n",
    "    df_with_xy.select(\"id\", \"location\", \"shot_location_x\", \"shot_location_y\").show()\n",
    "        \n",
    "    return df_with_xy\n",
    "\n",
    "# Run the demonstration\n",
    "df_with_coords = demonstrate_split_location(df.limit(5))"
   ]
  },
  {
   "cell_type": "markdown",
   "id": "e2ac40b1",
   "metadata": {},
   "source": [
    "Having the exact coordinates of a shot will allow us to calculate the distance and angle to goal."
   ]
  },
  {
   "cell_type": "code",
   "execution_count": null,
   "id": "547fc2e2",
   "metadata": {},
   "outputs": [
    {
     "name": "stdout",
     "output_type": "stream",
     "text": [
      "📏 DISTANCE TO GOAL CALCULATION\n",
      "==================================================\n",
      "🥅 Goal center position: (120, 40.0)\n",
      "\n",
      "📊 Distance calculations:\n",
      "  Shot ae487d2d-c72a-422c-b257-cf1b1a8a9752: Position (120.0, 79.0) → Distance: 39.0\n",
      "  Shot 572f93c1-e160-4405-b6f5-35b005ce86ee: Position (100.0, 63.0) → Distance: 30.48\n",
      "  Shot 080b5b50-dbcc-4fbd-8f9f-7c9c1e2e67a8: Position (90.0, 29.0) → Distance: 31.95\n",
      "  Shot 6fa1c5be-0b71-4a4d-8e89-55ef6e75e4dc: Position (106.0, 36.0) → Distance: 14.56\n",
      "  Shot 26e6fb35-605e-4ade-9975-42698778faec: Position (51.0, 58.0) → Distance: 71.31\n"
     ]
    }
   ],
   "source": [
    "# 3. Distance to Goal Calculation\n",
    "def demonstrate_distance_calculation(df):\n",
    "    \"\"\"Show how distance to goal is calculated\"\"\"\n",
    "    print(\"📏 DISTANCE TO GOAL CALCULATION\")\n",
    "    print(\"=\" * 50)\n",
    "        \n",
    "    print(f\"🥅 Goal center position: ({GOAL_X}, {(GOAL_Y1 + GOAL_Y2) / 2})\")\n",
    "    \n",
    "    # Calculate distance using Euclidean formula\n",
    "    df_with_distance = df.withColumn(\"distance_to_goal\",\n",
    "                                    F.round(F.sqrt(\n",
    "                                        F.pow(F.col(\"shot_location_x\") - F.lit(GOAL_X), 2) +\n",
    "                                        F.pow(F.col(\"shot_location_y\") - F.lit((GOAL_Y1 + GOAL_Y2) / 2), 2)\n",
    "                                    ), 2))\n",
    "    \n",
    "    print(\"\\n📊 Distance calculations:\")\n",
    "    result = df_with_distance.select(\"id\", \"shot_location_x\", \"shot_location_y\", \"distance_to_goal\").collect()\n",
    "    \n",
    "    for row in result:\n",
    "        if row.shot_location_x is not None:\n",
    "            print(f\"  Shot {row.id}: Position ({row.shot_location_x}, {row.shot_location_y}) → Distance: {row.distance_to_goal}\")\n",
    "    \n",
    "    return df_with_distance\n",
    "\n",
    "# Run the demonstration\n",
    "df_with_distance = demonstrate_distance_calculation(df_with_coords)"
   ]
  },
  {
   "cell_type": "code",
   "execution_count": 28,
   "id": "f56671f8",
   "metadata": {},
   "outputs": [
    {
     "name": "stdout",
     "output_type": "stream",
     "text": [
      "🎯 TESTING SHOT ANGLE CALCULATION\n",
      "==================================================\n",
      "+--------------------+--------+------+------+----+------+-------------+---------------+---------+--------------------+--------------+--------------+--------------+--------------+---------+-----------------+--------------+---------------+---------------+---------------+--------------+--------------------+-----------------+------------+--------------+-----------------+---------------------+-----------+-----------+----------+---------------+----------+-------------+-----------+-----------------+---------------+----------------+-------------+-------------+---------------+---------------+----------------+----------+\n",
      "|                  id|match_id|minute|second|type|period|     location|           team|player_id|              player|      position|  play_pattern|shot_body_part|shot_technique|shot_type|shot_freeze_frame|under_pressure|shot_aerial_won|shot_first_time|shot_one_on_one|shot_open_goal|shot_follows_dribble|shot_statsbomb_xg|shot_outcome|pass_body_part|shot_end_location|pass_assisted_shot_id|pass_height|pass_length|pass_angle|pass_aerial_won|pass_cross|pass_cut_back|pass_switch|pass_through_ball|pass_inswinging|pass_outswinging|pass_straight|pass_no_touch|shot_location_x|shot_location_y|distance_to_goal|shot_angle|\n",
      "+--------------------+--------+------+------+----+------+-------------+---------------+---------+--------------------+--------------+--------------+--------------+--------------+---------+-----------------+--------------+---------------+---------------+---------------+--------------+--------------------+-----------------+------------+--------------+-----------------+---------------------+-----------+-----------+----------+---------------+----------+-------------+-----------+-----------------+---------------+----------------+-------------+-------------+---------------+---------------+----------------+----------+\n",
      "|ae487d2d-c72a-422...|   18243|     4|    21|Pass|     1|[120.0, 79.0]|Atlético Madrid|   6381.0|Saúl Ñíguez Esclapez|Right Midfield| From Throw In|          NULL|          NULL|     NULL|             NULL|          NULL|           NULL|           NULL|           NULL|          NULL|                NULL|             NULL|        NULL|    Right Foot|             NULL| 129d6ccd-ef7d-44e...|  High Pass|  28.231188| -1.971037|           NULL|      NULL|         NULL|       NULL|             NULL|           NULL|            NULL|         NULL|         NULL|          120.0|           79.0|            39.0|       0.0|\n",
      "|572f93c1-e160-440...|   18243|     5|    28|Pass|     1|[100.0, 63.0]|    Real Madrid|   6399.0|   Gareth Frank Bale|    Right Wing|From Free Kick|          NULL|          NULL|     NULL|             NULL|          NULL|           NULL|           NULL|           NULL|          NULL|                NULL|             NULL|        NULL|     Left Foot|             NULL| 855d5fee-a32c-481...|   Low Pass|   27.45906|-0.9928944|           NULL|      true|         NULL|       NULL|             NULL|           NULL|            NULL|         NULL|         NULL|          100.0|           63.0|           30.48|  9.939945|\n",
      "|080b5b50-dbcc-4fb...|   18243|     8|    52|Pass|     1| [90.0, 29.0]|    Real Madrid|   6399.0|   Gareth Frank Bale|    Right Wing|  Regular Play|          NULL|          NULL|     NULL|             NULL|          NULL|           NULL|           NULL|           NULL|          NULL|                NULL|             NULL|        NULL|     Left Foot|             NULL| 158ca4ad-9fd2-4f8...|Ground Pass|  6.0827627| -2.976444|           NULL|      NULL|         NULL|       NULL|             NULL|           NULL|            NULL|         NULL|         NULL|           90.0|           29.0|           31.95| 13.431029|\n",
      "+--------------------+--------+------+------+----+------+-------------+---------------+---------+--------------------+--------------+--------------+--------------+--------------+---------+-----------------+--------------+---------------+---------------+---------------+--------------+--------------------+-----------------+------------+--------------+-----------------+---------------------+-----------+-----------+----------+---------------+----------+-------------+-----------+-----------------+---------------+----------------+-------------+-------------+---------------+---------------+----------------+----------+\n",
      "\n"
     ]
    },
    {
     "name": "stderr",
     "output_type": "stream",
     "text": [
      "  🎯 Calculating shot angle for position (120.0, 79.0)\n",
      "  📍 Goal posts at (120, 36) and (120, 44)\n",
      "  📐 Vector to lower post: (0.0, -43.0)\n",
      "  📐 Vector to upper post: (0.0, -35.0)\n",
      "  📊 Final angle: 0.00°\n",
      "\n",
      "  🎯 Calculating shot angle for position (100.0, 63.0)\n",
      "  📍 Goal posts at (120, 36) and (120, 44)\n",
      "  📐 Vector to lower post: (20.0, -27.0)\n",
      "  📐 Vector to upper post: (20.0, -19.0)\n",
      "  📊 Final angle: 9.94°\n",
      "\n",
      "  🎯 Calculating shot angle for position (90.0, 29.0)\n",
      "  📍 Goal posts at (120, 36) and (120, 44)\n",
      "  📐 Vector to lower post: (30.0, 7.0)\n",
      "  📐 Vector to upper post: (30.0, 15.0)\n",
      "  📊 Final angle: 13.43°\n",
      "\n"
     ]
    }
   ],
   "source": [
    "GOAL_X = 120\n",
    "\n",
    "GOAL_Y1 = 36\n",
    "\n",
    "GOAL_Y2 = 44\n",
    "\n",
    "def shot_angle(shot_x, shot_y, GOAL_X=120, GOAL_Y1=36, GOAL_Y2=44):\n",
    "    \"\"\"\n",
    "    Calculate the angle between vectors from shot to each goal post\n",
    "    \"\"\"\n",
    "    print(f\"  🎯 Calculating shot angle for position ({shot_x}, {shot_y})\")\n",
    "    print(f\"  📍 Goal posts at ({GOAL_X}, {GOAL_Y1}) and ({GOAL_X}, {GOAL_Y2})\")\n",
    "    \n",
    "    # Vectors from shot to each goal post\n",
    "    u_x = GOAL_X - shot_x\n",
    "    u_y = GOAL_Y1 - shot_y\n",
    "    v_y = GOAL_Y2 - shot_y\n",
    "    \n",
    "    print(f\"  📐 Vector to lower post: ({u_x}, {u_y})\")\n",
    "    print(f\"  📐 Vector to upper post: ({u_x}, {v_y})\")\n",
    "    \n",
    "    # Calculate dot product and magnitudes\n",
    "    dot_product = u_x ** 2 + u_y * v_y\n",
    "    magnitude_u = math.sqrt(u_x ** 2 + u_y ** 2)\n",
    "    magnitude_v = math.sqrt(u_x ** 2 + v_y ** 2)\n",
    "\n",
    "    if magnitude_u == 0 or magnitude_v == 0:\n",
    "        return 0.0\n",
    "    \n",
    "    # Calculate angle\n",
    "    angle_radians = math.acos(dot_product / (magnitude_u * magnitude_v))\n",
    "    angle_degrees = math.degrees(angle_radians)\n",
    "    \n",
    "    print(f\"  📊 Final angle: {angle_degrees:.2f}°\\n\")\n",
    "    return angle_degrees\n",
    "\n",
    "# Test the shot angle calculation\n",
    "print(\"🎯 TESTING SHOT ANGLE CALCULATION\")\n",
    "print(\"=\" * 50)\n",
    "\n",
    "shot_angle_udf = F.udf(lambda shot_x, shot_y: shot_angle(shot_x, shot_y, GOAL_X, GOAL_Y1, GOAL_Y2), T.FloatType())\n",
    "\n",
    "df = df_with_distance.limit(3).withColumn(\"shot_angle\",\n",
    "                                     shot_angle_udf(df_with_distance.shot_location_x, df_with_distance.shot_location_y))\n",
    "df.show()"
   ]
  },
  {
   "cell_type": "code",
   "execution_count": null,
   "id": "48952cf0",
   "metadata": {},
   "outputs": [],
   "source": []
  }
 ],
 "metadata": {
  "kernelspec": {
   "display_name": "venv",
   "language": "python",
   "name": "python3"
  },
  "language_info": {
   "codemirror_mode": {
    "name": "ipython",
    "version": 3
   },
   "file_extension": ".py",
   "mimetype": "text/x-python",
   "name": "python",
   "nbconvert_exporter": "python",
   "pygments_lexer": "ipython3",
   "version": "3.12.3"
  }
 },
 "nbformat": 4,
 "nbformat_minor": 5
}
