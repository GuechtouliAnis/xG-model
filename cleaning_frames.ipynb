{
 "cells": [
  {
   "cell_type": "code",
   "execution_count": 1,
   "metadata": {},
   "outputs": [],
   "source": [
    "from pyspark.sql import SparkSession"
   ]
  },
  {
   "cell_type": "code",
   "execution_count": 2,
   "metadata": {},
   "outputs": [],
   "source": [
    "from pyspark.sql.functions import split, regexp_replace, col, when, sum"
   ]
  },
  {
   "cell_type": "code",
   "execution_count": 3,
   "metadata": {},
   "outputs": [
    {
     "name": "stderr",
     "output_type": "stream",
     "text": [
      "your 131072x1 screen size is bogus. expect trouble\n",
      "Setting default log level to \"WARN\".\n",
      "To adjust logging level use sc.setLogLevel(newLevel). For SparkR, use setLogLevel(newLevel).\n",
      "24/11/28 14:20:27 WARN NativeCodeLoader: Unable to load native-hadoop library for your platform... using builtin-java classes where applicable\n"
     ]
    }
   ],
   "source": [
    "spark = SparkSession.builder.appName(\"ReadHDFSFile\").getOrCreate()"
   ]
  },
  {
   "cell_type": "code",
   "execution_count": null,
   "metadata": {},
   "outputs": [],
   "source": [
    "# competitions = spark.read.csv(\"hdfs://localhost:9000/big-data/competitions.csv\",header=True)\n",
    "# events = spark.read.csv(\"hdfs://localhost:9000/big-data/events.csv\",header=True)\n",
    "frames = spark.read.csv(\"hdfs://localhost:9000/big-data/frames.csv\",header=True)\n",
    "# lineups = spark.read.csv(\"hdfs://localhost:9000/big-data/lineups.csv\",header=True)\n",
    "# matches = spark.read.csv(\"hdfs://localhost:9000/big-data/matches.csv\",header=True)"
   ]
  },
  {
   "cell_type": "code",
   "execution_count": 5,
   "metadata": {},
   "outputs": [
    {
     "name": "stdout",
     "output_type": "stream",
     "text": [
      "+--------------------+--------------------+--------+--------+-----+------+--------------------+\n",
      "|                  id|        visible_area|match_id|teammate|actor|keeper|            location|\n",
      "+--------------------+--------------------+--------+--------+-----+------+--------------------+\n",
      "|25dfc952-7a85-464...|[82.0588035227948...| 3942819|    True|False|  True|[22.6975416639254...|\n",
      "|25dfc952-7a85-464...|[82.0588035227948...| 3942819|    True|False| False|[46.5466540256494...|\n",
      "|25dfc952-7a85-464...|[82.0588035227948...| 3942819|    True|False| False|[47.4452205797475...|\n",
      "|25dfc952-7a85-464...|[82.0588035227948...| 3942819|    True|False| False|[48.8195457108986...|\n",
      "|25dfc952-7a85-464...|[82.0588035227948...| 3942819|    True|False| False|[49.7459543709158...|\n",
      "|25dfc952-7a85-464...|[82.0588035227948...| 3942819|    True|False| False|[53.4689340941401...|\n",
      "|25dfc952-7a85-464...|[82.0588035227948...| 3942819|    True|False| False|[59.3929593689272...|\n",
      "|25dfc952-7a85-464...|[82.0588035227948...| 3942819|   False|False| False|[59.5183989006924...|\n",
      "|25dfc952-7a85-464...|[82.0588035227948...| 3942819|    True|False| False|[59.6337927360916...|\n",
      "|25dfc952-7a85-464...|[82.0588035227948...| 3942819|    True|False| False|[59.7703915945295...|\n",
      "|25dfc952-7a85-464...|[82.0588035227948...| 3942819|    True| True| False|        [60.0, 40.0]|\n",
      "|25dfc952-7a85-464...|[82.0588035227948...| 3942819|    True|False| False|[60.6483672551598...|\n",
      "|25dfc952-7a85-464...|[82.0588035227948...| 3942819|   False|False| False|[62.4798233550562...|\n",
      "|25dfc952-7a85-464...|[82.0588035227948...| 3942819|   False|False| False|[63.2075976661429...|\n",
      "|25dfc952-7a85-464...|[82.0588035227948...| 3942819|   False|False| False|[69.9988692300016...|\n",
      "|25dfc952-7a85-464...|[82.0588035227948...| 3942819|   False|False| False|[70.0104789976888...|\n",
      "|25dfc952-7a85-464...|[82.0588035227948...| 3942819|   False|False| False|[71.7557368865126...|\n",
      "|25dfc952-7a85-464...|[82.0588035227948...| 3942819|   False|False| False|[80.4283963824078...|\n",
      "|25dfc952-7a85-464...|[82.0588035227948...| 3942819|   False|False| False|[81.8877767305595...|\n",
      "|25dfc952-7a85-464...|[82.0588035227948...| 3942819|   False|False| False|[84.6011610459542...|\n",
      "+--------------------+--------------------+--------+--------+-----+------+--------------------+\n",
      "only showing top 20 rows\n",
      "\n"
     ]
    }
   ],
   "source": [
    "frames.show()"
   ]
  },
  {
   "cell_type": "markdown",
   "metadata": {},
   "source": [
    "### Splitting Location"
   ]
  },
  {
   "cell_type": "code",
   "execution_count": 6,
   "metadata": {},
   "outputs": [
    {
     "data": {
      "text/plain": [
       "'[22.697541663925428, 41.01277368603656]'"
      ]
     },
     "execution_count": 6,
     "metadata": {},
     "output_type": "execute_result"
    }
   ],
   "source": [
    "fs = frames.first()\n",
    "fs['location']"
   ]
  },
  {
   "cell_type": "code",
   "execution_count": 7,
   "metadata": {},
   "outputs": [
    {
     "name": "stdout",
     "output_type": "stream",
     "text": [
      "+--------------------+--------------------+--------+--------+-----+------+------------------+------------------+\n",
      "|                  id|        visible_area|match_id|teammate|actor|keeper|                 x|                 y|\n",
      "+--------------------+--------------------+--------+--------+-----+------+------------------+------------------+\n",
      "|25dfc952-7a85-464...|[82.0588035227948...| 3942819|    True|False|  True|22.697541663925428| 41.01277368603656|\n",
      "|25dfc952-7a85-464...|[82.0588035227948...| 3942819|    True|False| False| 46.54665402564941| 46.65992069066397|\n",
      "|25dfc952-7a85-464...|[82.0588035227948...| 3942819|    True|False| False| 47.44522057974756| 64.52929870627902|\n",
      "|25dfc952-7a85-464...|[82.0588035227948...| 3942819|    True|False| False| 48.81954571089864|35.810976155696935|\n",
      "|25dfc952-7a85-464...|[82.0588035227948...| 3942819|    True|False| False| 49.74595437091587|27.859841158806844|\n",
      "|25dfc952-7a85-464...|[82.0588035227948...| 3942819|    True|False| False|53.468934094140124|48.359720135671516|\n",
      "|25dfc952-7a85-464...|[82.0588035227948...| 3942819|    True|False| False| 59.39295936892726| 65.20967497250402|\n",
      "|25dfc952-7a85-464...|[82.0588035227948...| 3942819|   False|False| False| 59.51839890069241|50.247564716443506|\n",
      "|25dfc952-7a85-464...|[82.0588035227948...| 3942819|    True|False| False| 59.63379273609168| 72.56790108034444|\n",
      "|25dfc952-7a85-464...|[82.0588035227948...| 3942819|    True|False| False| 59.77039159452952|29.092900233218515|\n",
      "|25dfc952-7a85-464...|[82.0588035227948...| 3942819|    True| True| False|              60.0|              40.0|\n",
      "|25dfc952-7a85-464...|[82.0588035227948...| 3942819|    True|False| False| 60.64836725515984| 60.46506018214295|\n",
      "|25dfc952-7a85-464...|[82.0588035227948...| 3942819|   False|False| False| 62.47982335505628| 31.31161890960427|\n",
      "|25dfc952-7a85-464...|[82.0588035227948...| 3942819|   False|False| False|63.207597666142966|24.356636033507463|\n",
      "|25dfc952-7a85-464...|[82.0588035227948...| 3942819|   False|False| False| 69.99886923000167| 64.86387854756343|\n",
      "|25dfc952-7a85-464...|[82.0588035227948...| 3942819|   False|False| False| 70.01047899768881| 55.64578321537585|\n",
      "|25dfc952-7a85-464...|[82.0588035227948...| 3942819|   False|False| False| 71.75573688651266|41.187922078866826|\n",
      "|25dfc952-7a85-464...|[82.0588035227948...| 3942819|   False|False| False| 80.42839638240781|30.689008801064666|\n",
      "|25dfc952-7a85-464...|[82.0588035227948...| 3942819|   False|False| False|  81.8877767305595| 67.96424237463056|\n",
      "|25dfc952-7a85-464...|[82.0588035227948...| 3942819|   False|False| False| 84.60116104595426| 44.00241508876877|\n",
      "|25dfc952-7a85-464...|[82.0588035227948...| 3942819|   False|False| False| 85.48634911487619|56.461097802694105|\n",
      "|85328a9c-e246-427...|[79.6704479574818...| 3942819|    True| True|  True|25.700000762939453|              34.5|\n",
      "+--------------------+--------------------+--------+--------+-----+------+------------------+------------------+\n",
      "only showing top 22 rows\n",
      "\n"
     ]
    }
   ],
   "source": [
    "frames = frames.withColumn(\"location_clean\", regexp_replace(col(\"location\"), r\"[\\[\\]]\", \"\")) \\\n",
    "               .withColumn(\"x\", split(col(\"location_clean\"), \", \").getItem(0).cast(\"double\")) \\\n",
    "               .withColumn(\"y\", split(col(\"location_clean\"), \", \").getItem(1).cast(\"double\")) \\\n",
    "               .drop(\"location_clean\").drop(\"location\")\n",
    "\n",
    "frames.show(22)"
   ]
  },
  {
   "cell_type": "markdown",
   "metadata": {},
   "source": [
    "### Replacing True/False with 1/0"
   ]
  },
  {
   "cell_type": "code",
   "execution_count": 8,
   "metadata": {},
   "outputs": [
    {
     "name": "stdout",
     "output_type": "stream",
     "text": [
      "root\n",
      " |-- id: string (nullable = true)\n",
      " |-- visible_area: string (nullable = true)\n",
      " |-- match_id: string (nullable = true)\n",
      " |-- teammate: string (nullable = true)\n",
      " |-- actor: string (nullable = true)\n",
      " |-- keeper: string (nullable = true)\n",
      " |-- x: double (nullable = true)\n",
      " |-- y: double (nullable = true)\n",
      "\n"
     ]
    }
   ],
   "source": [
    "frames.printSchema()"
   ]
  },
  {
   "cell_type": "code",
   "execution_count": 11,
   "metadata": {},
   "outputs": [
    {
     "name": "stdout",
     "output_type": "stream",
     "text": [
      "+--------------------+--------------------+--------+--------+-----+------+------------------+------------------+\n",
      "|                  id|        visible_area|match_id|teammate|actor|keeper|                 x|                 y|\n",
      "+--------------------+--------------------+--------+--------+-----+------+------------------+------------------+\n",
      "|25dfc952-7a85-464...|[82.0588035227948...| 3942819|       1|    0|     1|22.697541663925428| 41.01277368603656|\n",
      "|25dfc952-7a85-464...|[82.0588035227948...| 3942819|       1|    0|     0| 46.54665402564941| 46.65992069066397|\n",
      "|25dfc952-7a85-464...|[82.0588035227948...| 3942819|       1|    0|     0| 47.44522057974756| 64.52929870627902|\n",
      "|25dfc952-7a85-464...|[82.0588035227948...| 3942819|       1|    0|     0| 48.81954571089864|35.810976155696935|\n",
      "|25dfc952-7a85-464...|[82.0588035227948...| 3942819|       1|    0|     0| 49.74595437091587|27.859841158806844|\n",
      "+--------------------+--------------------+--------+--------+-----+------+------------------+------------------+\n",
      "only showing top 5 rows\n",
      "\n"
     ]
    }
   ],
   "source": [
    "columns_re = ['teammate','actor','keeper']\n",
    "\n",
    "for column in columns_re:\n",
    "    frames = frames.withColumn(column,when(col(column)=='True',1) \\\n",
    "    .when(col(column) == 'False',0).otherwise(col(column)))\n",
    "\n",
    "frames.show(5)"
   ]
  },
  {
   "cell_type": "code",
   "execution_count": 60,
   "metadata": {},
   "outputs": [],
   "source": [
    "# According to documentation, visible_area data is in format\n",
    "# X1, Y1, X2, Y2 ... Xn, Yn"
   ]
  },
  {
   "cell_type": "code",
   "execution_count": null,
   "metadata": {},
   "outputs": [
    {
     "name": "stderr",
     "output_type": "stream",
     "text": [
      "[Stage 9:===================================>                     (13 + 8) / 21]\r"
     ]
    },
    {
     "name": "stdout",
     "output_type": "stream",
     "text": [
      "+---+------------+--------+--------+-----+------+---+---+\n",
      "| id|visible_area|match_id|teammate|actor|keeper|  x|  y|\n",
      "+---+------------+--------+--------+-----+------+---+---+\n",
      "|  0|           0|       0|       0|    0|     0|  0|  0|\n",
      "+---+------------+--------+--------+-----+------+---+---+\n",
      "\n"
     ]
    },
    {
     "name": "stderr",
     "output_type": "stream",
     "text": [
      "                                                                                \r"
     ]
    }
   ],
   "source": [
    "null_counts = frames.select(\n",
    "    *[\n",
    "        sum(when(col(c).isNull(), 1).otherwise(0)).alias(c)\n",
    "        for c in frames.columns\n",
    "    ]\n",
    ")\n",
    "null_counts.show()"
   ]
  },
  {
   "cell_type": "code",
   "execution_count": 6,
   "metadata": {},
   "outputs": [],
   "source": [
    "spark.stop()"
   ]
  }
 ],
 "metadata": {
  "kernelspec": {
   "display_name": "myenv",
   "language": "python",
   "name": "python3"
  },
  "language_info": {
   "codemirror_mode": {
    "name": "ipython",
    "version": 3
   },
   "file_extension": ".py",
   "mimetype": "text/x-python",
   "name": "python",
   "nbconvert_exporter": "python",
   "pygments_lexer": "ipython3",
   "version": "3.12.3"
  }
 },
 "nbformat": 4,
 "nbformat_minor": 2
}
