{
 "cells": [
  {
   "cell_type": "code",
   "execution_count": 1,
   "metadata": {},
   "outputs": [],
   "source": [
    "from pyspark.sql import SparkSession"
   ]
  },
  {
   "cell_type": "code",
   "execution_count": 32,
   "metadata": {},
   "outputs": [],
   "source": [
    "from pyspark.sql.functions import corr"
   ]
  },
  {
   "cell_type": "code",
   "execution_count": 2,
   "metadata": {},
   "outputs": [],
   "source": [
    "from pyspark.sql.functions import split, regexp_replace, col, when, sum"
   ]
  },
  {
   "cell_type": "code",
   "execution_count": 3,
   "metadata": {},
   "outputs": [
    {
     "name": "stderr",
     "output_type": "stream",
     "text": [
      "your 131072x1 screen size is bogus. expect trouble\n",
      "Setting default log level to \"WARN\".\n",
      "To adjust logging level use sc.setLogLevel(newLevel). For SparkR, use setLogLevel(newLevel).\n",
      "24/12/15 15:29:38 WARN NativeCodeLoader: Unable to load native-hadoop library for your platform... using builtin-java classes where applicable\n",
      "24/12/15 15:29:39 WARN Utils: Service 'SparkUI' could not bind on port 4040. Attempting port 4041.\n"
     ]
    }
   ],
   "source": [
    "spark = SparkSession.builder.appName(\"ReadHDFSFile\").getOrCreate()"
   ]
  },
  {
   "cell_type": "code",
   "execution_count": 125,
   "metadata": {},
   "outputs": [],
   "source": [
    "# competitions = spark.read.csv(\"hdfs://localhost:9000/big-data/competitions.csv\",header=True)\n",
    "events = spark.read.csv(\"Data/events.csv\",header=True)\n",
    "#frames = spark.read.csv(\"Data/frames.csv\",header=True)\n",
    "# lineups = spark.read.csv(\"hdfs://localhost:9000/big-data/lineups.csv\",header=True)\n",
    "matches = spark.read.csv(\"Data/matches.csv\",header=True)"
   ]
  },
  {
   "cell_type": "code",
   "execution_count": null,
   "metadata": {},
   "outputs": [
    {
     "name": "stderr",
     "output_type": "stream",
     "text": [
      "[Stage 293:====================================================>  (25 + 1) / 26]\r"
     ]
    },
    {
     "name": "stdout",
     "output_type": "stream",
     "text": [
      "Row(50_50=None, bad_behaviour_card=None, ball_receipt_outcome=None, ball_recovery_offensive=None, ball_recovery_recovery_failure=None, block_deflection=None, block_offensive=None, carry_end_location=None, clearance_aerial_won=None, clearance_body_part=None, clearance_head=None, clearance_left_foot='0.0', clearance_right_foot=None, counterpress=None, dribble_nutmeg=None, dribble_outcome=None, dribble_overrun=None, duel_outcome=None, duel_type=None, duration=None, foul_committed_advantage=None, foul_committed_card=None, foul_committed_type='1b29d6b4-99d8-4cf0-9349-87690fa04702', foul_won_advantage='4', foul_won_defensive=None, goalkeeper_body_part=None, goalkeeper_end_location='7572', goalkeeper_outcome='0', goalkeeper_position=None, goalkeeper_technique=None, goalkeeper_type=None, id=None, index=None, injury_stoppage_in_chain=None, interception_outcome=None, location=None, match_id=None, minute=None, off_camera=None, out=None, pass_aerial_won=None, pass_angle=None, pass_assisted_shot_id=None, pass_body_part=None, pass_cross=None, pass_cut_back=None, pass_end_location='1', pass_goal_assist='Regular Play', pass_height=None, pass_inswinging=None, pass_length=None, pass_miscommunication='1', pass_outcome='Japan', pass_outswinging='778', pass_recipient=\"['33303a51-d067-491f-b284-259c651e48a0']\", pass_recipient_id='0', pass_shot_assist=None, pass_switch=None, pass_technique=None, pass_through_ball=None, pass_type=None, period=None, play_pattern=None, player=None, player_id=None, position=None, possession=None, possession_team=None, possession_team_id=None, related_events=None, second=None, shot_aerial_won=None, shot_body_part='Japan', shot_end_location='778', shot_first_time='00:00:00.000', shot_freeze_frame='Half Start', shot_key_pass_id=None, shot_one_on_one=None, shot_outcome=None, shot_statsbomb_xg=None, shot_technique=None, shot_type=None, substitution_outcome=None, substitution_outcome_id=None, substitution_replacement=None, substitution_replacement_id=None, tactics=None, team=None, team_id=None, timestamp=None, type=None, under_pressure=None, block_save_block=None, pass_no_touch=None, goalkeeper_shot_saved_to_post=None, pass_deflected=None, shot_deflected=None, shot_saved_to_post=None, miscontrol_aerial_won=None, shot_redirect=None, foul_committed_penalty=None, foul_won_penalty=None, goalkeeper_punched_out=None, foul_committed_offensive=None, pass_straight=None, clearance_other=None, dribble_no_touch=None, goalkeeper_lost_in_play=None, goalkeeper_penalty_saved_to_post=None, shot_open_goal=None, goalkeeper_success_in_play=None, player_off_permanent=None, goalkeeper_shot_saved_off_target=None, shot_follows_dribble=None, shot_saved_off_target=None, goalkeeper_success_out=None, half_start_late_video_start=None, pass_backheel=None)\n",
      "Row(50_50=None, bad_behaviour_card=None, ball_receipt_outcome=None, ball_recovery_offensive=None, ball_recovery_recovery_failure=None, block_deflection=None, block_offensive=None, carry_end_location=None, clearance_aerial_won=None, clearance_body_part=None, clearance_head=None, clearance_left_foot=None, clearance_right_foot=None, counterpress=None, dribble_nutmeg=None, dribble_outcome=None, dribble_overrun=None, duel_outcome='0.0', duel_type=None, duration=None, foul_committed_advantage=None, foul_committed_card=None, foul_committed_type=None, foul_won_advantage=None, foul_won_defensive=None, goalkeeper_body_part=None, goalkeeper_end_location=None, goalkeeper_outcome=None, goalkeeper_position=None, goalkeeper_technique=None, goalkeeper_type=None, id=None, index='dc90db29-f6bf-4cae-a5d6-f3c7cb065490', injury_stoppage_in_chain='1154', interception_outcome=None, location='[112.6, 76.7]', match_id='3879633', minute='36', off_camera=None, out=None, pass_aerial_won=None, pass_angle=None, pass_assisted_shot_id=None, pass_body_part=None, pass_cross=None, pass_cut_back=None, pass_end_location=None, pass_goal_assist=None, pass_height=None, pass_inswinging=None, pass_length=None, pass_miscommunication=None, pass_outcome=None, pass_outswinging=None, pass_recipient=None, pass_recipient_id=None, pass_shot_assist=None, pass_switch=None, pass_technique=None, pass_through_ball=None, pass_type=None, period=None, play_pattern='1', player='From Free Kick', player_id='Marko Livaja', position='22041.0', possession='Left Center Forward', possession_team='68', possession_team_id='Empoli', related_events='290', second=\"['0a27b839-4bfc-40d6-b481-e928ffbd9e48']\", shot_aerial_won='3', shot_body_part=None, shot_end_location=None, shot_first_time=None, shot_freeze_frame=None, shot_key_pass_id=None, shot_one_on_one=None, shot_outcome=None, shot_statsbomb_xg=None, shot_technique=None, shot_type=None, substitution_outcome=None, substitution_outcome_id=None, substitution_replacement=None, substitution_replacement_id=None, tactics=None, team=None, team_id=None, timestamp='Empoli', type='290', under_pressure='00:36:03.855', block_save_block='Dispossessed', pass_no_touch='True', goalkeeper_shot_saved_to_post=None, pass_deflected=None, shot_deflected=None, shot_saved_to_post=None, miscontrol_aerial_won=None, shot_redirect=None, foul_committed_penalty=None, foul_won_penalty=None, goalkeeper_punched_out=None, foul_committed_offensive=None, pass_straight=None, clearance_other=None, dribble_no_touch=None, goalkeeper_lost_in_play=None, goalkeeper_penalty_saved_to_post=None, shot_open_goal=None, goalkeeper_success_in_play=None, player_off_permanent=None, goalkeeper_shot_saved_off_target=None, shot_follows_dribble=None, shot_saved_off_target=None, goalkeeper_success_out=None, half_start_late_video_start=None, pass_backheel=None)\n",
      "Row(50_50=None, bad_behaviour_card=None, ball_receipt_outcome=None, ball_recovery_offensive=None, ball_recovery_recovery_failure=None, block_deflection=None, block_offensive=None, carry_end_location=None, clearance_aerial_won=None, clearance_body_part=None, clearance_head=None, clearance_left_foot=None, clearance_right_foot=None, counterpress=None, dribble_nutmeg=None, dribble_outcome=None, dribble_overrun=None, duel_outcome='1.318767', duel_type=None, duration=None, foul_committed_advantage=None, foul_committed_card=None, foul_committed_type=None, foul_won_advantage=None, foul_won_defensive=None, goalkeeper_body_part=None, goalkeeper_end_location=None, goalkeeper_outcome=None, goalkeeper_position=None, goalkeeper_technique=None, goalkeeper_type=None, id=None, index='b30c8111-c67d-48f5-9646-05da36ffb549', injury_stoppage_in_chain='3362', interception_outcome=None, location='[51.2, 16.0]', match_id='3879760', minute='87', off_camera=None, out=None, pass_aerial_won=None, pass_angle='0.31485412', pass_assisted_shot_id=None, pass_body_part='Left Foot', pass_cross=None, pass_cut_back=None, pass_end_location='[73.0, 23.1]', pass_goal_assist=None, pass_height='High Pass', pass_inswinging=None, pass_length='22.92706', pass_miscommunication=None, pass_outcome=None, pass_outswinging=None, pass_recipient='Emanuele Giaccherini', pass_recipient_id='7775.0', pass_shot_assist=None, pass_switch=None, pass_technique=None, pass_through_ball=None, pass_type=None, period=None, play_pattern='2', player='From Free Kick', player_id='Kévin Constant', position='399299.0', possession='Left Back', possession_team='196', possession_team_id='Bologna', related_events='240', second=\"['b5f5acc4-55ba-400b-8108-9a2b2a180aac']\", shot_aerial_won='3', shot_body_part=None, shot_end_location=None, shot_first_time=None, shot_freeze_frame=None, shot_key_pass_id=None, shot_one_on_one=None, shot_outcome=None, shot_statsbomb_xg=None, shot_technique=None, shot_type=None, substitution_outcome=None, substitution_outcome_id=None, substitution_replacement=None, substitution_replacement_id=None, tactics=None, team=None, team_id=None, timestamp='Bologna', type='240', under_pressure='00:42:03.069', block_save_block='Pass', pass_no_touch=None, goalkeeper_shot_saved_to_post=None, pass_deflected=None, shot_deflected=None, shot_saved_to_post=None, miscontrol_aerial_won=None, shot_redirect=None, foul_committed_penalty=None, foul_won_penalty=None, goalkeeper_punched_out=None, foul_committed_offensive=None, pass_straight=None, clearance_other=None, dribble_no_touch=None, goalkeeper_lost_in_play=None, goalkeeper_penalty_saved_to_post=None, shot_open_goal=None, goalkeeper_success_in_play=None, player_off_permanent=None, goalkeeper_shot_saved_off_target=None, shot_follows_dribble=None, shot_saved_off_target=None, goalkeeper_success_out=None, half_start_late_video_start=None, pass_backheel=None)\n",
      "Row(50_50=None, bad_behaviour_card=None, ball_receipt_outcome=None, ball_recovery_offensive=None, ball_recovery_recovery_failure=None, block_deflection=None, block_offensive=None, carry_end_location=None, clearance_aerial_won=None, clearance_body_part=None, clearance_head=None, clearance_left_foot=None, clearance_right_foot=None, counterpress=None, dribble_nutmeg=None, dribble_outcome=None, dribble_overrun=None, duel_outcome='0.0', duel_type=None, duration=None, foul_committed_advantage=None, foul_committed_card=None, foul_committed_type=None, foul_won_advantage=None, foul_won_defensive=None, goalkeeper_body_part=None, goalkeeper_end_location=None, goalkeeper_outcome=None, goalkeeper_position=None, goalkeeper_technique=None, goalkeeper_type=None, id=None, index='b714925f-b6e2-46f5-8136-bc51310ae92c', injury_stoppage_in_chain='1173', interception_outcome=None, location='[116.3, 73.9]', match_id='3879633', minute='37', off_camera=None, out=None, pass_aerial_won=None, pass_angle=None, pass_assisted_shot_id=None, pass_body_part=None, pass_cross=None, pass_cut_back=None, pass_end_location=None, pass_goal_assist=None, pass_height=None, pass_inswinging=None, pass_length=None, pass_miscommunication=None, pass_outcome=None, pass_outswinging=None, pass_recipient=None, pass_recipient_id=None, pass_shot_assist=None, pass_switch=None, pass_technique=None, pass_through_ball=None, pass_type=None, period=None, play_pattern='1', player='From Throw In', player_id='Marko Livaja', position='22041.0', possession='Left Center Forward', possession_team='71', possession_team_id='Empoli', related_events='290', second=\"['9a84c260-8d11-4edf-9a6b-8f86f0b84797']\", shot_aerial_won='39', shot_body_part=None, shot_end_location=None, shot_first_time=None, shot_freeze_frame=None, shot_key_pass_id=None, shot_one_on_one=None, shot_outcome=None, shot_statsbomb_xg=None, shot_technique=None, shot_type=None, substitution_outcome=None, substitution_outcome_id=None, substitution_replacement=None, substitution_replacement_id=None, tactics=None, team=None, team_id=None, timestamp='Empoli', type='290', under_pressure='00:37:39.285', block_save_block='Dispossessed', pass_no_touch='True', goalkeeper_shot_saved_to_post=None, pass_deflected=None, shot_deflected=None, shot_saved_to_post=None, miscontrol_aerial_won=None, shot_redirect=None, foul_committed_penalty=None, foul_won_penalty=None, goalkeeper_punched_out=None, foul_committed_offensive=None, pass_straight=None, clearance_other=None, dribble_no_touch=None, goalkeeper_lost_in_play=None, goalkeeper_penalty_saved_to_post=None, shot_open_goal=None, goalkeeper_success_in_play=None, player_off_permanent=None, goalkeeper_shot_saved_off_target=None, shot_follows_dribble=None, shot_saved_off_target=None, goalkeeper_success_out=None, half_start_late_video_start=None, pass_backheel=None)\n",
      "Row(50_50=None, bad_behaviour_card=None, ball_receipt_outcome=None, ball_recovery_offensive=None, ball_recovery_recovery_failure=None, block_deflection=None, block_offensive=None, carry_end_location=None, clearance_aerial_won=None, clearance_body_part=None, clearance_head=None, clearance_left_foot=None, clearance_right_foot=None, counterpress=None, dribble_nutmeg=None, dribble_outcome=None, dribble_overrun=None, duel_outcome='0.721925', duel_type=None, duration=None, foul_committed_advantage=None, foul_committed_card=None, foul_committed_type=None, foul_won_advantage=None, foul_won_defensive=None, goalkeeper_body_part=None, goalkeeper_end_location=None, goalkeeper_outcome=None, goalkeeper_position=None, goalkeeper_technique=None, goalkeeper_type=None, id=None, index='0fc68282-4547-42d5-9b0f-31005d01e244', injury_stoppage_in_chain='1133', interception_outcome=None, location='[90.9, 52.9]', match_id='3879636', minute='25', off_camera=None, out=None, pass_aerial_won=None, pass_angle='-2.0162642', pass_assisted_shot_id=None, pass_body_part='Left Foot', pass_cross=None, pass_cut_back=None, pass_end_location='[85.6, 41.8]', pass_goal_assist=None, pass_height='Ground Pass', pass_inswinging=None, pass_length='12.300406', pass_miscommunication=None, pass_outcome=None, pass_outswinging=None, pass_recipient='Giuseppe Rossi', pass_recipient_id='7141.0', pass_shot_assist=None, pass_switch=None, pass_technique=None, pass_through_ball=None, pass_type=None, period=None, play_pattern='1', player='Regular Play', player_id='Josip Iličić', position='7139.0', possession='Center Attacking Midfield', possession_team='56', possession_team_id='Fiorentina', related_events='239', second=\"['92591088-5c58-4a07-b454-483202f745fb']\", shot_aerial_won='52', shot_body_part=None, shot_end_location=None, shot_first_time=None, shot_freeze_frame=None, shot_key_pass_id=None, shot_one_on_one=None, shot_outcome=None, shot_statsbomb_xg=None, shot_technique=None, shot_type=None, substitution_outcome=None, substitution_outcome_id=None, substitution_replacement=None, substitution_replacement_id=None, tactics=None, team=None, team_id=None, timestamp='Fiorentina', type='239', under_pressure='00:25:52.934', block_save_block='Pass', pass_no_touch=None, goalkeeper_shot_saved_to_post=None, pass_deflected=None, shot_deflected=None, shot_saved_to_post=None, miscontrol_aerial_won=None, shot_redirect=None, foul_committed_penalty=None, foul_won_penalty=None, goalkeeper_punched_out=None, foul_committed_offensive=None, pass_straight=None, clearance_other=None, dribble_no_touch=None, goalkeeper_lost_in_play=None, goalkeeper_penalty_saved_to_post=None, shot_open_goal=None, goalkeeper_success_in_play=None, player_off_permanent=None, goalkeeper_shot_saved_off_target=None, shot_follows_dribble=None, shot_saved_off_target=None, goalkeeper_success_out=None, half_start_late_video_start=None, pass_backheel=None)\n"
     ]
    },
    {
     "name": "stderr",
     "output_type": "stream",
     "text": [
      "                                                                                \r"
     ]
    },
    {
     "name": "stderr",
     "output_type": "stream",
     "text": [
      "Exception in thread \"serve-DataFrame\" java.net.SocketTimeoutException: Accept timed out\n",
      "\tat java.net.PlainSocketImpl.socketAccept(Native Method)\n",
      "\tat java.net.AbstractPlainSocketImpl.accept(AbstractPlainSocketImpl.java:409)\n",
      "\tat java.net.ServerSocket.implAccept(ServerSocket.java:560)\n",
      "\tat java.net.ServerSocket.accept(ServerSocket.java:528)\n",
      "\tat org.apache.spark.security.SocketAuthServer$$anon$1.run(SocketAuthServer.scala:65)\n"
     ]
    }
   ],
   "source": [
    "for i in events.orderBy('id').limit(5).collect():\n",
    "    print(i)"
   ]
  },
  {
   "cell_type": "code",
   "execution_count": 5,
   "metadata": {},
   "outputs": [
    {
     "name": "stdout",
     "output_type": "stream",
     "text": [
      "+--------------------+--------------------+--------+--------+-----+------+--------------------+\n",
      "|                  id|        visible_area|match_id|teammate|actor|keeper|            location|\n",
      "+--------------------+--------------------+--------+--------+-----+------+--------------------+\n",
      "|25dfc952-7a85-464...|[82.0588035227948...| 3942819|    True|False|  True|[22.6975416639254...|\n",
      "|25dfc952-7a85-464...|[82.0588035227948...| 3942819|    True|False| False|[46.5466540256494...|\n",
      "|25dfc952-7a85-464...|[82.0588035227948...| 3942819|    True|False| False|[47.4452205797475...|\n",
      "|25dfc952-7a85-464...|[82.0588035227948...| 3942819|    True|False| False|[48.8195457108986...|\n",
      "|25dfc952-7a85-464...|[82.0588035227948...| 3942819|    True|False| False|[49.7459543709158...|\n",
      "|25dfc952-7a85-464...|[82.0588035227948...| 3942819|    True|False| False|[53.4689340941401...|\n",
      "|25dfc952-7a85-464...|[82.0588035227948...| 3942819|    True|False| False|[59.3929593689272...|\n",
      "|25dfc952-7a85-464...|[82.0588035227948...| 3942819|   False|False| False|[59.5183989006924...|\n",
      "|25dfc952-7a85-464...|[82.0588035227948...| 3942819|    True|False| False|[59.6337927360916...|\n",
      "|25dfc952-7a85-464...|[82.0588035227948...| 3942819|    True|False| False|[59.7703915945295...|\n",
      "|25dfc952-7a85-464...|[82.0588035227948...| 3942819|    True| True| False|        [60.0, 40.0]|\n",
      "|25dfc952-7a85-464...|[82.0588035227948...| 3942819|    True|False| False|[60.6483672551598...|\n",
      "|25dfc952-7a85-464...|[82.0588035227948...| 3942819|   False|False| False|[62.4798233550562...|\n",
      "|25dfc952-7a85-464...|[82.0588035227948...| 3942819|   False|False| False|[63.2075976661429...|\n",
      "|25dfc952-7a85-464...|[82.0588035227948...| 3942819|   False|False| False|[69.9988692300016...|\n",
      "|25dfc952-7a85-464...|[82.0588035227948...| 3942819|   False|False| False|[70.0104789976888...|\n",
      "|25dfc952-7a85-464...|[82.0588035227948...| 3942819|   False|False| False|[71.7557368865126...|\n",
      "|25dfc952-7a85-464...|[82.0588035227948...| 3942819|   False|False| False|[80.4283963824078...|\n",
      "|25dfc952-7a85-464...|[82.0588035227948...| 3942819|   False|False| False|[81.8877767305595...|\n",
      "|25dfc952-7a85-464...|[82.0588035227948...| 3942819|   False|False| False|[84.6011610459542...|\n",
      "+--------------------+--------------------+--------+--------+-----+------+--------------------+\n",
      "only showing top 20 rows\n",
      "\n"
     ]
    }
   ],
   "source": [
    "frames.show()"
   ]
  },
  {
   "cell_type": "markdown",
   "metadata": {},
   "source": [
    "### Splitting Location"
   ]
  },
  {
   "cell_type": "code",
   "execution_count": 6,
   "metadata": {},
   "outputs": [
    {
     "data": {
      "text/plain": [
       "'[22.697541663925428, 41.01277368603656]'"
      ]
     },
     "execution_count": 6,
     "metadata": {},
     "output_type": "execute_result"
    }
   ],
   "source": [
    "fs = frames.first()\n",
    "fs['location']"
   ]
  },
  {
   "cell_type": "code",
   "execution_count": 7,
   "metadata": {},
   "outputs": [
    {
     "name": "stdout",
     "output_type": "stream",
     "text": [
      "+--------------------+--------------------+--------+--------+-----+------+------------------+------------------+\n",
      "|                  id|        visible_area|match_id|teammate|actor|keeper|                 x|                 y|\n",
      "+--------------------+--------------------+--------+--------+-----+------+------------------+------------------+\n",
      "|25dfc952-7a85-464...|[82.0588035227948...| 3942819|    True|False|  True|22.697541663925428| 41.01277368603656|\n",
      "|25dfc952-7a85-464...|[82.0588035227948...| 3942819|    True|False| False| 46.54665402564941| 46.65992069066397|\n",
      "|25dfc952-7a85-464...|[82.0588035227948...| 3942819|    True|False| False| 47.44522057974756| 64.52929870627902|\n",
      "|25dfc952-7a85-464...|[82.0588035227948...| 3942819|    True|False| False| 48.81954571089864|35.810976155696935|\n",
      "|25dfc952-7a85-464...|[82.0588035227948...| 3942819|    True|False| False| 49.74595437091587|27.859841158806844|\n",
      "|25dfc952-7a85-464...|[82.0588035227948...| 3942819|    True|False| False|53.468934094140124|48.359720135671516|\n",
      "|25dfc952-7a85-464...|[82.0588035227948...| 3942819|    True|False| False| 59.39295936892726| 65.20967497250402|\n",
      "|25dfc952-7a85-464...|[82.0588035227948...| 3942819|   False|False| False| 59.51839890069241|50.247564716443506|\n",
      "|25dfc952-7a85-464...|[82.0588035227948...| 3942819|    True|False| False| 59.63379273609168| 72.56790108034444|\n",
      "|25dfc952-7a85-464...|[82.0588035227948...| 3942819|    True|False| False| 59.77039159452952|29.092900233218515|\n",
      "|25dfc952-7a85-464...|[82.0588035227948...| 3942819|    True| True| False|              60.0|              40.0|\n",
      "|25dfc952-7a85-464...|[82.0588035227948...| 3942819|    True|False| False| 60.64836725515984| 60.46506018214295|\n",
      "|25dfc952-7a85-464...|[82.0588035227948...| 3942819|   False|False| False| 62.47982335505628| 31.31161890960427|\n",
      "|25dfc952-7a85-464...|[82.0588035227948...| 3942819|   False|False| False|63.207597666142966|24.356636033507463|\n",
      "|25dfc952-7a85-464...|[82.0588035227948...| 3942819|   False|False| False| 69.99886923000167| 64.86387854756343|\n",
      "|25dfc952-7a85-464...|[82.0588035227948...| 3942819|   False|False| False| 70.01047899768881| 55.64578321537585|\n",
      "|25dfc952-7a85-464...|[82.0588035227948...| 3942819|   False|False| False| 71.75573688651266|41.187922078866826|\n",
      "|25dfc952-7a85-464...|[82.0588035227948...| 3942819|   False|False| False| 80.42839638240781|30.689008801064666|\n",
      "|25dfc952-7a85-464...|[82.0588035227948...| 3942819|   False|False| False|  81.8877767305595| 67.96424237463056|\n",
      "|25dfc952-7a85-464...|[82.0588035227948...| 3942819|   False|False| False| 84.60116104595426| 44.00241508876877|\n",
      "|25dfc952-7a85-464...|[82.0588035227948...| 3942819|   False|False| False| 85.48634911487619|56.461097802694105|\n",
      "|85328a9c-e246-427...|[79.6704479574818...| 3942819|    True| True|  True|25.700000762939453|              34.5|\n",
      "+--------------------+--------------------+--------+--------+-----+------+------------------+------------------+\n",
      "only showing top 22 rows\n",
      "\n"
     ]
    }
   ],
   "source": [
    "frames = frames.withColumn(\"location_clean\", regexp_replace(col(\"location\"), r\"[\\[\\]]\", \"\")) \\\n",
    "               .withColumn(\"x\", split(col(\"location_clean\"), \", \").getItem(0).cast(\"double\")) \\\n",
    "               .withColumn(\"y\", split(col(\"location_clean\"), \", \").getItem(1).cast(\"double\")) \\\n",
    "               .drop(\"location_clean\").drop(\"location\")\n",
    "\n",
    "frames.show(22)"
   ]
  },
  {
   "cell_type": "markdown",
   "metadata": {},
   "source": [
    "### Replacing True/False with 1/0"
   ]
  },
  {
   "cell_type": "code",
   "execution_count": 8,
   "metadata": {},
   "outputs": [
    {
     "name": "stdout",
     "output_type": "stream",
     "text": [
      "root\n",
      " |-- id: string (nullable = true)\n",
      " |-- visible_area: string (nullable = true)\n",
      " |-- match_id: string (nullable = true)\n",
      " |-- teammate: string (nullable = true)\n",
      " |-- actor: string (nullable = true)\n",
      " |-- keeper: string (nullable = true)\n",
      " |-- x: double (nullable = true)\n",
      " |-- y: double (nullable = true)\n",
      "\n"
     ]
    }
   ],
   "source": [
    "frames.printSchema()"
   ]
  },
  {
   "cell_type": "code",
   "execution_count": 9,
   "metadata": {},
   "outputs": [
    {
     "name": "stdout",
     "output_type": "stream",
     "text": [
      "+--------------------+--------------------+--------+--------+-----+------+------------------+------------------+\n",
      "|                  id|        visible_area|match_id|teammate|actor|keeper|                 x|                 y|\n",
      "+--------------------+--------------------+--------+--------+-----+------+------------------+------------------+\n",
      "|25dfc952-7a85-464...|[82.0588035227948...| 3942819|       1|    0|     1|22.697541663925428| 41.01277368603656|\n",
      "|25dfc952-7a85-464...|[82.0588035227948...| 3942819|       1|    0|     0| 46.54665402564941| 46.65992069066397|\n",
      "|25dfc952-7a85-464...|[82.0588035227948...| 3942819|       1|    0|     0| 47.44522057974756| 64.52929870627902|\n",
      "|25dfc952-7a85-464...|[82.0588035227948...| 3942819|       1|    0|     0| 48.81954571089864|35.810976155696935|\n",
      "|25dfc952-7a85-464...|[82.0588035227948...| 3942819|       1|    0|     0| 49.74595437091587|27.859841158806844|\n",
      "+--------------------+--------------------+--------+--------+-----+------+------------------+------------------+\n",
      "only showing top 5 rows\n",
      "\n"
     ]
    }
   ],
   "source": [
    "columns_re = ['teammate','actor','keeper']\n",
    "\n",
    "for column in columns_re:\n",
    "    frames = frames.withColumn(column,when(col(column)=='True',1) \\\n",
    "    .when(col(column) == 'False',0).otherwise(col(column)))\n",
    "\n",
    "frames.show(5)"
   ]
  },
  {
   "cell_type": "code",
   "execution_count": 10,
   "metadata": {},
   "outputs": [],
   "source": [
    "# According to documentation, visible_area data is in format\n",
    "# X1, Y1, X2, Y2 ... Xn, Yn"
   ]
  },
  {
   "cell_type": "code",
   "execution_count": 11,
   "metadata": {},
   "outputs": [
    {
     "name": "stderr",
     "output_type": "stream",
     "text": [
      "[Stage 6:===================================>                     (13 + 8) / 21]\r"
     ]
    },
    {
     "name": "stdout",
     "output_type": "stream",
     "text": [
      "+---+------------+--------+--------+-----+------+---+---+\n",
      "| id|visible_area|match_id|teammate|actor|keeper|  x|  y|\n",
      "+---+------------+--------+--------+-----+------+---+---+\n",
      "|  0|           0|       0|       0|    0|     0|  0|  0|\n",
      "+---+------------+--------+--------+-----+------+---+---+\n",
      "\n"
     ]
    },
    {
     "name": "stderr",
     "output_type": "stream",
     "text": [
      "                                                                                \r"
     ]
    }
   ],
   "source": [
    "null_counts = frames.select(\n",
    "    *[\n",
    "        sum(when(col(c).isNull(), 1).otherwise(0)).alias(c)\n",
    "        for c in frames.columns\n",
    "    ]\n",
    ")\n",
    "null_counts.show()"
   ]
  },
  {
   "cell_type": "code",
   "execution_count": 22,
   "metadata": {},
   "outputs": [],
   "source": [
    "events_s = events.select('id','shot_statsbomb_xg')\n",
    "frames_s = frames.filter(frames.actor==1).select('id','x','y')"
   ]
  },
  {
   "cell_type": "code",
   "execution_count": 23,
   "metadata": {},
   "outputs": [],
   "source": [
    "result = events_s.join(frames_s,\"id\",\"inner\")"
   ]
  },
  {
   "cell_type": "code",
   "execution_count": 27,
   "metadata": {},
   "outputs": [
    {
     "name": "stderr",
     "output_type": "stream",
     "text": [
      "                                                                                \r"
     ]
    },
    {
     "data": {
      "text/plain": [
       "4844"
      ]
     },
     "execution_count": 27,
     "metadata": {},
     "output_type": "execute_result"
    }
   ],
   "source": [
    "result.na.drop().count()"
   ]
  },
  {
   "cell_type": "code",
   "execution_count": 50,
   "metadata": {},
   "outputs": [],
   "source": [
    "a = events_s.na.drop(subset='shot_statsbomb_xg')"
   ]
  },
  {
   "cell_type": "code",
   "execution_count": 51,
   "metadata": {},
   "outputs": [
    {
     "name": "stdout",
     "output_type": "stream",
     "text": [
      "+--------------------+-----------------+\n",
      "|                  id|shot_statsbomb_xg|\n",
      "+--------------------+-----------------+\n",
      "|3c3fd192-a115-47b...|       0.07213958|\n",
      "|b164d43a-c2cd-423...|       0.02977089|\n",
      "|417a2357-d337-43c...|       0.07589752|\n",
      "|30702c96-5580-48d...|       0.15686217|\n",
      "|970398e3-c3cc-4d2...|       0.15133068|\n",
      "|95ea28e2-8fe9-426...|      0.049562205|\n",
      "|37ba4e86-d809-40e...|      0.015171255|\n",
      "|f80a63b3-c4a6-4a9...|       0.08510399|\n",
      "|5cf2e059-1c44-409...|       0.02531394|\n",
      "|c9353ed3-a087-4fd...|     0.0064736516|\n",
      "|f4ea5b80-1de5-444...|      0.047531724|\n",
      "|8592fda4-3e54-46e...|      0.022013947|\n",
      "|51932a82-e803-4ba...|       0.06569337|\n",
      "|a8b4baa8-b879-410...|      0.012626733|\n",
      "|a431db47-7da0-4eb...|       0.14169177|\n",
      "|350a49bc-6914-4b3...|      0.040732585|\n",
      "|e5d66514-0a8c-446...|      0.028598836|\n",
      "|618314a1-76b9-41e...|      0.019570593|\n",
      "|9b52e5c5-5688-4b0...|      0.056397837|\n",
      "|2593d42f-61d2-4e5...|      0.039566465|\n",
      "+--------------------+-----------------+\n",
      "only showing top 20 rows\n",
      "\n"
     ]
    }
   ],
   "source": [
    "a.show()"
   ]
  },
  {
   "cell_type": "code",
   "execution_count": null,
   "metadata": {},
   "outputs": [],
   "source": [
    "events"
   ]
  },
  {
   "cell_type": "code",
   "execution_count": 66,
   "metadata": {},
   "outputs": [
    {
     "name": "stdout",
     "output_type": "stream",
     "text": [
      "+-----+------------------+--------------------+-----------------------+------------------------------+----------------+---------------+------------------+--------------------+-------------------+--------------+-------------------+--------------------+------------+--------------+---------------+---------------+------------+---------+--------+------------------------+-------------------+-------------------+------------------+------------------+--------------------+-----------------------+------------------+-------------------+--------------------+---------------+--------------------+-----+------------------------+--------------------+-------------+--------+------+----------+----+---------------+----------+---------------------+--------------+----------+-------------+-----------------+----------------+-----------+---------------+-----------+---------------------+------------+----------------+--------------+-----------------+----------------+-----------+--------------+-----------------+---------+------+--------------+--------------------+---------+--------------------+----------+---------------+------------------+--------------------+------+---------------+--------------+------------------+---------------+--------------------+--------------------+---------------+------------+-----------------+--------------+---------+--------------------+-----------------------+------------------------+---------------------------+-------+---------+-------+------------+----+--------------+----------------+-------------+-----------------------------+--------------+--------------+------------------+---------------------+-------------+----------------------+----------------+----------------------+------------------------+-------------+---------------+----------------+-----------------------+--------------------------------+--------------+--------------------------+--------------------+--------------------------------+--------------------+---------------------+----------------------+---------------------------+-------------+\n",
      "|50_50|bad_behaviour_card|ball_receipt_outcome|ball_recovery_offensive|ball_recovery_recovery_failure|block_deflection|block_offensive|carry_end_location|clearance_aerial_won|clearance_body_part|clearance_head|clearance_left_foot|clearance_right_foot|counterpress|dribble_nutmeg|dribble_outcome|dribble_overrun|duel_outcome|duel_type|duration|foul_committed_advantage|foul_committed_card|foul_committed_type|foul_won_advantage|foul_won_defensive|goalkeeper_body_part|goalkeeper_end_location|goalkeeper_outcome|goalkeeper_position|goalkeeper_technique|goalkeeper_type|                  id|index|injury_stoppage_in_chain|interception_outcome|     location|match_id|minute|off_camera| out|pass_aerial_won|pass_angle|pass_assisted_shot_id|pass_body_part|pass_cross|pass_cut_back|pass_end_location|pass_goal_assist|pass_height|pass_inswinging|pass_length|pass_miscommunication|pass_outcome|pass_outswinging|pass_recipient|pass_recipient_id|pass_shot_assist|pass_switch|pass_technique|pass_through_ball|pass_type|period|  play_pattern|              player|player_id|            position|possession|possession_team|possession_team_id|      related_events|second|shot_aerial_won|shot_body_part| shot_end_location|shot_first_time|   shot_freeze_frame|    shot_key_pass_id|shot_one_on_one|shot_outcome|shot_statsbomb_xg|shot_technique|shot_type|substitution_outcome|substitution_outcome_id|substitution_replacement|substitution_replacement_id|tactics|     team|team_id|   timestamp|type|under_pressure|block_save_block|pass_no_touch|goalkeeper_shot_saved_to_post|pass_deflected|shot_deflected|shot_saved_to_post|miscontrol_aerial_won|shot_redirect|foul_committed_penalty|foul_won_penalty|goalkeeper_punched_out|foul_committed_offensive|pass_straight|clearance_other|dribble_no_touch|goalkeeper_lost_in_play|goalkeeper_penalty_saved_to_post|shot_open_goal|goalkeeper_success_in_play|player_off_permanent|goalkeeper_shot_saved_off_target|shot_follows_dribble|shot_saved_off_target|goalkeeper_success_out|half_start_late_video_start|pass_backheel|\n",
      "+-----+------------------+--------------------+-----------------------+------------------------------+----------------+---------------+------------------+--------------------+-------------------+--------------+-------------------+--------------------+------------+--------------+---------------+---------------+------------+---------+--------+------------------------+-------------------+-------------------+------------------+------------------+--------------------+-----------------------+------------------+-------------------+--------------------+---------------+--------------------+-----+------------------------+--------------------+-------------+--------+------+----------+----+---------------+----------+---------------------+--------------+----------+-------------+-----------------+----------------+-----------+---------------+-----------+---------------------+------------+----------------+--------------+-----------------+----------------+-----------+--------------+-----------------+---------+------+--------------+--------------------+---------+--------------------+----------+---------------+------------------+--------------------+------+---------------+--------------+------------------+---------------+--------------------+--------------------+---------------+------------+-----------------+--------------+---------+--------------------+-----------------------+------------------------+---------------------------+-------+---------+-------+------------+----+--------------+----------------+-------------+-----------------------------+--------------+--------------+------------------+---------------------+-------------+----------------------+----------------+----------------------+------------------------+-------------+---------------+----------------+-----------------------+--------------------------------+--------------+--------------------------+--------------------+--------------------------------+--------------------+---------------------+----------------------+---------------------------+-------------+\n",
      "| NULL|              NULL|                NULL|                   NULL|                          NULL|            NULL|           NULL|              NULL|                NULL|               NULL|          NULL|               NULL|                NULL|        NULL|          NULL|           NULL|           NULL|        NULL|     NULL|1.368232|                    NULL|               NULL|               NULL|              NULL|              NULL|                NULL|                   NULL|              NULL|               NULL|                NULL|           NULL|3c3fd192-a115-47b...|   37|                    NULL|                NULL|[105.6, 44.0]| 3943077|     0|      NULL|NULL|           NULL|      NULL|                 NULL|          NULL|      NULL|         NULL|             NULL|            NULL|       NULL|           NULL|       NULL|                 NULL|        NULL|            NULL|          NULL|             NULL|            NULL|       NULL|          NULL|             NULL|     NULL|     1| From Kick Off|      Julián Álvarez|  29560.0| Left Center Forward|         2|      Argentina|               779|['07d5688a-516d-4...|    36|           NULL|    Right Foot|[120.0, 31.9, 0.5]|           True|[{'location': [11...|1181dfe8-4feb-4a8...|           NULL|       Off T|       0.07213958|   Half Volley|Open Play|                NULL|                   NULL|                    NULL|                       NULL|   NULL|Argentina|    779|00:00:36.286|Shot|          NULL|            NULL|         NULL|                         NULL|          NULL|          NULL|              NULL|                 NULL|         NULL|                  NULL|            NULL|                  NULL|                    NULL|         NULL|           NULL|            NULL|                   NULL|                            NULL|          NULL|                      NULL|                NULL|                            NULL|                NULL|                 NULL|                  NULL|                       NULL|         NULL|\n",
      "| NULL|              NULL|                NULL|                   NULL|                          NULL|            NULL|           NULL|              NULL|                NULL|               NULL|          NULL|               NULL|                NULL|        NULL|          NULL|           NULL|           NULL|        NULL|     NULL|0.894033|                    NULL|               NULL|               NULL|              NULL|              NULL|                NULL|                   NULL|              NULL|               NULL|                NULL|           NULL|b164d43a-c2cd-423...|  182|                    NULL|                NULL| [98.6, 25.2]| 3943077|     4|      NULL|NULL|           NULL|      NULL|                 NULL|          NULL|      NULL|         NULL|             NULL|            NULL|       NULL|           NULL|       NULL|                 NULL|        NULL|            NULL|          NULL|             NULL|            NULL|       NULL|          NULL|             NULL|     NULL|     1|   From Keeper|Luis Fernando Día...|  27158.0| Left Center Forward|        11|       Colombia|               769|['927178da-7ce7-4...|    56|           NULL|    Right Foot|[117.9, 37.0, 0.3]|           NULL|[{'location': [83...|0f75d90d-d5ec-431...|           NULL|       Saved|       0.02977089|        Normal|Open Play|                NULL|                   NULL|                    NULL|                       NULL|   NULL| Colombia|    769|00:04:56.364|Shot|          NULL|            NULL|         NULL|                         NULL|          NULL|          NULL|              NULL|                 NULL|         NULL|                  NULL|            NULL|                  NULL|                    NULL|         NULL|           NULL|            NULL|                   NULL|                            NULL|          NULL|                      NULL|                NULL|                            NULL|                NULL|                 NULL|                  NULL|                       NULL|         NULL|\n",
      "| NULL|              NULL|                NULL|                   NULL|                          NULL|            NULL|           NULL|              NULL|                NULL|               NULL|          NULL|               NULL|                NULL|        NULL|          NULL|           NULL|           NULL|        NULL|     NULL|1.245988|                    NULL|               NULL|               NULL|              NULL|              NULL|                NULL|                   NULL|              NULL|               NULL|                NULL|           NULL|417a2357-d337-43c...|  241|                    NULL|                NULL|[105.5, 47.3]| 3943077|     6|      NULL|True|           NULL|      NULL|                 NULL|          NULL|      NULL|         NULL|             NULL|            NULL|       NULL|           NULL|       NULL|                 NULL|        NULL|            NULL|          NULL|             NULL|            NULL|       NULL|          NULL|             NULL|     NULL|     1| From Throw In|Jhon Andrés Córdo...|   8817.0|Right Center Forward|        14|       Colombia|               769|['c38acf65-9e8a-4...|    12|           NULL|    Right Foot|[120.0, 35.9, 1.3]|           NULL|[{'location': [87...|cbab18fe-61a7-46b...|           NULL|        Post|       0.07589752|   Half Volley|Open Play|                NULL|                   NULL|                    NULL|                       NULL|   NULL| Colombia|    769|00:06:12.191|Shot|          True|            NULL|         NULL|                         NULL|          NULL|          NULL|              NULL|                 NULL|         NULL|                  NULL|            NULL|                  NULL|                    NULL|         NULL|           NULL|            NULL|                   NULL|                            NULL|          NULL|                      NULL|                NULL|                            NULL|                NULL|                 NULL|                  NULL|                       NULL|         NULL|\n",
      "| NULL|              NULL|                NULL|                   NULL|                          NULL|            NULL|           NULL|              NULL|                NULL|               NULL|          NULL|               NULL|                NULL|        NULL|          NULL|           NULL|           NULL|        NULL|     NULL|0.950649|                    NULL|               NULL|               NULL|              NULL|              NULL|                NULL|                   NULL|              NULL|               NULL|                NULL|           NULL|30702c96-5580-48d...|  474|                    NULL|                NULL|[113.4, 38.7]| 3943077|    12|      NULL|NULL|           NULL|      NULL|                 NULL|          NULL|      NULL|         NULL|             NULL|            NULL|       NULL|           NULL|       NULL|                 NULL|        NULL|            NULL|          NULL|             NULL|            NULL|       NULL|          NULL|             NULL|     NULL|     1|   From Corner|Carlos Eccehomo C...|  28567.0|    Left Center Back|        23|       Colombia|               769|['bafe7649-b134-4...|     7|           True|          Head|[118.8, 38.4, 0.9]|           NULL|[{'location': [10...|53fe0ab7-a8ef-47b...|           NULL|       Saved|       0.15686217|        Normal|Open Play|                NULL|                   NULL|                    NULL|                       NULL|   NULL| Colombia|    769|00:12:07.618|Shot|          True|            NULL|         NULL|                         NULL|          NULL|          NULL|              NULL|                 NULL|         NULL|                  NULL|            NULL|                  NULL|                    NULL|         NULL|           NULL|            NULL|                   NULL|                            NULL|          NULL|                      NULL|                NULL|                            NULL|                NULL|                 NULL|                  NULL|                       NULL|         NULL|\n",
      "| NULL|              NULL|                NULL|                   NULL|                          NULL|            NULL|           NULL|              NULL|                NULL|               NULL|          NULL|               NULL|                NULL|        NULL|          NULL|           NULL|           NULL|        NULL|     NULL|0.358856|                    NULL|               NULL|               NULL|              NULL|              NULL|                NULL|                   NULL|              NULL|               NULL|                NULL|           NULL|970398e3-c3cc-4d2...|  828|                    NULL|                NULL|[106.2, 36.8]| 3943077|    19|      NULL|NULL|           NULL|      NULL|                 NULL|          NULL|      NULL|         NULL|             NULL|            NULL|       NULL|           NULL|       NULL|                 NULL|        NULL|            NULL|          NULL|             NULL|            NULL|       NULL|          NULL|             NULL|     NULL|     1| From Throw In|Lionel Andrés Mes...|   5503.0|Right Center Forward|        34|      Argentina|               779|['72b0f49f-cd54-4...|    43|           NULL|     Left Foot|     [112.1, 36.8]|           True|[{'location': [11...|a88be15e-8f63-466...|           NULL|     Blocked|       0.15133068|        Normal|Open Play|                NULL|                   NULL|                    NULL|                       NULL|   NULL|Argentina|    779|00:19:43.733|Shot|          NULL|            NULL|         NULL|                         NULL|          NULL|          NULL|              NULL|                 NULL|         NULL|                  NULL|            NULL|                  NULL|                    NULL|         NULL|           NULL|            NULL|                   NULL|                            NULL|          NULL|                      NULL|                NULL|                            NULL|                NULL|                 NULL|                  NULL|                       NULL|         NULL|\n",
      "| NULL|              NULL|                NULL|                   NULL|                          NULL|            NULL|           NULL|              NULL|                NULL|               NULL|          NULL|               NULL|                NULL|        NULL|          NULL|           NULL|           NULL|        NULL|     NULL|0.194326|                    NULL|               NULL|               NULL|              NULL|              NULL|                NULL|                   NULL|              NULL|               NULL|                NULL|           NULL|95ea28e2-8fe9-426...| 1090|                    NULL|                NULL|[108.3, 39.0]| 3943077|    24|      NULL|NULL|           NULL|      NULL|                 NULL|          NULL|      NULL|         NULL|             NULL|            NULL|       NULL|           NULL|       NULL|                 NULL|        NULL|            NULL|          NULL|             NULL|            NULL|       NULL|          NULL|             NULL|     NULL|     1|  Regular Play|Jhon Andrés Córdo...|   8817.0|Right Center Forward|        45|       Colombia|               769|['02747047-1c5b-4...|    51|           True|          Head|     [109.0, 38.9]|           NULL|[{'location': [96...|8a59df23-bc0c-431...|           NULL|     Blocked|      0.049562205|        Normal|Open Play|                NULL|                   NULL|                    NULL|                       NULL|   NULL| Colombia|    769|00:24:51.480|Shot|          True|            NULL|         NULL|                         NULL|          NULL|          NULL|              NULL|                 NULL|         NULL|                  NULL|            NULL|                  NULL|                    NULL|         NULL|           NULL|            NULL|                   NULL|                            NULL|          NULL|                      NULL|                NULL|                            NULL|                NULL|                 NULL|                  NULL|                       NULL|         NULL|\n",
      "| NULL|              NULL|                NULL|                   NULL|                          NULL|            NULL|           NULL|              NULL|                NULL|               NULL|          NULL|               NULL|                NULL|        NULL|          NULL|           NULL|           NULL|        NULL|     NULL|0.957194|                    NULL|               NULL|               NULL|              NULL|              NULL|                NULL|                   NULL|              NULL|               NULL|                NULL|           NULL|37ba4e86-d809-40e...| 1324|                    NULL|                NULL| [85.6, 34.4]| 3943077|    32|      NULL|NULL|           NULL|      NULL|                 NULL|          NULL|      NULL|         NULL|             NULL|            NULL|       NULL|           NULL|       NULL|                 NULL|        NULL|            NULL|          NULL|             NULL|            NULL|       NULL|          NULL|             NULL|     NULL|     1|  Regular Play|Jefferson Andrés ...|   5678.0|Center Defensive ...|        54|       Colombia|               769|['27b72c57-df6c-4...|    19|           NULL|    Right Foot|[119.0, 37.0, 1.4]|           NULL|[{'location': [11...|dcba2e36-eb24-4e7...|           NULL|       Saved|      0.015171255|        Normal|Open Play|                NULL|                   NULL|                    NULL|                       NULL|   NULL| Colombia|    769|00:32:19.869|Shot|          NULL|            NULL|         NULL|                         NULL|          NULL|          NULL|              NULL|                 NULL|         NULL|                  NULL|            NULL|                  NULL|                    NULL|         NULL|           NULL|            NULL|                   NULL|                            NULL|          NULL|                      NULL|                NULL|                            NULL|                NULL|                 NULL|                  NULL|                       NULL|         NULL|\n",
      "| NULL|              NULL|                NULL|                   NULL|                          NULL|            NULL|           NULL|              NULL|                NULL|               NULL|          NULL|               NULL|                NULL|        NULL|          NULL|           NULL|           NULL|        NULL|     NULL|0.115353|                    NULL|               NULL|               NULL|              NULL|              NULL|                NULL|                   NULL|              NULL|               NULL|                NULL|           NULL|f80a63b3-c4a6-4a9...| 1329|                    NULL|                NULL|[112.5, 42.5]| 3943077|    33|      NULL|NULL|           NULL|      NULL|                 NULL|          NULL|      NULL|         NULL|             NULL|            NULL|       NULL|           NULL|       NULL|                 NULL|        NULL|            NULL|          NULL|             NULL|            NULL|       NULL|          NULL|             NULL|     NULL|     1|   From Corner|Jhon Andrés Córdo...|   8817.0|Right Center Forward|        55|       Colombia|               769|['2b2f21c1-ffa7-4...|    15|           True|          Head|     [113.3, 42.2]|           NULL|[{'location': [11...|3c10b43d-75b8-48f...|           NULL|     Blocked|       0.08510399|        Normal|Open Play|                NULL|                   NULL|                    NULL|                       NULL|   NULL| Colombia|    769|00:33:15.490|Shot|          True|            NULL|         NULL|                         NULL|          NULL|          NULL|              NULL|                 NULL|         NULL|                  NULL|            NULL|                  NULL|                    NULL|         NULL|           NULL|            NULL|                   NULL|                            NULL|          NULL|                      NULL|                NULL|                            NULL|                NULL|                 NULL|                  NULL|                       NULL|         NULL|\n",
      "| NULL|              NULL|                NULL|                   NULL|                          NULL|            NULL|           NULL|              NULL|                NULL|               NULL|          NULL|               NULL|                NULL|        NULL|          NULL|           NULL|           NULL|        NULL|     NULL|0.723475|                    NULL|               NULL|               NULL|              NULL|              NULL|                NULL|                   NULL|              NULL|               NULL|                NULL|           NULL|5cf2e059-1c44-409...| 1507|                    NULL|                NULL|[106.1, 32.5]| 3943077|    39|      NULL|NULL|           NULL|      NULL|                 NULL|          NULL|      NULL|         NULL|             NULL|            NULL|       NULL|           NULL|       NULL|                 NULL|        NULL|            NULL|          NULL|             NULL|            NULL|       NULL|          NULL|             NULL|     NULL|     1|  Regular Play|Jhon Adolfo Arias...|  27277.0|Left Center Midfield|        59|       Colombia|               769|['dab6fd27-7f76-4...|    22|           NULL|          Head|     [118.7, 33.6]|           NULL|[{'location': [99...|1fc39432-2778-4d6...|           NULL|     Wayward|       0.02531394|        Normal|Open Play|                NULL|                   NULL|                    NULL|                       NULL|   NULL| Colombia|    769|00:39:22.316|Shot|          NULL|            NULL|         NULL|                         NULL|          NULL|          NULL|              NULL|                 NULL|         NULL|                  NULL|            NULL|                  NULL|                    NULL|         NULL|           NULL|            NULL|                   NULL|                            NULL|          NULL|                      NULL|                NULL|                            NULL|                NULL|                 NULL|                  NULL|                       NULL|         NULL|\n",
      "| NULL|              NULL|                NULL|                   NULL|                          NULL|            NULL|           NULL|              NULL|                NULL|               NULL|          NULL|               NULL|                NULL|        NULL|          NULL|           NULL|           NULL|        NULL|     NULL|1.290526|                    NULL|               NULL|               NULL|              NULL|              NULL|                NULL|                   NULL|              NULL|               NULL|                NULL|           NULL|c9353ed3-a087-4fd...| 1536|                    NULL|                NULL| [83.5, 48.0]| 3943077|    40|      NULL|NULL|           NULL|      NULL|                 NULL|          NULL|      NULL|         NULL|             NULL|            NULL|       NULL|           NULL|       NULL|                 NULL|        NULL|            NULL|          NULL|             NULL|            NULL|       NULL|          NULL|             NULL|     NULL|     1| From Throw In|Richard Rios Montoya|  49395.0|Right Center Midf...|        61|       Colombia|               769|['b4bcb1a8-1db3-4...|    15|           NULL|    Right Foot|[118.4, 42.8, 0.2]|           True|[{'location': [82...|                NULL|           NULL|       Saved|     0.0064736516|        Normal|Open Play|                NULL|                   NULL|                    NULL|                       NULL|   NULL| Colombia|    769|00:40:15.067|Shot|          NULL|            NULL|         NULL|                         NULL|          NULL|          NULL|              NULL|                 NULL|         NULL|                  NULL|            NULL|                  NULL|                    NULL|         NULL|           NULL|            NULL|                   NULL|                            NULL|          NULL|                      NULL|                NULL|                            NULL|                NULL|                 NULL|                  NULL|                       NULL|         NULL|\n",
      "| NULL|              NULL|                NULL|                   NULL|                          NULL|            NULL|           NULL|              NULL|                NULL|               NULL|          NULL|               NULL|                NULL|        NULL|          NULL|           NULL|           NULL|        NULL|     NULL|0.749153|                    NULL|               NULL|               NULL|              NULL|              NULL|                NULL|                   NULL|              NULL|               NULL|                NULL|           NULL|f4ea5b80-1de5-444...| 1666|                    NULL|                NULL|[108.1, 39.3]| 3943077|    43|      NULL|NULL|           NULL|      NULL|                 NULL|          NULL|      NULL|         NULL|             NULL|            NULL|       NULL|           NULL|       NULL|                 NULL|        NULL|            NULL|          NULL|             NULL|            NULL|       NULL|          NULL|             NULL|     NULL|     1|From Free Kick|Nicolás Alejandro...|   5507.0|           Left Back|        64|      Argentina|               779|['19f6bbaa-8c53-4...|    28|           True|          Head|[120.0, 40.1, 4.3]|           NULL|[{'location': [93...|5410fd3f-6dc7-494...|           NULL|       Off T|      0.047531724|        Normal|Open Play|                NULL|                   NULL|                    NULL|                       NULL|   NULL|Argentina|    779|00:43:28.268|Shot|          True|            NULL|         NULL|                         NULL|          NULL|          NULL|              NULL|                 NULL|         NULL|                  NULL|            NULL|                  NULL|                    NULL|         NULL|           NULL|            NULL|                   NULL|                            NULL|          NULL|                      NULL|                NULL|                            NULL|                NULL|                 NULL|                  NULL|                       NULL|         NULL|\n",
      "| NULL|              NULL|                NULL|                   NULL|                          NULL|            NULL|           NULL|              NULL|                NULL|               NULL|          NULL|               NULL|                NULL|        NULL|          NULL|           NULL|           NULL|        NULL|     NULL|1.097185|                    NULL|               NULL|               NULL|              NULL|              NULL|                NULL|                   NULL|              NULL|               NULL|                NULL|           NULL|8592fda4-3e54-46e...| 1889|                    NULL|                NULL|[105.5, 57.6]| 3943077|    47|      NULL|NULL|           NULL|      NULL|                 NULL|          NULL|      NULL|         NULL|             NULL|            NULL|       NULL|           NULL|       NULL|                 NULL|        NULL|            NULL|          NULL|             NULL|            NULL|       NULL|          NULL|             NULL|     NULL|     2|   From Keeper|Santiago Arias Na...|   5696.0|          Right Back|        74|       Colombia|               769|['6e2703fc-b727-4...|     0|           NULL|    Right Foot|[120.0, 34.7, 0.3]|           True|[{'location': [10...|                NULL|           NULL|       Off T|      0.022013947|   Half Volley|Open Play|                NULL|                   NULL|                    NULL|                       NULL|   NULL| Colombia|    769|00:02:00.204|Shot|          NULL|            NULL|         NULL|                         NULL|          NULL|          NULL|              NULL|                 NULL|         NULL|                  NULL|            NULL|                  NULL|                    NULL|         NULL|           NULL|            NULL|                   NULL|                            NULL|          NULL|                      NULL|                NULL|                            NULL|                NULL|                 NULL|                  NULL|                       NULL|         NULL|\n",
      "| NULL|              NULL|                NULL|                   NULL|                          NULL|            NULL|           NULL|              NULL|                NULL|               NULL|          NULL|               NULL|                NULL|        NULL|          NULL|           NULL|           NULL|        NULL|     NULL|0.059054|                    NULL|               NULL|               NULL|              NULL|              NULL|                NULL|                   NULL|              NULL|               NULL|                NULL|           NULL|51932a82-e803-4ba...| 1929|                    NULL|                NULL|[110.9, 25.6]| 3943077|    48|      NULL|NULL|           NULL|      NULL|                 NULL|          NULL|      NULL|         NULL|             NULL|            NULL|       NULL|           NULL|       NULL|                 NULL|        NULL|            NULL|          NULL|             NULL|            NULL|       NULL|          NULL|             NULL|     NULL|     2|From Goal Kick|Ángel Fabián Di M...|   2995.0|       Left Midfield|        75|      Argentina|               779|['12998d12-ca4b-4...|     2|           NULL|     Left Foot|[111.9, 27.2, 0.4]|           True|[{'location': [11...|98be0d94-a915-47b...|           NULL|       Saved|       0.06569337|        Normal|Open Play|                NULL|                   NULL|                    NULL|                       NULL|   NULL|Argentina|    779|00:03:02.140|Shot|          NULL|            NULL|         NULL|                         NULL|          NULL|          NULL|              NULL|                 NULL|         NULL|                  NULL|            NULL|                  NULL|                    NULL|         NULL|           NULL|            NULL|                   NULL|                            NULL|          NULL|                      NULL|                NULL|                            NULL|                NULL|                 NULL|                  NULL|                       NULL|         NULL|\n",
      "| NULL|              NULL|                NULL|                   NULL|                          NULL|            NULL|           NULL|              NULL|                NULL|               NULL|          NULL|               NULL|                NULL|        NULL|          NULL|           NULL|           NULL|        NULL|     NULL|0.111866|                    NULL|               NULL|               NULL|              NULL|              NULL|                NULL|                   NULL|              NULL|               NULL|                NULL|           NULL|a8b4baa8-b879-410...| 2105|                    NULL|                NULL| [98.9, 24.9]| 3943077|    53|      NULL|NULL|           NULL|      NULL|                 NULL|          NULL|      NULL|         NULL|             NULL|            NULL|       NULL|           NULL|       NULL|                 NULL|        NULL|            NULL|          NULL|             NULL|            NULL|       NULL|          NULL|             NULL|     NULL|     2|  Regular Play|Jhon Adolfo Arias...|  27277.0|Left Center Midfield|        85|       Colombia|               769|['6e3f3631-c435-4...|    12|           NULL|    Right Foot|     [100.1, 25.8]|           NULL|[{'location': [11...|1b1910df-2816-4e6...|           NULL|     Blocked|      0.012626733|        Normal|Open Play|                NULL|                   NULL|                    NULL|                       NULL|   NULL| Colombia|    769|00:08:12.392|Shot|          NULL|            NULL|         NULL|                         NULL|          NULL|          NULL|              NULL|                 NULL|         NULL|                  NULL|            NULL|                  NULL|                    NULL|         NULL|           NULL|            NULL|                   NULL|                            NULL|          NULL|                      NULL|                NULL|                            NULL|                NULL|                 NULL|                  NULL|                       NULL|         NULL|\n",
      "| NULL|              NULL|                NULL|                   NULL|                          NULL|            NULL|           NULL|              NULL|                NULL|               NULL|          NULL|               NULL|                NULL|        NULL|          NULL|           NULL|           NULL|        NULL|     NULL|0.669524|                    NULL|               NULL|               NULL|              NULL|              NULL|                NULL|                   NULL|              NULL|               NULL|                NULL|           NULL|a431db47-7da0-4eb...| 2113|                    NULL|                NULL|[114.8, 44.1]| 3943077|    53|      NULL|NULL|           NULL|      NULL|                 NULL|          NULL|      NULL|         NULL|             NULL|            NULL|       NULL|           NULL|       NULL|                 NULL|        NULL|            NULL|          NULL|             NULL|            NULL|       NULL|          NULL|             NULL|     NULL|     2|   From Corner|Davinson Sánchez ...|   3494.0|   Right Center Back|        86|       Colombia|               769|['59f54abe-fad3-4...|    42|           True|          Head|[120.0, 43.9, 4.2]|           NULL|[{'location': [10...|2feeb87d-17ff-4fe...|           NULL|       Off T|       0.14169177|        Normal|Open Play|                NULL|                   NULL|                    NULL|                       NULL|   NULL| Colombia|    769|00:08:42.675|Shot|          True|            NULL|         NULL|                         NULL|          NULL|          NULL|              NULL|                 NULL|         NULL|                  NULL|            NULL|                  NULL|                    NULL|         NULL|           NULL|            NULL|                   NULL|                            NULL|          NULL|                      NULL|                NULL|                            NULL|                NULL|                 NULL|                  NULL|                       NULL|         NULL|\n",
      "| NULL|              NULL|                NULL|                   NULL|                          NULL|            NULL|           NULL|              NULL|                NULL|               NULL|          NULL|               NULL|                NULL|        NULL|          NULL|           NULL|           NULL|        NULL|     NULL|0.172156|                    NULL|               NULL|               NULL|              NULL|              NULL|                NULL|                   NULL|              NULL|               NULL|                NULL|           NULL|350a49bc-6914-4b3...| 2176|                    NULL|                NULL|[107.2, 35.0]| 3943077|    56|      NULL|NULL|           NULL|      NULL|                 NULL|          NULL|      NULL|         NULL|             NULL|            NULL|       NULL|           NULL|       NULL|                 NULL|        NULL|            NULL|          NULL|             NULL|            NULL|       NULL|          NULL|             NULL|     NULL|     2|From Free Kick| Alexis Mac Allister|  27886.0|Left Defensive Mi...|        89|      Argentina|               779|['2e3c3de3-dccc-4...|    44|           NULL|          Head|     [109.1, 35.8]|           NULL|[{'location': [10...|2873d799-9d73-4fb...|           NULL|     Blocked|      0.040732585|        Normal|Open Play|                NULL|                   NULL|                    NULL|                       NULL|   NULL|Argentina|    779|00:11:44.004|Shot|          NULL|            NULL|         NULL|                         NULL|          NULL|          NULL|              NULL|                 NULL|         NULL|                  NULL|            NULL|                  NULL|                    NULL|         NULL|           NULL|            NULL|                   NULL|                            NULL|          NULL|                      NULL|                NULL|                            NULL|                NULL|                 NULL|                  NULL|                       NULL|         NULL|\n",
      "| NULL|              NULL|                NULL|                   NULL|                          NULL|            NULL|           NULL|              NULL|                NULL|               NULL|          NULL|               NULL|                NULL|        NULL|          NULL|           NULL|           NULL|        NULL|     NULL|0.675398|                    NULL|               NULL|               NULL|              NULL|              NULL|                NULL|                   NULL|              NULL|               NULL|                NULL|           NULL|e5d66514-0a8c-446...| 2230|                    NULL|                NULL|[107.5, 24.9]| 3943077|    57|      NULL|NULL|           NULL|      NULL|                 NULL|          NULL|      NULL|         NULL|             NULL|            NULL|       NULL|           NULL|       NULL|                 NULL|        NULL|            NULL|          NULL|             NULL|            NULL|       NULL|          NULL|             NULL|     NULL|     2|  Regular Play|Ángel Fabián Di M...|   2995.0|       Left Midfield|        91|      Argentina|               779|['79bf4c13-9cd1-4...|    25|           NULL|     Left Foot|[117.2, 38.3, 0.2]|           NULL|[{'location': [11...|dc73da3a-d85f-475...|           NULL|       Saved|      0.028598836|        Normal|Open Play|                NULL|                   NULL|                    NULL|                       NULL|   NULL|Argentina|    779|00:12:25.623|Shot|          True|            NULL|         NULL|                         NULL|          NULL|          NULL|              NULL|                 NULL|         NULL|                  NULL|            NULL|                  NULL|                    NULL|         NULL|           NULL|            NULL|                   NULL|                            NULL|          NULL|                      NULL|                NULL|                            NULL|                NULL|                 NULL|                  NULL|                       NULL|         NULL|\n",
      "| NULL|              NULL|                NULL|                   NULL|                          NULL|            NULL|           NULL|              NULL|                NULL|               NULL|          NULL|               NULL|                NULL|        NULL|          NULL|           NULL|           NULL|        NULL|     NULL| 1.16513|                    NULL|               NULL|               NULL|              NULL|              NULL|                NULL|                   NULL|              NULL|               NULL|                NULL|           NULL|618314a1-76b9-41e...| 2317|                    NULL|                NULL| [88.5, 38.1]| 3943077|    61|      NULL|NULL|           NULL|      NULL|                 NULL|          NULL|      NULL|         NULL|             NULL|            NULL|       NULL|           NULL|       NULL|                 NULL|        NULL|            NULL|          NULL|             NULL|            NULL|       NULL|          NULL|             NULL|     NULL|     2|From Free Kick|Jefferson Andrés ...|   5678.0|Center Defensive ...|        95|       Colombia|               769|['a037e638-9488-4...|    55|           NULL|    Right Foot|[120.0, 38.3, 6.7]|           NULL|[{'location': [11...|c4b9ad49-7b41-40f...|           NULL|       Off T|      0.019570593|        Normal|Open Play|                NULL|                   NULL|                    NULL|                       NULL|   NULL| Colombia|    769|00:16:55.651|Shot|          NULL|            NULL|         NULL|                         NULL|          NULL|          NULL|              NULL|                 NULL|         NULL|                  NULL|            NULL|                  NULL|                    NULL|         NULL|           NULL|            NULL|                   NULL|                            NULL|          NULL|                      NULL|                NULL|                            NULL|                NULL|                 NULL|                  NULL|                       NULL|         NULL|\n",
      "| NULL|              NULL|                NULL|                   NULL|                          NULL|            NULL|           NULL|              NULL|                NULL|               NULL|          NULL|               NULL|                NULL|        NULL|          NULL|           NULL|           NULL|        NULL|     NULL|1.139242|                    NULL|               NULL|               NULL|              NULL|              NULL|                NULL|                   NULL|              NULL|               NULL|                NULL|           NULL|9b52e5c5-5688-4b0...| 2693|                    NULL|                NULL|[109.6, 41.5]| 3943077|    78|      NULL|NULL|           NULL|      NULL|                 NULL|          NULL|      NULL|         NULL|             NULL|            NULL|       NULL|           NULL|       NULL|                 NULL|        NULL|            NULL|          NULL|             NULL|            NULL|       NULL|          NULL|             NULL|     NULL|     2|From Free Kick|Carlos Eccehomo C...|  28567.0|    Left Center Back|       117|       Colombia|               769|['88e6755d-bb79-4...|    18|           True|          Head|[120.0, 50.5, 3.3]|           NULL|[{'location': [10...|d3ddef5a-ffcb-484...|           NULL|       Off T|      0.056397837|        Normal|Open Play|                NULL|                   NULL|                    NULL|                       NULL|   NULL| Colombia|    769|00:33:18.538|Shot|          True|            NULL|         NULL|                         NULL|          NULL|          NULL|              NULL|                 NULL|         NULL|                  NULL|            NULL|                  NULL|                    NULL|         NULL|           NULL|            NULL|                   NULL|                            NULL|          NULL|                      NULL|                NULL|                            NULL|                NULL|                 NULL|                  NULL|                       NULL|         NULL|\n",
      "| NULL|              NULL|                NULL|                   NULL|                          NULL|            NULL|           NULL|              NULL|                NULL|               NULL|          NULL|               NULL|                NULL|        NULL|          NULL|           NULL|           NULL|        NULL|     NULL|0.348676|                    NULL|               NULL|               NULL|              NULL|              NULL|                NULL|                   NULL|              NULL|               NULL|                NULL|           NULL|2593d42f-61d2-4e5...| 2791|                    NULL|                NULL| [94.8, 24.9]| 3943077|    81|      NULL|NULL|           NULL|      NULL|                 NULL|          NULL|      NULL|         NULL|             NULL|            NULL|       NULL|           NULL|       NULL|                 NULL|        NULL|            NULL|          NULL|             NULL|            NULL|       NULL|          NULL|             NULL|     NULL|     2|From Free Kick|James David Rodrí...|   5695.0|Center Attacking ...|       120|       Colombia|               769|['b2620910-4b63-4...|    44|           NULL|     Left Foot|     [104.2, 29.3]|           NULL|[{'location': [10...|                NULL|           NULL|     Blocked|      0.039566465|        Normal|Free Kick|                NULL|                   NULL|                    NULL|                       NULL|   NULL| Colombia|    769|00:36:44.007|Shot|          NULL|            NULL|         NULL|                         NULL|          NULL|          NULL|              NULL|                 NULL|         NULL|                  NULL|            NULL|                  NULL|                    NULL|         NULL|           NULL|            NULL|                   NULL|                            NULL|          NULL|                      NULL|                NULL|                            NULL|                NULL|                 NULL|                  NULL|                       NULL|         NULL|\n",
      "+-----+------------------+--------------------+-----------------------+------------------------------+----------------+---------------+------------------+--------------------+-------------------+--------------+-------------------+--------------------+------------+--------------+---------------+---------------+------------+---------+--------+------------------------+-------------------+-------------------+------------------+------------------+--------------------+-----------------------+------------------+-------------------+--------------------+---------------+--------------------+-----+------------------------+--------------------+-------------+--------+------+----------+----+---------------+----------+---------------------+--------------+----------+-------------+-----------------+----------------+-----------+---------------+-----------+---------------------+------------+----------------+--------------+-----------------+----------------+-----------+--------------+-----------------+---------+------+--------------+--------------------+---------+--------------------+----------+---------------+------------------+--------------------+------+---------------+--------------+------------------+---------------+--------------------+--------------------+---------------+------------+-----------------+--------------+---------+--------------------+-----------------------+------------------------+---------------------------+-------+---------+-------+------------+----+--------------+----------------+-------------+-----------------------------+--------------+--------------+------------------+---------------------+-------------+----------------------+----------------+----------------------+------------------------+-------------+---------------+----------------+-----------------------+--------------------------------+--------------+--------------------------+--------------------+--------------------------------+--------------------+---------------------+----------------------+---------------------------+-------------+\n",
      "only showing top 20 rows\n",
      "\n"
     ]
    }
   ],
   "source": [
    "events.filter(events.type=='Shot').show()"
   ]
  },
  {
   "cell_type": "code",
   "execution_count": 52,
   "metadata": {},
   "outputs": [],
   "source": [
    "result = a.join(frames_s,\"id\",\"left\")"
   ]
  },
  {
   "cell_type": "code",
   "execution_count": 54,
   "metadata": {},
   "outputs": [
    {
     "name": "stderr",
     "output_type": "stream",
     "text": [
      "                                                                                \r"
     ]
    },
    {
     "data": {
      "text/plain": [
       "31905"
      ]
     },
     "execution_count": 54,
     "metadata": {},
     "output_type": "execute_result"
    }
   ],
   "source": [
    "result.count()"
   ]
  },
  {
   "cell_type": "code",
   "execution_count": 124,
   "metadata": {},
   "outputs": [
    {
     "name": "stderr",
     "output_type": "stream",
     "text": [
      "                                                                                \r"
     ]
    },
    {
     "name": "stdout",
     "output_type": "stream",
     "text": [
      "+--------------------+-----------------+----+----+\n",
      "|                  id|shot_statsbomb_xg|   x|   y|\n",
      "+--------------------+-----------------+----+----+\n",
      "|163515c5-cfe1-4b8...|        0.0806289|NULL|NULL|\n",
      "|3c3fd192-a115-47b...|       0.07213958|NULL|NULL|\n",
      "|477e37a4-c42e-4db...|            Off T|NULL|NULL|\n",
      "|71f6b79d-2346-432...|            Off T|NULL|NULL|\n",
      "|9cefc622-75a2-451...|       0.12105144|NULL|NULL|\n",
      "+--------------------+-----------------+----+----+\n",
      "\n"
     ]
    },
    {
     "name": "stderr",
     "output_type": "stream",
     "text": [
      "[Stage 285:==================================>                    (13 + 8) / 21]\r"
     ]
    },
    {
     "name": "stdout",
     "output_type": "stream",
     "text": [
      "Row(id='163515c5-cfe1-4b8c-9f06-1506f21b1253', shot_statsbomb_xg='0.0806289', x=None, y=None)\n",
      "Row(id='3c3fd192-a115-47bc-9224-b5011bb17885', shot_statsbomb_xg='0.07213958', x=None, y=None)\n",
      "Row(id='477e37a4-c42e-4db1-ab80-95829a60f6c9', shot_statsbomb_xg='Off T', x=None, y=None)\n",
      "Row(id='71f6b79d-2346-4329-8a62-161146b712a8', shot_statsbomb_xg='Off T', x=None, y=None)\n",
      "Row(id='9cefc622-75a2-4512-a91e-2f20044e12bb', shot_statsbomb_xg='0.12105144', x=None, y=None)\n"
     ]
    },
    {
     "name": "stderr",
     "output_type": "stream",
     "text": [
      "                                                                                \r"
     ]
    }
   ],
   "source": [
    "for i in result.limit(5).collect():\n",
    "    print(i)"
   ]
  },
  {
   "cell_type": "code",
   "execution_count": 121,
   "metadata": {},
   "outputs": [
    {
     "name": "stderr",
     "output_type": "stream",
     "text": [
      "[Stage 270:==================================>                    (13 + 8) / 21]\r"
     ]
    },
    {
     "name": "stdout",
     "output_type": "stream",
     "text": [
      "+--------------------+--------------------+-----------------+------------------+\n",
      "|                  id|   shot_statsbomb_xg|                x|                 y|\n",
      "+--------------------+--------------------+-----------------+------------------+\n",
      "|1495792e-cef5-4b4...| {'location': [100.9|95.30000305175781|26.299999237060547|\n",
      "|163515c5-cfe1-4b8...|           0.0806289|             NULL|              NULL|\n",
      "|20cb6277-e527-4e5...|               Saved|             NULL|              NULL|\n",
      "|2b4e7844-74f7-43d...|         0.009314878|             NULL|              NULL|\n",
      "|3c3fd192-a115-47b...|          0.07213958|             NULL|              NULL|\n",
      "|477e37a4-c42e-4db...|               Off T|             NULL|              NULL|\n",
      "|6926b425-5a2d-484...|         0.055555455|            100.0| 46.79999923706055|\n",
      "|71f6b79d-2346-432...|               Off T|             NULL|              NULL|\n",
      "|7da0626f-5c31-424...|             Wayward|             NULL|              NULL|\n",
      "|851a137d-7441-4e3...|          0.23060715|             NULL|              NULL|\n",
      "|856697a3-9edc-41b...|        0.0029220213|             NULL|              NULL|\n",
      "|8592fda4-3e54-46e...|         0.022013947|             NULL|              NULL|\n",
      "|95ea28e2-8fe9-426...|         0.049562205|             NULL|              NULL|\n",
      "|963d84de-ada7-4c3...|   'teammate': True}|             NULL|              NULL|\n",
      "|9cefc622-75a2-451...|          0.12105144|             NULL|              NULL|\n",
      "|9d8ae7b2-c1d0-404...|               Saved|             NULL|              NULL|\n",
      "|b1a42e5d-e59c-442...|         0.009718898|             NULL|              NULL|\n",
      "|c6e10ca3-5c59-460...|             Blocked|             NULL|              NULL|\n",
      "|ca285c55-f017-40f...|               Off T|             NULL|              NULL|\n",
      "|cf20071a-7aab-42d...|          0.07687706|             NULL|              NULL|\n",
      "+--------------------+--------------------+-----------------+------------------+\n",
      "only showing top 20 rows\n",
      "\n"
     ]
    },
    {
     "name": "stderr",
     "output_type": "stream",
     "text": [
      "                                                                                \r"
     ]
    }
   ],
   "source": [
    "result.show()"
   ]
  },
  {
   "cell_type": "code",
   "execution_count": 78,
   "metadata": {},
   "outputs": [],
   "source": [
    "cor = result.na.drop().drop('id')"
   ]
  },
  {
   "cell_type": "code",
   "execution_count": 35,
   "metadata": {},
   "outputs": [
    {
     "name": "stderr",
     "output_type": "stream",
     "text": [
      "[Stage 51:==================================================>     (19 + 2) / 21]\r"
     ]
    },
    {
     "name": "stdout",
     "output_type": "stream",
     "text": [
      "+-----------------+------------------+------------------+\n",
      "|shot_statsbomb_xg|                 x|                 y|\n",
      "+-----------------+------------------+------------------+\n",
      "|       0.15243307|             114.0|40.900001525878906|\n",
      "|      0.025271386| 93.80000305175781| 51.29999923706055|\n",
      "|        0.6657846| 111.4000015258789|              36.5|\n",
      "|       0.06717054| 108.9000015258789|29.399999618530273|\n",
      "|      0.029664174|110.19999694824219|32.599998474121094|\n",
      "|      0.030132728|              93.0|49.400001525878906|\n",
      "|       0.05725451|             105.5|47.400001525878906|\n",
      "|        0.0673188|111.19999694824219|              37.0|\n",
      "|      0.069653474| 112.0999984741211|34.599998474121094|\n",
      "|        0.8521293| 115.5999984741211| 43.79999923706055|\n",
      "|      0.043656476|103.30000305175781|53.099998474121094|\n",
      "|       0.02594082|102.19999694824219| 43.20000076293945|\n",
      "|       0.08625654| 110.5999984741211|45.400001525878906|\n",
      "|           0.7835|             108.0|              40.0|\n",
      "|      0.021727161|115.30000305175781|53.400001525878906|\n",
      "|     0.0058680973| 85.80000305175781|21.299999237060547|\n",
      "|      0.045332674|100.19999694824219| 55.20000076293945|\n",
      "|      0.019967925| 93.19999694824219| 49.70000076293945|\n",
      "|      0.028684001|              95.0|30.200000762939453|\n",
      "|       0.04380046|109.19999694824219|              36.5|\n",
      "+-----------------+------------------+------------------+\n",
      "only showing top 20 rows\n",
      "\n"
     ]
    },
    {
     "name": "stderr",
     "output_type": "stream",
     "text": [
      "                                                                                \r"
     ]
    }
   ],
   "source": [
    "cor.show()"
   ]
  },
  {
   "cell_type": "code",
   "execution_count": 46,
   "metadata": {},
   "outputs": [
    {
     "name": "stderr",
     "output_type": "stream",
     "text": [
      "                                                                                \r"
     ]
    },
    {
     "data": {
      "text/html": [
       "<div>\n",
       "<style scoped>\n",
       "    .dataframe tbody tr th:only-of-type {\n",
       "        vertical-align: middle;\n",
       "    }\n",
       "\n",
       "    .dataframe tbody tr th {\n",
       "        vertical-align: top;\n",
       "    }\n",
       "\n",
       "    .dataframe thead th {\n",
       "        text-align: right;\n",
       "    }\n",
       "</style>\n",
       "<table border=\"1\" class=\"dataframe\">\n",
       "  <thead>\n",
       "    <tr style=\"text-align: right;\">\n",
       "      <th></th>\n",
       "      <th>shot_statsbomb_xg</th>\n",
       "      <th>x</th>\n",
       "      <th>y</th>\n",
       "    </tr>\n",
       "  </thead>\n",
       "  <tbody>\n",
       "    <tr>\n",
       "      <th>0</th>\n",
       "      <td>0.152433</td>\n",
       "      <td>114.000000</td>\n",
       "      <td>40.900002</td>\n",
       "    </tr>\n",
       "    <tr>\n",
       "      <th>1</th>\n",
       "      <td>0.025271</td>\n",
       "      <td>93.800003</td>\n",
       "      <td>51.299999</td>\n",
       "    </tr>\n",
       "    <tr>\n",
       "      <th>2</th>\n",
       "      <td>0.665785</td>\n",
       "      <td>111.400002</td>\n",
       "      <td>36.500000</td>\n",
       "    </tr>\n",
       "    <tr>\n",
       "      <th>3</th>\n",
       "      <td>0.067171</td>\n",
       "      <td>108.900002</td>\n",
       "      <td>29.400000</td>\n",
       "    </tr>\n",
       "    <tr>\n",
       "      <th>4</th>\n",
       "      <td>0.029664</td>\n",
       "      <td>110.199997</td>\n",
       "      <td>32.599998</td>\n",
       "    </tr>\n",
       "    <tr>\n",
       "      <th>...</th>\n",
       "      <td>...</td>\n",
       "      <td>...</td>\n",
       "      <td>...</td>\n",
       "    </tr>\n",
       "    <tr>\n",
       "      <th>4839</th>\n",
       "      <td>0.058865</td>\n",
       "      <td>104.300003</td>\n",
       "      <td>26.299999</td>\n",
       "    </tr>\n",
       "    <tr>\n",
       "      <th>4840</th>\n",
       "      <td>NaN</td>\n",
       "      <td>97.900002</td>\n",
       "      <td>29.200001</td>\n",
       "    </tr>\n",
       "    <tr>\n",
       "      <th>4841</th>\n",
       "      <td>0.045205</td>\n",
       "      <td>96.500000</td>\n",
       "      <td>40.900002</td>\n",
       "    </tr>\n",
       "    <tr>\n",
       "      <th>4842</th>\n",
       "      <td>0.086119</td>\n",
       "      <td>112.400002</td>\n",
       "      <td>29.500000</td>\n",
       "    </tr>\n",
       "    <tr>\n",
       "      <th>4843</th>\n",
       "      <td>0.014087</td>\n",
       "      <td>96.900002</td>\n",
       "      <td>55.000000</td>\n",
       "    </tr>\n",
       "  </tbody>\n",
       "</table>\n",
       "<p>4844 rows × 3 columns</p>\n",
       "</div>"
      ],
      "text/plain": [
       "      shot_statsbomb_xg           x          y\n",
       "0              0.152433  114.000000  40.900002\n",
       "1              0.025271   93.800003  51.299999\n",
       "2              0.665785  111.400002  36.500000\n",
       "3              0.067171  108.900002  29.400000\n",
       "4              0.029664  110.199997  32.599998\n",
       "...                 ...         ...        ...\n",
       "4839           0.058865  104.300003  26.299999\n",
       "4840                NaN   97.900002  29.200001\n",
       "4841           0.045205   96.500000  40.900002\n",
       "4842           0.086119  112.400002  29.500000\n",
       "4843           0.014087   96.900002  55.000000\n",
       "\n",
       "[4844 rows x 3 columns]"
      ]
     },
     "execution_count": 46,
     "metadata": {},
     "output_type": "execute_result"
    }
   ],
   "source": [
    "cor_df = cor.toPandas()\n",
    "cor_df"
   ]
  },
  {
   "cell_type": "code",
   "execution_count": 48,
   "metadata": {},
   "outputs": [
    {
     "data": {
      "text/html": [
       "<div>\n",
       "<style scoped>\n",
       "    .dataframe tbody tr th:only-of-type {\n",
       "        vertical-align: middle;\n",
       "    }\n",
       "\n",
       "    .dataframe tbody tr th {\n",
       "        vertical-align: top;\n",
       "    }\n",
       "\n",
       "    .dataframe thead th {\n",
       "        text-align: right;\n",
       "    }\n",
       "</style>\n",
       "<table border=\"1\" class=\"dataframe\">\n",
       "  <thead>\n",
       "    <tr style=\"text-align: right;\">\n",
       "      <th></th>\n",
       "      <th>shot_statsbomb_xg</th>\n",
       "      <th>x</th>\n",
       "      <th>y</th>\n",
       "    </tr>\n",
       "  </thead>\n",
       "  <tbody>\n",
       "    <tr>\n",
       "      <th>84</th>\n",
       "      <td>0.963011</td>\n",
       "      <td>119.000000</td>\n",
       "      <td>40.900002</td>\n",
       "    </tr>\n",
       "    <tr>\n",
       "      <th>1278</th>\n",
       "      <td>0.940326</td>\n",
       "      <td>116.699997</td>\n",
       "      <td>38.599998</td>\n",
       "    </tr>\n",
       "    <tr>\n",
       "      <th>2775</th>\n",
       "      <td>0.931034</td>\n",
       "      <td>115.900002</td>\n",
       "      <td>43.000000</td>\n",
       "    </tr>\n",
       "    <tr>\n",
       "      <th>3378</th>\n",
       "      <td>0.930487</td>\n",
       "      <td>108.599998</td>\n",
       "      <td>37.700001</td>\n",
       "    </tr>\n",
       "    <tr>\n",
       "      <th>3897</th>\n",
       "      <td>0.911103</td>\n",
       "      <td>114.599998</td>\n",
       "      <td>41.700001</td>\n",
       "    </tr>\n",
       "    <tr>\n",
       "      <th>...</th>\n",
       "      <td>...</td>\n",
       "      <td>...</td>\n",
       "      <td>...</td>\n",
       "    </tr>\n",
       "    <tr>\n",
       "      <th>4789</th>\n",
       "      <td>NaN</td>\n",
       "      <td>89.500000</td>\n",
       "      <td>30.200001</td>\n",
       "    </tr>\n",
       "    <tr>\n",
       "      <th>4796</th>\n",
       "      <td>NaN</td>\n",
       "      <td>107.599998</td>\n",
       "      <td>42.200001</td>\n",
       "    </tr>\n",
       "    <tr>\n",
       "      <th>4808</th>\n",
       "      <td>NaN</td>\n",
       "      <td>108.099998</td>\n",
       "      <td>40.500000</td>\n",
       "    </tr>\n",
       "    <tr>\n",
       "      <th>4826</th>\n",
       "      <td>NaN</td>\n",
       "      <td>111.300003</td>\n",
       "      <td>38.400002</td>\n",
       "    </tr>\n",
       "    <tr>\n",
       "      <th>4840</th>\n",
       "      <td>NaN</td>\n",
       "      <td>97.900002</td>\n",
       "      <td>29.200001</td>\n",
       "    </tr>\n",
       "  </tbody>\n",
       "</table>\n",
       "<p>4844 rows × 3 columns</p>\n",
       "</div>"
      ],
      "text/plain": [
       "      shot_statsbomb_xg           x          y\n",
       "84             0.963011  119.000000  40.900002\n",
       "1278           0.940326  116.699997  38.599998\n",
       "2775           0.931034  115.900002  43.000000\n",
       "3378           0.930487  108.599998  37.700001\n",
       "3897           0.911103  114.599998  41.700001\n",
       "...                 ...         ...        ...\n",
       "4789                NaN   89.500000  30.200001\n",
       "4796                NaN  107.599998  42.200001\n",
       "4808                NaN  108.099998  40.500000\n",
       "4826                NaN  111.300003  38.400002\n",
       "4840                NaN   97.900002  29.200001\n",
       "\n",
       "[4844 rows x 3 columns]"
      ]
     },
     "execution_count": 48,
     "metadata": {},
     "output_type": "execute_result"
    }
   ],
   "source": [
    "cor_df.sort_values(by='shot_statsbomb_xg',ascending=False)"
   ]
  },
  {
   "cell_type": "code",
   "execution_count": 34,
   "metadata": {},
   "outputs": [
    {
     "name": "stdout",
     "output_type": "stream",
     "text": [
      "root\n",
      " |-- shot_statsbomb_xg: string (nullable = true)\n",
      " |-- x: double (nullable = true)\n",
      " |-- y: double (nullable = true)\n",
      "\n"
     ]
    }
   ],
   "source": [
    "cor.printSchema()"
   ]
  },
  {
   "cell_type": "code",
   "execution_count": 40,
   "metadata": {},
   "outputs": [],
   "source": [
    "from pyspark.sql.types import DoubleType\n",
    "\n",
    "cor = cor.withColumn(\"shot_statsbomb_xg\",cor['shot_statsbomb_xg'].cast(DoubleType()))"
   ]
  },
  {
   "cell_type": "code",
   "execution_count": 41,
   "metadata": {},
   "outputs": [
    {
     "name": "stderr",
     "output_type": "stream",
     "text": [
      "                                                                                \r"
     ]
    }
   ],
   "source": [
    "columns = cor.columns\n",
    "correlations = []\n",
    "for i in range(len(columns)):\n",
    "    row = []\n",
    "    for j in range(len(columns)):\n",
    "        corr_val = cor.stat.corr(columns[i],columns[j])\n",
    "        row.append(corr_val)\n",
    "    correlations.append(row)"
   ]
  },
  {
   "cell_type": "code",
   "execution_count": 45,
   "metadata": {},
   "outputs": [
    {
     "data": {
      "text/html": [
       "<div>\n",
       "<style scoped>\n",
       "    .dataframe tbody tr th:only-of-type {\n",
       "        vertical-align: middle;\n",
       "    }\n",
       "\n",
       "    .dataframe tbody tr th {\n",
       "        vertical-align: top;\n",
       "    }\n",
       "\n",
       "    .dataframe thead th {\n",
       "        text-align: right;\n",
       "    }\n",
       "</style>\n",
       "<table border=\"1\" class=\"dataframe\">\n",
       "  <thead>\n",
       "    <tr style=\"text-align: right;\">\n",
       "      <th></th>\n",
       "      <th>shot_statsbomb_xg</th>\n",
       "      <th>x</th>\n",
       "      <th>y</th>\n",
       "    </tr>\n",
       "  </thead>\n",
       "  <tbody>\n",
       "    <tr>\n",
       "      <th>shot_statsbomb_xg</th>\n",
       "      <td>1.000000</td>\n",
       "      <td>0.382066</td>\n",
       "      <td>0.012606</td>\n",
       "    </tr>\n",
       "    <tr>\n",
       "      <th>x</th>\n",
       "      <td>0.382066</td>\n",
       "      <td>1.000000</td>\n",
       "      <td>0.010299</td>\n",
       "    </tr>\n",
       "    <tr>\n",
       "      <th>y</th>\n",
       "      <td>0.012606</td>\n",
       "      <td>0.010299</td>\n",
       "      <td>1.000000</td>\n",
       "    </tr>\n",
       "  </tbody>\n",
       "</table>\n",
       "</div>"
      ],
      "text/plain": [
       "                   shot_statsbomb_xg         x         y\n",
       "shot_statsbomb_xg           1.000000  0.382066  0.012606\n",
       "x                           0.382066  1.000000  0.010299\n",
       "y                           0.012606  0.010299  1.000000"
      ]
     },
     "execution_count": 45,
     "metadata": {},
     "output_type": "execute_result"
    }
   ],
   "source": [
    "import pandas as pd\n",
    "#import seaborn as sns\n",
    "#import matplotlib.pyplot as plt\n",
    "\n",
    "corr_df = pd.DataFrame(correlations,index=columns,columns=columns)\n",
    "corr_df"
   ]
  },
  {
   "cell_type": "code",
   "execution_count": 113,
   "metadata": {},
   "outputs": [
    {
     "name": "stderr",
     "output_type": "stream",
     "text": [
      "                                                                                \r"
     ]
    },
    {
     "data": {
      "text/plain": [
       "8710714"
      ]
     },
     "execution_count": 113,
     "metadata": {},
     "output_type": "execute_result"
    }
   ],
   "source": [
    "evs = events.select('id','shot_statsbomb_xg','location')\n",
    "evs.count()"
   ]
  },
  {
   "cell_type": "code",
   "execution_count": 120,
   "metadata": {},
   "outputs": [
    {
     "name": "stderr",
     "output_type": "stream",
     "text": [
      "                                                                                \r"
     ]
    },
    {
     "data": {
      "text/plain": [
       "31905"
      ]
     },
     "execution_count": 120,
     "metadata": {},
     "output_type": "execute_result"
    }
   ],
   "source": [
    "events.na.drop(subset='shot_statsbomb_xg').count()"
   ]
  },
  {
   "cell_type": "code",
   "execution_count": 109,
   "metadata": {},
   "outputs": [],
   "source": [
    "evs = evs.na.drop(subset='shot_statsbomb_xg')"
   ]
  },
  {
   "cell_type": "code",
   "execution_count": 114,
   "metadata": {},
   "outputs": [
    {
     "name": "stderr",
     "output_type": "stream",
     "text": [
      "                                                                                \r"
     ]
    },
    {
     "data": {
      "text/plain": [
       "8710714"
      ]
     },
     "execution_count": 114,
     "metadata": {},
     "output_type": "execute_result"
    }
   ],
   "source": [
    "evs.count()"
   ]
  },
  {
   "cell_type": "code",
   "execution_count": 117,
   "metadata": {},
   "outputs": [
    {
     "name": "stderr",
     "output_type": "stream",
     "text": [
      "[Stage 259:====================================================>  (25 + 1) / 26]\r"
     ]
    },
    {
     "name": "stdout",
     "output_type": "stream",
     "text": [
      "+----+-----------------+--------+\n",
      "|  id|shot_statsbomb_xg|location|\n",
      "+----+-----------------+--------+\n",
      "|NULL|             NULL|    NULL|\n",
      "|NULL|             NULL|    NULL|\n",
      "|NULL|             NULL|    NULL|\n",
      "|NULL|             NULL|    NULL|\n",
      "|NULL|             NULL|    NULL|\n",
      "|NULL|             NULL|    NULL|\n",
      "|NULL|             NULL|    NULL|\n",
      "|NULL|             NULL|    NULL|\n",
      "|NULL|             NULL|    NULL|\n",
      "|NULL|             NULL|    NULL|\n",
      "|NULL|             NULL|    NULL|\n",
      "|NULL|             NULL|    NULL|\n",
      "|NULL|             NULL|    NULL|\n",
      "|NULL|             NULL|    NULL|\n",
      "|NULL|             NULL|    NULL|\n",
      "|NULL|             NULL|    NULL|\n",
      "|NULL|             NULL|    NULL|\n",
      "|NULL|             NULL|    NULL|\n",
      "|NULL|             NULL|    NULL|\n",
      "|NULL|             NULL|    NULL|\n",
      "+----+-----------------+--------+\n",
      "only showing top 20 rows\n",
      "\n"
     ]
    },
    {
     "name": "stderr",
     "output_type": "stream",
     "text": [
      "                                                                                \r"
     ]
    }
   ],
   "source": [
    "evs.orderBy('location').show()"
   ]
  },
  {
   "cell_type": "code",
   "execution_count": null,
   "metadata": {},
   "outputs": [],
   "source": []
  },
  {
   "cell_type": "code",
   "execution_count": 92,
   "metadata": {},
   "outputs": [
    {
     "name": "stderr",
     "output_type": "stream",
     "text": [
      "                                                                                \r"
     ]
    },
    {
     "data": {
      "text/plain": [
       "25536"
      ]
     },
     "execution_count": 92,
     "metadata": {},
     "output_type": "execute_result"
    }
   ],
   "source": [
    "evs = evs.na.drop(subset='location')\n",
    "evs.count()"
   ]
  },
  {
   "cell_type": "code",
   "execution_count": 111,
   "metadata": {},
   "outputs": [
    {
     "name": "stdout",
     "output_type": "stream",
     "text": [
      "+--------------------+-----------------+-----+----+\n",
      "|                  id|shot_statsbomb_xg|    x|   y|\n",
      "+--------------------+-----------------+-----+----+\n",
      "|3c3fd192-a115-47b...|       0.07213958|105.6|44.0|\n",
      "|b164d43a-c2cd-423...|       0.02977089| 98.6|25.2|\n",
      "|417a2357-d337-43c...|       0.07589752|105.5|47.3|\n",
      "|30702c96-5580-48d...|       0.15686217|113.4|38.7|\n",
      "|970398e3-c3cc-4d2...|       0.15133068|106.2|36.8|\n",
      "|95ea28e2-8fe9-426...|      0.049562205|108.3|39.0|\n",
      "|37ba4e86-d809-40e...|      0.015171255| 85.6|34.4|\n",
      "|f80a63b3-c4a6-4a9...|       0.08510399|112.5|42.5|\n",
      "|5cf2e059-1c44-409...|       0.02531394|106.1|32.5|\n",
      "|c9353ed3-a087-4fd...|     0.0064736516| 83.5|48.0|\n",
      "|f4ea5b80-1de5-444...|      0.047531724|108.1|39.3|\n",
      "|8592fda4-3e54-46e...|      0.022013947|105.5|57.6|\n",
      "|51932a82-e803-4ba...|       0.06569337|110.9|25.6|\n",
      "|a8b4baa8-b879-410...|      0.012626733| 98.9|24.9|\n",
      "|a431db47-7da0-4eb...|       0.14169177|114.8|44.1|\n",
      "|350a49bc-6914-4b3...|      0.040732585|107.2|35.0|\n",
      "|e5d66514-0a8c-446...|      0.028598836|107.5|24.9|\n",
      "|618314a1-76b9-41e...|      0.019570593| 88.5|38.1|\n",
      "|9b52e5c5-5688-4b0...|      0.056397837|109.6|41.5|\n",
      "|2593d42f-61d2-4e5...|      0.039566465| 94.8|24.9|\n",
      "+--------------------+-----------------+-----+----+\n",
      "only showing top 20 rows\n",
      "\n"
     ]
    }
   ],
   "source": [
    "evs = evs.withColumn(\"location_clean\", regexp_replace(col(\"location\"), r\"[\\[\\]]\", \"\")) \\\n",
    "               .withColumn(\"x\", split(col(\"location_clean\"), \", \").getItem(0).cast(\"double\")) \\\n",
    "               .withColumn(\"y\", split(col(\"location_clean\"), \", \").getItem(1).cast(\"double\")) \\\n",
    "               .drop(\"location_clean\").drop(\"location\")\n",
    "               \n",
    "evs.show()"
   ]
  },
  {
   "cell_type": "code",
   "execution_count": 112,
   "metadata": {},
   "outputs": [
    {
     "name": "stderr",
     "output_type": "stream",
     "text": [
      "                                                                                \r"
     ]
    },
    {
     "data": {
      "text/plain": [
       "31905"
      ]
     },
     "execution_count": 112,
     "metadata": {},
     "output_type": "execute_result"
    }
   ],
   "source": [
    "evs.count()"
   ]
  },
  {
   "cell_type": "code",
   "execution_count": 98,
   "metadata": {},
   "outputs": [],
   "source": [
    "evs = evs.drop('id')"
   ]
  },
  {
   "cell_type": "code",
   "execution_count": 107,
   "metadata": {},
   "outputs": [
    {
     "name": "stderr",
     "output_type": "stream",
     "text": [
      "[Stage 241:====================================================>  (25 + 1) / 26]\r"
     ]
    },
    {
     "name": "stdout",
     "output_type": "stream",
     "text": [
      "+--------------------+---------+----+\n",
      "|   shot_statsbomb_xg|        x|   y|\n",
      "+--------------------+---------+----+\n",
      "|             Blocked|3825739.0|NULL|\n",
      "|               Saved|3901207.0|NULL|\n",
      "|               Off T|3900548.0|NULL|\n",
      "|               Off T|3901207.0|NULL|\n",
      "|  'teammate': False}|3900527.0|NULL|\n",
      "|                Post|3901207.0|NULL|\n",
      "|               Off T|3900548.0|NULL|\n",
      "|                Goal|3901207.0|NULL|\n",
      "|               Saved| 267422.0|NULL|\n",
      "|               Off T|3901207.0|NULL|\n",
      "|             Blocked|3900548.0|NULL|\n",
      "|             Blocked|3901207.0|NULL|\n",
      "|  'teammate': False}|3900527.0|NULL|\n",
      "|             Blocked|3901207.0|NULL|\n",
      "|               Off T|3900548.0|NULL|\n",
      "|               Off T|3901207.0|NULL|\n",
      "|   'teammate': True}|3825679.0|NULL|\n",
      "|               Saved|3901207.0|NULL|\n",
      "|               Off T|3900548.0|NULL|\n",
      "|               Saved|3901207.0|NULL|\n",
      "|                Goal|3900527.0|NULL|\n",
      "|             Blocked|3901207.0|NULL|\n",
      "|             Blocked|3900548.0|NULL|\n",
      "|               Off T|3901207.0|NULL|\n",
      "|             Wayward| 267422.0|NULL|\n",
      "|               Off T|3901207.0|NULL|\n",
      "|               Saved|3900548.0|NULL|\n",
      "|               Saved|3901207.0|NULL|\n",
      "|               Saved|3900527.0|NULL|\n",
      "|                Goal|3901207.0|NULL|\n",
      "|             Blocked|3900548.0|NULL|\n",
      "|             Blocked|3901207.0|NULL|\n",
      "|                Goal|3825739.0|NULL|\n",
      "|               Saved|3901207.0|NULL|\n",
      "|             Wayward|3900548.0|NULL|\n",
      "|               Off T|3901207.0|NULL|\n",
      "|  'teammate': False}|3900527.0|NULL|\n",
      "|             Blocked|3901207.0|NULL|\n",
      "|               Saved|3900548.0|NULL|\n",
      "|             Blocked|3901207.0|NULL|\n",
      "|             Blocked| 267422.0|NULL|\n",
      "| 'teammate': True}]\"|3901207.0|NULL|\n",
      "|             Blocked|3900548.0|NULL|\n",
      "|               Saved|3901207.0|NULL|\n",
      "|  'teammate': False}|3900527.0|NULL|\n",
      "|   'teammate': True}|3901207.0|NULL|\n",
      "|                Goal|3900548.0|NULL|\n",
      "| 'teammate': True}]\"|3901207.0|NULL|\n",
      "|   'teammate': True}|3825679.0|NULL|\n",
      "|               Off T|3901206.0|NULL|\n",
      "+--------------------+---------+----+\n",
      "only showing top 50 rows\n",
      "\n"
     ]
    },
    {
     "name": "stderr",
     "output_type": "stream",
     "text": [
      "                                                                                \r"
     ]
    }
   ],
   "source": [
    "evs.orderBy('y').show(50)"
   ]
  },
  {
   "cell_type": "code",
   "execution_count": null,
   "metadata": {},
   "outputs": [],
   "source": []
  },
  {
   "cell_type": "code",
   "execution_count": 12,
   "metadata": {},
   "outputs": [],
   "source": [
    "#spark.stop()"
   ]
  }
 ],
 "metadata": {
  "kernelspec": {
   "display_name": "myenv",
   "language": "python",
   "name": "python3"
  },
  "language_info": {
   "codemirror_mode": {
    "name": "ipython",
    "version": 3
   },
   "file_extension": ".py",
   "mimetype": "text/x-python",
   "name": "python",
   "nbconvert_exporter": "python",
   "pygments_lexer": "ipython3",
   "version": "3.12.3"
  }
 },
 "nbformat": 4,
 "nbformat_minor": 2
}
