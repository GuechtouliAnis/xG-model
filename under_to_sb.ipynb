{
 "cells": [
  {
   "cell_type": "code",
   "execution_count": 90,
   "metadata": {},
   "outputs": [],
   "source": [
    "from pyspark.sql import SparkSession\n",
    "from pyspark.sql.functions import col, udf, when, rand"
   ]
  },
  {
   "cell_type": "code",
   "execution_count": 2,
   "metadata": {},
   "outputs": [
    {
     "name": "stderr",
     "output_type": "stream",
     "text": [
      "your 131072x1 screen size is bogus. expect trouble\n",
      "Setting default log level to \"WARN\".\n",
      "To adjust logging level use sc.setLogLevel(newLevel). For SparkR, use setLogLevel(newLevel).\n",
      "25/01/28 10:38:07 WARN NativeCodeLoader: Unable to load native-hadoop library for your platform... using builtin-java classes where applicable\n"
     ]
    }
   ],
   "source": [
    "spark = SparkSession.builder.appName(\"u_to_sb\").getOrCreate()"
   ]
  },
  {
   "cell_type": "code",
   "execution_count": 3,
   "metadata": {},
   "outputs": [
    {
     "name": "stderr",
     "output_type": "stream",
     "text": [
      "                                                                                \r"
     ]
    }
   ],
   "source": [
    "shots = spark.read.csv(\"understat/understat.csv\", header=True, inferSchema=True)\n",
    "shots_sb = spark.read.csv(\"Data/Datas/shots.csv\", header=True, inferSchema=True)"
   ]
  },
  {
   "cell_type": "code",
   "execution_count": 9,
   "metadata": {},
   "outputs": [],
   "source": [
    "shots = shots.withColumnRenamed(\"regular_play\", \"from_rp\")"
   ]
  },
  {
   "cell_type": "code",
   "execution_count": 14,
   "metadata": {},
   "outputs": [],
   "source": [
    "FEATURES = ['from_rp','from_fk','from_corner','from_counter',\n",
    "            'header','corner_type','fk_type','pk_type',\n",
    "            'acrobatic_shot','lob_technique',\n",
    "            'distance_to_goal', 'shot_angle', 'preferred_foot_shot', 'under_pressure',\n",
    "            'shot_aerial_won','shot_first_time','shot_one_on_one','shot_open_goal','shot_follows_dribble','players_inside_area']"
   ]
  },
  {
   "cell_type": "code",
   "execution_count": 27,
   "metadata": {},
   "outputs": [
    {
     "name": "stdout",
     "output_type": "stream",
     "text": [
      "Column from_counter not in dataframe\n",
      "Column lob_technique not in dataframe\n",
      "Column under_pressure not in dataframe\n",
      "Column shot_aerial_won not in dataframe\n",
      "Column shot_open_goal not in dataframe\n",
      "Column players_inside_area not in dataframe\n"
     ]
    }
   ],
   "source": [
    "# check if the columns are in the dataframe\n",
    "for feature in FEATURES:\n",
    "    if feature not in shots.columns:\n",
    "        print(f\"Column {feature} not in dataframe\")"
   ]
  },
  {
   "cell_type": "code",
   "execution_count": 24,
   "metadata": {},
   "outputs": [],
   "source": [
    "shots = shots.withColumnRenamed('situation_FromCorner', 'from_corner')"
   ]
  },
  {
   "cell_type": "code",
   "execution_count": 20,
   "metadata": {},
   "outputs": [],
   "source": [
    "# corner_type when the shot_location_x = 119.4 and shot_location_y = 79.6 or 0.4\n",
    "shots = shots.withColumn(\"corner_type\",\n",
    "                 when((shots.shot_location_x == 119.4) &\n",
    "                      ((shots.shot_location_y == 79.6) | (shots.shot_location_y == 0.4)), 1).otherwise(0))"
   ]
  },
  {
   "cell_type": "code",
   "execution_count": 26,
   "metadata": {},
   "outputs": [
    {
     "name": "stdout",
     "output_type": "stream",
     "text": [
      "+------+---------+------------------+------------------+-----------+------+-----------------+----------------------+------------------+-------+-----------+-------+-------+------------------+----+------------------+----------------+------------------+--------------+-------------------+-------+--------------------+---------------+--------------+---------------+-----------+\n",
      "|    id|player_id|   shot_location_x|   shot_location_y| lastAction|header|shotType_LeftFoot|shotType_OtherBodyPart|shotType_RightFoot|fk_type|from_corner|from_rp|pk_type|situation_SetPiece|goal|                xG|distance_to_goal|        shot_angle|preferred_foot|preferred_foot_shot|from_fk|shot_follows_dribble|shot_first_time|acrobatic_shot|shot_one_on_one|corner_type|\n",
      "+------+---------+------------------+------------------+-----------+------+-----------------+----------------------+------------------+-------+-----------+-------+-------+------------------+----+------------------+----------------+------------------+--------------+-------------------+-------+--------------------+---------------+--------------+---------------+-----------+\n",
      "|155408|     4299|             109.2| 38.23999938964844|      Cross|     1|                0|                     0|                 0|      0|          0|      1|      0|                 0|   0|0.0842609032988548|         10.9425|39.789921055534535|         Right|                  0|      0|                   0|              0|             0|              0|          0|\n",
      "|155711|     4299|119.51999816894532|46.560000610351565|    Rebound|     0|                0|                     0|                 1|      0|          1|      0|      0|                 0|   1|0.0651196017861366|          6.5775| 8.017120424513449|         Right|                  1|      0|                   0|              1|             0|              0|          0|\n",
      "|155905|     4299|             113.4| 38.96000061035156|      Cross|     1|                0|                     0|                 0|      0|          1|      0|      0|                 0|   0|0.1261920034885406|          6.6814| 61.52218212247433|         Right|                  0|      0|                   0|              0|             0|              0|          0|\n",
      "|155911|     4299| 106.3199981689453| 29.52000122070312|      Cross|     1|                0|                     0|                 0|      0|          1|      0|      0|                 0|   0|0.0128792002797126|         17.2329|21.281108283620917|         Right|                  0|      0|                   0|              0|             0|              0|          0|\n",
      "|155919|     4299|110.76000366210938| 43.36000061035156|      Cross|     1|                0|                     0|                 0|      0|          1|      0|      0|                 0|   0|0.0871912017464637|          9.8319| 42.50083350836347|         Right|                  0|      0|                   0|              0|             0|              0|          0|\n",
      "|157851|     4299| 93.83999633789062| 47.43999938964844|       Pass|     0|                0|                     0|                 1|      0|          0|      1|      0|                 0|   0|0.0316447988152504|         27.1974|16.128858582720326|         Right|                  1|      0|                   0|              0|             0|              0|          0|\n",
      "|157853|     4299| 106.3199981689453|26.879998779296876|       Pass|     0|                0|                     0|                 1|      0|          0|      1|      0|                 0|   0| 0.063486099243164|         18.9546| 17.68278824951897|         Right|                  1|      0|                   0|              0|             0|              0|          0|\n",
      "|157855|     4299|109.68000183105468|              36.8|      Cross|     1|                0|                     0|                 0|      0|          1|      0|      0|                 0|   0| 0.072520799934864|         10.8047| 39.33516963840794|         Right|                  0|      0|                   0|              0|             0|              0|          0|\n",
      "|157861|     4299|              90.6| 50.07999877929688|       Pass|     0|                0|                     0|                 1|      0|          0|      1|      0|                 0|   0|0.0269414000213146|           31.08|13.906086046767447|         Right|                  1|      0|                   0|              0|             0|              0|          0|\n",
      "|157392|     4299|107.16000366210938|54.240002441406254|       Pass|     0|                1|                     0|                 0|      0|          0|      1|      0|                 0|   0|0.2084929943084716|          19.174|16.283834193074007|         Right|                  0|      0|                   0|              0|             0|              0|          0|\n",
      "|157403|     4299|110.88000183105468|              21.6|Throughball|     0|                0|                     0|                 1|      0|          0|      1|      0|                 0|   1|0.3005259931087494|         20.5362| 10.19409757941952|         Right|                  1|      0|                   0|              0|             0|              1|          0|\n",
      "|157409|     4299| 99.96000366210936| 50.63999938964844|       Pass|     0|                0|                     0|                 1|      0|          0|      1|      0|                 0|   1|0.0587503015995025|         22.6894|17.817624051636717|         Right|                  1|      0|                   0|              0|             0|              0|          0|\n",
      "|156950|     4299|107.76000366210938| 27.36000061035156|       Pass|     0|                0|                     0|                 1|      0|          0|      1|      0|                 0|   0|0.0596826002001762|         17.5951|18.445066208242338|         Right|                  1|      0|                   0|              0|             0|              0|          0|\n",
      "|156954|     4299|102.71999816894532|52.400000000000006|     TakeOn|     0|                0|                     0|                 1|      0|          0|      1|      0|                 0|   0|0.0544155016541481|         21.2687|17.578399008398073|         Right|                  1|      0|                   1|              0|             0|              0|          0|\n",
      "|158005|     4299|             115.2| 32.47999877929687|    Rebound|     0|                0|                     0|                 1|      0|          0|      1|      0|                 0|   0|0.1219239979982376|          8.9213| 31.12628999459252|         Right|                  1|      0|                   0|              1|             0|              0|          0|\n",
      "|158015|     4299|106.56000366210938|              40.0|     Aerial|     1|                0|                     0|                 0|      0|          0|      1|      0|                 0|   0|0.0311356000602245|           13.44|33.148024050445066|         Right|                  0|      0|                   0|              0|             0|              0|          0|\n",
      "|158023|     4299|115.68000183105472| 39.67999877929687|    Rebound|     0|                0|                     0|                 1|      0|          0|      0|      0|                 1|   1|0.7759659886360168|          4.3318| 85.42610158381311|         Right|                  1|      0|                   0|              1|             0|              0|          0|\n",
      "|158021|     4299|             106.2|              40.0|   Standard|     0|                0|                     0|                 1|      0|          0|      0|      1|                 0|   0|0.7542750239372253|            13.8|32.328998304513846|         Right|                  1|      0|                   0|              0|             0|              0|          0|\n",
      "|157461|     4299|             106.8|28.879998779296876|    Chipped|     0|                0|                     0|                 1|      0|          0|      1|      0|                 0|   0|0.0690668001770973|         17.2596| 20.53636824672031|         Right|                  1|      0|                   0|              0|             1|              0|          0|\n",
      "|157462|     4299|             106.8|42.720001220703125|      Cross|     1|                0|                     0|                 0|      0|          0|      1|      0|                 0|   1|0.0651369020342826|         13.4773| 32.51886720977629|         Right|                  0|      0|                   0|              0|             0|              0|          0|\n",
      "+------+---------+------------------+------------------+-----------+------+-----------------+----------------------+------------------+-------+-----------+-------+-------+------------------+----+------------------+----------------+------------------+--------------+-------------------+-------+--------------------+---------------+--------------+---------------+-----------+\n",
      "only showing top 20 rows\n",
      "\n"
     ]
    }
   ],
   "source": [
    "shots.show()"
   ]
  },
  {
   "cell_type": "code",
   "execution_count": 41,
   "metadata": {},
   "outputs": [
    {
     "name": "stdout",
     "output_type": "stream",
     "text": [
      "+-------------------+-----+\n",
      "|players_inside_area|count|\n",
      "+-------------------+-----+\n",
      "|                 12|    1|\n",
      "|                  1|  106|\n",
      "|                 13|    2|\n",
      "|                  6|  452|\n",
      "|                  3|  487|\n",
      "|                  5|  671|\n",
      "|                  9|   30|\n",
      "|                  4|  604|\n",
      "|                  8|   82|\n",
      "|                  7|  214|\n",
      "|                 10|    9|\n",
      "|                 11|    2|\n",
      "|                  2|  258|\n",
      "|                  0|   14|\n",
      "+-------------------+-----+\n",
      "\n"
     ]
    }
   ],
   "source": [
    "shots_sb.filter(col(\"fk_type\") == 1).groupBy('players_inside_area').count().show(20)"
   ]
  },
  {
   "cell_type": "code",
   "execution_count": 28,
   "metadata": {},
   "outputs": [],
   "source": [
    "s = shots"
   ]
  },
  {
   "cell_type": "code",
   "execution_count": 29,
   "metadata": {},
   "outputs": [
    {
     "name": "stderr",
     "output_type": "stream",
     "text": [
      "                                                                                \r"
     ]
    }
   ],
   "source": [
    "# save the dataframe\n",
    "shots.write.csv(\"understats/understat.csv\", header=True, mode='overwrite')"
   ]
  },
  {
   "cell_type": "code",
   "execution_count": 42,
   "metadata": {},
   "outputs": [],
   "source": [
    "# separating corners, free kicks, penalties from the shots dataframe\n",
    "n_shots = shots.filter((col('corner_type') == 0) & (col('fk_type') == 0) & (col('pk_type') == 0))\n",
    "sp_shots = shots.filter((col('corner_type') == 1) |(col('pk_type') == 1))\n",
    "fk_shots = shots.filter(col('fk_type') == 1)"
   ]
  },
  {
   "cell_type": "code",
   "execution_count": 47,
   "metadata": {},
   "outputs": [],
   "source": [
    "sp_shots = sp_shots.withColumn('players_inside_area',\n",
    "                    when(sp_shots.corner_type == 1, 0).otherwise(1))"
   ]
  },
  {
   "cell_type": "code",
   "execution_count": 98,
   "metadata": {},
   "outputs": [
    {
     "name": "stdout",
     "output_type": "stream",
     "text": [
      "+------+---------+-----------------+-----------------+----------+------+-----------------+----------------------+------------------+-------+-----------+-------+-------+------------------+----+------------------+----------------+------------------+--------------+-------------------+-------+--------------------+---------------+--------------+---------------+-----------+-------------+\n",
      "|    id|player_id|  shot_location_x|  shot_location_y|lastAction|header|shotType_LeftFoot|shotType_OtherBodyPart|shotType_RightFoot|fk_type|from_corner|from_rp|pk_type|situation_SetPiece|goal|                xG|distance_to_goal|        shot_angle|preferred_foot|preferred_foot_shot|from_fk|shot_follows_dribble|shot_first_time|acrobatic_shot|shot_one_on_one|corner_type|lob_technique|\n",
      "+------+---------+-----------------+-----------------+----------+------+-----------------+----------------------+------------------+-------+-----------+-------+-------+------------------+----+------------------+----------------+------------------+--------------+-------------------+-------+--------------------+---------------+--------------+---------------+-----------+-------------+\n",
      "|208191|     4299|95.03999633789064|55.27999877929688|  Standard|     0|                0|                     0|                 1|      1|          0|      0|      0|                 0|   1|0.0612145997583866|         29.2657|13.364477035045764|         Right|                  1|      0|                   0|              0|             0|              0|          0|            0|\n",
      "|272982|     4299|92.88000183105468|42.47999877929687|  Standard|     0|                0|                     0|                 1|      1|          0|      0|      0|                 0|   0|0.0816524028778076|         27.2332|16.646101075638594|         Right|                  1|      0|                   0|              0|             0|              0|          0|            0|\n",
      "|126000|     4665|             90.6|             34.0|  Standard|     0|                0|                     0|                 1|      1|          0|      0|      0|                 0|   0|   0.0604786016047|          30.006|14.893344218514688|         Right|                  1|      0|                   0|              0|             0|              0|          0|            0|\n",
      "|127031|     4665|            110.4|65.35999755859376|  Standard|     0|                0|                     0|                 1|      1|          0|      0|      0|                 0|   0| 0.059808000922203|         27.1162| 6.094497243301454|         Right|                  1|      0|                   0|              0|             0|              0|          0|            0|\n",
      "|127206|     4665|91.56000366210938|18.96000061035156|  Standard|     0|                0|                     0|                 1|      1|          0|      0|      0|                 0|   0|0.0361124984920024|         35.3768|10.434116281686714|         Right|                  1|      0|                   0|              0|             0|              0|          0|            0|\n",
      "+------+---------+-----------------+-----------------+----------+------+-----------------+----------------------+------------------+-------+-----------+-------+-------+------------------+----+------------------+----------------+------------------+--------------+-------------------+-------+--------------------+---------------+--------------+---------------+-----------+-------------+\n",
      "only showing top 5 rows\n",
      "\n"
     ]
    }
   ],
   "source": [
    "fk_shots.withColumn(\n",
    "    \"lob_technique\",\n",
    "    when(\n",
    "        (col(\"fk_type\") == 1) & (rand() < 0.0020463847203274215), 1\n",
    "    ).otherwise(0)).show(5)"
   ]
  },
  {
   "cell_type": "code",
   "execution_count": 97,
   "metadata": {},
   "outputs": [
    {
     "name": "stdout",
     "output_type": "stream",
     "text": [
      "+------+---------+---------------+---------------+----------+------+-----------------+----------------------+------------------+-------+-----------+-------+-------+------------------+----+------------------+----------------+------------------+--------------+-------------------+-------+--------------------+---------------+--------------+---------------+-----------+-------------------+-------------+\n",
      "|    id|player_id|shot_location_x|shot_location_y|lastAction|header|shotType_LeftFoot|shotType_OtherBodyPart|shotType_RightFoot|fk_type|from_corner|from_rp|pk_type|situation_SetPiece|goal|                xG|distance_to_goal|        shot_angle|preferred_foot|preferred_foot_shot|from_fk|shot_follows_dribble|shot_first_time|acrobatic_shot|shot_one_on_one|corner_type|players_inside_area|lob_technique|\n",
      "+------+---------+---------------+---------------+----------+------+-----------------+----------------------+------------------+-------+-----------+-------+-------+------------------+----+------------------+----------------+------------------+--------------+-------------------+-------+--------------------+---------------+--------------+---------------+-----------+-------------------+-------------+\n",
      "|158021|     4299|          106.2|           40.0|  Standard|     0|                0|                     0|                 1|      0|          0|      0|      1|                 0|   0|0.7542750239372253|            13.8|32.328998304513846|         Right|                  1|      0|                   0|              0|             0|              0|          0|                  1|            0|\n",
      "|157521|     4665|          106.2|           40.0|  Standard|     0|                0|                     0|                 1|      0|          0|      0|      1|                 0|   1|0.7542750239372253|            13.8|32.328998304513846|         Right|                  1|      0|                   0|              0|             0|              0|          0|                  1|            0|\n",
      "|157526|     4665|          106.2|           40.0|  Standard|     0|                0|                     0|                 1|      0|          0|      0|      1|                 0|   1|0.7542750239372253|            13.8|32.328998304513846|         Right|                  1|      0|                   0|              0|             0|              0|          0|                  1|            0|\n",
      "|288592|     5478|          106.2|           40.0|  Standard|     0|                0|                     0|                 1|      0|          0|      0|      1|                 0|   1|0.7542750239372253|            13.8|32.328998304513846|         Right|                  1|      0|                   0|              0|             0|              0|          0|                  1|            0|\n",
      "|291847|     5478|          106.2|           40.0|  Standard|     0|                0|                     0|                 1|      0|          0|      0|      1|                 0|   1|0.7542750239372253|            13.8|32.328998304513846|         Right|                  1|      0|                   0|              0|             0|              0|          0|                  1|            0|\n",
      "+------+---------+---------------+---------------+----------+------+-----------------+----------------------+------------------+-------+-----------+-------+-------+------------------+----+------------------+----------------+------------------+--------------+-------------------+-------+--------------------+---------------+--------------+---------------+-----------+-------------------+-------------+\n",
      "only showing top 5 rows\n",
      "\n"
     ]
    }
   ],
   "source": [
    "sp_shots.withColumn(\n",
    "    \"lob_technique\",\n",
    "    when(\n",
    "        (col(\"pk_type\") == 1) & (rand() < 0.0031982942430703624), 1\n",
    "    ).otherwise(0)).show(5)"
   ]
  },
  {
   "cell_type": "code",
   "execution_count": null,
   "metadata": {},
   "outputs": [
    {
     "name": "stdout",
     "output_type": "stream",
     "text": [
      "+------+---------+------------------+------------------+----------+------+-----------------+----------------------+------------------+-------+-----------+-------+-------+------------------+----+------------------+----------------+------------------+--------------+-------------------+-------+--------------------+---------------+--------------+---------------+-----------+-------------+\n",
      "|    id|player_id|   shot_location_x|   shot_location_y|lastAction|header|shotType_LeftFoot|shotType_OtherBodyPart|shotType_RightFoot|fk_type|from_corner|from_rp|pk_type|situation_SetPiece|goal|                xG|distance_to_goal|        shot_angle|preferred_foot|preferred_foot_shot|from_fk|shot_follows_dribble|shot_first_time|acrobatic_shot|shot_one_on_one|corner_type|lob_technique|\n",
      "+------+---------+------------------+------------------+----------+------+-----------------+----------------------+------------------+-------+-----------+-------+-------+------------------+----+------------------+----------------+------------------+--------------+-------------------+-------+--------------------+---------------+--------------+---------------+-----------+-------------+\n",
      "|155408|     4299|             109.2| 38.23999938964844|     Cross|     1|                0|                     0|                 0|      0|          0|      1|      0|                 0|   0|0.0842609032988548|         10.9425|39.789921055534535|         Right|                  0|      0|                   0|              0|             0|              0|          0|            0|\n",
      "|155711|     4299|119.51999816894532|46.560000610351565|   Rebound|     0|                0|                     0|                 1|      0|          1|      0|      0|                 0|   1|0.0651196017861366|          6.5775| 8.017120424513449|         Right|                  1|      0|                   0|              1|             0|              0|          0|            0|\n",
      "|155905|     4299|             113.4| 38.96000061035156|     Cross|     1|                0|                     0|                 0|      0|          1|      0|      0|                 0|   0|0.1261920034885406|          6.6814| 61.52218212247433|         Right|                  0|      0|                   0|              0|             0|              0|          0|            0|\n",
      "|155911|     4299| 106.3199981689453| 29.52000122070312|     Cross|     1|                0|                     0|                 0|      0|          1|      0|      0|                 0|   0|0.0128792002797126|         17.2329|21.281108283620917|         Right|                  0|      0|                   0|              0|             0|              0|          0|            0|\n",
      "|155919|     4299|110.76000366210938| 43.36000061035156|     Cross|     1|                0|                     0|                 0|      0|          1|      0|      0|                 0|   0|0.0871912017464637|          9.8319| 42.50083350836347|         Right|                  0|      0|                   0|              0|             0|              0|          0|            0|\n",
      "+------+---------+------------------+------------------+----------+------+-----------------+----------------------+------------------+-------+-----------+-------+-------+------------------+----+------------------+----------------+------------------+--------------+-------------------+-------+--------------------+---------------+--------------+---------------+-----------+-------------+\n",
      "only showing top 5 rows\n",
      "\n"
     ]
    }
   ],
   "source": [
    "n_shots.withColumn(\n",
    "    \"lob_technique\",\n",
    "    when(\n",
    "        (col(\"shot_one_on_one\") == 1) & (rand() < 0.03534563653425086), 1).otherwise(0)).show(5)"
   ]
  },
  {
   "cell_type": "code",
   "execution_count": 101,
   "metadata": {},
   "outputs": [],
   "source": [
    "n_shots_sb = shots_sb.filter((col('corner_type') == 0) & (col('fk_type') == 0) & (col('pk_type') == 0))"
   ]
  },
  {
   "cell_type": "code",
   "execution_count": 142,
   "metadata": {},
   "outputs": [
    {
     "data": {
      "text/plain": [
       "([0, 24, 48, 72, 96, 120], [0, 16, 32, 48, 64, 80])"
      ]
     },
     "execution_count": 142,
     "metadata": {},
     "output_type": "execute_result"
    }
   ],
   "source": [
    "X_values = [x for x in range(0,121,24)]\n",
    "Y_values = [y for y in range(0,81,16)]\n",
    "X_values, Y_values"
   ]
  },
  {
   "cell_type": "code",
   "execution_count": 156,
   "metadata": {},
   "outputs": [
    {
     "data": {
      "text/plain": [
       "[(0, 24, 0, 16),\n",
       " (0, 24, 16, 32),\n",
       " (0, 24, 32, 48),\n",
       " (0, 24, 48, 64),\n",
       " (0, 24, 64, 80),\n",
       " (24, 48, 0, 16),\n",
       " (24, 48, 16, 32),\n",
       " (24, 48, 32, 48),\n",
       " (24, 48, 48, 64),\n",
       " (24, 48, 64, 80),\n",
       " (48, 72, 0, 16),\n",
       " (48, 72, 16, 32),\n",
       " (48, 72, 32, 48),\n",
       " (48, 72, 48, 64),\n",
       " (48, 72, 64, 80),\n",
       " (72, 96, 0, 16),\n",
       " (72, 96, 16, 32),\n",
       " (72, 96, 32, 48),\n",
       " (72, 96, 48, 64),\n",
       " (72, 96, 64, 80),\n",
       " (96, 120, 0, 16),\n",
       " (96, 120, 16, 32),\n",
       " (96, 120, 32, 48),\n",
       " (96, 120, 48, 64),\n",
       " (96, 120, 64, 80)]"
      ]
     },
     "execution_count": 156,
     "metadata": {},
     "output_type": "execute_result"
    }
   ],
   "source": [
    "# combine each two consecutive values of x with each two consecutive values of y\n",
    "# [0,24] with [0,16], [16,32], [32,48], [48,64], [64,80]\n",
    "# [24,48] with [0,16], [16,32], [32,48], [48,64], [64,80]\n",
    "\n",
    "coo = []\n",
    "for X in range(len(X_values[:-1])):\n",
    "    for Y in range(len(Y_values[:-1])):\n",
    "        coo.append((X_values[X], X_values[X+1], Y_values[Y], Y_values[Y+1]))\n",
    "coo"
   ]
  },
  {
   "cell_type": "code",
   "execution_count": null,
   "metadata": {},
   "outputs": [],
   "source": []
  }
 ],
 "metadata": {
  "kernelspec": {
   "display_name": "myenv",
   "language": "python",
   "name": "python3"
  },
  "language_info": {
   "codemirror_mode": {
    "name": "ipython",
    "version": 3
   },
   "file_extension": ".py",
   "mimetype": "text/x-python",
   "name": "python",
   "nbconvert_exporter": "python",
   "pygments_lexer": "ipython3",
   "version": "3.12.3"
  }
 },
 "nbformat": 4,
 "nbformat_minor": 2
}
