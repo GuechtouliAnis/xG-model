{
 "cells": [
  {
   "cell_type": "code",
   "execution_count": 1,
   "metadata": {},
   "outputs": [],
   "source": [
    "from pyspark.sql import SparkSession"
   ]
  },
  {
   "cell_type": "code",
   "execution_count": 2,
   "metadata": {},
   "outputs": [
    {
     "name": "stderr",
     "output_type": "stream",
     "text": [
      "your 131072x1 screen size is bogus. expect trouble\n",
      "Setting default log level to \"WARN\".\n",
      "To adjust logging level use sc.setLogLevel(newLevel). For SparkR, use setLogLevel(newLevel).\n",
      "25/02/02 00:31:23 WARN NativeCodeLoader: Unable to load native-hadoop library for your platform... using builtin-java classes where applicable\n"
     ]
    }
   ],
   "source": [
    "spark = SparkSession.builder.appName(\"Splitting_Data\").getOrCreate()"
   ]
  },
  {
   "cell_type": "markdown",
   "metadata": {},
   "source": [
    "### Splitting matches data"
   ]
  },
  {
   "cell_type": "code",
   "execution_count": 3,
   "metadata": {},
   "outputs": [],
   "source": [
    "matches = spark.read.csv(\"Data/matches.csv\", header=True, inferSchema=True)"
   ]
  },
  {
   "cell_type": "code",
   "execution_count": 8,
   "metadata": {},
   "outputs": [],
   "source": [
    "dataframes = {}\n",
    "for competition in matches.groupBy('competition').count().orderBy('count', ascending=False).distinct().collect():\n",
    "    dataframes[competition[0]] = matches.filter(matches.competition == competition[0])"
   ]
  },
  {
   "cell_type": "code",
   "execution_count": 9,
   "metadata": {},
   "outputs": [
    {
     "name": "stdout",
     "output_type": "stream",
     "text": [
      "Spain - La Liga : 590\n",
      "France - Ligue 1 : 435\n",
      "Italy - Serie A : 380\n",
      "England - Premier League : 380\n",
      "Germany - 1. Bundesliga : 340\n",
      "International - FIFA World Cup : 128\n",
      "Europe - UEFA Euro : 102\n",
      "Africa - African Cup of Nations : 52\n",
      "South America - Copa America : 32\n",
      "United States of America - Major League Soccer : 6\n",
      "Europe - Champions League : 5\n"
     ]
    }
   ],
   "source": [
    "for competition, df in dataframes.items():\n",
    "    print(competition, ':', df.count())"
   ]
  },
  {
   "cell_type": "code",
   "execution_count": 7,
   "metadata": {},
   "outputs": [
    {
     "name": "stdout",
     "output_type": "stream",
     "text": [
      "Spain - La Liga has been written to CSV.\n",
      "France - Ligue 1 has been written to CSV.\n",
      "Italy - Serie A has been written to CSV.\n",
      "England - Premier League has been written to CSV.\n",
      "Germany - 1. Bundesliga has been written to CSV.\n",
      "International - FIFA World Cup has been written to CSV.\n",
      "Europe - UEFA Euro has been written to CSV.\n",
      "Africa - African Cup of Nations has been written to CSV.\n",
      "South America - Copa America has been written to CSV.\n",
      "United States of America - Major League Soccer has been written to CSV.\n",
      "Europe - Champions League has been written to CSV.\n"
     ]
    }
   ],
   "source": [
    "for competition, df in dataframes.items():\n",
    "    df.toPandas().to_csv(f\"Split_Data/matches/{competition}.csv\", index=False)\n",
    "    print(f\"{competition} has been written to CSV.\")"
   ]
  },
  {
   "cell_type": "markdown",
   "metadata": {},
   "source": [
    "### Splitting events data"
   ]
  },
  {
   "cell_type": "code",
   "execution_count": 11,
   "metadata": {},
   "outputs": [
    {
     "name": "stderr",
     "output_type": "stream",
     "text": [
      "                                                                                \r"
     ]
    }
   ],
   "source": [
    "events = spark.read.csv(\"Data/events.csv\", header=True, inferSchema=True, sep=\";\")"
   ]
  },
  {
   "cell_type": "code",
   "execution_count": 12,
   "metadata": {},
   "outputs": [
    {
     "name": "stderr",
     "output_type": "stream",
     "text": [
      "[Stage 100:=================================================>     (25 + 3) / 28]\r"
     ]
    },
    {
     "name": "stdout",
     "output_type": "stream",
     "text": [
      "+----------------------------------------------+-------+\n",
      "|competition                                   |count  |\n",
      "+----------------------------------------------+-------+\n",
      "|Spain - La Liga                               |2099452|\n",
      "|France - Ligue 1                              |1589854|\n",
      "|Italy - Serie A                               |1353739|\n",
      "|England - Premier League                      |1313783|\n",
      "|Germany - 1. Bundesliga                       |1207631|\n",
      "|International - FIFA World Cup                |462501 |\n",
      "|Europe - UEFA Euro                            |380550 |\n",
      "|Africa - African Cup of Nations               |162910 |\n",
      "|South America - Copa America                  |100305 |\n",
      "|United States of America - Major League Soccer|21786  |\n",
      "|Europe - Champions League                     |18203  |\n",
      "+----------------------------------------------+-------+\n",
      "\n"
     ]
    },
    {
     "name": "stderr",
     "output_type": "stream",
     "text": [
      "                                                                                \r"
     ]
    }
   ],
   "source": [
    "events.groupBy('competition').count().orderBy('count', ascending=False).show(truncate=False)"
   ]
  },
  {
   "cell_type": "code",
   "execution_count": 14,
   "metadata": {},
   "outputs": [
    {
     "name": "stderr",
     "output_type": "stream",
     "text": [
      "                                                                                \r"
     ]
    }
   ],
   "source": [
    "dataframes = {}\n",
    "for competition in events.groupBy('competition').count().orderBy('count', ascending=False).distinct().collect():\n",
    "    dataframes[competition[0]] = events.filter(events.competition == competition[0])"
   ]
  },
  {
   "cell_type": "code",
   "execution_count": 18,
   "metadata": {},
   "outputs": [
    {
     "name": "stderr",
     "output_type": "stream",
     "text": [
      "                                                                                \r"
     ]
    },
    {
     "name": "stdout",
     "output_type": "stream",
     "text": [
      "Spain - La Liga events have been written to CSV.\n"
     ]
    },
    {
     "name": "stderr",
     "output_type": "stream",
     "text": [
      "                                                                                \r"
     ]
    },
    {
     "name": "stdout",
     "output_type": "stream",
     "text": [
      "France - Ligue 1 events have been written to CSV.\n"
     ]
    },
    {
     "name": "stderr",
     "output_type": "stream",
     "text": [
      "                                                                                \r"
     ]
    },
    {
     "name": "stdout",
     "output_type": "stream",
     "text": [
      "Italy - Serie A events have been written to CSV.\n"
     ]
    },
    {
     "name": "stderr",
     "output_type": "stream",
     "text": [
      "                                                                                \r"
     ]
    },
    {
     "name": "stdout",
     "output_type": "stream",
     "text": [
      "England - Premier League events have been written to CSV.\n"
     ]
    },
    {
     "name": "stderr",
     "output_type": "stream",
     "text": [
      "                                                                                \r"
     ]
    },
    {
     "name": "stdout",
     "output_type": "stream",
     "text": [
      "Germany - 1. Bundesliga events have been written to CSV.\n"
     ]
    },
    {
     "name": "stderr",
     "output_type": "stream",
     "text": [
      "                                                                                \r"
     ]
    },
    {
     "name": "stdout",
     "output_type": "stream",
     "text": [
      "International - FIFA World Cup events have been written to CSV.\n"
     ]
    },
    {
     "name": "stderr",
     "output_type": "stream",
     "text": [
      "                                                                                \r"
     ]
    },
    {
     "name": "stdout",
     "output_type": "stream",
     "text": [
      "Europe - UEFA Euro events have been written to CSV.\n"
     ]
    },
    {
     "name": "stderr",
     "output_type": "stream",
     "text": [
      "                                                                                \r"
     ]
    },
    {
     "name": "stdout",
     "output_type": "stream",
     "text": [
      "Africa - African Cup of Nations events have been written to CSV.\n"
     ]
    },
    {
     "name": "stderr",
     "output_type": "stream",
     "text": [
      "                                                                                \r"
     ]
    },
    {
     "name": "stdout",
     "output_type": "stream",
     "text": [
      "South America - Copa America events have been written to CSV.\n"
     ]
    },
    {
     "name": "stderr",
     "output_type": "stream",
     "text": [
      "                                                                                \r"
     ]
    },
    {
     "name": "stdout",
     "output_type": "stream",
     "text": [
      "United States of America - Major League Soccer events have been written to CSV.\n"
     ]
    },
    {
     "name": "stderr",
     "output_type": "stream",
     "text": [
      "[Stage 127:>                                                        (0 + 1) / 1]\r"
     ]
    },
    {
     "name": "stdout",
     "output_type": "stream",
     "text": [
      "Europe - Champions League events have been written to CSV.\n"
     ]
    },
    {
     "name": "stderr",
     "output_type": "stream",
     "text": [
      "                                                                                \r"
     ]
    }
   ],
   "source": [
    "for competition, df in dataframes.items():\n",
    "    df.coalesce(1).write.csv(f\"Split_Data/events/{competition}.csv\", header=True, sep=\";\")\n",
    "    print(f\"{competition} events have been written to CSV.\")"
   ]
  },
  {
   "cell_type": "code",
   "execution_count": 22,
   "metadata": {},
   "outputs": [],
   "source": [
    "import pandas as pd\n",
    "\n",
    "df_1 = pd.read_csv(\"/home/aniss/xG-model/Split_Data/events/England - Premier League.csv/part-00000-3ce8fb6f-bae6-480c-8a93-ba28082dc55a-c000.csv\",\n",
    "                   sep=\";\",low_memory=False)"
   ]
  },
  {
   "cell_type": "code",
   "execution_count": 23,
   "metadata": {},
   "outputs": [
    {
     "data": {
      "text/html": [
       "<div>\n",
       "<style scoped>\n",
       "    .dataframe tbody tr th:only-of-type {\n",
       "        vertical-align: middle;\n",
       "    }\n",
       "\n",
       "    .dataframe tbody tr th {\n",
       "        vertical-align: top;\n",
       "    }\n",
       "\n",
       "    .dataframe thead th {\n",
       "        text-align: right;\n",
       "    }\n",
       "</style>\n",
       "<table border=\"1\" class=\"dataframe\">\n",
       "  <thead>\n",
       "    <tr style=\"text-align: right;\">\n",
       "      <th></th>\n",
       "      <th>50_50</th>\n",
       "      <th>ball_receipt_outcome</th>\n",
       "      <th>ball_recovery_recovery_failure</th>\n",
       "      <th>carry_end_location</th>\n",
       "      <th>clearance_aerial_won</th>\n",
       "      <th>counterpress</th>\n",
       "      <th>dribble_nutmeg</th>\n",
       "      <th>dribble_outcome</th>\n",
       "      <th>dribble_overrun</th>\n",
       "      <th>duel_outcome</th>\n",
       "      <th>...</th>\n",
       "      <th>goalkeeper_shot_saved_off_target</th>\n",
       "      <th>shot_saved_off_target</th>\n",
       "      <th>shot_follows_dribble</th>\n",
       "      <th>dribble_no_touch</th>\n",
       "      <th>goalkeeper_lost_out</th>\n",
       "      <th>half_start_late_video_start</th>\n",
       "      <th>goalkeeper_lost_in_play</th>\n",
       "      <th>goalkeeper_penalty_saved_to_post</th>\n",
       "      <th>goalkeeper_saved_to_post</th>\n",
       "      <th>goalkeeper_success_out</th>\n",
       "    </tr>\n",
       "  </thead>\n",
       "  <tbody>\n",
       "    <tr>\n",
       "      <th>0</th>\n",
       "      <td>NaN</td>\n",
       "      <td>NaN</td>\n",
       "      <td>NaN</td>\n",
       "      <td>NaN</td>\n",
       "      <td>NaN</td>\n",
       "      <td>NaN</td>\n",
       "      <td>NaN</td>\n",
       "      <td>NaN</td>\n",
       "      <td>NaN</td>\n",
       "      <td>NaN</td>\n",
       "      <td>...</td>\n",
       "      <td>NaN</td>\n",
       "      <td>NaN</td>\n",
       "      <td>NaN</td>\n",
       "      <td>NaN</td>\n",
       "      <td>NaN</td>\n",
       "      <td>NaN</td>\n",
       "      <td>NaN</td>\n",
       "      <td>NaN</td>\n",
       "      <td>NaN</td>\n",
       "      <td>NaN</td>\n",
       "    </tr>\n",
       "    <tr>\n",
       "      <th>1</th>\n",
       "      <td>NaN</td>\n",
       "      <td>NaN</td>\n",
       "      <td>NaN</td>\n",
       "      <td>NaN</td>\n",
       "      <td>NaN</td>\n",
       "      <td>NaN</td>\n",
       "      <td>NaN</td>\n",
       "      <td>NaN</td>\n",
       "      <td>NaN</td>\n",
       "      <td>NaN</td>\n",
       "      <td>...</td>\n",
       "      <td>NaN</td>\n",
       "      <td>NaN</td>\n",
       "      <td>NaN</td>\n",
       "      <td>NaN</td>\n",
       "      <td>NaN</td>\n",
       "      <td>NaN</td>\n",
       "      <td>NaN</td>\n",
       "      <td>NaN</td>\n",
       "      <td>NaN</td>\n",
       "      <td>NaN</td>\n",
       "    </tr>\n",
       "    <tr>\n",
       "      <th>2</th>\n",
       "      <td>NaN</td>\n",
       "      <td>NaN</td>\n",
       "      <td>NaN</td>\n",
       "      <td>NaN</td>\n",
       "      <td>NaN</td>\n",
       "      <td>NaN</td>\n",
       "      <td>NaN</td>\n",
       "      <td>NaN</td>\n",
       "      <td>NaN</td>\n",
       "      <td>NaN</td>\n",
       "      <td>...</td>\n",
       "      <td>NaN</td>\n",
       "      <td>NaN</td>\n",
       "      <td>NaN</td>\n",
       "      <td>NaN</td>\n",
       "      <td>NaN</td>\n",
       "      <td>NaN</td>\n",
       "      <td>NaN</td>\n",
       "      <td>NaN</td>\n",
       "      <td>NaN</td>\n",
       "      <td>NaN</td>\n",
       "    </tr>\n",
       "    <tr>\n",
       "      <th>3</th>\n",
       "      <td>NaN</td>\n",
       "      <td>NaN</td>\n",
       "      <td>NaN</td>\n",
       "      <td>NaN</td>\n",
       "      <td>NaN</td>\n",
       "      <td>NaN</td>\n",
       "      <td>NaN</td>\n",
       "      <td>NaN</td>\n",
       "      <td>NaN</td>\n",
       "      <td>NaN</td>\n",
       "      <td>...</td>\n",
       "      <td>NaN</td>\n",
       "      <td>NaN</td>\n",
       "      <td>NaN</td>\n",
       "      <td>NaN</td>\n",
       "      <td>NaN</td>\n",
       "      <td>NaN</td>\n",
       "      <td>NaN</td>\n",
       "      <td>NaN</td>\n",
       "      <td>NaN</td>\n",
       "      <td>NaN</td>\n",
       "    </tr>\n",
       "    <tr>\n",
       "      <th>4</th>\n",
       "      <td>NaN</td>\n",
       "      <td>NaN</td>\n",
       "      <td>NaN</td>\n",
       "      <td>NaN</td>\n",
       "      <td>NaN</td>\n",
       "      <td>NaN</td>\n",
       "      <td>NaN</td>\n",
       "      <td>NaN</td>\n",
       "      <td>NaN</td>\n",
       "      <td>NaN</td>\n",
       "      <td>...</td>\n",
       "      <td>NaN</td>\n",
       "      <td>NaN</td>\n",
       "      <td>NaN</td>\n",
       "      <td>NaN</td>\n",
       "      <td>NaN</td>\n",
       "      <td>NaN</td>\n",
       "      <td>NaN</td>\n",
       "      <td>NaN</td>\n",
       "      <td>NaN</td>\n",
       "      <td>NaN</td>\n",
       "    </tr>\n",
       "    <tr>\n",
       "      <th>...</th>\n",
       "      <td>...</td>\n",
       "      <td>...</td>\n",
       "      <td>...</td>\n",
       "      <td>...</td>\n",
       "      <td>...</td>\n",
       "      <td>...</td>\n",
       "      <td>...</td>\n",
       "      <td>...</td>\n",
       "      <td>...</td>\n",
       "      <td>...</td>\n",
       "      <td>...</td>\n",
       "      <td>...</td>\n",
       "      <td>...</td>\n",
       "      <td>...</td>\n",
       "      <td>...</td>\n",
       "      <td>...</td>\n",
       "      <td>...</td>\n",
       "      <td>...</td>\n",
       "      <td>...</td>\n",
       "      <td>...</td>\n",
       "      <td>...</td>\n",
       "    </tr>\n",
       "    <tr>\n",
       "      <th>1313778</th>\n",
       "      <td>NaN</td>\n",
       "      <td>NaN</td>\n",
       "      <td>NaN</td>\n",
       "      <td>NaN</td>\n",
       "      <td>NaN</td>\n",
       "      <td>NaN</td>\n",
       "      <td>NaN</td>\n",
       "      <td>NaN</td>\n",
       "      <td>NaN</td>\n",
       "      <td>NaN</td>\n",
       "      <td>...</td>\n",
       "      <td>NaN</td>\n",
       "      <td>NaN</td>\n",
       "      <td>NaN</td>\n",
       "      <td>NaN</td>\n",
       "      <td>NaN</td>\n",
       "      <td>NaN</td>\n",
       "      <td>NaN</td>\n",
       "      <td>NaN</td>\n",
       "      <td>NaN</td>\n",
       "      <td>NaN</td>\n",
       "    </tr>\n",
       "    <tr>\n",
       "      <th>1313779</th>\n",
       "      <td>NaN</td>\n",
       "      <td>NaN</td>\n",
       "      <td>NaN</td>\n",
       "      <td>NaN</td>\n",
       "      <td>NaN</td>\n",
       "      <td>NaN</td>\n",
       "      <td>NaN</td>\n",
       "      <td>NaN</td>\n",
       "      <td>NaN</td>\n",
       "      <td>NaN</td>\n",
       "      <td>...</td>\n",
       "      <td>NaN</td>\n",
       "      <td>NaN</td>\n",
       "      <td>NaN</td>\n",
       "      <td>NaN</td>\n",
       "      <td>NaN</td>\n",
       "      <td>NaN</td>\n",
       "      <td>NaN</td>\n",
       "      <td>NaN</td>\n",
       "      <td>NaN</td>\n",
       "      <td>NaN</td>\n",
       "    </tr>\n",
       "    <tr>\n",
       "      <th>1313780</th>\n",
       "      <td>NaN</td>\n",
       "      <td>NaN</td>\n",
       "      <td>NaN</td>\n",
       "      <td>NaN</td>\n",
       "      <td>NaN</td>\n",
       "      <td>NaN</td>\n",
       "      <td>NaN</td>\n",
       "      <td>NaN</td>\n",
       "      <td>NaN</td>\n",
       "      <td>NaN</td>\n",
       "      <td>...</td>\n",
       "      <td>NaN</td>\n",
       "      <td>NaN</td>\n",
       "      <td>NaN</td>\n",
       "      <td>NaN</td>\n",
       "      <td>NaN</td>\n",
       "      <td>NaN</td>\n",
       "      <td>NaN</td>\n",
       "      <td>NaN</td>\n",
       "      <td>NaN</td>\n",
       "      <td>NaN</td>\n",
       "    </tr>\n",
       "    <tr>\n",
       "      <th>1313781</th>\n",
       "      <td>NaN</td>\n",
       "      <td>NaN</td>\n",
       "      <td>NaN</td>\n",
       "      <td>NaN</td>\n",
       "      <td>NaN</td>\n",
       "      <td>NaN</td>\n",
       "      <td>NaN</td>\n",
       "      <td>NaN</td>\n",
       "      <td>NaN</td>\n",
       "      <td>NaN</td>\n",
       "      <td>...</td>\n",
       "      <td>NaN</td>\n",
       "      <td>NaN</td>\n",
       "      <td>NaN</td>\n",
       "      <td>NaN</td>\n",
       "      <td>NaN</td>\n",
       "      <td>NaN</td>\n",
       "      <td>NaN</td>\n",
       "      <td>NaN</td>\n",
       "      <td>NaN</td>\n",
       "      <td>NaN</td>\n",
       "    </tr>\n",
       "    <tr>\n",
       "      <th>1313782</th>\n",
       "      <td>NaN</td>\n",
       "      <td>NaN</td>\n",
       "      <td>NaN</td>\n",
       "      <td>NaN</td>\n",
       "      <td>NaN</td>\n",
       "      <td>NaN</td>\n",
       "      <td>NaN</td>\n",
       "      <td>NaN</td>\n",
       "      <td>NaN</td>\n",
       "      <td>NaN</td>\n",
       "      <td>...</td>\n",
       "      <td>NaN</td>\n",
       "      <td>NaN</td>\n",
       "      <td>NaN</td>\n",
       "      <td>NaN</td>\n",
       "      <td>NaN</td>\n",
       "      <td>NaN</td>\n",
       "      <td>NaN</td>\n",
       "      <td>NaN</td>\n",
       "      <td>NaN</td>\n",
       "      <td>NaN</td>\n",
       "    </tr>\n",
       "  </tbody>\n",
       "</table>\n",
       "<p>1313783 rows × 122 columns</p>\n",
       "</div>"
      ],
      "text/plain": [
       "        50_50 ball_receipt_outcome ball_recovery_recovery_failure  \\\n",
       "0         NaN                  NaN                            NaN   \n",
       "1         NaN                  NaN                            NaN   \n",
       "2         NaN                  NaN                            NaN   \n",
       "3         NaN                  NaN                            NaN   \n",
       "4         NaN                  NaN                            NaN   \n",
       "...       ...                  ...                            ...   \n",
       "1313778   NaN                  NaN                            NaN   \n",
       "1313779   NaN                  NaN                            NaN   \n",
       "1313780   NaN                  NaN                            NaN   \n",
       "1313781   NaN                  NaN                            NaN   \n",
       "1313782   NaN                  NaN                            NaN   \n",
       "\n",
       "        carry_end_location clearance_aerial_won counterpress dribble_nutmeg  \\\n",
       "0                      NaN                  NaN          NaN            NaN   \n",
       "1                      NaN                  NaN          NaN            NaN   \n",
       "2                      NaN                  NaN          NaN            NaN   \n",
       "3                      NaN                  NaN          NaN            NaN   \n",
       "4                      NaN                  NaN          NaN            NaN   \n",
       "...                    ...                  ...          ...            ...   \n",
       "1313778                NaN                  NaN          NaN            NaN   \n",
       "1313779                NaN                  NaN          NaN            NaN   \n",
       "1313780                NaN                  NaN          NaN            NaN   \n",
       "1313781                NaN                  NaN          NaN            NaN   \n",
       "1313782                NaN                  NaN          NaN            NaN   \n",
       "\n",
       "        dribble_outcome dribble_overrun duel_outcome  ...  \\\n",
       "0                   NaN             NaN          NaN  ...   \n",
       "1                   NaN             NaN          NaN  ...   \n",
       "2                   NaN             NaN          NaN  ...   \n",
       "3                   NaN             NaN          NaN  ...   \n",
       "4                   NaN             NaN          NaN  ...   \n",
       "...                 ...             ...          ...  ...   \n",
       "1313778             NaN             NaN          NaN  ...   \n",
       "1313779             NaN             NaN          NaN  ...   \n",
       "1313780             NaN             NaN          NaN  ...   \n",
       "1313781             NaN             NaN          NaN  ...   \n",
       "1313782             NaN             NaN          NaN  ...   \n",
       "\n",
       "        goalkeeper_shot_saved_off_target  shot_saved_off_target  \\\n",
       "0                                    NaN                    NaN   \n",
       "1                                    NaN                    NaN   \n",
       "2                                    NaN                    NaN   \n",
       "3                                    NaN                    NaN   \n",
       "4                                    NaN                    NaN   \n",
       "...                                  ...                    ...   \n",
       "1313778                              NaN                    NaN   \n",
       "1313779                              NaN                    NaN   \n",
       "1313780                              NaN                    NaN   \n",
       "1313781                              NaN                    NaN   \n",
       "1313782                              NaN                    NaN   \n",
       "\n",
       "        shot_follows_dribble dribble_no_touch goalkeeper_lost_out  \\\n",
       "0                        NaN              NaN                 NaN   \n",
       "1                        NaN              NaN                 NaN   \n",
       "2                        NaN              NaN                 NaN   \n",
       "3                        NaN              NaN                 NaN   \n",
       "4                        NaN              NaN                 NaN   \n",
       "...                      ...              ...                 ...   \n",
       "1313778                  NaN              NaN                 NaN   \n",
       "1313779                  NaN              NaN                 NaN   \n",
       "1313780                  NaN              NaN                 NaN   \n",
       "1313781                  NaN              NaN                 NaN   \n",
       "1313782                  NaN              NaN                 NaN   \n",
       "\n",
       "        half_start_late_video_start goalkeeper_lost_in_play  \\\n",
       "0                               NaN                     NaN   \n",
       "1                               NaN                     NaN   \n",
       "2                               NaN                     NaN   \n",
       "3                               NaN                     NaN   \n",
       "4                               NaN                     NaN   \n",
       "...                             ...                     ...   \n",
       "1313778                         NaN                     NaN   \n",
       "1313779                         NaN                     NaN   \n",
       "1313780                         NaN                     NaN   \n",
       "1313781                         NaN                     NaN   \n",
       "1313782                         NaN                     NaN   \n",
       "\n",
       "        goalkeeper_penalty_saved_to_post goalkeeper_saved_to_post  \\\n",
       "0                                    NaN                      NaN   \n",
       "1                                    NaN                      NaN   \n",
       "2                                    NaN                      NaN   \n",
       "3                                    NaN                      NaN   \n",
       "4                                    NaN                      NaN   \n",
       "...                                  ...                      ...   \n",
       "1313778                              NaN                      NaN   \n",
       "1313779                              NaN                      NaN   \n",
       "1313780                              NaN                      NaN   \n",
       "1313781                              NaN                      NaN   \n",
       "1313782                              NaN                      NaN   \n",
       "\n",
       "        goalkeeper_success_out  \n",
       "0                          NaN  \n",
       "1                          NaN  \n",
       "2                          NaN  \n",
       "3                          NaN  \n",
       "4                          NaN  \n",
       "...                        ...  \n",
       "1313778                    NaN  \n",
       "1313779                    NaN  \n",
       "1313780                    NaN  \n",
       "1313781                    NaN  \n",
       "1313782                    NaN  \n",
       "\n",
       "[1313783 rows x 122 columns]"
      ]
     },
     "execution_count": 23,
     "metadata": {},
     "output_type": "execute_result"
    }
   ],
   "source": [
    "df_1"
   ]
  },
  {
   "cell_type": "code",
   "execution_count": null,
   "metadata": {},
   "outputs": [],
   "source": [
    "df.coalesce(1).write.mode(\"overwrite\").option(\"header\", \"true\").csv(\"output_path\")"
   ]
  }
 ],
 "metadata": {
  "kernelspec": {
   "display_name": "myenv",
   "language": "python",
   "name": "python3"
  },
  "language_info": {
   "codemirror_mode": {
    "name": "ipython",
    "version": 3
   },
   "file_extension": ".py",
   "mimetype": "text/x-python",
   "name": "python",
   "nbconvert_exporter": "python",
   "pygments_lexer": "ipython3",
   "version": "3.12.3"
  }
 },
 "nbformat": 4,
 "nbformat_minor": 2
}
