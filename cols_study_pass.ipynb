{
 "cells": [
  {
   "cell_type": "code",
   "execution_count": 1,
   "metadata": {},
   "outputs": [],
   "source": [
    "from pyspark.sql import SparkSession\n",
    "import pyspark.sql.functions as F"
   ]
  },
  {
   "cell_type": "code",
   "execution_count": 3,
   "metadata": {},
   "outputs": [],
   "source": [
    "spark = SparkSession.builder.appName('Pass_columns').getOrCreate()"
   ]
  },
  {
   "cell_type": "code",
   "execution_count": 4,
   "metadata": {},
   "outputs": [
    {
     "name": "stderr",
     "output_type": "stream",
     "text": [
      "25/02/08 00:17:05 WARN GarbageCollectionMetrics: To enable non-built-in garbage collector(s) List(G1 Concurrent GC), users should configure it(them) to spark.eventLog.gcMetrics.youngGenerationGarbageCollectors or spark.eventLog.gcMetrics.oldGenerationGarbageCollectors\n",
      "                                                                                \r"
     ]
    }
   ],
   "source": [
    "Shot = spark.read.csv('Dataset/events/Spain - La Liga.csv', header=True, inferSchema=True, sep=';')"
   ]
  },
  {
   "cell_type": "code",
   "execution_count": 5,
   "metadata": {},
   "outputs": [],
   "source": [
    "Shot_assist = Shot.filter(Shot.pass_assisted_shot_id.isNotNull())"
   ]
  },
  {
   "cell_type": "code",
   "execution_count": null,
   "metadata": {},
   "outputs": [
    {
     "name": "stderr",
     "output_type": "stream",
     "text": [
      "                                                                                \r"
     ]
    }
   ],
   "source": [
    "# get only the columns that are not null when the pass is an assist\n",
    "pass_cols = []\n",
    "for cols in Shot_assist.columns:\n",
    "    if Shot_assist.filter(F.col(cols).isNull()).count() != Shot_assist.count():\n",
    "        pass_cols.append(cols)"
   ]
  },
  {
   "cell_type": "code",
   "execution_count": 6,
   "metadata": {},
   "outputs": [],
   "source": [
    "pass_cols = ['counterpress', 'duration', 'id', 'index', 'location', 'match_id', 'minute', 'pass_aerial_won', 'pass_angle',\n",
    "             'pass_assisted_shot_id', 'pass_body_part', 'pass_cross', 'pass_cut_back', 'pass_deflected', 'pass_end_location',\n",
    "             'pass_goal_assist', 'pass_height', 'pass_length', 'pass_recipient', 'pass_recipient_id', 'pass_shot_assist',\n",
    "             'pass_switch', 'pass_type', 'period', 'play_pattern', 'player', 'player_id', 'position', 'possession', 'possession_team',\n",
    "             'possession_team_id', 'related_events', 'second', 'team', 'team_id', 'timestamp', 'type', 'under_pressure', 'competition',\n",
    "             'season', 'pass_technique', 'pass_through_ball', 'off_camera', 'pass_inswinging', 'pass_outswinging', 'pass_straight',\n",
    "             'pass_no_touch']"
   ]
  },
  {
   "cell_type": "markdown",
   "metadata": {},
   "source": [
    "### Splitting Columns"
   ]
  },
  {
   "cell_type": "code",
   "execution_count": null,
   "metadata": {},
   "outputs": [],
   "source": [
    "identify_cols = ['id', 'player_id', 'type', 'pass_assisted_shot_id']\n",
    "\n",
    "features_cols = ['counterpress', 'pass_aerial_won', 'pass_angle', 'pass_body_part', 'pass_cross', 'pass_cut_back',\n",
    "                 'pass_deflected', 'pass_height', 'pass_length', 'pass_shot_assist', 'pass_switch', 'pass_type',\n",
    "                 'play_pattern', 'under_pressure', 'pass_technique', 'pass_through_ball', 'pass_inswinging', 'pass_outswinging',\n",
    "                 'pass_straight', 'pass_no_touch']\n",
    "\n",
    "dropped_cols  = ['duration', 'match_id', 'period', 'position', 'team_id', 'index', 'minute', 'pass_end_location', 'pass_goal_assist',\n",
    "                 'pass_recipient', 'pass_recipient_id', 'player_id', 'player', 'possession', 'possession_team', 'possession_team_id',\n",
    "                 'related_events', 'second', 'team', 'timestamp', 'location', 'off_camera', 'competition', 'season']"
   ]
  },
  {
   "cell_type": "code",
   "execution_count": null,
   "metadata": {},
   "outputs": [
    {
     "name": "stdout",
     "output_type": "stream",
     "text": [
      "+--------------------+---------+----+------------+---------------+-----------+---------------------+--------------+----------+-------------+--------------+-----------+-----------+----------------+-----------+---------+--------------+--------------+--------------+-----------------+---------------+----------------+-------------+-------------+\n",
      "|                  id|player_id|type|counterpress|pass_aerial_won| pass_angle|pass_assisted_shot_id|pass_body_part|pass_cross|pass_cut_back|pass_deflected|pass_height|pass_length|pass_shot_assist|pass_switch|pass_type|  play_pattern|under_pressure|pass_technique|pass_through_ball|pass_inswinging|pass_outswinging|pass_straight|pass_no_touch|\n",
      "+--------------------+---------+----+------------+---------------+-----------+---------------------+--------------+----------+-------------+--------------+-----------+-----------+----------------+-----------+---------+--------------+--------------+--------------+-----------------+---------------+----------------+-------------+-------------+\n",
      "|92f50ac4-2f1c-422...|   6826.0|Pass|        NULL|           NULL| 0.06490869| c5341577-e1ca-474...|     Left Foot|      NULL|         NULL|          NULL|Ground Pass|   40.08441|            true|       NULL|     NULL| From Throw In|          NULL|  Through Ball|             true|           NULL|            NULL|         NULL|         NULL|\n",
      "|af98e1f8-eaab-461...|  24049.0|Pass|        NULL|           NULL|  1.3372719| 1aedaf9e-bc12-4d0...|     Left Foot|      true|         NULL|          NULL|Ground Pass|    42.3495|            true|       true|     NULL|  Regular Play|          NULL|          NULL|             NULL|           NULL|            NULL|         NULL|         NULL|\n",
      "|858fd5af-4ea6-427...|  30756.0|Pass|        NULL|           NULL|  1.7662871| 96b28bfc-d174-4b3...|     Left Foot|      NULL|         NULL|          NULL|Ground Pass|  10.296116|            true|       NULL|     NULL| From Throw In|          NULL|          NULL|             NULL|           NULL|            NULL|         NULL|         NULL|\n",
      "|6cccfc2b-30f9-459...|   6379.0|Pass|        NULL|           NULL|-0.83823353| 5eeab880-4efe-4bc...|    Right Foot|      NULL|         NULL|          NULL|  High Pass|  29.456747|            true|       NULL|     NULL|From Free Kick|          NULL|          NULL|             NULL|           NULL|            NULL|         NULL|         NULL|\n",
      "|6841ceac-83e1-4fa...|  30756.0|Pass|        NULL|           NULL|  1.7126933| 510062b4-1210-46e...|    Right Foot|      NULL|         NULL|          NULL|Ground Pass|  12.020815|            true|       NULL|     NULL|From Goal Kick|          NULL|          NULL|             NULL|           NULL|            NULL|         NULL|         NULL|\n",
      "|b4337709-ce1d-400...|  30756.0|Pass|        NULL|           NULL|-0.32175055| ce93dbcd-25d3-4a2...|      No Touch|      NULL|         NULL|          NULL|Ground Pass|   5.375872|            true|       NULL|     NULL|  Regular Play|          NULL|          NULL|             NULL|           NULL|            NULL|         NULL|         true|\n",
      "|ece42874-634f-4d2...|  30486.0|Pass|        NULL|           NULL| 0.79457223| 759f002e-906d-4e6...|    Right Foot|      NULL|         NULL|          NULL|Ground Pass|  7.7077885|            true|       NULL|     NULL| From Throw In|          NULL|          NULL|             NULL|           NULL|            NULL|         NULL|         NULL|\n",
      "|5644a791-2f1a-4b3...|   6379.0|Pass|        NULL|           NULL| -0.8519663| 992051dc-65fe-47e...|    Right Foot|      NULL|         NULL|          NULL|  High Pass|  29.764408|            true|       NULL|     NULL| From Throw In|          NULL|          NULL|             NULL|           NULL|            NULL|         NULL|         NULL|\n",
      "|660dd019-74f0-462...|   6379.0|Pass|        NULL|           NULL|-0.47145995| e8bf334b-5fec-46e...|    Right Foot|      NULL|         NULL|          NULL|Ground Pass|   5.724509|            true|       NULL|     NULL| From Throw In|          NULL|          NULL|             NULL|           NULL|            NULL|         NULL|         NULL|\n",
      "|38f751f3-9054-40e...|   5503.0|Pass|        NULL|           NULL| -1.5798051| ba5ab9ce-69e0-496...|     Left Foot|      NULL|         NULL|          NULL|Ground Pass|   33.30135|            true|       NULL|Free Kick|From Free Kick|          NULL|          NULL|             NULL|           NULL|            NULL|         NULL|         NULL|\n",
      "+--------------------+---------+----+------------+---------------+-----------+---------------------+--------------+----------+-------------+--------------+-----------+-----------+----------------+-----------+---------+--------------+--------------+--------------+-----------------+---------------+----------------+-------------+-------------+\n",
      "only showing top 10 rows\n",
      "\n"
     ]
    }
   ],
   "source": [
    "Shot_assist.select(identify_cols + features_cols).show(10)"
   ]
  },
  {
   "cell_type": "code",
   "execution_count": 11,
   "metadata": {},
   "outputs": [
    {
     "name": "stdout",
     "output_type": "stream",
     "text": [
      "root\n",
      " |-- id: string (nullable = true)\n",
      " |-- player_id: double (nullable = true)\n",
      " |-- type: string (nullable = true)\n",
      " |-- counterpress: boolean (nullable = true)\n",
      " |-- pass_aerial_won: boolean (nullable = true)\n",
      " |-- pass_angle: double (nullable = true)\n",
      " |-- pass_assisted_shot_id: string (nullable = true)\n",
      " |-- pass_body_part: string (nullable = true)\n",
      " |-- pass_cross: boolean (nullable = true)\n",
      " |-- pass_cut_back: boolean (nullable = true)\n",
      " |-- pass_deflected: boolean (nullable = true)\n",
      " |-- pass_height: string (nullable = true)\n",
      " |-- pass_length: double (nullable = true)\n",
      " |-- pass_shot_assist: boolean (nullable = true)\n",
      " |-- pass_switch: boolean (nullable = true)\n",
      " |-- pass_type: string (nullable = true)\n",
      " |-- play_pattern: string (nullable = true)\n",
      " |-- under_pressure: boolean (nullable = true)\n",
      " |-- pass_technique: string (nullable = true)\n",
      " |-- pass_through_ball: boolean (nullable = true)\n",
      " |-- pass_inswinging: boolean (nullable = true)\n",
      " |-- pass_outswinging: boolean (nullable = true)\n",
      " |-- pass_straight: boolean (nullable = true)\n",
      " |-- pass_no_touch: boolean (nullable = true)\n",
      "\n"
     ]
    }
   ],
   "source": [
    "Shot_assist.select(identify_cols + features_cols).printSchema()"
   ]
  },
  {
   "cell_type": "markdown",
   "metadata": {},
   "source": [
    "### Selecting Features"
   ]
  },
  {
   "cell_type": "markdown",
   "metadata": {},
   "source": [
    "#### Boolean variables"
   ]
  },
  {
   "cell_type": "code",
   "execution_count": null,
   "metadata": {},
   "outputs": [
    {
     "name": "stderr",
     "output_type": "stream",
     "text": [
      "                                                                                \r"
     ]
    },
    {
     "name": "stdout",
     "output_type": "stream",
     "text": [
      "+------------+-----+\n",
      "|counterpress|count|\n",
      "+------------+-----+\n",
      "|        NULL|10267|\n",
      "|        true|   17|\n",
      "+------------+-----+\n",
      "\n"
     ]
    },
    {
     "name": "stderr",
     "output_type": "stream",
     "text": [
      "                                                                                \r"
     ]
    },
    {
     "name": "stdout",
     "output_type": "stream",
     "text": [
      "+---------------+-----+\n",
      "|pass_aerial_won|count|\n",
      "+---------------+-----+\n",
      "|           NULL|10088|\n",
      "|           true|  196|\n",
      "+---------------+-----+\n",
      "\n"
     ]
    },
    {
     "name": "stderr",
     "output_type": "stream",
     "text": [
      "                                                                                \r"
     ]
    },
    {
     "name": "stdout",
     "output_type": "stream",
     "text": [
      "+----------+-----+\n",
      "|pass_cross|count|\n",
      "+----------+-----+\n",
      "|      NULL| 8144|\n",
      "|      true| 2140|\n",
      "+----------+-----+\n",
      "\n"
     ]
    },
    {
     "name": "stderr",
     "output_type": "stream",
     "text": [
      "                                                                                \r"
     ]
    },
    {
     "name": "stdout",
     "output_type": "stream",
     "text": [
      "+-------------+-----+\n",
      "|pass_cut_back|count|\n",
      "+-------------+-----+\n",
      "|         NULL| 9977|\n",
      "|         true|  307|\n",
      "+-------------+-----+\n",
      "\n"
     ]
    },
    {
     "name": "stderr",
     "output_type": "stream",
     "text": [
      "                                                                                \r"
     ]
    },
    {
     "name": "stdout",
     "output_type": "stream",
     "text": [
      "+--------------+-----+\n",
      "|pass_deflected|count|\n",
      "+--------------+-----+\n",
      "|          NULL|10270|\n",
      "|          true|   14|\n",
      "+--------------+-----+\n",
      "\n"
     ]
    },
    {
     "name": "stderr",
     "output_type": "stream",
     "text": [
      "                                                                                \r"
     ]
    },
    {
     "name": "stdout",
     "output_type": "stream",
     "text": [
      "+----------------+-----+\n",
      "|pass_shot_assist|count|\n",
      "+----------------+-----+\n",
      "|            NULL| 1182|\n",
      "|            true| 9102|\n",
      "+----------------+-----+\n",
      "\n"
     ]
    },
    {
     "name": "stderr",
     "output_type": "stream",
     "text": [
      "                                                                                \r"
     ]
    },
    {
     "name": "stdout",
     "output_type": "stream",
     "text": [
      "+-----------+-----+\n",
      "|pass_switch|count|\n",
      "+-----------+-----+\n",
      "|       NULL| 9619|\n",
      "|       true|  665|\n",
      "+-----------+-----+\n",
      "\n"
     ]
    },
    {
     "name": "stderr",
     "output_type": "stream",
     "text": [
      "                                                                                \r"
     ]
    },
    {
     "name": "stdout",
     "output_type": "stream",
     "text": [
      "+--------------+-----+\n",
      "|under_pressure|count|\n",
      "+--------------+-----+\n",
      "|          NULL| 8880|\n",
      "|          true| 1404|\n",
      "+--------------+-----+\n",
      "\n"
     ]
    },
    {
     "name": "stderr",
     "output_type": "stream",
     "text": [
      "                                                                                \r"
     ]
    },
    {
     "name": "stdout",
     "output_type": "stream",
     "text": [
      "+-----------------+-----+\n",
      "|pass_through_ball|count|\n",
      "+-----------------+-----+\n",
      "|             NULL| 9581|\n",
      "|             true|  703|\n",
      "+-----------------+-----+\n",
      "\n"
     ]
    },
    {
     "name": "stderr",
     "output_type": "stream",
     "text": [
      "                                                                                \r"
     ]
    },
    {
     "name": "stdout",
     "output_type": "stream",
     "text": [
      "+---------------+-----+\n",
      "|pass_inswinging|count|\n",
      "+---------------+-----+\n",
      "|           NULL|10015|\n",
      "|           true|  269|\n",
      "+---------------+-----+\n",
      "\n"
     ]
    },
    {
     "name": "stderr",
     "output_type": "stream",
     "text": [
      "                                                                                \r"
     ]
    },
    {
     "name": "stdout",
     "output_type": "stream",
     "text": [
      "+----------------+-----+\n",
      "|pass_outswinging|count|\n",
      "+----------------+-----+\n",
      "|            NULL| 9770|\n",
      "|            true|  514|\n",
      "+----------------+-----+\n",
      "\n"
     ]
    },
    {
     "name": "stderr",
     "output_type": "stream",
     "text": [
      "                                                                                \r"
     ]
    },
    {
     "name": "stdout",
     "output_type": "stream",
     "text": [
      "+-------------+-----+\n",
      "|pass_straight|count|\n",
      "+-------------+-----+\n",
      "|         NULL|10223|\n",
      "|         true|   61|\n",
      "+-------------+-----+\n",
      "\n"
     ]
    },
    {
     "name": "stderr",
     "output_type": "stream",
     "text": [
      "[Stage 42:>                                                       (0 + 12) / 12]\r"
     ]
    },
    {
     "name": "stdout",
     "output_type": "stream",
     "text": [
      "+-------------+-----+\n",
      "|pass_no_touch|count|\n",
      "+-------------+-----+\n",
      "|         NULL|10231|\n",
      "|         true|   53|\n",
      "+-------------+-----+\n",
      "\n"
     ]
    },
    {
     "name": "stderr",
     "output_type": "stream",
     "text": [
      "                                                                                \r"
     ]
    }
   ],
   "source": [
    "bool_vars = ['counterpress','pass_aerial_won','pass_cross','pass_cut_back','pass_deflected','pass_shot_assist','pass_switch',\n",
    "             'under_pressure','pass_through_ball','pass_inswinging','pass_outswinging','pass_straight','pass_no_touch']\n",
    "for va in bool_vars:\n",
    "    Shot_assist.groupBy(va).count().show()"
   ]
  },
  {
   "cell_type": "markdown",
   "metadata": {},
   "source": [
    "Since `counterpress` and `pass_deflected` have very few `true` values, we will drop them."
   ]
  },
  {
   "cell_type": "markdown",
   "metadata": {},
   "source": [
    "#### Categorical variables"
   ]
  },
  {
   "cell_type": "code",
   "execution_count": 19,
   "metadata": {},
   "outputs": [
    {
     "name": "stderr",
     "output_type": "stream",
     "text": [
      "                                                                                \r"
     ]
    },
    {
     "name": "stdout",
     "output_type": "stream",
     "text": [
      "+--------------+-----+\n",
      "|pass_body_part|count|\n",
      "+--------------+-----+\n",
      "|     Drop Kick|   10|\n",
      "|    Right Foot| 6162|\n",
      "|          NULL|  268|\n",
      "|     Left Foot| 3527|\n",
      "|          Head|  196|\n",
      "|      No Touch|   53|\n",
      "|         Other|   62|\n",
      "|    Keeper Arm|    6|\n",
      "+--------------+-----+\n",
      "\n"
     ]
    },
    {
     "name": "stderr",
     "output_type": "stream",
     "text": [
      "                                                                                \r"
     ]
    },
    {
     "name": "stdout",
     "output_type": "stream",
     "text": [
      "+-----------+-----+\n",
      "|pass_height|count|\n",
      "+-----------+-----+\n",
      "|Ground Pass| 5437|\n",
      "|   Low Pass| 1248|\n",
      "|  High Pass| 3599|\n",
      "+-----------+-----+\n",
      "\n"
     ]
    },
    {
     "name": "stderr",
     "output_type": "stream",
     "text": [
      "                                                                                \r"
     ]
    },
    {
     "name": "stdout",
     "output_type": "stream",
     "text": [
      "+------------+-----+\n",
      "|   pass_type|count|\n",
      "+------------+-----+\n",
      "|    Throw-in|   72|\n",
      "|        NULL| 8391|\n",
      "|   Goal Kick|    6|\n",
      "|      Corner|  883|\n",
      "|Interception|   28|\n",
      "|   Free Kick|  434|\n",
      "|    Recovery|  470|\n",
      "+------------+-----+\n",
      "\n"
     ]
    },
    {
     "name": "stderr",
     "output_type": "stream",
     "text": [
      "                                                                                \r"
     ]
    },
    {
     "name": "stdout",
     "output_type": "stream",
     "text": [
      "+--------------+-----+\n",
      "|  play_pattern|count|\n",
      "+--------------+-----+\n",
      "|  Regular Play| 3945|\n",
      "|   From Keeper|  163|\n",
      "|From Goal Kick|  419|\n",
      "| From Throw In| 1816|\n",
      "|         Other|    6|\n",
      "|   From Corner| 1588|\n",
      "| From Kick Off|  127|\n",
      "|  From Counter|  558|\n",
      "|From Free Kick| 1662|\n",
      "+--------------+-----+\n",
      "\n"
     ]
    },
    {
     "name": "stderr",
     "output_type": "stream",
     "text": [
      "[Stage 57:=========>                                              (2 + 10) / 12]\r"
     ]
    },
    {
     "name": "stdout",
     "output_type": "stream",
     "text": [
      "+--------------+-----+\n",
      "|pass_technique|count|\n",
      "+--------------+-----+\n",
      "|    Inswinging|  269|\n",
      "|          NULL| 8737|\n",
      "|   Outswinging|  514|\n",
      "|      Straight|   61|\n",
      "|  Through Ball|  703|\n",
      "+--------------+-----+\n",
      "\n"
     ]
    },
    {
     "name": "stderr",
     "output_type": "stream",
     "text": [
      "                                                                                \r"
     ]
    }
   ],
   "source": [
    "categorical_variables = ['pass_body_part','pass_height','pass_type','play_pattern','pass_technique']\n",
    "for j in categorical_variables:\n",
    "    Shot_assist.groupBy(j).count().show()"
   ]
  },
  {
   "cell_type": "markdown",
   "metadata": {},
   "source": [
    "`pass_body_part` will be kept for now.</br>\n",
    "`pass_height` will be encoded (0: Ground Pass, 1: Low Pass, 2: High Pass)</br>\n",
    "`pass_type` will be kept and compared with `play_pattern`</br>\n",
    "`play_pattern` beside being compared with `pass_type` it will also be compared with `play_pattern` of the shot</br>\n",
    "`pass_technique` apparantly it holds same information as the boolean variables, therefore this theory will be tested\n",
    "if found to be true, it will be dropped."
   ]
  },
  {
   "cell_type": "markdown",
   "metadata": {},
   "source": [
    "#### Selected features"
   ]
  },
  {
   "cell_type": "code",
   "execution_count": 61,
   "metadata": {},
   "outputs": [
    {
     "name": "stdout",
     "output_type": "stream",
     "text": [
      "+--------------------+---------------------+---------+--------------+--------------+-----------+---------+--------------+--------------+-----------+-----------+---------------+----------+-------------+-----------+-----------------+---------------+----------------+-------------+-------------+\n",
      "|                  id|pass_assisted_shot_id|player_id|under_pressure|pass_body_part|pass_height|pass_type|  play_pattern|pass_technique|pass_length| pass_angle|pass_aerial_won|pass_cross|pass_cut_back|pass_switch|pass_through_ball|pass_inswinging|pass_outswinging|pass_straight|pass_no_touch|\n",
      "+--------------------+---------------------+---------+--------------+--------------+-----------+---------+--------------+--------------+-----------+-----------+---------------+----------+-------------+-----------+-----------------+---------------+----------------+-------------+-------------+\n",
      "|92f50ac4-2f1c-422...| c5341577-e1ca-474...|   6826.0|          NULL|     Left Foot|Ground Pass|     NULL| From Throw In|  Through Ball|   40.08441| 0.06490869|           NULL|      NULL|         NULL|       NULL|             true|           NULL|            NULL|         NULL|         NULL|\n",
      "|af98e1f8-eaab-461...| 1aedaf9e-bc12-4d0...|  24049.0|          NULL|     Left Foot|Ground Pass|     NULL|  Regular Play|          NULL|    42.3495|  1.3372719|           NULL|      true|         NULL|       true|             NULL|           NULL|            NULL|         NULL|         NULL|\n",
      "|858fd5af-4ea6-427...| 96b28bfc-d174-4b3...|  30756.0|          NULL|     Left Foot|Ground Pass|     NULL| From Throw In|          NULL|  10.296116|  1.7662871|           NULL|      NULL|         NULL|       NULL|             NULL|           NULL|            NULL|         NULL|         NULL|\n",
      "|6cccfc2b-30f9-459...| 5eeab880-4efe-4bc...|   6379.0|          NULL|    Right Foot|  High Pass|     NULL|From Free Kick|          NULL|  29.456747|-0.83823353|           NULL|      NULL|         NULL|       NULL|             NULL|           NULL|            NULL|         NULL|         NULL|\n",
      "|6841ceac-83e1-4fa...| 510062b4-1210-46e...|  30756.0|          NULL|    Right Foot|Ground Pass|     NULL|From Goal Kick|          NULL|  12.020815|  1.7126933|           NULL|      NULL|         NULL|       NULL|             NULL|           NULL|            NULL|         NULL|         NULL|\n",
      "|b4337709-ce1d-400...| ce93dbcd-25d3-4a2...|  30756.0|          NULL|      No Touch|Ground Pass|     NULL|  Regular Play|          NULL|   5.375872|-0.32175055|           NULL|      NULL|         NULL|       NULL|             NULL|           NULL|            NULL|         NULL|         true|\n",
      "|ece42874-634f-4d2...| 759f002e-906d-4e6...|  30486.0|          NULL|    Right Foot|Ground Pass|     NULL| From Throw In|          NULL|  7.7077885| 0.79457223|           NULL|      NULL|         NULL|       NULL|             NULL|           NULL|            NULL|         NULL|         NULL|\n",
      "|5644a791-2f1a-4b3...| 992051dc-65fe-47e...|   6379.0|          NULL|    Right Foot|  High Pass|     NULL| From Throw In|          NULL|  29.764408| -0.8519663|           NULL|      NULL|         NULL|       NULL|             NULL|           NULL|            NULL|         NULL|         NULL|\n",
      "|660dd019-74f0-462...| e8bf334b-5fec-46e...|   6379.0|          NULL|    Right Foot|Ground Pass|     NULL| From Throw In|          NULL|   5.724509|-0.47145995|           NULL|      NULL|         NULL|       NULL|             NULL|           NULL|            NULL|         NULL|         NULL|\n",
      "|38f751f3-9054-40e...| ba5ab9ce-69e0-496...|   5503.0|          NULL|     Left Foot|Ground Pass|Free Kick|From Free Kick|          NULL|   33.30135| -1.5798051|           NULL|      NULL|         NULL|       NULL|             NULL|           NULL|            NULL|         NULL|         NULL|\n",
      "|35ff15ae-1335-4be...| feff0ad0-9d59-46c...|   6612.0|          NULL|     Left Foot|  High Pass|     NULL|From Goal Kick|          NULL|  32.626675|  1.1908591|           NULL|      true|         NULL|       NULL|             NULL|           NULL|            NULL|         NULL|         NULL|\n",
      "|29fecae2-c3af-434...| e092fe66-4fd7-40e...|  30486.0|          NULL|    Right Foot|Ground Pass|     NULL| From Throw In|          NULL|  11.607756|-0.39810455|           NULL|      NULL|         NULL|       NULL|             NULL|           NULL|            NULL|         NULL|         NULL|\n",
      "|b07d4bc4-b41a-43b...| 9474126e-22fa-4d5...|   5503.0|          NULL|     Left Foot|Ground Pass|     NULL|  Regular Play|          NULL|  19.911053| -1.0329608|           NULL|      NULL|         NULL|       NULL|             NULL|           NULL|            NULL|         NULL|         NULL|\n",
      "|9a0a0b4d-47f7-4bb...| d1eacbf8-fed7-434...|   8118.0|          NULL|    Right Foot|  High Pass|     NULL|  Regular Play|          NULL|   33.41751|  1.1647258|           NULL|      NULL|         NULL|       NULL|             NULL|           NULL|            NULL|         NULL|         NULL|\n",
      "|f9ae5cb8-4753-477...| 47204227-418b-4fd...|   6947.0|          NULL|    Right Foot|Ground Pass|     NULL|   From Corner|          NULL|  19.467152|  2.3089569|           NULL|      NULL|         NULL|       NULL|             NULL|           NULL|            NULL|         NULL|         NULL|\n",
      "|e0c064af-09ac-4a6...| 6c09c06a-9942-44d...|   5503.0|          NULL|     Left Foot|Ground Pass|Free Kick|From Free Kick|          NULL|   17.92038| -1.9419765|           NULL|      true|         NULL|       NULL|             NULL|           NULL|            NULL|         NULL|         NULL|\n",
      "|8a06ecc4-8807-42b...| 103e6d5f-c10d-4d2...|  30486.0|          NULL|    Right Foot|Ground Pass|     NULL|From Free Kick|          NULL|  21.418917| -1.9235561|           NULL|      NULL|         NULL|       NULL|             NULL|           NULL|            NULL|         NULL|         NULL|\n",
      "|4797b849-feba-453...| 232a77b0-107d-4bb...|   5503.0|          NULL|     Left Foot|  High Pass|     NULL|   From Corner|          NULL|  23.131147|  1.7402093|           NULL|      true|         NULL|       NULL|             NULL|           NULL|            NULL|         NULL|         NULL|\n",
      "|d379d79a-59bb-4bd...| 717dd9c4-5ec7-44d...|   6379.0|          NULL|    Right Foot|Ground Pass|     NULL| From Throw In|          NULL|   9.265528| -1.6897966|           NULL|      NULL|         NULL|       NULL|             NULL|           NULL|            NULL|         NULL|         NULL|\n",
      "|e87aabea-780c-493...| 18b170d0-3001-4e7...|   6379.0|          NULL|    Right Foot|Ground Pass|     NULL|   From Corner|          NULL|  23.681215| -2.2244322|           NULL|      NULL|         NULL|       NULL|             NULL|           NULL|            NULL|         NULL|         NULL|\n",
      "+--------------------+---------------------+---------+--------------+--------------+-----------+---------+--------------+--------------+-----------+-----------+---------------+----------+-------------+-----------+-----------------+---------------+----------------+-------------+-------------+\n",
      "only showing top 20 rows\n",
      "\n"
     ]
    }
   ],
   "source": [
    "PASS_FEATURES = ['id', 'pass_assisted_shot_id', 'player_id', 'under_pressure', 'pass_body_part', 'pass_height',\n",
    "                 'pass_type', 'play_pattern','pass_technique', 'pass_length', 'pass_angle', \n",
    "                 'pass_aerial_won', 'pass_cross', 'pass_cut_back', 'pass_switch', 'pass_through_ball', 'pass_inswinging',\n",
    "                 'pass_outswinging', 'pass_straight', 'pass_no_touch']\n",
    "Passes = Shot_assist.select(PASS_FEATURES)\n",
    "Passes.show()"
   ]
  },
  {
   "cell_type": "markdown",
   "metadata": {},
   "source": [
    "### Preprocessing"
   ]
  },
  {
   "cell_type": "code",
   "execution_count": 62,
   "metadata": {},
   "outputs": [],
   "source": [
    "# Pass height\n",
    "Passes = Passes.withColumn('pass_height',F.when(F.col('pass_height')=='Ground Pass', 0)\\\n",
    "    .when(F.col('pass_height')=='Low Pass', 1).otherwise(2))"
   ]
  },
  {
   "cell_type": "code",
   "execution_count": 63,
   "metadata": {},
   "outputs": [
    {
     "name": "stderr",
     "output_type": "stream",
     "text": [
      "[Stage 121:=====================================>                  (8 + 4) / 12]\r"
     ]
    },
    {
     "name": "stdout",
     "output_type": "stream",
     "text": [
      "+------------+--------------+-----+\n",
      "|   pass_type|  play_pattern|count|\n",
      "+------------+--------------+-----+\n",
      "|        NULL|  Regular Play| 3771|\n",
      "|        NULL|   From Keeper|  160|\n",
      "|        NULL|From Goal Kick|  387|\n",
      "|        NULL| From Throw In| 1657|\n",
      "|        NULL|         Other|    6|\n",
      "|        NULL|   From Corner|  639|\n",
      "|        NULL| From Kick Off|  120|\n",
      "|        NULL|  From Counter|  490|\n",
      "|        NULL|From Free Kick| 1161|\n",
      "|      Corner|   From Corner|  883|\n",
      "|   Free Kick|From Free Kick|  434|\n",
      "|   Goal Kick|From Goal Kick|    6|\n",
      "|Interception|  Regular Play|   14|\n",
      "|Interception|  From Counter|    8|\n",
      "|Interception| From Throw In|    2|\n",
      "|Interception|From Free Kick|    3|\n",
      "|Interception|   From Corner|    1|\n",
      "|    Recovery|From Free Kick|   64|\n",
      "|    Recovery|   From Corner|   65|\n",
      "|    Recovery|  Regular Play|  160|\n",
      "|    Recovery| From Throw In|   85|\n",
      "|    Recovery|From Goal Kick|   26|\n",
      "|    Recovery|  From Counter|   60|\n",
      "|    Recovery| From Kick Off|    7|\n",
      "|    Recovery|   From Keeper|    3|\n",
      "|    Throw-in| From Throw In|   72|\n",
      "+------------+--------------+-----+\n",
      "\n"
     ]
    },
    {
     "name": "stderr",
     "output_type": "stream",
     "text": [
      "                                                                                \r"
     ]
    }
   ],
   "source": [
    "# Pass type\n",
    "Passes.groupBy('pass_type','play_pattern').count().orderBy('pass_type').show(26)"
   ]
  },
  {
   "cell_type": "markdown",
   "metadata": {},
   "source": [
    "`pass_type` overlaps with `play_pattern`, only `play_pattern` will be kept."
   ]
  },
  {
   "cell_type": "code",
   "execution_count": 64,
   "metadata": {},
   "outputs": [
    {
     "name": "stderr",
     "output_type": "stream",
     "text": [
      "[Stage 124:>                                                      (0 + 12) / 12]\r"
     ]
    },
    {
     "name": "stdout",
     "output_type": "stream",
     "text": [
      "+--------------+-------------+----------------+---------------+-----------------+-----+\n",
      "|pass_technique|pass_straight|pass_outswinging|pass_inswinging|pass_through_ball|count|\n",
      "+--------------+-------------+----------------+---------------+-----------------+-----+\n",
      "|      Straight|         true|            NULL|           NULL|             NULL|   61|\n",
      "|   Outswinging|         NULL|            true|           NULL|             NULL|  514|\n",
      "|          NULL|         NULL|            NULL|           NULL|             NULL| 8737|\n",
      "|    Inswinging|         NULL|            NULL|           true|             NULL|  269|\n",
      "|  Through Ball|         NULL|            NULL|           NULL|             true|  703|\n",
      "+--------------+-------------+----------------+---------------+-----------------+-----+\n",
      "\n"
     ]
    },
    {
     "name": "stderr",
     "output_type": "stream",
     "text": [
      "                                                                                \r"
     ]
    }
   ],
   "source": [
    "# Pass technique\n",
    "Passes.groupBy('pass_technique','pass_straight','pass_outswinging','pass_inswinging','pass_through_ball').count().show()"
   ]
  },
  {
   "cell_type": "markdown",
   "metadata": {},
   "source": [
    "The information stored in `pass_technique` is the same stored in the boolean variables, therefore it will be dropped. "
   ]
  },
  {
   "cell_type": "code",
   "execution_count": 65,
   "metadata": {},
   "outputs": [],
   "source": [
    "# rename columns to avoid confusion when joining with shots dataframe\n",
    "Passes = Passes.withColumnsRenamed({'id':'pass_id',\n",
    "                                    'player_id':'pass_player_id',\n",
    "                                    'play_pattern':'pass_play_pattern',\n",
    "                                    'under_pressure':'pass_under_pressure'})"
   ]
  },
  {
   "cell_type": "code",
   "execution_count": 66,
   "metadata": {},
   "outputs": [
    {
     "name": "stdout",
     "output_type": "stream",
     "text": [
      "+--------------------+---------------------+--------------+-------------------+--------------+-----------+-----------------+-----------+-----------+---------------+----------+-------------+-----------+-----------------+---------------+----------------+-------------+-------------+\n",
      "|             pass_id|pass_assisted_shot_id|pass_player_id|pass_under_pressure|pass_body_part|pass_height|pass_play_pattern|pass_length| pass_angle|pass_aerial_won|pass_cross|pass_cut_back|pass_switch|pass_through_ball|pass_inswinging|pass_outswinging|pass_straight|pass_no_touch|\n",
      "+--------------------+---------------------+--------------+-------------------+--------------+-----------+-----------------+-----------+-----------+---------------+----------+-------------+-----------+-----------------+---------------+----------------+-------------+-------------+\n",
      "|92f50ac4-2f1c-422...| c5341577-e1ca-474...|        6826.0|               NULL|     Left Foot|          0|    From Throw In|   40.08441| 0.06490869|           NULL|      NULL|         NULL|       NULL|             true|           NULL|            NULL|         NULL|         NULL|\n",
      "|af98e1f8-eaab-461...| 1aedaf9e-bc12-4d0...|       24049.0|               NULL|     Left Foot|          0|     Regular Play|    42.3495|  1.3372719|           NULL|      true|         NULL|       true|             NULL|           NULL|            NULL|         NULL|         NULL|\n",
      "|858fd5af-4ea6-427...| 96b28bfc-d174-4b3...|       30756.0|               NULL|     Left Foot|          0|    From Throw In|  10.296116|  1.7662871|           NULL|      NULL|         NULL|       NULL|             NULL|           NULL|            NULL|         NULL|         NULL|\n",
      "|6cccfc2b-30f9-459...| 5eeab880-4efe-4bc...|        6379.0|               NULL|    Right Foot|          2|   From Free Kick|  29.456747|-0.83823353|           NULL|      NULL|         NULL|       NULL|             NULL|           NULL|            NULL|         NULL|         NULL|\n",
      "|6841ceac-83e1-4fa...| 510062b4-1210-46e...|       30756.0|               NULL|    Right Foot|          0|   From Goal Kick|  12.020815|  1.7126933|           NULL|      NULL|         NULL|       NULL|             NULL|           NULL|            NULL|         NULL|         NULL|\n",
      "|b4337709-ce1d-400...| ce93dbcd-25d3-4a2...|       30756.0|               NULL|      No Touch|          0|     Regular Play|   5.375872|-0.32175055|           NULL|      NULL|         NULL|       NULL|             NULL|           NULL|            NULL|         NULL|         true|\n",
      "|ece42874-634f-4d2...| 759f002e-906d-4e6...|       30486.0|               NULL|    Right Foot|          0|    From Throw In|  7.7077885| 0.79457223|           NULL|      NULL|         NULL|       NULL|             NULL|           NULL|            NULL|         NULL|         NULL|\n",
      "|5644a791-2f1a-4b3...| 992051dc-65fe-47e...|        6379.0|               NULL|    Right Foot|          2|    From Throw In|  29.764408| -0.8519663|           NULL|      NULL|         NULL|       NULL|             NULL|           NULL|            NULL|         NULL|         NULL|\n",
      "|660dd019-74f0-462...| e8bf334b-5fec-46e...|        6379.0|               NULL|    Right Foot|          0|    From Throw In|   5.724509|-0.47145995|           NULL|      NULL|         NULL|       NULL|             NULL|           NULL|            NULL|         NULL|         NULL|\n",
      "|38f751f3-9054-40e...| ba5ab9ce-69e0-496...|        5503.0|               NULL|     Left Foot|          0|   From Free Kick|   33.30135| -1.5798051|           NULL|      NULL|         NULL|       NULL|             NULL|           NULL|            NULL|         NULL|         NULL|\n",
      "+--------------------+---------------------+--------------+-------------------+--------------+-----------+-----------------+-----------+-----------+---------------+----------+-------------+-----------+-----------------+---------------+----------------+-------------+-------------+\n",
      "only showing top 10 rows\n",
      "\n"
     ]
    }
   ],
   "source": [
    "Passes.drop('pass_type','pass_technique').show(10)"
   ]
  }
 ],
 "metadata": {
  "kernelspec": {
   "display_name": "myenv",
   "language": "python",
   "name": "python3"
  },
  "language_info": {
   "codemirror_mode": {
    "name": "ipython",
    "version": 3
   },
   "file_extension": ".py",
   "mimetype": "text/x-python",
   "name": "python",
   "nbconvert_exporter": "python",
   "pygments_lexer": "ipython3",
   "version": "3.12.3"
  }
 },
 "nbformat": 4,
 "nbformat_minor": 2
}
