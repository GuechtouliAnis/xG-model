{
 "cells": [
  {
   "cell_type": "code",
   "execution_count": 1,
   "metadata": {},
   "outputs": [],
   "source": [
    "from pyspark.sql import SparkSession\n",
    "from pyspark.sql.functions import round,col, when, udf, format_number, abs, avg\n",
    "from pyspark.ml import Pipeline\n",
    "from pyspark.ml.evaluation import BinaryClassificationEvaluator\n",
    "from pyspark.sql.types import DoubleType\n",
    "import pp_events as pp"
   ]
  },
  {
   "cell_type": "code",
   "execution_count": 2,
   "metadata": {},
   "outputs": [
    {
     "name": "stderr",
     "output_type": "stream",
     "text": [
      "your 131072x1 screen size is bogus. expect trouble\n",
      "Setting default log level to \"WARN\".\n",
      "To adjust logging level use sc.setLogLevel(newLevel). For SparkR, use setLogLevel(newLevel).\n",
      "24/12/25 17:33:04 WARN NativeCodeLoader: Unable to load native-hadoop library for your platform... using builtin-java classes where applicable\n",
      "24/12/25 17:33:04 WARN Utils: Service 'SparkUI' could not bind on port 4040. Attempting port 4041.\n"
     ]
    }
   ],
   "source": [
    "spark = SparkSession.builder.appName(\"evaluation\").getOrCreate()"
   ]
  },
  {
   "cell_type": "code",
   "execution_count": 3,
   "metadata": {},
   "outputs": [
    {
     "name": "stderr",
     "output_type": "stream",
     "text": [
      "                                                                                \r"
     ]
    }
   ],
   "source": [
    "events = spark.read.csv('Data/events.csv', header=True, inferSchema=True,sep=';')"
   ]
  },
  {
   "cell_type": "code",
   "execution_count": 4,
   "metadata": {},
   "outputs": [
    {
     "name": "stdout",
     "output_type": "stream",
     "text": [
      "Data loaded\n",
      "Spatial data calculated\n",
      "Preferred foot calculated\n",
      "Goal column created\n"
     ]
    },
    {
     "name": "stderr",
     "output_type": "stream",
     "text": [
      "                                                                                \r"
     ]
    },
    {
     "name": "stdout",
     "output_type": "stream",
     "text": [
      "Number of players inside the area calculated\n",
      "Dummies created\n",
      "Boolean data converted to integer\n"
     ]
    }
   ],
   "source": [
    "events_shot = pp.preprocessing(events,spark)"
   ]
  },
  {
   "cell_type": "code",
   "execution_count": 5,
   "metadata": {},
   "outputs": [
    {
     "name": "stderr",
     "output_type": "stream",
     "text": [
      "24/12/25 17:34:02 WARN SparkStringUtils: Truncated the string representation of a plan since it was too large. This behavior can be adjusted by setting 'spark.sql.debug.maxToStringFields'.\n",
      "24/12/25 17:34:17 WARN TaskSetManager: Stage 5 contains a task of very large size (1681 KiB). The maximum recommended task size is 1000 KiB.\n",
      "                                                                                \r"
     ]
    }
   ],
   "source": [
    "# save the preprocessed data\n",
    "events_shot.write.csv('Datas/events_shot.csv', header=True)"
   ]
  },
  {
   "cell_type": "code",
   "execution_count": 6,
   "metadata": {},
   "outputs": [],
   "source": [
    "events_shot = spark.read.csv('Datas/events_shot.csv', header=True, inferSchema=True)"
   ]
  },
  {
   "cell_type": "code",
   "execution_count": 7,
   "metadata": {},
   "outputs": [
    {
     "name": "stdout",
     "output_type": "stream",
     "text": [
      "root\n",
      " |-- id: string (nullable = true)\n",
      " |-- player_id: double (nullable = true)\n",
      " |-- shot_location_x: double (nullable = true)\n",
      " |-- shot_location_y: double (nullable = true)\n",
      " |-- distance_to_goal: double (nullable = true)\n",
      " |-- shot_angle: double (nullable = true)\n",
      " |-- preferred_foot_shot: integer (nullable = true)\n",
      " |-- other_pp: integer (nullable = true)\n",
      " |-- from_fk: integer (nullable = true)\n",
      " |-- from_ti: integer (nullable = true)\n",
      " |-- from_corner: integer (nullable = true)\n",
      " |-- from_counter: integer (nullable = true)\n",
      " |-- from_gk: integer (nullable = true)\n",
      " |-- from_keeper: integer (nullable = true)\n",
      " |-- from_ko: integer (nullable = true)\n",
      " |-- header: integer (nullable = true)\n",
      " |-- corner_type: integer (nullable = true)\n",
      " |-- fk_type: integer (nullable = true)\n",
      " |-- pk_type: integer (nullable = true)\n",
      " |-- half_volley_technique: integer (nullable = true)\n",
      " |-- volley_technique: integer (nullable = true)\n",
      " |-- lob_technique: integer (nullable = true)\n",
      " |-- overhead_technique: integer (nullable = true)\n",
      " |-- backheel_technique: integer (nullable = true)\n",
      " |-- diving_h_technique: integer (nullable = true)\n",
      " |-- under_pressure: integer (nullable = true)\n",
      " |-- shot_aerial_won: integer (nullable = true)\n",
      " |-- shot_first_time: integer (nullable = true)\n",
      " |-- shot_one_on_one: integer (nullable = true)\n",
      " |-- shot_open_goal: integer (nullable = true)\n",
      " |-- shot_follows_dribble: integer (nullable = true)\n",
      " |-- players_inside_area: integer (nullable = true)\n",
      " |-- shot_statsbomb_xg: double (nullable = true)\n",
      " |-- shot_outcome: string (nullable = true)\n",
      " |-- goal: integer (nullable = true)\n",
      "\n"
     ]
    }
   ],
   "source": [
    "events_shot.printSchema()"
   ]
  },
  {
   "cell_type": "code",
   "execution_count": 8,
   "metadata": {},
   "outputs": [],
   "source": [
    "features = ['other_pp','from_fk','from_ti','from_corner','from_counter','from_gk','from_keeper','from_ko',\n",
    "            'header','corner_type','fk_type','pk_type',\n",
    "            'half_volley_technique','volley_technique','lob_technique','overhead_technique','backheel_technique','diving_h_technique',\n",
    "            'distance_to_goal', 'shot_angle', 'preferred_foot_shot', 'under_pressure',\n",
    "            'shot_aerial_won','shot_first_time','shot_one_on_one','shot_open_goal','shot_follows_dribble','players_inside_area']\n",
    "target = ['goal']"
   ]
  },
  {
   "cell_type": "code",
   "execution_count": 9,
   "metadata": {},
   "outputs": [],
   "source": [
    "input_size = len(features)\n",
    "output_size = 2"
   ]
  },
  {
   "cell_type": "code",
   "execution_count": 10,
   "metadata": {},
   "outputs": [],
   "source": [
    "from pyspark.ml.feature import VectorAssembler\n",
    "\n",
    "# Define the assembler\n",
    "feature_assembler = VectorAssembler(inputCols=features, outputCol=\"features_vector\")\n",
    "\n",
    "# Transform the dataset\n",
    "assembled_data = feature_assembler.transform(events_shot)\n",
    "train_data, test_data = assembled_data.randomSplit([0.8, 0.2], seed=42)"
   ]
  },
  {
   "cell_type": "code",
   "execution_count": 11,
   "metadata": {},
   "outputs": [
    {
     "name": "stderr",
     "output_type": "stream",
     "text": [
      "24/12/25 17:34:57 WARN InstanceBuilder: Failed to load implementation from:dev.ludovic.netlib.blas.JNIBLAS\n"
     ]
    },
    {
     "name": "stdout",
     "output_type": "stream",
     "text": [
      "ROC-AUC: 0.803146473040351\n"
     ]
    }
   ],
   "source": [
    "from pyspark.ml.classification import LogisticRegression\n",
    "\n",
    "# Define the logistic regression model\n",
    "log_reg = LogisticRegression(featuresCol=\"features_vector\", labelCol=\"goal\", maxIter=10)\n",
    "# Create the pipeline\n",
    "pipeline = Pipeline(stages=[log_reg])\n",
    "# Still rerunning all, fix that\n",
    "xg_model = pipeline.fit(train_data)\n",
    "# Make predictions\n",
    "predictions = xg_model.transform(test_data)\n",
    "\n",
    "evaluator = BinaryClassificationEvaluator(labelCol=\"goal\", rawPredictionCol=\"rawPrediction\")\n",
    "roc_auc = evaluator.evaluate(predictions)\n",
    "print(f\"ROC-AUC: {roc_auc}\")"
   ]
  },
  {
   "cell_type": "code",
   "execution_count": 21,
   "metadata": {},
   "outputs": [
    {
     "name": "stderr",
     "output_type": "stream",
     "text": [
      "                                                                                \r"
     ]
    },
    {
     "name": "stdout",
     "output_type": "stream",
     "text": [
      "ROC-AUC: 0.7836640397242735\n"
     ]
    }
   ],
   "source": [
    "from pyspark.ml.classification import RandomForestClassifier\n",
    "\n",
    "# Define the Random Forest classifier\n",
    "rf = RandomForestClassifier(featuresCol=\"features_vector\", labelCol=\"goal\", numTrees=100)\n",
    "\n",
    "# Create the pipeline\n",
    "pipeline = Pipeline(stages=[rf])\n",
    "\n",
    "# Fit the model\n",
    "xg_model = pipeline.fit(train_data)\n",
    "\n",
    "# Make predictions\n",
    "predictions = xg_model.transform(test_data)\n",
    "\n",
    "evaluator = BinaryClassificationEvaluator(labelCol=\"goal\", rawPredictionCol=\"rawPrediction\")\n",
    "roc_auc = evaluator.evaluate(predictions)\n",
    "print(f\"ROC-AUC: {roc_auc}\")"
   ]
  },
  {
   "cell_type": "code",
   "execution_count": null,
   "metadata": {},
   "outputs": [],
   "source": []
  },
  {
   "cell_type": "code",
   "execution_count": 24,
   "metadata": {},
   "outputs": [
    {
     "name": "stdout",
     "output_type": "stream",
     "text": [
      "+------------------------------------+---------+---------------+---------------+----------------+----------+-------------------+--------+-------+-------+-----------+------------+-------+-----------+-------+------+-----------+-------+-------+---------------------+----------------+-------------+------------------+------------------+------------------+--------------+---------------+---------------+---------------+--------------+--------------------+-------------------+-----------------+------------+----+-------------------------------------------------------------------+--------------------------------------+----------------------------------------+----------+\n",
      "|id                                  |player_id|shot_location_x|shot_location_y|distance_to_goal|shot_angle|preferred_foot_shot|other_pp|from_fk|from_ti|from_corner|from_counter|from_gk|from_keeper|from_ko|header|corner_type|fk_type|pk_type|half_volley_technique|volley_technique|lob_technique|overhead_technique|backheel_technique|diving_h_technique|under_pressure|shot_aerial_won|shot_first_time|shot_one_on_one|shot_open_goal|shot_follows_dribble|players_inside_area|shot_statsbomb_xg|shot_outcome|goal|features_vector                                                    |rawPrediction                         |probability                             |prediction|\n",
      "+------------------------------------+---------+---------------+---------------+----------------+----------+-------------------+--------+-------+-------+-----------+------------+-------+-----------+-------+------+-----------+-------+-------+---------------------+----------------+-------------+------------------+------------------+------------------+--------------+---------------+---------------+---------------+--------------+--------------------+-------------------+-----------------+------------+----+-------------------------------------------------------------------+--------------------------------------+----------------------------------------+----------+\n",
      "|0003d15d-08d9-4b69-87c7-bd835c75f9c0|31955.0  |113.4          |48.8           |11.0            |26.695866 |1                  |1       |0      |0      |0          |0           |0      |0          |0      |0     |0          |0      |0      |0                    |0               |0            |0                 |0                 |0                 |0             |0              |1              |0              |0             |0                   |2                  |0.10166888       |Blocked     |0   |(28,[0,18,19,20,23,27],[1.0,11.0,26.695866,1.0,1.0,2.0])           |[88.19278017426406,11.807219825735958]|[0.8819278017426404,0.11807219825735957]|0.0       |\n",
      "|0021be41-b9d6-4c86-a53a-dca9a65b937b|5596.0   |87.7           |47.7           |33.2051         |13.377049 |1                  |0       |1      |0      |0          |0           |0      |0          |0      |0     |0          |1      |0      |0                    |0               |0            |0                 |0                 |0                 |0             |0              |0              |0              |0             |0                   |5                  |0.026109         |Off T       |0   |(28,[1,10,18,19,20,27],[1.0,1.0,33.2051,13.377049,1.0,5.0])        |[93.71930784051776,6.280692159482225] |[0.9371930784051777,0.06280692159482226]|0.0       |\n",
      "|0034dfb1-6265-41df-92a1-bb0ba058776a|7044.0   |108.1          |45.9           |13.2823         |30.686678 |1                  |0       |0      |0      |0          |0           |1      |0          |0      |0     |0          |0      |0      |1                    |0               |0            |0                 |0                 |0                 |0             |0              |1              |0              |0             |0                   |2                  |0.064399794      |Goal        |1   |(28,[5,12,18,19,20,23,27],[1.0,1.0,13.2823,30.686678,1.0,1.0,2.0]) |[90.99201879498315,9.007981205016822] |[0.9099201879498318,0.09007981205016825]|0.0       |\n",
      "|00422045-1c94-4e27-a6eb-fd77a38e3389|7713.0   |112.9          |50.6           |12.7581         |21.156445 |0                  |0       |0      |0      |1          |0           |0      |0          |0      |1     |0          |0      |0      |0                    |0               |0            |0                 |0                 |0                 |0             |0              |0              |0              |0             |0                   |1                  |0.033228997      |Off T       |0   |(28,[3,8,18,19,27],[1.0,1.0,12.7581,21.156445,1.0])                |[91.16349568535449,8.836504314645527] |[0.9116349568535448,0.08836504314645525]|0.0       |\n",
      "|0052d1c5-d7ee-44b0-b5c3-bcfb1c4c89cb|6764.0   |105.0          |37.8           |15.1605         |29.299711 |1                  |0       |0      |0      |0          |0           |0      |0          |0      |0     |0          |0      |0      |0                    |0               |0            |0                 |0                 |0                 |0             |0              |1              |0              |0             |0                   |1                  |0.14392917       |Wayward     |0   |(28,[18,19,20,23,27],[15.1605,29.299711,1.0,1.0,1.0])              |[90.35536295939515,9.644637040604868] |[0.9035536295939514,0.09644637040604867]|0.0       |\n",
      "|005c9bbb-b48b-48bb-86f5-aea304f6509f|5198.0   |112.2          |43.7           |8.6331          |46.83294  |0                  |0       |1      |0      |0          |0           |0      |0          |0      |1     |0          |0      |0      |0                    |0               |0            |0                 |0                 |0                 |1             |1              |0              |0              |0             |0                   |2                  |0.073996074      |Off T       |0   |(28,[1,8,18,19,21,22,27],[1.0,1.0,8.6331,46.83294,1.0,1.0,2.0])    |[88.93790638443926,11.062093615560752]|[0.8893790638443925,0.1106209361556075] |0.0       |\n",
      "|00760352-2e05-4ef1-9a29-7f556c3f4ce0|5246.0   |108.1          |40.1           |11.9004         |37.15634  |1                  |1       |0      |0      |0          |0           |0      |0          |0      |0     |0          |0      |1      |0                    |0               |0            |0                 |0                 |0                 |0             |0              |0              |0              |0             |0                   |1                  |0.7835           |Goal        |1   |(28,[0,11,18,19,20,27],[1.0,1.0,11.9004,37.15634,1.0,1.0])         |[28.543809379022722,71.45619062097732]|[0.2854380937902271,0.7145619062097729] |1.0       |\n",
      "|00884bad-476f-4c63-a7d7-db5029772bde|31866.0  |111.1          |39.6           |8.909           |48.330013 |0                  |0       |0      |0      |0          |0           |0      |0          |0      |0     |0          |0      |0      |0                    |1               |0            |0                 |0                 |0                 |1             |0              |1              |0              |0             |0                   |3                  |0.10890295       |Off T       |0   |(28,[13,18,19,21,23,27],[1.0,8.909,48.330013,1.0,1.0,3.0])         |[83.595602038019,16.404397961981005]  |[0.8359560203801899,0.16404397961981004]|0.0       |\n",
      "|00a88c45-9765-4c30-9334-b903240a08b1|10336.0  |104.6          |29.6           |18.5828         |20.511034 |0                  |0       |0      |0      |1          |0           |0      |0          |0      |0     |0          |0      |0      |0                    |0               |0            |0                 |0                 |0                 |1             |0              |1              |0              |0             |0                   |4                  |0.05416238       |Blocked     |0   |(28,[3,18,19,21,23,27],[1.0,18.5828,20.511034,1.0,1.0,4.0])        |[92.9317122279866,7.068287772013409]  |[0.929317122279866,0.0706828777201341]  |0.0       |\n",
      "|00a9a3be-0684-4638-be6a-396ac25e72a8|10955.0  |106.5          |29.9           |16.86           |21.929443 |1                  |0       |1      |0      |0          |0           |0      |0          |0      |0     |0          |0      |0      |0                    |0               |0            |0                 |0                 |0                 |0             |0              |0              |0              |0             |0                   |2                  |0.07232883       |Blocked     |0   |(28,[1,18,19,20,27],[1.0,16.86,21.929443,1.0,2.0])                 |[92.2659379311261,7.73406206887391]   |[0.9226593793112609,0.07734062068873909]|0.0       |\n",
      "|00b696af-965e-436e-a24a-a09c901474d0|91089.0  |106.4          |54.5           |19.8799         |16.008835 |1                  |0       |0      |0      |0          |0           |0      |1          |0      |0     |0          |0      |0      |0                    |0               |0            |0                 |0                 |0                 |1             |0              |0              |0              |0             |0                   |1                  |0.087863006      |Off T       |0   |(28,[6,18,19,20,21,27],[1.0,19.8799,16.008835,1.0,1.0,1.0])        |[93.203088567244,6.796911432756011]   |[0.93203088567244,0.06796911432756012]  |0.0       |\n",
      "|00b7d90f-9a13-4399-976a-df94d453af18|3337.0   |110.5          |47.8           |12.2919         |29.361582 |1                  |0       |0      |0      |0          |0           |0      |0          |0      |0     |0          |0      |0      |1                    |0               |0            |0                 |0                 |0                 |1             |0              |1              |0              |0             |0                   |1                  |0.121686585      |Wayward     |0   |(28,[12,18,19,20,21,23,27],[1.0,12.2919,29.361582,1.0,1.0,1.0,1.0])|[89.54225241711517,10.45774758288483] |[0.8954225241711516,0.1045774758288483] |0.0       |\n",
      "|00be925a-26d1-4191-841d-bb319ca74efd|5177.0   |98.9           |41.7           |21.1684         |21.33812  |1                  |0       |0      |1      |0          |0           |0      |0          |0      |0     |0          |0      |0      |0                    |0               |0            |0                 |0                 |0                 |0             |0              |0              |0              |0             |0                   |2                  |0.0638635        |Off T       |0   |(28,[2,18,19,20,27],[1.0,21.1684,21.33812,1.0,2.0])                |[92.92238961436279,7.077610385637201] |[0.929223896143628,0.07077610385637202] |0.0       |\n",
      "|00cc301f-6a84-4e4a-ae75-619e0748cada|3007.0   |106.4          |42.3           |13.7931         |31.980257 |1                  |0       |0      |1      |0          |0           |0      |0          |0      |0     |0          |0      |0      |0                    |0               |0            |0                 |0                 |0                 |1             |0              |1              |0              |0             |0                   |1                  |0.25546068       |Off T       |0   |(28,[2,18,19,20,21,23,27],[1.0,13.7931,31.980257,1.0,1.0,1.0,1.0]) |[90.14314755447496,9.85685244552505]  |[0.9014314755447496,0.09856852445525048]|0.0       |\n",
      "|00d46d13-6e3d-439e-aa06-13aec8f5f329|20641.0  |113.2          |43.5           |7.6479          |52.007793 |0                  |0       |0      |0      |0          |0           |0      |0          |0      |0     |0          |0      |0      |1                    |0               |0            |0                 |0                 |0                 |0             |0              |1              |0              |0             |0                   |1                  |0.31239024       |Wayward     |0   |(28,[12,18,19,23,27],[1.0,7.6479,52.007793,1.0,1.0])               |[79.36545483233772,20.634545167662274]|[0.7936545483233772,0.20634545167662274]|0.0       |\n",
      "|00e599c0-5234-4b6a-9b91-d6f789a311b0|6318.0   |97.8           |51.5           |25.0018         |16.255762 |1                  |0       |0      |0      |0          |0           |0      |0          |0      |0     |0          |0      |0      |0                    |0               |0            |0                 |0                 |0                 |0             |0              |0              |0              |0             |0                   |2                  |0.030001678      |Post        |0   |(28,[18,19,20,27],[25.0018,16.255762,1.0,2.0])                     |[93.68061480986822,6.319385190131751] |[0.9368061480986825,0.06319385190131753]|0.0       |\n",
      "|0115a9b2-8324-44e1-8954-03e133159d48|133038.0 |95.1           |27.1           |28.0432         |14.496922 |0                  |0       |0      |0      |1          |0           |0      |0          |0      |0     |0          |0      |0      |1                    |0               |0            |0                 |0                 |0                 |0             |0              |1              |0              |0             |0                   |3                  |0.016418302      |Off T       |0   |(28,[3,12,18,19,23,27],[1.0,1.0,28.0432,14.496922,1.0,3.0])        |[93.4801718685965,6.519828131403478]  |[0.9348017186859653,0.0651982813140348] |0.0       |\n",
      "|017698e9-d13b-4ff5-82c0-5f6007826e18|8555.0   |111.0          |32.5           |11.7154         |30.702452 |0                  |0       |0      |1      |0          |0           |0      |0          |0      |1     |0          |0      |0      |0                    |0               |0            |0                 |0                 |0                 |1             |1              |0              |0              |0             |0                   |2                  |0.061207097      |Saved       |0   |(28,[2,8,18,19,21,22,27],[1.0,1.0,11.7154,30.702452,1.0,1.0,2.0])  |[91.56569137756144,8.434308622438568] |[0.9156569137756143,0.08434308622438567]|0.0       |\n",
      "|01b7fed8-2356-4480-8c1b-53ca8aea55a4|4447.0   |110.7          |29.4           |14.1014         |22.140959 |0                  |0       |0      |0      |0          |0           |0      |0          |0      |0     |0          |0      |0      |0                    |0               |0            |0                 |0                 |0                 |0             |0              |0              |1              |0             |0                   |1                  |0.3084018        |Saved       |0   |(28,[18,19,24,27],[14.1014,22.140959,1.0,1.0])                     |[87.67572090483776,12.32427909516229] |[0.8767572090483771,0.12324279095162283]|0.0       |\n",
      "|01d0aa26-abec-45db-b191-13cb5050aac2|11117.0  |115.2          |44.1           |6.3127          |58.15584  |0                  |0       |0      |1      |0          |0           |0      |0          |0      |1     |0          |0      |0      |0                    |0               |0            |0                 |0                 |0                 |0             |0              |0              |0              |0             |0                   |1                  |0.2272298        |Off T       |0   |(28,[2,8,18,19,27],[1.0,1.0,6.3127,58.15584,1.0])                  |[83.03639676721221,16.963603232787786]|[0.8303639676721221,0.16963603232787786]|0.0       |\n",
      "+------------------------------------+---------+---------------+---------------+----------------+----------+-------------------+--------+-------+-------+-----------+------------+-------+-----------+-------+------+-----------+-------+-------+---------------------+----------------+-------------+------------------+------------------+------------------+--------------+---------------+---------------+---------------+--------------+--------------------+-------------------+-----------------+------------+----+-------------------------------------------------------------------+--------------------------------------+----------------------------------------+----------+\n",
      "only showing top 20 rows\n",
      "\n"
     ]
    }
   ],
   "source": [
    "predictions.show(20,False)"
   ]
  },
  {
   "cell_type": "code",
   "execution_count": 30,
   "metadata": {},
   "outputs": [],
   "source": [
    "# predict for the whole dataset to create confusion matrix\n",
    "predictions = xg_model.transform(assembled_data)"
   ]
  },
  {
   "cell_type": "code",
   "execution_count": 20,
   "metadata": {},
   "outputs": [
    {
     "name": "stdout",
     "output_type": "stream",
     "text": [
      "ROC-AUC: 0.8105376263520693\n"
     ]
    }
   ],
   "source": [
    "from pyspark.ml.classification import MultilayerPerceptronClassifier\n",
    "\n",
    "# Define the Multilayer Perceptron classifier\n",
    "layers = [input_size, 64, 32, 16, output_size]\n",
    "\n",
    "mlp = MultilayerPerceptronClassifier(featuresCol=\"features_vector\", labelCol=\"goal\", maxIter=100, layers=layers, blockSize=128, seed=1234)\n",
    "\n",
    "# Create the pipeline\n",
    "pipeline = Pipeline(stages=[mlp])\n",
    "\n",
    "# Fit the model\n",
    "xg_model = pipeline.fit(train_data)\n",
    "\n",
    "# Make predictions\n",
    "predictions = xg_model.transform(test_data)\n",
    "\n",
    "evaluator = BinaryClassificationEvaluator(labelCol=\"goal\", rawPredictionCol=\"rawPrediction\")\n",
    "roc_auc = evaluator.evaluate(predictions)\n",
    "print(f\"ROC-AUC: {roc_auc}\")"
   ]
  },
  {
   "cell_type": "code",
   "execution_count": 34,
   "metadata": {},
   "outputs": [
    {
     "name": "stdout",
     "output_type": "stream",
     "text": [
      "ROC-AUC: 0.8119740211971771\n"
     ]
    }
   ],
   "source": [
    "#### BEST MODEL SO FAR ####\n",
    "from pyspark.ml.classification import GBTClassifier\n",
    "\n",
    "# Define the Gradient-Boosted Tree classifier\n",
    "gbt = GBTClassifier(featuresCol=\"features_vector\", labelCol=\"goal\", maxIter=60)\n",
    "\n",
    "# Create the pipeline\n",
    "pipeline = Pipeline(stages=[gbt])\n",
    "\n",
    "# Fit the model\n",
    "xg_model = pipeline.fit(train_data)\n",
    "\n",
    "# Make predictions\n",
    "predictions = xg_model.transform(test_data)\n",
    "\n",
    "evaluator = BinaryClassificationEvaluator(labelCol=\"goal\", rawPredictionCol=\"rawPrediction\")\n",
    "roc_auc = evaluator.evaluate(predictions)\n",
    "print(f\"ROC-AUC: {roc_auc}\")"
   ]
  },
  {
   "cell_type": "code",
   "execution_count": 42,
   "metadata": {},
   "outputs": [],
   "source": [
    "predictions = predictions.withColumn('sb_prediction', round(col('shot_statsbomb_xg')))"
   ]
  },
  {
   "cell_type": "code",
   "execution_count": 43,
   "metadata": {},
   "outputs": [],
   "source": [
    "from model_evaluation import ModelEvaluation"
   ]
  },
  {
   "cell_type": "code",
   "execution_count": 54,
   "metadata": {},
   "outputs": [],
   "source": [
    "me_actual = ModelEvaluation(predictions,'goal','prediction')\n",
    "me_xg = ModelEvaluation(predictions,'sb_prediction','prediction')\n",
    "me_sb = ModelEvaluation(predictions,'goal','sb_prediction')"
   ]
  },
  {
   "cell_type": "code",
   "execution_count": 55,
   "metadata": {},
   "outputs": [
    {
     "data": {
      "text/plain": [
       "{'Accuracy': 0.9026737967914439,\n",
       " 'Precision': 0.7535816618911175,\n",
       " 'Recall': 0.19338235294117648,\n",
       " 'Sensitivity': 0.19338235294117648,\n",
       " 'Specificity': 0.9920333487725799,\n",
       " 'F1': 0.30778232884727913,\n",
       " 'FPR': 0.007966651227420102,\n",
       " 'FNR': 0.8066176470588236}"
      ]
     },
     "execution_count": 55,
     "metadata": {},
     "output_type": "execute_result"
    }
   ],
   "source": [
    "me_actual.get_all_metrics()"
   ]
  },
  {
   "cell_type": "code",
   "execution_count": 56,
   "metadata": {},
   "outputs": [
    {
     "data": {
      "text/plain": [
       "{'Accuracy': 0.9031674208144796,\n",
       " 'Precision': 0.7163120567375887,\n",
       " 'Recall': 0.22279411764705884,\n",
       " 'Sensitivity': 0.22279411764705884,\n",
       " 'Specificity': 0.9888837424733673,\n",
       " 'F1': 0.3398766124509255,\n",
       " 'FPR': 0.0111162575266327,\n",
       " 'FNR': 0.7772058823529412}"
      ]
     },
     "execution_count": 56,
     "metadata": {},
     "output_type": "execute_result"
    }
   ],
   "source": [
    "me_sb.get_all_metrics()"
   ]
  },
  {
   "cell_type": "code",
   "execution_count": 35,
   "metadata": {},
   "outputs": [
    {
     "name": "stdout",
     "output_type": "stream",
     "text": [
      "+------------------------------------+---------+---------------+---------------+----------------+----------+-------------------+--------+-------+-------+-----------+------------+-------+-----------+-------+------+-----------+-------+-------+---------------------+----------------+-------------+------------------+------------------+------------------+--------------+---------------+---------------+---------------+--------------+--------------------+-------------------+-----------------+------------+----+-------------------------------------------------------------------+------------------------------------------+-----------------------------------------+----------+\n",
      "|id                                  |player_id|shot_location_x|shot_location_y|distance_to_goal|shot_angle|preferred_foot_shot|other_pp|from_fk|from_ti|from_corner|from_counter|from_gk|from_keeper|from_ko|header|corner_type|fk_type|pk_type|half_volley_technique|volley_technique|lob_technique|overhead_technique|backheel_technique|diving_h_technique|under_pressure|shot_aerial_won|shot_first_time|shot_one_on_one|shot_open_goal|shot_follows_dribble|players_inside_area|shot_statsbomb_xg|shot_outcome|goal|features_vector                                                    |rawPrediction                             |probability                              |prediction|\n",
      "+------------------------------------+---------+---------------+---------------+----------------+----------+-------------------+--------+-------+-------+-----------+------------+-------+-----------+-------+------+-----------+-------+-------+---------------------+----------------+-------------+------------------+------------------+------------------+--------------+---------------+---------------+---------------+--------------+--------------------+-------------------+-----------------+------------+----+-------------------------------------------------------------------+------------------------------------------+-----------------------------------------+----------+\n",
      "|0003d15d-08d9-4b69-87c7-bd835c75f9c0|31955.0  |113.4          |48.8           |11.0            |26.695866 |1                  |1       |0      |0      |0          |0           |0      |0          |0      |0     |0          |0      |0      |0                    |0               |0            |0                 |0                 |0                 |0             |0              |1              |0              |0             |0                   |2                  |0.10166888       |Blocked     |0   |(28,[0,18,19,20,23,27],[1.0,11.0,26.695866,1.0,1.0,2.0])           |[1.037992377510445,-1.037992377510445]    |[0.8885470186230494,0.11145298137695059] |0.0       |\n",
      "|0021be41-b9d6-4c86-a53a-dca9a65b937b|5596.0   |87.7           |47.7           |33.2051         |13.377049 |1                  |0       |1      |0      |0          |0           |0      |0          |0      |0     |0          |1      |0      |0                    |0               |0            |0                 |0                 |0                 |0             |0              |0              |0              |0             |0                   |5                  |0.026109         |Off T       |0   |(28,[1,10,18,19,20,27],[1.0,1.0,33.2051,13.377049,1.0,5.0])        |[1.5356407331002668,-1.5356407331002668]  |[0.9556924669949967,0.04430753300500334] |0.0       |\n",
      "|0034dfb1-6265-41df-92a1-bb0ba058776a|7044.0   |108.1          |45.9           |13.2823         |30.686678 |1                  |0       |0      |0      |0          |0           |1      |0          |0      |0     |0          |0      |0      |1                    |0               |0            |0                 |0                 |0                 |0             |0              |1              |0              |0             |0                   |2                  |0.064399794      |Goal        |1   |(28,[5,12,18,19,20,23,27],[1.0,1.0,13.2823,30.686678,1.0,1.0,2.0]) |[1.0142134887793095,-1.0142134887793095]  |[0.8837495690030732,0.11625043099692678] |0.0       |\n",
      "|00422045-1c94-4e27-a6eb-fd77a38e3389|7713.0   |112.9          |50.6           |12.7581         |21.156445 |0                  |0       |0      |0      |1          |0           |0      |0          |0      |1     |0          |0      |0      |0                    |0               |0            |0                 |0                 |0                 |0             |0              |0              |0              |0             |0                   |1                  |0.033228997      |Off T       |0   |(28,[3,8,18,19,27],[1.0,1.0,12.7581,21.156445,1.0])                |[1.4455470573638551,-1.4455470573638551]  |[0.9474044272074846,0.052595572792515366]|0.0       |\n",
      "|0052d1c5-d7ee-44b0-b5c3-bcfb1c4c89cb|6764.0   |105.0          |37.8           |15.1605         |29.299711 |1                  |0       |0      |0      |0          |0           |0      |0          |0      |0     |0          |0      |0      |0                    |0               |0            |0                 |0                 |0                 |0             |0              |1              |0              |0             |0                   |1                  |0.14392917       |Wayward     |0   |(28,[18,19,20,23,27],[15.1605,29.299711,1.0,1.0,1.0])              |[0.5278506901912805,-0.5278506901912805]  |[0.741868216893961,0.258131783106039]    |0.0       |\n",
      "|005c9bbb-b48b-48bb-86f5-aea304f6509f|5198.0   |112.2          |43.7           |8.6331          |46.83294  |0                  |0       |1      |0      |0          |0           |0      |0          |0      |1     |0          |0      |0      |0                    |0               |0            |0                 |0                 |0                 |1             |1              |0              |0              |0             |0                   |2                  |0.073996074      |Off T       |0   |(28,[1,8,18,19,21,22,27],[1.0,1.0,8.6331,46.83294,1.0,1.0,2.0])    |[1.2693097322579705,-1.2693097322579705]  |[0.9268052299476297,0.0731947700523703]  |0.0       |\n",
      "|00760352-2e05-4ef1-9a29-7f556c3f4ce0|5246.0   |108.1          |40.1           |11.9004         |37.15634  |1                  |1       |0      |0      |0          |0           |0      |0          |0      |0     |0          |0      |1      |0                    |0               |0            |0                 |0                 |0                 |0             |0              |0              |0              |0             |0                   |1                  |0.7835           |Goal        |1   |(28,[0,11,18,19,20,27],[1.0,1.0,11.9004,37.15634,1.0,1.0])         |[-0.7107007256340463,0.7107007256340463]  |[0.1944419742569671,0.8055580257430329]  |1.0       |\n",
      "|00884bad-476f-4c63-a7d7-db5029772bde|31866.0  |111.1          |39.6           |8.909           |48.330013 |0                  |0       |0      |0      |0          |0           |0      |0          |0      |0     |0          |0      |0      |0                    |1               |0            |0                 |0                 |0                 |1             |0              |1              |0              |0             |0                   |3                  |0.10890295       |Off T       |0   |(28,[13,18,19,21,23,27],[1.0,8.909,48.330013,1.0,1.0,3.0])         |[1.0130253689324227,-1.0130253689324227]  |[0.8835052203024216,0.11649477969757838] |0.0       |\n",
      "|00a88c45-9765-4c30-9334-b903240a08b1|10336.0  |104.6          |29.6           |18.5828         |20.511034 |0                  |0       |0      |0      |1          |0           |0      |0          |0      |0     |0          |0      |0      |0                    |0               |0            |0                 |0                 |0                 |1             |0              |1              |0              |0             |0                   |4                  |0.05416238       |Blocked     |0   |(28,[3,18,19,21,23,27],[1.0,18.5828,20.511034,1.0,1.0,4.0])        |[1.485480596793543,-1.485480596793543]    |[0.951244874638109,0.04875512536189097]  |0.0       |\n",
      "|00a9a3be-0684-4638-be6a-396ac25e72a8|10955.0  |106.5          |29.9           |16.86           |21.929443 |1                  |0       |1      |0      |0          |0           |0      |0          |0      |0     |0          |0      |0      |0                    |0               |0            |0                 |0                 |0                 |0             |0              |0              |0              |0             |0                   |2                  |0.07232883       |Blocked     |0   |(28,[1,18,19,20,27],[1.0,16.86,21.929443,1.0,2.0])                 |[1.313644249539851,-1.313644249539851]    |[0.9325973054250735,0.06740269457492654] |0.0       |\n",
      "|00b696af-965e-436e-a24a-a09c901474d0|91089.0  |106.4          |54.5           |19.8799         |16.008835 |1                  |0       |0      |0      |0          |0           |0      |1          |0      |0     |0          |0      |0      |0                    |0               |0            |0                 |0                 |0                 |1             |0              |0              |0              |0             |0                   |1                  |0.087863006      |Off T       |0   |(28,[6,18,19,20,21,27],[1.0,19.8799,16.008835,1.0,1.0,1.0])        |[1.507894847300419,-1.507894847300419]    |[0.9532823766098755,0.04671762339012453] |0.0       |\n",
      "|00b7d90f-9a13-4399-976a-df94d453af18|3337.0   |110.5          |47.8           |12.2919         |29.361582 |1                  |0       |0      |0      |0          |0           |0      |0          |0      |0     |0          |0      |0      |1                    |0               |0            |0                 |0                 |0                 |1             |0              |1              |0              |0             |0                   |1                  |0.121686585      |Wayward     |0   |(28,[12,18,19,20,21,23,27],[1.0,12.2919,29.361582,1.0,1.0,1.0,1.0])|[0.870740457768062,-0.870740457768062]    |[0.8508750715877161,0.14912492841228386] |0.0       |\n",
      "|00be925a-26d1-4191-841d-bb319ca74efd|5177.0   |98.9           |41.7           |21.1684         |21.33812  |1                  |0       |0      |1      |0          |0           |0      |0          |0      |0     |0          |0      |0      |0                    |0               |0            |0                 |0                 |0                 |0             |0              |0              |0              |0             |0                   |2                  |0.0638635        |Off T       |0   |(28,[2,18,19,20,27],[1.0,21.1684,21.33812,1.0,2.0])                |[1.4205202892714004,-1.4205202892714004]  |[0.9448537068540513,0.055146293145948655]|0.0       |\n",
      "|00cc301f-6a84-4e4a-ae75-619e0748cada|3007.0   |106.4          |42.3           |13.7931         |31.980257 |1                  |0       |0      |1      |0          |0           |0      |0          |0      |0     |0          |0      |0      |0                    |0               |0            |0                 |0                 |0                 |1             |0              |1              |0              |0             |0                   |1                  |0.25546068       |Off T       |0   |(28,[2,18,19,20,21,23,27],[1.0,13.7931,31.980257,1.0,1.0,1.0,1.0]) |[0.5455057865347316,-0.5455057865347316]  |[0.7485721595469124,0.25142784045308764] |0.0       |\n",
      "|00d46d13-6e3d-439e-aa06-13aec8f5f329|20641.0  |113.2          |43.5           |7.6479          |52.007793 |0                  |0       |0      |0      |0          |0           |0      |0          |0      |0     |0          |0      |0      |1                    |0               |0            |0                 |0                 |0                 |0             |0              |1              |0              |0             |0                   |1                  |0.31239024       |Wayward     |0   |(28,[12,18,19,23,27],[1.0,7.6479,52.007793,1.0,1.0])               |[0.4625332219071297,-0.4625332219071297]  |[0.7160733028561951,0.2839266971438049]  |0.0       |\n",
      "|00e599c0-5234-4b6a-9b91-d6f789a311b0|6318.0   |97.8           |51.5           |25.0018         |16.255762 |1                  |0       |0      |0      |0          |0           |0      |0          |0      |0     |0          |0      |0      |0                    |0               |0            |0                 |0                 |0                 |0             |0              |0              |0              |0             |0                   |2                  |0.030001678      |Post        |0   |(28,[18,19,20,27],[25.0018,16.255762,1.0,2.0])                     |[1.6339100618191897,-1.6339100618191897]  |[0.9633082006489029,0.03669179935109712] |0.0       |\n",
      "|0115a9b2-8324-44e1-8954-03e133159d48|133038.0 |95.1           |27.1           |28.0432         |14.496922 |0                  |0       |0      |0      |1          |0           |0      |0          |0      |0     |0          |0      |0      |1                    |0               |0            |0                 |0                 |0                 |0             |0              |1              |0              |0             |0                   |3                  |0.016418302      |Off T       |0   |(28,[3,12,18,19,23,27],[1.0,1.0,28.0432,14.496922,1.0,3.0])        |[1.8003047037862618,-1.8003047037862618]  |[0.9734187791866108,0.026581220813389206]|0.0       |\n",
      "|017698e9-d13b-4ff5-82c0-5f6007826e18|8555.0   |111.0          |32.5           |11.7154         |30.702452 |0                  |0       |0      |1      |0          |0           |0      |0          |0      |1     |0          |0      |0      |0                    |0               |0            |0                 |0                 |0                 |1             |1              |0              |0              |0             |0                   |2                  |0.061207097      |Saved       |0   |(28,[2,8,18,19,21,22,27],[1.0,1.0,11.7154,30.702452,1.0,1.0,2.0])  |[1.740160617779154,-1.740160617779154]    |[0.9701226325222568,0.029877367477743166]|0.0       |\n",
      "|01b7fed8-2356-4480-8c1b-53ca8aea55a4|4447.0   |110.7          |29.4           |14.1014         |22.140959 |0                  |0       |0      |0      |0          |0           |0      |0          |0      |0     |0          |0      |0      |0                    |0               |0            |0                 |0                 |0                 |0             |0              |0              |1              |0             |0                   |1                  |0.3084018        |Saved       |0   |(28,[18,19,24,27],[14.1014,22.140959,1.0,1.0])                     |[0.513307927566592,-0.513307927566592]    |[0.7362592829456786,0.26374071705432145] |0.0       |\n",
      "|01d0aa26-abec-45db-b191-13cb5050aac2|11117.0  |115.2          |44.1           |6.3127          |58.15584  |0                  |0       |0      |1      |0          |0           |0      |0          |0      |1     |0          |0      |0      |0                    |0               |0            |0                 |0                 |0                 |0             |0              |0              |0              |0             |0                   |1                  |0.2272298        |Off T       |0   |(28,[2,8,18,19,27],[1.0,1.0,6.3127,58.15584,1.0])                  |[0.49808391245896155,-0.49808391245896155]|[0.7303044604623297,0.26969553953767034] |0.0       |\n",
      "+------------------------------------+---------+---------------+---------------+----------------+----------+-------------------+--------+-------+-------+-----------+------------+-------+-----------+-------+------+-----------+-------+-------+---------------------+----------------+-------------+------------------+------------------+------------------+--------------+---------------+---------------+---------------+--------------+--------------------+-------------------+-----------------+------------+----+-------------------------------------------------------------------+------------------------------------------+-----------------------------------------+----------+\n",
      "only showing top 20 rows\n",
      "\n"
     ]
    }
   ],
   "source": [
    "predictions.show(20,False)"
   ]
  },
  {
   "cell_type": "code",
   "execution_count": 14,
   "metadata": {},
   "outputs": [
    {
     "name": "stdout",
     "output_type": "stream",
     "text": [
      "+-----------------+----------------+-------------+--------------+\n",
      "|shot_statsbomb_xg|goal_probability|difference   |difference_abs|\n",
      "+-----------------+----------------+-------------+--------------+\n",
      "|0.10166888       |0.1114529814    |-0.0097841014|0.0097841014  |\n",
      "|0.026109         |0.0443075330    |-0.0181985330|0.0181985330  |\n",
      "|0.064399794      |0.1162504310    |-0.0518506370|0.0518506370  |\n",
      "|0.033228997      |0.0525955728    |-0.0193665758|0.0193665758  |\n",
      "|0.14392917       |0.2581317831    |-0.1142026131|0.1142026131  |\n",
      "|0.073996074      |0.0731947701    |0.0008013039 |0.0008013039  |\n",
      "|0.7835           |0.8055580257    |-0.0220580257|0.0220580257  |\n",
      "|0.10890295       |0.1164947797    |-0.0075918297|0.0075918297  |\n",
      "|0.05416238       |0.0487551254    |0.0054072546 |0.0054072546  |\n",
      "|0.07232883       |0.0674026946    |0.0049261354 |0.0049261354  |\n",
      "|0.087863006      |0.0467176234    |0.0411453826 |0.0411453826  |\n",
      "|0.121686585      |0.1491249284    |-0.0274383434|0.0274383434  |\n",
      "|0.0638635        |0.0551462931    |0.0087172069 |0.0087172069  |\n",
      "|0.25546068       |0.2514278405    |0.0040328395 |0.0040328395  |\n",
      "|0.31239024       |0.2839266971    |0.0284635429 |0.0284635429  |\n",
      "|0.030001678      |0.0366917994    |-0.0066901214|0.0066901214  |\n",
      "|0.016418302      |0.0265812208    |-0.0101629188|0.0101629188  |\n",
      "|0.061207097      |0.0298773675    |0.0313297295 |0.0313297295  |\n",
      "|0.3084018        |0.2637407171    |0.0446610829 |0.0446610829  |\n",
      "|0.2272298        |0.2696955395    |-0.0424657395|0.0424657395  |\n",
      "|0.07770824       |0.1107264462    |-0.0330182062|0.0330182062  |\n",
      "|0.021341342      |0.0246938424    |-0.0033525004|0.0033525004  |\n",
      "|0.23812428       |0.4092216276    |-0.1710973476|0.1710973476  |\n",
      "|0.021880424      |0.0355600235    |-0.0136795995|0.0136795995  |\n",
      "|0.5082335        |0.4061664199    |0.1020670801 |0.1020670801  |\n",
      "|0.06866029       |0.0659914703    |0.0026688197 |0.0026688197  |\n",
      "|0.029000064      |0.0264015953    |0.0025984687 |0.0025984687  |\n",
      "|0.06347098       |0.0737247881    |-0.0102538081|0.0102538081  |\n",
      "|0.054039445      |0.0347763227    |0.0192631223 |0.0192631223  |\n",
      "|0.090416625      |0.0774928239    |0.0129238011 |0.0129238011  |\n",
      "|0.13947101       |0.1101734127    |0.0292975973 |0.0292975973  |\n",
      "|0.06449234       |0.0788426572    |-0.0143503172|0.0143503172  |\n",
      "|0.10414206       |0.0732033244    |0.0309387356 |0.0309387356  |\n",
      "|0.04430043       |0.0311363517    |0.0131640783 |0.0131640783  |\n",
      "|0.051667962      |0.1109757344    |-0.0593077724|0.0593077724  |\n",
      "|0.0886813        |0.0734165247    |0.0152647753 |0.0152647753  |\n",
      "|0.0508354        |0.0448064464    |0.0060289536 |0.0060289536  |\n",
      "|0.40448925       |0.2839266971    |0.1205625529 |0.1205625529  |\n",
      "|0.04622492       |0.0412595474    |0.0049653726 |0.0049653726  |\n",
      "|0.052129567      |0.0612483162    |-0.0091187492|0.0091187492  |\n",
      "|0.052356403      |0.0693255536    |-0.0169691506|0.0169691506  |\n",
      "|0.21282902       |0.1344979458    |0.0783310742 |0.0783310742  |\n",
      "|0.008616232      |0.0252259573    |-0.0166097253|0.0166097253  |\n",
      "|0.22353202       |0.1162410350    |0.1072909850 |0.1072909850  |\n",
      "|0.060671132      |0.0592845674    |0.0013865646 |0.0013865646  |\n",
      "|0.0066638533     |0.0241444774    |-0.0174806241|0.0174806241  |\n",
      "|0.09427214       |0.0581787819    |0.0360933581 |0.0360933581  |\n",
      "|0.63186514       |0.7505860890    |-0.1187209490|0.1187209490  |\n",
      "|0.18044521       |0.2149231503    |-0.0344779403|0.0344779403  |\n",
      "|0.014336902      |0.0289593499    |-0.0146224479|0.0146224479  |\n",
      "+-----------------+----------------+-------------+--------------+\n",
      "only showing top 50 rows\n",
      "\n"
     ]
    },
    {
     "name": "stderr",
     "output_type": "stream",
     "text": [
      "                                                                                \r"
     ]
    }
   ],
   "source": [
    "# Define a function to extract the probability of the goal (class 1)\n",
    "def extract_goal_probability(probability):\n",
    "    return float(probability[1])\n",
    "\n",
    "# Register the function as a UDF\n",
    "extract_goal_probability_udf = udf(extract_goal_probability, DoubleType())\n",
    "\n",
    "# Create a new column with the goal probability\n",
    "predictions_with_goal_prob = predictions.withColumn(\"goal_probability\", extract_goal_probability_udf(col(\"probability\")))\n",
    "\n",
    "# Format the goal_probability to remove scientific notation\n",
    "predictions_with_goal_prob = predictions_with_goal_prob.withColumn(\"goal_probability\", format_number(col(\"goal_probability\"), 10))\n",
    "\n",
    "# Add a new column showing the difference between shot_statsbomb_xg and goal_probability\n",
    "predictions_with_goal_prob = predictions_with_goal_prob.\\\n",
    "    withColumn(\"difference\", format_number(col(\"shot_statsbomb_xg\") - col(\"goal_probability\"),10))\n",
    "\n",
    "predictions_with_goal_prob = predictions_with_goal_prob.\\\n",
    "    withColumn(\"difference_abs\", format_number(abs(col('difference')),10))\n",
    "\n",
    "# Show the results\n",
    "predictions_with_goal_prob.select(\"shot_statsbomb_xg\", \"goal_probability\", \"difference\",'difference_abs').show(50,False)"
   ]
  },
  {
   "cell_type": "code",
   "execution_count": 15,
   "metadata": {},
   "outputs": [
    {
     "name": "stderr",
     "output_type": "stream",
     "text": [
      "                                                                                \r"
     ]
    },
    {
     "name": "stdout",
     "output_type": "stream",
     "text": [
      "Average difference: -0.006297632282196625\n",
      "Abs average difference: 0.03164849157705469\n"
     ]
    }
   ],
   "source": [
    "# average of the difference\n",
    "avg_diff = predictions_with_goal_prob.select(avg(col(\"difference\"))).collect()[0][0]\n",
    "abs_avg_diff = predictions_with_goal_prob.select(avg(col(\"difference_abs\"))).collect()[0][0]\n",
    "\n",
    "print(f\"Average difference: {avg_diff}\")\n",
    "print(f\"Abs average difference: {abs_avg_diff}\")"
   ]
  },
  {
   "cell_type": "code",
   "execution_count": 16,
   "metadata": {},
   "outputs": [
    {
     "name": "stdout",
     "output_type": "stream",
     "text": [
      "Model Accuracy: 90.27%\n",
      "StatsBomb xG Accuracy: 90.32%\n"
     ]
    }
   ],
   "source": [
    "# round the goal_probability to 0 or 1, same for the shot_statsbomb_xg and compare with goal to check the accuracy of the model\n",
    "# vs the accuracy of the shot_statsbomb_xg model\n",
    "predictions_with_goal_prob = predictions_with_goal_prob.withColumn(\"goal_probability_rounded\", round(col(\"goal_probability\")))\\\n",
    "    .withColumn(\"shot_statsbomb_xg_rounded\", round(col(\"shot_statsbomb_xg\")))\n",
    "\n",
    "# Check if the rounded probability matches the actual goal for your model\n",
    "predictions_with_accuracy = predictions_with_goal_prob.withColumn(\n",
    "    \"model_correct\", when(col(\"goal\") == col(\"goal_probability_rounded\"), 1).otherwise(0))\\\n",
    "    .withColumn(\"statsbomb_correct\", when(col(\"goal\") == col(\"shot_statsbomb_xg_rounded\"), 1).otherwise(0))\n",
    "# Calculate accuracy\n",
    "accuracy_model = predictions_with_accuracy.selectExpr(\"avg(model_correct) as model_accuracy\").first()[\"model_accuracy\"]\n",
    "accuracy_statsbomb = predictions_with_accuracy.selectExpr(\"avg(statsbomb_correct) as statsbomb_accuracy\").first()[\"statsbomb_accuracy\"]\n",
    "\n",
    "print(f\"Model Accuracy: {accuracy_model * 100:.2f}%\")\n",
    "print(f\"StatsBomb xG Accuracy: {accuracy_statsbomb * 100:.2f}%\")"
   ]
  },
  {
   "cell_type": "code",
   "execution_count": 17,
   "metadata": {},
   "outputs": [
    {
     "name": "stdout",
     "output_type": "stream",
     "text": [
      "Models matching percentage: 98.54%\n"
     ]
    }
   ],
   "source": [
    "# Testing matching of models, is out model as good as SB_xg?\n",
    "predictions_with_accuracy = predictions_with_goal_prob.withColumn(\n",
    "    \"model_to_sbxg\", when(col(\"goal_probability_rounded\") == col(\"shot_statsbomb_xg_rounded\"), 1).otherwise(0))\n",
    "\n",
    "xg_accuracy_model = predictions_with_accuracy.selectExpr(\"avg(model_to_sbxg) as model_accuracy\").first()[\"model_accuracy\"]\n",
    "\n",
    "print(f\"Models matching percentage: {xg_accuracy_model * 100:.2f}%\")"
   ]
  },
  {
   "cell_type": "code",
   "execution_count": null,
   "metadata": {},
   "outputs": [],
   "source": [
    "# show each feature with its coefficient\n",
    "coefficients = xg_model.stages[-1].coefficients\n",
    "features_coefficients = list(zip(features, coefficients))\n",
    "\n",
    "for feature, coefficient in features_coefficients:\n",
    "    print(f\"{feature}: {coefficient}\")"
   ]
  },
  {
   "cell_type": "code",
   "execution_count": 19,
   "metadata": {},
   "outputs": [],
   "source": [
    "train_predictions = xg_model.transform(train_data)\n",
    "test_predictions = xg_model.transform(test_data)"
   ]
  },
  {
   "cell_type": "code",
   "execution_count": 20,
   "metadata": {},
   "outputs": [
    {
     "name": "stdout",
     "output_type": "stream",
     "text": [
      "Train accuracy: 91.05%\n",
      "Test accuracy: 90.27%\n"
     ]
    }
   ],
   "source": [
    "# calculate accuracy for each model\n",
    "train_accuracy = train_predictions.filter(train_predictions.goal == train_predictions.prediction).count() / train_predictions.count()\n",
    "\n",
    "test_accuracy = test_predictions.filter(test_predictions.goal == test_predictions.prediction).count() / test_predictions.count()\n",
    "\n",
    "print(f\"Train accuracy: {train_accuracy * 100:.2f}%\")\n",
    "print(f\"Test accuracy: {test_accuracy * 100:.2f}%\")"
   ]
  },
  {
   "cell_type": "code",
   "execution_count": 75,
   "metadata": {},
   "outputs": [],
   "source": [
    "spark.stop()"
   ]
  },
  {
   "cell_type": "code",
   "execution_count": null,
   "metadata": {},
   "outputs": [],
   "source": []
  }
 ],
 "metadata": {
  "kernelspec": {
   "display_name": "myenv",
   "language": "python",
   "name": "python3"
  },
  "language_info": {
   "codemirror_mode": {
    "name": "ipython",
    "version": 3
   },
   "file_extension": ".py",
   "mimetype": "text/x-python",
   "name": "python",
   "nbconvert_exporter": "python",
   "pygments_lexer": "ipython3",
   "version": "3.12.3"
  }
 },
 "nbformat": 4,
 "nbformat_minor": 2
}
