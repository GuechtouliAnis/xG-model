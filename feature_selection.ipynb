{
 "cells": [
  {
   "cell_type": "code",
   "execution_count": 1,
   "metadata": {},
   "outputs": [],
   "source": [
    "from pyspark.sql import SparkSession\n",
    "from pyspark.sql.functions import col, sum as _sum, count, when"
   ]
  },
  {
   "cell_type": "code",
   "execution_count": 2,
   "metadata": {},
   "outputs": [
    {
     "name": "stderr",
     "output_type": "stream",
     "text": [
      "your 131072x1 screen size is bogus. expect trouble\n",
      "Setting default log level to \"WARN\".\n",
      "To adjust logging level use sc.setLogLevel(newLevel). For SparkR, use setLogLevel(newLevel).\n",
      "24/12/24 09:24:10 WARN NativeCodeLoader: Unable to load native-hadoop library for your platform... using builtin-java classes where applicable\n"
     ]
    }
   ],
   "source": [
    "spark = SparkSession.builder.appName('Features').getOrCreate()"
   ]
  },
  {
   "cell_type": "code",
   "execution_count": 3,
   "metadata": {},
   "outputs": [
    {
     "name": "stderr",
     "output_type": "stream",
     "text": [
      "                                                                                \r"
     ]
    }
   ],
   "source": [
    "events = spark.read.csv('Data/events.csv',header=True,inferSchema=True,sep=';')"
   ]
  },
  {
   "cell_type": "code",
   "execution_count": 27,
   "metadata": {},
   "outputs": [
    {
     "name": "stderr",
     "output_type": "stream",
     "text": [
      "                                                                                \r"
     ]
    },
    {
     "data": {
      "text/plain": [
       "61608"
      ]
     },
     "execution_count": 27,
     "metadata": {},
     "output_type": "execute_result"
    }
   ],
   "source": [
    "shot_events = events.filter(col('type')=='Shot')\n",
    "shot_events.count()"
   ]
  },
  {
   "cell_type": "code",
   "execution_count": null,
   "metadata": {},
   "outputs": [],
   "source": [
    "to_drop = []\n",
    "l = shot_events.count()\n",
    "for column in shot_events.columns:\n",
    "    if shot_events.filter(col(column).isNull()).count() == l:\n",
    "        to_drop.append(column)\n",
    "    print(column)"
   ]
  },
  {
   "cell_type": "code",
   "execution_count": 32,
   "metadata": {},
   "outputs": [],
   "source": [
    "cols = [c for c in shot_events.columns if c not in to_drop]"
   ]
  },
  {
   "cell_type": "code",
   "execution_count": 9,
   "metadata": {},
   "outputs": [],
   "source": [
    "# Reorder\n",
    "SHOT_COLUMNS = ['id','period','duration','location','player_id','position', # Player info\n",
    "                'play_pattern','shot_body_part','shot_technique','shot_type',        # Shot info\n",
    "                'related_events', 'shot_freeze_frame', 'shot_key_pass_id', 'shot_end_location', # Complicated info\n",
    "                'under_pressure','shot_aerial_won','shot_first_time','shot_one_on_one','shot_open_goal','shot_follows_dribble', # Boolean\n",
    "                'shot_statsbomb_xg','shot_outcome'# Target\n",
    "                ]"
   ]
  },
  {
   "cell_type": "code",
   "execution_count": 28,
   "metadata": {},
   "outputs": [],
   "source": [
    "shot_events = shot_events.select(SHOT_COLUMNS)"
   ]
  },
  {
   "cell_type": "code",
   "execution_count": 11,
   "metadata": {},
   "outputs": [
    {
     "name": "stdout",
     "output_type": "stream",
     "text": [
      "+--------------------+------+--------+-------------+---------+--------------------+--------------+--------------+--------------+---------+--------------------+--------------------+--------------------+------------------+--------------+---------------+---------------+---------------+--------------+--------------------+-----------------+------------+\n",
      "|                  id|period|duration|     location|player_id|            position|  play_pattern|shot_body_part|shot_technique|shot_type|      related_events|   shot_freeze_frame|    shot_key_pass_id| shot_end_location|under_pressure|shot_aerial_won|shot_first_time|shot_one_on_one|shot_open_goal|shot_follows_dribble|shot_statsbomb_xg|shot_outcome|\n",
      "+--------------------+------+--------+-------------+---------+--------------------+--------------+--------------+--------------+---------+--------------------+--------------------+--------------------+------------------+--------------+---------------+---------------+---------------+--------------+--------------------+-----------------+------------+\n",
      "|3c3fd192-a115-47b...|     1|1.368232|[105.6, 44.0]|  29560.0| Left Center Forward| From Kick Off|    Right Foot|   Half Volley|Open Play|['07d5688a-516d-4...|[{'location': [11...|1181dfe8-4feb-4a8...|[120.0, 31.9, 0.5]|          NULL|           NULL|           true|           NULL|          NULL|                NULL|       0.07213958|       Off T|\n",
      "|b164d43a-c2cd-423...|     1|0.894033| [98.6, 25.2]|  27158.0| Left Center Forward|   From Keeper|    Right Foot|        Normal|Open Play|['927178da-7ce7-4...|[{'location': [83...|0f75d90d-d5ec-431...|[117.9, 37.0, 0.3]|          NULL|           NULL|           NULL|           NULL|          NULL|                NULL|       0.02977089|       Saved|\n",
      "|417a2357-d337-43c...|     1|1.245988|[105.5, 47.3]|   8817.0|Right Center Forward| From Throw In|    Right Foot|   Half Volley|Open Play|['c38acf65-9e8a-4...|[{'location': [87...|cbab18fe-61a7-46b...|[120.0, 35.9, 1.3]|          true|           NULL|           NULL|           NULL|          NULL|                NULL|       0.07589752|        Post|\n",
      "|30702c96-5580-48d...|     1|0.950649|[113.4, 38.7]|  28567.0|    Left Center Back|   From Corner|          Head|        Normal|Open Play|['bafe7649-b134-4...|[{'location': [10...|53fe0ab7-a8ef-47b...|[118.8, 38.4, 0.9]|          true|           true|           NULL|           NULL|          NULL|                NULL|       0.15686217|       Saved|\n",
      "|970398e3-c3cc-4d2...|     1|0.358856|[106.2, 36.8]|   5503.0|Right Center Forward| From Throw In|     Left Foot|        Normal|Open Play|['72b0f49f-cd54-4...|[{'location': [11...|a88be15e-8f63-466...|     [112.1, 36.8]|          NULL|           NULL|           true|           NULL|          NULL|                NULL|       0.15133068|     Blocked|\n",
      "|95ea28e2-8fe9-426...|     1|0.194326|[108.3, 39.0]|   8817.0|Right Center Forward|  Regular Play|          Head|        Normal|Open Play|['02747047-1c5b-4...|[{'location': [96...|8a59df23-bc0c-431...|     [109.0, 38.9]|          true|           true|           NULL|           NULL|          NULL|                NULL|      0.049562205|     Blocked|\n",
      "|37ba4e86-d809-40e...|     1|0.957194| [85.6, 34.4]|   5678.0|Center Defensive ...|  Regular Play|    Right Foot|        Normal|Open Play|['27b72c57-df6c-4...|[{'location': [11...|dcba2e36-eb24-4e7...|[119.0, 37.0, 1.4]|          NULL|           NULL|           NULL|           NULL|          NULL|                NULL|      0.015171255|       Saved|\n",
      "|f80a63b3-c4a6-4a9...|     1|0.115353|[112.5, 42.5]|   8817.0|Right Center Forward|   From Corner|          Head|        Normal|Open Play|['2b2f21c1-ffa7-4...|[{'location': [11...|3c10b43d-75b8-48f...|     [113.3, 42.2]|          true|           true|           NULL|           NULL|          NULL|                NULL|       0.08510399|     Blocked|\n",
      "|5cf2e059-1c44-409...|     1|0.723475|[106.1, 32.5]|  27277.0|Left Center Midfield|  Regular Play|          Head|        Normal|Open Play|['dab6fd27-7f76-4...|[{'location': [99...|1fc39432-2778-4d6...|     [118.7, 33.6]|          NULL|           NULL|           NULL|           NULL|          NULL|                NULL|       0.02531394|     Wayward|\n",
      "|c9353ed3-a087-4fd...|     1|1.290526| [83.5, 48.0]|  49395.0|Right Center Midf...| From Throw In|    Right Foot|        Normal|Open Play|['b4bcb1a8-1db3-4...|[{'location': [82...|                NULL|[118.4, 42.8, 0.2]|          NULL|           NULL|           true|           NULL|          NULL|                NULL|     0.0064736516|       Saved|\n",
      "|f4ea5b80-1de5-444...|     1|0.749153|[108.1, 39.3]|   5507.0|           Left Back|From Free Kick|          Head|        Normal|Open Play|['19f6bbaa-8c53-4...|[{'location': [93...|5410fd3f-6dc7-494...|[120.0, 40.1, 4.3]|          true|           true|           NULL|           NULL|          NULL|                NULL|      0.047531724|       Off T|\n",
      "|8592fda4-3e54-46e...|     2|1.097185|[105.5, 57.6]|   5696.0|          Right Back|   From Keeper|    Right Foot|   Half Volley|Open Play|['6e2703fc-b727-4...|[{'location': [10...|                NULL|[120.0, 34.7, 0.3]|          NULL|           NULL|           true|           NULL|          NULL|                NULL|      0.022013947|       Off T|\n",
      "|51932a82-e803-4ba...|     2|0.059054|[110.9, 25.6]|   2995.0|       Left Midfield|From Goal Kick|     Left Foot|        Normal|Open Play|['12998d12-ca4b-4...|[{'location': [11...|98be0d94-a915-47b...|[111.9, 27.2, 0.4]|          NULL|           NULL|           true|           NULL|          NULL|                NULL|       0.06569337|       Saved|\n",
      "|a8b4baa8-b879-410...|     2|0.111866| [98.9, 24.9]|  27277.0|Left Center Midfield|  Regular Play|    Right Foot|        Normal|Open Play|['6e3f3631-c435-4...|[{'location': [11...|1b1910df-2816-4e6...|     [100.1, 25.8]|          NULL|           NULL|           NULL|           NULL|          NULL|                NULL|      0.012626733|     Blocked|\n",
      "|a431db47-7da0-4eb...|     2|0.669524|[114.8, 44.1]|   3494.0|   Right Center Back|   From Corner|          Head|        Normal|Open Play|['59f54abe-fad3-4...|[{'location': [10...|2feeb87d-17ff-4fe...|[120.0, 43.9, 4.2]|          true|           true|           NULL|           NULL|          NULL|                NULL|       0.14169177|       Off T|\n",
      "|350a49bc-6914-4b3...|     2|0.172156|[107.2, 35.0]|  27886.0|Left Defensive Mi...|From Free Kick|          Head|        Normal|Open Play|['2e3c3de3-dccc-4...|[{'location': [10...|2873d799-9d73-4fb...|     [109.1, 35.8]|          NULL|           NULL|           NULL|           NULL|          NULL|                NULL|      0.040732585|     Blocked|\n",
      "|e5d66514-0a8c-446...|     2|0.675398|[107.5, 24.9]|   2995.0|       Left Midfield|  Regular Play|     Left Foot|        Normal|Open Play|['79bf4c13-9cd1-4...|[{'location': [11...|dc73da3a-d85f-475...|[117.2, 38.3, 0.2]|          true|           NULL|           NULL|           NULL|          NULL|                NULL|      0.028598836|       Saved|\n",
      "|618314a1-76b9-41e...|     2| 1.16513| [88.5, 38.1]|   5678.0|Center Defensive ...|From Free Kick|    Right Foot|        Normal|Open Play|['a037e638-9488-4...|[{'location': [11...|c4b9ad49-7b41-40f...|[120.0, 38.3, 6.7]|          NULL|           NULL|           NULL|           NULL|          NULL|                NULL|      0.019570593|       Off T|\n",
      "|9b52e5c5-5688-4b0...|     2|1.139242|[109.6, 41.5]|  28567.0|    Left Center Back|From Free Kick|          Head|        Normal|Open Play|['88e6755d-bb79-4...|[{'location': [10...|d3ddef5a-ffcb-484...|[120.0, 50.5, 3.3]|          true|           true|           NULL|           NULL|          NULL|                NULL|      0.056397837|       Off T|\n",
      "|2593d42f-61d2-4e5...|     2|0.348676| [94.8, 24.9]|   5695.0|Center Attacking ...|From Free Kick|     Left Foot|        Normal|Free Kick|['b2620910-4b63-4...|[{'location': [10...|                NULL|     [104.2, 29.3]|          NULL|           NULL|           NULL|           NULL|          NULL|                NULL|      0.039566465|     Blocked|\n",
      "+--------------------+------+--------+-------------+---------+--------------------+--------------+--------------+--------------+---------+--------------------+--------------------+--------------------+------------------+--------------+---------------+---------------+---------------+--------------+--------------------+-----------------+------------+\n",
      "only showing top 20 rows\n",
      "\n"
     ]
    }
   ],
   "source": [
    "shot_events.show()"
   ]
  },
  {
   "cell_type": "code",
   "execution_count": null,
   "metadata": {},
   "outputs": [
    {
     "name": "stderr",
     "output_type": "stream",
     "text": [
      "[Stage 699:=================================================>     (25 + 3) / 28]\r"
     ]
    },
    {
     "name": "stdout",
     "output_type": "stream",
     "text": [
      "+--------------+-----+\n",
      "|  play_pattern|count|\n",
      "+--------------+-----+\n",
      "|  Regular Play|20380|\n",
      "|From Free Kick|12822|\n",
      "| From Throw In|10650|\n",
      "|   From Corner| 9833|\n",
      "|  From Counter| 2762|\n",
      "|From Goal Kick| 2390|\n",
      "|   From Keeper| 1042|\n",
      "|         Other| 1027|\n",
      "| From Kick Off|  702|\n",
      "+--------------+-----+\n",
      "\n"
     ]
    },
    {
     "name": "stderr",
     "output_type": "stream",
     "text": [
      "                                                                                \r"
     ]
    }
   ],
   "source": [
    "# Unfold dummies # drop other # dummies -1\n",
    "shot_events.groupBy('play_pattern').count().orderBy('count',ascending=False).show()"
   ]
  },
  {
   "cell_type": "code",
   "execution_count": 29,
   "metadata": {},
   "outputs": [],
   "source": [
    "shot_events = shot_events.withColumn('other_pp',when((col('play_pattern')=='Other'),1).otherwise(0)) \\\n",
    "    .withColumn('from_fk',when((col('play_pattern')=='From Free Kick'),1).otherwise(0)) \\\n",
    "    .withColumn('from_ti',when((col('play_pattern')=='From Throw In'),1).otherwise(0)) \\\n",
    "    .withColumn('from_corner',when((col('play_pattern')=='From Corner'),1).otherwise(0)) \\\n",
    "    .withColumn('from_counter',when((col('play_pattern')=='From Counter'),1).otherwise(0)) \\\n",
    "    .withColumn('from_gk',when((col('play_pattern')=='From Goal Kick'),1).otherwise(0)) \\\n",
    "    .withColumn('from_keeper',when((col('play_pattern')=='From Keeper'),1).otherwise(0)) \\\n",
    "    .withColumn('ko',when((col('play_pattern')=='From Kick Off'),1).otherwise(0)).drop('play_pattern')"
   ]
  },
  {
   "cell_type": "code",
   "execution_count": 52,
   "metadata": {},
   "outputs": [
    {
     "name": "stderr",
     "output_type": "stream",
     "text": [
      "[Stage 702:=================================================>     (25 + 3) / 28]\r"
     ]
    },
    {
     "name": "stdout",
     "output_type": "stream",
     "text": [
      "+--------------+-----+\n",
      "|shot_body_part|count|\n",
      "+--------------+-----+\n",
      "|    Right Foot|31623|\n",
      "|     Left Foot|19880|\n",
      "|          Head| 9922|\n",
      "|         Other|  183|\n",
      "+--------------+-----+\n",
      "\n"
     ]
    },
    {
     "name": "stderr",
     "output_type": "stream",
     "text": [
      "                                                                                \r"
     ]
    }
   ],
   "source": [
    "# Head columns to be added # drop other\n",
    "shot_events.groupBy('shot_body_part').count().orderBy('count',ascending=False).show()"
   ]
  },
  {
   "cell_type": "code",
   "execution_count": 30,
   "metadata": {},
   "outputs": [],
   "source": [
    "shot_events = shot_events.withColumn('header',when((col('shot_body_part')=='Head'),1).otherwise(0)).drop('shot_body_part')"
   ]
  },
  {
   "cell_type": "code",
   "execution_count": 24,
   "metadata": {},
   "outputs": [
    {
     "name": "stderr",
     "output_type": "stream",
     "text": [
      "[Stage 17:==================================================>     (25 + 3) / 28]\r"
     ]
    },
    {
     "name": "stdout",
     "output_type": "stream",
     "text": [
      "+---------+-----+\n",
      "|shot_type|count|\n",
      "+---------+-----+\n",
      "|Open Play|57719|\n",
      "|Free Kick| 2932|\n",
      "|  Penalty|  938|\n",
      "|   Corner|   19|\n",
      "+---------+-----+\n",
      "\n"
     ]
    },
    {
     "name": "stderr",
     "output_type": "stream",
     "text": [
      "                                                                                \r"
     ]
    }
   ],
   "source": [
    "# Shot type\n",
    "shot_events.groupBy('shot_type').count().orderBy('count',ascending=False).show()"
   ]
  },
  {
   "cell_type": "code",
   "execution_count": 31,
   "metadata": {},
   "outputs": [],
   "source": [
    "shot_events =shot_events.withColumn('corner_type',when((col('shot_type')=='Corner'),1).otherwise(0)) \\\n",
    ".withColumn('fk_type',when((col('shot_type')=='Free Kick'),1).otherwise(0)) \\\n",
    ".withColumn('pk_type',when((col('shot_type')=='Penalty'),1).otherwise(0)) \\\n",
    ".drop('shot_type')"
   ]
  },
  {
   "cell_type": "code",
   "execution_count": 54,
   "metadata": {},
   "outputs": [
    {
     "name": "stderr",
     "output_type": "stream",
     "text": [
      "[Stage 708:=================================================>     (25 + 3) / 28]\r"
     ]
    },
    {
     "name": "stdout",
     "output_type": "stream",
     "text": [
      "+--------------+-----+\n",
      "|shot_technique|count|\n",
      "+--------------+-----+\n",
      "|        Normal|47396|\n",
      "|   Half Volley| 8711|\n",
      "|        Volley| 4091|\n",
      "|           Lob|  578|\n",
      "| Overhead Kick|  351|\n",
      "|      Backheel|  242|\n",
      "| Diving Header|  239|\n",
      "+--------------+-----+\n",
      "\n"
     ]
    },
    {
     "name": "stderr",
     "output_type": "stream",
     "text": [
      "                                                                                \r"
     ]
    }
   ],
   "source": [
    "# Shot technique\n",
    "shot_events.groupBy('shot_technique').count().orderBy('count',ascending=False).show()"
   ]
  },
  {
   "cell_type": "code",
   "execution_count": 32,
   "metadata": {},
   "outputs": [],
   "source": [
    "shot_events =shot_events.withColumn('half_volley_technique',when((col('shot_technique')=='Half Volley'),1).otherwise(0)) \\\n",
    ".withColumn('volley_technique',when((col('shot_technique')=='Volley'),1).otherwise(0)) \\\n",
    ".withColumn('lob_technique',when((col('shot_technique')=='Lob'),1).otherwise(0)) \\\n",
    ".withColumn('overhead_technique',when((col('shot_technique')=='Overhead Kick'),1).otherwise(0)) \\\n",
    ".withColumn('backheel_technique',when((col('shot_technique')=='Backheel'),1).otherwise(0)) \\\n",
    ".withColumn('diving_h_technique',when((col('shot_technique')=='Diving Header'),1).otherwise(0)) \\\n",
    ".drop('shot_technique')"
   ]
  },
  {
   "cell_type": "code",
   "execution_count": 33,
   "metadata": {},
   "outputs": [
    {
     "name": "stdout",
     "output_type": "stream",
     "text": [
      "+--------------------+------+--------+-------------+---------+--------------------+--------------------+--------------------+--------------------+------------------+--------------+---------------+---------------+---------------+--------------+--------------------+-----------------+------------+--------+-------+-------+-----------+------------+-------+-----------+---+------+-----------+-------+-------+---------------------+----------------+-------------+------------------+------------------+------------------+\n",
      "|                  id|period|duration|     location|player_id|            position|      related_events|   shot_freeze_frame|    shot_key_pass_id| shot_end_location|under_pressure|shot_aerial_won|shot_first_time|shot_one_on_one|shot_open_goal|shot_follows_dribble|shot_statsbomb_xg|shot_outcome|other_pp|from_fk|from_ti|from_corner|from_counter|from_gk|from_keeper| ko|header|corner_type|fk_type|pk_type|half_volley_technique|volley_technique|lob_technique|overhead_technique|backheel_technique|diving_h_technique|\n",
      "+--------------------+------+--------+-------------+---------+--------------------+--------------------+--------------------+--------------------+------------------+--------------+---------------+---------------+---------------+--------------+--------------------+-----------------+------------+--------+-------+-------+-----------+------------+-------+-----------+---+------+-----------+-------+-------+---------------------+----------------+-------------+------------------+------------------+------------------+\n",
      "|3c3fd192-a115-47b...|     1|1.368232|[105.6, 44.0]|  29560.0| Left Center Forward|['07d5688a-516d-4...|[{'location': [11...|1181dfe8-4feb-4a8...|[120.0, 31.9, 0.5]|          NULL|           NULL|           true|           NULL|          NULL|                NULL|       0.07213958|       Off T|       0|      0|      0|          0|           0|      0|          0|  1|     0|          0|      0|      0|                    1|               0|            0|                 0|                 0|                 0|\n",
      "|b164d43a-c2cd-423...|     1|0.894033| [98.6, 25.2]|  27158.0| Left Center Forward|['927178da-7ce7-4...|[{'location': [83...|0f75d90d-d5ec-431...|[117.9, 37.0, 0.3]|          NULL|           NULL|           NULL|           NULL|          NULL|                NULL|       0.02977089|       Saved|       0|      0|      0|          0|           0|      0|          1|  0|     0|          0|      0|      0|                    0|               0|            0|                 0|                 0|                 0|\n",
      "|417a2357-d337-43c...|     1|1.245988|[105.5, 47.3]|   8817.0|Right Center Forward|['c38acf65-9e8a-4...|[{'location': [87...|cbab18fe-61a7-46b...|[120.0, 35.9, 1.3]|          true|           NULL|           NULL|           NULL|          NULL|                NULL|       0.07589752|        Post|       0|      0|      1|          0|           0|      0|          0|  0|     0|          0|      0|      0|                    1|               0|            0|                 0|                 0|                 0|\n",
      "|30702c96-5580-48d...|     1|0.950649|[113.4, 38.7]|  28567.0|    Left Center Back|['bafe7649-b134-4...|[{'location': [10...|53fe0ab7-a8ef-47b...|[118.8, 38.4, 0.9]|          true|           true|           NULL|           NULL|          NULL|                NULL|       0.15686217|       Saved|       0|      0|      0|          1|           0|      0|          0|  0|     1|          0|      0|      0|                    0|               0|            0|                 0|                 0|                 0|\n",
      "|970398e3-c3cc-4d2...|     1|0.358856|[106.2, 36.8]|   5503.0|Right Center Forward|['72b0f49f-cd54-4...|[{'location': [11...|a88be15e-8f63-466...|     [112.1, 36.8]|          NULL|           NULL|           true|           NULL|          NULL|                NULL|       0.15133068|     Blocked|       0|      0|      1|          0|           0|      0|          0|  0|     0|          0|      0|      0|                    0|               0|            0|                 0|                 0|                 0|\n",
      "|95ea28e2-8fe9-426...|     1|0.194326|[108.3, 39.0]|   8817.0|Right Center Forward|['02747047-1c5b-4...|[{'location': [96...|8a59df23-bc0c-431...|     [109.0, 38.9]|          true|           true|           NULL|           NULL|          NULL|                NULL|      0.049562205|     Blocked|       0|      0|      0|          0|           0|      0|          0|  0|     1|          0|      0|      0|                    0|               0|            0|                 0|                 0|                 0|\n",
      "|37ba4e86-d809-40e...|     1|0.957194| [85.6, 34.4]|   5678.0|Center Defensive ...|['27b72c57-df6c-4...|[{'location': [11...|dcba2e36-eb24-4e7...|[119.0, 37.0, 1.4]|          NULL|           NULL|           NULL|           NULL|          NULL|                NULL|      0.015171255|       Saved|       0|      0|      0|          0|           0|      0|          0|  0|     0|          0|      0|      0|                    0|               0|            0|                 0|                 0|                 0|\n",
      "|f80a63b3-c4a6-4a9...|     1|0.115353|[112.5, 42.5]|   8817.0|Right Center Forward|['2b2f21c1-ffa7-4...|[{'location': [11...|3c10b43d-75b8-48f...|     [113.3, 42.2]|          true|           true|           NULL|           NULL|          NULL|                NULL|       0.08510399|     Blocked|       0|      0|      0|          1|           0|      0|          0|  0|     1|          0|      0|      0|                    0|               0|            0|                 0|                 0|                 0|\n",
      "|5cf2e059-1c44-409...|     1|0.723475|[106.1, 32.5]|  27277.0|Left Center Midfield|['dab6fd27-7f76-4...|[{'location': [99...|1fc39432-2778-4d6...|     [118.7, 33.6]|          NULL|           NULL|           NULL|           NULL|          NULL|                NULL|       0.02531394|     Wayward|       0|      0|      0|          0|           0|      0|          0|  0|     1|          0|      0|      0|                    0|               0|            0|                 0|                 0|                 0|\n",
      "|c9353ed3-a087-4fd...|     1|1.290526| [83.5, 48.0]|  49395.0|Right Center Midf...|['b4bcb1a8-1db3-4...|[{'location': [82...|                NULL|[118.4, 42.8, 0.2]|          NULL|           NULL|           true|           NULL|          NULL|                NULL|     0.0064736516|       Saved|       0|      0|      1|          0|           0|      0|          0|  0|     0|          0|      0|      0|                    0|               0|            0|                 0|                 0|                 0|\n",
      "|f4ea5b80-1de5-444...|     1|0.749153|[108.1, 39.3]|   5507.0|           Left Back|['19f6bbaa-8c53-4...|[{'location': [93...|5410fd3f-6dc7-494...|[120.0, 40.1, 4.3]|          true|           true|           NULL|           NULL|          NULL|                NULL|      0.047531724|       Off T|       0|      1|      0|          0|           0|      0|          0|  0|     1|          0|      0|      0|                    0|               0|            0|                 0|                 0|                 0|\n",
      "|8592fda4-3e54-46e...|     2|1.097185|[105.5, 57.6]|   5696.0|          Right Back|['6e2703fc-b727-4...|[{'location': [10...|                NULL|[120.0, 34.7, 0.3]|          NULL|           NULL|           true|           NULL|          NULL|                NULL|      0.022013947|       Off T|       0|      0|      0|          0|           0|      0|          1|  0|     0|          0|      0|      0|                    1|               0|            0|                 0|                 0|                 0|\n",
      "|51932a82-e803-4ba...|     2|0.059054|[110.9, 25.6]|   2995.0|       Left Midfield|['12998d12-ca4b-4...|[{'location': [11...|98be0d94-a915-47b...|[111.9, 27.2, 0.4]|          NULL|           NULL|           true|           NULL|          NULL|                NULL|       0.06569337|       Saved|       0|      0|      0|          0|           0|      1|          0|  0|     0|          0|      0|      0|                    0|               0|            0|                 0|                 0|                 0|\n",
      "|a8b4baa8-b879-410...|     2|0.111866| [98.9, 24.9]|  27277.0|Left Center Midfield|['6e3f3631-c435-4...|[{'location': [11...|1b1910df-2816-4e6...|     [100.1, 25.8]|          NULL|           NULL|           NULL|           NULL|          NULL|                NULL|      0.012626733|     Blocked|       0|      0|      0|          0|           0|      0|          0|  0|     0|          0|      0|      0|                    0|               0|            0|                 0|                 0|                 0|\n",
      "|a431db47-7da0-4eb...|     2|0.669524|[114.8, 44.1]|   3494.0|   Right Center Back|['59f54abe-fad3-4...|[{'location': [10...|2feeb87d-17ff-4fe...|[120.0, 43.9, 4.2]|          true|           true|           NULL|           NULL|          NULL|                NULL|       0.14169177|       Off T|       0|      0|      0|          1|           0|      0|          0|  0|     1|          0|      0|      0|                    0|               0|            0|                 0|                 0|                 0|\n",
      "|350a49bc-6914-4b3...|     2|0.172156|[107.2, 35.0]|  27886.0|Left Defensive Mi...|['2e3c3de3-dccc-4...|[{'location': [10...|2873d799-9d73-4fb...|     [109.1, 35.8]|          NULL|           NULL|           NULL|           NULL|          NULL|                NULL|      0.040732585|     Blocked|       0|      1|      0|          0|           0|      0|          0|  0|     1|          0|      0|      0|                    0|               0|            0|                 0|                 0|                 0|\n",
      "|e5d66514-0a8c-446...|     2|0.675398|[107.5, 24.9]|   2995.0|       Left Midfield|['79bf4c13-9cd1-4...|[{'location': [11...|dc73da3a-d85f-475...|[117.2, 38.3, 0.2]|          true|           NULL|           NULL|           NULL|          NULL|                NULL|      0.028598836|       Saved|       0|      0|      0|          0|           0|      0|          0|  0|     0|          0|      0|      0|                    0|               0|            0|                 0|                 0|                 0|\n",
      "|618314a1-76b9-41e...|     2| 1.16513| [88.5, 38.1]|   5678.0|Center Defensive ...|['a037e638-9488-4...|[{'location': [11...|c4b9ad49-7b41-40f...|[120.0, 38.3, 6.7]|          NULL|           NULL|           NULL|           NULL|          NULL|                NULL|      0.019570593|       Off T|       0|      1|      0|          0|           0|      0|          0|  0|     0|          0|      0|      0|                    0|               0|            0|                 0|                 0|                 0|\n",
      "|9b52e5c5-5688-4b0...|     2|1.139242|[109.6, 41.5]|  28567.0|    Left Center Back|['88e6755d-bb79-4...|[{'location': [10...|d3ddef5a-ffcb-484...|[120.0, 50.5, 3.3]|          true|           true|           NULL|           NULL|          NULL|                NULL|      0.056397837|       Off T|       0|      1|      0|          0|           0|      0|          0|  0|     1|          0|      0|      0|                    0|               0|            0|                 0|                 0|                 0|\n",
      "|2593d42f-61d2-4e5...|     2|0.348676| [94.8, 24.9]|   5695.0|Center Attacking ...|['b2620910-4b63-4...|[{'location': [10...|                NULL|     [104.2, 29.3]|          NULL|           NULL|           NULL|           NULL|          NULL|                NULL|      0.039566465|     Blocked|       0|      1|      0|          0|           0|      0|          0|  0|     0|          0|      1|      0|                    0|               0|            0|                 0|                 0|                 0|\n",
      "+--------------------+------+--------+-------------+---------+--------------------+--------------------+--------------------+--------------------+------------------+--------------+---------------+---------------+---------------+--------------+--------------------+-----------------+------------+--------+-------+-------+-----------+------------+-------+-----------+---+------+-----------+-------+-------+---------------------+----------------+-------------+------------------+------------------+------------------+\n",
      "only showing top 20 rows\n",
      "\n"
     ]
    }
   ],
   "source": [
    "shot_events.show()"
   ]
  }
 ],
 "metadata": {
  "kernelspec": {
   "display_name": "myenv",
   "language": "python",
   "name": "python3"
  },
  "language_info": {
   "codemirror_mode": {
    "name": "ipython",
    "version": 3
   },
   "file_extension": ".py",
   "mimetype": "text/x-python",
   "name": "python",
   "nbconvert_exporter": "python",
   "pygments_lexer": "ipython3",
   "version": "3.12.3"
  }
 },
 "nbformat": 4,
 "nbformat_minor": 2
}
