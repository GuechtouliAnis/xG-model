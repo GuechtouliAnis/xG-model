{
 "cells": [
  {
   "cell_type": "code",
   "execution_count": 2,
   "metadata": {},
   "outputs": [],
   "source": [
    "from pyspark.sql import SparkSession"
   ]
  },
  {
   "cell_type": "code",
   "execution_count": 3,
   "metadata": {},
   "outputs": [
    {
     "name": "stderr",
     "output_type": "stream",
     "text": [
      "your 131072x1 screen size is bogus. expect trouble\n",
      "Setting default log level to \"WARN\".\n",
      "To adjust logging level use sc.setLogLevel(newLevel). For SparkR, use setLogLevel(newLevel).\n",
      "24/12/24 10:34:08 WARN NativeCodeLoader: Unable to load native-hadoop library for your platform... using builtin-java classes where applicable\n"
     ]
    }
   ],
   "source": [
    "spark = SparkSession.builder.appName(\"xG4\").getOrCreate()"
   ]
  },
  {
   "cell_type": "code",
   "execution_count": 4,
   "metadata": {},
   "outputs": [
    {
     "name": "stderr",
     "output_type": "stream",
     "text": [
      "                                                                                \r"
     ]
    }
   ],
   "source": [
    "events = spark.read.csv('Data/events.csv', header=True, inferSchema=True,sep=';')"
   ]
  },
  {
   "cell_type": "code",
   "execution_count": 5,
   "metadata": {},
   "outputs": [],
   "source": [
    "import pp_events as pp"
   ]
  },
  {
   "cell_type": "code",
   "execution_count": 6,
   "metadata": {},
   "outputs": [
    {
     "name": "stdout",
     "output_type": "stream",
     "text": [
      "Data loaded\n",
      "Spatial data calculated\n",
      "Preferred foot calculated\n",
      "Goal column created\n"
     ]
    },
    {
     "name": "stderr",
     "output_type": "stream",
     "text": [
      "                                                                                \r"
     ]
    },
    {
     "name": "stdout",
     "output_type": "stream",
     "text": [
      "Number of players inside the area calculated\n",
      "Dummies created\n",
      "Boolean data converted to integer\n"
     ]
    }
   ],
   "source": [
    "events_shot = pp.preprocessing(events,spark)"
   ]
  },
  {
   "cell_type": "code",
   "execution_count": 7,
   "metadata": {},
   "outputs": [
    {
     "data": {
      "text/plain": [
       "['id',\n",
       " 'player_id',\n",
       " 'shot_location_x',\n",
       " 'shot_location_y',\n",
       " 'distance_to_goal',\n",
       " 'shot_angle',\n",
       " 'preferred_foot_shot',\n",
       " 'other_pp',\n",
       " 'from_fk',\n",
       " 'from_ti',\n",
       " 'from_corner',\n",
       " 'from_counter',\n",
       " 'from_gk',\n",
       " 'from_keeper',\n",
       " 'from_ko',\n",
       " 'header',\n",
       " 'corner_type',\n",
       " 'fk_type',\n",
       " 'pk_type',\n",
       " 'half_volley_technique',\n",
       " 'volley_technique',\n",
       " 'lob_technique',\n",
       " 'overhead_technique',\n",
       " 'backheel_technique',\n",
       " 'diving_h_technique',\n",
       " 'under_pressure',\n",
       " 'shot_aerial_won',\n",
       " 'shot_first_time',\n",
       " 'shot_one_on_one',\n",
       " 'shot_open_goal',\n",
       " 'shot_follows_dribble',\n",
       " 'players_inside_area',\n",
       " 'shot_statsbomb_xg',\n",
       " 'shot_outcome',\n",
       " 'goal']"
      ]
     },
     "execution_count": 7,
     "metadata": {},
     "output_type": "execute_result"
    }
   ],
   "source": [
    "events_shot.columns"
   ]
  },
  {
   "cell_type": "code",
   "execution_count": 8,
   "metadata": {},
   "outputs": [
    {
     "name": "stderr",
     "output_type": "stream",
     "text": [
      "24/12/24 10:09:49 WARN SparkStringUtils: Truncated the string representation of a plan since it was too large. This behavior can be adjusted by setting 'spark.sql.debug.maxToStringFields'.\n",
      "24/12/24 10:10:05 WARN TaskSetManager: Stage 5 contains a task of very large size (1681 KiB). The maximum recommended task size is 1000 KiB.\n",
      "[Stage 13:===================================================>    (12 + 1) / 13]\r"
     ]
    },
    {
     "name": "stdout",
     "output_type": "stream",
     "text": [
      "+--------------------+---------+---------------+---------------+----------------+----------+-------------------+--------+-------+-------+-----------+------------+-------+-----------+-------+------+-----------+-------+-------+---------------------+----------------+-------------+------------------+------------------+------------------+--------------+---------------+---------------+---------------+--------------+--------------------+-------------------+-----------------+------------+----+\n",
      "|                  id|player_id|shot_location_x|shot_location_y|distance_to_goal|shot_angle|preferred_foot_shot|other_pp|from_fk|from_ti|from_corner|from_counter|from_gk|from_keeper|from_ko|header|corner_type|fk_type|pk_type|half_volley_technique|volley_technique|lob_technique|overhead_technique|backheel_technique|diving_h_technique|under_pressure|shot_aerial_won|shot_first_time|shot_one_on_one|shot_open_goal|shot_follows_dribble|players_inside_area|shot_statsbomb_xg|shot_outcome|goal|\n",
      "+--------------------+---------+---------------+---------------+----------------+----------+-------------------+--------+-------+-------+-----------+------------+-------+-----------+-------+------+-----------+-------+-------+---------------------+----------------+-------------+------------------+------------------+------------------+--------------+---------------+---------------+---------------+--------------+--------------------+-------------------+-----------------+------------+----+\n",
      "|350a49bc-6914-4b3...|  27886.0|          107.2|           35.0|         13.7419| 30.644846|                  0|       0|      1|      0|          0|           0|      0|          0|      0|     1|          0|      0|      0|                    0|               0|            0|                 0|                 0|                 0|             0|              0|              0|              0|             0|                   0|                  2|      0.040732585|     Blocked|   0|\n",
      "|37ba4e86-d809-40e...|   5678.0|           85.6|           34.4|         34.8528|  12.92981|                  1|       0|      0|      0|          0|           0|      0|          0|      0|     0|          0|      0|      0|                    0|               0|            0|                 0|                 0|                 0|             0|              0|              0|              0|             0|                   0|                  2|      0.015171255|       Saved|   0|\n",
      "|3c3fd192-a115-47b...|  29560.0|          105.6|           44.0|         14.9452| 29.054602|                  1|       0|      0|      0|          0|           0|      0|          0|      1|     0|          0|      0|      0|                    1|               0|            0|                 0|                 0|                 0|             0|              0|              1|              0|             0|                   0|                  3|       0.07213958|       Off T|   0|\n",
      "|417a2357-d337-43c...|   8817.0|          105.5|           47.3|         16.2339| 25.108313|                  1|       0|      0|      1|          0|           0|      0|          0|      0|     0|          0|      0|      0|                    1|               0|            0|                 0|                 0|                 0|             1|              0|              0|              0|             0|                   0|                  1|       0.07589752|        Post|   0|\n",
      "|618314a1-76b9-41e...|   5678.0|           88.5|           38.1|         31.5572| 14.422748|                  1|       0|      1|      0|          0|           0|      0|          0|      0|     0|          0|      0|      0|                    0|               0|            0|                 0|                 0|                 0|             0|              0|              0|              0|             0|                   0|                  3|      0.019570593|       Off T|   0|\n",
      "|8592fda4-3e54-46e...|   5696.0|          105.5|           57.6|         22.8037| 12.961155|                  1|       0|      0|      0|          0|           0|      0|          1|      0|     0|          0|      0|      0|                    1|               0|            0|                 0|                 0|                 0|             0|              0|              1|              0|             0|                   0|                  1|      0.022013947|       Off T|   0|\n",
      "|95ea28e2-8fe9-426...|   8817.0|          108.3|           39.0|         11.7427| 37.520866|                  0|       0|      0|      0|          0|           0|      0|          0|      0|     1|          0|      0|      0|                    0|               0|            0|                 0|                 0|                 0|             1|              1|              0|              0|             0|                   0|                  2|      0.049562205|     Blocked|   0|\n",
      "|970398e3-c3cc-4d2...|   5503.0|          106.2|           36.8|         14.1662| 30.870586|                  1|       0|      0|      1|          0|           0|      0|          0|      0|     0|          0|      0|      0|                    0|               0|            0|                 0|                 0|                 0|             0|              0|              1|              0|             0|                   0|                  4|       0.15133068|     Blocked|   0|\n",
      "|e5d66514-0a8c-446...|   2995.0|          107.5|           24.9|         19.6026| 15.192171|                  1|       0|      0|      0|          0|           0|      0|          0|      0|     0|          0|      0|      0|                    0|               0|            0|                 0|                 0|                 0|             1|              0|              0|              0|             0|                   0|                  1|      0.028598836|       Saved|   0|\n",
      "|f80a63b3-c4a6-4a9...|   8817.0|          112.5|           42.5|          7.9057| 52.224316|                  0|       0|      0|      0|          1|           0|      0|          0|      0|     1|          0|      0|      0|                    0|               0|            0|                 0|                 0|                 0|             1|              1|              0|              0|             0|                   0|                  2|       0.08510399|     Blocked|   0|\n",
      "|2593d42f-61d2-4e5...|   5695.0|           94.8|           24.9|         29.3777| 13.387468|                  1|       0|      1|      0|          0|           0|      0|          0|      0|     0|          0|      1|      0|                    0|               0|            0|                 0|                 0|                 0|             0|              0|              0|              0|             0|                   0|                  3|      0.039566465|     Blocked|   0|\n",
      "|30702c96-5580-48d...|  28567.0|          113.4|           38.7|          6.7268| 61.014557|                  0|       0|      0|      0|          1|           0|      0|          0|      0|     1|          0|      0|      0|                    0|               0|            0|                 0|                 0|                 0|             1|              1|              0|              0|             0|                   0|                  3|       0.15686217|       Saved|   0|\n",
      "|51932a82-e803-4ba...|   2995.0|          110.9|           25.6|         17.0344| 14.870527|                  1|       0|      0|      0|          0|           0|      1|          0|      0|     0|          0|      0|      0|                    0|               0|            0|                 0|                 0|                 0|             0|              0|              1|              0|             0|                   0|                  2|       0.06569337|       Saved|   0|\n",
      "|5cf2e059-1c44-409...|  27277.0|          106.1|           32.5|         15.7943| 25.469059|                  0|       0|      0|      0|          0|           0|      0|          0|      0|     1|          0|      0|      0|                    0|               0|            0|                 0|                 0|                 0|             0|              0|              0|              0|             0|                   0|                  1|       0.02531394|     Wayward|   0|\n",
      "|9b52e5c5-5688-4b0...|  28567.0|          109.6|           41.5|         10.5076| 41.388515|                  0|       0|      1|      0|          0|           0|      0|          0|      0|     1|          0|      0|      0|                    0|               0|            0|                 0|                 0|                 0|             1|              1|              0|              0|             0|                   0|                  1|      0.056397837|       Off T|   0|\n",
      "|a431db47-7da0-4eb...|   3494.0|          114.8|           44.1|          6.6219|  56.19886|                  0|       0|      0|      0|          1|           0|      0|          0|      0|     1|          0|      0|      0|                    0|               0|            0|                 0|                 0|                 0|             1|              1|              0|              0|             0|                   0|                  3|       0.14169177|       Off T|   0|\n",
      "|a8b4baa8-b879-410...|  27277.0|           98.9|           24.9|         25.9465| 14.404465|                  1|       0|      0|      0|          0|           0|      0|          0|      0|     0|          0|      0|      0|                    0|               0|            0|                 0|                 0|                 0|             0|              0|              0|              0|             0|                   0|                  2|      0.012626733|     Blocked|   0|\n",
      "|b164d43a-c2cd-423...|  27158.0|           98.6|           25.2|         26.0192| 14.520617|                  1|       0|      0|      0|          0|           0|      0|          1|      0|     0|          0|      0|      0|                    0|               0|            0|                 0|                 0|                 0|             0|              0|              0|              0|             0|                   0|                  1|       0.02977089|       Saved|   0|\n",
      "|c9353ed3-a087-4fd...|  49395.0|           83.5|           48.0|         37.3664| 11.945132|                  1|       0|      0|      1|          0|           0|      0|          0|      0|     0|          0|      0|      0|                    0|               0|            0|                 0|                 0|                 0|             0|              0|              1|              0|             0|                   0|                  4|     0.0064736516|       Saved|   0|\n",
      "|f07b45a7-c476-4f8...|  20687.0|          111.1|           42.0|           9.122| 46.651226|                  0|       0|      0|      0|          1|           0|      0|          0|      0|     0|          0|      0|      0|                    1|               0|            0|                 0|                 0|                 0|             0|              0|              1|              0|             0|                   0|                  3|       0.26291034|       Off T|   0|\n",
      "+--------------------+---------+---------------+---------------+----------------+----------+-------------------+--------+-------+-------+-----------+------------+-------+-----------+-------+------+-----------+-------+-------+---------------------+----------------+-------------+------------------+------------------+------------------+--------------+---------------+---------------+---------------+--------------+--------------------+-------------------+-----------------+------------+----+\n",
      "only showing top 20 rows\n",
      "\n"
     ]
    },
    {
     "name": "stderr",
     "output_type": "stream",
     "text": [
      "                                                                                \r"
     ]
    }
   ],
   "source": [
    "events_shot.show()"
   ]
  },
  {
   "cell_type": "code",
   "execution_count": 9,
   "metadata": {},
   "outputs": [
    {
     "name": "stderr",
     "output_type": "stream",
     "text": [
      "24/12/24 10:35:22 WARN SparkStringUtils: Truncated the string representation of a plan since it was too large. This behavior can be adjusted by setting 'spark.sql.debug.maxToStringFields'.\n"
     ]
    }
   ],
   "source": [
    "# since the dataframe is final, we save it into a variable in memory\n",
    "events_shot = events_shot.cache()"
   ]
  },
  {
   "cell_type": "code",
   "execution_count": 11,
   "metadata": {},
   "outputs": [
    {
     "name": "stdout",
     "output_type": "stream",
     "text": [
      "root\n",
      " |-- id: string (nullable = true)\n",
      " |-- player_id: double (nullable = false)\n",
      " |-- shot_location_x: float (nullable = false)\n",
      " |-- shot_location_y: float (nullable = false)\n",
      " |-- distance_to_goal: double (nullable = false)\n",
      " |-- shot_angle: float (nullable = false)\n",
      " |-- preferred_foot_shot: integer (nullable = true)\n",
      " |-- other_pp: integer (nullable = false)\n",
      " |-- from_fk: integer (nullable = false)\n",
      " |-- from_ti: integer (nullable = false)\n",
      " |-- from_corner: integer (nullable = false)\n",
      " |-- from_counter: integer (nullable = false)\n",
      " |-- from_gk: integer (nullable = false)\n",
      " |-- from_keeper: integer (nullable = false)\n",
      " |-- from_ko: integer (nullable = false)\n",
      " |-- header: integer (nullable = false)\n",
      " |-- corner_type: integer (nullable = false)\n",
      " |-- fk_type: integer (nullable = false)\n",
      " |-- pk_type: integer (nullable = false)\n",
      " |-- half_volley_technique: integer (nullable = false)\n",
      " |-- volley_technique: integer (nullable = false)\n",
      " |-- lob_technique: integer (nullable = false)\n",
      " |-- overhead_technique: integer (nullable = false)\n",
      " |-- backheel_technique: integer (nullable = false)\n",
      " |-- diving_h_technique: integer (nullable = false)\n",
      " |-- under_pressure: integer (nullable = true)\n",
      " |-- shot_aerial_won: integer (nullable = true)\n",
      " |-- shot_first_time: integer (nullable = true)\n",
      " |-- shot_one_on_one: integer (nullable = true)\n",
      " |-- shot_open_goal: integer (nullable = true)\n",
      " |-- shot_follows_dribble: integer (nullable = true)\n",
      " |-- players_inside_area: integer (nullable = true)\n",
      " |-- shot_statsbomb_xg: double (nullable = false)\n",
      " |-- shot_outcome: string (nullable = true)\n",
      " |-- goal: integer (nullable = true)\n",
      "\n"
     ]
    }
   ],
   "source": [
    "events_shot.printSchema()"
   ]
  },
  {
   "cell_type": "code",
   "execution_count": 12,
   "metadata": {},
   "outputs": [],
   "source": [
    "features = ['other_pp','from_fk','from_ti','from_corner','from_counter','from_gk','from_keeper','from_ko',\n",
    "            'header','corner_type','fk_type','pk_type',\n",
    "            'half_volley_technique','volley_technique','lob_technique','overhead_technique','backheel_technique','diving_h_technique',\n",
    "            'distance_to_goal', 'shot_angle', 'preferred_foot_shot', 'under_pressure',\n",
    "            'shot_aerial_won','shot_first_time','shot_one_on_one','shot_open_goal','shot_follows_dribble','players_inside_area']\n",
    "target = ['goal']"
   ]
  },
  {
   "cell_type": "code",
   "execution_count": 40,
   "metadata": {},
   "outputs": [],
   "source": [
    "input_size = len(features)\n",
    "output_size = 2"
   ]
  },
  {
   "cell_type": "code",
   "execution_count": 50,
   "metadata": {},
   "outputs": [],
   "source": [
    "from pyspark.ml.feature import VectorAssembler\n",
    "\n",
    "# Define the assembler\n",
    "feature_assembler = VectorAssembler(inputCols=features, outputCol=\"features_vector\")\n",
    "\n",
    "# Transform the dataset\n",
    "assembled_data = feature_assembler.transform(events_shot)\n",
    "train_data, test_data = assembled_data.randomSplit([0.8, 0.2], seed=42)"
   ]
  },
  {
   "cell_type": "code",
   "execution_count": 25,
   "metadata": {},
   "outputs": [
    {
     "name": "stderr",
     "output_type": "stream",
     "text": [
      "                                                                                \r"
     ]
    },
    {
     "name": "stdout",
     "output_type": "stream",
     "text": [
      "ROC-AUC: 0.8208104305719148\n"
     ]
    }
   ],
   "source": [
    "from pyspark.ml.classification import LogisticRegression\n",
    "from pyspark.ml import Pipeline\n",
    "\n",
    "# Define the logistic regression model\n",
    "log_reg = LogisticRegression(featuresCol=\"features_vector\", labelCol=\"goal\", maxIter=10)\n",
    "# Create the pipeline\n",
    "pipeline = Pipeline(stages=[log_reg])\n",
    "# Still rerunning all, fix that\n",
    "xg_model = pipeline.fit(train_data)\n",
    "# Make predictions\n",
    "predictions = xg_model.transform(test_data)\n",
    "\n",
    "# Evaluate using BinaryClassificationEvaluator\n",
    "from pyspark.ml.evaluation import BinaryClassificationEvaluator\n",
    "\n",
    "evaluator = BinaryClassificationEvaluator(labelCol=\"goal\", rawPredictionCol=\"rawPrediction\")\n",
    "roc_auc = evaluator.evaluate(predictions)\n",
    "print(f\"ROC-AUC: {roc_auc}\")"
   ]
  },
  {
   "cell_type": "code",
   "execution_count": 26,
   "metadata": {},
   "outputs": [
    {
     "name": "stderr",
     "output_type": "stream",
     "text": [
      "                                                                                \r"
     ]
    },
    {
     "name": "stdout",
     "output_type": "stream",
     "text": [
      "ROC-AUC: 0.8002699184113593\n"
     ]
    }
   ],
   "source": [
    "from pyspark.ml.classification import RandomForestClassifier\n",
    "\n",
    "# Define the Random Forest classifier\n",
    "rf = RandomForestClassifier(featuresCol=\"features_vector\", labelCol=\"goal\", numTrees=100)\n",
    "\n",
    "# Create the pipeline\n",
    "pipeline = Pipeline(stages=[rf])\n",
    "\n",
    "# Fit the model\n",
    "xg_model = pipeline.fit(train_data)\n",
    "\n",
    "# Make predictions\n",
    "predictions = xg_model.transform(test_data)\n",
    "\n",
    "# Evaluate using BinaryClassificationEvaluator\n",
    "from pyspark.ml.evaluation import BinaryClassificationEvaluator\n",
    "\n",
    "evaluator = BinaryClassificationEvaluator(labelCol=\"goal\", rawPredictionCol=\"rawPrediction\")\n",
    "roc_auc = evaluator.evaluate(predictions)\n",
    "print(f\"ROC-AUC: {roc_auc}\")"
   ]
  },
  {
   "cell_type": "code",
   "execution_count": 51,
   "metadata": {},
   "outputs": [
    {
     "name": "stderr",
     "output_type": "stream",
     "text": [
      "                                                                                \r"
     ]
    },
    {
     "name": "stdout",
     "output_type": "stream",
     "text": [
      "ROC-AUC: 0.8302907476199586\n"
     ]
    }
   ],
   "source": [
    "#### BEST MODEL SO FAR ####\n",
    "from pyspark.ml.classification import GBTClassifier\n",
    "\n",
    "# Define the Gradient-Boosted Tree classifier\n",
    "gbt = GBTClassifier(featuresCol=\"features_vector\", labelCol=\"goal\", maxIter=50)\n",
    "\n",
    "# Create the pipeline\n",
    "pipeline = Pipeline(stages=[gbt])\n",
    "\n",
    "# Fit the model\n",
    "xg_model = pipeline.fit(train_data)\n",
    "\n",
    "# Make predictions\n",
    "predictions = xg_model.transform(test_data)\n",
    "\n",
    "# Evaluate using BinaryClassificationEvaluator\n",
    "from pyspark.ml.evaluation import BinaryClassificationEvaluator\n",
    "\n",
    "evaluator = BinaryClassificationEvaluator(labelCol=\"goal\", rawPredictionCol=\"rawPrediction\")\n",
    "roc_auc = evaluator.evaluate(predictions)\n",
    "print(f\"ROC-AUC: {roc_auc}\")"
   ]
  },
  {
   "cell_type": "code",
   "execution_count": 42,
   "metadata": {},
   "outputs": [
    {
     "name": "stderr",
     "output_type": "stream",
     "text": [
      "                                                                                \r"
     ]
    },
    {
     "name": "stdout",
     "output_type": "stream",
     "text": [
      "ROC-AUC: 0.815963763021576\n"
     ]
    }
   ],
   "source": [
    "from pyspark.ml.classification import MultilayerPerceptronClassifier\n",
    "\n",
    "# Define the Multilayer Perceptron classifier\n",
    "layers = [input_size, 64, 32, output_size]  # Example layers, adjust input_size and output_size based on your data\n",
    "\n",
    "mlp = MultilayerPerceptronClassifier(featuresCol=\"features_vector\", labelCol=\"goal\", maxIter=100, layers=layers, blockSize=128, seed=1234)\n",
    "\n",
    "# Create the pipeline\n",
    "pipeline = Pipeline(stages=[mlp])\n",
    "\n",
    "# Fit the model\n",
    "xg_model = pipeline.fit(train_data)\n",
    "\n",
    "# Make predictions\n",
    "predictions = xg_model.transform(test_data)\n",
    "\n",
    "# Evaluate using BinaryClassificationEvaluator\n",
    "from pyspark.ml.evaluation import BinaryClassificationEvaluator\n",
    "\n",
    "evaluator = BinaryClassificationEvaluator(labelCol=\"goal\", rawPredictionCol=\"rawPrediction\")\n",
    "roc_auc = evaluator.evaluate(predictions)\n",
    "print(f\"ROC-AUC: {roc_auc}\")"
   ]
  },
  {
   "cell_type": "markdown",
   "metadata": {},
   "source": [
    "#### For Gradient Boosted Trees"
   ]
  },
  {
   "cell_type": "code",
   "execution_count": 53,
   "metadata": {},
   "outputs": [
    {
     "name": "stderr",
     "output_type": "stream",
     "text": [
      "                                                                                \r"
     ]
    },
    {
     "name": "stdout",
     "output_type": "stream",
     "text": [
      "+-----------------+----------------+-------------+--------------+\n",
      "|shot_statsbomb_xg|goal_probability|difference   |difference_abs|\n",
      "+-----------------+----------------+-------------+--------------+\n",
      "|0.04334119       |0.0442383436    |-0.0008971536|0.0008971536  |\n",
      "|0.05638644       |0.0655555143    |-0.0091690743|0.0091690743  |\n",
      "|0.044450935      |0.0461660490    |-0.0017151140|0.0017151140  |\n",
      "|0.03511139       |0.0429432182    |-0.0078318282|0.0078318282  |\n",
      "|0.049519155      |0.0794661805    |-0.0299470255|0.0299470255  |\n",
      "|0.022752915      |0.0308045651    |-0.0080516501|0.0080516501  |\n",
      "|0.0752324        |0.0633063663    |0.0119260337 |0.0119260337  |\n",
      "|0.11348543       |0.1600260435    |-0.0465406135|0.0465406135  |\n",
      "|0.026074365      |0.0272461809    |-0.0011718159|0.0011718159  |\n",
      "|0.026830109      |0.0402648339    |-0.0134347249|0.0134347249  |\n",
      "|0.086427316      |0.0751393844    |0.0112879316 |0.0112879316  |\n",
      "|0.05394276       |0.0831078360    |-0.0291650760|0.0291650760  |\n",
      "|0.013839425      |0.0373397298    |-0.0235003048|0.0235003048  |\n",
      "|0.097535945      |0.0837230246    |0.0138129204 |0.0138129204  |\n",
      "|0.037947286      |0.1305356389    |-0.0925883529|0.0925883529  |\n",
      "|0.3327469        |0.1995549480    |0.1331919520 |0.1331919520  |\n",
      "|0.029722635      |0.0413709777    |-0.0116483427|0.0116483427  |\n",
      "|0.20455238       |0.1652240277    |0.0393283523 |0.0393283523  |\n",
      "|0.21165605       |0.2250862779    |-0.0134302279|0.0134302279  |\n",
      "|0.32175186       |0.2983429985    |0.0234088615 |0.0234088615  |\n",
      "|0.11931052       |0.1222230694    |-0.0029125494|0.0029125494  |\n",
      "|0.052501235      |0.0417152099    |0.0107860251 |0.0107860251  |\n",
      "|0.18321046       |0.0904054777    |0.0928049823 |0.0928049823  |\n",
      "|0.06748764       |0.0894962393    |-0.0220085993|0.0220085993  |\n",
      "|0.05705399       |0.0604750559    |-0.0034210659|0.0034210659  |\n",
      "|0.15204303       |0.2555919513    |-0.1035489213|0.1035489213  |\n",
      "|0.021367695      |0.0307804185    |-0.0094127235|0.0094127235  |\n",
      "|0.109354734      |0.2314081253    |-0.1220533913|0.1220533913  |\n",
      "|0.022916166      |0.0298046212    |-0.0068884552|0.0068884552  |\n",
      "|0.0800709        |0.0785745603    |0.0014963397 |0.0014963397  |\n",
      "|0.08608417       |0.0565485778    |0.0295355922 |0.0295355922  |\n",
      "|0.14665367       |0.0529328592    |0.0937208108 |0.0937208108  |\n",
      "|0.091898784      |0.2549919929    |-0.1630932089|0.1630932089  |\n",
      "|0.056368727      |0.0722855603    |-0.0159168333|0.0159168333  |\n",
      "|0.032914147      |0.0468554543    |-0.0139413073|0.0139413073  |\n",
      "|0.11521211       |0.0876990890    |0.0275130210 |0.0275130210  |\n",
      "|0.027717026      |0.0366926850    |-0.0089756590|0.0089756590  |\n",
      "|0.0076719634     |0.0298046212    |-0.0221326578|0.0221326578  |\n",
      "|0.09880479       |0.0564731748    |0.0423316152 |0.0423316152  |\n",
      "|0.05654552       |0.0848194601    |-0.0282739401|0.0282739401  |\n",
      "|0.007751971      |0.0620518089    |-0.0542998379|0.0542998379  |\n",
      "|0.05012093       |0.0844681287    |-0.0343471987|0.0343471987  |\n",
      "|0.092985675      |0.0972969403    |-0.0043112653|0.0043112653  |\n",
      "|0.013472787      |0.0252791440    |-0.0118063570|0.0118063570  |\n",
      "|0.09525558       |0.1930284744    |-0.0977728944|0.0977728944  |\n",
      "|0.013968952      |0.0287644895    |-0.0147955375|0.0147955375  |\n",
      "|0.0562651        |0.0690953858    |-0.0128302858|0.0128302858  |\n",
      "|0.37003344       |0.3290616798    |0.0409717602 |0.0409717602  |\n",
      "|0.18960205       |0.2139324718    |-0.0243304218|0.0243304218  |\n",
      "|0.15445817       |0.2314081253    |-0.0769499553|0.0769499553  |\n",
      "+-----------------+----------------+-------------+--------------+\n",
      "only showing top 50 rows\n",
      "\n"
     ]
    }
   ],
   "source": [
    "from pyspark.sql.functions import col, udf, format_number, abs\n",
    "from pyspark.sql.types import DoubleType\n",
    "\n",
    "# Define a function to extract the probability of the goal (class 1)\n",
    "def extract_goal_probability(probability):\n",
    "    return float(probability[1])\n",
    "\n",
    "# Register the function as a UDF\n",
    "extract_goal_probability_udf = udf(extract_goal_probability, DoubleType())\n",
    "\n",
    "# Create a new column with the goal probability\n",
    "predictions_with_goal_prob = predictions.withColumn(\"goal_probability\", extract_goal_probability_udf(col(\"probability\")))\n",
    "\n",
    "# Format the goal_probability to remove scientific notation\n",
    "predictions_with_goal_prob = predictions_with_goal_prob.withColumn(\"goal_probability\", format_number(col(\"goal_probability\"), 10))\n",
    "\n",
    "# Add a new column showing the difference between shot_statsbomb_xg and goal_probability\n",
    "predictions_with_goal_prob = predictions_with_goal_prob.\\\n",
    "    withColumn(\"difference\", format_number(col(\"shot_statsbomb_xg\") - col(\"goal_probability\"),10))\n",
    "\n",
    "predictions_with_goal_prob = predictions_with_goal_prob.\\\n",
    "    withColumn(\"difference_abs\", format_number(abs(col('difference')),10))\n",
    "\n",
    "# Show the results\n",
    "predictions_with_goal_prob.select(\"shot_statsbomb_xg\", \"goal_probability\", \"difference\",'difference_abs').show(50,False)"
   ]
  },
  {
   "cell_type": "code",
   "execution_count": 60,
   "metadata": {},
   "outputs": [
    {
     "name": "stderr",
     "output_type": "stream",
     "text": [
      "[Stage 2841:===============================================>   (186 + 12) / 200]\r"
     ]
    },
    {
     "name": "stdout",
     "output_type": "stream",
     "text": [
      "Average difference: -0.009339334603859556\n",
      "Abs average difference: 0.03416779791071109\n"
     ]
    },
    {
     "name": "stderr",
     "output_type": "stream",
     "text": [
      "                                                                                \r"
     ]
    }
   ],
   "source": [
    "# average of the difference\n",
    "from pyspark.sql.functions import avg\n",
    "\n",
    "avg_diff = predictions_with_goal_prob.select(avg(col(\"difference\"))).collect()[0][0]\n",
    "abs_avg_diff = predictions_with_goal_prob.select(avg(col(\"difference_abs\"))).collect()[0][0]\n",
    "\n",
    "print(f\"Average difference: {avg_diff}\")\n",
    "print(f\"Abs average difference: {abs_avg_diff}\")"
   ]
  },
  {
   "cell_type": "code",
   "execution_count": 55,
   "metadata": {},
   "outputs": [],
   "source": [
    "# round the goal_probability to 0 or 1, same for the shot_statsbomb_xg and compare with goal to check the accuracy of the model\n",
    "# vs the accuracy of the shot_statsbomb_xg model\n",
    "\n",
    "from pyspark.sql.functions import round\n",
    "\n",
    "predictions_with_goal_prob = predictions_with_goal_prob.withColumn(\"goal_probability_rounded\", round(col(\"goal_probability\")))\\\n",
    "    .withColumn(\"shot_statsbomb_xg_rounded\", round(col(\"shot_statsbomb_xg\")))\n",
    "\n",
    "# predictions_with_goal_prob.select(\"goal\", \"goal_probability_rounded\", \"shot_statsbomb_xg_rounded\").show()"
   ]
  },
  {
   "cell_type": "code",
   "execution_count": 56,
   "metadata": {},
   "outputs": [],
   "source": [
    "from pyspark.sql.functions import col, when\n",
    "\n",
    "# Check if the rounded probability matches the actual goal for your model\n",
    "predictions_with_accuracy = predictions_with_goal_prob.withColumn(\n",
    "    \"model_correct\", when(col(\"goal\") == col(\"goal_probability_rounded\"), 1).otherwise(0)\n",
    ").withColumn(\n",
    "    \"statsbomb_correct\", when(col(\"goal\") == col(\"shot_statsbomb_xg_rounded\"), 1).otherwise(0)\n",
    ")"
   ]
  },
  {
   "cell_type": "code",
   "execution_count": 57,
   "metadata": {},
   "outputs": [
    {
     "name": "stderr",
     "output_type": "stream",
     "text": [
      "[Stage 2820:================================================>  (190 + 10) / 200]\r"
     ]
    },
    {
     "name": "stdout",
     "output_type": "stream",
     "text": [
      "Model Accuracy: 90.94%\n",
      "StatsBomb xG Accuracy: 90.90%\n"
     ]
    },
    {
     "name": "stderr",
     "output_type": "stream",
     "text": [
      "                                                                                \r"
     ]
    }
   ],
   "source": [
    "# Calculate accuracy\n",
    "accuracy_model = predictions_with_accuracy.selectExpr(\"avg(model_correct) as model_accuracy\").first()[\"model_accuracy\"]\n",
    "accuracy_statsbomb = predictions_with_accuracy.selectExpr(\"avg(statsbomb_correct) as statsbomb_accuracy\").first()[\"statsbomb_accuracy\"]\n",
    "\n",
    "print(f\"Model Accuracy: {accuracy_model * 100:.2f}%\")\n",
    "print(f\"StatsBomb xG Accuracy: {accuracy_statsbomb * 100:.2f}%\")"
   ]
  },
  {
   "cell_type": "code",
   "execution_count": null,
   "metadata": {},
   "outputs": [],
   "source": [
    "# show each feature with its coefficient\n",
    "coefficients = xg_model.stages[-1].coefficients\n",
    "features_coefficients = list(zip(features, coefficients))\n",
    "\n",
    "for feature, coefficient in features_coefficients:\n",
    "    print(f\"{feature}: {coefficient}\")"
   ]
  },
  {
   "cell_type": "code",
   "execution_count": 59,
   "metadata": {},
   "outputs": [
    {
     "name": "stderr",
     "output_type": "stream",
     "text": [
      "[Stage 2827:===============================================>   (186 + 12) / 200]\r"
     ]
    },
    {
     "name": "stdout",
     "output_type": "stream",
     "text": [
      "Models matching percentage: 98.29%\n"
     ]
    },
    {
     "name": "stderr",
     "output_type": "stream",
     "text": [
      "                                                                                \r"
     ]
    }
   ],
   "source": [
    "# Testing matching of models, is out model as good as SB_xg?\n",
    "predictions_with_accuracy = predictions_with_goal_prob.withColumn(\n",
    "    \"model_to_sbxg\", when(col(\"goal_probability_rounded\") == col(\"shot_statsbomb_xg_rounded\"), 1).otherwise(0)\n",
    ")\n",
    "xg_accuracy_model = predictions_with_accuracy.selectExpr(\"avg(model_to_sbxg) as model_accuracy\").first()[\"model_accuracy\"]\n",
    "\n",
    "print(f\"Models matching percentage: {xg_accuracy_model * 100:.2f}%\")"
   ]
  }
 ],
 "metadata": {
  "kernelspec": {
   "display_name": "myenv",
   "language": "python",
   "name": "python3"
  },
  "language_info": {
   "codemirror_mode": {
    "name": "ipython",
    "version": 3
   },
   "file_extension": ".py",
   "mimetype": "text/x-python",
   "name": "python",
   "nbconvert_exporter": "python",
   "pygments_lexer": "ipython3",
   "version": "3.12.3"
  }
 },
 "nbformat": 4,
 "nbformat_minor": 2
}
