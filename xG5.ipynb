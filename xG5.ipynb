{
 "cells": [
  {
   "cell_type": "code",
   "execution_count": 1,
   "metadata": {},
   "outputs": [],
   "source": [
    "from pyspark.sql import SparkSession\n",
    "from pyspark.sql.functions import round,col, when, udf, format_number, abs, avg\n",
    "from pyspark.ml import Pipeline\n",
    "from pyspark.ml.evaluation import BinaryClassificationEvaluator\n",
    "from pyspark.sql.types import DoubleType\n",
    "import pp_events as pp"
   ]
  },
  {
   "cell_type": "code",
   "execution_count": 2,
   "metadata": {},
   "outputs": [
    {
     "name": "stderr",
     "output_type": "stream",
     "text": [
      "your 131072x1 screen size is bogus. expect trouble\n",
      "Setting default log level to \"WARN\".\n",
      "To adjust logging level use sc.setLogLevel(newLevel). For SparkR, use setLogLevel(newLevel).\n",
      "24/12/25 16:43:15 WARN NativeCodeLoader: Unable to load native-hadoop library for your platform... using builtin-java classes where applicable\n",
      "24/12/25 16:43:16 WARN Utils: Service 'SparkUI' could not bind on port 4040. Attempting port 4041.\n"
     ]
    }
   ],
   "source": [
    "spark = SparkSession.builder.appName(\"xG5\").getOrCreate()"
   ]
  },
  {
   "cell_type": "code",
   "execution_count": 4,
   "metadata": {},
   "outputs": [
    {
     "name": "stderr",
     "output_type": "stream",
     "text": [
      "                                                                                \r"
     ]
    }
   ],
   "source": [
    "events = spark.read.csv('Data/events.csv', header=True, inferSchema=True,sep=';')"
   ]
  },
  {
   "cell_type": "code",
   "execution_count": 5,
   "metadata": {},
   "outputs": [
    {
     "name": "stdout",
     "output_type": "stream",
     "text": [
      "Data loaded\n",
      "Spatial data calculated\n",
      "Preferred foot calculated\n",
      "Goal column created\n"
     ]
    },
    {
     "name": "stderr",
     "output_type": "stream",
     "text": [
      "                                                                                \r"
     ]
    },
    {
     "name": "stdout",
     "output_type": "stream",
     "text": [
      "Number of players inside the area calculated\n",
      "Dummies created\n",
      "Boolean data converted to integer\n"
     ]
    }
   ],
   "source": [
    "events_shot = pp.preprocessing(events,spark)"
   ]
  },
  {
   "cell_type": "code",
   "execution_count": 6,
   "metadata": {},
   "outputs": [
    {
     "data": {
      "text/plain": [
       "['id',\n",
       " 'player_id',\n",
       " 'shot_location_x',\n",
       " 'shot_location_y',\n",
       " 'distance_to_goal',\n",
       " 'shot_angle',\n",
       " 'preferred_foot_shot',\n",
       " 'other_pp',\n",
       " 'from_fk',\n",
       " 'from_ti',\n",
       " 'from_corner',\n",
       " 'from_counter',\n",
       " 'from_gk',\n",
       " 'from_keeper',\n",
       " 'from_ko',\n",
       " 'header',\n",
       " 'corner_type',\n",
       " 'fk_type',\n",
       " 'pk_type',\n",
       " 'half_volley_technique',\n",
       " 'volley_technique',\n",
       " 'lob_technique',\n",
       " 'overhead_technique',\n",
       " 'backheel_technique',\n",
       " 'diving_h_technique',\n",
       " 'under_pressure',\n",
       " 'shot_aerial_won',\n",
       " 'shot_first_time',\n",
       " 'shot_one_on_one',\n",
       " 'shot_open_goal',\n",
       " 'shot_follows_dribble',\n",
       " 'players_inside_area',\n",
       " 'shot_statsbomb_xg',\n",
       " 'shot_outcome',\n",
       " 'goal']"
      ]
     },
     "execution_count": 6,
     "metadata": {},
     "output_type": "execute_result"
    }
   ],
   "source": [
    "events_shot.columns"
   ]
  },
  {
   "cell_type": "code",
   "execution_count": 7,
   "metadata": {},
   "outputs": [
    {
     "name": "stderr",
     "output_type": "stream",
     "text": [
      "24/12/25 16:44:37 WARN SparkStringUtils: Truncated the string representation of a plan since it was too large. This behavior can be adjusted by setting 'spark.sql.debug.maxToStringFields'.\n",
      "24/12/25 16:44:53 WARN TaskSetManager: Stage 5 contains a task of very large size (1681 KiB). The maximum recommended task size is 1000 KiB.\n",
      "[Stage 13:===================================================>    (12 + 1) / 13]\r"
     ]
    },
    {
     "name": "stdout",
     "output_type": "stream",
     "text": [
      "+--------------------+---------+---------------+---------------+----------------+----------+-------------------+--------+-------+-------+-----------+------------+-------+-----------+-------+------+-----------+-------+-------+---------------------+----------------+-------------+------------------+------------------+------------------+--------------+---------------+---------------+---------------+--------------+--------------------+-------------------+-----------------+------------+----+\n",
      "|                  id|player_id|shot_location_x|shot_location_y|distance_to_goal|shot_angle|preferred_foot_shot|other_pp|from_fk|from_ti|from_corner|from_counter|from_gk|from_keeper|from_ko|header|corner_type|fk_type|pk_type|half_volley_technique|volley_technique|lob_technique|overhead_technique|backheel_technique|diving_h_technique|under_pressure|shot_aerial_won|shot_first_time|shot_one_on_one|shot_open_goal|shot_follows_dribble|players_inside_area|shot_statsbomb_xg|shot_outcome|goal|\n",
      "+--------------------+---------+---------------+---------------+----------------+----------+-------------------+--------+-------+-------+-----------+------------+-------+-----------+-------+------+-----------+-------+-------+---------------------+----------------+-------------+------------------+------------------+------------------+--------------+---------------+---------------+---------------+--------------+--------------------+-------------------+-----------------+------------+----+\n",
      "|350a49bc-6914-4b3...|  27886.0|          107.2|           35.0|         13.7419| 30.644846|                  0|       0|      1|      0|          0|           0|      0|          0|      0|     1|          0|      0|      0|                    0|               0|            0|                 0|                 0|                 0|             0|              0|              0|              0|             0|                   0|                  2|      0.040732585|     Blocked|   0|\n",
      "|37ba4e86-d809-40e...|   5678.0|           85.6|           34.4|         34.8528|  12.92981|                  1|       0|      0|      0|          0|           0|      0|          0|      0|     0|          0|      0|      0|                    0|               0|            0|                 0|                 0|                 0|             0|              0|              0|              0|             0|                   0|                  2|      0.015171255|       Saved|   0|\n",
      "|3c3fd192-a115-47b...|  29560.0|          105.6|           44.0|         14.9452| 29.054602|                  1|       0|      0|      0|          0|           0|      0|          0|      1|     0|          0|      0|      0|                    1|               0|            0|                 0|                 0|                 0|             0|              0|              1|              0|             0|                   0|                  3|       0.07213958|       Off T|   0|\n",
      "|417a2357-d337-43c...|   8817.0|          105.5|           47.3|         16.2339| 25.108313|                  1|       0|      0|      1|          0|           0|      0|          0|      0|     0|          0|      0|      0|                    1|               0|            0|                 0|                 0|                 0|             1|              0|              0|              0|             0|                   0|                  1|       0.07589752|        Post|   0|\n",
      "|618314a1-76b9-41e...|   5678.0|           88.5|           38.1|         31.5572| 14.422748|                  1|       0|      1|      0|          0|           0|      0|          0|      0|     0|          0|      0|      0|                    0|               0|            0|                 0|                 0|                 0|             0|              0|              0|              0|             0|                   0|                  3|      0.019570593|       Off T|   0|\n",
      "|8592fda4-3e54-46e...|   5696.0|          105.5|           57.6|         22.8037| 12.961155|                  1|       0|      0|      0|          0|           0|      0|          1|      0|     0|          0|      0|      0|                    1|               0|            0|                 0|                 0|                 0|             0|              0|              1|              0|             0|                   0|                  1|      0.022013947|       Off T|   0|\n",
      "|95ea28e2-8fe9-426...|   8817.0|          108.3|           39.0|         11.7427| 37.520866|                  0|       0|      0|      0|          0|           0|      0|          0|      0|     1|          0|      0|      0|                    0|               0|            0|                 0|                 0|                 0|             1|              1|              0|              0|             0|                   0|                  2|      0.049562205|     Blocked|   0|\n",
      "|970398e3-c3cc-4d2...|   5503.0|          106.2|           36.8|         14.1662| 30.870586|                  1|       0|      0|      1|          0|           0|      0|          0|      0|     0|          0|      0|      0|                    0|               0|            0|                 0|                 0|                 0|             0|              0|              1|              0|             0|                   0|                  4|       0.15133068|     Blocked|   0|\n",
      "|e5d66514-0a8c-446...|   2995.0|          107.5|           24.9|         19.6026| 15.192171|                  1|       0|      0|      0|          0|           0|      0|          0|      0|     0|          0|      0|      0|                    0|               0|            0|                 0|                 0|                 0|             1|              0|              0|              0|             0|                   0|                  1|      0.028598836|       Saved|   0|\n",
      "|f80a63b3-c4a6-4a9...|   8817.0|          112.5|           42.5|          7.9057| 52.224316|                  0|       0|      0|      0|          1|           0|      0|          0|      0|     1|          0|      0|      0|                    0|               0|            0|                 0|                 0|                 0|             1|              1|              0|              0|             0|                   0|                  2|       0.08510399|     Blocked|   0|\n",
      "|2593d42f-61d2-4e5...|   5695.0|           94.8|           24.9|         29.3777| 13.387468|                  1|       0|      1|      0|          0|           0|      0|          0|      0|     0|          0|      1|      0|                    0|               0|            0|                 0|                 0|                 0|             0|              0|              0|              0|             0|                   0|                  3|      0.039566465|     Blocked|   0|\n",
      "|30702c96-5580-48d...|  28567.0|          113.4|           38.7|          6.7268| 61.014557|                  0|       0|      0|      0|          1|           0|      0|          0|      0|     1|          0|      0|      0|                    0|               0|            0|                 0|                 0|                 0|             1|              1|              0|              0|             0|                   0|                  3|       0.15686217|       Saved|   0|\n",
      "|51932a82-e803-4ba...|   2995.0|          110.9|           25.6|         17.0344| 14.870527|                  1|       0|      0|      0|          0|           0|      1|          0|      0|     0|          0|      0|      0|                    0|               0|            0|                 0|                 0|                 0|             0|              0|              1|              0|             0|                   0|                  2|       0.06569337|       Saved|   0|\n",
      "|5cf2e059-1c44-409...|  27277.0|          106.1|           32.5|         15.7943| 25.469059|                  0|       0|      0|      0|          0|           0|      0|          0|      0|     1|          0|      0|      0|                    0|               0|            0|                 0|                 0|                 0|             0|              0|              0|              0|             0|                   0|                  1|       0.02531394|     Wayward|   0|\n",
      "|9b52e5c5-5688-4b0...|  28567.0|          109.6|           41.5|         10.5076| 41.388515|                  0|       0|      1|      0|          0|           0|      0|          0|      0|     1|          0|      0|      0|                    0|               0|            0|                 0|                 0|                 0|             1|              1|              0|              0|             0|                   0|                  1|      0.056397837|       Off T|   0|\n",
      "|a431db47-7da0-4eb...|   3494.0|          114.8|           44.1|          6.6219|  56.19886|                  0|       0|      0|      0|          1|           0|      0|          0|      0|     1|          0|      0|      0|                    0|               0|            0|                 0|                 0|                 0|             1|              1|              0|              0|             0|                   0|                  3|       0.14169177|       Off T|   0|\n",
      "|a8b4baa8-b879-410...|  27277.0|           98.9|           24.9|         25.9465| 14.404465|                  1|       0|      0|      0|          0|           0|      0|          0|      0|     0|          0|      0|      0|                    0|               0|            0|                 0|                 0|                 0|             0|              0|              0|              0|             0|                   0|                  2|      0.012626733|     Blocked|   0|\n",
      "|b164d43a-c2cd-423...|  27158.0|           98.6|           25.2|         26.0192| 14.520617|                  1|       0|      0|      0|          0|           0|      0|          1|      0|     0|          0|      0|      0|                    0|               0|            0|                 0|                 0|                 0|             0|              0|              0|              0|             0|                   0|                  1|       0.02977089|       Saved|   0|\n",
      "|c9353ed3-a087-4fd...|  49395.0|           83.5|           48.0|         37.3664| 11.945132|                  1|       0|      0|      1|          0|           0|      0|          0|      0|     0|          0|      0|      0|                    0|               0|            0|                 0|                 0|                 0|             0|              0|              1|              0|             0|                   0|                  4|     0.0064736516|       Saved|   0|\n",
      "|f07b45a7-c476-4f8...|  20687.0|          111.1|           42.0|           9.122| 46.651226|                  0|       0|      0|      0|          1|           0|      0|          0|      0|     0|          0|      0|      0|                    1|               0|            0|                 0|                 0|                 0|             0|              0|              1|              0|             0|                   0|                  3|       0.26291034|       Off T|   0|\n",
      "+--------------------+---------+---------------+---------------+----------------+----------+-------------------+--------+-------+-------+-----------+------------+-------+-----------+-------+------+-----------+-------+-------+---------------------+----------------+-------------+------------------+------------------+------------------+--------------+---------------+---------------+---------------+--------------+--------------------+-------------------+-----------------+------------+----+\n",
      "only showing top 20 rows\n",
      "\n"
     ]
    },
    {
     "name": "stderr",
     "output_type": "stream",
     "text": [
      "                                                                                \r"
     ]
    }
   ],
   "source": [
    "events_shot.show()"
   ]
  },
  {
   "cell_type": "code",
   "execution_count": 11,
   "metadata": {},
   "outputs": [],
   "source": [
    "# since the dataframe is final, we save it into a variable in memory\n",
    "events_shot = events_shot.cache()"
   ]
  },
  {
   "cell_type": "code",
   "execution_count": 8,
   "metadata": {},
   "outputs": [
    {
     "name": "stderr",
     "output_type": "stream",
     "text": [
      "24/12/25 16:45:43 WARN TaskSetManager: Stage 28 contains a task of very large size (1681 KiB). The maximum recommended task size is 1000 KiB.\n",
      "                                                                                \r"
     ]
    }
   ],
   "source": [
    "df = events_shot.toPandas()"
   ]
  },
  {
   "cell_type": "code",
   "execution_count": 10,
   "metadata": {},
   "outputs": [],
   "source": [
    "df.to_csv('events_shot.csv', index=False)"
   ]
  },
  {
   "cell_type": "code",
   "execution_count": 11,
   "metadata": {},
   "outputs": [],
   "source": [
    "events_shot = spark.read.csv('events_shot.csv', header=True, inferSchema=True)"
   ]
  },
  {
   "cell_type": "code",
   "execution_count": 12,
   "metadata": {},
   "outputs": [
    {
     "name": "stdout",
     "output_type": "stream",
     "text": [
      "root\n",
      " |-- id: string (nullable = true)\n",
      " |-- player_id: double (nullable = true)\n",
      " |-- shot_location_x: double (nullable = true)\n",
      " |-- shot_location_y: double (nullable = true)\n",
      " |-- distance_to_goal: double (nullable = true)\n",
      " |-- shot_angle: double (nullable = true)\n",
      " |-- preferred_foot_shot: integer (nullable = true)\n",
      " |-- other_pp: integer (nullable = true)\n",
      " |-- from_fk: integer (nullable = true)\n",
      " |-- from_ti: integer (nullable = true)\n",
      " |-- from_corner: integer (nullable = true)\n",
      " |-- from_counter: integer (nullable = true)\n",
      " |-- from_gk: integer (nullable = true)\n",
      " |-- from_keeper: integer (nullable = true)\n",
      " |-- from_ko: integer (nullable = true)\n",
      " |-- header: integer (nullable = true)\n",
      " |-- corner_type: integer (nullable = true)\n",
      " |-- fk_type: integer (nullable = true)\n",
      " |-- pk_type: integer (nullable = true)\n",
      " |-- half_volley_technique: integer (nullable = true)\n",
      " |-- volley_technique: integer (nullable = true)\n",
      " |-- lob_technique: integer (nullable = true)\n",
      " |-- overhead_technique: integer (nullable = true)\n",
      " |-- backheel_technique: integer (nullable = true)\n",
      " |-- diving_h_technique: integer (nullable = true)\n",
      " |-- under_pressure: integer (nullable = true)\n",
      " |-- shot_aerial_won: integer (nullable = true)\n",
      " |-- shot_first_time: integer (nullable = true)\n",
      " |-- shot_one_on_one: integer (nullable = true)\n",
      " |-- shot_open_goal: integer (nullable = true)\n",
      " |-- shot_follows_dribble: integer (nullable = true)\n",
      " |-- players_inside_area: integer (nullable = true)\n",
      " |-- shot_statsbomb_xg: double (nullable = true)\n",
      " |-- shot_outcome: string (nullable = true)\n",
      " |-- goal: integer (nullable = true)\n",
      "\n"
     ]
    }
   ],
   "source": [
    "events_shot.printSchema()"
   ]
  },
  {
   "cell_type": "code",
   "execution_count": 24,
   "metadata": {},
   "outputs": [],
   "source": [
    "features = ['other_pp','from_fk','from_ti','from_corner','from_counter','from_gk','from_keeper','from_ko',\n",
    "            'header','corner_type','fk_type','pk_type',\n",
    "            'half_volley_technique','volley_technique','lob_technique','overhead_technique','backheel_technique','diving_h_technique',\n",
    "            'distance_to_goal', 'shot_angle', 'preferred_foot_shot', 'under_pressure',\n",
    "            'shot_aerial_won','shot_first_time','shot_one_on_one','shot_open_goal','shot_follows_dribble','players_inside_area']\n",
    "target = ['goal']"
   ]
  },
  {
   "cell_type": "code",
   "execution_count": 58,
   "metadata": {},
   "outputs": [],
   "source": [
    "input_size = len(features)\n",
    "output_size = 2"
   ]
  },
  {
   "cell_type": "code",
   "execution_count": 67,
   "metadata": {},
   "outputs": [],
   "source": [
    "from pyspark.ml.feature import VectorAssembler\n",
    "\n",
    "# Define the assembler\n",
    "feature_assembler = VectorAssembler(inputCols=features, outputCol=\"features_vector\")\n",
    "\n",
    "# Transform the dataset\n",
    "assembled_data = feature_assembler.transform(events_shot)\n",
    "train_data, test_data = assembled_data.randomSplit([0.6, 0.4], seed=42)"
   ]
  },
  {
   "cell_type": "code",
   "execution_count": 48,
   "metadata": {},
   "outputs": [
    {
     "name": "stderr",
     "output_type": "stream",
     "text": [
      "                                                                                \r"
     ]
    },
    {
     "name": "stdout",
     "output_type": "stream",
     "text": [
      "ROC-AUC: 0.8164416361763732\n"
     ]
    }
   ],
   "source": [
    "from pyspark.ml.classification import LogisticRegression\n",
    "\n",
    "# Define the logistic regression model\n",
    "log_reg = LogisticRegression(featuresCol=\"features_vector\", labelCol=\"goal\", maxIter=10)\n",
    "# Create the pipeline\n",
    "pipeline = Pipeline(stages=[log_reg])\n",
    "# Still rerunning all, fix that\n",
    "xg_model = pipeline.fit(train_data)\n",
    "# Make predictions\n",
    "predictions = xg_model.transform(test_data)\n",
    "\n",
    "evaluator = BinaryClassificationEvaluator(labelCol=\"goal\", rawPredictionCol=\"rawPrediction\")\n",
    "roc_auc = evaluator.evaluate(predictions)\n",
    "print(f\"ROC-AUC: {roc_auc}\")"
   ]
  },
  {
   "cell_type": "code",
   "execution_count": 49,
   "metadata": {},
   "outputs": [
    {
     "name": "stderr",
     "output_type": "stream",
     "text": [
      "                                                                                \r"
     ]
    },
    {
     "name": "stdout",
     "output_type": "stream",
     "text": [
      "ROC-AUC: 0.7894294261237248\n"
     ]
    }
   ],
   "source": [
    "from pyspark.ml.classification import RandomForestClassifier\n",
    "\n",
    "# Define the Random Forest classifier\n",
    "rf = RandomForestClassifier(featuresCol=\"features_vector\", labelCol=\"goal\", numTrees=100)\n",
    "\n",
    "# Create the pipeline\n",
    "pipeline = Pipeline(stages=[rf])\n",
    "\n",
    "# Fit the model\n",
    "xg_model = pipeline.fit(train_data)\n",
    "\n",
    "# Make predictions\n",
    "predictions = xg_model.transform(test_data)\n",
    "\n",
    "evaluator = BinaryClassificationEvaluator(labelCol=\"goal\", rawPredictionCol=\"rawPrediction\")\n",
    "roc_auc = evaluator.evaluate(predictions)\n",
    "print(f\"ROC-AUC: {roc_auc}\")"
   ]
  },
  {
   "cell_type": "code",
   "execution_count": 61,
   "metadata": {},
   "outputs": [
    {
     "name": "stderr",
     "output_type": "stream",
     "text": [
      "[Stage 1263:==================>                                     (1 + 2) / 3]\r"
     ]
    },
    {
     "name": "stdout",
     "output_type": "stream",
     "text": [
      "ROC-AUC: 0.8016156467325752\n"
     ]
    },
    {
     "name": "stderr",
     "output_type": "stream",
     "text": [
      "                                                                                \r"
     ]
    }
   ],
   "source": [
    "from pyspark.ml.classification import MultilayerPerceptronClassifier\n",
    "\n",
    "# Define the Multilayer Perceptron classifier\n",
    "layers = [input_size, 128, 64, 32, 16, output_size]\n",
    "\n",
    "mlp = MultilayerPerceptronClassifier(featuresCol=\"features_vector\", labelCol=\"goal\", maxIter=100, layers=layers, blockSize=128, seed=1234)\n",
    "\n",
    "# Create the pipeline\n",
    "pipeline = Pipeline(stages=[mlp])\n",
    "\n",
    "# Fit the model\n",
    "xg_model = pipeline.fit(train_data)\n",
    "\n",
    "# Make predictions\n",
    "predictions = xg_model.transform(test_data)\n",
    "\n",
    "evaluator = BinaryClassificationEvaluator(labelCol=\"goal\", rawPredictionCol=\"rawPrediction\")\n",
    "roc_auc = evaluator.evaluate(predictions)\n",
    "print(f\"ROC-AUC: {roc_auc}\")"
   ]
  },
  {
   "cell_type": "code",
   "execution_count": 68,
   "metadata": {},
   "outputs": [
    {
     "name": "stderr",
     "output_type": "stream",
     "text": [
      "                                                                                \r"
     ]
    },
    {
     "name": "stdout",
     "output_type": "stream",
     "text": [
      "ROC-AUC: 0.8092147820750702\n"
     ]
    }
   ],
   "source": [
    "#### BEST MODEL SO FAR ####\n",
    "from pyspark.ml.classification import GBTClassifier\n",
    "\n",
    "# Define the Gradient-Boosted Tree classifier\n",
    "gbt = GBTClassifier(featuresCol=\"features_vector\", labelCol=\"goal\", maxIter=50)\n",
    "\n",
    "# Create the pipeline\n",
    "pipeline = Pipeline(stages=[gbt])\n",
    "\n",
    "# Fit the model\n",
    "xg_model = pipeline.fit(train_data)\n",
    "\n",
    "# Make predictions\n",
    "predictions = xg_model.transform(test_data)\n",
    "\n",
    "evaluator = BinaryClassificationEvaluator(labelCol=\"goal\", rawPredictionCol=\"rawPrediction\")\n",
    "roc_auc = evaluator.evaluate(predictions)\n",
    "print(f\"ROC-AUC: {roc_auc}\")"
   ]
  },
  {
   "cell_type": "markdown",
   "metadata": {},
   "source": [
    "#### For Gradient Boosted Trees"
   ]
  },
  {
   "cell_type": "code",
   "execution_count": 69,
   "metadata": {},
   "outputs": [
    {
     "name": "stdout",
     "output_type": "stream",
     "text": [
      "+-----------------+----------------+-------------+--------------+\n",
      "|shot_statsbomb_xg|goal_probability|difference   |difference_abs|\n",
      "+-----------------+----------------+-------------+--------------+\n",
      "|0.056764796      |0.0630027364    |-0.0062379404|0.0062379404  |\n",
      "|0.610869         |0.4894633734    |0.1214056266 |0.1214056266  |\n",
      "|0.40120143       |0.4024792933    |-0.0012778633|0.0012778633  |\n",
      "|0.018964255      |0.0269116488    |-0.0079473938|0.0079473938  |\n",
      "|0.07661738       |0.0862617668    |-0.0096443868|0.0096443868  |\n",
      "|0.05802372       |0.0423712885    |0.0156524315 |0.0156524315  |\n",
      "|0.026109         |0.0423017127    |-0.0161927127|0.0161927127  |\n",
      "|0.031164382      |0.0330037479    |-0.0018393659|0.0018393659  |\n",
      "|0.03667143       |0.0300130648    |0.0066583652 |0.0066583652  |\n",
      "|0.064399794      |0.1295463662    |-0.0651465722|0.0651465722  |\n",
      "|0.033191733      |0.0364979158    |-0.0033061828|0.0033061828  |\n",
      "|0.020711057      |0.0358835310    |-0.0151724740|0.0151724740  |\n",
      "|0.052520916      |0.0557551769    |-0.0032342609|0.0032342609  |\n",
      "|0.042308386      |0.0464551996    |-0.0041468136|0.0041468136  |\n",
      "|0.02001482       |0.0272819066    |-0.0072670866|0.0072670866  |\n",
      "|0.14392917       |0.2678746384    |-0.1239454684|0.1239454684  |\n",
      "|0.018789858      |0.0359610795    |-0.0171712215|0.0171712215  |\n",
      "|0.07543106       |0.0516129124    |0.0238181476 |0.0238181476  |\n",
      "|0.038150314      |0.0504781720    |-0.0123278580|0.0123278580  |\n",
      "|0.0447311        |0.0863945184    |-0.0416634184|0.0416634184  |\n",
      "|0.07782621       |0.0739725314    |0.0038536786 |0.0038536786  |\n",
      "|0.050162695      |0.1182277878    |-0.0680650928|0.0680650928  |\n",
      "|0.039189722      |0.0350417978    |0.0041479242 |0.0041479242  |\n",
      "|0.7835           |0.8245313106    |-0.0410313106|0.0410313106  |\n",
      "|0.066337906      |0.0723067682    |-0.0059688622|0.0059688622  |\n",
      "|0.019177545      |0.0287137797    |-0.0095362347|0.0095362347  |\n",
      "|0.057676427      |0.0656989979    |-0.0080225709|0.0080225709  |\n",
      "|0.0776978        |0.0744818566    |0.0032159434 |0.0032159434  |\n",
      "|0.03309476       |0.0583214607    |-0.0252267007|0.0252267007  |\n",
      "|0.029411294      |0.0467023723    |-0.0172910783|0.0172910783  |\n",
      "|0.03944701       |0.0441087422    |-0.0046617322|0.0046617322  |\n",
      "|0.021455169      |0.0378006104    |-0.0163454414|0.0163454414  |\n",
      "|0.47059795       |0.4499340975    |0.0206638525 |0.0206638525  |\n",
      "|0.012454275      |0.0271583705    |-0.0147040955|0.0147040955  |\n",
      "|0.05416238       |0.0460515533    |0.0081108267 |0.0081108267  |\n",
      "|0.07232883       |0.0758254284    |-0.0034965984|0.0034965984  |\n",
      "|0.121686585      |0.1715133580    |-0.0498267730|0.0498267730  |\n",
      "|0.053459413      |0.1531811329    |-0.0997217199|0.0997217199  |\n",
      "|0.0638635        |0.0506993564    |0.0131641436 |0.0131641436  |\n",
      "|0.026789695      |0.0272819066    |-0.0004922116|0.0004922116  |\n",
      "|0.32963985       |0.3518843996    |-0.0222445496|0.0222445496  |\n",
      "|0.31239024       |0.3769863625    |-0.0645961225|0.0645961225  |\n",
      "|0.23192106       |0.1460717443    |0.0858493157 |0.0858493157  |\n",
      "|0.15243307       |0.1539597623    |-0.0015266923|0.0015266923  |\n",
      "|0.030001678      |0.0407885848    |-0.0107869068|0.0107869068  |\n",
      "|0.033889998      |0.0444512078    |-0.0105612098|0.0105612098  |\n",
      "|0.24628662       |0.2441766652    |0.0021099548 |0.0021099548  |\n",
      "|0.016418302      |0.0291624926    |-0.0127441906|0.0127441906  |\n",
      "|0.23883265       |0.1541099279    |0.0847227221 |0.0847227221  |\n",
      "|0.38266447       |0.3615042755    |0.0211601945 |0.0211601945  |\n",
      "+-----------------+----------------+-------------+--------------+\n",
      "only showing top 50 rows\n",
      "\n"
     ]
    }
   ],
   "source": [
    "# Define a function to extract the probability of the goal (class 1)\n",
    "def extract_goal_probability(probability):\n",
    "    return float(probability[1])\n",
    "\n",
    "# Register the function as a UDF\n",
    "extract_goal_probability_udf = udf(extract_goal_probability, DoubleType())\n",
    "\n",
    "# Create a new column with the goal probability\n",
    "predictions_with_goal_prob = predictions.withColumn(\"goal_probability\", extract_goal_probability_udf(col(\"probability\")))\n",
    "\n",
    "# Format the goal_probability to remove scientific notation\n",
    "predictions_with_goal_prob = predictions_with_goal_prob.withColumn(\"goal_probability\", format_number(col(\"goal_probability\"), 10))\n",
    "\n",
    "# Add a new column showing the difference between shot_statsbomb_xg and goal_probability\n",
    "predictions_with_goal_prob = predictions_with_goal_prob.\\\n",
    "    withColumn(\"difference\", format_number(col(\"shot_statsbomb_xg\") - col(\"goal_probability\"),10))\n",
    "\n",
    "predictions_with_goal_prob = predictions_with_goal_prob.\\\n",
    "    withColumn(\"difference_abs\", format_number(abs(col('difference')),10))\n",
    "\n",
    "# Show the results\n",
    "predictions_with_goal_prob.select(\"shot_statsbomb_xg\", \"goal_probability\", \"difference\",'difference_abs').show(50,False)"
   ]
  },
  {
   "cell_type": "code",
   "execution_count": 70,
   "metadata": {},
   "outputs": [
    {
     "name": "stderr",
     "output_type": "stream",
     "text": [
      "                                                                                \r"
     ]
    },
    {
     "name": "stdout",
     "output_type": "stream",
     "text": [
      "Average difference: -0.009062188503877534\n",
      "Abs average difference: 0.03445555759480951\n"
     ]
    },
    {
     "name": "stderr",
     "output_type": "stream",
     "text": [
      "                                                                                \r"
     ]
    }
   ],
   "source": [
    "# average of the difference\n",
    "avg_diff = predictions_with_goal_prob.select(avg(col(\"difference\"))).collect()[0][0]\n",
    "abs_avg_diff = predictions_with_goal_prob.select(avg(col(\"difference_abs\"))).collect()[0][0]\n",
    "\n",
    "print(f\"Average difference: {avg_diff}\")\n",
    "print(f\"Abs average difference: {abs_avg_diff}\")"
   ]
  },
  {
   "cell_type": "code",
   "execution_count": 71,
   "metadata": {},
   "outputs": [
    {
     "name": "stderr",
     "output_type": "stream",
     "text": [
      "                                                                                \r"
     ]
    },
    {
     "name": "stdout",
     "output_type": "stream",
     "text": [
      "Model Accuracy: 90.41%\n",
      "StatsBomb xG Accuracy: 90.61%\n"
     ]
    }
   ],
   "source": [
    "# round the goal_probability to 0 or 1, same for the shot_statsbomb_xg and compare with goal to check the accuracy of the model\n",
    "# vs the accuracy of the shot_statsbomb_xg model\n",
    "predictions_with_goal_prob = predictions_with_goal_prob.withColumn(\"goal_probability_rounded\", round(col(\"goal_probability\")))\\\n",
    "    .withColumn(\"shot_statsbomb_xg_rounded\", round(col(\"shot_statsbomb_xg\")))\n",
    "\n",
    "# Check if the rounded probability matches the actual goal for your model\n",
    "predictions_with_accuracy = predictions_with_goal_prob.withColumn(\n",
    "    \"model_correct\", when(col(\"goal\") == col(\"goal_probability_rounded\"), 1).otherwise(0))\\\n",
    "    .withColumn(\"statsbomb_correct\", when(col(\"goal\") == col(\"shot_statsbomb_xg_rounded\"), 1).otherwise(0))\n",
    "# Calculate accuracy\n",
    "accuracy_model = predictions_with_accuracy.selectExpr(\"avg(model_correct) as model_accuracy\").first()[\"model_accuracy\"]\n",
    "accuracy_statsbomb = predictions_with_accuracy.selectExpr(\"avg(statsbomb_correct) as statsbomb_accuracy\").first()[\"statsbomb_accuracy\"]\n",
    "\n",
    "print(f\"Model Accuracy: {accuracy_model * 100:.2f}%\")\n",
    "print(f\"StatsBomb xG Accuracy: {accuracy_statsbomb * 100:.2f}%\")"
   ]
  },
  {
   "cell_type": "code",
   "execution_count": 72,
   "metadata": {},
   "outputs": [
    {
     "name": "stdout",
     "output_type": "stream",
     "text": [
      "Models matching percentage: 98.06%\n"
     ]
    }
   ],
   "source": [
    "# Testing matching of models, is out model as good as SB_xg?\n",
    "predictions_with_accuracy = predictions_with_goal_prob.withColumn(\n",
    "    \"model_to_sbxg\", when(col(\"goal_probability_rounded\") == col(\"shot_statsbomb_xg_rounded\"), 1).otherwise(0))\n",
    "\n",
    "xg_accuracy_model = predictions_with_accuracy.selectExpr(\"avg(model_to_sbxg) as model_accuracy\").first()[\"model_accuracy\"]\n",
    "\n",
    "print(f\"Models matching percentage: {xg_accuracy_model * 100:.2f}%\")"
   ]
  },
  {
   "cell_type": "code",
   "execution_count": null,
   "metadata": {},
   "outputs": [],
   "source": [
    "# show each feature with its coefficient\n",
    "coefficients = xg_model.stages[-1].coefficients\n",
    "features_coefficients = list(zip(features, coefficients))\n",
    "\n",
    "for feature, coefficient in features_coefficients:\n",
    "    print(f\"{feature}: {coefficient}\")"
   ]
  },
  {
   "cell_type": "code",
   "execution_count": 73,
   "metadata": {},
   "outputs": [],
   "source": [
    "train_predictions = xg_model.transform(train_data)\n",
    "test_predictions = xg_model.transform(test_data)"
   ]
  },
  {
   "cell_type": "code",
   "execution_count": 74,
   "metadata": {},
   "outputs": [
    {
     "name": "stderr",
     "output_type": "stream",
     "text": [
      "                                                                                \r"
     ]
    },
    {
     "name": "stdout",
     "output_type": "stream",
     "text": [
      "Train accuracy: 91.08%\n",
      "Test accuracy: 90.41%\n"
     ]
    }
   ],
   "source": [
    "# calculate accuracy for each model\n",
    "train_accuracy = train_predictions.filter(train_predictions.goal == train_predictions.prediction).count() / train_predictions.count()\n",
    "\n",
    "test_accuracy = test_predictions.filter(test_predictions.goal == test_predictions.prediction).count() / test_predictions.count()\n",
    "\n",
    "print(f\"Train accuracy: {train_accuracy * 100:.2f}%\")\n",
    "print(f\"Test accuracy: {test_accuracy * 100:.2f}%\")"
   ]
  },
  {
   "cell_type": "code",
   "execution_count": 75,
   "metadata": {},
   "outputs": [],
   "source": [
    "spark.stop()"
   ]
  }
 ],
 "metadata": {
  "kernelspec": {
   "display_name": "myenv",
   "language": "python",
   "name": "python3"
  },
  "language_info": {
   "codemirror_mode": {
    "name": "ipython",
    "version": 3
   },
   "file_extension": ".py",
   "mimetype": "text/x-python",
   "name": "python",
   "nbconvert_exporter": "python",
   "pygments_lexer": "ipython3",
   "version": "3.12.3"
  }
 },
 "nbformat": 4,
 "nbformat_minor": 2
}
