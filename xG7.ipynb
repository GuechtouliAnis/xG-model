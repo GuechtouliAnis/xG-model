{
 "cells": [
  {
   "cell_type": "code",
   "execution_count": 1,
   "metadata": {},
   "outputs": [],
   "source": [
    "from pyspark.sql import SparkSession\n",
    "import xG_preprocessing as pp\n",
    "from xG_training import ModelTrainer\n",
    "from xG_evaluation import ModelEvaluation\n",
    "import time"
   ]
  },
  {
   "cell_type": "code",
   "execution_count": 3,
   "metadata": {},
   "outputs": [],
   "source": [
    "spark = SparkSession.builder.appName(\"xG6\").getOrCreate()\n",
    "spark.conf.set(\"spark.sql.debug.maxToStringFields\", 2000)"
   ]
  },
  {
   "cell_type": "markdown",
   "metadata": {},
   "source": [
    "### Preprocessing"
   ]
  },
  {
   "cell_type": "code",
   "execution_count": 4,
   "metadata": {},
   "outputs": [
    {
     "name": "stderr",
     "output_type": "stream",
     "text": [
      "                                                                                \r"
     ]
    }
   ],
   "source": [
    "events = spark.read.csv('Data/events.csv',header=True,inferSchema=True,sep=';')"
   ]
  },
  {
   "cell_type": "code",
   "execution_count": 5,
   "metadata": {},
   "outputs": [
    {
     "name": "stdout",
     "output_type": "stream",
     "text": [
      "Data loaded\n",
      "Spatial data calculated\n",
      "Preferred foot calculated\n",
      "Goal column created\n"
     ]
    },
    {
     "name": "stderr",
     "output_type": "stream",
     "text": [
      "                                                                                \r"
     ]
    },
    {
     "name": "stdout",
     "output_type": "stream",
     "text": [
      "Number of players inside the area calculated\n",
      "Dummies created\n",
      "Boolean data converted to integer\n",
      "Dataset preparation took: 31.60 seconds.\n"
     ]
    }
   ],
   "source": [
    "start_time = time.time()\n",
    "shots = pp.preprocessing(events, spark)\n",
    "end_time = time.time()\n",
    "\n",
    "elapsed_time = end_time - start_time\n",
    "print(f\"Dataset preparation took: {elapsed_time:.2f} seconds.\")"
   ]
  },
  {
   "cell_type": "code",
   "execution_count": 6,
   "metadata": {},
   "outputs": [
    {
     "name": "stderr",
     "output_type": "stream",
     "text": [
      "25/01/28 14:09:49 WARN TaskSetManager: Stage 5 contains a task of very large size (1681 KiB). The maximum recommended task size is 1000 KiB.\n",
      "                                                                                \r"
     ]
    },
    {
     "name": "stdout",
     "output_type": "stream",
     "text": [
      "Saving preprocessed data took 35.65 seconds.\n"
     ]
    }
   ],
   "source": [
    "# Save ready shots data for faster loading next time\n",
    "start_time = time.time()\n",
    "shots.write.option(\"header\", \"true\").csv('Data/Datas/shots.csv')\n",
    "end_time = time.time()\n",
    "\n",
    "elapsed_time = end_time - start_time\n",
    "print(f\"Saving preprocessed data took {elapsed_time:.2f} seconds.\")"
   ]
  },
  {
   "cell_type": "code",
   "execution_count": 7,
   "metadata": {},
   "outputs": [],
   "source": [
    "# Reading the data\n",
    "shots = spark.read.csv('Data/Datas/shots.csv',header=True,inferSchema=True)"
   ]
  },
  {
   "cell_type": "code",
   "execution_count": 9,
   "metadata": {},
   "outputs": [
    {
     "name": "stdout",
     "output_type": "stream",
     "text": [
      "+--------------------+---------+---------------+---------------+----------------+----------+-------------------+-------+-------+-------+-----------+------------+-------+-----------+-------+------+-----------+-------+-------+---------------------+----------------+-------------+------------------+------------------+------------------+--------------+---------------+---------------+---------------+--------------+--------------------+-------------------+-----------------+------------+----+-------------+\n",
      "|                  id|player_id|shot_location_x|shot_location_y|distance_to_goal|shot_angle|preferred_foot_shot|from_rp|from_fk|from_ti|from_corner|from_counter|from_gk|from_keeper|from_ko|header|corner_type|fk_type|pk_type|half_volley_technique|volley_technique|lob_technique|overhead_technique|backheel_technique|diving_h_technique|under_pressure|shot_aerial_won|shot_first_time|shot_one_on_one|shot_open_goal|shot_follows_dribble|players_inside_area|shot_statsbomb_xg|shot_outcome|goal|sb_prediction|\n",
      "+--------------------+---------+---------------+---------------+----------------+----------+-------------------+-------+-------+-------+-----------+------------+-------+-----------+-------+------+-----------+-------+-------+---------------------+----------------+-------------+------------------+------------------+------------------+--------------+---------------+---------------+---------------+--------------+--------------------+-------------------+-----------------+------------+----+-------------+\n",
      "|1088c144-e602-48d...|  23650.0|          101.9|           39.2|         18.1177| 24.878618|                  1|      1|      0|      0|          0|           0|      0|          0|      0|     0|          0|      0|      0|                    0|               0|            0|                 0|                 0|                 0|             0|              0|              0|              0|             0|                   0|                  3|      0.049519155|     Blocked|   0|          0.0|\n",
      "|301a8b09-7a76-4eb...|   8966.0|           93.1|           21.7|         32.5346|  11.66356|                  1|      0|      0|      0|          0|           0|      1|          0|      0|     0|          0|      0|      0|                    0|               0|            1|                 0|                 0|                 0|             0|              0|              1|              0|             0|                   0|                  1|      0.037947286|       Off T|   0|          0.0|\n",
      "|f9f44f2c-4121-4ce...|   8966.0|          106.6|           29.6|         16.9623| 21.530413|                  1|      0|      0|      0|          0|           1|      0|          0|      0|     0|          0|      0|      0|                    0|               0|            0|                 0|                 0|                 0|             1|              0|              0|              0|             0|                   0|                  1|       0.18960205|       Saved|   0|          0.0|\n",
      "|2a3774f3-18b0-4c7...|   9466.0|          116.8|           47.4|          8.0623| 27.584747|                  1|      0|      0|      0|          1|           0|      0|          0|      0|     0|          0|      0|      0|                    0|               1|            0|                 0|                 0|                 0|             0|              0|              1|              0|             0|                   0|                  1|       0.10378359|       Saved|   0|          0.0|\n",
      "|b8dcea15-8f02-445...|  27896.0|          101.7|           34.0|         19.2585|  22.41723|                  1|      1|      0|      0|          0|           0|      0|          0|      0|     0|          0|      0|      0|                    0|               0|            0|                 0|                 0|                 0|             0|              0|              1|              0|             0|                   0|                  2|       0.07661064|        Goal|   1|          0.0|\n",
      "|3dfc8c26-826e-467...|  27277.0|           92.7|           34.4|         27.8684| 16.019981|                  1|      1|      0|      0|          0|           0|      0|          0|      0|     0|          0|      0|      0|                    0|               0|            0|                 0|                 0|                 0|             0|              0|              0|              0|             0|                   0|                  3|      0.029722635|     Blocked|   0|          0.0|\n",
      "|de2e15e0-2367-415...| 151813.0|           99.6|           29.5|         22.9436|  17.73131|                  1|      0|      0|      0|          1|           0|      0|          0|      0|     0|          0|      0|      0|                    1|               0|            0|                 0|                 0|                 0|             0|              0|              1|              0|             0|                   0|                  2|      0.039678648|       Off T|   0|          0.0|\n",
      "|4560aa24-a39b-4da...|  23649.0|          112.4|           55.2|         16.9941| 12.564382|                  1|      0|      0|      1|          0|           0|      0|          0|      0|     0|          0|      0|      0|                    1|               0|            0|                 0|                 0|                 0|             1|              0|              1|              0|             0|                   0|                  1|      0.027714925|        Post|   0|          0.0|\n",
      "|6d54ba6a-93fa-4bc...|  30606.0|          101.2|           32.9|          20.096| 21.195234|                  1|      0|      1|      0|          0|           0|      0|          0|      0|     0|          0|      0|      0|                    0|               0|            0|                 0|                 0|                 0|             0|              0|              0|              0|             0|                   0|                  2|      0.043493688|     Blocked|   0|          0.0|\n",
      "|a3386550-e312-45b...|  30486.0|          109.5|           47.0|         12.6194| 30.386824|                  0|      1|      0|      0|          0|           0|      0|          0|      0|     0|          0|      0|      0|                    0|               0|            0|                 0|                 0|                 0|             0|              0|              1|              0|             0|                   0|                  1|        0.2088165|       Saved|   0|          0.0|\n",
      "|a4617a26-cff7-47d...|  16249.0|          103.1|           43.0|         17.1642| 25.885727|                  1|      1|      0|      0|          0|           0|      0|          0|      0|     0|          0|      0|      0|                    0|               0|            0|                 0|                 0|                 0|             0|              0|              0|              0|             0|                   0|                  2|       0.07951934|     Blocked|   0|          0.0|\n",
      "|7373e8da-62d6-48a...|   3620.0|          107.3|           44.8|         13.5768| 31.114193|                  1|      1|      0|      0|          0|           0|      0|          0|      0|     0|          0|      0|      0|                    0|               1|            0|                 0|                 0|                 0|             1|              0|              1|              0|             0|                   0|                  4|       0.06748764|     Blocked|   0|          0.0|\n",
      "|7378e441-a5d2-4cc...|   7791.0|           79.8|           34.3|         40.6021| 11.144278|                  1|      0|      0|      1|          0|           0|      0|          0|      0|     0|          0|      0|      0|                    0|               0|            0|                 0|                 0|                 0|             0|              0|              0|              0|             0|                   0|                  2|     0.0062144627|     Blocked|   0|          0.0|\n",
      "|f483a064-58af-4ec...|  28268.0|          108.1|           29.2|         16.0702| 21.453957|                  0|      0|      1|      0|          0|           0|      0|          0|      0|     0|          0|      0|      0|                    0|               0|            0|                 0|                 0|                 0|             0|              0|              0|              0|             0|                   0|                  2|       0.05474969|       Off T|   0|          0.0|\n",
      "|ec5ced0a-9fad-48a...|  29595.0|          110.6|           38.8|          9.4763| 45.538326|                  0|      0|      0|      0|          1|           0|      0|          0|      0|     1|          0|      0|      0|                    0|               0|            0|                 0|                 0|                 0|             0|              0|              0|              0|             0|                   0|                  1|      0.092985675|       Saved|   0|          0.0|\n",
      "|be893b28-be5e-4c2...| 416907.0|           93.0|           47.4|         27.9957| 15.713305|                  0|      1|      0|      0|          0|           0|      0|          0|      0|     0|          0|      0|      0|                    0|               0|            0|                 0|                 0|                 0|             1|              0|              0|              0|             0|                   0|                  2|      0.022865457|       Off T|   0|          0.0|\n",
      "|541890a9-808d-4d0...|  10336.0|           95.5|           44.2|         24.8574| 18.037369|                  1|      0|      1|      0|          0|           0|      0|          0|      0|     0|          0|      1|      0|                    0|               0|            0|                 0|                 0|                 0|             0|              0|              0|              0|             0|                   0|                  5|       0.07529922|        Post|   0|          0.0|\n",
      "|db44dcba-6ceb-417...|  10336.0|          106.3|           65.9|         29.3002| 7.4119263|                  1|      0|      0|      0|          1|           0|      0|          0|      0|     0|          0|      0|      0|                    0|               0|            0|                 0|                 0|                 0|             0|              0|              1|              0|             0|                   0|                  2|     0.0076719634|       Saved|   0|          0.0|\n",
      "|dda50942-aff8-4fa...|   2956.0|          103.0|           46.8|         18.3096| 23.074577|                  1|      0|      0|      0|          0|           0|      0|          1|      0|     0|          0|      0|      0|                    0|               0|            0|                 0|                 0|                 0|             0|              0|              0|              0|             0|                   0|                  2|       0.05654552|     Blocked|   0|          0.0|\n",
      "|47548962-cb46-43f...|  38004.0|          105.9|           25.3|         20.3691| 15.789716|                  1|      0|      0|      0|          1|           0|      0|          0|      0|     0|          0|      0|      0|                    0|               0|            0|                 0|                 0|                 0|             0|              0|              1|              0|             0|                   0|                  3|       0.03944763|       Saved|   0|          0.0|\n",
      "+--------------------+---------+---------------+---------------+----------------+----------+-------------------+-------+-------+-------+-----------+------------+-------+-----------+-------+------+-----------+-------+-------+---------------------+----------------+-------------+------------------+------------------+------------------+--------------+---------------+---------------+---------------+--------------+--------------------+-------------------+-----------------+------------+----+-------------+\n",
      "only showing top 20 rows\n",
      "\n"
     ]
    }
   ],
   "source": [
    "shots.show()"
   ]
  },
  {
   "cell_type": "markdown",
   "metadata": {},
   "source": [
    "## Model Training"
   ]
  },
  {
   "cell_type": "code",
   "execution_count": 10,
   "metadata": {},
   "outputs": [],
   "source": [
    "# splitting data\n",
    "train_data, test_data = pp.pre_training(shots,train_size=0.7)"
   ]
  },
  {
   "cell_type": "markdown",
   "metadata": {},
   "source": [
    "## Regression Logistique"
   ]
  },
  {
   "cell_type": "markdown",
   "metadata": {},
   "source": [
    "### Training"
   ]
  },
  {
   "cell_type": "code",
   "execution_count": 9,
   "metadata": {},
   "outputs": [
    {
     "name": "stderr",
     "output_type": "stream",
     "text": [
      "25/01/28 13:37:26 WARN TaskSetManager: Stage 41 contains a task of very large size (1681 KiB). The maximum recommended task size is 1000 KiB.\n",
      "25/01/28 13:37:55 WARN TaskSetManager: Stage 56 contains a task of very large size (1681 KiB). The maximum recommended task size is 1000 KiB.\n",
      "25/01/28 13:38:12 WARN InstanceBuilder: Failed to load implementation from:dev.ludovic.netlib.blas.JNIBLAS\n",
      "25/01/28 13:38:29 WARN TaskSetManager: Stage 251 contains a task of very large size (1681 KiB). The maximum recommended task size is 1000 KiB.\n",
      "25/01/28 13:38:59 WARN TaskSetManager: Stage 266 contains a task of very large size (1681 KiB). The maximum recommended task size is 1000 KiB.\n",
      "25/01/28 13:39:31 WARN TaskSetManager: Stage 281 contains a task of very large size (1681 KiB). The maximum recommended task size is 1000 KiB.\n",
      "                                                                                \r"
     ]
    },
    {
     "name": "stdout",
     "output_type": "stream",
     "text": [
      "Training took 154.55 seconds.\n"
     ]
    }
   ],
   "source": [
    "start_time = time.time()\n",
    "log_reg = ModelTrainer(train_data,test_data,model_type='logistic',max_iter=100)\n",
    "end_time = time.time()\n",
    "\n",
    "elapsed_time = end_time - start_time\n",
    "print(f\"Training took {elapsed_time:.2f} seconds.\")"
   ]
  },
  {
   "cell_type": "code",
   "execution_count": null,
   "metadata": {},
   "outputs": [
    {
     "name": "stderr",
     "output_type": "stream",
     "text": [
      "25/01/28 14:10:36 WARN InstanceBuilder: Failed to load implementation from:dev.ludovic.netlib.blas.JNIBLAS\n"
     ]
    },
    {
     "name": "stdout",
     "output_type": "stream",
     "text": [
      "Training took 5.79 seconds.\n"
     ]
    }
   ],
   "source": [
    "log_reg = ModelTrainer(train_data,test_data,model_type='logistic',max_iter=100)\n",
    "print(f\"Training took {elapsed_time:.2f} seconds.\")"
   ]
  },
  {
   "cell_type": "code",
   "execution_count": 7,
   "metadata": {},
   "outputs": [
    {
     "name": "stdout",
     "output_type": "stream",
     "text": [
      "ROC-AUC for max_iter=10: 80.31%\n",
      "ROC-AUC for max_iter=20: 80.41%\n",
      "ROC-AUC for max_iter=30: 80.41%\n",
      "ROC-AUC for max_iter=40: 80.41%\n",
      "ROC-AUC for max_iter=50: 80.41%\n",
      "ROC-AUC for max_iter=60: 80.41%\n",
      "ROC-AUC for max_iter=70: 80.41%\n",
      "ROC-AUC for max_iter=80: 80.41%\n",
      "ROC-AUC for max_iter=90: 80.41%\n",
      "ROC-AUC for max_iter=100: 80.41%\n"
     ]
    },
    {
     "data": {
      "image/png": "[encoded data removed]",
      "text/plain": [
       "<Figure size 640x480 with 1 Axes>"
      ]
     },
     "metadata": {},
     "output_type": "display_data"
    }
   ],
   "source": [
    "log_reg.plot_learning_curve(max_iter_range=[10,20,30,40,50,60,70,80,90,100])"
   ]
  },
  {
   "cell_type": "markdown",
   "metadata": {},
   "source": [
    "### Evaluation"
   ]
  },
  {
   "cell_type": "code",
   "execution_count": 12,
   "metadata": {},
   "outputs": [],
   "source": [
    "predictions = log_reg.predictions\n",
    "predictions = pp.goal_proba(predictions)\n",
    "me = ModelEvaluation(predictions,'goal','prediction')\n",
    "me_sb = ModelEvaluation(predictions,'sb_prediction','prediction')\n",
    "me_r = ModelEvaluation(predictions,'shot_statsbomb_xg','goal_probability',model_type='regression')"
   ]
  },
  {
   "cell_type": "code",
   "execution_count": 14,
   "metadata": {},
   "outputs": [
    {
     "name": "stdout",
     "output_type": "stream",
     "text": [
      "Real World Classification results\n"
     ]
    },
    {
     "data": {
      "text/plain": [
       "{'Accuracy': 90.14,\n",
       " 'Precision': 69.73,\n",
       " 'Recall': 20.42,\n",
       " 'Sensitivity': 20.42,\n",
       " 'Specificity': 98.89,\n",
       " 'F1': 31.59,\n",
       " 'FPR': 1.11,\n",
       " 'FNR': 79.58}"
      ]
     },
     "execution_count": 14,
     "metadata": {},
     "output_type": "execute_result"
    }
   ],
   "source": [
    "print('Real World Classification results')\n",
    "me.get_all_metrics()"
   ]
  },
  {
   "cell_type": "code",
   "execution_count": 16,
   "metadata": {},
   "outputs": [
    {
     "name": "stdout",
     "output_type": "stream",
     "text": [
      "Classification results compared to StatsBomb Model\n"
     ]
    },
    {
     "data": {
      "text/plain": [
       "{'Accuracy': 98.69,\n",
       " 'Precision': 85.12,\n",
       " 'Recall': 77.12,\n",
       " 'Sensitivity': 77.12,\n",
       " 'Specificity': 99.5,\n",
       " 'F1': 80.92,\n",
       " 'FPR': 0.5,\n",
       " 'FNR': 22.88}"
      ]
     },
     "execution_count": 16,
     "metadata": {},
     "output_type": "execute_result"
    }
   ],
   "source": [
    "print('Classification results compared to StatsBomb Model')\n",
    "me_sb.get_all_metrics()"
   ]
  },
  {
   "cell_type": "code",
   "execution_count": 17,
   "metadata": {},
   "outputs": [
    {
     "name": "stdout",
     "output_type": "stream",
     "text": [
      "Regression results\n"
     ]
    },
    {
     "data": {
      "text/plain": [
       "{'MSE': 0.00371, 'RMSE': 0.06089, 'MAE': 0.0344, 'R2': 83.13}"
      ]
     },
     "execution_count": 17,
     "metadata": {},
     "output_type": "execute_result"
    }
   ],
   "source": [
    "print('Regression results')\n",
    "me_r.get_all_metrics()"
   ]
  },
  {
   "cell_type": "code",
   "execution_count": 18,
   "metadata": {},
   "outputs": [
    {
     "data": {
      "text/html": [
       "<div>\n",
       "<style scoped>\n",
       "    .dataframe tbody tr th:only-of-type {\n",
       "        vertical-align: middle;\n",
       "    }\n",
       "\n",
       "    .dataframe tbody tr th {\n",
       "        vertical-align: top;\n",
       "    }\n",
       "\n",
       "    .dataframe thead th {\n",
       "        text-align: right;\n",
       "    }\n",
       "</style>\n",
       "<table border=\"1\" class=\"dataframe\">\n",
       "  <thead>\n",
       "    <tr style=\"text-align: right;\">\n",
       "      <th></th>\n",
       "      <th>Feature</th>\n",
       "      <th>Importance</th>\n",
       "    </tr>\n",
       "  </thead>\n",
       "  <tbody>\n",
       "    <tr>\n",
       "      <th>9</th>\n",
       "      <td>corner_type</td>\n",
       "      <td>2.435549</td>\n",
       "    </tr>\n",
       "    <tr>\n",
       "      <th>11</th>\n",
       "      <td>pk_type</td>\n",
       "      <td>2.033136</td>\n",
       "    </tr>\n",
       "    <tr>\n",
       "      <th>10</th>\n",
       "      <td>fk_type</td>\n",
       "      <td>1.834886</td>\n",
       "    </tr>\n",
       "    <tr>\n",
       "      <th>14</th>\n",
       "      <td>lob_technique</td>\n",
       "      <td>0.940252</td>\n",
       "    </tr>\n",
       "    <tr>\n",
       "      <th>25</th>\n",
       "      <td>shot_open_goal</td>\n",
       "      <td>0.897951</td>\n",
       "    </tr>\n",
       "    <tr>\n",
       "      <th>17</th>\n",
       "      <td>diving_h_technique</td>\n",
       "      <td>0.668666</td>\n",
       "    </tr>\n",
       "    <tr>\n",
       "      <th>4</th>\n",
       "      <td>from_counter</td>\n",
       "      <td>0.401767</td>\n",
       "    </tr>\n",
       "    <tr>\n",
       "      <th>20</th>\n",
       "      <td>preferred_foot_shot</td>\n",
       "      <td>0.301096</td>\n",
       "    </tr>\n",
       "    <tr>\n",
       "      <th>24</th>\n",
       "      <td>shot_one_on_one</td>\n",
       "      <td>0.256291</td>\n",
       "    </tr>\n",
       "    <tr>\n",
       "      <th>6</th>\n",
       "      <td>from_keeper</td>\n",
       "      <td>0.216667</td>\n",
       "    </tr>\n",
       "    <tr>\n",
       "      <th>23</th>\n",
       "      <td>shot_first_time</td>\n",
       "      <td>0.115164</td>\n",
       "    </tr>\n",
       "    <tr>\n",
       "      <th>7</th>\n",
       "      <td>from_ko</td>\n",
       "      <td>0.101857</td>\n",
       "    </tr>\n",
       "    <tr>\n",
       "      <th>2</th>\n",
       "      <td>from_ti</td>\n",
       "      <td>0.076563</td>\n",
       "    </tr>\n",
       "    <tr>\n",
       "      <th>0</th>\n",
       "      <td>from_rp</td>\n",
       "      <td>0.030827</td>\n",
       "    </tr>\n",
       "    <tr>\n",
       "      <th>19</th>\n",
       "      <td>shot_angle</td>\n",
       "      <td>0.025707</td>\n",
       "    </tr>\n",
       "    <tr>\n",
       "      <th>5</th>\n",
       "      <td>from_gk</td>\n",
       "      <td>0.005642</td>\n",
       "    </tr>\n",
       "    <tr>\n",
       "      <th>1</th>\n",
       "      <td>from_fk</td>\n",
       "      <td>-0.045976</td>\n",
       "    </tr>\n",
       "    <tr>\n",
       "      <th>21</th>\n",
       "      <td>under_pressure</td>\n",
       "      <td>-0.086378</td>\n",
       "    </tr>\n",
       "    <tr>\n",
       "      <th>18</th>\n",
       "      <td>distance_to_goal</td>\n",
       "      <td>-0.108171</td>\n",
       "    </tr>\n",
       "    <tr>\n",
       "      <th>3</th>\n",
       "      <td>from_corner</td>\n",
       "      <td>-0.191546</td>\n",
       "    </tr>\n",
       "    <tr>\n",
       "      <th>27</th>\n",
       "      <td>players_inside_area</td>\n",
       "      <td>-0.289928</td>\n",
       "    </tr>\n",
       "    <tr>\n",
       "      <th>12</th>\n",
       "      <td>half_volley_technique</td>\n",
       "      <td>-0.525430</td>\n",
       "    </tr>\n",
       "    <tr>\n",
       "      <th>26</th>\n",
       "      <td>shot_follows_dribble</td>\n",
       "      <td>-0.544238</td>\n",
       "    </tr>\n",
       "    <tr>\n",
       "      <th>22</th>\n",
       "      <td>shot_aerial_won</td>\n",
       "      <td>-0.550092</td>\n",
       "    </tr>\n",
       "    <tr>\n",
       "      <th>13</th>\n",
       "      <td>volley_technique</td>\n",
       "      <td>-0.562337</td>\n",
       "    </tr>\n",
       "    <tr>\n",
       "      <th>8</th>\n",
       "      <td>header</td>\n",
       "      <td>-0.834077</td>\n",
       "    </tr>\n",
       "    <tr>\n",
       "      <th>15</th>\n",
       "      <td>overhead_technique</td>\n",
       "      <td>-1.151043</td>\n",
       "    </tr>\n",
       "    <tr>\n",
       "      <th>16</th>\n",
       "      <td>backheel_technique</td>\n",
       "      <td>-1.355929</td>\n",
       "    </tr>\n",
       "  </tbody>\n",
       "</table>\n",
       "</div>"
      ],
      "text/plain": [
       "                  Feature  Importance\n",
       "9             corner_type    2.435549\n",
       "11                pk_type    2.033136\n",
       "10                fk_type    1.834886\n",
       "14          lob_technique    0.940252\n",
       "25         shot_open_goal    0.897951\n",
       "17     diving_h_technique    0.668666\n",
       "4            from_counter    0.401767\n",
       "20    preferred_foot_shot    0.301096\n",
       "24        shot_one_on_one    0.256291\n",
       "6             from_keeper    0.216667\n",
       "23        shot_first_time    0.115164\n",
       "7                 from_ko    0.101857\n",
       "2                 from_ti    0.076563\n",
       "0                 from_rp    0.030827\n",
       "19             shot_angle    0.025707\n",
       "5                 from_gk    0.005642\n",
       "1                 from_fk   -0.045976\n",
       "21         under_pressure   -0.086378\n",
       "18       distance_to_goal   -0.108171\n",
       "3             from_corner   -0.191546\n",
       "27    players_inside_area   -0.289928\n",
       "12  half_volley_technique   -0.525430\n",
       "26   shot_follows_dribble   -0.544238\n",
       "22        shot_aerial_won   -0.550092\n",
       "13       volley_technique   -0.562337\n",
       "8                  header   -0.834077\n",
       "15     overhead_technique   -1.151043\n",
       "16     backheel_technique   -1.355929"
      ]
     },
     "execution_count": 18,
     "metadata": {},
     "output_type": "execute_result"
    }
   ],
   "source": [
    "# Feature importance\n",
    "fi = log_reg.feature_importance()\n",
    "fi.sort_values(by='Importance',ascending=False)"
   ]
  },
  {
   "cell_type": "markdown",
   "metadata": {},
   "source": [
    "### Confirming that the model is not Overfitting"
   ]
  },
  {
   "cell_type": "code",
   "execution_count": 17,
   "metadata": {},
   "outputs": [
    {
     "name": "stdout",
     "output_type": "stream",
     "text": [
      "Training took 2.18 seconds.\n",
      "ROC-AUC for max_iter=10: 81.70%\n",
      "ROC-AUC for max_iter=20: 81.73%\n",
      "ROC-AUC for max_iter=30: 81.73%\n",
      "ROC-AUC for max_iter=40: 81.73%\n",
      "ROC-AUC for max_iter=50: 81.73%\n",
      "ROC-AUC for max_iter=60: 81.73%\n",
      "ROC-AUC for max_iter=70: 81.73%\n",
      "ROC-AUC for max_iter=80: 81.73%\n",
      "ROC-AUC for max_iter=90: 81.73%\n",
      "ROC-AUC for max_iter=100: 81.73%\n"
     ]
    },
    {
     "data": {
      "image/png": "[encoded data removed]",
      "text/plain": [
       "<Figure size 640x480 with 1 Axes>"
      ]
     },
     "metadata": {},
     "output_type": "display_data"
    }
   ],
   "source": [
    "start_time = time.time()\n",
    "log_reg = ModelTrainer('logistic',train_data,train_data,max_iter=100)\n",
    "end_time = time.time()\n",
    "\n",
    "elapsed_time = end_time - start_time\n",
    "print(f\"Training took {elapsed_time:.2f} seconds.\")\n",
    "log_reg.plot_learning_curve(max_iter_range=[10,20,30,40,50,60,70,80,90,100])"
   ]
  },
  {
   "cell_type": "code",
   "execution_count": 18,
   "metadata": {},
   "outputs": [],
   "source": [
    "predictions = log_reg.predictions\n",
    "predictions = pp.goal_proba(predictions)\n",
    "me = ModelEvaluation(predictions,'goal','prediction')\n",
    "me_sb = ModelEvaluation(predictions,'sb_prediction','prediction')\n",
    "me_r = ModelEvaluation(predictions,'shot_statsbomb_xg','goal_probability',model_type='regression')"
   ]
  },
  {
   "cell_type": "code",
   "execution_count": 20,
   "metadata": {},
   "outputs": [
    {
     "name": "stdout",
     "output_type": "stream",
     "text": [
      "Real World Classification results\n"
     ]
    },
    {
     "data": {
      "text/plain": [
       "{'Accuracy': 90.56,\n",
       " 'Precision': 68.14,\n",
       " 'Recall': 22.15,\n",
       " 'Sensitivity': 22.15,\n",
       " 'Specificity': 98.76,\n",
       " 'F1': 33.43,\n",
       " 'FPR': 1.24,\n",
       " 'FNR': 77.85}"
      ]
     },
     "execution_count": 20,
     "metadata": {},
     "output_type": "execute_result"
    }
   ],
   "source": [
    "print('Real World Classification results')\n",
    "me.get_all_metrics()"
   ]
  },
  {
   "cell_type": "code",
   "execution_count": 21,
   "metadata": {},
   "outputs": [
    {
     "name": "stdout",
     "output_type": "stream",
     "text": [
      "Classification results compared to StatsBomb Model\n"
     ]
    },
    {
     "data": {
      "text/plain": [
       "{'Accuracy': 98.67,\n",
       " 'Precision': 84.01,\n",
       " 'Recall': 79.05,\n",
       " 'Sensitivity': 79.05,\n",
       " 'Specificity': 99.42,\n",
       " 'F1': 81.45,\n",
       " 'FPR': 0.58,\n",
       " 'FNR': 20.95}"
      ]
     },
     "execution_count": 21,
     "metadata": {},
     "output_type": "execute_result"
    }
   ],
   "source": [
    "print('Classification results compared to StatsBomb Model')\n",
    "me_sb.get_all_metrics()"
   ]
  },
  {
   "cell_type": "code",
   "execution_count": 22,
   "metadata": {},
   "outputs": [
    {
     "name": "stdout",
     "output_type": "stream",
     "text": [
      "Regression results\n"
     ]
    },
    {
     "data": {
      "text/plain": [
       "{'MSE': 0.00385, 'RMSE': 0.06203, 'MAE': 0.03482, 'R2': 82.89}"
      ]
     },
     "execution_count": 22,
     "metadata": {},
     "output_type": "execute_result"
    }
   ],
   "source": [
    "print('Regression results')\n",
    "me_r.get_all_metrics()"
   ]
  },
  {
   "cell_type": "markdown",
   "metadata": {},
   "source": [
    "## Naive Bayes"
   ]
  },
  {
   "cell_type": "code",
   "execution_count": 22,
   "metadata": {},
   "outputs": [
    {
     "name": "stdout",
     "output_type": "stream",
     "text": [
      "Training took 99.5 seconds.\n"
     ]
    }
   ],
   "source": [
    "start_time = time.time()\n",
    "nb = ModelTrainer(train_data,test_data,model_type='nb')\n",
    "end_time = time.time()\n",
    "\n",
    "elapsed_time = end_time - start_time\n",
    "print(f\"Training took {elapsed_time:.2f} seconds.\")"
   ]
  },
  {
   "cell_type": "code",
   "execution_count": 20,
   "metadata": {},
   "outputs": [
    {
     "name": "stdout",
     "output_type": "stream",
     "text": [
      "ROC-AUC for max_iter=10: 67.53%\n",
      "ROC-AUC for max_iter=20: 67.53%\n",
      "ROC-AUC for max_iter=30: 67.53%\n",
      "ROC-AUC for max_iter=40: 67.53%\n",
      "ROC-AUC for max_iter=50: 67.53%\n",
      "ROC-AUC for max_iter=60: 67.53%\n",
      "ROC-AUC for max_iter=70: 67.53%\n",
      "ROC-AUC for max_iter=80: 67.53%\n",
      "ROC-AUC for max_iter=90: 67.53%\n",
      "ROC-AUC for max_iter=100: 67.53%\n"
     ]
    },
    {
     "data": {
      "image/png": "[encoded data removed]",
      "text/plain": [
       "<Figure size 640x480 with 1 Axes>"
      ]
     },
     "metadata": {},
     "output_type": "display_data"
    }
   ],
   "source": [
    "nb.plot_learning_curve(max_iter_range=[10,20,30,40,50,60,70,80,90,100])"
   ]
  },
  {
   "cell_type": "code",
   "execution_count": 59,
   "metadata": {},
   "outputs": [
    {
     "name": "stdout",
     "output_type": "stream",
     "text": [
      "Real World Classification results\n"
     ]
    },
    {
     "data": {
      "text/plain": [
       "{'Accuracy': 76.51,\n",
       " 'Precision': 25.58,\n",
       " 'Recall': 57.98,\n",
       " 'Sensitivity': 57.98,\n",
       " 'Specificity': 78.84,\n",
       " 'F1': 35.5,\n",
       " 'FPR': 21.16,\n",
       " 'FNR': 42.02}"
      ]
     },
     "execution_count": 59,
     "metadata": {},
     "output_type": "execute_result"
    }
   ],
   "source": [
    "predictions = nb.predictions\n",
    "predictions = pp.goal_proba(predictions)\n",
    "me = ModelEvaluation(predictions,'goal','prediction')\n",
    "me_sb = ModelEvaluation(predictions,'sb_prediction','prediction')\n",
    "me_r = ModelEvaluation(predictions,'shot_statsbomb_xg','goal_probability',model_type='regression')\n",
    "print('Real World Classification results')\n",
    "me.get_all_metrics()"
   ]
  },
  {
   "cell_type": "code",
   "execution_count": 60,
   "metadata": {},
   "outputs": [
    {
     "name": "stdout",
     "output_type": "stream",
     "text": [
      "Classification results compared to StatsBomb Model\n"
     ]
    },
    {
     "data": {
      "text/plain": [
       "{'Accuracy': 78.15,\n",
       " 'Precision': 13.89,\n",
       " 'Recall': 97.42,\n",
       " 'Sensitivity': 97.42,\n",
       " 'Specificity': 77.43,\n",
       " 'F1': 24.31,\n",
       " 'FPR': 22.57,\n",
       " 'FNR': 2.58}"
      ]
     },
     "execution_count": 60,
     "metadata": {},
     "output_type": "execute_result"
    }
   ],
   "source": [
    "print('Classification results compared to StatsBomb Model')\n",
    "me_sb.get_all_metrics()"
   ]
  },
  {
   "cell_type": "code",
   "execution_count": 61,
   "metadata": {},
   "outputs": [
    {
     "name": "stdout",
     "output_type": "stream",
     "text": [
      "Regression results\n"
     ]
    },
    {
     "data": {
      "text/plain": [
       "{'MSE': 0.14119, 'RMSE': 0.37575, 'MAE': 0.2193, 'R2': -542.53}"
      ]
     },
     "execution_count": 61,
     "metadata": {},
     "output_type": "execute_result"
    }
   ],
   "source": [
    "print('Regression results')\n",
    "me_r.get_all_metrics()"
   ]
  },
  {
   "cell_type": "markdown",
   "metadata": {},
   "source": [
    "### Confirming that the model is not Overfitting"
   ]
  },
  {
   "cell_type": "code",
   "execution_count": null,
   "metadata": {},
   "outputs": [],
   "source": [
    "start_time = time.time()\n",
    "nb = ModelTrainer(train_data,train_data,model_type='nb',max_iter=100)\n",
    "end_time = time.time()\n",
    "\n",
    "elapsed_time = end_time - start_time\n",
    "print(f\"Training took {elapsed_time:.2f} seconds.\")"
   ]
  },
  {
   "cell_type": "code",
   "execution_count": 66,
   "metadata": {},
   "outputs": [
    {
     "name": "stdout",
     "output_type": "stream",
     "text": [
      "ROC-AUC for max_iter=10: 66.78%\n",
      "ROC-AUC for max_iter=20: 66.78%\n",
      "ROC-AUC for max_iter=30: 66.78%\n",
      "ROC-AUC for max_iter=40: 66.78%\n",
      "ROC-AUC for max_iter=50: 66.78%\n",
      "ROC-AUC for max_iter=60: 66.78%\n",
      "ROC-AUC for max_iter=70: 66.78%\n",
      "ROC-AUC for max_iter=80: 66.78%\n",
      "ROC-AUC for max_iter=90: 66.78%\n",
      "ROC-AUC for max_iter=100: 66.78%\n"
     ]
    },
    {
     "data": {
      "image/png": "[encoded data removed]",
      "text/plain": [
       "<Figure size 640x480 with 1 Axes>"
      ]
     },
     "metadata": {},
     "output_type": "display_data"
    }
   ],
   "source": [
    "nb.plot_learning_curve(max_iter_range=[10,20,30,40,50,60,70,80,90,100])"
   ]
  },
  {
   "cell_type": "code",
   "execution_count": 63,
   "metadata": {},
   "outputs": [
    {
     "name": "stdout",
     "output_type": "stream",
     "text": [
      "Real World Classification results\n"
     ]
    },
    {
     "data": {
      "text/plain": [
       "{'Accuracy': 76.55,\n",
       " 'Precision': 24.61,\n",
       " 'Recall': 58.28,\n",
       " 'Sensitivity': 58.28,\n",
       " 'Specificity': 78.73,\n",
       " 'F1': 34.61,\n",
       " 'FPR': 21.27,\n",
       " 'FNR': 41.72}"
      ]
     },
     "execution_count": 63,
     "metadata": {},
     "output_type": "execute_result"
    }
   ],
   "source": [
    "predictions = nb.predictions\n",
    "predictions = pp.goal_proba(predictions)\n",
    "me = ModelEvaluation(predictions,'goal','prediction')\n",
    "me_sb = ModelEvaluation(predictions,'sb_prediction','prediction')\n",
    "me_r = ModelEvaluation(predictions,'shot_statsbomb_xg','goal_probability',model_type='regression')\n",
    "print('Real World Classification results')\n",
    "me.get_all_metrics()"
   ]
  },
  {
   "cell_type": "code",
   "execution_count": 64,
   "metadata": {},
   "outputs": [
    {
     "name": "stdout",
     "output_type": "stream",
     "text": [
      "Classification results compared to StatsBomb Model\n"
     ]
    },
    {
     "data": {
      "text/plain": [
       "{'Accuracy': 78.25,\n",
       " 'Precision': 14.16,\n",
       " 'Recall': 97.11,\n",
       " 'Sensitivity': 97.11,\n",
       " 'Specificity': 77.53,\n",
       " 'F1': 24.71,\n",
       " 'FPR': 22.47,\n",
       " 'FNR': 2.89}"
      ]
     },
     "execution_count": 64,
     "metadata": {},
     "output_type": "execute_result"
    }
   ],
   "source": [
    "print('Classification results compared to StatsBomb Model')\n",
    "me_sb.get_all_metrics()"
   ]
  },
  {
   "cell_type": "code",
   "execution_count": 65,
   "metadata": {},
   "outputs": [
    {
     "name": "stdout",
     "output_type": "stream",
     "text": [
      "Regression results\n"
     ]
    },
    {
     "data": {
      "text/plain": [
       "{'MSE': 0.13969, 'RMSE': 0.37375, 'MAE': 0.21764, 'R2': -522.02}"
      ]
     },
     "execution_count": 65,
     "metadata": {},
     "output_type": "execute_result"
    }
   ],
   "source": [
    "print('Regression results')\n",
    "me_r.get_all_metrics()"
   ]
  },
  {
   "cell_type": "markdown",
   "metadata": {},
   "source": [
    "## Decision Tree"
   ]
  },
  {
   "cell_type": "code",
   "execution_count": 7,
   "metadata": {},
   "outputs": [
    {
     "name": "stderr",
     "output_type": "stream",
     "text": [
      "25/01/28 13:59:12 WARN TaskSetManager: Stage 76 contains a task of very large size (1681 KiB). The maximum recommended task size is 1000 KiB.\n",
      "25/01/28 13:59:42 WARN TaskSetManager: Stage 91 contains a task of very large size (1681 KiB). The maximum recommended task size is 1000 KiB.\n",
      "25/01/28 14:00:12 WARN TaskSetManager: Stage 113 contains a task of very large size (1681 KiB). The maximum recommended task size is 1000 KiB.\n",
      "25/01/28 14:00:44 WARN TaskSetManager: Stage 158 contains a task of very large size (1681 KiB). The maximum recommended task size is 1000 KiB.\n",
      "                                                                                \r"
     ]
    },
    {
     "name": "stdout",
     "output_type": "stream",
     "text": [
      "Training took 121.30 seconds.\n"
     ]
    }
   ],
   "source": [
    "start_time = time.time()\n",
    "dt = ModelTrainer(train_data,test_data,model_type='dt')\n",
    "end_time = time.time()\n",
    "\n",
    "elapsed_time = end_time - start_time\n",
    "print(f\"Training took {elapsed_time:.2f} seconds.\")"
   ]
  },
  {
   "cell_type": "code",
   "execution_count": 27,
   "metadata": {},
   "outputs": [
    {
     "name": "stdout",
     "output_type": "stream",
     "text": [
      "ROC-AUC for max_iter=10: 57.67%\n",
      "ROC-AUC for max_iter=20: 57.67%\n",
      "ROC-AUC for max_iter=30: 57.67%\n",
      "ROC-AUC for max_iter=40: 57.67%\n",
      "ROC-AUC for max_iter=50: 57.67%\n",
      "ROC-AUC for max_iter=60: 57.67%\n",
      "ROC-AUC for max_iter=70: 57.67%\n",
      "ROC-AUC for max_iter=80: 57.67%\n",
      "ROC-AUC for max_iter=90: 57.67%\n",
      "ROC-AUC for max_iter=100: 57.67%\n"
     ]
    },
    {
     "data": {
      "image/png": "[encoded data removed]",
      "text/plain": [
       "<Figure size 640x480 with 1 Axes>"
      ]
     },
     "metadata": {},
     "output_type": "display_data"
    }
   ],
   "source": [
    "dt.plot_learning_curve(max_iter_range=[10,20,30,40,50,60,70,80,90,100])"
   ]
  },
  {
   "cell_type": "code",
   "execution_count": 29,
   "metadata": {},
   "outputs": [
    {
     "name": "stderr",
     "output_type": "stream",
     "text": [
      "                                                                                \r"
     ]
    }
   ],
   "source": [
    "predictions = dt.predictions\n",
    "predictions = pp.goal_proba(predictions)\n",
    "me = ModelEvaluation(predictions,'goal','prediction')\n",
    "me_sb = ModelEvaluation(predictions,'sb_prediction','prediction')\n",
    "me_r = ModelEvaluation(predictions,'shot_statsbomb_xg','goal_probability',model_type='regression')"
   ]
  },
  {
   "cell_type": "code",
   "execution_count": 30,
   "metadata": {},
   "outputs": [
    {
     "name": "stdout",
     "output_type": "stream",
     "text": [
      "Real World Classification results\n"
     ]
    },
    {
     "data": {
      "text/plain": [
       "{'Accuracy': 89.96,\n",
       " 'Precision': 71.67,\n",
       " 'Recall': 16.36,\n",
       " 'Sensitivity': 16.36,\n",
       " 'Specificity': 99.19,\n",
       " 'F1': 26.63,\n",
       " 'FPR': 0.81,\n",
       " 'FNR': 83.64}"
      ]
     },
     "execution_count": 30,
     "metadata": {},
     "output_type": "execute_result"
    }
   ],
   "source": [
    "print('Real World Classification results')\n",
    "me.get_all_metrics()"
   ]
  },
  {
   "cell_type": "code",
   "execution_count": 33,
   "metadata": {},
   "outputs": [
    {
     "name": "stdout",
     "output_type": "stream",
     "text": [
      "Classification results compared to StatsBomb Model\n"
     ]
    },
    {
     "data": {
      "text/plain": [
       "{'Accuracy': 98.06,\n",
       " 'Precision': 82.62,\n",
       " 'Recall': 58.33,\n",
       " 'Sensitivity': 58.33,\n",
       " 'Specificity': 99.54,\n",
       " 'F1': 68.38,\n",
       " 'FPR': 0.46,\n",
       " 'FNR': 41.67}"
      ]
     },
     "execution_count": 33,
     "metadata": {},
     "output_type": "execute_result"
    }
   ],
   "source": [
    "print('Classification results compared to StatsBomb Model')\n",
    "me_sb.get_all_metrics()"
   ]
  },
  {
   "cell_type": "code",
   "execution_count": 34,
   "metadata": {},
   "outputs": [
    {
     "name": "stdout",
     "output_type": "stream",
     "text": [
      "Regression results\n"
     ]
    },
    {
     "data": {
      "text/plain": [
       "{'MSE': 0.00727, 'RMSE': 0.08526, 'MAE': 0.0484, 'R2': 66.92}"
      ]
     },
     "execution_count": 34,
     "metadata": {},
     "output_type": "execute_result"
    }
   ],
   "source": [
    "print('Regression results')\n",
    "me_r.get_all_metrics()"
   ]
  },
  {
   "cell_type": "code",
   "execution_count": 35,
   "metadata": {},
   "outputs": [
    {
     "data": {
      "text/html": [
       "<div>\n",
       "<style scoped>\n",
       "    .dataframe tbody tr th:only-of-type {\n",
       "        vertical-align: middle;\n",
       "    }\n",
       "\n",
       "    .dataframe tbody tr th {\n",
       "        vertical-align: top;\n",
       "    }\n",
       "\n",
       "    .dataframe thead th {\n",
       "        text-align: right;\n",
       "    }\n",
       "</style>\n",
       "<table border=\"1\" class=\"dataframe\">\n",
       "  <thead>\n",
       "    <tr style=\"text-align: right;\">\n",
       "      <th></th>\n",
       "      <th>Feature</th>\n",
       "      <th>Importance</th>\n",
       "    </tr>\n",
       "  </thead>\n",
       "  <tbody>\n",
       "    <tr>\n",
       "      <th>19</th>\n",
       "      <td>shot_angle</td>\n",
       "      <td>0.394019</td>\n",
       "    </tr>\n",
       "    <tr>\n",
       "      <th>8</th>\n",
       "      <td>header</td>\n",
       "      <td>0.200981</td>\n",
       "    </tr>\n",
       "    <tr>\n",
       "      <th>18</th>\n",
       "      <td>distance_to_goal</td>\n",
       "      <td>0.117130</td>\n",
       "    </tr>\n",
       "    <tr>\n",
       "      <th>25</th>\n",
       "      <td>shot_open_goal</td>\n",
       "      <td>0.116713</td>\n",
       "    </tr>\n",
       "    <tr>\n",
       "      <th>11</th>\n",
       "      <td>pk_type</td>\n",
       "      <td>0.104172</td>\n",
       "    </tr>\n",
       "    <tr>\n",
       "      <th>24</th>\n",
       "      <td>shot_one_on_one</td>\n",
       "      <td>0.046879</td>\n",
       "    </tr>\n",
       "    <tr>\n",
       "      <th>22</th>\n",
       "      <td>shot_aerial_won</td>\n",
       "      <td>0.011056</td>\n",
       "    </tr>\n",
       "    <tr>\n",
       "      <th>3</th>\n",
       "      <td>from_corner</td>\n",
       "      <td>0.006698</td>\n",
       "    </tr>\n",
       "    <tr>\n",
       "      <th>27</th>\n",
       "      <td>players_inside_area</td>\n",
       "      <td>0.002352</td>\n",
       "    </tr>\n",
       "    <tr>\n",
       "      <th>1</th>\n",
       "      <td>from_fk</td>\n",
       "      <td>0.000000</td>\n",
       "    </tr>\n",
       "    <tr>\n",
       "      <th>2</th>\n",
       "      <td>from_ti</td>\n",
       "      <td>0.000000</td>\n",
       "    </tr>\n",
       "    <tr>\n",
       "      <th>0</th>\n",
       "      <td>from_rp</td>\n",
       "      <td>0.000000</td>\n",
       "    </tr>\n",
       "    <tr>\n",
       "      <th>10</th>\n",
       "      <td>fk_type</td>\n",
       "      <td>0.000000</td>\n",
       "    </tr>\n",
       "    <tr>\n",
       "      <th>9</th>\n",
       "      <td>corner_type</td>\n",
       "      <td>0.000000</td>\n",
       "    </tr>\n",
       "    <tr>\n",
       "      <th>6</th>\n",
       "      <td>from_keeper</td>\n",
       "      <td>0.000000</td>\n",
       "    </tr>\n",
       "    <tr>\n",
       "      <th>7</th>\n",
       "      <td>from_ko</td>\n",
       "      <td>0.000000</td>\n",
       "    </tr>\n",
       "    <tr>\n",
       "      <th>5</th>\n",
       "      <td>from_gk</td>\n",
       "      <td>0.000000</td>\n",
       "    </tr>\n",
       "    <tr>\n",
       "      <th>4</th>\n",
       "      <td>from_counter</td>\n",
       "      <td>0.000000</td>\n",
       "    </tr>\n",
       "    <tr>\n",
       "      <th>12</th>\n",
       "      <td>half_volley_technique</td>\n",
       "      <td>0.000000</td>\n",
       "    </tr>\n",
       "    <tr>\n",
       "      <th>13</th>\n",
       "      <td>volley_technique</td>\n",
       "      <td>0.000000</td>\n",
       "    </tr>\n",
       "    <tr>\n",
       "      <th>16</th>\n",
       "      <td>backheel_technique</td>\n",
       "      <td>0.000000</td>\n",
       "    </tr>\n",
       "    <tr>\n",
       "      <th>17</th>\n",
       "      <td>diving_h_technique</td>\n",
       "      <td>0.000000</td>\n",
       "    </tr>\n",
       "    <tr>\n",
       "      <th>14</th>\n",
       "      <td>lob_technique</td>\n",
       "      <td>0.000000</td>\n",
       "    </tr>\n",
       "    <tr>\n",
       "      <th>15</th>\n",
       "      <td>overhead_technique</td>\n",
       "      <td>0.000000</td>\n",
       "    </tr>\n",
       "    <tr>\n",
       "      <th>23</th>\n",
       "      <td>shot_first_time</td>\n",
       "      <td>0.000000</td>\n",
       "    </tr>\n",
       "    <tr>\n",
       "      <th>21</th>\n",
       "      <td>under_pressure</td>\n",
       "      <td>0.000000</td>\n",
       "    </tr>\n",
       "    <tr>\n",
       "      <th>20</th>\n",
       "      <td>preferred_foot_shot</td>\n",
       "      <td>0.000000</td>\n",
       "    </tr>\n",
       "    <tr>\n",
       "      <th>26</th>\n",
       "      <td>shot_follows_dribble</td>\n",
       "      <td>0.000000</td>\n",
       "    </tr>\n",
       "  </tbody>\n",
       "</table>\n",
       "</div>"
      ],
      "text/plain": [
       "                  Feature  Importance\n",
       "19             shot_angle    0.394019\n",
       "8                  header    0.200981\n",
       "18       distance_to_goal    0.117130\n",
       "25         shot_open_goal    0.116713\n",
       "11                pk_type    0.104172\n",
       "24        shot_one_on_one    0.046879\n",
       "22        shot_aerial_won    0.011056\n",
       "3             from_corner    0.006698\n",
       "27    players_inside_area    0.002352\n",
       "1                 from_fk    0.000000\n",
       "2                 from_ti    0.000000\n",
       "0                 from_rp    0.000000\n",
       "10                fk_type    0.000000\n",
       "9             corner_type    0.000000\n",
       "6             from_keeper    0.000000\n",
       "7                 from_ko    0.000000\n",
       "5                 from_gk    0.000000\n",
       "4            from_counter    0.000000\n",
       "12  half_volley_technique    0.000000\n",
       "13       volley_technique    0.000000\n",
       "16     backheel_technique    0.000000\n",
       "17     diving_h_technique    0.000000\n",
       "14          lob_technique    0.000000\n",
       "15     overhead_technique    0.000000\n",
       "23        shot_first_time    0.000000\n",
       "21         under_pressure    0.000000\n",
       "20    preferred_foot_shot    0.000000\n",
       "26   shot_follows_dribble    0.000000"
      ]
     },
     "execution_count": 35,
     "metadata": {},
     "output_type": "execute_result"
    }
   ],
   "source": [
    "fi_dt = dt.feature_importance()\n",
    "fi_dt.sort_values(by='Importance',ascending=False)"
   ]
  },
  {
   "cell_type": "markdown",
   "metadata": {},
   "source": [
    "### Confirming that the model is not Overfitting"
   ]
  },
  {
   "cell_type": "code",
   "execution_count": 36,
   "metadata": {},
   "outputs": [
    {
     "name": "stdout",
     "output_type": "stream",
     "text": [
      "Training took 1.84 seconds.\n",
      "ROC-AUC for max_iter=10: 81.70%\n",
      "ROC-AUC for max_iter=20: 81.73%\n",
      "ROC-AUC for max_iter=30: 81.73%\n",
      "ROC-AUC for max_iter=40: 81.73%\n",
      "ROC-AUC for max_iter=50: 81.73%\n",
      "ROC-AUC for max_iter=60: 81.73%\n",
      "ROC-AUC for max_iter=70: 81.73%\n",
      "ROC-AUC for max_iter=80: 81.73%\n",
      "ROC-AUC for max_iter=90: 81.73%\n",
      "ROC-AUC for max_iter=100: 81.73%\n"
     ]
    },
    {
     "data": {
      "image/png": "[encoded data removed]",
      "text/plain": [
       "<Figure size 640x480 with 1 Axes>"
      ]
     },
     "metadata": {},
     "output_type": "display_data"
    }
   ],
   "source": [
    "start_time = time.time()\n",
    "dt = ModelTrainer(train_data,train_data,model_type='dt',max_iter=60)\n",
    "end_time = time.time()\n",
    "\n",
    "elapsed_time = end_time - start_time\n",
    "print(f\"Training took {elapsed_time:.2f} seconds.\")\n",
    "dt.plot_learning_curve(max_iter_range=[10,20,30,40,50,60,70,80,90,100])"
   ]
  },
  {
   "cell_type": "code",
   "execution_count": 38,
   "metadata": {},
   "outputs": [
    {
     "name": "stdout",
     "output_type": "stream",
     "text": [
      "Real World Classification results\n"
     ]
    },
    {
     "data": {
      "text/plain": [
       "{'Accuracy': 90.56,\n",
       " 'Precision': 68.14,\n",
       " 'Recall': 22.15,\n",
       " 'Sensitivity': 22.15,\n",
       " 'Specificity': 98.76,\n",
       " 'F1': 33.43,\n",
       " 'FPR': 1.24,\n",
       " 'FNR': 77.85}"
      ]
     },
     "execution_count": 38,
     "metadata": {},
     "output_type": "execute_result"
    }
   ],
   "source": [
    "predictions = dt.predictions\n",
    "predictions = pp.goal_proba(predictions)\n",
    "me = ModelEvaluation(predictions,'goal','prediction')\n",
    "me_sb = ModelEvaluation(predictions,'sb_prediction','prediction')\n",
    "me_r = ModelEvaluation(predictions,'shot_statsbomb_xg','goal_probability',model_type='regression')\n",
    "print('Real World Classification results')\n",
    "me.get_all_metrics()"
   ]
  },
  {
   "cell_type": "code",
   "execution_count": 40,
   "metadata": {},
   "outputs": [
    {
     "name": "stdout",
     "output_type": "stream",
     "text": [
      "Classification results compared to StatsBomb Model\n"
     ]
    },
    {
     "data": {
      "text/plain": [
       "{'Accuracy': 98.67,\n",
       " 'Precision': 84.01,\n",
       " 'Recall': 79.05,\n",
       " 'Sensitivity': 79.05,\n",
       " 'Specificity': 99.42,\n",
       " 'F1': 81.45,\n",
       " 'FPR': 0.58,\n",
       " 'FNR': 20.95}"
      ]
     },
     "execution_count": 40,
     "metadata": {},
     "output_type": "execute_result"
    }
   ],
   "source": [
    "print('Classification results compared to StatsBomb Model')\n",
    "me_sb.get_all_metrics()"
   ]
  },
  {
   "cell_type": "code",
   "execution_count": 41,
   "metadata": {},
   "outputs": [
    {
     "name": "stdout",
     "output_type": "stream",
     "text": [
      "Regression results\n"
     ]
    },
    {
     "data": {
      "text/plain": [
       "{'MSE': 0.00385, 'RMSE': 0.06203, 'MAE': 0.03482, 'R2': 82.89}"
      ]
     },
     "execution_count": 41,
     "metadata": {},
     "output_type": "execute_result"
    }
   ],
   "source": [
    "print('Regression results')\n",
    "me_r.get_all_metrics()"
   ]
  },
  {
   "cell_type": "markdown",
   "metadata": {},
   "source": [
    "## SVM"
   ]
  },
  {
   "cell_type": "code",
   "execution_count": 41,
   "metadata": {},
   "outputs": [
    {
     "name": "stdout",
     "output_type": "stream",
     "text": [
      "Training took 177.2 seconds.\n"
     ]
    }
   ],
   "source": [
    "start_time = time.time()\n",
    "svm = ModelTrainer(train_data,test_data,model_type='svm')\n",
    "end_time = time.time()\n",
    "\n",
    "elapsed_time = end_time - start_time\n",
    "print(f\"Training took {elapsed_time:.2f} seconds.\")"
   ]
  },
  {
   "cell_type": "code",
   "execution_count": 37,
   "metadata": {},
   "outputs": [
    {
     "name": "stdout",
     "output_type": "stream",
     "text": [
      "ROC-AUC for max_iter=10: 76.19%\n",
      "ROC-AUC for max_iter=20: 79.18%\n",
      "ROC-AUC for max_iter=30: 76.67%\n",
      "ROC-AUC for max_iter=40: 65.27%\n",
      "ROC-AUC for max_iter=50: 67.49%\n",
      "ROC-AUC for max_iter=60: 72.58%\n",
      "ROC-AUC for max_iter=70: 74.31%\n",
      "ROC-AUC for max_iter=80: 71.23%\n",
      "ROC-AUC for max_iter=90: 67.38%\n",
      "ROC-AUC for max_iter=100: 73.79%\n"
     ]
    },
    {
     "data": {
      "image/png": "[encoded data removed]",
      "text/plain": [
       "<Figure size 640x480 with 1 Axes>"
      ]
     },
     "metadata": {},
     "output_type": "display_data"
    }
   ],
   "source": [
    "svm.plot_learning_curve(max_iter_range=[10,20,30,40,50,60,70,80,90,100])"
   ]
  },
  {
   "cell_type": "code",
   "execution_count": 48,
   "metadata": {},
   "outputs": [
    {
     "name": "stderr",
     "output_type": "stream",
     "text": [
      "                                                                                \r"
     ]
    }
   ],
   "source": [
    "predictions = svm.predictions\n",
    "predictions = predictions.withColumnRenamed('rawPrediction','probability')\n",
    "predictions = pp.goal_proba(predictions)\n",
    "me = ModelEvaluation(predictions,'goal','prediction')\n",
    "me_sb = ModelEvaluation(predictions,'sb_prediction','prediction')\n",
    "me_r = ModelEvaluation(predictions,'shot_statsbomb_xg','goal_probability',model_type='regression')"
   ]
  },
  {
   "cell_type": "code",
   "execution_count": 49,
   "metadata": {},
   "outputs": [
    {
     "name": "stdout",
     "output_type": "stream",
     "text": [
      "Real World Classification results\n"
     ]
    },
    {
     "data": {
      "text/plain": [
       "{'Accuracy': 90.07,\n",
       " 'Precision': 73.98,\n",
       " 'Recall': 16.85,\n",
       " 'Sensitivity': 16.85,\n",
       " 'Specificity': 99.26,\n",
       " 'F1': 27.44,\n",
       " 'FPR': 0.74,\n",
       " 'FNR': 83.15}"
      ]
     },
     "execution_count": 49,
     "metadata": {},
     "output_type": "execute_result"
    }
   ],
   "source": [
    "print('Real World Classification results')\n",
    "me.get_all_metrics()"
   ]
  },
  {
   "cell_type": "code",
   "execution_count": 50,
   "metadata": {},
   "outputs": [
    {
     "name": "stdout",
     "output_type": "stream",
     "text": [
      "Classification results compared to StatsBomb Model\n"
     ]
    },
    {
     "data": {
      "text/plain": [
       "{'Accuracy': 98.47,\n",
       " 'Precision': 90.75,\n",
       " 'Recall': 63.94,\n",
       " 'Sensitivity': 63.94,\n",
       " 'Specificity': 99.76,\n",
       " 'F1': 75.02,\n",
       " 'FPR': 0.24,\n",
       " 'FNR': 36.06}"
      ]
     },
     "execution_count": 50,
     "metadata": {},
     "output_type": "execute_result"
    }
   ],
   "source": [
    "print('Classification results compared to StatsBomb Model')\n",
    "me_sb.get_all_metrics()"
   ]
  },
  {
   "cell_type": "code",
   "execution_count": 51,
   "metadata": {},
   "outputs": [
    {
     "name": "stdout",
     "output_type": "stream",
     "text": [
      "Regression results\n"
     ]
    },
    {
     "data": {
      "text/plain": [
       "{'MSE': 1.16644, 'RMSE': 1.08002, 'MAE': 1.06679, 'R2': -5208.42}"
      ]
     },
     "execution_count": 51,
     "metadata": {},
     "output_type": "execute_result"
    }
   ],
   "source": [
    "print('Regression results')\n",
    "me_r.get_all_metrics()"
   ]
  },
  {
   "cell_type": "code",
   "execution_count": 52,
   "metadata": {},
   "outputs": [
    {
     "data": {
      "text/html": [
       "<div>\n",
       "<style scoped>\n",
       "    .dataframe tbody tr th:only-of-type {\n",
       "        vertical-align: middle;\n",
       "    }\n",
       "\n",
       "    .dataframe tbody tr th {\n",
       "        vertical-align: top;\n",
       "    }\n",
       "\n",
       "    .dataframe thead th {\n",
       "        text-align: right;\n",
       "    }\n",
       "</style>\n",
       "<table border=\"1\" class=\"dataframe\">\n",
       "  <thead>\n",
       "    <tr style=\"text-align: right;\">\n",
       "      <th></th>\n",
       "      <th>Feature</th>\n",
       "      <th>Importance</th>\n",
       "    </tr>\n",
       "  </thead>\n",
       "  <tbody>\n",
       "    <tr>\n",
       "      <th>25</th>\n",
       "      <td>shot_open_goal</td>\n",
       "      <td>2.000000e+00</td>\n",
       "    </tr>\n",
       "    <tr>\n",
       "      <th>11</th>\n",
       "      <td>pk_type</td>\n",
       "      <td>1.968162e+00</td>\n",
       "    </tr>\n",
       "    <tr>\n",
       "      <th>9</th>\n",
       "      <td>corner_type</td>\n",
       "      <td>2.125180e-06</td>\n",
       "    </tr>\n",
       "    <tr>\n",
       "      <th>10</th>\n",
       "      <td>fk_type</td>\n",
       "      <td>9.281154e-07</td>\n",
       "    </tr>\n",
       "    <tr>\n",
       "      <th>20</th>\n",
       "      <td>preferred_foot_shot</td>\n",
       "      <td>3.849937e-07</td>\n",
       "    </tr>\n",
       "    <tr>\n",
       "      <th>14</th>\n",
       "      <td>lob_technique</td>\n",
       "      <td>2.877973e-07</td>\n",
       "    </tr>\n",
       "    <tr>\n",
       "      <th>21</th>\n",
       "      <td>under_pressure</td>\n",
       "      <td>1.510668e-07</td>\n",
       "    </tr>\n",
       "    <tr>\n",
       "      <th>8</th>\n",
       "      <td>header</td>\n",
       "      <td>3.423637e-08</td>\n",
       "    </tr>\n",
       "    <tr>\n",
       "      <th>23</th>\n",
       "      <td>shot_first_time</td>\n",
       "      <td>3.353126e-08</td>\n",
       "    </tr>\n",
       "    <tr>\n",
       "      <th>12</th>\n",
       "      <td>half_volley_technique</td>\n",
       "      <td>0.000000e+00</td>\n",
       "    </tr>\n",
       "    <tr>\n",
       "      <th>24</th>\n",
       "      <td>shot_one_on_one</td>\n",
       "      <td>0.000000e+00</td>\n",
       "    </tr>\n",
       "    <tr>\n",
       "      <th>19</th>\n",
       "      <td>shot_angle</td>\n",
       "      <td>-6.740057e-09</td>\n",
       "    </tr>\n",
       "    <tr>\n",
       "      <th>18</th>\n",
       "      <td>distance_to_goal</td>\n",
       "      <td>-4.540479e-08</td>\n",
       "    </tr>\n",
       "    <tr>\n",
       "      <th>27</th>\n",
       "      <td>players_inside_area</td>\n",
       "      <td>-8.359002e-08</td>\n",
       "    </tr>\n",
       "    <tr>\n",
       "      <th>17</th>\n",
       "      <td>diving_h_technique</td>\n",
       "      <td>-1.174689e-07</td>\n",
       "    </tr>\n",
       "    <tr>\n",
       "      <th>26</th>\n",
       "      <td>shot_follows_dribble</td>\n",
       "      <td>-2.936429e-07</td>\n",
       "    </tr>\n",
       "    <tr>\n",
       "      <th>13</th>\n",
       "      <td>volley_technique</td>\n",
       "      <td>-3.192075e-07</td>\n",
       "    </tr>\n",
       "    <tr>\n",
       "      <th>22</th>\n",
       "      <td>shot_aerial_won</td>\n",
       "      <td>-5.135357e-07</td>\n",
       "    </tr>\n",
       "    <tr>\n",
       "      <th>16</th>\n",
       "      <td>backheel_technique</td>\n",
       "      <td>-5.913379e-07</td>\n",
       "    </tr>\n",
       "    <tr>\n",
       "      <th>15</th>\n",
       "      <td>overhead_technique</td>\n",
       "      <td>-1.669324e-06</td>\n",
       "    </tr>\n",
       "    <tr>\n",
       "      <th>6</th>\n",
       "      <td>from_keeper</td>\n",
       "      <td>-3.183816e-02</td>\n",
       "    </tr>\n",
       "    <tr>\n",
       "      <th>4</th>\n",
       "      <td>from_counter</td>\n",
       "      <td>-3.183828e-02</td>\n",
       "    </tr>\n",
       "    <tr>\n",
       "      <th>3</th>\n",
       "      <td>from_corner</td>\n",
       "      <td>-3.183828e-02</td>\n",
       "    </tr>\n",
       "    <tr>\n",
       "      <th>5</th>\n",
       "      <td>from_gk</td>\n",
       "      <td>-3.183831e-02</td>\n",
       "    </tr>\n",
       "    <tr>\n",
       "      <th>7</th>\n",
       "      <td>from_ko</td>\n",
       "      <td>-3.183833e-02</td>\n",
       "    </tr>\n",
       "    <tr>\n",
       "      <th>0</th>\n",
       "      <td>from_rp</td>\n",
       "      <td>-3.183833e-02</td>\n",
       "    </tr>\n",
       "    <tr>\n",
       "      <th>2</th>\n",
       "      <td>from_ti</td>\n",
       "      <td>-3.183836e-02</td>\n",
       "    </tr>\n",
       "    <tr>\n",
       "      <th>1</th>\n",
       "      <td>from_fk</td>\n",
       "      <td>-3.183839e-02</td>\n",
       "    </tr>\n",
       "  </tbody>\n",
       "</table>\n",
       "</div>"
      ],
      "text/plain": [
       "                  Feature    Importance\n",
       "25         shot_open_goal  2.000000e+00\n",
       "11                pk_type  1.968162e+00\n",
       "9             corner_type  2.125180e-06\n",
       "10                fk_type  9.281154e-07\n",
       "20    preferred_foot_shot  3.849937e-07\n",
       "14          lob_technique  2.877973e-07\n",
       "21         under_pressure  1.510668e-07\n",
       "8                  header  3.423637e-08\n",
       "23        shot_first_time  3.353126e-08\n",
       "12  half_volley_technique  0.000000e+00\n",
       "24        shot_one_on_one  0.000000e+00\n",
       "19             shot_angle -6.740057e-09\n",
       "18       distance_to_goal -4.540479e-08\n",
       "27    players_inside_area -8.359002e-08\n",
       "17     diving_h_technique -1.174689e-07\n",
       "26   shot_follows_dribble -2.936429e-07\n",
       "13       volley_technique -3.192075e-07\n",
       "22        shot_aerial_won -5.135357e-07\n",
       "16     backheel_technique -5.913379e-07\n",
       "15     overhead_technique -1.669324e-06\n",
       "6             from_keeper -3.183816e-02\n",
       "4            from_counter -3.183828e-02\n",
       "3             from_corner -3.183828e-02\n",
       "5                 from_gk -3.183831e-02\n",
       "7                 from_ko -3.183833e-02\n",
       "0                 from_rp -3.183833e-02\n",
       "2                 from_ti -3.183836e-02\n",
       "1                 from_fk -3.183839e-02"
      ]
     },
     "execution_count": 52,
     "metadata": {},
     "output_type": "execute_result"
    }
   ],
   "source": [
    "fi_svm = svm.feature_importance()\n",
    "fi_svm.sort_values(by='Importance',ascending=False)"
   ]
  },
  {
   "cell_type": "code",
   "execution_count": null,
   "metadata": {},
   "outputs": [],
   "source": [
    "start_time = time.time()\n",
    "svm = ModelTrainer(train_data,train_data,model_type='svm',max_iter=60)\n",
    "end_time = time.time()\n",
    "\n",
    "elapsed_time = end_time - start_time\n",
    "print(f\"Training took {elapsed_time:.2f} seconds.\")\n",
    "svm.plot_learning_curve(max_iter_range=[10,20,30,40,50,60,70,80,90,100])"
   ]
  },
  {
   "cell_type": "code",
   "execution_count": 19,
   "metadata": {},
   "outputs": [],
   "source": [
    "spark.stop()"
   ]
  },
  {
   "cell_type": "code",
   "execution_count": 69,
   "metadata": {},
   "outputs": [],
   "source": [
    "FEATURES = ['from_rp','from_fk','from_ti','from_corner','from_counter','from_gk','from_keeper','from_ko',\n",
    "            'header','corner_type','fk_type','pk_type',\n",
    "            'half_volley_technique','volley_technique','lob_technique','overhead_technique','backheel_technique',\n",
    "            'diving_h_technique',\n",
    "            'distance_to_goal', 'shot_angle', 'preferred_foot_shot', 'under_pressure',\n",
    "            'shot_aerial_won','shot_first_time','shot_one_on_one','shot_open_goal','shot_follows_dribble','players_inside_area']"
   ]
  },
  {
   "cell_type": "code",
   "execution_count": 71,
   "metadata": {},
   "outputs": [],
   "source": [
    "from pyspark.ml.feature import VectorAssembler\n",
    "from pyspark.ml.classification import LogisticRegression, NaiveBayes, DecisionTreeClassifier, LinearSVC\n",
    "from pyspark.ml.evaluation import BinaryClassificationEvaluator\n",
    "from pyspark.sql import functions as F\n",
    "\n",
    "# Split data\n",
    "train, test = shots.randomSplit([0.8, 0.2], seed=42)\n",
    "\n",
    "assembler = VectorAssembler(inputCols=FEATURES, outputCol=\"features\")\n",
    "train = assembler.transform(train)\n",
    "test = assembler.transform(test)\n",
    "\n",
    "# Define evaluator for AUC-ROC\n",
    "evaluator = BinaryClassificationEvaluator(labelCol=\"goal\", rawPredictionCol=\"rawPrediction\", metricName=\"areaUnderROC\")\n"
   ]
  },
  {
   "cell_type": "code",
   "execution_count": 72,
   "metadata": {},
   "outputs": [
    {
     "name": "stdout",
     "output_type": "stream",
     "text": [
      "Logistic Regression AUC-ROC: 0.8040863485273682\n"
     ]
    }
   ],
   "source": [
    "lr = LogisticRegression(featuresCol=\"features\", labelCol=\"goal\")\n",
    "lr_model = lr.fit(train)\n",
    "lr_predictions = lr_model.transform(test)\n",
    "lr_auc = evaluator.evaluate(lr_predictions)\n",
    "print(f\"Logistic Regression AUC-ROC: {lr_auc}\")"
   ]
  },
  {
   "cell_type": "code",
   "execution_count": 73,
   "metadata": {},
   "outputs": [
    {
     "name": "stdout",
     "output_type": "stream",
     "text": [
      "Naïve Bayes AUC-ROC: 0.6749610726643598\n"
     ]
    }
   ],
   "source": [
    "nb = NaiveBayes(featuresCol=\"features\", labelCol=\"goal\")\n",
    "nb_model = nb.fit(train)\n",
    "nb_predictions = nb_model.transform(test)\n",
    "nb_auc = evaluator.evaluate(nb_predictions)\n",
    "print(f\"Naïve Bayes AUC-ROC: {nb_auc}\")"
   ]
  },
  {
   "cell_type": "code",
   "execution_count": 74,
   "metadata": {},
   "outputs": [
    {
     "name": "stdout",
     "output_type": "stream",
     "text": [
      "Decision Tree AUC-ROC: 0.5330984524425797\n"
     ]
    }
   ],
   "source": [
    "dt = DecisionTreeClassifier(featuresCol=\"features\", labelCol=\"goal\")\n",
    "dt_model = dt.fit(train)\n",
    "dt_predictions = dt_model.transform(test)\n",
    "dt_auc = evaluator.evaluate(dt_predictions)\n",
    "print(f\"Decision Tree AUC-ROC: {dt_auc}\")"
   ]
  },
  {
   "cell_type": "code",
   "execution_count": 75,
   "metadata": {},
   "outputs": [
    {
     "name": "stdout",
     "output_type": "stream",
     "text": [
      "SVM AUC-ROC: 0.748943887420647\n"
     ]
    }
   ],
   "source": [
    "svm = LinearSVC(featuresCol=\"features\", labelCol=\"goal\", maxIter=10)\n",
    "svm_model = svm.fit(train)\n",
    "svm_predictions = svm_model.transform(test)\n",
    "svm_auc = evaluator.evaluate(svm_predictions)\n",
    "print(f\"SVM AUC-ROC: {svm_auc}\")"
   ]
  }
 ],
 "metadata": {
  "kernelspec": {
   "display_name": "myenv",
   "language": "python",
   "name": "python3"
  },
  "language_info": {
   "codemirror_mode": {
    "name": "ipython",
    "version": 3
   },
   "file_extension": ".py",
   "mimetype": "text/x-python",
   "name": "python",
   "nbconvert_exporter": "python",
   "pygments_lexer": "ipython3",
   "version": "3.12.3"
  }
 },
 "nbformat": 4,
 "nbformat_minor": 2
}
