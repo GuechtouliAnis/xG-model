{
 "cells": [
  {
   "cell_type": "code",
   "execution_count": 12,
   "metadata": {},
   "outputs": [],
   "source": [
    "from pyspark.sql import SparkSession"
   ]
  },
  {
   "cell_type": "code",
   "execution_count": 13,
   "metadata": {},
   "outputs": [],
   "source": [
    "spark = SparkSession.builder.appName(\"ReadHDFSFile\").getOrCreate()"
   ]
  },
  {
   "cell_type": "code",
   "execution_count": 28,
   "metadata": {},
   "outputs": [
    {
     "name": "stdout",
     "output_type": "stream",
     "text": [
      "+--------------+---------+--------------------+--------------------+-------------------------+-----------+\n",
      "|competition_id|season_id|        country_name|    competition_name|competition_international|season_name|\n",
      "+--------------+---------+--------------------+--------------------+-------------------------+-----------+\n",
      "|           223|      282|       South America|        Copa America|                     True|       2024|\n",
      "|            55|      282|              Europe|           UEFA Euro|                     True|       2024|\n",
      "|             9|      281|             Germany|       1. Bundesliga|                    False|  2023/2024|\n",
      "|            44|      107|United States of ...| Major League Soccer|                    False|       2023|\n",
      "|          1267|      107|              Africa|African Cup of Na...|                     True|       2023|\n",
      "|             7|      235|              France|             Ligue 1|                    False|  2022/2023|\n",
      "|            43|      106|       International|      FIFA World Cup|                     True|       2022|\n",
      "|             7|      108|              France|             Ligue 1|                    False|  2021/2022|\n",
      "|            11|       90|               Spain|             La Liga|                    False|  2020/2021|\n",
      "|            55|       43|              Europe|           UEFA Euro|                     True|       2020|\n",
      "|            11|       42|               Spain|             La Liga|                    False|  2019/2020|\n",
      "|            11|        4|               Spain|             La Liga|                    False|  2018/2019|\n",
      "|            16|        4|              Europe|    Champions League|                    False|  2018/2019|\n",
      "|            43|        3|       International|      FIFA World Cup|                     True|       2018|\n",
      "|            16|        1|              Europe|    Champions League|                    False|  2017/2018|\n",
      "|            11|        1|               Spain|             La Liga|                    False|  2017/2018|\n",
      "|            11|        2|               Spain|             La Liga|                    False|  2016/2017|\n",
      "|            16|        2|              Europe|    Champions League|                    False|  2016/2017|\n",
      "|             2|       27|             England|      Premier League|                    False|  2015/2016|\n",
      "|             9|       27|             Germany|       1. Bundesliga|                    False|  2015/2016|\n",
      "+--------------+---------+--------------------+--------------------+-------------------------+-----------+\n",
      "only showing top 20 rows\n",
      "\n"
     ]
    }
   ],
   "source": [
    "# reading the data, first record is the header\n",
    "\n",
    "data = spark.read.csv(\"hdfs://localhost:9000/big-data/competitions.csv\",header=True)\n",
    "data.show()"
   ]
  },
  {
   "cell_type": "code",
   "execution_count": 22,
   "metadata": {},
   "outputs": [
    {
     "name": "stdout",
     "output_type": "stream",
     "text": [
      "Total records:  27\n"
     ]
    }
   ],
   "source": [
    "# length of the data\n",
    "print(\"Total records: \", data.count())"
   ]
  },
  {
   "cell_type": "code",
   "execution_count": 26,
   "metadata": {},
   "outputs": [
    {
     "data": {
      "text/plain": [
       "['value']"
      ]
     },
     "execution_count": 26,
     "metadata": {},
     "output_type": "execute_result"
    }
   ],
   "source": [
    "# showing the columns\n",
    "data.columns"
   ]
  },
  {
   "cell_type": "code",
   "execution_count": 25,
   "metadata": {},
   "outputs": [
    {
     "name": "stdout",
     "output_type": "stream",
     "text": [
      "+--------------------+\n",
      "|               value|\n",
      "+--------------------+\n",
      "|competition_id,se...|\n",
      "|223,282,South Ame...|\n",
      "|55,282,Europe,UEF...|\n",
      "|9,281,Germany,1. ...|\n",
      "|44,107,United Sta...|\n",
      "|1267,107,Africa,A...|\n",
      "|7,235,France,Ligu...|\n",
      "|43,106,Internatio...|\n",
      "|7,108,France,Ligu...|\n",
      "|11,90,Spain,La Li...|\n",
      "|55,43,Europe,UEFA...|\n",
      "|11,42,Spain,La Li...|\n",
      "|11,4,Spain,La Lig...|\n",
      "|16,4,Europe,Champ...|\n",
      "|43,3,Internationa...|\n",
      "|16,1,Europe,Champ...|\n",
      "|11,1,Spain,La Lig...|\n",
      "|11,2,Spain,La Lig...|\n",
      "|16,2,Europe,Champ...|\n",
      "|2,27,England,Prem...|\n",
      "+--------------------+\n",
      "only showing top 20 rows\n",
      "\n"
     ]
    }
   ],
   "source": [
    "data.show()"
   ]
  }
 ],
 "metadata": {
  "kernelspec": {
   "display_name": "myenv",
   "language": "python",
   "name": "python3"
  },
  "language_info": {
   "codemirror_mode": {
    "name": "ipython",
    "version": 3
   },
   "file_extension": ".py",
   "mimetype": "text/x-python",
   "name": "python",
   "nbconvert_exporter": "python",
   "pygments_lexer": "ipython3",
   "version": "3.12.3"
  }
 },
 "nbformat": 4,
 "nbformat_minor": 2
}
