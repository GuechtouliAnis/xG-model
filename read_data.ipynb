{
 "cells": [
  {
   "cell_type": "code",
   "execution_count": 1,
   "metadata": {},
   "outputs": [],
   "source": [
    "from pyspark.sql import SparkSession"
   ]
  },
  {
   "cell_type": "code",
   "execution_count": 2,
   "metadata": {},
   "outputs": [
    {
     "name": "stderr",
     "output_type": "stream",
     "text": [
      "your 131072x1 screen size is bogus. expect trouble\n",
      "Setting default log level to \"WARN\".\n",
      "To adjust logging level use sc.setLogLevel(newLevel). For SparkR, use setLogLevel(newLevel).\n",
      "24/11/26 13:32:52 WARN NativeCodeLoader: Unable to load native-hadoop library for your platform... using builtin-java classes where applicable\n"
     ]
    }
   ],
   "source": [
    "spark = SparkSession.builder.appName(\"ReadHDFSFile\").getOrCreate()"
   ]
  },
  {
   "cell_type": "code",
   "execution_count": 3,
   "metadata": {},
   "outputs": [
    {
     "name": "stdout",
     "output_type": "stream",
     "text": [
      "+--------------+---------+--------------------+--------------------+-------------------------+-----------+\n",
      "|competition_id|season_id|        country_name|    competition_name|competition_international|season_name|\n",
      "+--------------+---------+--------------------+--------------------+-------------------------+-----------+\n",
      "|           223|      282|       South America|        Copa America|                     True|       2024|\n",
      "|            55|      282|              Europe|           UEFA Euro|                     True|       2024|\n",
      "|             9|      281|             Germany|       1. Bundesliga|                    False|  2023/2024|\n",
      "|            44|      107|United States of ...| Major League Soccer|                    False|       2023|\n",
      "|          1267|      107|              Africa|African Cup of Na...|                     True|       2023|\n",
      "|             7|      235|              France|             Ligue 1|                    False|  2022/2023|\n",
      "|            43|      106|       International|      FIFA World Cup|                     True|       2022|\n",
      "|             7|      108|              France|             Ligue 1|                    False|  2021/2022|\n",
      "|            11|       90|               Spain|             La Liga|                    False|  2020/2021|\n",
      "|            55|       43|              Europe|           UEFA Euro|                     True|       2020|\n",
      "|            11|       42|               Spain|             La Liga|                    False|  2019/2020|\n",
      "|            11|        4|               Spain|             La Liga|                    False|  2018/2019|\n",
      "|            16|        4|              Europe|    Champions League|                    False|  2018/2019|\n",
      "|            43|        3|       International|      FIFA World Cup|                     True|       2018|\n",
      "|            16|        1|              Europe|    Champions League|                    False|  2017/2018|\n",
      "|            11|        1|               Spain|             La Liga|                    False|  2017/2018|\n",
      "|            11|        2|               Spain|             La Liga|                    False|  2016/2017|\n",
      "|            16|        2|              Europe|    Champions League|                    False|  2016/2017|\n",
      "|             2|       27|             England|      Premier League|                    False|  2015/2016|\n",
      "|             9|       27|             Germany|       1. Bundesliga|                    False|  2015/2016|\n",
      "+--------------+---------+--------------------+--------------------+-------------------------+-----------+\n",
      "only showing top 20 rows\n",
      "\n"
     ]
    }
   ],
   "source": [
    "# reading the data, first record is the header\n",
    "competitions = spark.read.csv(\"hdfs://localhost:9000/big-data/competitions.csv\",header=True)\n",
    "competitions.show()"
   ]
  },
  {
   "cell_type": "code",
   "execution_count": 4,
   "metadata": {},
   "outputs": [
    {
     "name": "stdout",
     "output_type": "stream",
     "text": [
      "Total records:  26\n"
     ]
    }
   ],
   "source": [
    "# length of the data\n",
    "print(\"Total records: \", competitions.count())"
   ]
  },
  {
   "cell_type": "code",
   "execution_count": 5,
   "metadata": {},
   "outputs": [],
   "source": [
    "events = spark.read.csv(\"hdfs://localhost:9000/big-data/events.csv\",header=True)\n",
    "frames = spark.read.csv(\"hdfs://localhost:9000/big-data/frames.csv\",header=True)\n",
    "lineups = spark.read.csv(\"hdfs://localhost:9000/big-data/lineups.csv\",header=True)\n",
    "matches = spark.read.csv(\"hdfs://localhost:9000/big-data/matches.csv\",header=True)"
   ]
  },
  {
   "cell_type": "code",
   "execution_count": 6,
   "metadata": {},
   "outputs": [
    {
     "name": "stderr",
     "output_type": "stream",
     "text": [
      "                                                                                \r"
     ]
    },
    {
     "data": {
      "text/plain": [
       "1474"
      ]
     },
     "execution_count": 6,
     "metadata": {},
     "output_type": "execute_result"
    }
   ],
   "source": [
    "events.filter(events['shot_outcome']=='Goal').count()"
   ]
  },
  {
   "cell_type": "code",
   "execution_count": 21,
   "metadata": {},
   "outputs": [],
   "source": [
    "shots = events.filter(events['type']=='Shot')"
   ]
  },
  {
   "cell_type": "code",
   "execution_count": 30,
   "metadata": {},
   "outputs": [
    {
     "name": "stderr",
     "output_type": "stream",
     "text": [
      "                                                                                \r"
     ]
    },
    {
     "data": {
      "text/plain": [
       "12005"
      ]
     },
     "execution_count": 30,
     "metadata": {},
     "output_type": "execute_result"
    }
   ],
   "source": [
    "shots.count()"
   ]
  },
  {
   "cell_type": "code",
   "execution_count": null,
   "metadata": {},
   "outputs": [
    {
     "name": "stderr",
     "output_type": "stream",
     "text": [
      "                                                                                \r"
     ]
    },
    {
     "data": {
      "text/plain": [
       "69086"
      ]
     },
     "execution_count": 28,
     "metadata": {},
     "output_type": "execute_result"
    }
   ],
   "source": [
    "# filtering\n",
    "filtered = shots.join(frames,on='id',how='inner')\n",
    "filtered.count()"
   ]
  },
  {
   "cell_type": "code",
   "execution_count": 29,
   "metadata": {},
   "outputs": [
    {
     "name": "stderr",
     "output_type": "stream",
     "text": [
      "                                                                                \r"
     ]
    },
    {
     "data": {
      "text/plain": [
       "4598"
      ]
     },
     "execution_count": 29,
     "metadata": {},
     "output_type": "execute_result"
    }
   ],
   "source": [
    "filtered.select(\"id\").distinct().count()"
   ]
  },
  {
   "cell_type": "code",
   "execution_count": 20,
   "metadata": {},
   "outputs": [
    {
     "name": "stdout",
     "output_type": "stream",
     "text": [
      "+--------------------+--------------------+--------+--------+-----+------+--------------------+\n",
      "|                  id|        visible_area|match_id|teammate|actor|keeper|            location|\n",
      "+--------------------+--------------------+--------+--------+-----+------+--------------------+\n",
      "|25dfc952-7a85-464...|[82.0588035227948...| 3942819|    True|False|  True|[22.6975416639254...|\n",
      "|25dfc952-7a85-464...|[82.0588035227948...| 3942819|    True|False| False|[46.5466540256494...|\n",
      "|25dfc952-7a85-464...|[82.0588035227948...| 3942819|    True|False| False|[47.4452205797475...|\n",
      "|25dfc952-7a85-464...|[82.0588035227948...| 3942819|    True|False| False|[48.8195457108986...|\n",
      "|25dfc952-7a85-464...|[82.0588035227948...| 3942819|    True|False| False|[49.7459543709158...|\n",
      "|25dfc952-7a85-464...|[82.0588035227948...| 3942819|    True|False| False|[53.4689340941401...|\n",
      "|25dfc952-7a85-464...|[82.0588035227948...| 3942819|    True|False| False|[59.3929593689272...|\n",
      "|25dfc952-7a85-464...|[82.0588035227948...| 3942819|   False|False| False|[59.5183989006924...|\n",
      "|25dfc952-7a85-464...|[82.0588035227948...| 3942819|    True|False| False|[59.6337927360916...|\n",
      "|25dfc952-7a85-464...|[82.0588035227948...| 3942819|    True|False| False|[59.7703915945295...|\n",
      "|25dfc952-7a85-464...|[82.0588035227948...| 3942819|    True| True| False|        [60.0, 40.0]|\n",
      "|25dfc952-7a85-464...|[82.0588035227948...| 3942819|    True|False| False|[60.6483672551598...|\n",
      "|25dfc952-7a85-464...|[82.0588035227948...| 3942819|   False|False| False|[62.4798233550562...|\n",
      "|25dfc952-7a85-464...|[82.0588035227948...| 3942819|   False|False| False|[63.2075976661429...|\n",
      "|25dfc952-7a85-464...|[82.0588035227948...| 3942819|   False|False| False|[69.9988692300016...|\n",
      "|25dfc952-7a85-464...|[82.0588035227948...| 3942819|   False|False| False|[70.0104789976888...|\n",
      "|25dfc952-7a85-464...|[82.0588035227948...| 3942819|   False|False| False|[71.7557368865126...|\n",
      "|25dfc952-7a85-464...|[82.0588035227948...| 3942819|   False|False| False|[80.4283963824078...|\n",
      "|25dfc952-7a85-464...|[82.0588035227948...| 3942819|   False|False| False|[81.8877767305595...|\n",
      "|25dfc952-7a85-464...|[82.0588035227948...| 3942819|   False|False| False|[84.6011610459542...|\n",
      "|25dfc952-7a85-464...|[82.0588035227948...| 3942819|   False|False| False|[85.4863491148761...|\n",
      "|85328a9c-e246-427...|[79.6704479574818...| 3942819|    True| True|  True|[25.7000007629394...|\n",
      "+--------------------+--------------------+--------+--------+-----+------+--------------------+\n",
      "only showing top 22 rows\n",
      "\n"
     ]
    }
   ],
   "source": [
    "frames.show(22)"
   ]
  },
  {
   "cell_type": "code",
   "execution_count": 3,
   "metadata": {},
   "outputs": [],
   "source": [
    "spark.stop()"
   ]
  }
 ],
 "metadata": {
  "kernelspec": {
   "display_name": "myenv",
   "language": "python",
   "name": "python3"
  },
  "language_info": {
   "codemirror_mode": {
    "name": "ipython",
    "version": 3
   },
   "file_extension": ".py",
   "mimetype": "text/x-python",
   "name": "python",
   "nbconvert_exporter": "python",
   "pygments_lexer": "ipython3",
   "version": "3.12.3"
  }
 },
 "nbformat": 4,
 "nbformat_minor": 2
}
